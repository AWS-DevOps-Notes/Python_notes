{
 "cells": [
  {
   "cell_type": "code",
   "execution_count": 3,
   "id": "7e3628e3-4a1f-4404-a140-2717c9041c34",
   "metadata": {},
   "outputs": [],
   "source": [
    "f=open('data.txt')"
   ]
  },
  {
   "cell_type": "code",
   "execution_count": 5,
   "id": "7131d505-9601-4895-adf7-ae903e933635",
   "metadata": {},
   "outputs": [
    {
     "name": "stdout",
     "output_type": "stream",
     "text": [
      "['_CHUNK_SIZE', '__class__', '__del__', '__delattr__', '__dict__', '__dir__', '__doc__', '__enter__', '__eq__', '__exit__', '__format__', '__ge__', '__getattribute__', '__getstate__', '__gt__', '__hash__', '__init__', '__init_subclass__', '__iter__', '__le__', '__lt__', '__module__', '__ne__', '__new__', '__next__', '__reduce__', '__reduce_ex__', '__repr__', '__setattr__', '__sizeof__', '__str__', '__subclasshook__', '_checkClosed', '_checkReadable', '_checkSeekable', '_checkWritable', '_finalizing', 'buffer', 'close', 'closed', 'detach', 'encoding', 'errors', 'fileno', 'flush', 'isatty', 'line_buffering', 'mode', 'name', 'newlines', 'read', 'readable', 'readline', 'readlines', 'reconfigure', 'seek', 'seekable', 'tell', 'truncate', 'writable', 'write', 'write_through', 'writelines']\n"
     ]
    }
   ],
   "source": [
    "print(dir(f))"
   ]
  },
  {
   "cell_type": "code",
   "execution_count": null,
   "id": "1f47d289-6022-4ef6-9c87-bf3494f0d4c9",
   "metadata": {},
   "outputs": [],
   "source": [
    "data=f.read()"
   ]
  },
  {
   "cell_type": "code",
   "execution_count": 29,
   "id": "23321e74-3222-4f22-a5ab-2d7d1b0b9569",
   "metadata": {},
   "outputs": [
    {
     "name": "stdout",
     "output_type": "stream",
     "text": [
      "\n"
     ]
    }
   ],
   "source": [
    "print(data)"
   ]
  },
  {
   "cell_type": "code",
   "execution_count": 31,
   "id": "3d11c1f2-7cf2-4ad2-a41b-446fe1d72e69",
   "metadata": {},
   "outputs": [
    {
     "name": "stdout",
     "output_type": "stream",
     "text": [
      "<class 'str'>\n"
     ]
    }
   ],
   "source": [
    "print(type(data))"
   ]
  },
  {
   "cell_type": "code",
   "execution_count": null,
   "id": "211b7e54-9f1f-43d3-91ef-e4929c992c91",
   "metadata": {},
   "outputs": [],
   "source": []
  },
  {
   "cell_type": "code",
   "execution_count": 35,
   "id": "29ac78b6-fa6b-49e5-b323-de2ecd6fad94",
   "metadata": {},
   "outputs": [
    {
     "name": "stdout",
     "output_type": "stream",
     "text": [
      "0\n"
     ]
    }
   ],
   "source": [
    "print(f.tell())"
   ]
  },
  {
   "cell_type": "code",
   "execution_count": 39,
   "id": "69ea6db4-3136-4161-8dcf-27fb9852ded8",
   "metadata": {},
   "outputs": [],
   "source": [
    "data = f.read()"
   ]
  },
  {
   "cell_type": "code",
   "execution_count": 41,
   "id": "c061afc2-5466-421a-a996-ff43694f4a15",
   "metadata": {},
   "outputs": [
    {
     "name": "stdout",
     "output_type": "stream",
     "text": [
      "53\n"
     ]
    }
   ],
   "source": [
    "print(f.tell())"
   ]
  },
  {
   "cell_type": "code",
   "execution_count": 13,
   "id": "69d18a3d-fbf9-4dcd-860d-2370534c654a",
   "metadata": {},
   "outputs": [],
   "source": [
    "f.close()"
   ]
  },
  {
   "cell_type": "code",
   "execution_count": 23,
   "id": "e6b192c1-35a4-4cb8-85b5-135a9b160e73",
   "metadata": {},
   "outputs": [],
   "source": [
    "f=open('data.txt')"
   ]
  },
  {
   "cell_type": "code",
   "execution_count": 25,
   "id": "85e83bd0-d1d9-499d-b0f6-abfedc84c65e",
   "metadata": {},
   "outputs": [
    {
     "name": "stdout",
     "output_type": "stream",
     "text": [
      "name, age, sal\n",
      "Anil, 32, \n",
      "26\n",
      "None\n"
     ]
    }
   ],
   "source": [
    "data2=f.read(25)\n",
    "print(data2)\n",
    "print(f.tell())\n",
    "print(f.close())"
   ]
  },
  {
   "cell_type": "code",
   "execution_count": 27,
   "id": "05a23797-3166-49c0-a78e-9ade015a9a4f",
   "metadata": {},
   "outputs": [
    {
     "name": "stdout",
     "output_type": "stream",
     "text": [
      " sal\n",
      "\n",
      "********************\n",
      " 2345643\n",
      "\n",
      "********************\n",
      " 23455243\n",
      "********************\n"
     ]
    }
   ],
   "source": [
    "f=open('data.txt')\n",
    "for row in f:\n",
    "    print(row.split(',')[-1])\n",
    "    print('*'*20)\n",
    "f.close()    "
   ]
  },
  {
   "cell_type": "code",
   "execution_count": 29,
   "id": "63206f4e-1491-4185-87fe-d81508b5e56e",
   "metadata": {},
   "outputs": [
    {
     "name": "stdout",
     "output_type": "stream",
     "text": [
      "2345643\n",
      "23455243\n",
      "[]\n"
     ]
    }
   ],
   "source": [
    "f=open('data.txt')\n",
    "frist_line = f.readline() # reading first line bcz it's a column names\n",
    "sals=[]\n",
    "for row in f:\n",
    "    print(row.split(',')[-1].strip())\n",
    "f.close()\n",
    "print(sals)"
   ]
  },
  {
   "cell_type": "code",
   "execution_count": 31,
   "id": "36677b64-1d16-4e3d-b532-2bf0c15b20d7",
   "metadata": {},
   "outputs": [
    {
     "name": "stdout",
     "output_type": "stream",
     "text": [
      "2345643\n",
      "23455243\n",
      "[]\n",
      "0\n"
     ]
    }
   ],
   "source": [
    "f=open('data.txt')\n",
    "frist_line = f.readline() # reading first line bcz it's a column names\n",
    "sals=[]\n",
    "for row in f:\n",
    "    print(row.split(',')[-1].strip())\n",
    "f.close()\n",
    "print(sals)\n",
    "print(sum(sals))"
   ]
  },
  {
   "cell_type": "code",
   "execution_count": 35,
   "id": "10e51e5e-6e45-4efc-8988-33f7945904a0",
   "metadata": {},
   "outputs": [
    {
     "name": "stdout",
     "output_type": "stream",
     "text": [
      "2345643\n",
      "23455243\n",
      "[]\n",
      "0\n"
     ]
    }
   ],
   "source": [
    "f=open('data.txt')\n",
    "first_line = f.readline() # reading first line bcz it's a column names\n",
    "sals=[]\n",
    "for row in f:\n",
    "    print(int(row.split(',')[-1].strip()))\n",
    "f.close()\n",
    "print(sals)\n",
    "print(sum(sals))"
   ]
  },
  {
   "cell_type": "code",
   "execution_count": null,
   "id": "4f50603e-f398-4f50-b60d-f4f8ccc731f7",
   "metadata": {},
   "outputs": [],
   "source": []
  },
  {
   "cell_type": "code",
   "execution_count": 37,
   "id": "3d8f5274-f4d7-4065-be4c-a1a08e5f3723",
   "metadata": {},
   "outputs": [
    {
     "name": "stdout",
     "output_type": "stream",
     "text": [
      "['name, age, sal\\n', 'Anil, 32, 2345643\\n', 'Ajay, 43, 23455243']\n"
     ]
    }
   ],
   "source": [
    "f=open('data.txt')\n",
    "data = f.readlines()\n",
    "print(data)"
   ]
  },
  {
   "cell_type": "code",
   "execution_count": 39,
   "id": "2043eaff-703d-4f70-960e-4e92167cdef5",
   "metadata": {},
   "outputs": [],
   "source": [
    "# what is your ram size? 8GB... prepare 10GB  file"
   ]
  },
  {
   "cell_type": "code",
   "execution_count": 43,
   "id": "a4afc02a-1bcb-4618-b1e9-f267744023aa",
   "metadata": {},
   "outputs": [],
   "source": [
    "f=open('BIGFILE.txt',\"w\") # 'w' mode is create new file if not there in folder"
   ]
  },
  {
   "cell_type": "code",
   "execution_count": 45,
   "id": "ba867fe1-9d84-4582-bef8-496d0a39ebdb",
   "metadata": {},
   "outputs": [
    {
     "data": {
      "text/plain": [
       "15"
      ]
     },
     "execution_count": 45,
     "metadata": {},
     "output_type": "execute_result"
    }
   ],
   "source": [
    "f.write('name,age,sal\\n')\n",
    "f.write('Anil,23,123445\\n')"
   ]
  },
  {
   "cell_type": "code",
   "execution_count": 47,
   "id": "637b9edc-ada0-4db3-8611-0bf6768fcee0",
   "metadata": {},
   "outputs": [
    {
     "data": {
      "text/plain": [
       "15"
      ]
     },
     "execution_count": 47,
     "metadata": {},
     "output_type": "execute_result"
    }
   ],
   "source": [
    "len('Anil,23,123445\\n')"
   ]
  },
  {
   "cell_type": "code",
   "execution_count": 51,
   "id": "1ee1f89b-eae6-4b10-a777-d759b9a4e04d",
   "metadata": {},
   "outputs": [],
   "source": [
    "f.flush()  \n",
    "# After flush() u can continue writing in file  . After close()  you can't write in file "
   ]
  },
  {
   "cell_type": "code",
   "execution_count": 53,
   "id": "38b9b89b-76bd-49c9-9c65-d33f861ef518",
   "metadata": {},
   "outputs": [
    {
     "data": {
      "text/plain": [
       "15"
      ]
     },
     "execution_count": 53,
     "metadata": {},
     "output_type": "execute_result"
    }
   ],
   "source": [
    "f.write('ajay,23,123445\\n')"
   ]
  },
  {
   "cell_type": "code",
   "execution_count": 55,
   "id": "3fef8fcb-a371-4bca-9984-553059c887a7",
   "metadata": {},
   "outputs": [],
   "source": [
    "f.close()"
   ]
  },
  {
   "cell_type": "code",
   "execution_count": 57,
   "id": "7cdb8917-f11c-463f-976d-554729d943e6",
   "metadata": {},
   "outputs": [
    {
     "ename": "ValueError",
     "evalue": "I/O operation on closed file.",
     "output_type": "error",
     "traceback": [
      "\u001b[1;31m---------------------------------------------------------------------------\u001b[0m",
      "\u001b[1;31mValueError\u001b[0m                                Traceback (most recent call last)",
      "Cell \u001b[1;32mIn[57], line 1\u001b[0m\n\u001b[1;32m----> 1\u001b[0m f\u001b[38;5;241m.\u001b[39mwrite(\u001b[38;5;124m'\u001b[39m\u001b[38;5;124mdhanu,23,123445\u001b[39m\u001b[38;5;130;01m\\n\u001b[39;00m\u001b[38;5;124m'\u001b[39m)\n",
      "\u001b[1;31mValueError\u001b[0m: I/O operation on closed file."
     ]
    }
   ],
   "source": [
    "f.write('dhanu,23,123445\\n')"
   ]
  },
  {
   "cell_type": "code",
   "execution_count": 59,
   "id": "e5c2a89f-01a0-4f97-a4c3-7b1b3b638c8f",
   "metadata": {},
   "outputs": [],
   "source": [
    "f=open('BIGFILE.txt',\"w\")"
   ]
  },
  {
   "cell_type": "code",
   "execution_count": 61,
   "id": "aff64efa-5960-428c-8c1f-73cc15052f64",
   "metadata": {},
   "outputs": [
    {
     "data": {
      "text/plain": [
       "16"
      ]
     },
     "execution_count": 61,
     "metadata": {},
     "output_type": "execute_result"
    }
   ],
   "source": [
    "f.write('dhanu,23,123445\\n')"
   ]
  },
  {
   "cell_type": "code",
   "execution_count": 63,
   "id": "eb151b04-e0e9-4f64-93f4-311ae87039d8",
   "metadata": {},
   "outputs": [],
   "source": [
    "f.flush()"
   ]
  },
  {
   "cell_type": "code",
   "execution_count": 3,
   "id": "9a45c144-cc5c-4c6b-9fbb-430c0bda0e86",
   "metadata": {},
   "outputs": [
    {
     "name": "stdout",
     "output_type": "stream",
     "text": [
      "Collecting faker\n",
      "  Downloading Faker-30.4.0-py3-none-any.whl.metadata (15 kB)\n",
      "Requirement already satisfied: python-dateutil>=2.4 in c:\\users\\dhanusha\\anaconda3\\lib\\site-packages (from faker) (2.9.0.post0)\n",
      "Requirement already satisfied: typing-extensions in c:\\users\\dhanusha\\anaconda3\\lib\\site-packages (from faker) (4.11.0)\n",
      "Requirement already satisfied: six>=1.5 in c:\\users\\dhanusha\\anaconda3\\lib\\site-packages (from python-dateutil>=2.4->faker) (1.16.0)\n",
      "Downloading Faker-30.4.0-py3-none-any.whl (1.8 MB)\n",
      "   ---------------------------------------- 0.0/1.8 MB ? eta -:--:--\n",
      "   ---------------------------------------- 0.0/1.8 MB ? eta -:--:--\n",
      "   - -------------------------------------- 0.1/1.8 MB 825.8 kB/s eta 0:00:03\n",
      "   --- ------------------------------------ 0.2/1.8 MB 1.4 MB/s eta 0:00:02\n",
      "   ------ --------------------------------- 0.3/1.8 MB 2.0 MB/s eta 0:00:01\n",
      "   --------- ------------------------------ 0.4/1.8 MB 2.4 MB/s eta 0:00:01\n",
      "   ------------ --------------------------- 0.6/1.8 MB 2.5 MB/s eta 0:00:01\n",
      "   -------------- ------------------------- 0.7/1.8 MB 2.6 MB/s eta 0:00:01\n",
      "   -------------- ------------------------- 0.7/1.8 MB 2.6 MB/s eta 0:00:01\n",
      "   -------------- ------------------------- 0.7/1.8 MB 2.6 MB/s eta 0:00:01\n",
      "   -------------- ------------------------- 0.7/1.8 MB 1.7 MB/s eta 0:00:01\n",
      "   -------------- ------------------------- 0.7/1.8 MB 1.7 MB/s eta 0:00:01\n",
      "   ------------------ --------------------- 0.8/1.8 MB 1.6 MB/s eta 0:00:01\n",
      "   --------------------- ------------------ 1.0/1.8 MB 1.8 MB/s eta 0:00:01\n",
      "   ----------------------- ---------------- 1.1/1.8 MB 1.9 MB/s eta 0:00:01\n",
      "   --------------------------- ------------ 1.3/1.8 MB 2.0 MB/s eta 0:00:01\n",
      "   ------------------------------ --------- 1.4/1.8 MB 2.1 MB/s eta 0:00:01\n",
      "   --------------------------------- ------ 1.5/1.8 MB 2.1 MB/s eta 0:00:01\n",
      "   ------------------------------------ --- 1.7/1.8 MB 2.2 MB/s eta 0:00:01\n",
      "   ---------------------------------------  1.8/1.8 MB 2.3 MB/s eta 0:00:01\n",
      "   ---------------------------------------  1.8/1.8 MB 2.2 MB/s eta 0:00:01\n",
      "   ---------------------------------------- 1.8/1.8 MB 2.1 MB/s eta 0:00:00\n",
      "Installing collected packages: faker\n",
      "Successfully installed faker-30.4.0\n",
      "Note: you may need to restart the kernel to use updated packages.\n"
     ]
    }
   ],
   "source": [
    "pip install faker"
   ]
  },
  {
   "cell_type": "code",
   "execution_count": 4,
   "id": "6ebaa669-9d32-4c8c-8f90-e2f2c0c61d75",
   "metadata": {},
   "outputs": [],
   "source": [
    "import faker"
   ]
  },
  {
   "cell_type": "code",
   "execution_count": 5,
   "id": "3a5761f2-4950-43f3-9ff8-3a35cc913f42",
   "metadata": {},
   "outputs": [],
   "source": [
    "from faker import Faker"
   ]
  },
  {
   "cell_type": "code",
   "execution_count": 6,
   "id": "17688c7c-3774-4290-8646-991deec11eb4",
   "metadata": {},
   "outputs": [],
   "source": [
    "faker = Faker()"
   ]
  },
  {
   "cell_type": "code",
   "execution_count": 13,
   "id": "8ec722f7-7225-4d46-a37b-3271dcd61466",
   "metadata": {},
   "outputs": [
    {
     "name": "stdout",
     "output_type": "stream",
     "text": [
      "26\n"
     ]
    }
   ],
   "source": [
    "from random import randint\n",
    "\n",
    "# Now you can use randint\n",
    "print(randint(12, 34))"
   ]
  },
  {
   "cell_type": "code",
   "execution_count": null,
   "id": "925a6f83-2877-4e63-be07-2dc69cae82d7",
   "metadata": {},
   "outputs": [],
   "source": [
    "from faker import Faker\n",
    "from random import randint\n",
    "fake = Faker()\n",
    "f=open('BIGFILE.txt',\"w\")\n",
    "for i in range(1000):\n",
    "    row = f\"{fake.name()},{randint(23,60)},{(randint(400000,700000))}\\n\"\n",
    "    print(row)\n",
    "    break\n",
    "f.close()"
   ]
  },
  {
   "cell_type": "code",
   "execution_count": null,
   "id": "d6b5750f-e72c-4814-aa48-bf070f5dc1b1",
   "metadata": {},
   "outputs": [],
   "source": [
    "# sum of  salaries\n",
    "#From 10 GB data need to read\n",
    "# TOP TEN SALARIED EMPLOYEE NAMES.\n",
    "# how manu no. of employees are taking salaries more than average file"
   ]
  },
  {
   "cell_type": "markdown",
   "id": "12e25011-4914-49a7-8478-59fb1771c17c",
   "metadata": {},
   "source": [
    "### 16-10-2024"
   ]
  },
  {
   "cell_type": "code",
   "execution_count": 16,
   "id": "f783eaa8-432a-4756-a45b-3856d9e401c3",
   "metadata": {},
   "outputs": [
    {
     "name": "stdout",
     "output_type": "stream",
     "text": [
      "Joseph Johnson,30,462177\n",
      "\n"
     ]
    }
   ],
   "source": [
    "from faker import Faker\n",
    "from random import randint\n",
    "fake = Faker()\n",
    "f=open('BIGFILE.txt',\"a\")\n",
    "for i in range(1000):\n",
    "    row = f\"{fake.name()},{randint(23,60)},{(randint(400000,700000))}\\n\"\n",
    "    print(row)\n",
    "    break\n",
    "f.close()"
   ]
  },
  {
   "cell_type": "code",
   "execution_count": 18,
   "id": "b885c9f0-f2d9-4585-8947-44dd762370b6",
   "metadata": {},
   "outputs": [],
   "source": [
    "f=open('BIGFILE.txt',\"a\")"
   ]
  },
  {
   "cell_type": "code",
   "execution_count": 20,
   "id": "b5e9f206-f8c3-4525-9158-1cf01eb48938",
   "metadata": {},
   "outputs": [
    {
     "name": "stdout",
     "output_type": "stream",
     "text": [
      "Donna Hall,30,688059\n",
      "\n"
     ]
    }
   ],
   "source": [
    "for i in range(1000):\n",
    "    row = f\"{fake.name()},{randint(23,60)},{(randint(400000,700000))}\\n\"\n",
    "    print(row)\n",
    "    break"
   ]
  },
  {
   "cell_type": "code",
   "execution_count": 26,
   "id": "58d7d6ad-5182-4eea-8056-29d35dd074f1",
   "metadata": {},
   "outputs": [
    {
     "name": "stdout",
     "output_type": "stream",
     "text": [
      "Olivia Martin,51,404412\n",
      "\n"
     ]
    }
   ],
   "source": [
    "f=open('BIGFILE.txt',\"a\")\n",
    "for i in range(1000):\n",
    "    row = f\"{fake.name()},{randint(23,60)},{(randint(400000,700000))}\\n\"\n",
    "    f.write(row)\n",
    "    f.flush()\n",
    "    print(row)\n",
    "    break"
   ]
  },
  {
   "cell_type": "code",
   "execution_count": 32,
   "id": "f83fdc1b-dcb3-4f35-bd3e-1a6fb61145d7",
   "metadata": {},
   "outputs": [],
   "source": [
    "f=open('BIGFILE.txt',\"a\")\n",
    "f.writelines(['dat1','dat2'])\n",
    "f.close()"
   ]
  },
  {
   "cell_type": "code",
   "execution_count": 34,
   "id": "2bde42a7-ce0e-4e74-9abc-fe3a61415022",
   "metadata": {},
   "outputs": [],
   "source": [
    "f=open('BIGFILE.txt',\"a\")  # a - append will add lines in file for existing data\n",
    "f.writelines(['dat1\\n','dat2\\n'])\n",
    "f.close()"
   ]
  },
  {
   "cell_type": "code",
   "execution_count": 36,
   "id": "6dfc3921-a32b-4852-a62d-867eaa9966a8",
   "metadata": {},
   "outputs": [],
   "source": [
    "f=open('BIGFILE.txt',\"a\")\n",
    "f.writelines(['\\ndat1\\n','dat2\\n'])\n",
    "f.close()"
   ]
  },
  {
   "cell_type": "code",
   "execution_count": 38,
   "id": "eebb6ef1-8f83-4432-b37d-65ac54bb4266",
   "metadata": {},
   "outputs": [],
   "source": [
    "data = {'name':'jay','age':8,'class':'2nd'}\n",
    "f=open('data.txt','w')\n",
    "f.write(str(data))\n",
    "f.close()"
   ]
  },
  {
   "cell_type": "code",
   "execution_count": 1,
   "id": "622ad86b-d6fc-4472-a3bc-83f2b5aef25f",
   "metadata": {},
   "outputs": [
    {
     "ename": "NameError",
     "evalue": "name 'f' is not defined",
     "output_type": "error",
     "traceback": [
      "\u001b[1;31m---------------------------------------------------------------------------\u001b[0m",
      "\u001b[1;31mNameError\u001b[0m                                 Traceback (most recent call last)",
      "Cell \u001b[1;32mIn[1], line 2\u001b[0m\n\u001b[0;32m      1\u001b[0m data \u001b[38;5;241m=\u001b[39m {\u001b[38;5;124m'\u001b[39m\u001b[38;5;124mname\u001b[39m\u001b[38;5;124m'\u001b[39m:\u001b[38;5;124m'\u001b[39m\u001b[38;5;124mjay\u001b[39m\u001b[38;5;124m'\u001b[39m,\u001b[38;5;124m'\u001b[39m\u001b[38;5;124mage\u001b[39m\u001b[38;5;124m'\u001b[39m:\u001b[38;5;241m8\u001b[39m,\u001b[38;5;124m'\u001b[39m\u001b[38;5;124mclass\u001b[39m\u001b[38;5;124m'\u001b[39m:\u001b[38;5;124m'\u001b[39m\u001b[38;5;124m2nd\u001b[39m\u001b[38;5;124m'\u001b[39m}\n\u001b[1;32m----> 2\u001b[0m data\u001b[38;5;241m=\u001b[39mf\u001b[38;5;241m.\u001b[39mread()\n\u001b[0;32m      3\u001b[0m \u001b[38;5;28mprint\u001b[39m(data, \u001b[38;5;28mtype\u001b[39m(data))\n\u001b[0;32m      4\u001b[0m f\u001b[38;5;241m.\u001b[39mclose()\n",
      "\u001b[1;31mNameError\u001b[0m: name 'f' is not defined"
     ]
    }
   ],
   "source": [
    "data = {'name':'jay','age':8,'class':'2nd'}\n",
    "data=f.read()\n",
    "print(data, type(data))\n",
    "f.close()"
   ]
  },
  {
   "cell_type": "code",
   "execution_count": 46,
   "id": "e86429ff-840a-43ec-8f73-e28176b5e733",
   "metadata": {},
   "outputs": [
    {
     "data": {
      "text/plain": [
       "'jay'"
      ]
     },
     "execution_count": 46,
     "metadata": {},
     "output_type": "execute_result"
    }
   ],
   "source": [
    "data['name']"
   ]
  },
  {
   "cell_type": "code",
   "execution_count": 48,
   "id": "5c7c15b9-20e0-4f84-aef4-dc089b8f4b90",
   "metadata": {},
   "outputs": [],
   "source": [
    "import json"
   ]
  },
  {
   "cell_type": "code",
   "execution_count": 52,
   "id": "4497ceaa-00bc-47dc-b631-2fa076f6f6b9",
   "metadata": {},
   "outputs": [
    {
     "name": "stdout",
     "output_type": "stream",
     "text": [
      "['JSONDecodeError', 'JSONDecoder', 'JSONEncoder', '__all__', '__author__', '__builtins__', '__cached__', '__doc__', '__file__', '__loader__', '__name__', '__package__', '__path__', '__spec__', '__version__', '_default_decoder', '_default_encoder', 'codecs', 'decoder', 'detect_encoding', 'dump', 'dumps', 'encoder', 'load', 'loads', 'scanner']\n"
     ]
    }
   ],
   "source": [
    "print(dir(json))"
   ]
  },
  {
   "cell_type": "code",
   "execution_count": 54,
   "id": "98ef7b3c-b662-47ba-83f1-12c51cbc1402",
   "metadata": {},
   "outputs": [],
   "source": [
    "data = json.loads('{\"name\":\"jay\"}')"
   ]
  },
  {
   "cell_type": "code",
   "execution_count": 58,
   "id": "21b45fe1-2ddd-4346-8dbb-0c7caa2d47e0",
   "metadata": {},
   "outputs": [
    {
     "name": "stdout",
     "output_type": "stream",
     "text": [
      "<class 'dict'>\n"
     ]
    }
   ],
   "source": [
    "print(type(data))"
   ]
  },
  {
   "cell_type": "code",
   "execution_count": 62,
   "id": "4a54df06-65f7-441e-bf50-ea3b21c533b3",
   "metadata": {},
   "outputs": [
    {
     "name": "stdout",
     "output_type": "stream",
     "text": [
      "{'name': 'jay', 'age': 8, 'class': '2nd'} <class 'str'>\n",
      "{'name': 'jay', 'age': 8, 'class': '2nd'} <class 'dict'>\n"
     ]
    }
   ],
   "source": [
    "data = {'name':'jay','age':8,'class':'2nd'}\n",
    "f=open('data.txt','w')\n",
    "f.write(str(data))\n",
    "f.close()\n",
    "import json\n",
    "f=open('data.txt','r')\n",
    "data1=f.read()\n",
    "print(data1,type(data1))\n",
    "data1=data1.replace(\"'\",'\"')\n",
    "data2 = json.loads(data1)\n",
    "print(data2,type(data2))"
   ]
  },
  {
   "cell_type": "code",
   "execution_count": 64,
   "id": "a97ec2c6-c67e-4aff-b0fe-568dc3d3cf06",
   "metadata": {},
   "outputs": [],
   "source": [
    "#data-dict-- str -- file write -- read - str-dict"
   ]
  },
  {
   "cell_type": "code",
   "execution_count": 66,
   "id": "bfc2d771-2c22-4e48-8d6a-7fed7f839395",
   "metadata": {},
   "outputs": [],
   "source": [
    "import pickle"
   ]
  },
  {
   "cell_type": "code",
   "execution_count": 68,
   "id": "2e76328c-a340-4b6f-a5be-8e8fa303ecd2",
   "metadata": {},
   "outputs": [
    {
     "name": "stdout",
     "output_type": "stream",
     "text": [
      "['ADDITEMS', 'APPEND', 'APPENDS', 'BINBYTES', 'BINBYTES8', 'BINFLOAT', 'BINGET', 'BININT', 'BININT1', 'BININT2', 'BINPERSID', 'BINPUT', 'BINSTRING', 'BINUNICODE', 'BINUNICODE8', 'BUILD', 'BYTEARRAY8', 'DEFAULT_PROTOCOL', 'DICT', 'DUP', 'EMPTY_DICT', 'EMPTY_LIST', 'EMPTY_SET', 'EMPTY_TUPLE', 'EXT1', 'EXT2', 'EXT4', 'FALSE', 'FLOAT', 'FRAME', 'FROZENSET', 'FunctionType', 'GET', 'GLOBAL', 'HIGHEST_PROTOCOL', 'INST', 'INT', 'LIST', 'LONG', 'LONG1', 'LONG4', 'LONG_BINGET', 'LONG_BINPUT', 'MARK', 'MEMOIZE', 'NEWFALSE', 'NEWOBJ', 'NEWOBJ_EX', 'NEWTRUE', 'NEXT_BUFFER', 'NONE', 'OBJ', 'PERSID', 'POP', 'POP_MARK', 'PROTO', 'PUT', 'PickleBuffer', 'PickleError', 'Pickler', 'PicklingError', 'READONLY_BUFFER', 'REDUCE', 'SETITEM', 'SETITEMS', 'SHORT_BINBYTES', 'SHORT_BINSTRING', 'SHORT_BINUNICODE', 'STACK_GLOBAL', 'STOP', 'STRING', 'TRUE', 'TUPLE', 'TUPLE1', 'TUPLE2', 'TUPLE3', 'UNICODE', 'Unpickler', 'UnpicklingError', '_Framer', '_HAVE_PICKLE_BUFFER', '_Pickler', '_Stop', '_Unframer', '_Unpickler', '__all__', '__builtins__', '__cached__', '__doc__', '__file__', '__loader__', '__name__', '__package__', '__spec__', '_compat_pickle', '_dump', '_dumps', '_extension_cache', '_extension_registry', '_getattribute', '_inverted_registry', '_load', '_loads', '_test', '_tuplesize2code', 'bytes_types', 'codecs', 'compatible_formats', 'decode_long', 'dispatch_table', 'dump', 'dumps', 'encode_long', 'format_version', 'io', 'islice', 'load', 'loads', 'maxsize', 'pack', 'partial', 're', 'sys', 'unpack', 'whichmodule']\n"
     ]
    }
   ],
   "source": [
    "print(dir(pickle))"
   ]
  },
  {
   "cell_type": "code",
   "execution_count": 74,
   "id": "63d5daa7-1cbc-4857-9ff1-84ffe5d60470",
   "metadata": {},
   "outputs": [],
   "source": [
    "import pickle\n",
    "data = {\"name\":\"jay\",\"age\":8,\"class\":\"2nd\"}\n",
    "f=open('data.txt',\"wb\") # wb - write mode in  byte\n",
    "pickle.dump(data,f)\n",
    "f.close()"
   ]
  },
  {
   "cell_type": "code",
   "execution_count": 72,
   "id": "26b9e660-a8ba-436c-a56a-aee2ced3584f",
   "metadata": {},
   "outputs": [
    {
     "name": "stdout",
     "output_type": "stream",
     "text": [
      "python <class 'str'>\n",
      "b'python' <class 'bytes'>\n"
     ]
    }
   ],
   "source": [
    "# there are two kinds of strings\n",
    "s= 'python'\n",
    "s1= b'python'\n",
    "print(s, type(s))\n",
    "print(s1, type(s1))"
   ]
  },
  {
   "cell_type": "code",
   "execution_count": 84,
   "id": "699f8bfa-2ef8-45b4-ab4f-d59b5a77a487",
   "metadata": {},
   "outputs": [
    {
     "name": "stdout",
     "output_type": "stream",
     "text": [
      "{'name': 'jay', 'age': 8, 'class': '2nd'} <class 'dict'>\n"
     ]
    }
   ],
   "source": [
    "import pickle\n",
    "#data = {\"name\":\"jay\",\"age\":8,\"class\":\"2nd\"}\n",
    "f=open('data.txt',\"rb\") # rb - read mode in byte code\n",
    "data1= pickle.load(f)\n",
    "f.close()\n",
    "print(data1, type(data1))"
   ]
  },
  {
   "cell_type": "code",
   "execution_count": 86,
   "id": "b437bac7-79f3-4818-90a0-2985bedfb395",
   "metadata": {},
   "outputs": [],
   "source": [
    "import pickle\n",
    "import yaml\n",
    "data = {\"name\":\"jay\",\"age\":8,\"class\":\"2nd\"}\n",
    "f=open('data.txt',\"w\") # wb - write mode in  byte\n",
    "json.dump(data,f)\n",
    "f.close()"
   ]
  },
  {
   "cell_type": "code",
   "execution_count": 3,
   "id": "8f48bdc1-2c9d-45ed-8314-5f777e723b08",
   "metadata": {},
   "outputs": [
    {
     "ename": "JSONDecodeError",
     "evalue": "Expecting value: line 1 column 1 (char 0)",
     "output_type": "error",
     "traceback": [
      "\u001b[1;31m---------------------------------------------------------------------------\u001b[0m",
      "\u001b[1;31mJSONDecodeError\u001b[0m                           Traceback (most recent call last)",
      "Cell \u001b[1;32mIn[3], line 3\u001b[0m\n\u001b[0;32m      1\u001b[0m \u001b[38;5;28;01mimport\u001b[39;00m \u001b[38;5;21;01mjson\u001b[39;00m\n\u001b[0;32m      2\u001b[0m f\u001b[38;5;241m=\u001b[39m\u001b[38;5;28mopen\u001b[39m(\u001b[38;5;124m'\u001b[39m\u001b[38;5;124mdata.txt\u001b[39m\u001b[38;5;124m'\u001b[39m,\u001b[38;5;124m\"\u001b[39m\u001b[38;5;124mr\u001b[39m\u001b[38;5;124m\"\u001b[39m) \u001b[38;5;66;03m# wb - write mode in  byte\u001b[39;00m\n\u001b[1;32m----> 3\u001b[0m data \u001b[38;5;241m=\u001b[39m json\u001b[38;5;241m.\u001b[39mload(f)\n\u001b[0;32m      4\u001b[0m \u001b[38;5;28mprint\u001b[39m(data, \u001b[38;5;28mtype\u001b[39m(data))\n",
      "File \u001b[1;32m~\\anaconda3\\Lib\\json\\__init__.py:293\u001b[0m, in \u001b[0;36mload\u001b[1;34m(fp, cls, object_hook, parse_float, parse_int, parse_constant, object_pairs_hook, **kw)\u001b[0m\n\u001b[0;32m    274\u001b[0m \u001b[38;5;28;01mdef\u001b[39;00m \u001b[38;5;21mload\u001b[39m(fp, \u001b[38;5;241m*\u001b[39m, \u001b[38;5;28mcls\u001b[39m\u001b[38;5;241m=\u001b[39m\u001b[38;5;28;01mNone\u001b[39;00m, object_hook\u001b[38;5;241m=\u001b[39m\u001b[38;5;28;01mNone\u001b[39;00m, parse_float\u001b[38;5;241m=\u001b[39m\u001b[38;5;28;01mNone\u001b[39;00m,\n\u001b[0;32m    275\u001b[0m         parse_int\u001b[38;5;241m=\u001b[39m\u001b[38;5;28;01mNone\u001b[39;00m, parse_constant\u001b[38;5;241m=\u001b[39m\u001b[38;5;28;01mNone\u001b[39;00m, object_pairs_hook\u001b[38;5;241m=\u001b[39m\u001b[38;5;28;01mNone\u001b[39;00m, \u001b[38;5;241m*\u001b[39m\u001b[38;5;241m*\u001b[39mkw):\n\u001b[0;32m    276\u001b[0m \u001b[38;5;250m    \u001b[39m\u001b[38;5;124;03m\"\"\"Deserialize ``fp`` (a ``.read()``-supporting file-like object containing\u001b[39;00m\n\u001b[0;32m    277\u001b[0m \u001b[38;5;124;03m    a JSON document) to a Python object.\u001b[39;00m\n\u001b[0;32m    278\u001b[0m \n\u001b[1;32m   (...)\u001b[0m\n\u001b[0;32m    291\u001b[0m \u001b[38;5;124;03m    kwarg; otherwise ``JSONDecoder`` is used.\u001b[39;00m\n\u001b[0;32m    292\u001b[0m \u001b[38;5;124;03m    \"\"\"\u001b[39;00m\n\u001b[1;32m--> 293\u001b[0m     \u001b[38;5;28;01mreturn\u001b[39;00m loads(fp\u001b[38;5;241m.\u001b[39mread(),\n\u001b[0;32m    294\u001b[0m         \u001b[38;5;28mcls\u001b[39m\u001b[38;5;241m=\u001b[39m\u001b[38;5;28mcls\u001b[39m, object_hook\u001b[38;5;241m=\u001b[39mobject_hook,\n\u001b[0;32m    295\u001b[0m         parse_float\u001b[38;5;241m=\u001b[39mparse_float, parse_int\u001b[38;5;241m=\u001b[39mparse_int,\n\u001b[0;32m    296\u001b[0m         parse_constant\u001b[38;5;241m=\u001b[39mparse_constant, object_pairs_hook\u001b[38;5;241m=\u001b[39mobject_pairs_hook, \u001b[38;5;241m*\u001b[39m\u001b[38;5;241m*\u001b[39mkw)\n",
      "File \u001b[1;32m~\\anaconda3\\Lib\\json\\__init__.py:346\u001b[0m, in \u001b[0;36mloads\u001b[1;34m(s, cls, object_hook, parse_float, parse_int, parse_constant, object_pairs_hook, **kw)\u001b[0m\n\u001b[0;32m    341\u001b[0m     s \u001b[38;5;241m=\u001b[39m s\u001b[38;5;241m.\u001b[39mdecode(detect_encoding(s), \u001b[38;5;124m'\u001b[39m\u001b[38;5;124msurrogatepass\u001b[39m\u001b[38;5;124m'\u001b[39m)\n\u001b[0;32m    343\u001b[0m \u001b[38;5;28;01mif\u001b[39;00m (\u001b[38;5;28mcls\u001b[39m \u001b[38;5;129;01mis\u001b[39;00m \u001b[38;5;28;01mNone\u001b[39;00m \u001b[38;5;129;01mand\u001b[39;00m object_hook \u001b[38;5;129;01mis\u001b[39;00m \u001b[38;5;28;01mNone\u001b[39;00m \u001b[38;5;129;01mand\u001b[39;00m\n\u001b[0;32m    344\u001b[0m         parse_int \u001b[38;5;129;01mis\u001b[39;00m \u001b[38;5;28;01mNone\u001b[39;00m \u001b[38;5;129;01mand\u001b[39;00m parse_float \u001b[38;5;129;01mis\u001b[39;00m \u001b[38;5;28;01mNone\u001b[39;00m \u001b[38;5;129;01mand\u001b[39;00m\n\u001b[0;32m    345\u001b[0m         parse_constant \u001b[38;5;129;01mis\u001b[39;00m \u001b[38;5;28;01mNone\u001b[39;00m \u001b[38;5;129;01mand\u001b[39;00m object_pairs_hook \u001b[38;5;129;01mis\u001b[39;00m \u001b[38;5;28;01mNone\u001b[39;00m \u001b[38;5;129;01mand\u001b[39;00m \u001b[38;5;129;01mnot\u001b[39;00m kw):\n\u001b[1;32m--> 346\u001b[0m     \u001b[38;5;28;01mreturn\u001b[39;00m _default_decoder\u001b[38;5;241m.\u001b[39mdecode(s)\n\u001b[0;32m    347\u001b[0m \u001b[38;5;28;01mif\u001b[39;00m \u001b[38;5;28mcls\u001b[39m \u001b[38;5;129;01mis\u001b[39;00m \u001b[38;5;28;01mNone\u001b[39;00m:\n\u001b[0;32m    348\u001b[0m     \u001b[38;5;28mcls\u001b[39m \u001b[38;5;241m=\u001b[39m JSONDecoder\n",
      "File \u001b[1;32m~\\anaconda3\\Lib\\json\\decoder.py:337\u001b[0m, in \u001b[0;36mJSONDecoder.decode\u001b[1;34m(self, s, _w)\u001b[0m\n\u001b[0;32m    332\u001b[0m \u001b[38;5;28;01mdef\u001b[39;00m \u001b[38;5;21mdecode\u001b[39m(\u001b[38;5;28mself\u001b[39m, s, _w\u001b[38;5;241m=\u001b[39mWHITESPACE\u001b[38;5;241m.\u001b[39mmatch):\n\u001b[0;32m    333\u001b[0m \u001b[38;5;250m    \u001b[39m\u001b[38;5;124;03m\"\"\"Return the Python representation of ``s`` (a ``str`` instance\u001b[39;00m\n\u001b[0;32m    334\u001b[0m \u001b[38;5;124;03m    containing a JSON document).\u001b[39;00m\n\u001b[0;32m    335\u001b[0m \n\u001b[0;32m    336\u001b[0m \u001b[38;5;124;03m    \"\"\"\u001b[39;00m\n\u001b[1;32m--> 337\u001b[0m     obj, end \u001b[38;5;241m=\u001b[39m \u001b[38;5;28mself\u001b[39m\u001b[38;5;241m.\u001b[39mraw_decode(s, idx\u001b[38;5;241m=\u001b[39m_w(s, \u001b[38;5;241m0\u001b[39m)\u001b[38;5;241m.\u001b[39mend())\n\u001b[0;32m    338\u001b[0m     end \u001b[38;5;241m=\u001b[39m _w(s, end)\u001b[38;5;241m.\u001b[39mend()\n\u001b[0;32m    339\u001b[0m     \u001b[38;5;28;01mif\u001b[39;00m end \u001b[38;5;241m!=\u001b[39m \u001b[38;5;28mlen\u001b[39m(s):\n",
      "File \u001b[1;32m~\\anaconda3\\Lib\\json\\decoder.py:355\u001b[0m, in \u001b[0;36mJSONDecoder.raw_decode\u001b[1;34m(self, s, idx)\u001b[0m\n\u001b[0;32m    353\u001b[0m     obj, end \u001b[38;5;241m=\u001b[39m \u001b[38;5;28mself\u001b[39m\u001b[38;5;241m.\u001b[39mscan_once(s, idx)\n\u001b[0;32m    354\u001b[0m \u001b[38;5;28;01mexcept\u001b[39;00m \u001b[38;5;167;01mStopIteration\u001b[39;00m \u001b[38;5;28;01mas\u001b[39;00m err:\n\u001b[1;32m--> 355\u001b[0m     \u001b[38;5;28;01mraise\u001b[39;00m JSONDecodeError(\u001b[38;5;124m\"\u001b[39m\u001b[38;5;124mExpecting value\u001b[39m\u001b[38;5;124m\"\u001b[39m, s, err\u001b[38;5;241m.\u001b[39mvalue) \u001b[38;5;28;01mfrom\u001b[39;00m \u001b[38;5;28;01mNone\u001b[39;00m\n\u001b[0;32m    356\u001b[0m \u001b[38;5;28;01mreturn\u001b[39;00m obj, end\n",
      "\u001b[1;31mJSONDecodeError\u001b[0m: Expecting value: line 1 column 1 (char 0)"
     ]
    }
   ],
   "source": [
    "import json\n",
    "f=open('data.txt',\"r\") # wb - write mode in  byte\n",
    "data = json.load(f)\n",
    "print(data, type(data))"
   ]
  },
  {
   "cell_type": "code",
   "execution_count": 5,
   "id": "e23365fc-f972-4477-82c9-834663fb38b0",
   "metadata": {},
   "outputs": [
    {
     "ename": "FileNotFoundError",
     "evalue": "[Errno 2] No such file or directory: 'data.yaml'",
     "output_type": "error",
     "traceback": [
      "\u001b[1;31m---------------------------------------------------------------------------\u001b[0m",
      "\u001b[1;31mFileNotFoundError\u001b[0m                         Traceback (most recent call last)",
      "Cell \u001b[1;32mIn[5], line 2\u001b[0m\n\u001b[0;32m      1\u001b[0m \u001b[38;5;28;01mimport\u001b[39;00m \u001b[38;5;21;01myaml\u001b[39;00m\n\u001b[1;32m----> 2\u001b[0m f\u001b[38;5;241m=\u001b[39m\u001b[38;5;28mopen\u001b[39m(\u001b[38;5;124m'\u001b[39m\u001b[38;5;124mdata.yaml\u001b[39m\u001b[38;5;124m'\u001b[39m,\u001b[38;5;124m\"\u001b[39m\u001b[38;5;124mr\u001b[39m\u001b[38;5;124m\"\u001b[39m)\n\u001b[0;32m      3\u001b[0m data \u001b[38;5;241m=\u001b[39m json\u001b[38;5;241m.\u001b[39mload(f)\n\u001b[0;32m      4\u001b[0m \u001b[38;5;28mprint\u001b[39m(data, \u001b[38;5;28mtype\u001b[39m(data))\n",
      "File \u001b[1;32m~\\anaconda3\\Lib\\site-packages\\IPython\\core\\interactiveshell.py:324\u001b[0m, in \u001b[0;36m_modified_open\u001b[1;34m(file, *args, **kwargs)\u001b[0m\n\u001b[0;32m    317\u001b[0m \u001b[38;5;28;01mif\u001b[39;00m file \u001b[38;5;129;01min\u001b[39;00m {\u001b[38;5;241m0\u001b[39m, \u001b[38;5;241m1\u001b[39m, \u001b[38;5;241m2\u001b[39m}:\n\u001b[0;32m    318\u001b[0m     \u001b[38;5;28;01mraise\u001b[39;00m \u001b[38;5;167;01mValueError\u001b[39;00m(\n\u001b[0;32m    319\u001b[0m         \u001b[38;5;124mf\u001b[39m\u001b[38;5;124m\"\u001b[39m\u001b[38;5;124mIPython won\u001b[39m\u001b[38;5;124m'\u001b[39m\u001b[38;5;124mt let you open fd=\u001b[39m\u001b[38;5;132;01m{\u001b[39;00mfile\u001b[38;5;132;01m}\u001b[39;00m\u001b[38;5;124m by default \u001b[39m\u001b[38;5;124m\"\u001b[39m\n\u001b[0;32m    320\u001b[0m         \u001b[38;5;124m\"\u001b[39m\u001b[38;5;124mas it is likely to crash IPython. If you know what you are doing, \u001b[39m\u001b[38;5;124m\"\u001b[39m\n\u001b[0;32m    321\u001b[0m         \u001b[38;5;124m\"\u001b[39m\u001b[38;5;124myou can use builtins\u001b[39m\u001b[38;5;124m'\u001b[39m\u001b[38;5;124m open.\u001b[39m\u001b[38;5;124m\"\u001b[39m\n\u001b[0;32m    322\u001b[0m     )\n\u001b[1;32m--> 324\u001b[0m \u001b[38;5;28;01mreturn\u001b[39;00m io_open(file, \u001b[38;5;241m*\u001b[39margs, \u001b[38;5;241m*\u001b[39m\u001b[38;5;241m*\u001b[39mkwargs)\n",
      "\u001b[1;31mFileNotFoundError\u001b[0m: [Errno 2] No such file or directory: 'data.yaml'"
     ]
    }
   ],
   "source": [
    "import yaml\n",
    "f=open('data.yaml',\"r\")\n",
    "data = json.load(f)\n",
    "print(data, type(data))"
   ]
  },
  {
   "cell_type": "code",
   "execution_count": 1,
   "id": "01c8f7a3-8da7-48e5-9b89-fb4fd2cb6836",
   "metadata": {},
   "outputs": [],
   "source": [
    "from faker import Faker\n",
    "from random import randint\n",
    "fake=Faker()\n",
    "f=open(\"BIGFILES.txt\",\"w\")\n",
    "for i in range(1000000):\n",
    "    row = f\"{fake.name()},{randint(23,60)},{randint(4000000,9000000)}\\n\"\n",
    "    f.write(row)\n",
    "    f.flush()\n",
    "f.close()"
   ]
  },
  {
   "cell_type": "markdown",
   "id": "f5ec68f2-5f0e-4b7c-a3af-4beefb70dfd1",
   "metadata": {},
   "source": [
    "# 23-10-2024"
   ]
  },
  {
   "cell_type": "code",
   "execution_count": 1,
   "id": "94b6da84-4fea-43dc-a693-37ab738a2a98",
   "metadata": {},
   "outputs": [
    {
     "name": "stdout",
     "output_type": "stream",
     "text": [
      "create some_file.txt and run the program again\n"
     ]
    },
    {
     "ename": "NameError",
     "evalue": "name 'f' is not defined",
     "output_type": "error",
     "traceback": [
      "\u001b[1;31m---------------------------------------------------------------------------\u001b[0m",
      "\u001b[1;31mNameError\u001b[0m                                 Traceback (most recent call last)",
      "Cell \u001b[1;32mIn[1], line 6\u001b[0m\n\u001b[0;32m      4\u001b[0m     \u001b[38;5;28mprint\u001b[39m(\u001b[38;5;124m'\u001b[39m\u001b[38;5;124mcreate some_file.txt and run the program again\u001b[39m\u001b[38;5;124m'\u001b[39m)\n\u001b[0;32m      5\u001b[0m \u001b[38;5;28;01mfinally\u001b[39;00m:\n\u001b[1;32m----> 6\u001b[0m     f\u001b[38;5;241m.\u001b[39mclose()\n",
      "\u001b[1;31mNameError\u001b[0m: name 'f' is not defined"
     ]
    }
   ],
   "source": [
    "try:\n",
    "    f=open('some_file.txt')\n",
    "except FileNotFoundError as err:\n",
    "    print('create some_file.txt and run the program again')\n",
    "finally:\n",
    "    f.close()"
   ]
  },
  {
   "cell_type": "code",
   "execution_count": 3,
   "id": "83cc1a6c-f43d-4331-a883-188d8494e85c",
   "metadata": {},
   "outputs": [
    {
     "name": "stdout",
     "output_type": "stream",
     "text": [
      "create some_file.txt and run the program again\n"
     ]
    },
    {
     "ename": "AttributeError",
     "evalue": "'NoneType' object has no attribute 'close'",
     "output_type": "error",
     "traceback": [
      "\u001b[1;31m---------------------------------------------------------------------------\u001b[0m",
      "\u001b[1;31mAttributeError\u001b[0m                            Traceback (most recent call last)",
      "Cell \u001b[1;32mIn[3], line 7\u001b[0m\n\u001b[0;32m      5\u001b[0m     \u001b[38;5;28mprint\u001b[39m(\u001b[38;5;124m'\u001b[39m\u001b[38;5;124mcreate some_file.txt and run the program again\u001b[39m\u001b[38;5;124m'\u001b[39m)\n\u001b[0;32m      6\u001b[0m \u001b[38;5;28;01mfinally\u001b[39;00m:\n\u001b[1;32m----> 7\u001b[0m     f\u001b[38;5;241m.\u001b[39mclose()\n",
      "\u001b[1;31mAttributeError\u001b[0m: 'NoneType' object has no attribute 'close'"
     ]
    }
   ],
   "source": [
    "f=None\n",
    "try:\n",
    "    f=open('some_file.txt')\n",
    "except FileNotFoundError as err:\n",
    "    print('create some_file.txt and run the program again')\n",
    "finally:\n",
    "    f.close()"
   ]
  },
  {
   "cell_type": "code",
   "execution_count": 5,
   "id": "e517cb60-75cc-4558-a8d4-e4cb0636cec9",
   "metadata": {},
   "outputs": [
    {
     "name": "stdout",
     "output_type": "stream",
     "text": [
      "create some_file.txt and run the program again\n"
     ]
    }
   ],
   "source": [
    "f=None\n",
    "try:\n",
    "    f=open('some_file.txt')\n",
    "except FileNotFoundError as err:\n",
    "    print('create some_file.txt and run the program again')\n",
    "finally:\n",
    "    if f:\n",
    "        f.close()"
   ]
  },
  {
   "cell_type": "code",
   "execution_count": 1,
   "id": "1d6f94d1-073b-4f64-b55a-fbfaed5cbacc",
   "metadata": {},
   "outputs": [
    {
     "ename": "TypeError",
     "evalue": "TextIOWrapper.write() takes exactly one argument (0 given)",
     "output_type": "error",
     "traceback": [
      "\u001b[1;31m---------------------------------------------------------------------------\u001b[0m",
      "\u001b[1;31mTypeError\u001b[0m                                 Traceback (most recent call last)",
      "Cell \u001b[1;32mIn[1], line 3\u001b[0m\n\u001b[0;32m      1\u001b[0m f\u001b[38;5;241m=\u001b[39m\u001b[38;5;28mopen\u001b[39m(\u001b[38;5;124m'\u001b[39m\u001b[38;5;124msome_file.txt\u001b[39m\u001b[38;5;124m'\u001b[39m, \u001b[38;5;124m'\u001b[39m\u001b[38;5;124mw\u001b[39m\u001b[38;5;124m'\u001b[39m)\n\u001b[0;32m      2\u001b[0m \u001b[38;5;28;01mtry\u001b[39;00m:\n\u001b[1;32m----> 3\u001b[0m     f\u001b[38;5;241m.\u001b[39mwrite()\n\u001b[0;32m      4\u001b[0m \u001b[38;5;28;01mfinally\u001b[39;00m:\n\u001b[0;32m      5\u001b[0m     f\u001b[38;5;241m.\u001b[39mclose()\n",
      "\u001b[1;31mTypeError\u001b[0m: TextIOWrapper.write() takes exactly one argument (0 given)"
     ]
    }
   ],
   "source": [
    "f=open('some_file.txt', 'w')\n",
    "try:\n",
    "    f.write()\n",
    "finally:\n",
    "    f.close()"
   ]
  },
  {
   "cell_type": "code",
   "execution_count": 3,
   "id": "be1bc8f3-1ddd-4719-8b0c-50a1fce5583e",
   "metadata": {},
   "outputs": [
    {
     "name": "stdout",
     "output_type": "stream",
     "text": [
      "main block\n",
      "try\n",
      "else\n",
      "finally\n",
      "main block continuous\n"
     ]
    }
   ],
   "source": [
    "print('main block')\n",
    "try:\n",
    "    print('try')\n",
    "except:\n",
    "    print('except')\n",
    "else:\n",
    "    print('else')\n",
    "finally:\n",
    "    print('finally')\n",
    "print('main block continuous')\n"
   ]
  },
  {
   "cell_type": "code",
   "execution_count": 7,
   "id": "55a61f37-6988-4ea4-91b9-3cd121345f78",
   "metadata": {},
   "outputs": [
    {
     "name": "stdout",
     "output_type": "stream",
     "text": [
      "main block\n",
      "try\n",
      "else\n",
      "finally\n"
     ]
    },
    {
     "ename": "ValueError",
     "evalue": "could not convert string to float: '22.34.67'",
     "output_type": "error",
     "traceback": [
      "\u001b[1;31m---------------------------------------------------------------------------\u001b[0m",
      "\u001b[1;31mValueError\u001b[0m                                Traceback (most recent call last)",
      "Cell \u001b[1;32mIn[7], line 8\u001b[0m\n\u001b[0;32m      6\u001b[0m \u001b[38;5;28;01melse\u001b[39;00m:\n\u001b[0;32m      7\u001b[0m     \u001b[38;5;28mprint\u001b[39m(\u001b[38;5;124m'\u001b[39m\u001b[38;5;124melse\u001b[39m\u001b[38;5;124m'\u001b[39m)\n\u001b[1;32m----> 8\u001b[0m     \u001b[38;5;28mprint\u001b[39m(\u001b[38;5;28mfloat\u001b[39m(\u001b[38;5;124m'\u001b[39m\u001b[38;5;124m22.34.67\u001b[39m\u001b[38;5;124m'\u001b[39m))\n\u001b[0;32m      9\u001b[0m \u001b[38;5;28;01mfinally\u001b[39;00m:\n\u001b[0;32m     10\u001b[0m     \u001b[38;5;28mprint\u001b[39m(\u001b[38;5;124m'\u001b[39m\u001b[38;5;124mfinally\u001b[39m\u001b[38;5;124m'\u001b[39m)\n",
      "\u001b[1;31mValueError\u001b[0m: could not convert string to float: '22.34.67'"
     ]
    }
   ],
   "source": [
    "print('main block')\n",
    "try:\n",
    "    print('try')\n",
    "except:\n",
    "    print('except')\n",
    "else:\n",
    "    print('else')\n",
    "    print(float('22.34.67'))\n",
    "finally:\n",
    "    print('finally')\n",
    "print('main block continuous')"
   ]
  },
  {
   "cell_type": "code",
   "execution_count": 10,
   "id": "359b39df-7fbb-407b-a2ec-de0557e3b08b",
   "metadata": {},
   "outputs": [
    {
     "name": "stdout",
     "output_type": "stream",
     "text": [
      "try\n"
     ]
    }
   ],
   "source": [
    "try:\n",
    "    print('try')\n",
    "except Exception as err:\n",
    "    print(err)\n",
    "except:\n",
    "    print('except')"
   ]
  },
  {
   "cell_type": "code",
   "execution_count": 12,
   "id": "b7230134-6c09-4eaf-bbb2-e7a2f3f7808b",
   "metadata": {},
   "outputs": [
    {
     "name": "stdout",
     "output_type": "stream",
     "text": [
      "try\n",
      "exception error as err\n",
      "[Errno 2] No such file or directory: 'sdsds.txt'\n"
     ]
    }
   ],
   "source": [
    "try:\n",
    "    print('try')\n",
    "    f=open('sdsds.txt')\n",
    "except Exception as err:\n",
    "    print('exception error as err')\n",
    "    print(err)\n",
    "except:\n",
    "    print('except')"
   ]
  },
  {
   "cell_type": "code",
   "execution_count": null,
   "id": "ee3bb593-61ed-428a-87b2-787e3e4cc02e",
   "metadata": {},
   "outputs": [],
   "source": [
    "from time import sleep\n",
    "try:\n",
    "    print('try')\n",
    "    while True:\n",
    "        print('waiting for 2 seconds')\n",
    "        sleep(2)\n",
    "    f=open('sdsds.txt')\n",
    "except Exception as err:\n",
    "    print('exception error as err')\n",
    "    print(err)\n",
    "except:\n",
    "    print('except')"
   ]
  },
  {
   "cell_type": "code",
   "execution_count": null,
   "id": "127dfe61-8aa4-484e-8d33-e8fa3d7dd51c",
   "metadata": {},
   "outputs": [],
   "source": [
    "from time import sleep\n",
    "try:\n",
    "    print('try')\n",
    "    while True:\n",
    "        print('waiting for 2 seconds')\n",
    "        sleep(2)\n",
    "    f=open('sdsds.txt')\n",
    "except Exception as err:\n",
    "    print('exception error as err')\n",
    "    print(err)\n",
    "except:\n",
    "    print('except')\n",
    "finally:\n",
    "    print('finally')\n",
    "print('main block continuous')"
   ]
  },
  {
   "cell_type": "code",
   "execution_count": null,
   "id": "f8241fe2-9a77-4836-b506-70188ca23c50",
   "metadata": {},
   "outputs": [],
   "source": []
  }
 ],
 "metadata": {
  "kernelspec": {
   "display_name": "Python 3 (ipykernel)",
   "language": "python",
   "name": "python3"
  },
  "language_info": {
   "codemirror_mode": {
    "name": "ipython",
    "version": 3
   },
   "file_extension": ".py",
   "mimetype": "text/x-python",
   "name": "python",
   "nbconvert_exporter": "python",
   "pygments_lexer": "ipython3",
   "version": "3.12.4"
  }
 },
 "nbformat": 4,
 "nbformat_minor": 5
}
