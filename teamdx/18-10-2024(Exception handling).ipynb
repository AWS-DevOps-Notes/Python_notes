{
 "cells": [
  {
   "cell_type": "code",
   "execution_count": 1,
   "id": "1b941f82-0625-4f62-a358-7165cf0765f3",
   "metadata": {},
   "outputs": [],
   "source": []
  },
  {
   "cell_type": "code",
   "execution_count": null,
   "id": "d7422415-4340-4032-9c9e-c1cbe1cb37fc",
   "metadata": {},
   "outputs": [],
   "source": [
    "a=10+-23"
   ]
  },
  {
   "cell_type": "code",
   "execution_count": 3,
   "id": "68f37ac4-4dac-46cd-8048-5e087ccc9c8b",
   "metadata": {},
   "outputs": [
    {
     "name": "stdout",
     "output_type": "stream",
     "text": [
      "-13\n"
     ]
    }
   ],
   "source": [
    "print(a)"
   ]
  },
  {
   "cell_type": "code",
   "execution_count": 9,
   "id": "a1ec53d7-4b7a-464c-9bbf-b2601816561d",
   "metadata": {},
   "outputs": [
    {
     "ename": "SyntaxError",
     "evalue": "unterminated string literal (detected at line 2) (3942168850.py, line 2)",
     "output_type": "error",
     "traceback": [
      "\u001b[1;36m  Cell \u001b[1;32mIn[9], line 2\u001b[1;36m\u001b[0m\n\u001b[1;33m    print('hello)\u001b[0m\n\u001b[1;37m          ^\u001b[0m\n\u001b[1;31mSyntaxError\u001b[0m\u001b[1;31m:\u001b[0m unterminated string literal (detected at line 2)\n"
     ]
    }
   ],
   "source": [
    "print('hi')\n",
    "print('hello) \n",
    "      # this error rasises on compilation error\n",
    "# compilation(syntax errors) and execution()"
   ]
  },
  {
   "cell_type": "code",
   "execution_count": null,
   "id": "4f72f2af-c4ee-45d8-9710-b1b0093cc228",
   "metadata": {},
   "outputs": [],
   "source": []
  },
  {
   "cell_type": "code",
   "execution_count": 11,
   "id": "330a7651-a208-4630-b2ef-4944b37e8f69",
   "metadata": {},
   "outputs": [],
   "source": [
    "# two phases = compilation phase and execution phase\n",
    "# this error rasises on compliation\n",
    "# compilation(syntax errors) and execution(exception errors /runtime errors)"
   ]
  },
  {
   "cell_type": "code",
   "execution_count": 3,
   "id": "309018c8-9de4-4b46-899e-34f444626970",
   "metadata": {},
   "outputs": [],
   "source": [
    "# exception handling - when exception raised need to do  control and tell to user "
   ]
  },
  {
   "cell_type": "code",
   "execution_count": 13,
   "id": "190f96a2-9f98-424d-be7b-1f8561c16e65",
   "metadata": {},
   "outputs": [
    {
     "name": "stdout",
     "output_type": "stream",
     "text": [
      "hi\n",
      "hello\n"
     ]
    },
    {
     "ename": "ValueError",
     "evalue": "invalid literal for int() with base 10: 'A123'",
     "output_type": "error",
     "traceback": [
      "\u001b[1;31m---------------------------------------------------------------------------\u001b[0m",
      "\u001b[1;31mValueError\u001b[0m                                Traceback (most recent call last)",
      "Cell \u001b[1;32mIn[13], line 3\u001b[0m\n\u001b[0;32m      1\u001b[0m \u001b[38;5;28mprint\u001b[39m(\u001b[38;5;124m\"\u001b[39m\u001b[38;5;124mhi\u001b[39m\u001b[38;5;124m\"\u001b[39m)\n\u001b[0;32m      2\u001b[0m \u001b[38;5;28mprint\u001b[39m(\u001b[38;5;124m\"\u001b[39m\u001b[38;5;124mhello\u001b[39m\u001b[38;5;124m\"\u001b[39m)\n\u001b[1;32m----> 3\u001b[0m \u001b[38;5;28mprint\u001b[39m(\u001b[38;5;28mint\u001b[39m(\u001b[38;5;124m\"\u001b[39m\u001b[38;5;124mA123\u001b[39m\u001b[38;5;124m\"\u001b[39m))\n\u001b[0;32m      4\u001b[0m \u001b[38;5;28mprint\u001b[39m(\u001b[38;5;124m\"\u001b[39m\u001b[38;5;124mHYD\u001b[39m\u001b[38;5;124m\"\u001b[39m)\n",
      "\u001b[1;31mValueError\u001b[0m: invalid literal for int() with base 10: 'A123'"
     ]
    }
   ],
   "source": [
    "print(\"hi\")\n",
    "print(\"hello\")\n",
    "print(int(\"A123\")) #exception\n",
    "print(\"HYD\")"
   ]
  },
  {
   "cell_type": "code",
   "execution_count": 7,
   "id": "21a96eb3-d9bd-47ad-bff8-3effd770163a",
   "metadata": {},
   "outputs": [
    {
     "name": "stdout",
     "output_type": "stream",
     "text": [
      "started\n"
     ]
    },
    {
     "name": "stdin",
     "output_type": "stream",
     "text": [
      "enter number1:  1.2\n",
      "enter number1:  3.4\n"
     ]
    },
    {
     "name": "stdout",
     "output_type": "stream",
     "text": [
      "n1=1.2,n2=3.4\n"
     ]
    },
    {
     "ename": "ValueError",
     "evalue": "invalid literal for int() with base 10: '1.2'",
     "output_type": "error",
     "traceback": [
      "\u001b[1;31m---------------------------------------------------------------------------\u001b[0m",
      "\u001b[1;31mValueError\u001b[0m                                Traceback (most recent call last)",
      "Cell \u001b[1;32mIn[7], line 5\u001b[0m\n\u001b[0;32m      3\u001b[0m n2\u001b[38;5;241m=\u001b[39m\u001b[38;5;28minput\u001b[39m(\u001b[38;5;124m'\u001b[39m\u001b[38;5;124menter number1: \u001b[39m\u001b[38;5;124m'\u001b[39m)\n\u001b[0;32m      4\u001b[0m \u001b[38;5;28mprint\u001b[39m(\u001b[38;5;124mf\u001b[39m\u001b[38;5;124m'\u001b[39m\u001b[38;5;124mn1=\u001b[39m\u001b[38;5;132;01m{\u001b[39;00mn1\u001b[38;5;132;01m}\u001b[39;00m\u001b[38;5;124m,n2=\u001b[39m\u001b[38;5;132;01m{\u001b[39;00mn2\u001b[38;5;132;01m}\u001b[39;00m\u001b[38;5;124m'\u001b[39m)\n\u001b[1;32m----> 5\u001b[0m n1\u001b[38;5;241m=\u001b[39m\u001b[38;5;28mint\u001b[39m(n1)\n\u001b[0;32m      6\u001b[0m n2\u001b[38;5;241m=\u001b[39m\u001b[38;5;28mint\u001b[39m(n2)\n\u001b[0;32m      7\u001b[0m \u001b[38;5;28mprint\u001b[39m(\u001b[38;5;124mf\u001b[39m\u001b[38;5;124m'\u001b[39m\u001b[38;5;124mAFter conversion: n1=\u001b[39m\u001b[38;5;132;01m{\u001b[39;00mn2\u001b[38;5;132;01m}\u001b[39;00m\u001b[38;5;124m, n2=\u001b[39m\u001b[38;5;132;01m{\u001b[39;00mn2\u001b[38;5;132;01m}\u001b[39;00m\u001b[38;5;124m'\u001b[39m)\n",
      "\u001b[1;31mValueError\u001b[0m: invalid literal for int() with base 10: '1.2'"
     ]
    }
   ],
   "source": [
    "print('started')\n",
    "n1=input('enter number1: ')\n",
    "n2=input('enter number1: ')\n",
    "print(f'n1={n1},n2={n2}')\n",
    "n1=int(n1)\n",
    "n2=int(n2)\n",
    "print(f'AFter conversion: n1={n2}, n2={n2}')\n",
    "res=n1/n2"
   ]
  },
  {
   "cell_type": "code",
   "execution_count": 9,
   "id": "2679b654-9635-42e8-9faa-9c25448ca7b8",
   "metadata": {},
   "outputs": [
    {
     "name": "stdout",
     "output_type": "stream",
     "text": [
      "started\n"
     ]
    },
    {
     "name": "stdin",
     "output_type": "stream",
     "text": [
      "enter number1:  1.2\n",
      "enter number1:  3.4\n"
     ]
    },
    {
     "name": "stdout",
     "output_type": "stream",
     "text": [
      "n1=1.2,n2=3.4\n"
     ]
    },
    {
     "ename": "ValueError",
     "evalue": "invalid literal for int() with base 10: '1.2'",
     "output_type": "error",
     "traceback": [
      "\u001b[1;31m---------------------------------------------------------------------------\u001b[0m",
      "\u001b[1;31mValueError\u001b[0m                                Traceback (most recent call last)",
      "Cell \u001b[1;32mIn[9], line 5\u001b[0m\n\u001b[0;32m      3\u001b[0m n2\u001b[38;5;241m=\u001b[39m\u001b[38;5;28minput\u001b[39m(\u001b[38;5;124m'\u001b[39m\u001b[38;5;124menter number1: \u001b[39m\u001b[38;5;124m'\u001b[39m)\n\u001b[0;32m      4\u001b[0m \u001b[38;5;28mprint\u001b[39m(\u001b[38;5;124mf\u001b[39m\u001b[38;5;124m'\u001b[39m\u001b[38;5;124mn1=\u001b[39m\u001b[38;5;132;01m{\u001b[39;00mn1\u001b[38;5;132;01m}\u001b[39;00m\u001b[38;5;124m,n2=\u001b[39m\u001b[38;5;132;01m{\u001b[39;00mn2\u001b[38;5;132;01m}\u001b[39;00m\u001b[38;5;124m'\u001b[39m)\n\u001b[1;32m----> 5\u001b[0m n1\u001b[38;5;241m=\u001b[39m\u001b[38;5;28mint\u001b[39m(n1)\n\u001b[0;32m      6\u001b[0m n2\u001b[38;5;241m=\u001b[39m\u001b[38;5;28mint\u001b[39m(n2)\n\u001b[0;32m      7\u001b[0m \u001b[38;5;28mprint\u001b[39m(\u001b[38;5;124mf\u001b[39m\u001b[38;5;124m'\u001b[39m\u001b[38;5;124mAFter conversion: n1=\u001b[39m\u001b[38;5;132;01m{\u001b[39;00mn2\u001b[38;5;132;01m}\u001b[39;00m\u001b[38;5;124m, n2=\u001b[39m\u001b[38;5;132;01m{\u001b[39;00mn2\u001b[38;5;132;01m}\u001b[39;00m\u001b[38;5;124m'\u001b[39m)\n",
      "\u001b[1;31mValueError\u001b[0m: invalid literal for int() with base 10: '1.2'"
     ]
    }
   ],
   "source": [
    "print('started')\n",
    "n1=input('enter number1: ')\n",
    "n2=input('enter number1: ')\n",
    "print(f'n1={n1},n2={n2}')\n",
    "n1=int(n1)\n",
    "n2=int(n2)\n",
    "print(f'AFter conversion: n1={n2}, n2={n2}')\n",
    "res\n",
    "print('result=',res)\n",
    "print('DONE')"
   ]
  },
  {
   "cell_type": "code",
   "execution_count": 15,
   "id": "5511e849-44d8-4e5d-830e-f27e5d146a79",
   "metadata": {},
   "outputs": [
    {
     "name": "stdout",
     "output_type": "stream",
     "text": [
      "started\n"
     ]
    },
    {
     "name": "stdin",
     "output_type": "stream",
     "text": [
      "enter number1:  1.2\n",
      "enter number1:  2.3\n"
     ]
    },
    {
     "name": "stdout",
     "output_type": "stream",
     "text": [
      "n1=1.2,n2=2.3\n",
      "AFter conversion: n1=2.3, n2=2.3\n",
      "result= 0.5217391304347826\n",
      "DONE\n"
     ]
    }
   ],
   "source": [
    "print('started')\n",
    "n1=input('enter number1: ')\n",
    "n2=input('enter number1: ')\n",
    "print(f'n1={n1},n2={n2}')\n",
    "n1=float(n1)\n",
    "n2=float(n2)\n",
    "print(f'AFter conversion: n1={n2}, n2={n2}')\n",
    "res=n1/n2\n",
    "print('result=',res)\n",
    "print('DONE')"
   ]
  },
  {
   "cell_type": "code",
   "execution_count": 17,
   "id": "03b2a237-d479-412d-8366-808e879d6bf1",
   "metadata": {},
   "outputs": [
    {
     "name": "stdout",
     "output_type": "stream",
     "text": [
      "started\n"
     ]
    },
    {
     "name": "stdin",
     "output_type": "stream",
     "text": [
      "enter number1:  2.3\n",
      "enter number1:  3.4\n"
     ]
    },
    {
     "name": "stdout",
     "output_type": "stream",
     "text": [
      "n1=2.3,n2=3.4\n",
      "AFter conversion: n1=3.4, n2=3.4\n",
      "result= 0.676470588235294\n",
      "DONE\n"
     ]
    }
   ],
   "source": [
    "try:\n",
    "    print('started')\n",
    "    n1=input('enter number1: ')\n",
    "    n2=input('enter number1: ')\n",
    "    print(f'n1={n1},n2={n2}')\n",
    "    n1=float(n1)\n",
    "    n2=float(n2)\n",
    "    print(f'AFter conversion: n1={n2}, n2={n2}')\n",
    "    res=n1/n2\n",
    "    print('result=',res)\n",
    "    print('DONE')\n",
    "except:\n",
    "    print('error')"
   ]
  },
  {
   "cell_type": "code",
   "execution_count": 1,
   "id": "1cec0d11-d983-4221-b494-f5c5ec2fdbe5",
   "metadata": {},
   "outputs": [
    {
     "name": "stdout",
     "output_type": "stream",
     "text": [
      "started\n"
     ]
    },
    {
     "name": "stdin",
     "output_type": "stream",
     "text": [
      "enter number1:  8\n",
      "enter number1:  9\n"
     ]
    },
    {
     "name": "stdout",
     "output_type": "stream",
     "text": [
      "n1=8,n2=9\n",
      "AFter conversion: n1=9.0, n2=9.0\n",
      "result= 0.8888888888888888\n",
      "DONE\n"
     ]
    }
   ],
   "source": [
    "try:\n",
    "    print('started')\n",
    "    n1=input('enter number1: ')\n",
    "    n2=input('enter number1: ')\n",
    "    print(f'n1={n1},n2={n2}')\n",
    "    n1=float(n1)\n",
    "    n2=float(n2)\n",
    "    print(f'AFter conversion: n1={n2}, n2={n2}')\n",
    "    res=n1/n2\n",
    "    print('result=',res)\n",
    "    print('DONE')\n",
    "except:\n",
    "    print('error')"
   ]
  },
  {
   "cell_type": "code",
   "execution_count": 7,
   "id": "56b5cff1-a1d8-4225-892a-d0f1c44d1b9d",
   "metadata": {},
   "outputs": [
    {
     "name": "stdout",
     "output_type": "stream",
     "text": [
      "started\n"
     ]
    },
    {
     "name": "stdin",
     "output_type": "stream",
     "text": [
      "enter number1:  1\n",
      "enter number1:  0\n"
     ]
    },
    {
     "name": "stdout",
     "output_type": "stream",
     "text": [
      "n1=1,n2=0\n",
      "AFter conversion: n1=0.0, n2=0.0\n",
      "error\n",
      "done\n"
     ]
    }
   ],
   "source": [
    "print('started')\n",
    "n1=input('enter number1: ')\n",
    "n2=input('enter number1: ')\n",
    "print(f'n1={n1},n2={n2}')\n",
    "try:\n",
    "    n1=float(n1)\n",
    "    n2=float(n2)\n",
    "    print(f'AFter conversion: n1={n2}, n2={n2}')\n",
    "    res=n1/n2\n",
    "    print('result=',res)\n",
    "    print('DONE')\n",
    "except:\n",
    "    print('error')\n",
    "print('done')"
   ]
  },
  {
   "cell_type": "code",
   "execution_count": 5,
   "id": "3351a64d-aa45-4501-848b-5250abd3abd1",
   "metadata": {},
   "outputs": [
    {
     "name": "stdout",
     "output_type": "stream",
     "text": [
      "started\n"
     ]
    },
    {
     "name": "stdin",
     "output_type": "stream",
     "text": [
      "enter number1:  1\n",
      "enter number1:  0\n"
     ]
    },
    {
     "name": "stdout",
     "output_type": "stream",
     "text": [
      "n1=1,n2=0\n",
      "AFter conversion: n1=0.0, n2=0.0\n",
      "error\n",
      "done\n"
     ]
    }
   ],
   "source": [
    "print('started')\n",
    "n1=input('enter number1: ')\n",
    "n2=input('enter number1: ')\n",
    "print(f'n1={n1},n2={n2}')\n",
    "try:\n",
    "    n1=float(n1)\n",
    "    n2=float(n2)\n",
    "    print(f'AFter conversion: n1={n2}, n2={n2}')\n",
    "    res=n1/n2\n",
    "    print('result=',res)\n",
    "    print('DONE')\n",
    "except:\n",
    "    print('error')\n",
    "print('done')"
   ]
  },
  {
   "cell_type": "code",
   "execution_count": null,
   "id": "c0e45f1d-b169-4a91-8795-7dd97ff34ce7",
   "metadata": {},
   "outputs": [],
   "source": [
    "print('started')\n",
    "n1=input('enter number1: ')\n",
    "n2=input('enter number1: ')\n",
    "print(f'n1={n1},n2={n2}')\n",
    "try:\n",
    "    n1=float(n1)\n",
    "    n2=float(n2)\n",
    "    print(f'AFter conversion: n1={n2}, n2={n2}')\n",
    "    res=n1/n2\n",
    "    print('result=',res)\n",
    "    print('DONE')\n",
    "except:\n",
    "    print('error')\n",
    "print('done')"
   ]
  },
  {
   "cell_type": "code",
   "execution_count": null,
   "id": "5bb1a555-3184-417a-abbb-3c0a03239549",
   "metadata": {},
   "outputs": [],
   "source": [
    "# how to know exception mechanism"
   ]
  },
  {
   "cell_type": "code",
   "execution_count": 3,
   "id": "c5c55625-d5cb-4928-b89a-c76d13285d8c",
   "metadata": {},
   "outputs": [
    {
     "name": "stdout",
     "output_type": "stream",
     "text": [
      "started\n"
     ]
    },
    {
     "name": "stdin",
     "output_type": "stream",
     "text": [
      "enter number1:  1\n",
      "enter number1:  0\n"
     ]
    },
    {
     "name": "stdout",
     "output_type": "stream",
     "text": [
      "n1=1,n2=0\n",
      "AFter conversion: n1=0.0, n2=0.0\n",
      "********************\n",
      "this exception block\n",
      "float division by zero\n",
      "********************\n",
      "done\n"
     ]
    }
   ],
   "source": [
    "print('started')\n",
    "n1=input('enter number1: ')\n",
    "n2=input('enter number1: ')\n",
    "print(f'n1={n1},n2={n2}')\n",
    "try:\n",
    "    n1=float(n1)\n",
    "    n2=float(n2)\n",
    "    print(f'AFter conversion: n1={n2}, n2={n2}')\n",
    "    res=n1/n2\n",
    "    print('result=',res)\n",
    "    print('DONE')\n",
    "except Exception as err:\n",
    "    print('*'*20)\n",
    "    print('this exception block')\n",
    "    print(err)\n",
    "    print('*'*20)\n",
    "print('done')"
   ]
  },
  {
   "cell_type": "code",
   "execution_count": 13,
   "id": "c0b6d6cb-dace-4841-a0c6-db3f63e8eb45",
   "metadata": {},
   "outputs": [
    {
     "name": "stdout",
     "output_type": "stream",
     "text": [
      "started\n"
     ]
    },
    {
     "name": "stdin",
     "output_type": "stream",
     "text": [
      "enter number1:  we\n",
      "enter number1:  rt\n"
     ]
    },
    {
     "name": "stdout",
     "output_type": "stream",
     "text": [
      "n1=we,n2=rt\n",
      "********************\n",
      "error block\n",
      "could not convert string to float: 'we'\n",
      "********************\n",
      "done\n"
     ]
    }
   ],
   "source": [
    "print('started')\n",
    "n1=input('enter number1: ')\n",
    "n2=input('enter number1: ')\n",
    "print(f'n1={n1},n2={n2}')\n",
    "try:\n",
    "    n1=float(n1)\n",
    "    n2=float(n2)\n",
    "    print(f'AFter conversion: n1={n2}, n2={n2}')\n",
    "    res=n1/n2\n",
    "    print('result=',res)\n",
    "    print('DONE')\n",
    "except Exception as err:\n",
    "    print('*'*20)\n",
    "    print('error block')\n",
    "    print(err)\n",
    "    print('*'*20)\n",
    "print('done')"
   ]
  },
  {
   "cell_type": "code",
   "execution_count": 5,
   "id": "bb621aa7-2ce7-4bd8-8bc4-0953e6ac31ec",
   "metadata": {},
   "outputs": [
    {
     "name": "stdout",
     "output_type": "stream",
     "text": [
      "started\n"
     ]
    },
    {
     "name": "stdin",
     "output_type": "stream",
     "text": [
      "enter number1:  1\n",
      "enter number2:  2\n"
     ]
    },
    {
     "name": "stdout",
     "output_type": "stream",
     "text": [
      "n1=1, n2=2\n",
      "After conversion: n1=1.0, n2=2.0\n",
      "result= 0.5\n",
      "done\n"
     ]
    }
   ],
   "source": [
    "print(\"started\")\n",
    "n1=input('enter number1: ')\n",
    "n2=input('enter number2: ')\n",
    "print(f\"n1={n1}, n2={n2}\")\n",
    "try:\n",
    "    n1=float(n1)\n",
    "    n2=float(n2)\n",
    "    print(f'After conversion: n1={n1}, n2={n2}')\n",
    "    res=n1/n2\n",
    "    print('result=',res)\n",
    "except ValueError as err:\n",
    "    print(err)\n",
    "    print(f'input expectiong only digits, but we got: {n1},{n2}')\n",
    "except ZerodivisionError as err:\n",
    "    print(err)\n",
    "    print(f'expecting n2!=0, but we got n2 ={n2}')\n",
    "except Exception as err:\n",
    "    print('*'*20)\n",
    "    print('error block')\n",
    "    print(err)\n",
    "    print('*'*20)\n",
    "print('done')"
   ]
  },
  {
   "cell_type": "code",
   "execution_count": 9,
   "id": "cae76ecc-1ece-4c1f-80ba-1aae540af172",
   "metadata": {},
   "outputs": [
    {
     "name": "stdout",
     "output_type": "stream",
     "text": [
      "started\n"
     ]
    },
    {
     "name": "stdin",
     "output_type": "stream",
     "text": [
      "enter number1:  1\n",
      "enter number2:  0\n"
     ]
    },
    {
     "name": "stdout",
     "output_type": "stream",
     "text": [
      "n1=1, n2=0\n",
      "After conversion: n1=1.0, n2=0.0\n",
      "float division by zero\n",
      "expecting n2!=0, but we got n2 =0.0\n",
      "done\n"
     ]
    }
   ],
   "source": [
    "print(\"started\")\n",
    "n1=input('enter number1: ')\n",
    "n2=input('enter number2: ')\n",
    "print(f\"n1={n1}, n2={n2}\")\n",
    "try:\n",
    "    n1=float(n1)\n",
    "    n2=float(n2)\n",
    "    print(f'After conversion: n1={n1}, n2={n2}')\n",
    "    res=n1/n2\n",
    "    print(\"result=\",res)\n",
    "except ValueError as err:\n",
    "    print(err)\n",
    "    print(f\"input expectiong only digits, but we got: {n1},{n2}\")\n",
    "except ZeroDivisionError as err:\n",
    "    print(err)\n",
    "    print(f'expecting n2!=0, but we got n2 ={n2}')\n",
    "except Exception as err:\n",
    "    print('*'*20)\n",
    "    print('error block')\n",
    "    print(err)\n",
    "    print('*'*20)\n",
    "print('done')"
   ]
  },
  {
   "cell_type": "code",
   "execution_count": null,
   "id": "6504752c-9eea-4906-8c65-3aee3a0ce3a6",
   "metadata": {},
   "outputs": [],
   "source": [
    "# finally block\n",
    "# The finally block in Python is designed to execute code that should always \n",
    "# run, regardless of whether an exception was raised in the try block or not."
   ]
  },
  {
   "cell_type": "code",
   "execution_count": 22,
   "id": "11d2d85f-4f2d-46d4-a21b-c1f5438ed5b9",
   "metadata": {},
   "outputs": [
    {
     "name": "stdout",
     "output_type": "stream",
     "text": [
      "started\n",
      "try\n",
      "esle\n",
      "finally\n",
      "main\n",
      "ended\n"
     ]
    }
   ],
   "source": [
    "# need of finally block\n",
    "print(\"started\")\n",
    "try:\n",
    "    print(\"try\")\n",
    "except:\n",
    "    print(\"except\")\n",
    "else:\n",
    "    print(\"esle\")\n",
    "finally:\n",
    "    print(\"finally\")\n",
    "print(\"main\")\n",
    "print(\"ended\")"
   ]
  },
  {
   "cell_type": "code",
   "execution_count": 18,
   "id": "77736a49-73ee-4d0b-8f85-80586a8ad816",
   "metadata": {},
   "outputs": [
    {
     "name": "stdout",
     "output_type": "stream",
     "text": [
      "finally\n",
      "main\n"
     ]
    }
   ],
   "source": [
    "from time import sleep\n",
    "try:\n",
    "    sleep(10)\n",
    "except:\n",
    "    print(\"except\")\n",
    "finally:\n",
    "    print(\"finally\")\n",
    "print(\"main\")"
   ]
  },
  {
   "cell_type": "code",
   "execution_count": 2,
   "id": "f86bbbd4-27df-46a0-bc54-4aea650a4c14",
   "metadata": {},
   "outputs": [
    {
     "name": "stdout",
     "output_type": "stream",
     "text": [
      "Main block..\n",
      "try\n",
      "finally\n",
      "main block continuous\n"
     ]
    }
   ],
   "source": [
    "print('Main block..')\n",
    "try:\n",
    "    print('try')\n",
    "except:\n",
    "    print(\"some error\")\n",
    "finally:\n",
    "    print(\"finally\")\n",
    "print(\"main block continuous\")\n"
   ]
  },
  {
   "cell_type": "code",
   "execution_count": 6,
   "id": "8c03e3cd-ce63-44f6-bd15-03a116fd2051",
   "metadata": {},
   "outputs": [
    {
     "name": "stdout",
     "output_type": "stream",
     "text": [
      "Main block..\n",
      "try\n",
      "some error\n",
      "finally\n",
      "main block continuous\n"
     ]
    }
   ],
   "source": [
    "# with exception\n",
    "print('Main block..')\n",
    "try:\n",
    "    print('try')\n",
    "    print(1/0)\n",
    "    print('hello')\n",
    "except:\n",
    "    print(\"some error\")\n",
    "finally:\n",
    "    print(\"finally\")  # \n",
    "print(\"main block continuous\")  "
   ]
  },
  {
   "cell_type": "code",
   "execution_count": 10,
   "id": "dd6c686b-6f34-4358-9b1d-65d114a3693a",
   "metadata": {},
   "outputs": [
    {
     "name": "stdout",
     "output_type": "stream",
     "text": [
      "Main block..\n",
      "try\n",
      "some error\n",
      "finally\n",
      "main block continuous\n"
     ]
    }
   ],
   "source": [
    "# without exception\n",
    "print('Main block..')\n",
    "try:\n",
    "    print('try')\n",
    "    print(1/0)\n",
    "    print('hello')\n",
    "except:\n",
    "    print(\"some error\")\n",
    "print(\"finally\")\n",
    "print(\"main block continuous\")"
   ]
  },
  {
   "cell_type": "code",
   "execution_count": null,
   "id": "64584bd8-1dae-4691-be22-3317656a94a8",
   "metadata": {},
   "outputs": [],
   "source": [
    "#finally block need situtations\n"
   ]
  }
 ],
 "metadata": {
  "kernelspec": {
   "display_name": "Python 3 (ipykernel)",
   "language": "python",
   "name": "python3"
  },
  "language_info": {
   "codemirror_mode": {
    "name": "ipython",
    "version": 3
   },
   "file_extension": ".py",
   "mimetype": "text/x-python",
   "name": "python",
   "nbconvert_exporter": "python",
   "pygments_lexer": "ipython3",
   "version": "3.12.4"
  }
 },
 "nbformat": 4,
 "nbformat_minor": 5
}
