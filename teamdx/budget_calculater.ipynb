{
 "cells": [
  {
   "cell_type": "code",
   "execution_count": 5,
   "id": "b2638144-f239-4e1e-98aa-61608f993169",
   "metadata": {},
   "outputs": [
    {
     "name": "stdout",
     "output_type": "stream",
     "text": [
      "Welcome to the Monthly Budget Calculator!\n"
     ]
    },
    {
     "name": "stdin",
     "output_type": "stream",
     "text": [
      "Enter your monthly income (Rs):  12234\n",
      "Enter the number of expense categories:  2\n",
      "Enter the amount for expense 1:  \n"
     ]
    },
    {
     "ename": "ValueError",
     "evalue": "could not convert string to float: ''",
     "output_type": "error",
     "traceback": [
      "\u001b[1;31m---------------------------------------------------------------------------\u001b[0m",
      "\u001b[1;31mValueError\u001b[0m                                Traceback (most recent call last)",
      "Cell \u001b[1;32mIn[5], line 20\u001b[0m\n\u001b[0;32m     18\u001b[0m expenses \u001b[38;5;241m=\u001b[39m []\n\u001b[0;32m     19\u001b[0m \u001b[38;5;28;01mfor\u001b[39;00m i \u001b[38;5;129;01min\u001b[39;00m \u001b[38;5;28mrange\u001b[39m(num_expenses):\n\u001b[1;32m---> 20\u001b[0m     expense \u001b[38;5;241m=\u001b[39m \u001b[38;5;28mfloat\u001b[39m(\u001b[38;5;28minput\u001b[39m(\u001b[38;5;124mf\u001b[39m\u001b[38;5;124m\"\u001b[39m\u001b[38;5;124mEnter the amount for expense \u001b[39m\u001b[38;5;132;01m{\u001b[39;00mi\u001b[38;5;241m+\u001b[39m\u001b[38;5;241m1\u001b[39m\u001b[38;5;132;01m}\u001b[39;00m\u001b[38;5;124m: \u001b[39m\u001b[38;5;124m\"\u001b[39m))\n\u001b[0;32m     21\u001b[0m     expenses\u001b[38;5;241m.\u001b[39mappend(expense)\n\u001b[0;32m     23\u001b[0m budget \u001b[38;5;241m=\u001b[39m calculate_monthly_budget(income, expenses)\n",
      "\u001b[1;31mValueError\u001b[0m: could not convert string to float: ''"
     ]
    }
   ],
   "source": [
    "def calculate_monthly_budget(income, expenses):\n",
    "    total_expenses = sum(expenses)\n",
    "    savings = income - total_expenses\n",
    "\n",
    "    budget = {\n",
    "        \"Income\": income,\n",
    "        \"Total Expenses\": total_expenses,\n",
    "        \"Savings\": savings\n",
    "    }\n",
    "\n",
    "    return budget\n",
    "\n",
    "print(\"Welcome to the Monthly Budget Calculator!\")\n",
    "\n",
    "income = float(input(\"Enter your monthly income (Rs): \"))\n",
    "num_expenses = int(input(\"Enter the number of expense categories: \"))\n",
    "\n",
    "expenses = []\n",
    "for i in range(num_expenses):\n",
    "    expense = float(input(f\"Enter the amount for expense {i+1}: \"))\n",
    "    expenses.append(expense)\n",
    "\n",
    "budget = calculate_monthly_budget(income, expenses)\n",
    "\n",
    "print(\"\\nMonthly Budget Breakdown:\")\n",
    "for category, amount in budget.items():\n",
    "    print(f\"{category}: ${amount:.2f}\")"
   ]
  },
  {
   "cell_type": "code",
   "execution_count": null,
   "id": "e762cd17-e9c0-4d18-b3cb-baa00f30cf21",
   "metadata": {},
   "outputs": [],
   "source": []
  }
 ],
 "metadata": {
  "kernelspec": {
   "display_name": "Python 3 (ipykernel)",
   "language": "python",
   "name": "python3"
  },
  "language_info": {
   "codemirror_mode": {
    "name": "ipython",
    "version": 3
   },
   "file_extension": ".py",
   "mimetype": "text/x-python",
   "name": "python",
   "nbconvert_exporter": "python",
   "pygments_lexer": "ipython3",
   "version": "3.12.4"
  }
 },
 "nbformat": 4,
 "nbformat_minor": 5
}
