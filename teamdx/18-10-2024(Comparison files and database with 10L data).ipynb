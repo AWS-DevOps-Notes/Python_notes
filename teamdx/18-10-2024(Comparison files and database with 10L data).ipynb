{
 "cells": [
  {
   "cell_type": "markdown",
   "id": "b70cd33a-8c44-41e0-a1d3-e5f20c38dd49",
   "metadata": {},
   "source": [
    "### How to compare files and database output will 10 lakhs file data in python"
   ]
  },
  {
   "cell_type": "markdown",
   "id": "65eb2b5e-a9f5-47e6-bb70-cde63e36531d",
   "metadata": {},
   "source": [
    "```\n",
    "Steps:\n",
    "1) Read file in chunks to handle large file sizes.\n",
    "2) Fetch data from PostgreSQL in chunks using LIMIT and OFFSET.\n",
    "3) Compare using sets for efficient lookup and difference detection.\n",
    "4) Efficiently handle memory by processing both file and database in smaller parts.\n",
    "```\n"
   ]
  },
  {
   "cell_type": "code",
   "execution_count": 16,
   "id": "332431da-a6d0-482d-9f90-eeea93334a07",
   "metadata": {},
   "outputs": [],
   "source": [
    "# 1. Set Up the PostgreSQL Connection\n",
    "# You already have the connection established, so make sure it's connected properly.\n",
    "\n",
    "import psycopg2\n",
    "\n",
    "# Connect to PostgreSQL\n",
    "con = psycopg2.connect(\n",
    "    host='localhost',\n",
    "    user='postgres',\n",
    "    password='postgres',\n",
    "    port=5432,\n",
    "    dbname='db1'\n",
    ")\n",
    "\n",
    "# Create a cursor object\n",
    "cur = con.cursor()"
   ]
  },
  {
   "cell_type": "code",
   "execution_count": 64,
   "id": "86fc704f-22f7-4886-b9ec-5968976aaf1e",
   "metadata": {},
   "outputs": [
    {
     "name": "stderr",
     "output_type": "stream",
     "text": [
      "IOPub data rate exceeded.\n",
      "The Jupyter server will temporarily stop sending output\n",
      "to the client in order to avoid crashing it.\n",
      "To change this limit, set the config variable\n",
      "`--ServerApp.iopub_data_rate_limit`.\n",
      "\n",
      "Current values:\n",
      "ServerApp.iopub_data_rate_limit=1000000.0 (bytes/sec)\n",
      "ServerApp.rate_limit_window=3.0 (secs)\n",
      "\n"
     ]
    }
   ],
   "source": [
    "# 2. Open the Large File\n",
    "# Open the file and read it in chunks (since it’s large). If it's a plain text file, handle each line, or use pandas if it's CSV.\n",
    "def read_file_in_chunks(filename='BIGFILES.txt', chunk_size=100000):\n",
    "    with open(filename, 'r') as file:\n",
    "        chunk = []\n",
    "        for i, line in enumerate(file):\n",
    "            chunk.append(line.strip())\n",
    "            if (i + 1) % chunk_size == 0:\n",
    "                yield chunk  # Corrected: yield the current chunk\n",
    "        if chunk:  # Yield any remaining lines in the last chunk\n",
    "            yield chunk\n",
    "for chunk in read_file_in_chunks():\n",
    "    print(chunk)  # Process each chunk of lines\n"
   ]
  },
  {
   "cell_type": "code",
   "execution_count": 60,
   "id": "7e7139ca-f21b-41d1-a02e-7c017881846b",
   "metadata": {},
   "outputs": [],
   "source": [
    "# 3. Fetch PostgreSQL Data in Chunks\n",
    "# Use SQL to fetch rows in chunks from your PostgreSQL database. Here, we use LIMIT and OFFSET to control the amount of data fetched at a time.\n",
    "def fetch_db_data_in_chunks(cursor, query, chunk_size=100000):\n",
    "    offset = 0\n",
    "    while True:\n",
    "        cursor.execute(query + f\" LIMIT {chunk_size} OFFSET {offset}\")\n",
    "        data = cursor.fetchall()\n",
    "        if not data:\n",
    "            break\n",
    "        yield data\n",
    "        offset += chunk_size"
   ]
  },
  {
   "cell_type": "code",
   "execution_count": 40,
   "id": "f5fa4ecc-7023-484e-b6a9-59b0a1d54d0f",
   "metadata": {},
   "outputs": [],
   "source": [
    "# 4. Compare File Data with Database Data\n",
    "# Convert each chunk from the file and the database into sets and compare them.\n",
    "\n",
    "def compare_file_and_db(file_chunk, db_chunk):\n",
    "    file_data = set(file_chunk)  # Assume file_chunk is a list of strings or relevant entries\n",
    "    db_data = set([row[0] for row in db_chunk])  # Assuming row[0] has the data to compare\n",
    "    print(f\"File data set: {file_data}\")  # Debug: Print file set\n",
    "    print(f\"DB data set: {db_data}\")  # Debug: Print DB set\n",
    "    return file_data.symmetric_difference(db_data)  # Find differences"
   ]
  },
  {
   "cell_type": "code",
   "execution_count": 38,
   "id": "de5aacd2-f30b-402e-a188-7de275df52b6",
   "metadata": {},
   "outputs": [],
   "source": [
    "# 5. Combine Everything and Execute\n",
    "# Read file chunks, fetch database chunks, and compare them.\n",
    "def compare_large_file_with_db(file_path, db_connection, query):\n",
    "    cursor = db_connection.cursor()\n",
    "\n",
    "    try:\n",
    "        for file_chunk in read_file_in_chunks(file_path):\n",
    "            print(f\"File chunk: {file_chunk}\")  # Debug: Check file chunk content\n",
    "            for db_chunk in fetch_db_data_in_chunks(cursor, query):\n",
    "                print(f\"DB chunk: {db_chunk}\")  # Debug: Check DB chunk content\n",
    "                differences = compare_file_and_db(file_chunk, db_chunk)\n",
    "                if differences:\n",
    "                    print(f\"Differences found: {differences}\")\n",
    "        \n",
    "        db_connection.commit()\n",
    "\n",
    "    except psycopg2.Error as e:\n",
    "        print(f\"Database error: {e}\")\n",
    "        db_connection.rollback()\n",
    "\n",
    "    finally:\n",
    "        cursor.close()"
   ]
  },
  {
   "cell_type": "code",
   "execution_count": 34,
   "id": "8f5f2aa6-0aa9-4427-accd-8eb8d4b950c2",
   "metadata": {},
   "outputs": [
    {
     "name": "stdout",
     "output_type": "stream",
     "text": [
      "[(2, 'jay', 24, 234567), (3, 'Stephanie Wheeler', 41, 1706306), (4, 'Daniel Lamb', 31, 2254623), (5, 'Richard Mills', 27, 1703846), (6, 'Brad Frey', 57, 2025484), (7, 'James Gomez', 27, 2910573), (8, 'Ashley Oconnor', 35, 2420283), (9, 'Jenna Yates', 54, 2720804), (10, 'Brandon Bennett', 33, 1601266), (11, 'Kayla Montgomery', 52, 1237990), (12, 'Jessica Rodriguez', 60, 1060625), (13, 'Nicole Jackson', 31, 2668004), (14, 'Emily Norton', 37, 1460707), (15, 'Paul Taylor', 58, 1566098), (16, 'Charles Zimmerman', 59, 2480175), (17, 'Matthew Navarro', 24, 1000049), (18, 'Spencer Strickland', 41, 1066824), (19, 'Jesse Hendricks', 51, 2147903), (20, 'Alicia Campos', 27, 1261282), (21, 'David Browning', 48, 2201196), (22, 'Danielle Patterson', 25, 1300350), (23, 'Matthew Jackson', 51, 1458019), (24, 'Jason Dunn', 52, 1393517), (25, 'Kimberly Dunlap', 26, 2354808), (26, 'Mikayla Mann', 23, 1063753), (27, 'Johnathan Davis', 34, 1348327), (28, 'Bryan Crawford', 54, 1098997), (29, 'Casey Rice', 33, 1024744), (30, 'Katherine Kim', 34, 2238836), (31, 'Taylor Lang', 54, 1559977), (32, 'Vanessa Hill', 59, 2643074), (33, 'Carrie Taylor', 32, 2206133), (34, 'Collin Jackson', 53, 1552834), (35, 'Victoria Mccann', 25, 2066845), (36, 'Walter Keith', 33, 2493455), (37, 'Michael Nguyen', 26, 1386369), (38, 'Phillip Fleming', 52, 2253519), (39, 'Cindy Garcia', 37, 2525488), (40, 'Diana Hill', 27, 1658110), (41, 'Brittany Scott', 28, 1168837), (42, 'Andrea Cruz', 29, 2878396), (43, 'Lindsey Gonzalez', 41, 1536722), (44, 'Jacqueline Young', 37, 1163970), (45, 'Joseph Pham', 46, 1655059), (46, 'Pamela Mayer MD', 41, 1260999), (47, 'Carl Griffin', 32, 1125819), (48, 'Tiffany Malone', 24, 1627244), (49, 'Sherry Walters', 53, 1185440), (50, 'Stacey Wright', 51, 2374560), (51, 'Beth Brown', 59, 2120189), (52, 'Stephanie Morgan', 37, 2857319), (53, 'Joshua Price', 37, 1924149), (54, 'Stephanie Riley', 30, 1726787), (55, 'Mr. Richard Cook', 45, 2054681), (56, 'Jeremy Mendoza', 47, 2438690), (57, 'Amanda Rogers', 24, 1146391), (58, 'Nicholas Cruz', 52, 2023514), (59, 'Kenneth Nguyen', 27, 1768068), (60, 'Brittany Garcia', 59, 1146767), (61, 'Megan Baker', 52, 2674020), (62, 'James Cortez', 25, 2663803), (63, 'Edgar Sanders', 55, 1020789), (64, 'Tammy Summers', 32, 2655480), (65, 'Jonathan Flowers', 37, 2365302), (66, 'Robert Cox', 46, 2498868), (67, 'Leslie Sanford', 50, 1340042), (68, 'Lisa Brown', 44, 1741410), (69, 'Priscilla Morrow', 34, 1715129), (70, 'Janet Todd', 57, 1857459), (71, 'Juan Jacobs', 25, 2583323), (72, 'Henry Reid', 58, 2214026), (73, 'Connie Wiley', 43, 2629614), (74, 'Paul Robbins', 39, 1233339), (75, 'Charles Espinoza', 29, 2924822), (76, 'Susan Wallace', 54, 1722988), (77, 'Mrs. Diana Good DDS', 58, 1764849), (78, 'Brooke Thompson', 33, 1281967), (79, 'Elizabeth Martinez', 28, 2691110), (80, 'Anthony Kennedy', 52, 1352482), (81, 'Kayla Barnes', 27, 2692097), (82, 'Stacey Graham', 56, 2566970), (83, 'Randy Reynolds', 32, 1113196), (84, 'Cheryl Simpson', 28, 2033785), (85, 'Tiffany Lyons', 35, 1820584), (86, 'Tiffany Sparks', 30, 2702379), (87, 'Danielle Boyd', 54, 1471479), (88, 'Natalie Estes', 31, 2096016), (89, 'Amy Banks', 36, 1675301), (90, 'Lisa Ibarra', 38, 2416011), (91, 'Kenneth Nguyen', 31, 2487132), (92, 'Beth Farmer', 49, 2305609), (93, 'Julia Cook', 52, 2175871), (94, 'Diana Perez DDS', 59, 2271081), (95, 'Lorraine Welch', 50, 1505120), (96, 'Leah Fields', 33, 1851612), (97, 'Christina Shelton', 29, 1895691), (98, 'Danielle Joseph', 31, 2845371), (99, 'Kristie Mahoney', 36, 1971545), (100, 'Mr. Caleb Foster', 26, 1423725), (101, 'Judy Kidd', 35, 1775973), (102, 'Michael Smith', 39, 2236372), (103, 'Richard Bryant', 55, 2812522), (104, 'Claudia Jackson', 51, 1546361), (105, 'Luis Carpenter', 57, 2635162), (106, 'Cassandra Garcia', 36, 2755742), (107, 'Olivia Johnson', 38, 2334347), (108, 'Amy Delacruz', 59, 1137656), (109, 'Candace Johnson', 48, 1238855), (110, 'Kelly Barnett', 35, 2693140), (111, 'Michelle Nelson', 49, 2377579), (112, 'Ryan Martinez', 35, 2266353), (113, 'Jeffrey Anderson', 51, 2668136), (114, 'Diane Payne', 37, 1102031), (115, 'Audrey Oliver', 29, 1522410), (116, 'Stephanie Ellis', 57, 1338203), (117, 'Amy Fields', 36, 1219868), (118, 'Lee Zimmerman', 46, 2764653), (119, 'Robert Cooper', 56, 1692529), (120, 'Alan Glover', 52, 2786007), (121, 'Alexis Foster', 24, 1829003), (122, 'Jennifer Warren', 45, 2414976), (123, 'Amy Lester', 35, 1310319), (124, 'Billy Trevino', 56, 1510188), (125, 'Mark Taylor', 30, 2165563), (126, 'Joshua Anderson', 27, 1394018), (127, 'Heather Soto', 23, 2478923), (128, 'Elizabeth Hardy', 42, 2601470), (129, 'Andrea Rich', 46, 1845775), (130, 'Richard Hayes', 29, 1641303), (131, 'Alexis Conner', 56, 2415217), (132, 'Joshua Perkins', 52, 2574567), (133, 'Peter White', 35, 2320391), (134, 'James Moore', 45, 1232408), (135, 'Jesse Dunn', 56, 2570189), (136, 'Cheryl Martin', 28, 1078525), (137, 'Micheal Rivera', 45, 1262800), (138, 'Brenda Woods', 29, 2621112), (139, 'Molly Warner', 59, 1605945), (140, 'Craig Ferguson', 58, 2812788), (141, 'Austin Russell', 54, 1844224), (142, 'Amber Goodwin', 56, 1548011), (143, 'Edward Romero', 36, 1762838), (144, 'Bryan Fisher', 36, 2313683), (145, 'Melissa Sharp', 34, 1965540), (146, 'Jill Forbes', 29, 2886497), (147, 'Jenny Brown', 36, 1332694), (148, 'Wayne Ford', 32, 2563377), (149, 'Marie Sutton', 56, 2312644), (150, 'Curtis Bell', 24, 2116499), (151, 'Regina Gay', 54, 2823512), (152, 'Jason Johnson', 56, 1455795), (153, 'Edward May', 53, 1103323), (154, 'David Pruitt', 58, 1684536), (155, 'Jamie Barr', 24, 1169938), (156, 'Steven Bush', 38, 1680598), (157, 'Mary Arellano', 32, 1432022), (158, 'Stephen Clarke', 27, 2493267), (159, 'Amy Doyle', 37, 1679938), (160, 'Michael Mayer', 50, 2538004), (161, 'Christian Blake', 59, 2420590), (162, 'Kevin Hernandez', 31, 2051188), (163, 'Brett Barker', 29, 2772042), (164, 'Tammy Carrillo', 50, 1203065), (165, 'Leon Crawford', 45, 2248242), (166, 'Greg Miller', 34, 1371430), (167, 'Kaitlin Taylor', 47, 2188441), (168, 'Brandon Cline', 27, 2684874), (169, 'Christopher Andrews', 43, 2235905), (170, 'Dr. Nicole White', 51, 1251363), (171, 'Frank Ellison', 59, 2017026), (172, 'Daniel Hinton', 58, 2129521), (173, 'Brian Reed', 41, 2344945), (174, 'Lance Davis', 58, 2940141), (175, 'Nancy Guerrero', 45, 1540511), (176, 'Jason Garcia', 47, 2335819), (177, 'Henry Hernandez', 60, 1601338), (178, 'Debra Mejia', 38, 2152169), (179, 'Rebekah Rojas', 29, 2157905), (180, 'Colleen Johnson', 60, 2304157), (181, 'Justin Weiss', 46, 1930788), (182, 'Arthur Rogers', 32, 1477990), (183, 'Emily Mason', 57, 2190018), (184, 'Kathleen White', 45, 2540509), (185, 'Jeffrey Mullins', 30, 1474589), (186, 'John Wright', 30, 2529187), (187, 'Aaron Nelson', 49, 1067583), (188, 'Thomas Simmons', 29, 2199727), (189, 'Tanya Munoz', 25, 1702842), (190, 'Brandon Olson', 26, 2509962), (191, 'Andrea Stewart', 60, 2782038), (192, 'Cynthia Contreras', 23, 2297029), (193, 'Luke Miller', 24, 1418653), (194, 'Ashley Melendez', 51, 2384041), (195, 'Jeremy Gonzalez', 59, 1574165), (196, 'Adam Harvey', 42, 1560232), (197, 'Bianca Rowe', 29, 1993260), (198, 'Jason Cunningham', 56, 1700172), (199, 'Linda Turner', 42, 1176672), (200, 'Ashley Martin', 53, 1541973), (201, 'Kristen Buchanan', 57, 1016793), (202, 'Jason Carter', 43, 2274158), (203, 'Cynthia Hernandez', 24, 1497570), (204, 'Matthew James', 25, 2621614), (205, 'Eric Miller', 59, 2358231), (206, 'Alexander Perez', 35, 2374832), (207, 'Victoria Underwood', 42, 1016514), (208, 'Laura Scott', 26, 2687297), (209, 'Walter Chen', 55, 1539786), (210, 'Zachary Wheeler', 57, 2614626), (211, 'Kimberly Schmidt', 30, 2531585), (212, 'Jennifer Schmidt', 30, 2724102), (213, 'Heather Sampson', 55, 2650318), (214, 'Kelsey Hull', 23, 1555320), (215, 'Alyssa Carlson DVM', 59, 2107197), (216, 'Dennis Gardner', 35, 1350199), (217, 'Lynn Duffy', 39, 2321750), (218, 'Robert Parker', 50, 1647131), (219, 'Tyler Cooke', 56, 1693869), (220, 'Christine Allen', 27, 2791009), (221, 'Frank Vazquez', 29, 1949626), (222, 'George Francis', 23, 2610229), (223, 'Philip Lopez', 53, 2476094), (224, 'Hailey Lester', 31, 2447743), (225, 'Tristan Bush', 60, 2971134), (226, 'Emily Johnson', 45, 2001415), (227, 'Jennifer Moyer', 44, 2772702), (228, 'Alex Manning', 51, 2838186), (229, 'Michael Fox', 23, 1292483), (230, 'Rodney Edwards', 33, 2566752), (231, 'Caleb Gamble DDS', 53, 2745761), (232, 'Lindsay Gilbert', 38, 2075867), (233, 'Alexander Benson', 28, 2318896), (234, 'Diana Moreno', 50, 2705251), (235, 'Katie Burns', 44, 2479738), (236, 'Melissa Watts', 45, 2327889), (237, 'Lisa Christensen', 26, 2998271), (238, 'Monica Wilson', 48, 1947151), (239, 'Melvin Cox', 40, 1895639), (240, 'Miranda Bishop', 34, 1212511), (241, 'Brandon Oconnor', 38, 2086671), (242, 'Victoria Williams', 34, 2652157), (243, 'Sydney Owen', 49, 1435418), (244, 'Sonya Carter', 50, 2147063), (245, 'Sara Diaz', 57, 1503207), (246, 'Jason Watson', 37, 2700431), (247, 'Melissa Proctor', 24, 2036600), (248, 'Amanda Vaughn', 53, 2554181), (249, 'Jason Edwards', 55, 2144427), (250, 'Steven Smith', 57, 2527182), (251, 'Robert Forbes', 24, 2569912), (252, 'James Castillo', 41, 2148785), (253, 'Joshua Herrera', 45, 1024658), (254, 'Cynthia Williams', 32, 1470609), (255, 'Rebecca Walker', 47, 1025192), (256, 'Mary Hall', 43, 1361608), (257, 'Joseph Gray', 24, 2241894), (258, 'Natalie Mcguire', 46, 2605829), (259, 'Bethany Calderon', 50, 2460179), (260, 'Randall Norman', 39, 2566066), (261, 'William Robinson', 26, 2866902), (262, 'John Smith', 46, 1885796), (263, 'Amy Mclaughlin', 47, 2124379), (264, 'Sarah Horton', 39, 2057481), (265, 'Monique Merritt', 43, 2123404), (266, 'Richard Huynh', 50, 1337263), (267, 'Haley Lewis', 58, 1058613), (268, 'Cindy Davis', 59, 2402146), (269, 'Kristina Lam', 51, 2788991), (270, 'Michael Johnson', 34, 2541198), (271, 'Kenneth Harris', 32, 1810809), (272, 'Reginald Garcia', 55, 1748771), (273, 'Kristina Miller', 34, 2551899), (274, 'Victor Stokes', 40, 1971170), (275, 'Patricia Barton', 27, 1096946), (276, 'Tyler Johnson', 29, 2649947), (277, 'Sean Smith', 40, 1088644), (278, 'Thomas Long', 48, 2252829), (279, 'Kim Yang', 32, 2901273), (280, 'Candice Mcintyre', 25, 2803712), (281, 'John Smith', 46, 1898367), (282, 'Cameron Cook', 25, 2271127), (283, 'James Davis', 52, 2895372), (284, 'Alexander Brown', 56, 1936829), (285, 'Brandon Mason', 23, 2256969), (286, 'Nicole Woodward', 33, 1233972), (287, 'Kayla Delgado', 27, 1389447), (288, 'Cory Mcdonald', 42, 1981853), (289, 'Deanna Rogers', 24, 1104396), (290, 'Sara Brown', 58, 1437461), (291, 'Samantha Hill', 56, 2437143), (292, 'Jermaine Daniels', 30, 1438163), (293, 'Mr. Joseph Williams', 60, 2663545), (294, 'Stacey Young', 37, 2403853), (295, 'Miss Charlene Galle', 33, 1239299), (296, 'Eugene Brown', 26, 2317696), (297, 'Mark Reynolds', 52, 1926974), (298, 'Renee Miller', 39, 1153755), (299, 'Michael Brown', 52, 2629457), (300, 'Jason Avila', 55, 2447187), (301, 'Jenna Norman', 47, 1271413), (302, 'Spencer Gonzalez', 41, 2352485), (303, 'Jacqueline Rogers', 37, 1526323), (304, 'Randall Hunt', 52, 1961557), (305, 'Rachel Miller', 40, 2723851), (306, 'Brenda Patterson', 28, 1856544), (307, 'Patricia Parker', 41, 2332726), (308, 'Joshua Romero', 28, 2894098), (309, 'Anthony Barajas', 24, 1031117), (310, 'Rachel Jenkins', 39, 1143021), (311, 'Michael Reynolds', 27, 1626707), (312, 'Eric Drake', 53, 2820143), (313, 'Jacqueline Morris', 44, 2884865), (314, 'Laura Esparza', 42, 1939746), (315, 'Tara Jones', 54, 1330509), (316, 'Andrew Turner', 44, 1068729), (317, 'Pamela Peterson', 56, 2305702), (318, 'Amber Mcguire', 56, 1004156), (319, 'Keith Walker', 30, 2857023), (320, 'Frank Anderson', 45, 1224848), (321, 'Natalie Gallagher', 24, 2824624), (322, 'Madeline Zamora', 28, 2852028), (323, 'Gregory Poole', 26, 1003812), (324, 'Ashley Hoffman', 60, 1995232), (325, 'Heather Clarke', 27, 2881586), (326, 'Cindy Dorsey', 48, 1267804), (327, 'Scott Davis', 24, 1676248), (328, 'Michael Harper', 44, 1609968), (329, 'Margaret Smith DVM', 35, 2051388), (330, 'Tony Butler', 54, 2479978), (331, 'Cody Bennett', 36, 2451980), (332, 'Christina Shaw', 23, 1065694), (333, 'Keith Stein', 44, 2524634), (334, 'Sean Reynolds', 46, 1485871), (335, 'Curtis Mcclure', 31, 2555463), (336, 'Robert Cooper', 33, 1135618), (337, 'Ashley Wilson', 28, 1049601), (338, 'Robert Payne', 40, 1041699), (339, 'Johnny Hernandez', 28, 1135630), (340, 'Joseph Hernandez', 23, 2595391), (341, 'Mckenzie Sutton', 44, 1830410), (342, 'Jonathan Barker', 56, 2203198), (343, 'Kevin Dorsey', 28, 2316544), (344, 'Kelli James', 57, 1109747), (345, 'Cesar Sanders', 32, 1636497), (346, 'Ernest Ray', 57, 2729646), (347, 'Stephen Mcintosh', 47, 1337680), (348, 'Joel Jacobs', 50, 2964034), (349, 'Jessica Christensen', 24, 1221427), (350, 'Jose Weaver', 46, 2011417), (351, 'Michael Ellis', 25, 2817516), (352, 'Martha Schultz', 33, 1444679), (353, 'Lisa Mejia', 52, 1625892), (354, 'Ronald Simmons', 32, 2150117), (355, 'James Patterson', 59, 1911243), (356, 'Dr. Sarah Pollard D', 23, 2106945), (357, 'Victor Alvarez', 37, 1670928), (358, 'Robert Jones II', 60, 1767440), (359, 'Kaitlyn Simpson', 30, 2896948), (360, 'Justin Lopez', 57, 1368061), (361, 'Adam Roach', 39, 2773734), (362, 'Annette Hunter', 37, 2299320), (363, 'Anthony Spencer', 43, 2568238), (364, 'Brandon Cunningham', 53, 2729651), (365, 'Kelly Green', 24, 1684635), (366, 'Bridget Hudson', 26, 2100684), (367, 'Angela Banks', 30, 2412662), (368, 'John Adams', 58, 2548942), (369, 'Joseph Mclean', 34, 1300814), (370, 'Susan Parker', 35, 1741732), (371, 'Cindy Shah', 38, 2734490), (372, 'Barbara Ellis', 29, 2868775), (373, 'Angel Walters', 31, 2229266), (374, 'Brandon Shaw', 39, 2422926), (375, 'Jesse Figueroa', 53, 1054105), (376, 'Kayla Rodriguez', 49, 1881725), (377, 'Jasmine Pearson', 59, 2463024), (378, 'Kathleen Pratt', 51, 2526204), (379, 'Austin Reilly', 25, 2282595), (380, 'Tracie French', 58, 1035411), (381, 'David Dixon', 49, 1625982), (382, 'Gregory Dickson', 35, 1806638), (383, 'Kevin Jones', 45, 2891807), (384, 'Peter Cooper', 28, 1622274), (385, 'Maria Smith', 51, 2996962), (386, 'Laura Turner', 49, 1264290), (387, 'John Carlson', 48, 1724118), (388, 'Steven Harvey', 23, 2223431), (389, 'Nicole Ortega', 30, 2787802), (390, 'Adam Smith', 58, 1012286), (391, 'Matthew Bartlett', 39, 2696767), (392, 'Donna Oneal', 53, 2369358), (393, 'Kelly Marsh', 26, 1522049), (394, 'Scott Olson', 39, 1610909), (395, 'Katie Ramirez', 23, 2901591), (396, 'Denise Harper', 53, 1336617), (397, 'Lisa Allen', 35, 2047903), (398, 'Jennifer Nelson', 33, 1898263), (399, 'Logan Rice', 50, 2567016), (400, 'Douglas Smith', 57, 1100901), (401, 'Christopher Hancock', 39, 2320564), (402, 'Michael Morgan', 44, 1553465), (403, 'Kimberly Moreno', 31, 2359138), (404, 'Leslie Camacho', 30, 2588953), (405, 'Donald Wade', 33, 2080648), (406, 'James Rogers', 60, 1220074), (407, 'Tyler Powell', 39, 2815941), (408, 'Jeremy Diaz', 37, 2040408), (409, 'Amy Kemp', 57, 1723212), (410, 'Monica Alexander', 44, 1217891), (411, 'Andrew Woods', 59, 1420150), (412, 'Brian Moore', 52, 1005912), (413, 'Brian Hamilton', 36, 1462568), (414, 'Michael Price', 45, 1061830), (415, 'Joshua Rodriguez', 46, 1590692), (416, 'Donna Tran', 31, 1609778), (417, 'Christopher Flores', 41, 2310882), (418, 'Sheila Davis', 27, 1519580), (419, 'Ebony Parsons', 33, 2328731), (420, 'Daniel Pitts', 23, 2934523), (421, 'Tyler Cooper', 41, 2457175), (422, 'Scott Richards', 29, 2662385), (423, 'Daniel Barron', 52, 1163986), (424, 'Robert Hartman', 28, 1222149), (425, 'Bethany Butler', 25, 2996267), (426, 'Anthony Jones', 50, 2829904), (427, 'Kevin Rojas', 32, 2105715), (428, 'Samuel Deleon', 39, 2437152), (429, 'Robert Garrett', 44, 2223242), (430, 'Rhonda Cordova', 50, 1892804), (431, 'John Rodriguez', 27, 2663812), (432, 'Brandon Bailey', 59, 2274022), (433, 'Heather Carr', 26, 1957267), (434, 'Gary Gutierrez', 29, 2929831), (435, 'Joseph Brown', 38, 1093275), (436, 'Victoria Wheeler', 47, 2446120), (437, 'Kathryn Nguyen', 40, 1799675), (438, 'Timothy Fisher', 40, 2741599), (439, 'Andrea Olson', 53, 2283691), (440, 'Julie Williams', 60, 1059291), (441, 'Daniel Long', 30, 2524724), (442, 'Andrew Humphrey', 30, 2768966), (443, 'Patricia Black', 59, 2110029), (444, 'Megan Roberts MD', 25, 1285392), (445, 'Julia Riddle', 50, 1183427), (446, 'Noah Thornton', 34, 1621367), (447, 'Tyler Willis', 55, 1280469), (448, 'Molly Johnson', 45, 1775821), (449, 'Philip Mann', 54, 2108760), (450, 'Robert Bryan', 55, 2432544), (451, 'John Mcdonald', 42, 2756085), (452, 'Jonathan Hopkins', 29, 1986232), (453, 'Brittany Lee', 50, 2853251), (454, 'Rachel White', 49, 2894653), (455, 'Philip Gutierrez', 34, 2211027), (456, 'Justin Maldonado', 38, 2829931), (457, 'Katie Davidson', 50, 2975087), (458, 'Jared Sanchez', 34, 1117608), (459, 'Andrea Eaton', 26, 2339810), (460, 'John Walker', 36, 1608615), (461, 'Sydney Novak', 54, 1208014), (462, 'Isaac Ross', 33, 1086677), (463, 'Maria Hernandez', 52, 2549795), (464, 'Roberta Clark', 42, 1779884), (465, 'Thomas Williams', 25, 1471919), (466, 'Crystal James', 57, 2818734), (467, 'Angela Smith', 42, 1061599), (468, 'Dawn Anderson', 48, 1952070), (469, 'Francisco Morgan', 35, 1487471), (470, 'Robert Cook', 50, 1491139), (471, 'Lauren Smith', 26, 1750526), (472, 'Mark Duran', 47, 2940465), (473, 'Thomas Blake', 34, 2030953), (474, 'Mr. Robert Wilkerso', 58, 1167130), (475, 'Thomas Durham', 46, 1290177), (476, 'Jennifer Shelton', 24, 1222469), (477, 'Betty Fields', 31, 1141234), (478, 'Jacob Hayes PhD', 58, 2699297), (479, 'Erin Brown', 34, 1381343), (480, 'Theresa Chandler', 45, 2568740), (481, 'James Strickland', 29, 1910656), (482, 'Karen Hancock', 35, 1904601), (483, 'Toni Morris', 25, 1261321), (484, 'Regina Greene', 42, 2078206), (485, 'David Castaneda', 57, 2660634), (486, 'Lisa Maldonado', 51, 2496068), (487, 'Chad Hardin', 36, 1831236), (488, 'Scott Russell', 48, 2747414), (489, 'Jennifer Perez', 35, 2478927), (490, 'Amy Fernandez', 44, 1418649), (491, 'David Anderson', 32, 2725113), (492, 'David Brewer', 38, 1194872), (493, 'James Blankenship', 48, 2719368), (494, 'Laurie Bird', 28, 2913418), (495, 'Omar Nguyen', 41, 2552376), (496, 'Cameron Mcgee', 52, 1855143), (497, 'Amy Stevens', 40, 1133373), (498, 'Sherri Roberts', 46, 2534262), (499, 'Michael Douglas', 23, 2904872), (500, 'Haley Faulkner', 27, 2793039), (501, 'Adrienne Meza', 37, 2249538), (502, 'Bradley Johnson', 45, 2713239), (503, 'Douglas Fields', 28, 2037806), (504, 'Bryan Smith', 57, 2968244), (505, 'David Martinez', 28, 2603463), (506, 'Phillip Ward', 32, 2371798), (507, 'James Gonzalez', 26, 1968329), (508, 'Malik Snow', 48, 2973006), (509, 'James Lewis', 45, 1827172), (510, 'Heather Morrison', 48, 1259034), (511, 'Nathan Sharp', 32, 2677258), (512, 'Justin Benson', 35, 1616642), (513, 'Tanya Davila', 49, 1880853), (514, 'Shelly Williams', 49, 2648689), (515, 'Cassandra Franklin', 47, 2490203), (516, 'Mr. Paul Russo', 41, 2618272), (517, 'Edgar Cole DDS', 35, 1812052), (518, 'Heidi Ruiz', 49, 1688736), (519, 'Cesar Watson', 38, 1031099), (520, 'Tracey Scott', 58, 1885407), (521, 'Lori Hopkins', 39, 2648389), (522, 'Bradley Newman', 52, 2952749), (523, 'Anna Zamora', 40, 2984947), (524, 'Gina Moreno', 49, 2666591), (525, 'Matthew Davis', 58, 1978658), (526, 'Michelle Johnson', 45, 1872022), (527, 'Steven Rivera', 48, 2262133), (528, 'James Davis', 26, 1489243), (529, 'Arthur Parks', 50, 1057533), (530, 'Matthew Smith', 31, 1156151), (531, 'Daniel Walls', 49, 1761225), (532, 'Brittany Clark', 57, 1902425), (533, 'Jon Jackson', 23, 1832512), (534, 'Chad Brady', 35, 1197815), (535, 'Stacy Brown', 36, 2438149), (536, 'Marcus Carpenter', 49, 2020992), (537, 'Matthew Ortiz', 48, 1757340), (538, 'Justin Wells', 59, 1705703), (539, 'Stanley Bridges', 55, 1621913), (540, 'Theresa Taylor', 33, 1577363), (541, 'Sarah Carter', 59, 1705438), (542, 'Katherine Cooper', 27, 2549031), (543, 'Claudia Robinson', 31, 1243572), (544, 'Eric Callahan', 55, 1072233), (545, 'Dustin Love', 55, 2578747), (546, 'Dennis Jackson', 26, 2000495), (547, 'Derrick Nelson MD', 39, 2954192), (548, 'Susan Murray', 41, 2957812), (549, 'James Clark', 55, 1336984), (550, 'Sophia Baird', 46, 1449265), (551, 'Mathew Dillon', 39, 2867838), (552, 'Ryan Warner', 37, 2328379), (553, 'Jessica Perez', 33, 2221193), (554, 'Mrs. Jennifer Johns', 23, 2536752), (555, 'Laurie Wallace', 42, 1249360), (556, 'Timothy Cole', 42, 2954962), (557, 'Elizabeth Dennis', 26, 1566817), (558, 'Joann Johnson', 29, 1141830), (559, 'Patrick Bennett', 33, 1944096), (560, 'Valerie Medina', 35, 2180596), (561, 'Brandi Coleman', 51, 1661242), (562, 'Joseph Davila', 40, 2564814), (563, 'Jessica Roberts', 52, 1670252), (564, 'Isaiah Gould', 24, 1787722), (565, 'Jill Schneider', 50, 2392779), (566, 'Anne Newman', 56, 2382770), (567, 'Joseph Dean', 28, 1147077), (568, 'Ms. Carolyn Smith', 46, 2747048), (569, 'Stephanie Acosta', 53, 2806831), (570, 'Jesse Cowan', 27, 1272716), (571, 'Wendy Brewer', 44, 1628298), (572, 'Maria Rowe', 30, 2827391), (573, 'Heather Williams', 39, 1465993), (574, 'Paul Smith', 45, 1368916), (575, 'Timothy Young', 28, 1718062), (576, 'Lisa Wilkerson', 44, 2598779), (577, 'Jordan Wise', 40, 2145271), (578, 'William Ross', 27, 1802977), (579, 'Vincent Pena', 46, 2154327), (580, 'Steven Hill', 41, 2157896), (581, 'Sara Miller', 57, 1489963), (582, 'Daniel Edwards', 47, 1036644), (583, 'Larry Goodwin', 33, 2540277), (584, 'Christina Morse', 46, 2147196), (585, 'Olivia Alvarez', 58, 2182318), (586, 'Kathryn Smith', 54, 2677456), (587, 'Brittany West', 26, 1927423), (588, 'Monique Johnson', 44, 2314990), (589, 'Steven Horn', 28, 1611523), (590, 'Brooke Choi', 51, 1925042), (591, 'Eileen Neal', 36, 1565360), (592, 'Rhonda Brown', 50, 1414437), (593, 'Brandi Fletcher', 38, 1947476), (594, 'Darryl Rodriguez', 40, 2340158), (595, 'Angel Cox', 25, 1102051), (596, 'Bethany Martin', 39, 2696972), (597, 'Adam Robinson', 58, 2194544), (598, 'Jerome Campbell', 32, 1864686), (599, 'John Gordon', 30, 1633424), (600, 'Erika Hines', 46, 1074154), (601, 'Jamie Martinez', 58, 2386882), (602, 'Paula Clark', 30, 2662085), (603, 'Riley Ray PhD', 45, 2311003), (604, 'Michael Harris', 37, 2407404), (605, 'Taylor Miller', 47, 2576199), (606, 'Stephanie May', 49, 2875848), (607, 'Taylor Mendez', 39, 1780674), (608, 'Jessica Harris MD', 52, 1664708), (609, 'Daniel Johnson', 48, 1454365), (610, 'Amanda Huynh', 40, 1994331), (611, 'Roberto Lee', 36, 2414890), (612, 'Nicole Robertson', 54, 1895892), (613, 'Brittney Smith', 58, 2704837), (614, 'Daniel Conrad', 31, 1778542), (615, 'Barbara Smith', 39, 2893535), (616, 'Shane Leon', 46, 1467410), (617, 'Wanda Nelson', 29, 2938516), (618, 'Lauren Stephenson', 31, 1086462), (619, 'Jason Parsons', 57, 2389212), (620, 'Shelby Taylor DVM', 34, 2982883), (621, 'Christopher Rogers', 56, 2664579), (622, 'Noah Richardson', 49, 2706123), (623, 'Gary Klein', 53, 1987590), (624, 'Donald Richardson', 36, 1975839), (625, 'Jessica Hammond', 55, 2414157), (626, 'Christopher Austin', 60, 2867404), (627, 'Ryan Hill', 39, 2191460), (628, 'Albert Baker', 39, 1115975), (629, 'Brett Smith', 54, 1221073), (630, 'Sherry Gonzalez', 34, 1089593), (631, 'Maurice Allen', 27, 2896332), (632, 'Shannon Owens', 45, 1334289), (633, 'Megan Logan', 53, 1806734), (634, 'Brandon Williams', 36, 2039950), (635, 'Cory Zavala', 32, 2692040), (636, 'Mary Kim', 49, 2240686), (637, 'Stephen Perez', 35, 1395772), (638, 'Monique Rodriguez', 56, 1722088), (639, 'Luke Edwards', 42, 1022864), (640, 'Jillian Rose', 43, 2282455), (641, 'Jeffrey Benton', 47, 1892422), (642, 'Jerry Wright', 59, 2858845), (643, 'Andrew Russell', 59, 2915608), (644, 'Mark Palmer', 28, 2641811), (645, 'Stephen Walker', 37, 2679250), (646, 'Crystal Obrien', 60, 1752602), (647, 'Anita Scott', 47, 1650019), (648, 'Sandra Hodge', 26, 1015979), (649, 'Jennifer Jenkins', 42, 2524312), (650, 'Andrew Garcia', 38, 1549259), (651, 'Amanda Hill', 40, 2993103), (652, 'Denise Walton', 56, 1554328), (653, 'Michael White', 34, 1441577), (654, 'Jennifer Hood', 34, 1763570), (655, 'Bruce Wilkins', 41, 2460153), (656, 'Kathy Lee', 44, 1935725), (657, 'Philip Hernandez', 26, 1651625), (658, 'Lisa Wilson', 42, 2369184), (659, 'Wendy Wallace', 45, 1607636), (660, 'Alexis Anderson', 38, 1301572), (661, 'Melissa Carey', 37, 1979649), (662, 'David Vazquez', 33, 2761654), (663, 'Mrs. Megan Erickson', 46, 1280813), (664, 'Jessica Patterson', 30, 2530998), (665, 'Ashley Rivera', 53, 1689193), (666, 'Eileen Freeman', 51, 2724497), (667, 'Thomas Robertson', 41, 1711158), (668, 'Pam Grant', 49, 1450832), (669, 'Brian Evans', 32, 1677149), (670, 'Jennifer Smith', 47, 1342593), (671, 'Desiree Ayers', 53, 2209443), (672, 'Karen Cummings', 23, 1200144), (673, 'Maria Meadows', 44, 2239327), (674, 'Kelsey Smith', 59, 1046338), (675, 'Jeffrey Snyder', 43, 1362164), (676, 'Karla Johnson', 36, 2462809), (677, 'Ashley Johnson', 27, 1927440), (678, 'Stephanie Boyd', 41, 2041756), (679, 'Jessica Thomas', 25, 2394938), (680, 'Belinda Wright', 36, 2277533), (681, 'Carlos Flores', 58, 2636419), (682, 'Melissa Kennedy', 42, 2021121), (683, 'Ryan Roach', 38, 2321194), (684, 'Derek Sandoval', 26, 2726960), (685, 'Brian Jones', 46, 2669588), (686, 'Patricia Jones', 49, 2076605), (687, 'Brandon Holmes', 47, 2690389), (688, 'Denise Ferguson', 32, 2596779), (689, 'Dr. Hannah Mueller', 60, 1822496), (690, 'Samantha Rodriguez', 43, 1240322), (691, 'Nathan Martinez', 41, 2011896), (692, 'Larry Jones', 27, 2212655), (693, 'Rebecca Bryant', 48, 1946878), (694, 'Kimberly Wilkinson', 48, 2995996), (695, 'Jennifer Brown', 29, 2540496), (696, 'Michele Clark', 26, 1962867), (697, 'Melanie Green', 27, 2298712), (698, 'Victoria Mayer', 28, 1696600), (699, 'Bailey Hill', 29, 2240795), (700, 'Paul Rodriguez', 40, 2648147), (701, 'Holly Butler', 28, 2273747), (702, 'Lydia Shelton', 37, 1758484), (703, 'Donald Perry', 40, 1153552), (704, 'Stephanie Dyer', 30, 1410213), (705, 'Kelly Martinez', 23, 2124821), (706, 'Virginia Rodriguez', 46, 2131166), (707, 'James Robbins', 60, 2521470), (708, 'Brian Smith', 41, 2732681), (709, 'Philip Potter', 58, 2852300), (710, 'Phillip Reyes', 48, 1837997), (711, 'Michael Camacho', 32, 2078950), (712, 'Geoffrey Robbins', 48, 1429510), (713, 'April Reed', 49, 1922967), (714, 'John Diaz', 45, 2757428), (715, 'John Washington', 60, 2478572), (716, 'Michelle Lyons', 35, 2198420), (717, 'Angela Rodriguez', 34, 1100794), (718, 'Logan Kirk', 38, 2396204), (719, 'Melissa Houston', 28, 2427676), (720, 'Robert Wells', 60, 1574760), (721, 'Matthew Medina', 31, 1507295), (722, 'Erin Gonzales', 60, 1375505), (723, 'Michael Andrews', 31, 2936144), (724, 'Kristen Mahoney', 30, 2504776), (725, 'Mark Smith', 25, 1354526), (726, 'Tracy Jackson', 60, 1162475), (727, 'Kristin Murphy', 24, 1063992), (728, 'Amy Garcia', 28, 1691331), (729, 'Travis Nguyen', 31, 1540404), (730, 'Holly Andrews', 43, 1610368), (731, 'Casey Stevens', 45, 2778275), (732, 'Michael Howard', 46, 2297987), (733, 'Laurie Williams', 60, 1287194), (734, 'Crystal Hawkins', 47, 1785524), (735, 'Francisco Allen', 44, 1830614), (736, 'Brandon Johnson', 53, 2748363), (737, 'Travis Reynolds', 45, 2119737), (738, 'Susan Lee', 37, 1332339), (739, 'David Fletcher', 46, 2317832), (740, 'Angela Ray', 28, 2374305), (741, 'Brandon Newton', 43, 2292475), (742, 'Anna King', 46, 1824908), (743, 'Crystal Clark', 43, 2202682), (744, 'Jessica Norris', 57, 2031182), (745, 'Melissa Ramirez', 55, 1265548), (746, 'Lauren Buck', 41, 2904222), (747, 'Emily Vargas', 46, 1483884), (748, 'Benjamin Kline', 58, 2217362), (749, 'Wanda Nguyen', 52, 1229979), (750, 'Ronald Klein', 31, 1136680), (751, 'Jo Garza', 32, 2625726), (752, 'Mary Torres', 56, 2757610), (753, 'Kevin Ramirez', 42, 2533689), (754, 'Tanya Gates', 60, 2761420), (755, 'Jake Martinez', 52, 2666037), (756, 'Jeremiah Blackwell', 41, 1194262), (757, 'Alex Green', 55, 1172010), (758, 'Tiffany Armstrong', 42, 1021720), (759, 'John Murray', 42, 2392698), (760, 'Ashley Castaneda', 39, 2432956), (761, 'Dr. Brittany Griffi', 51, 1808819), (762, 'Gregory Snow', 43, 2262716), (763, 'Nicole Davis', 35, 1461504), (764, 'Pamela Snyder', 28, 1696011), (765, 'Dennis Johnson', 53, 2650774), (766, 'Aaron Kim', 37, 1383982), (767, 'Karen Harris', 35, 1876724), (768, 'Jamie Bishop', 25, 1983908), (769, 'Diana Smith', 58, 2432845), (770, 'Jacob Mcintyre', 30, 2451647), (771, 'Amber Ford', 55, 1496142), (772, 'Laura Avery', 50, 1025979), (773, 'Jade Parks', 60, 1288678), (774, 'Marisa Mason', 47, 2035830), (775, 'Kathy Parker', 30, 1329976), (776, 'Travis Hall', 50, 1883559), (777, 'John Zuniga', 55, 2435745), (778, 'James Williams', 43, 2363014), (779, 'Brian Morgan', 60, 2867006), (780, 'John Blankenship', 55, 2325334), (781, 'Samantha Taylor', 24, 1710974), (782, 'James Ferguson', 28, 2599340), (783, 'Yolanda Brown', 38, 1973233), (784, 'Zachary Walker', 31, 2267171), (785, 'Brandi Thompson', 50, 2091623), (786, 'Charles Kim', 26, 2084293), (787, 'Kelly Valencia', 39, 2163476), (788, 'Anthony Martin', 39, 1793534), (789, 'Benjamin Arias', 44, 2904112), (790, 'Rose Bryant', 46, 2788106), (791, 'Ronald Harris', 44, 1742095), (792, 'David Young', 44, 1035397), (793, 'Richard Gardner', 53, 1026073), (794, 'David Lambert', 40, 1868686), (795, 'Brandon Fitzpatrick', 30, 2352983), (796, 'James Martin', 59, 1846413), (797, 'Eric Taylor', 41, 2459847), (798, 'Steven Ortiz', 29, 1104447), (799, 'Mr. Eric Rice', 42, 2073170), (800, 'Carol Pugh', 48, 1214246), (801, 'James Marks', 57, 1546125), (802, 'Andrew Perkins', 32, 1059717), (803, 'Gary Coleman', 60, 2041662), (804, 'Peter Garcia', 45, 1943489), (805, 'Christopher Mitchel', 42, 2799528), (806, 'Sandra Adams', 44, 2593287), (807, 'Mario Fowler', 32, 2241865), (808, 'Mark Obrien', 28, 1618235), (809, 'Christina Hicks', 37, 1364182), (810, 'Alexander Barnes', 50, 1315361), (811, 'Diane Bryan', 43, 2299361), (812, 'Rebecca Terry', 32, 2887319), (813, 'Mary Glover', 35, 2919456), (814, 'Michelle Anderson', 46, 1631891), (815, 'Jeffrey Crosby', 34, 2789828), (816, 'Michael Gentry', 36, 2446326), (817, 'Lawrence Guerrero', 32, 1250760), (818, 'Tammy Crawford', 56, 1009163), (819, 'Monica Chase', 24, 1074181), (820, 'Latoya Morrow', 49, 2023983), (821, 'Craig Williams', 36, 1414127), (822, 'Kristy Newman', 48, 2582655), (823, 'Eric Washington', 29, 2167199), (824, 'Connie Hudson', 58, 2665364), (825, 'Chris Hickman', 25, 1321681), (826, 'Matthew Williams', 41, 2318693), (827, 'Karen Williamson', 39, 1440502), (828, 'April Perez', 33, 1553560), (829, 'Andrew Neal', 26, 1584081), (830, 'Wendy Jones', 53, 2093839), (831, 'Nancy Huff', 53, 1726867), (832, 'Brian King', 26, 2302011), (833, 'Chad Warren', 48, 1995660), (834, 'Brooke Parker', 26, 1827793), (835, 'Michael Williams', 34, 1047205), (836, 'Michael Vazquez', 49, 2546415), (837, 'Madison Williams', 45, 1833771), (838, 'Donna Scott DDS', 38, 2571420), (839, 'Anna Collier', 37, 2268806), (840, 'Gary Clark', 55, 2929073), (841, 'Audrey Carr', 47, 1383317), (842, 'Logan Garcia', 38, 1013213), (843, 'Dr. Casey Becker', 46, 1084459), (844, 'Douglas Johnson', 51, 1218496), (845, 'Taylor Mason', 44, 1672185), (846, 'Patricia Watson', 25, 1042363), (847, 'Melanie Ray', 25, 1114050), (848, 'Keith Nichols', 26, 1186042), (849, 'Kevin Johnston', 53, 2659517), (850, 'Steven Small', 58, 1404325), (851, 'Katie Moore', 30, 2744069), (852, 'Erica Long', 57, 2051983), (853, 'John Coleman', 41, 2358560), (854, 'Joshua Anderson', 42, 1758962), (855, 'Justin Hill', 25, 2853291), (856, 'Megan Cline', 24, 1446358), (857, 'Timothy Wong', 48, 1130548), (858, 'Nancy Gonzalez', 39, 2816878), (859, 'Russell Brown', 49, 2054346), (860, 'Erik Jarvis', 45, 1611050), (861, 'Marc Jones', 60, 2081906), (862, 'Arthur Schmidt', 50, 2370840), (863, 'Sergio Young', 60, 1151599), (864, 'Dennis Mendez', 46, 1856404), (865, 'Michael Hubbard', 60, 2859051), (866, 'Matthew Donaldson', 49, 2007206), (867, 'Tiffany Holmes', 60, 1413163), (868, 'Alan Harmon', 55, 2196585), (869, 'Kaitlin Garrett', 42, 1089264), (870, 'Lisa Lyons', 38, 2334539), (871, 'Bryce Thompson', 53, 2714538), (872, 'David Bruce', 53, 2887567), (873, 'Jason Jones', 56, 2305162), (874, 'Lisa Martin', 59, 1545269), (875, 'Kelly Smith', 23, 2840007), (876, 'Kenneth Taylor', 33, 1534516), (877, 'Nancy Roberts', 28, 2958101), (878, 'Katie Anthony', 38, 1166694), (879, 'Sara Cochran', 42, 1810576), (880, 'Matthew Maldonado', 47, 1331672), (881, 'Anthony Hudson Jr.', 36, 1782936), (882, 'Johnny Meyers', 30, 2737993), (883, 'Theresa Bonilla', 42, 2317849), (884, 'John Murphy', 49, 1669701), (885, 'Tina Conrad', 60, 1746972), (886, 'Nancy Kelly', 46, 2319273), (887, 'Julia Sanchez', 27, 1043044), (888, 'Austin Martin', 43, 1510796), (889, 'Brian Bailey', 56, 2625295), (890, 'Nicholas Hayes', 42, 2874242), (891, 'Daniel Jensen', 41, 1066844), (892, 'Cristina Delgado', 57, 2030638), (893, 'Kim Moreno', 46, 1605834), (894, 'Brandon Gonzales', 34, 1657985), (895, 'Brent Suarez', 47, 2401734), (896, 'Lisa Smith', 27, 1755013), (897, 'Miguel Bell', 51, 1247090), (898, 'Juan Taylor', 44, 1918140), (899, 'Abigail Johnston', 49, 1931637), (900, 'Michael Perry', 44, 2434252), (901, 'Jonathan Vang', 56, 1477659), (902, 'Ana Sloan', 45, 2242598), (903, 'William Wallace', 25, 1249607), (904, 'Robert Robertson', 44, 2714698), (905, 'Savannah Frazier', 34, 2169478), (906, 'Jason Cobb', 31, 2004980), (907, 'Andrew Grant', 34, 1332312), (908, 'Denise Smith', 35, 2585705), (909, 'Jennifer Sandoval', 30, 1373246), (910, 'Andres Davis MD', 50, 2939628), (911, 'Troy Gallagher', 33, 1708590), (912, 'Michael Romero', 53, 1591496), (913, 'Antonio Edwards', 37, 2636336), (914, 'Lisa Johnson MD', 28, 1501439), (915, 'Rita Nelson', 50, 2222557), (916, 'Christine Rios', 25, 2546534), (917, 'Ryan Craig', 28, 2668970), (918, 'William Carlson', 59, 1316321), (919, 'Tina Fisher', 39, 2077302), (920, 'James Chen', 56, 2723346), (921, 'Jordan Morales II', 37, 2095922), (922, 'Jonathan Morgan', 53, 1669278), (923, 'John Webb', 52, 2601009), (924, 'Eric Adams', 24, 2548569), (925, 'Benjamin Dickerson', 47, 2109617), (926, 'David Austin', 41, 2517061), (927, 'Jason Johnson', 33, 1617649), (928, 'Anita Gonzalez', 25, 2292974), (929, 'Christopher West', 31, 1745557), (930, 'Jordan Poole', 47, 2809787), (931, 'Sarah Stewart', 41, 1179911), (932, 'Dr. Adrian Green', 60, 1756649), (933, 'Brandon Davis', 59, 2135250), (934, 'Bradley Shaw', 47, 2941609), (935, 'Mrs. Julie Cruz', 48, 2722372), (936, 'Robert Williams', 49, 1564255), (937, 'Steven Rojas', 30, 2390978), (938, 'Felicia Murray', 42, 1081396), (939, 'Ruben Moore', 27, 2981402), (940, 'Jeffrey King', 51, 1741594), (941, 'Alex Ramsey', 51, 2105658), (942, 'Matthew Edwards', 49, 1111082), (943, 'Mrs. Lauren Dorsey', 35, 1807554), (944, 'Tiffany Lloyd', 30, 1470433), (945, 'Dylan Kline', 32, 1091410), (946, 'Christina Ryan', 59, 1929745), (947, 'Cassandra Snyder', 24, 1781991), (948, 'Jeffrey Vazquez', 60, 1661206), (949, 'Mariah Wilson', 55, 2103462), (950, 'James Snyder', 43, 2185832), (951, 'Thomas Lowe', 30, 2608252), (952, 'Sarah Jordan', 39, 2414239), (953, 'Kimberly Cruz', 50, 1112970), (954, 'Angel Miller', 28, 2300104), (955, 'Kathryn Downs', 41, 1128069), (956, 'Samantha Scott', 26, 2997127), (957, 'Larry Berry', 53, 1311323), (958, 'Caitlin Kelly', 32, 1898238), (959, 'James Lynch', 47, 1439551), (960, 'Juan Taylor', 39, 2735167), (961, 'Stephen Hughes', 52, 1767181), (962, 'Wanda Morris', 55, 2302071), (963, 'Dr. Frederick Gonza', 35, 1437542), (964, 'Grace Jackson', 37, 1215807), (965, 'Cheryl Rhodes', 28, 1738865), (966, 'Michael Beck', 31, 1324955), (967, 'Grace Haynes', 53, 2123463), (968, 'Thomas Young', 39, 2357456), (969, 'Lisa Smith', 59, 1360909), (970, 'Nathaniel Lopez', 49, 1175317), (971, 'Lauren Hess', 52, 1062599), (972, 'Wayne Lloyd', 35, 1622162), (973, 'Eric Casey', 40, 2348411), (974, 'Zachary Gilbert', 58, 2159567), (975, 'Alan Villarreal', 33, 1845376), (976, 'Tiffany Taylor', 52, 2222952), (977, 'Susan Lee', 42, 2431326), (978, 'Diane Evans', 49, 1533936), (979, 'Sarah Anderson', 24, 1123302), (980, 'Justin Francis', 47, 1978180), (981, 'Thomas Anderson', 32, 2303604), (982, 'Thomas Duncan', 31, 1794219), (983, 'Ryan Smith', 41, 2399368), (984, 'Marcus Kelly', 56, 1147805), (985, 'Alex Thomas', 36, 1827323), (986, 'Joseph Miller', 25, 1795180), (987, 'Colleen Peterson', 51, 1693343), (988, 'Amber Lowe', 54, 1013077), (989, 'Brian Sanders', 51, 1003536), (990, 'Stacey Duarte DDS', 28, 1120232), (991, 'Dawn Young', 42, 2090672), (992, 'Raymond Davis', 56, 2222172), (993, 'Andrew Luna', 23, 1457254), (994, 'Molly Johnson', 29, 2805591), (995, 'Stacy Hill', 52, 2476525), (996, 'Samantha Mcdonald', 30, 1778446), (997, 'Brandon Lawrence', 60, 2285151), (998, 'Crystal Sheppard', 59, 2647893), (999, 'Alexander Zuniga', 29, 2187228)]\n"
     ]
    }
   ],
   "source": [
    "import psycopg2\n",
    "\n",
    "try:\n",
    "    # Connect to PostgreSQL\n",
    "    con = psycopg2.connect(\n",
    "        host='localhost',\n",
    "        user='postgres',\n",
    "        password='postgres',\n",
    "        port=5432,\n",
    "        dbname='db1'\n",
    "    )\n",
    "    cur = con.cursor()\n",
    "\n",
    "    # Execute queries inside a try block\n",
    "    query = \"SELECT * FROM person\"\n",
    "    cur.execute(query)\n",
    "    data = cur.fetchall()\n",
    "\n",
    "    # Process the data here...\n",
    "    print(data)\n",
    "\n",
    "    # Commit the transaction if everything is successful\n",
    "    con.commit()\n",
    "\n",
    "except psycopg2.Error as e:\n",
    "    print(f\"Error occurred: {e}\")\n",
    "    # Rollback the transaction to clear the error state\n",
    "    con.rollback()\n",
    "\n",
    "finally:\n",
    "    # Always close the connection\n",
    "    if con:\n",
    "        cur.close()\n",
    "        con.close()\n"
   ]
  },
  {
   "cell_type": "code",
   "execution_count": 47,
   "id": "8c65b7ed-1b42-4ae7-b05c-8c403b1c8c52",
   "metadata": {},
   "outputs": [
    {
     "name": "stderr",
     "output_type": "stream",
     "text": [
      "IOPub data rate exceeded.\n",
      "The Jupyter server will temporarily stop sending output\n",
      "to the client in order to avoid crashing it.\n",
      "To change this limit, set the config variable\n",
      "`--ServerApp.iopub_data_rate_limit`.\n",
      "\n",
      "Current values:\n",
      "ServerApp.iopub_data_rate_limit=1000000.0 (bytes/sec)\n",
      "ServerApp.rate_limit_window=3.0 (secs)\n",
      "\n"
     ]
    }
   ],
   "source": [
    "import psycopg2\n",
    "\n",
    "# 1. Reading file in chunks (Adjust if file is CSV, here it's assumed as plain text)\n",
    "def read_file_in_chunks(file_path, chunk_size=100000):\n",
    "    with open(file_path, 'r') as file:\n",
    "        chunk = []\n",
    "        for i, line in enumerate(file):\n",
    "            chunk.append(line.strip())  # Strip spaces\n",
    "            if (i + 1) % chunk_size == 0:\n",
    "                yield chunk\n",
    "                chunk = []\n",
    "        if chunk:\n",
    "            yield chunk\n",
    "\n",
    "# 2. Fetching DB data in chunks (PostgreSQL using psycopg2)\n",
    "def fetch_db_data_in_chunks(cursor, query, chunk_size=100000):\n",
    "    offset = 0\n",
    "    while True:\n",
    "        cursor.execute(query + f\" LIMIT {chunk_size} OFFSET {offset}\")\n",
    "        data = cursor.fetchall()\n",
    "        if not data:\n",
    "            break\n",
    "        yield data\n",
    "        offset += chunk_size\n",
    "\n",
    "# 3. Comparing file and DB chunks\n",
    "def compare_file_and_db(file_chunk, db_chunk):\n",
    "    # Normalize data (strip spaces, convert to lowercase for comparison)\n",
    "    file_data = set([line.strip().lower() for line in file_chunk])\n",
    "    db_data = set([str(row[0]).strip().lower() for row in db_chunk])\n",
    "    \n",
    "    print(f\"File data set: {file_data}\")  # Debugging: Check file data\n",
    "    print(f\"DB data set: {db_data}\")      # Debugging: Check DB data\n",
    "    \n",
    "    return file_data.symmetric_difference(db_data)  # Differences between file and DB\n",
    "\n",
    "# 4. Combining everything and running the comparison\n",
    "def compare_large_file_with_db(file_path, db_connection, query):\n",
    "    cursor = db_connection.cursor()\n",
    "\n",
    "    try:\n",
    "        # Iterating over file chunks\n",
    "        for file_chunk in read_file_in_chunks(file_path):\n",
    "            print(f\"Processing file chunk: {file_chunk}\")  # Debugging file chunk\n",
    "            # Iterating over DB chunks\n",
    "            for db_chunk in fetch_db_data_in_chunks(cursor, query):\n",
    "                print(f\"Processing DB chunk: {db_chunk}\")  # Debugging DB chunk\n",
    "                \n",
    "                # Compare the file chunk with the DB chunk\n",
    "                differences = compare_file_and_db(file_chunk, db_chunk)\n",
    "                if differences:\n",
    "                    print(f\"Differences found: {differences}\")\n",
    "                else:\n",
    "                    print(\"No differences found in this chunk\")\n",
    "\n",
    "        db_connection.commit()  # Commit if everything is successful\n",
    "\n",
    "    except psycopg2.Error as e:\n",
    "        print(f\"Database error: {e}\")\n",
    "        db_connection.rollback()  # Rollback if there's a failure\n",
    "\n",
    "    finally:\n",
    "        cursor.close()\n",
    "\n",
    "# 5. Running the function (replace with actual file and query)\n",
    "file_path = 'BIGFILES.txt'\n",
    "query = \"SELECT * FROM person\"  # Adjust to your actual query\n",
    "db_connection = psycopg2.connect(\n",
    "    host='localhost',\n",
    "    user='postgres',\n",
    "    password='postgres',\n",
    "    port=5432,\n",
    "    dbname='db1'\n",
    ")\n",
    "\n",
    "compare_large_file_with_db(file_path, db_connection, query)"
   ]
  },
  {
   "cell_type": "code",
   "execution_count": null,
   "id": "c85c7c91-59fb-4512-9eb8-385c2fc2690e",
   "metadata": {},
   "outputs": [],
   "source": []
  }
 ],
 "metadata": {
  "kernelspec": {
   "display_name": "Python 3 (ipykernel)",
   "language": "python",
   "name": "python3"
  },
  "language_info": {
   "codemirror_mode": {
    "name": "ipython",
    "version": 3
   },
   "file_extension": ".py",
   "mimetype": "text/x-python",
   "name": "python",
   "nbconvert_exporter": "python",
   "pygments_lexer": "ipython3",
   "version": "3.12.4"
  }
 },
 "nbformat": 4,
 "nbformat_minor": 5
}
