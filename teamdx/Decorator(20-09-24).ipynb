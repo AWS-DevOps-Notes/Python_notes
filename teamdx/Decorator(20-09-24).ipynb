{
 "cells": [
  {
   "cell_type": "code",
   "execution_count": 1,
   "id": "268074af-a043-47e9-b02c-0c34af1cc314",
   "metadata": {},
   "outputs": [],
   "source": [
    "def add(x,y):\n",
    "    return x+y\n",
    "def sub(x,y):\n",
    "    return x-y\n",
    "def mul(x,y):\n",
    "    return x*y"
   ]
  },
  {
   "cell_type": "code",
   "execution_count": 13,
   "id": "cc981a94-914a-400b-a5b4-0fd66ce9e8cb",
   "metadata": {},
   "outputs": [
    {
     "name": "stdout",
     "output_type": "stream",
     "text": [
      "HELLO\n",
      "<function fun at 0x000001E05FA49620> 20\n",
      "HELLO\n"
     ]
    }
   ],
   "source": [
    "def fun():\n",
    "    print('HELLO')\n",
    "    return 20\n",
    "res=fun   # function not called here so local stack will not create , it will print function object. \n",
    "res1=fun() # function called here using parenthesis '()'. It will print 'HELLO'.\n",
    "print(res,res1)\n",
    "r1=res()  # r1 is assinged function call res() "
   ]
  },
  {
   "cell_type": "code",
   "execution_count": 23,
   "id": "f0deb569-44ad-4a05-9827-68819e1c5ff1",
   "metadata": {},
   "outputs": [
    {
     "name": "stdout",
     "output_type": "stream",
     "text": [
      "hi\n",
      "HELLO\n",
      "1000\n",
      "result= 50\n",
      "result= <function fun at 0x000001E05D214EA0>\n"
     ]
    }
   ],
   "source": [
    "def fun():          \n",
    "    print('hi')    \n",
    "    print('HELLO')\n",
    "    a=1000\n",
    "    print(a)\n",
    "    return 20+30  \n",
    "res=fun()   \n",
    "print('result=',res)\n",
    "res1=fun\n",
    "print('result=',res1)"
   ]
  },
  {
   "cell_type": "code",
   "execution_count": 27,
   "id": "fdb5b763-7a81-4246-9377-eca35fef6ee4",
   "metadata": {},
   "outputs": [
    {
     "name": "stdout",
     "output_type": "stream",
     "text": [
      "hi\n",
      "HELLO\n",
      "1000\n",
      "result= 50\n",
      "result1 = <function fun at 0x000001E05D214400>\n",
      "hi\n",
      "HELLO\n",
      "1000\n",
      "result2= 50\n"
     ]
    }
   ],
   "source": [
    "def fun():          \n",
    "    print('hi')    \n",
    "    print('HELLO')\n",
    "    a=1000\n",
    "    print(a)\n",
    "    return 20+30  \n",
    "res=fun()   \n",
    "print('result=',res)\n",
    "res1=fun\n",
    "print('result1 =',res1)\n",
    "res2=fun()\n",
    "print('result2=',res2)"
   ]
  },
  {
   "cell_type": "code",
   "execution_count": 33,
   "id": "579a08e5-6727-44f1-b5d6-4570fa7b0e83",
   "metadata": {},
   "outputs": [
    {
     "name": "stdout",
     "output_type": "stream",
     "text": [
      "hyd\n",
      "hello\n",
      "result= <function outer.<locals>.inner at 0x000001E05FA48D60>\n",
      "hi\n",
      "result= 20\n"
     ]
    }
   ],
   "source": [
    "def outer():\n",
    "    print('hyd')\n",
    "    def inner():   # it is signature part \n",
    "        print('hi')\n",
    "        return 20\n",
    "    print('hello')\n",
    "    return inner  # in internal res refer inner\n",
    "res=outer()\n",
    "print('result=',res)\n",
    "r1=res()\n",
    "print('result=',r1)"
   ]
  },
  {
   "cell_type": "code",
   "execution_count": 35,
   "id": "8ebbd762-f798-42c5-a1e5-628513223020",
   "metadata": {},
   "outputs": [
    {
     "ename": "SyntaxError",
     "evalue": "unterminated f-string literal (detected at line 2) (1072187369.py, line 2)",
     "output_type": "error",
     "traceback": [
      "\u001b[1;36m  Cell \u001b[1;32mIn[35], line 2\u001b[1;36m\u001b[0m\n\u001b[1;33m    print(f'x={x},y={y},z={z}\u001b[0m\n\u001b[1;37m          ^\u001b[0m\n\u001b[1;31mSyntaxError\u001b[0m\u001b[1;31m:\u001b[0m unterminated f-string literal (detected at line 2)\n"
     ]
    }
   ],
   "source": [
    "def add(x,y):\n",
    "    print(f'x={x},y={y},z={z}\")\n",
    "    return x+y\n",
    "def operations(op):\n",
    "    r1=op(10,20)\n",
    "    print('result=',r1)\n",
    "res =  \n"
   ]
  },
  {
   "cell_type": "code",
   "execution_count": null,
   "id": "6ddd519d-32a4-4114-9a64-5e6ad737cb53",
   "metadata": {},
   "outputs": [],
   "source": []
  }
 ],
 "metadata": {
  "kernelspec": {
   "display_name": "Python 3 (ipykernel)",
   "language": "python",
   "name": "python3"
  },
  "language_info": {
   "codemirror_mode": {
    "name": "ipython",
    "version": 3
   },
   "file_extension": ".py",
   "mimetype": "text/x-python",
   "name": "python",
   "nbconvert_exporter": "python",
   "pygments_lexer": "ipython3",
   "version": "3.12.4"
  }
 },
 "nbformat": 4,
 "nbformat_minor": 5
}
