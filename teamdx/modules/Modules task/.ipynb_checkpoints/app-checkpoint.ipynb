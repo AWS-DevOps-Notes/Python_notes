{
 "cells": [
  {
   "cell_type": "code",
   "execution_count": 1,
   "id": "b3faf7e4-606d-436a-996a-632ae7309103",
   "metadata": {},
   "outputs": [
    {
     "ename": "ModuleNotFoundError",
     "evalue": "No module named 'meeting'",
     "output_type": "error",
     "traceback": [
      "\u001b[1;31m---------------------------------------------------------------------------\u001b[0m",
      "\u001b[1;31mModuleNotFoundError\u001b[0m                       Traceback (most recent call last)",
      "Cell \u001b[1;32mIn[1], line 1\u001b[0m\n\u001b[1;32m----> 1\u001b[0m \u001b[38;5;28;01mimport\u001b[39;00m \u001b[38;5;21;01mmeeting\u001b[39;00m\n\u001b[0;32m      2\u001b[0m \u001b[38;5;28;01mimport\u001b[39;00m \u001b[38;5;21;01mcustomer\u001b[39;00m\n\u001b[0;32m      3\u001b[0m \u001b[38;5;28;01mdef\u001b[39;00m \u001b[38;5;21mmenu\u001b[39m():\n",
      "\u001b[1;31mModuleNotFoundError\u001b[0m: No module named 'meeting'"
     ]
    }
   ],
   "source": [
    "import meeting\n",
    "import customer\n",
    "def menu():\n",
    "    print(\"1.Meeting \\n 2. Customer \\n 3.Quit \\n\")\n",
    "    choice = input(\"Select an option: \")\n",
    "    if choice == '1':\n",
    "        print('\\nWelcome to meeting page')\n",
    "        print(\"\\n a. create meeting \\n b. update meeting \\n c. delete meeting \\n d. get the meeting\")\n",
    "        choice = input(\"Select an option:  \")\n",
    "        if choice == 'a':\n",
    "                meetings.create_meeting()\n",
    "        elif choice == 'b':\n",
    "                meetings.update_meeting()\n",
    "        elif choice == 'c':\n",
    "                meetings.delete_meeting()\n",
    "        elif choice == 'd':\n",
    "                meetings.get_meeting()\n",
    "        else:\n",
    "                print(\"Invalid choice.\")\n",
    "    if choice == '2':\n",
    "        print('\\n Welcome to customer page')\n",
    "        print(\"\\na. create customer \\n b. update customer \\n c. delete customer\\n d. get the customer\")\n",
    "        choice = input(\"Select an option:  \")\n",
    "        if choice == 'a':\n",
    "                customer.create_customer()\n",
    "        elif choice == 'b':\n",
    "                customer.update_customer()\n",
    "        elif choice == 'c':\n",
    "                customer.delete_customer()\n",
    "        elif choice == 'd':\n",
    "                customer.get_customer()\n",
    "        else:\n",
    "                print(\"Invalid choice.\")\n",
    "    if choice == '3':\n",
    "        print('\\n Quit')\n",
    "\n",
    "menu()"
   ]
  },
  {
   "cell_type": "code",
   "execution_count": null,
   "id": "f574baf8-df6c-4315-9b83-e16fad5b2663",
   "metadata": {},
   "outputs": [],
   "source": []
  }
 ],
 "metadata": {
  "kernelspec": {
   "display_name": "Python 3 (ipykernel)",
   "language": "python",
   "name": "python3"
  },
  "language_info": {
   "codemirror_mode": {
    "name": "ipython",
    "version": 3
   },
   "file_extension": ".py",
   "mimetype": "text/x-python",
   "name": "python",
   "nbconvert_exporter": "python",
   "pygments_lexer": "ipython3",
   "version": "3.12.4"
  }
 },
 "nbformat": 4,
 "nbformat_minor": 5
}
