{
 "cells": [
  {
   "cell_type": "code",
   "execution_count": 1,
   "id": "6cf6c6bf-8a1e-4460-a895-d383e1ad7d2f",
   "metadata": {},
   "outputs": [
    {
     "name": "stdout",
     "output_type": "stream",
     "text": [
      "3000\n",
      "1000 2389788871824 <class 'int'>\n",
      "2000 2389788872016 <class 'int'>\n",
      "3000 2389787554512 <class 'int'>\n"
     ]
    }
   ],
   "source": [
    "a = 1000\n",
    "b = 2000\n",
    "c = a + b\n",
    "print(c)\n",
    "print(a,id(a),type(a))\n",
    "print(b,id(b),type(b))\n",
    "print(c,id(c),type(c))"
   ]
  },
  {
   "cell_type": "code",
   "execution_count": 1,
   "id": "d9136835-d2da-4896-9b2a-fbad0a699e4d",
   "metadata": {},
   "outputs": [
    {
     "data": {
      "text/plain": [
       "True"
      ]
     },
     "execution_count": 1,
     "metadata": {},
     "output_type": "execute_result"
    }
   ],
   "source": [
    "12 in [1,12,34,56]"
   ]
  },
  {
   "cell_type": "code",
   "execution_count": 3,
   "id": "5599798f-d1a3-438b-9a55-4d937f64df1a",
   "metadata": {},
   "outputs": [
    {
     "data": {
      "text/plain": [
       "True"
      ]
     },
     "execution_count": 3,
     "metadata": {},
     "output_type": "execute_result"
    }
   ],
   "source": [
    "12 in {1,12,34,56}"
   ]
  },
  {
   "cell_type": "code",
   "execution_count": 5,
   "id": "56245274-2c04-4df6-bf24-bc2822647079",
   "metadata": {},
   "outputs": [
    {
     "data": {
      "text/plain": [
       "True"
      ]
     },
     "execution_count": 5,
     "metadata": {},
     "output_type": "execute_result"
    }
   ],
   "source": [
    "\"name\" in {\"name\":\"AJA\", \"address\":\"HYD\"}"
   ]
  },
  {
   "cell_type": "code",
   "execution_count": 7,
   "id": "e5f3e522-7b27-4a93-a30c-7f7b55b22e33",
   "metadata": {},
   "outputs": [
    {
     "data": {
      "text/plain": [
       "True"
      ]
     },
     "execution_count": 7,
     "metadata": {},
     "output_type": "execute_result"
    }
   ],
   "source": [
    "\"address\" in {\"name\":\"AJA\", \"address\":\"HYD\"}"
   ]
  },
  {
   "cell_type": "code",
   "execution_count": 9,
   "id": "0b4f3afe-d24b-4ff0-91d7-eae74cdec1dc",
   "metadata": {},
   "outputs": [
    {
     "data": {
      "text/plain": [
       "False"
      ]
     },
     "execution_count": 9,
     "metadata": {},
     "output_type": "execute_result"
    }
   ],
   "source": [
    "\"AJA\" in {\"name\":\"AJA\", \"address\":\"HYD\"}"
   ]
  },
  {
   "cell_type": "code",
   "execution_count": 11,
   "id": "e0970815-0018-4806-b9b7-7c423c72f2c8",
   "metadata": {},
   "outputs": [
    {
     "data": {
      "text/plain": [
       "False"
      ]
     },
     "execution_count": 11,
     "metadata": {},
     "output_type": "execute_result"
    }
   ],
   "source": [
    "\"HYD\" in {\"name\":\"AJA\", \"address\":\"HYD\"}"
   ]
  },
  {
   "cell_type": "code",
   "execution_count": 13,
   "id": "e3eace40-49cc-43d5-be16-7064a1656558",
   "metadata": {},
   "outputs": [
    {
     "ename": "TypeError",
     "evalue": "'in <string>' requires string as left operand, not int",
     "output_type": "error",
     "traceback": [
      "\u001b[1;31m---------------------------------------------------------------------------\u001b[0m",
      "\u001b[1;31mTypeError\u001b[0m                                 Traceback (most recent call last)",
      "Cell \u001b[1;32mIn[13], line 1\u001b[0m\n\u001b[1;32m----> 1\u001b[0m \u001b[38;5;241m1\u001b[39m \u001b[38;5;129;01min\u001b[39;00m \u001b[38;5;124m\"\u001b[39m\u001b[38;5;124m100\u001b[39m\u001b[38;5;124m\"\u001b[39m\n",
      "\u001b[1;31mTypeError\u001b[0m: 'in <string>' requires string as left operand, not int"
     ]
    }
   ],
   "source": [
    "1 in \"100\""
   ]
  },
  {
   "cell_type": "code",
   "execution_count": 15,
   "id": "e5f615e1-d93c-4f50-bd08-5cfc9a7e764d",
   "metadata": {},
   "outputs": [
    {
     "data": {
      "text/plain": [
       "True"
      ]
     },
     "execution_count": 15,
     "metadata": {},
     "output_type": "execute_result"
    }
   ],
   "source": [
    "\"1\" in \"100\""
   ]
  },
  {
   "cell_type": "code",
   "execution_count": 17,
   "id": "e9ebfe9a-c9b6-4205-9aa1-e3a20041c60e",
   "metadata": {},
   "outputs": [
    {
     "ename": "TypeError",
     "evalue": "argument of type 'int' is not iterable",
     "output_type": "error",
     "traceback": [
      "\u001b[1;31m---------------------------------------------------------------------------\u001b[0m",
      "\u001b[1;31mTypeError\u001b[0m                                 Traceback (most recent call last)",
      "Cell \u001b[1;32mIn[17], line 1\u001b[0m\n\u001b[1;32m----> 1\u001b[0m \u001b[38;5;241m1\u001b[39m \u001b[38;5;129;01min\u001b[39;00m \u001b[38;5;241m1000\u001b[39m\n",
      "\u001b[1;31mTypeError\u001b[0m: argument of type 'int' is not iterable"
     ]
    }
   ],
   "source": [
    "1 in 1000"
   ]
  },
  {
   "cell_type": "code",
   "execution_count": 23,
   "id": "0196d737-7482-4f34-b310-c4d5dc7202e3",
   "metadata": {},
   "outputs": [
    {
     "ename": "TypeError",
     "evalue": "argument of type 'int' is not iterable",
     "output_type": "error",
     "traceback": [
      "\u001b[1;31m---------------------------------------------------------------------------\u001b[0m",
      "\u001b[1;31mTypeError\u001b[0m                                 Traceback (most recent call last)",
      "Cell \u001b[1;32mIn[23], line 1\u001b[0m\n\u001b[1;32m----> 1\u001b[0m \u001b[38;5;241m1\u001b[39m \u001b[38;5;129;01min\u001b[39;00m \u001b[38;5;241m1\u001b[39m\n",
      "\u001b[1;31mTypeError\u001b[0m: argument of type 'int' is not iterable"
     ]
    }
   ],
   "source": [
    "1 in 1"
   ]
  },
  {
   "cell_type": "code",
   "execution_count": 25,
   "id": "e660ad4a-e030-4292-b9dd-7277fbcd02d9",
   "metadata": {},
   "outputs": [
    {
     "data": {
      "text/plain": [
       "False"
      ]
     },
     "execution_count": 25,
     "metadata": {},
     "output_type": "execute_result"
    }
   ],
   "source": [
    "\"1\" not in \"1000\""
   ]
  },
  {
   "cell_type": "code",
   "execution_count": 27,
   "id": "4f214d78-645c-40cf-a7de-3a57f8a9b617",
   "metadata": {},
   "outputs": [
    {
     "data": {
      "text/plain": [
       "True"
      ]
     },
     "execution_count": 27,
     "metadata": {},
     "output_type": "execute_result"
    }
   ],
   "source": [
    "\"1\" in \"1000\""
   ]
  },
  {
   "cell_type": "code",
   "execution_count": 29,
   "id": "48d4a598-f42f-465d-910a-27eb9337d421",
   "metadata": {},
   "outputs": [
    {
     "data": {
      "text/plain": [
       "1"
      ]
     },
     "execution_count": 29,
     "metadata": {},
     "output_type": "execute_result"
    }
   ],
   "source": [
    "1 # and or tables"
   ]
  },
  {
   "cell_type": "code",
   "execution_count": 33,
   "id": "5468fc5c-0336-4ba4-a227-669ad84ccc7b",
   "metadata": {},
   "outputs": [
    {
     "ename": "SyntaxError",
     "evalue": "incomplete input (4010493721.py, line 1)",
     "output_type": "error",
     "traceback": [
      "\u001b[1;36m  Cell \u001b[1;32mIn[33], line 1\u001b[1;36m\u001b[0m\n\u001b[1;33m    \"\"\"\u001b[0m\n\u001b[1;37m    ^\u001b[0m\n\u001b[1;31mSyntaxError\u001b[0m\u001b[1;31m:\u001b[0m incomplete input\n"
     ]
    }
   ],
   "source": [
    "\"\"\"\n",
    "True and True = \n",
    "True and False =\n",
    "\"\"\""
   ]
  },
  {
   "cell_type": "code",
   "execution_count": 35,
   "id": "d2996ed1-a131-418a-98ec-de8eb9163261",
   "metadata": {},
   "outputs": [
    {
     "data": {
      "text/plain": [
       "True"
      ]
     },
     "execution_count": 35,
     "metadata": {},
     "output_type": "execute_result"
    }
   ],
   "source": [
    "True and True"
   ]
  },
  {
   "cell_type": "code",
   "execution_count": 37,
   "id": "2c015615-1615-4099-ace7-cb006564cc52",
   "metadata": {},
   "outputs": [
    {
     "data": {
      "text/plain": [
       "False"
      ]
     },
     "execution_count": 37,
     "metadata": {},
     "output_type": "execute_result"
    }
   ],
   "source": [
    "True and False"
   ]
  },
  {
   "cell_type": "code",
   "execution_count": 41,
   "id": "cc20782d-35ae-4492-9c1b-ff6c15a261be",
   "metadata": {},
   "outputs": [
    {
     "data": {
      "text/plain": [
       "False"
      ]
     },
     "execution_count": 41,
     "metadata": {},
     "output_type": "execute_result"
    }
   ],
   "source": [
    "False and True"
   ]
  },
  {
   "cell_type": "code",
   "execution_count": 43,
   "id": "7fd667c4-ed30-47a9-a8ae-8d73267a394f",
   "metadata": {},
   "outputs": [
    {
     "data": {
      "text/plain": [
       "False"
      ]
     },
     "execution_count": 43,
     "metadata": {},
     "output_type": "execute_result"
    }
   ],
   "source": [
    "False and False"
   ]
  },
  {
   "cell_type": "code",
   "execution_count": 45,
   "id": "52da7fc1-7ef8-4b4f-85be-fc8ada6aea0e",
   "metadata": {},
   "outputs": [
    {
     "data": {
      "text/plain": [
       "True"
      ]
     },
     "execution_count": 45,
     "metadata": {},
     "output_type": "execute_result"
    }
   ],
   "source": [
    "\n",
    "True or True"
   ]
  },
  {
   "cell_type": "code",
   "execution_count": 47,
   "id": "fb8b3ddb-9f18-4527-8b44-21ab34482099",
   "metadata": {},
   "outputs": [
    {
     "data": {
      "text/plain": [
       "True"
      ]
     },
     "execution_count": 47,
     "metadata": {},
     "output_type": "execute_result"
    }
   ],
   "source": [
    "True or False"
   ]
  },
  {
   "cell_type": "code",
   "execution_count": 49,
   "id": "c5381863-ba93-40ad-bd92-bcab666ea14f",
   "metadata": {},
   "outputs": [
    {
     "data": {
      "text/plain": [
       "True"
      ]
     },
     "execution_count": 49,
     "metadata": {},
     "output_type": "execute_result"
    }
   ],
   "source": [
    "False or True  \n"
   ]
  },
  {
   "cell_type": "code",
   "execution_count": 51,
   "id": "22d3ac37-62ea-4b16-afda-ba634da88824",
   "metadata": {},
   "outputs": [
    {
     "data": {
      "text/plain": [
       "False"
      ]
     },
     "execution_count": 51,
     "metadata": {},
     "output_type": "execute_result"
    }
   ],
   "source": [
    "False or False  \n"
   ]
  },
  {
   "cell_type": "code",
   "execution_count": 53,
   "id": "d0af07e5-db9f-424f-86c4-205e4f264952",
   "metadata": {},
   "outputs": [
    {
     "data": {
      "text/plain": [
       "False"
      ]
     },
     "execution_count": 53,
     "metadata": {},
     "output_type": "execute_result"
    }
   ],
   "source": [
    "\"hy\" in \"hyderabad\" and \"AJA\" in {\"name\":\"AJA\"}"
   ]
  },
  {
   "cell_type": "code",
   "execution_count": 55,
   "id": "012811b0-1e39-4ccc-b118-f28389b2617e",
   "metadata": {},
   "outputs": [
    {
     "data": {
      "text/plain": [
       "False"
      ]
     },
     "execution_count": 55,
     "metadata": {},
     "output_type": "execute_result"
    }
   ],
   "source": [
    "10==\"10\""
   ]
  },
  {
   "cell_type": "code",
   "execution_count": 57,
   "id": "ca508678-1792-434c-a686-37d73257df62",
   "metadata": {},
   "outputs": [
    {
     "data": {
      "text/plain": [
       "False"
      ]
     },
     "execution_count": 57,
     "metadata": {},
     "output_type": "execute_result"
    }
   ],
   "source": [
    "(10>2) != (\"hyd\" in \"hyderabad\")"
   ]
  },
  {
   "cell_type": "code",
   "execution_count": 59,
   "id": "c280f49c-65fe-4a5d-9612-3c335b322999",
   "metadata": {},
   "outputs": [
    {
     "data": {
      "text/plain": [
       "True"
      ]
     },
     "execution_count": 59,
     "metadata": {},
     "output_type": "execute_result"
    }
   ],
   "source": [
    "(10>2) != (\"HYD\" in \"hyderabad\")"
   ]
  },
  {
   "cell_type": "code",
   "execution_count": 1,
   "id": "5a8d0e01-97d5-45a9-9bdf-11da954a387e",
   "metadata": {},
   "outputs": [
    {
     "data": {
      "text/plain": [
       "97"
      ]
     },
     "execution_count": 1,
     "metadata": {},
     "output_type": "execute_result"
    }
   ],
   "source": [
    "ord('a')"
   ]
  },
  {
   "cell_type": "code",
   "execution_count": 3,
   "id": "75e5fb11-8a81-4bf6-89f7-248933a3e7f3",
   "metadata": {},
   "outputs": [
    {
     "ename": "NameError",
     "evalue": "name 'a' is not defined",
     "output_type": "error",
     "traceback": [
      "\u001b[1;31m---------------------------------------------------------------------------\u001b[0m",
      "\u001b[1;31mNameError\u001b[0m                                 Traceback (most recent call last)",
      "Cell \u001b[1;32mIn[3], line 1\u001b[0m\n\u001b[1;32m----> 1\u001b[0m \u001b[38;5;28mchr\u001b[39m(a)\n",
      "\u001b[1;31mNameError\u001b[0m: name 'a' is not defined"
     ]
    }
   ],
   "source": [
    "chr(A)"
   ]
  },
  {
   "cell_type": "code",
   "execution_count": 5,
   "id": "c70fba7c-fad3-4dca-9510-195eca3c3f97",
   "metadata": {},
   "outputs": [
    {
     "data": {
      "text/plain": [
       "65"
      ]
     },
     "execution_count": 5,
     "metadata": {},
     "output_type": "execute_result"
    }
   ],
   "source": [
    "ord('a')-32"
   ]
  },
  {
   "cell_type": "code",
   "execution_count": 7,
   "id": "0b621fa6-1935-4bb0-b195-ad92ad02e863",
   "metadata": {},
   "outputs": [
    {
     "data": {
      "text/plain": [
       "'A'"
      ]
     },
     "execution_count": 7,
     "metadata": {},
     "output_type": "execute_result"
    }
   ],
   "source": [
    "chr(ord('a')-32)"
   ]
  },
  {
   "cell_type": "code",
   "execution_count": 9,
   "id": "01c277a5-67a0-490a-bc22-592e2c9652e2",
   "metadata": {},
   "outputs": [
    {
     "data": {
      "text/plain": [
       "'B'"
      ]
     },
     "execution_count": 9,
     "metadata": {},
     "output_type": "execute_result"
    }
   ],
   "source": [
    "chr(ord('b')-32)"
   ]
  },
  {
   "cell_type": "code",
   "execution_count": 11,
   "id": "40bc5aa9-4f03-4c42-9864-803e87856cba",
   "metadata": {},
   "outputs": [
    {
     "data": {
      "text/plain": [
       "'B'"
      ]
     },
     "execution_count": 11,
     "metadata": {},
     "output_type": "execute_result"
    }
   ],
   "source": [
    "chr(ord('b')-32)"
   ]
  },
  {
   "cell_type": "code",
   "execution_count": null,
   "id": "824f9445-e9e1-4d3b-bd38-50b18deb48d3",
   "metadata": {},
   "outputs": [],
   "source": []
  }
 ],
 "metadata": {
  "kernelspec": {
   "display_name": "Python 3 (ipykernel)",
   "language": "python",
   "name": "python3"
  },
  "language_info": {
   "codemirror_mode": {
    "name": "ipython",
    "version": 3
   },
   "file_extension": ".py",
   "mimetype": "text/x-python",
   "name": "python",
   "nbconvert_exporter": "python",
   "pygments_lexer": "ipython3",
   "version": "3.12.4"
  }
 },
 "nbformat": 4,
 "nbformat_minor": 5
}
