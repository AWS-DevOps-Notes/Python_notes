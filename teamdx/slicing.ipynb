{
 "cells": [
  {
   "cell_type": "code",
   "execution_count": 1,
   "id": "7bb6a886-2ac8-46b8-9d4a-096ba844d70a",
   "metadata": {},
   "outputs": [
    {
     "name": "stdout",
     "output_type": "stream",
     "text": [
      "a\n"
     ]
    }
   ],
   "source": [
    "s='abcdefghijkl'\n",
    "print(s[0])"
   ]
  },
  {
   "cell_type": "code",
   "execution_count": 3,
   "id": "ed7f1e8d-3822-4bdf-aff2-b5a07550fee5",
   "metadata": {},
   "outputs": [
    {
     "name": "stdout",
     "output_type": "stream",
     "text": [
      "b\n"
     ]
    }
   ],
   "source": [
    "s='abcdefghijkl'\n",
    "print(s[1])"
   ]
  },
  {
   "cell_type": "code",
   "execution_count": 5,
   "id": "91cff0de-6313-4d20-b835-6b3c0b67d285",
   "metadata": {},
   "outputs": [
    {
     "name": "stdout",
     "output_type": "stream",
     "text": [
      "l\n"
     ]
    }
   ],
   "source": [
    "s='abcdefghijkl'\n",
    "print(s[-1])"
   ]
  },
  {
   "cell_type": "code",
   "execution_count": 7,
   "id": "d59908e3-0024-41d5-abe7-3a6e9b10c93a",
   "metadata": {},
   "outputs": [
    {
     "name": "stdout",
     "output_type": "stream",
     "text": [
      "a\n",
      "a\n"
     ]
    }
   ],
   "source": [
    "s='abcdefghijkl'\n",
    "print(s[0])\n",
    "print(s[-12])"
   ]
  },
  {
   "cell_type": "code",
   "execution_count": 9,
   "id": "f8c390b4-0ee4-4c5d-aa1d-7bf2926bd9b1",
   "metadata": {},
   "outputs": [
    {
     "name": "stdout",
     "output_type": "stream",
     "text": [
      "a b c\n"
     ]
    }
   ],
   "source": [
    "s='abcdefghijkl'\n",
    "print(s[0],s[1],s[2]) # space"
   ]
  },
  {
   "cell_type": "code",
   "execution_count": 11,
   "id": "2d5640c1-bfa5-460f-a4d9-e570092a4ec3",
   "metadata": {},
   "outputs": [
    {
     "name": "stdout",
     "output_type": "stream",
     "text": [
      "abc\n"
     ]
    }
   ],
   "source": [
    "s='abcdefghijkl'\n",
    "print(s[0]+s[1]+s[2]) # without space"
   ]
  },
  {
   "cell_type": "code",
   "execution_count": 13,
   "id": "e9f8ad7d-d909-4b28-aa6d-eaeca0ad6e94",
   "metadata": {},
   "outputs": [
    {
     "name": "stdout",
     "output_type": "stream",
     "text": [
      "abc\n"
     ]
    }
   ],
   "source": [
    "s='abcdefghijkl'\n",
    "print(s[0:3])  # zero index start till 2nd index (# 0th 2nd)"
   ]
  },
  {
   "cell_type": "code",
   "execution_count": 15,
   "id": "f57839c4-9789-4ef0-a2f4-079082ca2c47",
   "metadata": {},
   "outputs": [
    {
     "name": "stdout",
     "output_type": "stream",
     "text": [
      "abcdefghijkl\n"
     ]
    }
   ],
   "source": [
    "s='abcdefghijkl'\n",
    "print(s[0:13])  # using slicing for getting multiple values"
   ]
  },
  {
   "cell_type": "code",
   "execution_count": 17,
   "id": "bd7d1370-246a-4c5e-839b-4f3570133166",
   "metadata": {},
   "outputs": [
    {
     "name": "stdout",
     "output_type": "stream",
     "text": [
      "fghijkl\n"
     ]
    }
   ],
   "source": [
    "s='abcdefghijkl'\n",
    "print(s[5:13]) # defaulf step vlaue: 1 # in slicing we use colon ':'"
   ]
  },
  {
   "cell_type": "code",
   "execution_count": 19,
   "id": "206b6ce3-72b5-4cd6-b25d-459cb97ecb70",
   "metadata": {},
   "outputs": [
    {
     "ename": "IndexError",
     "evalue": "string index out of range",
     "output_type": "error",
     "traceback": [
      "\u001b[1;31m---------------------------------------------------------------------------\u001b[0m",
      "\u001b[1;31mIndexError\u001b[0m                                Traceback (most recent call last)",
      "Cell \u001b[1;32mIn[19], line 2\u001b[0m\n\u001b[0;32m      1\u001b[0m s\u001b[38;5;241m=\u001b[39m\u001b[38;5;124m'\u001b[39m\u001b[38;5;124mabcdefghijkl\u001b[39m\u001b[38;5;124m'\u001b[39m\n\u001b[1;32m----> 2\u001b[0m \u001b[38;5;28mprint\u001b[39m(s[\u001b[38;5;241m30\u001b[39m])\n",
      "\u001b[1;31mIndexError\u001b[0m: string index out of range"
     ]
    }
   ],
   "source": [
    "s='abcdefghijkl'\n",
    "print(s[30]) # defaulf step vlaue: 1 "
   ]
  },
  {
   "cell_type": "code",
   "execution_count": 21,
   "id": "28677643-f052-4c10-ad96-2e3b6a9e8112",
   "metadata": {},
   "outputs": [
    {
     "data": {
      "text/plain": [
       "[]"
      ]
     },
     "execution_count": 21,
     "metadata": {},
     "output_type": "execute_result"
    }
   ],
   "source": [
    "list(range(10,2))"
   ]
  },
  {
   "cell_type": "code",
   "execution_count": 23,
   "id": "30213c18-02f4-41d8-9c29-e64748b97142",
   "metadata": {},
   "outputs": [
    {
     "name": "stdout",
     "output_type": "stream",
     "text": [
      "b\n",
      "c\n",
      "d\n"
     ]
    },
    {
     "ename": "IndexError",
     "evalue": "string index out of range",
     "output_type": "error",
     "traceback": [
      "\u001b[1;31m---------------------------------------------------------------------------\u001b[0m",
      "\u001b[1;31mIndexError\u001b[0m                                Traceback (most recent call last)",
      "Cell \u001b[1;32mIn[23], line 3\u001b[0m\n\u001b[0;32m      1\u001b[0m s\u001b[38;5;241m=\u001b[39m \u001b[38;5;124m'\u001b[39m\u001b[38;5;124mabcd\u001b[39m\u001b[38;5;124m'\u001b[39m\n\u001b[0;32m      2\u001b[0m \u001b[38;5;28;01mfor\u001b[39;00m i \u001b[38;5;129;01min\u001b[39;00m \u001b[38;5;28mrange\u001b[39m(\u001b[38;5;241m1\u001b[39m,\u001b[38;5;241m10\u001b[39m):\n\u001b[1;32m----> 3\u001b[0m     \u001b[38;5;28mprint\u001b[39m(s[i])\n",
      "\u001b[1;31mIndexError\u001b[0m: string index out of range"
     ]
    }
   ],
   "source": [
    "s= 'abcd'\n",
    "for i in range(1,10):\n",
    "    print(s[i])"
   ]
  },
  {
   "cell_type": "code",
   "execution_count": 25,
   "id": "d275ae5e-171f-4bd2-910d-a124914e16a4",
   "metadata": {},
   "outputs": [
    {
     "name": "stdout",
     "output_type": "stream",
     "text": [
      "d\n",
      "d\n",
      "d\n",
      "d\n",
      "d\n",
      "d\n",
      "d\n",
      "d\n",
      "d\n"
     ]
    }
   ],
   "source": [
    "s='abcd'\n",
    "for i in range(1,10):\n",
    "    print(s[3])"
   ]
  },
  {
   "cell_type": "code",
   "execution_count": 29,
   "id": "631b2b74-88fa-49ba-a9c4-df144a6d9938",
   "metadata": {},
   "outputs": [
    {
     "name": "stdout",
     "output_type": "stream",
     "text": [
      "a b c d\n"
     ]
    }
   ],
   "source": [
    "s= 'abcd'\n",
    "print(s[0],s[1],s[2],s[3]) # in slicing we use colon ':'"
   ]
  },
  {
   "cell_type": "code",
   "execution_count": 33,
   "id": "46cf3d70-9510-48b3-88e7-3197bb501956",
   "metadata": {},
   "outputs": [
    {
     "name": "stdout",
     "output_type": "stream",
     "text": [
      "cdefghij\n"
     ]
    }
   ],
   "source": [
    "s='abcdefghijkl'\n",
    "print(s[2:10]) # default step value: +1"
   ]
  },
  {
   "cell_type": "code",
   "execution_count": 35,
   "id": "8b451dce-0b3f-4ab2-9201-0d7afe369e35",
   "metadata": {},
   "outputs": [],
   "source": [
    "# towards right or left direction will decide the step value sign '+' or '-' "
   ]
  },
  {
   "cell_type": "code",
   "execution_count": 37,
   "id": "79aa0fa4-652d-4114-a015-bd3bd58963a9",
   "metadata": {},
   "outputs": [
    {
     "name": "stdout",
     "output_type": "stream",
     "text": [
      "\n"
     ]
    }
   ],
   "source": [
    "s='abcdefghijkl'\n",
    "print(s[2:10:-1]) # default step value: -1"
   ]
  },
  {
   "cell_type": "code",
   "execution_count": 39,
   "id": "196fbce8-c7e4-450c-9aa0-e7a0110c0483",
   "metadata": {},
   "outputs": [
    {
     "name": "stdout",
     "output_type": "stream",
     "text": [
      "\n"
     ]
    }
   ],
   "source": [
    "s='abcdefghijkl'\n",
    "print(s[2:-10:-1]) # default step value: -1"
   ]
  },
  {
   "cell_type": "code",
   "execution_count": 41,
   "id": "88551cb7-5427-4eac-a4bd-2107fad58741",
   "metadata": {},
   "outputs": [
    {
     "name": "stdout",
     "output_type": "stream",
     "text": [
      "c\n"
     ]
    }
   ],
   "source": [
    "s='abcdefghijkl'\n",
    "print(s[2:-11:-1]) # default step value: -1"
   ]
  },
  {
   "cell_type": "code",
   "execution_count": 43,
   "id": "b7a4a054-0660-4aeb-9be8-ce2737f5ad6c",
   "metadata": {},
   "outputs": [
    {
     "name": "stdout",
     "output_type": "stream",
     "text": [
      "kjihgfedc\n"
     ]
    }
   ],
   "source": [
    "s='abcdefghijkl'\n",
    "print(s[-2:-11:-1]) #  step value: -1"
   ]
  },
  {
   "cell_type": "code",
   "execution_count": 47,
   "id": "514223c4-9650-4f69-b57d-652f1965ae98",
   "metadata": {},
   "outputs": [
    {
     "name": "stdout",
     "output_type": "stream",
     "text": [
      "\n"
     ]
    }
   ],
   "source": [
    "s='abcdefghijkl'\n",
    "print(s[-2:-11:1]) #  step value: 1"
   ]
  },
  {
   "cell_type": "code",
   "execution_count": 49,
   "id": "6bffed2d-2345-48f0-8b99-596722fc151a",
   "metadata": {},
   "outputs": [
    {
     "name": "stdout",
     "output_type": "stream",
     "text": [
      "\n"
     ]
    }
   ],
   "source": [
    "s='abcdefghijkl'\n",
    "print(s[-2:-11:2]) #  step value: 2"
   ]
  },
  {
   "cell_type": "code",
   "execution_count": 51,
   "id": "700334c7-3016-4a05-b9f9-88037eabd95f",
   "metadata": {},
   "outputs": [
    {
     "name": "stdout",
     "output_type": "stream",
     "text": [
      "cegik\n"
     ]
    }
   ],
   "source": [
    "s='abcdefghijkl'\n",
    "print(s[2:11:2]) #  step value: 2"
   ]
  },
  {
   "cell_type": "code",
   "execution_count": 57,
   "id": "281777b4-bddd-4c7a-9444-08ce9c17be85",
   "metadata": {},
   "outputs": [
    {
     "name": "stdout",
     "output_type": "stream",
     "text": [
      "c\n"
     ]
    }
   ],
   "source": [
    "s='abcdefghijkl'\n",
    "print(s[2:-11:-2]) #  step value: -2"
   ]
  },
  {
   "cell_type": "code",
   "execution_count": 59,
   "id": "3ca47dbe-9b52-4f75-bd95-1c893bcf7554",
   "metadata": {},
   "outputs": [
    {
     "name": "stdout",
     "output_type": "stream",
     "text": [
      "\n"
     ]
    }
   ],
   "source": [
    "s='abcdefghijkl'\n",
    "print(s[2:-9:-2]) #  step value: -2"
   ]
  },
  {
   "cell_type": "code",
   "execution_count": 61,
   "id": "9fb5373c-491d-4200-941b-04fcd9546cc2",
   "metadata": {},
   "outputs": [
    {
     "name": "stdout",
     "output_type": "stream",
     "text": [
      "kige\n"
     ]
    }
   ],
   "source": [
    "s='abcdefghijkl'\n",
    "print(s[-2:-9:-2]) #  step value: -2"
   ]
  },
  {
   "cell_type": "code",
   "execution_count": 63,
   "id": "a3c16933-8308-4674-be8d-145f4497fadb",
   "metadata": {},
   "outputs": [
    {
     "name": "stdout",
     "output_type": "stream",
     "text": [
      "heb\n"
     ]
    }
   ],
   "source": [
    "s='abcdefghijkl'\n",
    "print(s[7:-15:-3]) #  step value: -2"
   ]
  },
  {
   "cell_type": "code",
   "execution_count": 65,
   "id": "c245135f-2f3c-486e-b8f0-3a73af62159e",
   "metadata": {},
   "outputs": [
    {
     "name": "stdout",
     "output_type": "stream",
     "text": [
      "da\n"
     ]
    }
   ],
   "source": [
    "s='abcdefghijkl'\n",
    "print(s[3:-15:-3])  "
   ]
  },
  {
   "cell_type": "code",
   "execution_count": 69,
   "id": "9e059e94-3d1d-4be5-be4b-b79827eba6d2",
   "metadata": {},
   "outputs": [
    {
     "name": "stdout",
     "output_type": "stream",
     "text": [
      "abc\n"
     ]
    }
   ],
   "source": [
    "s='abcdefghijkl'\n",
    "print(s[:3])  # Step value Automatically decide=1"
   ]
  },
  {
   "cell_type": "code",
   "execution_count": 71,
   "id": "b6f66c06-8f1d-42a0-a546-1e5df00d8140",
   "metadata": {},
   "outputs": [
    {
     "name": "stdout",
     "output_type": "stream",
     "text": [
      "lkjihgfe\n"
     ]
    }
   ],
   "source": [
    "s='abcdefghijkl'\n",
    "print(s[:3:-1]) #  step value: -1"
   ]
  },
  {
   "cell_type": "code",
   "execution_count": 73,
   "id": "44c5b1ec-26b4-4ff7-807e-ccfd266d1eeb",
   "metadata": {},
   "outputs": [
    {
     "name": "stdout",
     "output_type": "stream",
     "text": [
      "lkjihgfedcba\n"
     ]
    }
   ],
   "source": [
    "s='abcdefghijkl'\n",
    "print(s[:-13:-1]) #  step value: -1"
   ]
  },
  {
   "cell_type": "code",
   "execution_count": 75,
   "id": "0e09153b-5b93-44f0-a66e-53d53dd62333",
   "metadata": {},
   "outputs": [
    {
     "name": "stdout",
     "output_type": "stream",
     "text": [
      "lkjihgfedcb\n"
     ]
    }
   ],
   "source": [
    "s='abcdefghijkl'\n",
    "print(s[:0:-1]) #  step value: -1"
   ]
  },
  {
   "cell_type": "code",
   "execution_count": 77,
   "id": "d6cea6e2-9d14-45fc-bb5d-85d2fd34e737",
   "metadata": {},
   "outputs": [
    {
     "name": "stdout",
     "output_type": "stream",
     "text": [
      "dcba\n"
     ]
    }
   ],
   "source": [
    "s='abcdefghijkl'\n",
    "print(s[3::-1]) #  step value: -1"
   ]
  },
  {
   "cell_type": "code",
   "execution_count": 79,
   "id": "13f03c6c-f406-4290-81b8-8c72b5341eed",
   "metadata": {},
   "outputs": [
    {
     "name": "stdout",
     "output_type": "stream",
     "text": [
      "defghijkl\n"
     ]
    }
   ],
   "source": [
    "s='abcdefghijkl'\n",
    "print(s[3::1]) #  step value: 1"
   ]
  },
  {
   "cell_type": "code",
   "execution_count": 81,
   "id": "85403113-cd92-47ad-8591-d8386e8691d7",
   "metadata": {},
   "outputs": [
    {
     "name": "stdout",
     "output_type": "stream",
     "text": [
      "defghijkl\n"
     ]
    }
   ],
   "source": [
    "s='abcdefghijkl'\n",
    "print(s[3::])"
   ]
  },
  {
   "cell_type": "code",
   "execution_count": 83,
   "id": "ea951da6-8d31-41fe-8f0b-000080241dd6",
   "metadata": {},
   "outputs": [
    {
     "name": "stdout",
     "output_type": "stream",
     "text": [
      "j\n"
     ]
    }
   ],
   "source": [
    "s='abcdefghijkl'\n",
    "print(s[9:-1:2])"
   ]
  },
  {
   "cell_type": "code",
   "execution_count": 87,
   "id": "86871d1b-797d-4b39-8c10-389e4050e6c2",
   "metadata": {},
   "outputs": [
    {
     "name": "stdout",
     "output_type": "stream",
     "text": [
      "['mango']\n"
     ]
    }
   ],
   "source": [
    "l = ['apple','orange','grape','mango']\n",
    "print(l[:2:-1])"
   ]
  },
  {
   "cell_type": "code",
   "execution_count": 89,
   "id": "f4149f8a-69f3-4f47-93a4-dfcda92c2776",
   "metadata": {},
   "outputs": [
    {
     "name": "stdout",
     "output_type": "stream",
     "text": [
      "['apple', 'orange']\n"
     ]
    }
   ],
   "source": [
    "l = ['apple','orange','grape','mango']\n",
    "print(l[:2])"
   ]
  },
  {
   "cell_type": "code",
   "execution_count": 97,
   "id": "d914e917-a221-408f-80b2-1903be7ab551",
   "metadata": {},
   "outputs": [
    {
     "name": "stdout",
     "output_type": "stream",
     "text": [
      "['mango']\n"
     ]
    }
   ],
   "source": [
    "l = ['apple','orange','grape','mango']\n",
    "print(l[:1:-2])"
   ]
  },
  {
   "cell_type": "code",
   "execution_count": null,
   "id": "19760404-5d62-4261-9355-f6b1be258579",
   "metadata": {},
   "outputs": [],
   "source": []
  }
 ],
 "metadata": {
  "kernelspec": {
   "display_name": "Python 3 (ipykernel)",
   "language": "python",
   "name": "python3"
  },
  "language_info": {
   "codemirror_mode": {
    "name": "ipython",
    "version": 3
   },
   "file_extension": ".py",
   "mimetype": "text/x-python",
   "name": "python",
   "nbconvert_exporter": "python",
   "pygments_lexer": "ipython3",
   "version": "3.12.4"
  }
 },
 "nbformat": 4,
 "nbformat_minor": 5
}
