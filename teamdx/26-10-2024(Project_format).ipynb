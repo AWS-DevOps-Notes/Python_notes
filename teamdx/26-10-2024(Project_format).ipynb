{
 "cells": [
  {
   "cell_type": "markdown",
   "id": "a2b12d2d-e845-40ac-a8ee-1b4de8c79730",
   "metadata": {},
   "source": [
    "1. Problems\n",
    "2. Actors\n",
    "3. Responsibility of each actor\n",
    "4. What is the menu if an actor login\n",
    "5. How many tables required for your application\n",
    "6. SQL code to create a DB Structure\n",
    "7. DB queries for each operation done by an actor."
   ]
  },
  {
   "cell_type": "markdown",
   "id": "7a67dc14-e703-4e1c-a494-7b56213b47db",
   "metadata": {},
   "source": [
    "#### Step 1: Create DB and tables "
   ]
  },
  {
   "cell_type": "code",
   "execution_count": 7,
   "id": "6ddf8663-e917-4a8a-8039-851a773376f4",
   "metadata": {},
   "outputs": [],
   "source": [
    "import psycopg2"
   ]
  },
  {
   "cell_type": "code",
   "execution_count": 9,
   "id": "70bf3bac-c370-4b09-87c4-a2b839767252",
   "metadata": {},
   "outputs": [],
   "source": [
    "con = psycopg2.connect(host='localhost',user='postgres',password='postgres',port=5432,dbname = 'myexpense')"
   ]
  },
  {
   "cell_type": "code",
   "execution_count": 11,
   "id": "0da87bbc-2213-4119-bd36-65585af4b76e",
   "metadata": {},
   "outputs": [],
   "source": [
    "cur = con.cursor()  # it is used to create cursor object "
   ]
  },
  {
   "cell_type": "code",
   "execution_count": 38,
   "id": "0456a37b-0d4f-4340-8ff3-ce05022637d8",
   "metadata": {},
   "outputs": [
    {
     "name": "stdout",
     "output_type": "stream",
     "text": [
      "<cursor object at 0x000001D997373E60; closed: 0>\n"
     ]
    }
   ],
   "source": [
    "print(cur)"
   ]
  },
  {
   "cell_type": "code",
   "execution_count": 12,
   "id": "958b6ff2-5dbf-4152-9614-8345956b3ecd",
   "metadata": {},
   "outputs": [],
   "source": [
    "con.rollback()"
   ]
  },
  {
   "cell_type": "code",
   "execution_count": 14,
   "id": "0f7b701e-512c-4a44-8fd4-9c12f43c1c89",
   "metadata": {},
   "outputs": [
    {
     "ename": "DuplicateTable",
     "evalue": "relation \"users\" already exists\n",
     "output_type": "error",
     "traceback": [
      "\u001b[1;31m---------------------------------------------------------------------------\u001b[0m",
      "\u001b[1;31mDuplicateTable\u001b[0m                            Traceback (most recent call last)",
      "Cell \u001b[1;32mIn[14], line 2\u001b[0m\n\u001b[0;32m      1\u001b[0m \u001b[38;5;66;03m# Execute a query\u001b[39;00m\n\u001b[1;32m----> 2\u001b[0m cur\u001b[38;5;241m.\u001b[39mexecute(\u001b[38;5;124m'''\u001b[39m\n\u001b[0;32m      3\u001b[0m \u001b[38;5;124m    CREATE TABLE Users (\u001b[39m\n\u001b[0;32m      4\u001b[0m \u001b[38;5;124m        user_id SERIAL PRIMARY KEY,\u001b[39m\n\u001b[0;32m      5\u001b[0m \u001b[38;5;124m        username VARCHAR(50) UNIQUE NOT NULL,\u001b[39m\n\u001b[0;32m      6\u001b[0m \u001b[38;5;124m        password VARCHAR(255) NOT NULL);\u001b[39m\u001b[38;5;124m'''\u001b[39m)\n",
      "\u001b[1;31mDuplicateTable\u001b[0m: relation \"users\" already exists\n"
     ]
    }
   ],
   "source": [
    "# Execute a query\n",
    "cur.execute('''\n",
    "    CREATE TABLE Users (\n",
    "        user_id SERIAL PRIMARY KEY,\n",
    "        username VARCHAR(50) UNIQUE NOT NULL,\n",
    "        password VARCHAR(255) NOT NULL);''')"
   ]
  },
  {
   "cell_type": "code",
   "execution_count": 28,
   "id": "1f47acab-8389-4080-8bf5-ecdaf3d78b46",
   "metadata": {},
   "outputs": [],
   "source": [
    "con.commit()"
   ]
  },
  {
   "cell_type": "code",
   "execution_count": 20,
   "id": "ba9f2ba0-1981-4fbc-92ce-385756054622",
   "metadata": {},
   "outputs": [],
   "source": [
    "import psycopg2"
   ]
  },
  {
   "cell_type": "code",
   "execution_count": 22,
   "id": "f3eb8b20-e4cf-411e-95a4-c849ef3ac831",
   "metadata": {},
   "outputs": [],
   "source": [
    "con = psycopg2.connect(host='localhost',user='postgres',password='postgres',port=5432,dbname = 'myexpense')"
   ]
  },
  {
   "cell_type": "code",
   "execution_count": 32,
   "id": "8dd2869f-fc61-4e88-85c5-4f439c3b42b8",
   "metadata": {},
   "outputs": [],
   "source": [
    "cur = con.cursor()  # it is used to create cursor object "
   ]
  },
  {
   "cell_type": "code",
   "execution_count": 26,
   "id": "80d4464e-f439-4470-88f0-f6008f7b4fac",
   "metadata": {},
   "outputs": [
    {
     "name": "stdout",
     "output_type": "stream",
     "text": [
      "['DataError', 'DatabaseError', 'Error', 'IntegrityError', 'InterfaceError', 'InternalError', 'NotSupportedError', 'OperationalError', 'ProgrammingError', 'Warning', '__class__', '__delattr__', '__dir__', '__doc__', '__enter__', '__eq__', '__exit__', '__format__', '__ge__', '__getattribute__', '__getstate__', '__gt__', '__hash__', '__init__', '__init_subclass__', '__le__', '__lt__', '__ne__', '__new__', '__reduce__', '__reduce_ex__', '__repr__', '__setattr__', '__sizeof__', '__str__', '__subclasshook__', 'async', 'async_', 'autocommit', 'binary_types', 'cancel', 'close', 'closed', 'commit', 'cursor', 'cursor_factory', 'deferrable', 'dsn', 'encoding', 'fileno', 'get_backend_pid', 'get_dsn_parameters', 'get_native_connection', 'get_parameter_status', 'get_transaction_status', 'info', 'isexecuting', 'isolation_level', 'lobject', 'notices', 'notifies', 'pgconn_ptr', 'poll', 'protocol_version', 'readonly', 'reset', 'rollback', 'server_version', 'set_client_encoding', 'set_isolation_level', 'set_session', 'status', 'string_types', 'tpc_begin', 'tpc_commit', 'tpc_prepare', 'tpc_recover', 'tpc_rollback', 'xid']\n"
     ]
    }
   ],
   "source": [
    "print(dir(con))"
   ]
  },
  {
   "cell_type": "code",
   "execution_count": 40,
   "id": "922ee34f-ecdf-4673-874c-61c21bd7a65f",
   "metadata": {},
   "outputs": [],
   "source": [
    "con.rollback()"
   ]
  },
  {
   "cell_type": "code",
   "execution_count": 42,
   "id": "7477a26a-2842-4cbb-9c0a-7766fdcd08ae",
   "metadata": {},
   "outputs": [],
   "source": [
    "cur.execute('''\n",
    "CREATE TABLE IF NOT EXISTS Categories (\n",
    "    category_id SERIAL PRIMARY KEY,\n",
    "    category_name VARCHAR(50) UNIQUE NOT NULL\n",
    ");\n",
    "''')"
   ]
  },
  {
   "cell_type": "code",
   "execution_count": 44,
   "id": "431c3e89-eaaa-4937-ba99-af0608e387b1",
   "metadata": {},
   "outputs": [],
   "source": [
    "con.commit()"
   ]
  },
  {
   "cell_type": "code",
   "execution_count": 50,
   "id": "600511b7-24ab-4e74-ae5b-54a8f46c8b78",
   "metadata": {},
   "outputs": [],
   "source": [
    "con.rollback()"
   ]
  },
  {
   "cell_type": "code",
   "execution_count": 13,
   "id": "1c9526dc-b569-4456-8947-4bb619f573f3",
   "metadata": {},
   "outputs": [],
   "source": [
    "cur.execute('''CREATE TABLE Expenses (\n",
    "    expense_id SERIAL PRIMARY KEY,\n",
    "    user_id INT,\n",
    "    amount DECIMAL(10, 2) NOT NULL,\n",
    "    category_id INT,\n",
    "    expense_date DATE NOT NULL,\n",
    "    description VARCHAR(255),\n",
    "    FOREIGN KEY (user_id) REFERENCES Users(user_id),\n",
    "    FOREIGN KEY (category_id) REFERENCES Categories(category_id)\n",
    ");''')"
   ]
  },
  {
   "cell_type": "code",
   "execution_count": 15,
   "id": "5f64676b-32c1-4e2f-8243-8e261726a4ff",
   "metadata": {},
   "outputs": [],
   "source": [
    "con.commit()"
   ]
  },
  {
   "cell_type": "code",
   "execution_count": 33,
   "id": "d294db88-18a0-4e74-9e69-d6ace46b6863",
   "metadata": {},
   "outputs": [],
   "source": [
    "con.rollback()"
   ]
  },
  {
   "cell_type": "code",
   "execution_count": 35,
   "id": "29ac83db-43e8-4ece-a6da-aaabbfd351e0",
   "metadata": {},
   "outputs": [],
   "source": [
    "cur.execute(\"insert into users values(1, 'dhanusha', 'dhanu123')\")"
   ]
  },
  {
   "cell_type": "code",
   "execution_count": 37,
   "id": "37291aac-86b0-46b5-a745-e542c123b9bc",
   "metadata": {},
   "outputs": [],
   "source": [
    "con.commit()"
   ]
  },
  {
   "cell_type": "code",
   "execution_count": 45,
   "id": "b5a52ad8-09f4-4513-a18d-731f1a6f2b0f",
   "metadata": {},
   "outputs": [],
   "source": [
    "con.rollback()"
   ]
  },
  {
   "cell_type": "code",
   "execution_count": 47,
   "id": "6a498137-7c70-4376-86fe-f6a6a71338a2",
   "metadata": {},
   "outputs": [],
   "source": [
    "cur.execute(\"insert into users values(2, 'Indu', 'indu456')\")"
   ]
  },
  {
   "cell_type": "code",
   "execution_count": 49,
   "id": "50275499-522f-4ebc-bc6e-b966d1f13ec3",
   "metadata": {},
   "outputs": [],
   "source": [
    "con.commit()"
   ]
  },
  {
   "cell_type": "code",
   "execution_count": 55,
   "id": "2e7284f8-6889-4dad-bb68-3435cb74ff16",
   "metadata": {},
   "outputs": [],
   "source": [
    "con.rollback()"
   ]
  },
  {
   "cell_type": "code",
   "execution_count": 57,
   "id": "c9350169-38c1-4b1f-9f90-c9770604256e",
   "metadata": {},
   "outputs": [],
   "source": [
    "cur.execute(\"insert into users values(3,'Raji', 'raji789')\")"
   ]
  },
  {
   "cell_type": "code",
   "execution_count": 59,
   "id": "8a505574-c539-4c13-b8ec-ec37df1f588a",
   "metadata": {},
   "outputs": [],
   "source": [
    "con.commit()"
   ]
  },
  {
   "cell_type": "code",
   "execution_count": 19,
   "id": "63ada941-3bc0-4d32-bf94-6d7cc7761023",
   "metadata": {},
   "outputs": [],
   "source": [
    "import psycopg2\n",
    "con = psycopg2.connect(host='localhost',user='postgres',password='postgres',port=5432,dbname = 'myexpense')\n",
    "cur = con.cursor() \n",
    "con.rollback()"
   ]
  },
  {
   "cell_type": "code",
   "execution_count": 20,
   "id": "28d50f72-b252-4093-8893-36dff1f0e0e8",
   "metadata": {},
   "outputs": [
    {
     "ename": "UndefinedColumn",
     "evalue": "column \"expense_id\" of relation \"expenses\" does not exist\n",
     "output_type": "error",
     "traceback": [
      "\u001b[1;31m---------------------------------------------------------------------------\u001b[0m",
      "\u001b[1;31mUndefinedColumn\u001b[0m                           Traceback (most recent call last)",
      "Cell \u001b[1;32mIn[20], line 1\u001b[0m\n\u001b[1;32m----> 1\u001b[0m cur\u001b[38;5;241m.\u001b[39mexecute(\u001b[38;5;124m\"\u001b[39m\u001b[38;5;124mALTER TABLE expenses DROP COLUMN expense_id;\u001b[39m\u001b[38;5;124m\"\u001b[39m)\n",
      "\u001b[1;31mUndefinedColumn\u001b[0m: column \"expense_id\" of relation \"expenses\" does not exist\n"
     ]
    }
   ],
   "source": [
    "cur.execute(\"ALTER TABLE expenses DROP COLUMN expense_id;\")"
   ]
  },
  {
   "cell_type": "code",
   "execution_count": null,
   "id": "8dc9f7a0-fba0-4df6-bbfb-7c95df21c5ce",
   "metadata": {},
   "outputs": [],
   "source": [
    "con.commit()"
   ]
  },
  {
   "cell_type": "code",
   "execution_count": null,
   "id": "7f2dba48-d75d-4cdc-acd9-d1539fd09e25",
   "metadata": {},
   "outputs": [],
   "source": []
  },
  {
   "cell_type": "code",
   "execution_count": null,
   "id": "87c538d8-e1f3-4e47-bec1-eb3afd0ab934",
   "metadata": {},
   "outputs": [],
   "source": []
  },
  {
   "cell_type": "code",
   "execution_count": null,
   "id": "fcd59b59-8bd1-48ac-8203-d821cd273e81",
   "metadata": {},
   "outputs": [],
   "source": []
  },
  {
   "cell_type": "code",
   "execution_count": null,
   "id": "f1f959a7-bbd6-41c2-9135-f67874b23510",
   "metadata": {},
   "outputs": [],
   "source": []
  },
  {
   "cell_type": "code",
   "execution_count": null,
   "id": "465678dd-5097-4088-9786-260dfbea7ba0",
   "metadata": {},
   "outputs": [],
   "source": []
  },
  {
   "cell_type": "code",
   "execution_count": null,
   "id": "92735f8b-6e5e-41d4-9ee0-4a2d2397a35c",
   "metadata": {},
   "outputs": [],
   "source": []
  },
  {
   "cell_type": "code",
   "execution_count": null,
   "id": "56802c88-9025-4099-b6a8-57f2248b5101",
   "metadata": {},
   "outputs": [],
   "source": []
  },
  {
   "cell_type": "code",
   "execution_count": null,
   "id": "e6e6eb46-8430-4692-9f55-92e79b88f261",
   "metadata": {},
   "outputs": [],
   "source": []
  },
  {
   "cell_type": "code",
   "execution_count": null,
   "id": "fe501f5a-b848-4fcf-b01a-592e4088760d",
   "metadata": {},
   "outputs": [],
   "source": []
  },
  {
   "cell_type": "code",
   "execution_count": null,
   "id": "a3bf887f-01f0-4846-ada6-ae3af1fd433d",
   "metadata": {},
   "outputs": [],
   "source": []
  },
  {
   "cell_type": "code",
   "execution_count": null,
   "id": "5cf8f4bb-80a5-4cad-ad52-eeaa63ff2573",
   "metadata": {},
   "outputs": [],
   "source": []
  },
  {
   "cell_type": "code",
   "execution_count": null,
   "id": "b9d6bd07-adc7-424e-a146-4081afa8c57a",
   "metadata": {},
   "outputs": [],
   "source": []
  },
  {
   "cell_type": "code",
   "execution_count": null,
   "id": "18f53a1a-15e9-44df-b6fa-4534d9aabf06",
   "metadata": {},
   "outputs": [],
   "source": []
  },
  {
   "cell_type": "code",
   "execution_count": null,
   "id": "e7d07c6e-cebf-4949-bcb1-23aa5ae96674",
   "metadata": {},
   "outputs": [],
   "source": []
  },
  {
   "cell_type": "code",
   "execution_count": null,
   "id": "c8d6041d-25e5-49cc-9335-c7a5d2947535",
   "metadata": {},
   "outputs": [],
   "source": []
  },
  {
   "cell_type": "code",
   "execution_count": null,
   "id": "3b8385a7-2b4f-4e4a-af48-9aea54418ab7",
   "metadata": {},
   "outputs": [],
   "source": []
  },
  {
   "cell_type": "code",
   "execution_count": null,
   "id": "946e669a-b56f-4539-873d-6dba5bb7a0a6",
   "metadata": {},
   "outputs": [],
   "source": []
  },
  {
   "cell_type": "code",
   "execution_count": null,
   "id": "7d055eee-f981-4a03-970f-a952bcc33e8d",
   "metadata": {},
   "outputs": [],
   "source": []
  },
  {
   "cell_type": "code",
   "execution_count": null,
   "id": "40206603-897b-46d2-8ff7-9f3a0bc0534d",
   "metadata": {},
   "outputs": [],
   "source": []
  },
  {
   "cell_type": "code",
   "execution_count": null,
   "id": "3a64fd0f-94e6-4268-96de-4238f5fbd070",
   "metadata": {},
   "outputs": [],
   "source": []
  },
  {
   "cell_type": "code",
   "execution_count": null,
   "id": "f459a1d8-8830-42f0-8436-e54d0c98939b",
   "metadata": {},
   "outputs": [],
   "source": []
  },
  {
   "cell_type": "code",
   "execution_count": null,
   "id": "3804fc96-a2d3-4435-b27a-1bf4aa909063",
   "metadata": {},
   "outputs": [],
   "source": []
  },
  {
   "cell_type": "code",
   "execution_count": null,
   "id": "8ef03ee1-7491-42fb-93f6-042d0d04b0c6",
   "metadata": {},
   "outputs": [],
   "source": []
  },
  {
   "cell_type": "code",
   "execution_count": null,
   "id": "f922a5b8-c977-4ec3-b35e-ead21b7bbb40",
   "metadata": {},
   "outputs": [],
   "source": []
  },
  {
   "cell_type": "code",
   "execution_count": null,
   "id": "92274635-df1b-4f3a-83a3-8214f9a17cc2",
   "metadata": {},
   "outputs": [],
   "source": []
  },
  {
   "cell_type": "code",
   "execution_count": null,
   "id": "1b8c73bf-33a1-472d-80a1-fa4c947024a4",
   "metadata": {},
   "outputs": [],
   "source": []
  },
  {
   "cell_type": "code",
   "execution_count": null,
   "id": "0d9e047e-05ae-4c87-b790-e26d67bcb84a",
   "metadata": {},
   "outputs": [],
   "source": []
  },
  {
   "cell_type": "code",
   "execution_count": null,
   "id": "6a3c6451-ff76-490b-b0a6-6a3866e0b70c",
   "metadata": {},
   "outputs": [],
   "source": []
  },
  {
   "cell_type": "code",
   "execution_count": null,
   "id": "35e7df4e-0217-4c22-98b9-e0cebb862e99",
   "metadata": {},
   "outputs": [],
   "source": []
  },
  {
   "cell_type": "code",
   "execution_count": null,
   "id": "2c883a9b-faca-447b-9a71-2767aeca3de0",
   "metadata": {},
   "outputs": [],
   "source": []
  },
  {
   "cell_type": "markdown",
   "id": "3f1af193-5a5f-460e-a3fb-5af2a910a048",
   "metadata": {},
   "source": [
    "##### database.py : This file manages database connections and executing SQL queries.\n",
    "\n",
    "import psycopg2\n",
    "\n",
    "def execute_query(query, params=None):\n",
    "    conn = psycopg2.connect(\"dbname=expenses user=username password=password\")\n",
    "    with conn.cursor() as cur:\n",
    "        cur.execute(query, params)\n",
    "        if query.strip().lower().startswith(\"select\"):\n",
    "            return cur.fetchall()\n",
    "        conn.commit()"
   ]
  },
  {
   "cell_type": "markdown",
   "id": "614ff5a9-3f98-4ee5-a3d7-d44c230e5d82",
   "metadata": {},
   "source": [
    "##### report.py : Creates a basic report that lists total expenses by category.\n",
    "from database import execute_query\n",
    "\n",
    "def generate_report():\n",
    "    query = \"SELECT category, SUM(amount) FROM expenses GROUP BY category\"\n",
    "    results = execute_query(query)\n",
    "    print(\"Expense Report by Category:\")\n",
    "    for category, total in results:\n",
    "        print(f\"{category}: ${total}\")\n",
    "\n",
    "##### expenses.py\n",
    "##### Handles adding and viewing expenses with simple database operations.\n",
    "from database import execute_query\n",
    "\n",
    "def add_expense():\n",
    "    amount = input(\"Amount: \")\n",
    "    category = input(\"Category: \")\n",
    "    description = input(\"Description: \")\n",
    "    date = input(\"Date (YYYY-MM-DD): \")\n",
    "    \n",
    "    query = \"INSERT INTO expenses (amount, category, description, date) VALUES (%s, %s, %s, %s)\"\n",
    "    execute_query(query, (amount, category, description, date))\n",
    "    print(\"Expense added!\")\n",
    "\n",
    "def view_expenses():\n",
    "    query = \"SELECT * FROM expenses\"\n",
    "    results = execute_query(query)\n",
    "    for row in results:\n",
    "        print(row)\n",
    "\n",
    "#main.py\n",
    "from expenses import add_expense, view_expenses\n",
    "from report import generate_report\n",
    "\n",
    "def main():\n",
    "    action = input(\"Choose an action: Add/View/Report: \").strip().lower()\n",
    "\n",
    "    if action == \"add\":\n",
    "        add_expense()\n",
    "    elif action == \"view\":\n",
    "        view_expenses()\n",
    "    elif action == \"report\":\n",
    "        generate_report()\n",
    "    else:\n",
    "        print(\"Invalid action.\")\n",
    "\n",
    "if __name__ == \"__main__\":\n",
    "    main()\n",
    "\n"
   ]
  }
 ],
 "metadata": {
  "kernelspec": {
   "display_name": "Python 3 (ipykernel)",
   "language": "python",
   "name": "python3"
  },
  "language_info": {
   "codemirror_mode": {
    "name": "ipython",
    "version": 3
   },
   "file_extension": ".py",
   "mimetype": "text/x-python",
   "name": "python",
   "nbconvert_exporter": "python",
   "pygments_lexer": "ipython3",
   "version": "3.12.4"
  }
 },
 "nbformat": 4,
 "nbformat_minor": 5
}
