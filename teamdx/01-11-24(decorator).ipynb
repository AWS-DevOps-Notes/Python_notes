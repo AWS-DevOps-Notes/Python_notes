{
 "cells": [
  {
   "cell_type": "code",
   "execution_count": 1,
   "id": "e04dffc2-20c3-4670-925e-a35a0971ebff",
   "metadata": {},
   "outputs": [
    {
     "name": "stdout",
     "output_type": "stream",
     "text": [
      "this is order\n",
      "result= None\n"
     ]
    }
   ],
   "source": [
    "def outer():\n",
    "    print(\"this is order\")\n",
    "    def inner():\n",
    "        print(\"this is lower\")\n",
    "res=outer()\n",
    "print(\"result=\",res)"
   ]
  },
  {
   "cell_type": "code",
   "execution_count": 9,
   "id": "486c7196-0f74-4827-9583-6d499a46bfed",
   "metadata": {},
   "outputs": [
    {
     "name": "stdout",
     "output_type": "stream",
     "text": [
      "this is order\n",
      "result= <function outer.<locals>.inner at 0x00000286494BE5C0>\n"
     ]
    }
   ],
   "source": [
    "def outer():\n",
    "    print(\"this is order\")\n",
    "    def inner():\n",
    "        print(\"this is lower\")\n",
    "    return inner\n",
    "res=outer()\n",
    "print(\"result=\",res)"
   ]
  },
  {
   "cell_type": "code",
   "execution_count": 13,
   "id": "8361dfe2-9955-43a0-b9d4-e6b909ccce43",
   "metadata": {},
   "outputs": [
    {
     "name": "stdout",
     "output_type": "stream",
     "text": [
      "this is order\n",
      "result= <function outer.<locals>.inner at 0x000002864A75A3E0>\n",
      "this is lower\n",
      "r1= None\n"
     ]
    }
   ],
   "source": [
    "def outer():\n",
    "    print(\"this is order\")\n",
    "    def inner():\n",
    "        print(\"this is lower\")\n",
    "    return inner\n",
    "res=outer()\n",
    "print(\"result=\",res)\n",
    "r1=res()\n",
    "print('r1=',r1)"
   ]
  },
  {
   "cell_type": "code",
   "execution_count": 17,
   "id": "f2df15da-c296-45e9-a49e-f315e8853a0f",
   "metadata": {},
   "outputs": [
    {
     "name": "stdout",
     "output_type": "stream",
     "text": [
      "x=10,y=20\n",
      "r1= 30\n",
      "r2= None\n"
     ]
    }
   ],
   "source": [
    "def add(x,y):\n",
    "    return x+y\n",
    "def add_dec(f):\n",
    "    def inner(x,y):\n",
    "        print(f'x={x},y={y}')\n",
    "        r1=f(x,y)\n",
    "        print('r1=',r1)\n",
    "    return inner\n",
    "res=add_dec(add)\n",
    "r2=res(10,20)\n",
    "print('r2=',r2)     "
   ]
  },
  {
   "cell_type": "code",
   "execution_count": 19,
   "id": "4590560f-333a-430e-821c-fde7d8160a77",
   "metadata": {},
   "outputs": [
    {
     "name": "stdout",
     "output_type": "stream",
     "text": [
      "r1= 30\n"
     ]
    }
   ],
   "source": [
    "def add(x,y):\n",
    "    return x+y\n",
    "def add_dec(f):\n",
    "    def inner(x,y):\n",
    "        print(f'x={x},y={y}')\n",
    "        r1=f(x,y)\n",
    "        print('r1=',r1)\n",
    "    return inner\n",
    "r1=add(10,20)\n",
    "print('r1=',r1)     "
   ]
  },
  {
   "cell_type": "code",
   "execution_count": 21,
   "id": "71212cd3-2f8e-479a-bc1f-2d9981ac695a",
   "metadata": {},
   "outputs": [
    {
     "name": "stdout",
     "output_type": "stream",
     "text": [
      "x=10,y=20\n",
      "r1= 30\n",
      "r1= None\n"
     ]
    }
   ],
   "source": [
    "def add_dec(f):                # this is closure . properties need : outer function and inner function\n",
    "    def inner(x,y):\n",
    "        print(f'x={x},y={y}')\n",
    "        r1=f(x,y)\n",
    "        print('r1=',r1)\n",
    "    return inner\n",
    "    \n",
    "@add_dec  # this is decorator. \n",
    "def add(x,y):\n",
    "    return x+y\n",
    "r1=add(10,20) # add_dec(add)(10,20)\n",
    "print('r1=',r1)     "
   ]
  },
  {
   "cell_type": "code",
   "execution_count": null,
   "id": "c7513a0a-358b-4e5d-a4b5-ddb1027f64d1",
   "metadata": {},
   "outputs": [],
   "source": []
  }
 ],
 "metadata": {
  "kernelspec": {
   "display_name": "Python 3 (ipykernel)",
   "language": "python",
   "name": "python3"
  },
  "language_info": {
   "codemirror_mode": {
    "name": "ipython",
    "version": 3
   },
   "file_extension": ".py",
   "mimetype": "text/x-python",
   "name": "python",
   "nbconvert_exporter": "python",
   "pygments_lexer": "ipython3",
   "version": "3.12.4"
  }
 },
 "nbformat": 4,
 "nbformat_minor": 5
}
