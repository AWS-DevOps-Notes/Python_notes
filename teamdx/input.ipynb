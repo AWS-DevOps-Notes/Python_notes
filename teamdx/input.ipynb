{
 "cells": [
  {
   "cell_type": "code",
   "execution_count": 1,
   "id": "97f46c85-66c5-41f2-b1da-efa9b89679e4",
   "metadata": {},
   "outputs": [
    {
     "name": "stdout",
     "output_type": "stream",
     "text": [
      "3000\n"
     ]
    }
   ],
   "source": [
    "a=1000\n",
    "b=2000\n",
    "print(a+b)"
   ]
  },
  {
   "cell_type": "code",
   "execution_count": 3,
   "id": "f19de25c-6e14-4797-a990-464fe07ab9af",
   "metadata": {},
   "outputs": [
    {
     "name": "stdin",
     "output_type": "stream",
     "text": [
      "ENter a value: 1000\n",
      "ENter b value: 2000\n"
     ]
    },
    {
     "name": "stdout",
     "output_type": "stream",
     "text": [
      "10002000\n"
     ]
    }
   ],
   "source": [
    "a=input(\"ENter a value:\")\n",
    "b=input(\"ENter b value:\")\n",
    "print(a+b)"
   ]
  },
  {
   "cell_type": "code",
   "execution_count": 9,
   "id": "290f0ebd-b463-4929-9e4e-33e784ba226e",
   "metadata": {},
   "outputs": [
    {
     "name": "stdin",
     "output_type": "stream",
     "text": [
      "Enter a value: (1,2,3,4)\n"
     ]
    },
    {
     "name": "stdout",
     "output_type": "stream",
     "text": [
      "(1,2,3,4) <class 'str'>\n"
     ]
    }
   ],
   "source": [
    "a=input(\"Enter a value:\")\n",
    "print(a,type(a))"
   ]
  },
  {
   "cell_type": "code",
   "execution_count": 7,
   "id": "af41dd58-ee7a-4086-8a71-d8f2b111ce01",
   "metadata": {},
   "outputs": [
    {
     "name": "stdout",
     "output_type": "stream",
     "text": [
      "[1,2,3,4] <class 'str'>\n",
      "(1,2,3,4) <class 'str'>\n",
      "{1,2,3,4} <class 'str'>\n"
     ]
    }
   ],
   "source": [
    "a=\"[1,2,3,4]\"\n",
    "print(a,type(a))\n",
    "b='(1,2,3,4)'\n",
    "print(b,type(b))\n",
    "c='{1,2,3,4}'\n",
    "print(c,type(c))"
   ]
  },
  {
   "cell_type": "code",
   "execution_count": 11,
   "id": "ec8ec895-f18d-421b-931c-865a891187de",
   "metadata": {},
   "outputs": [
    {
     "name": "stdin",
     "output_type": "stream",
     "text": [
      "Enter a value: 1000\n"
     ]
    },
    {
     "name": "stdout",
     "output_type": "stream",
     "text": [
      "1000 <class 'str'>\n"
     ]
    },
    {
     "name": "stdin",
     "output_type": "stream",
     "text": [
      "enter b value: 20\n"
     ]
    },
    {
     "name": "stdout",
     "output_type": "stream",
     "text": [
      "100020\n",
      "20 <class 'str'>\n",
      "1000 <class 'int'>\n",
      "20 <class 'int'>\n",
      "1020\n"
     ]
    }
   ],
   "source": [
    "a=input(\"Enter a value:\")\n",
    "print(a,type(a))\n",
    "b=input('enter b value:')\n",
    "res1=a+b #concatenation\n",
    "print(res1)\n",
    "print(b,type(b))\n",
    "a=int(a)\n",
    "b=int(b)\n",
    "print(a,type(a))\n",
    "print(b,type(b))\n",
    "res=a+b # summation\n",
    "print(res)\n"
   ]
  },
  {
   "cell_type": "code",
   "execution_count": 37,
   "id": "ef4caf1b-86b5-4411-9d1c-266e97aaa91b",
   "metadata": {},
   "outputs": [
    {
     "name": "stdin",
     "output_type": "stream",
     "text": [
      "Enter a value: 100\n",
      "enter b value: 4\n"
     ]
    },
    {
     "name": "stdout",
     "output_type": "stream",
     "text": [
      "104\n",
      "96\n",
      "400\n",
      "25.0\n",
      "25\n",
      "0\n"
     ]
    }
   ],
   "source": [
    "# take two numbers from the user and do all arithmatic operations(+,-,*,/,//,%)\n",
    "a=input(\"Enter a value:\")\n",
    "b=input('enter b value:')\n",
    "a=int(a)\n",
    "b=int(b)\n",
    "sum =a+b\n",
    "sub = a-b\n",
    "multi = a*b\n",
    "division= a/b\n",
    "floor_division= a//b\n",
    "modules= a%b\n",
    "print(sum)\n",
    "print(sub)\n",
    "print(multi)\n",
    "print(division)\n",
    "print(floor_division)\n",
    "print(modules)"
   ]
  },
  {
   "cell_type": "code",
   "execution_count": 27,
   "id": "861ad584-62e4-4a83-8966-32aafeebba8c",
   "metadata": {},
   "outputs": [
    {
     "name": "stdin",
     "output_type": "stream",
     "text": [
      "Enter a value: 334.5\n",
      "enter b value: 23\n"
     ]
    },
    {
     "name": "stdout",
     "output_type": "stream",
     "text": [
      "357.5\n",
      "311.5\n",
      "7693.5\n",
      "14.543478260869565\n",
      "14.0\n",
      "12.5\n"
     ]
    }
   ],
   "source": [
    "#instead of converting separately float, we can convert while giving the input itself as float like below\n",
    "a=float(input(\"Enter a value:\"))\n",
    "b=float(input('enter b value:'))\n",
    "a=float(a)\n",
    "b=float(b)\n",
    "print(a+b)\n",
    "print(a-b)\n",
    "print(a*b)\n",
    "print(a/b)\n",
    "print(a//b)\n",
    "print(a%b)\n"
   ]
  },
  {
   "cell_type": "code",
   "execution_count": null,
   "id": "cc4a8ac7-055f-4811-94fc-1a8c09583d76",
   "metadata": {},
   "outputs": [],
   "source": []
  }
 ],
 "metadata": {
  "kernelspec": {
   "display_name": "Python 3 (ipykernel)",
   "language": "python",
   "name": "python3"
  },
  "language_info": {
   "codemirror_mode": {
    "name": "ipython",
    "version": 3
   },
   "file_extension": ".py",
   "mimetype": "text/x-python",
   "name": "python",
   "nbconvert_exporter": "python",
   "pygments_lexer": "ipython3",
   "version": "3.12.4"
  }
 },
 "nbformat": 4,
 "nbformat_minor": 5
}
