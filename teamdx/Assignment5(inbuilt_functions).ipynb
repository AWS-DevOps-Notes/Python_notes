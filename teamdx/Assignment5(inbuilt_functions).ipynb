{
 "cells": [
  {
   "cell_type": "markdown",
   "id": "6eb8902e-7194-4b7f-a0ee-c5fa1db539f5",
   "metadata": {},
   "source": [
    "#### STRING"
   ]
  },
  {
   "cell_type": "code",
   "execution_count": 68,
   "id": "ef373219-a867-4d0d-ac31-62893fd06345",
   "metadata": {},
   "outputs": [
    {
     "name": "stdout",
     "output_type": "stream",
     "text": [
      "['__add__', '__class__', '__contains__', '__delattr__', '__dir__', '__doc__', '__eq__', '__format__', '__ge__', '__getattribute__', '__getitem__', '__getnewargs__', '__getstate__', '__gt__', '__hash__', '__init__', '__init_subclass__', '__iter__', '__le__', '__len__', '__lt__', '__mod__', '__mul__', '__ne__', '__new__', '__reduce__', '__reduce_ex__', '__repr__', '__rmod__', '__rmul__', '__setattr__', '__sizeof__', '__str__', '__subclasshook__', 'capitalize', 'casefold', 'center', 'count', 'encode', 'endswith', 'expandtabs', 'find', 'format', 'format_map', 'index', 'isalnum', 'isalpha', 'isascii', 'isdecimal', 'isdigit', 'isidentifier', 'islower', 'isnumeric', 'isprintable', 'isspace', 'istitle', 'isupper', 'join', 'ljust', 'lower', 'lstrip', 'maketrans', 'partition', 'removeprefix', 'removesuffix', 'replace', 'rfind', 'rindex', 'rjust', 'rpartition', 'rsplit', 'rstrip', 'split', 'splitlines', 'startswith', 'strip', 'swapcase', 'title', 'translate', 'upper', 'zfill']\n"
     ]
    }
   ],
   "source": [
    "s='hyd'  \n",
    "print(dir(s))"
   ]
  },
  {
   "cell_type": "code",
   "execution_count": 64,
   "id": "ebfcf765-c516-48b1-bbf3-62c39398e6bf",
   "metadata": {},
   "outputs": [
    {
     "name": "stdout",
     "output_type": "stream",
     "text": [
      "Hyderabad\n",
      "Hyd\n",
      "1234\n",
      "#$%^&\n",
      "\n"
     ]
    }
   ],
   "source": [
    "# capitalize – Converts first character to uppercase.\n",
    "s='hyderaBaD'\n",
    "print(s.capitalize())\n",
    "s='HYD'\n",
    "print(s.capitalize())\n",
    "s='1234'\n",
    "print(s.capitalize())\n",
    "s='2#$%^A'\n",
    "print(s.capitalize())\n",
    "s=''\n",
    "print(s.capitalize())"
   ]
  },
  {
   "cell_type": "code",
   "execution_count": 66,
   "id": "6b10e7fb-e4d1-45e7-adb4-4fd976640214",
   "metadata": {},
   "outputs": [
    {
     "name": "stdout",
     "output_type": "stream",
     "text": [
      "hyderabad\n",
      "hyd\n",
      "1234\n",
      "2#$%^a\n",
      "\n"
     ]
    }
   ],
   "source": [
    "# casefold – Converts string to lowercase (aggressively). \n",
    "s='hyderaBaD'\n",
    "print(s.casefold())\n",
    "s='HYD'\n",
    "print(s.casefold())\n",
    "s='1234'\n",
    "print(s.casefold())\n",
    "s='2#$%^A'\n",
    "print(s.casefold())\n",
    "s=''\n",
    "print(s.casefold())"
   ]
  },
  {
   "cell_type": "code",
   "execution_count": 87,
   "id": "a2718541-a813-4948-a5cb-36ffe11a33b0",
   "metadata": {},
   "outputs": [
    {
     "name": "stdout",
     "output_type": "stream",
     "text": [
      "hyderaBaD\n",
      "HYD\n",
      "1234\n",
      "2#$%^A\n",
      " \n"
     ]
    }
   ],
   "source": [
    "# center – Centers the string with specified width.\n",
    "s='hyderaBaD'\n",
    "print(s.center(2))\n",
    "s='HYD'\n",
    "print(s.center(3))\n",
    "s='1234'\n",
    "print(s.center(4))\n",
    "s='2#$%^A'\n",
    "print(s.center(4))\n",
    "s=''\n",
    "print(s.center(1))"
   ]
  },
  {
   "cell_type": "code",
   "execution_count": 109,
   "id": "7417a02d-0154-48f1-bdc4-9bd03a12fe83",
   "metadata": {},
   "outputs": [
    {
     "name": "stdout",
     "output_type": "stream",
     "text": [
      "2\n",
      "1\n",
      "1\n",
      "1\n",
      "0\n"
     ]
    }
   ],
   "source": [
    "# count – Returns occurrences of a substring.\n",
    "s='hyderaBaD'\n",
    "print(s.count('a'))\n",
    "s='HYD'\n",
    "print(s.count('Y'))\n",
    "s='1234'\n",
    "print(s.count('1'))\n",
    "s='2#$%^A'\n",
    "print(s.count('#'))\n",
    "s=''\n",
    "print(s.count('a'))"
   ]
  },
  {
   "cell_type": "code",
   "execution_count": 111,
   "id": "a05ee7d7-ac53-4045-9333-6a3a7658b762",
   "metadata": {},
   "outputs": [
    {
     "name": "stdout",
     "output_type": "stream",
     "text": [
      "b'hyderaBaD'\n",
      "b'HYD'\n",
      "b'1234'\n",
      "b'2#$%^A'\n",
      "b''\n"
     ]
    }
   ],
   "source": [
    "# encode – Encodes string into bytes.\n",
    "s='hyderaBaD'\n",
    "print(s.encode())\n",
    "s='HYD'\n",
    "print(s.encode())\n",
    "s='1234'\n",
    "print(s.encode())\n",
    "s='2#$%^A'\n",
    "print(s.encode())\n",
    "s=''\n",
    "print(s.encode())"
   ]
  },
  {
   "cell_type": "code",
   "execution_count": 117,
   "id": "2ccaa4a0-9de9-4f85-8fde-755b93e34260",
   "metadata": {},
   "outputs": [
    {
     "name": "stdout",
     "output_type": "stream",
     "text": [
      "False\n",
      "True\n",
      "True\n",
      "True\n",
      "False\n"
     ]
    }
   ],
   "source": [
    "# endswith – Checks if string ends with a specified suffix.\n",
    "s='hyderaBaD'\n",
    "print(s.endswith('d'))\n",
    "s='HYD'\n",
    "print(s.endswith('D'))\n",
    "s='1234'\n",
    "print(s.endswith('4'))\n",
    "s='2#$%^A'\n",
    "print(s.endswith('A'))\n",
    "s=''\n",
    "print(s.endswith('a'))"
   ]
  },
  {
   "cell_type": "code",
   "execution_count": 153,
   "id": "0db51420-0005-444d-b876-0875c12fba97",
   "metadata": {},
   "outputs": [
    {
     "name": "stdout",
     "output_type": "stream",
     "text": [
      "hyderaBaD       city\n",
      "H YD\n",
      "12 34\n",
      "2#$ %^A\n",
      " \n"
     ]
    }
   ],
   "source": [
    "# expandtabs – Replaces tabs with spaces.\n",
    "s='hyderaBaD\\tcity'\n",
    "print(s.expandtabs())\n",
    "s='H\\tYD'\n",
    "print(s.expandtabs(1))\n",
    "s='12\\t34'\n",
    "print(s.expandtabs(1))\n",
    "s='2#$\\t%^A'\n",
    "print(s.expandtabs(1))\n",
    "s='\\t'\n",
    "print(s.expandtabs(1))"
   ]
  },
  {
   "cell_type": "code",
   "execution_count": 7,
   "id": "903f7b0b-acd2-4e53-9299-dbe6cefddaca",
   "metadata": {},
   "outputs": [
    {
     "name": "stdout",
     "output_type": "stream",
     "text": [
      "6\n",
      "1\n",
      "1\n",
      "0\n",
      "-1\n"
     ]
    }
   ],
   "source": [
    "# find – Finds the first occurrence of a substring.\n",
    "s='hyderaBaD'\n",
    "print(s.find('BaD'))\n",
    "s='HYD'\n",
    "print(s.find('Y'))\n",
    "s='1234'\n",
    "print(s.find('2'))\n",
    "s='2#$%^A'\n",
    "print(s.find('2'))\n",
    "s=''\n",
    "print(s.find('2'))"
   ]
  },
  {
   "cell_type": "code",
   "execution_count": 171,
   "id": "b98bae75-69c1-43b0-8bc5-feb4bbf63bfb",
   "metadata": {},
   "outputs": [
    {
     "name": "stdout",
     "output_type": "stream",
     "text": [
      "hyderaBaD is a good city\n",
      "HYD\n",
      "1234\n",
      "2#$%^A\n",
      "\n"
     ]
    }
   ],
   "source": [
    "# format – Formats string using placeholders.\n",
    "s='hyderaBaD is a good city'\n",
    "print(s.format())\n",
    "s='HYD'\n",
    "print(s.format())\n",
    "s='1234'\n",
    "print(s.format())\n",
    "s='2#$%^A'\n",
    "print(s.format())\n",
    "s=''\n",
    "print(s.format())"
   ]
  },
  {
   "cell_type": "code",
   "execution_count": 175,
   "id": "df6961dd-65eb-4ede-9529-da4c63877d8d",
   "metadata": {},
   "outputs": [
    {
     "name": "stdout",
     "output_type": "stream",
     "text": [
      "welcome to Hyderabad, India\n",
      "HYD\n",
      "1234\n",
      "2#$%^A\n",
      "\n"
     ]
    }
   ],
   "source": [
    "# format_map – Formats string with mapping dictionary.\n",
    "mapping = {'city': 'Hyderabad', 'country': 'India'}\n",
    "s='welcome to {city}, {country}'\n",
    "print(s.format_map(mapping))\n",
    "s='HYD'\n",
    "print(s.format_map(mapping))\n",
    "s='1234'\n",
    "print(s.format_map(mapping))\n",
    "s='2#$%^A'\n",
    "print(s.format_map(mapping))\n",
    "s=''\n",
    "print(s.format_map(mapping))"
   ]
  },
  {
   "cell_type": "code",
   "execution_count": 1,
   "id": "928a1828-bc45-4ce1-b562-cb074bb508ea",
   "metadata": {},
   "outputs": [
    {
     "name": "stdout",
     "output_type": "stream",
     "text": [
      "5\n",
      "1\n",
      "0\n",
      "0\n",
      "0\n"
     ]
    }
   ],
   "source": [
    "# index – Returns the index of the first occurrence.\n",
    "s='hyderaBaD'\n",
    "print(s.index('a'))\n",
    "s='HYD'\n",
    "print(s.index('Y'))\n",
    "s='1234'\n",
    "print(s.index('1'))\n",
    "s='2#$%^A'\n",
    "print(s.index('2'))\n",
    "s=''\n",
    "print(s.index(''))"
   ]
  },
  {
   "cell_type": "code",
   "execution_count": 3,
   "id": "eec2249e-9bfa-4a6e-9292-8e22db5e8d35",
   "metadata": {},
   "outputs": [
    {
     "name": "stdout",
     "output_type": "stream",
     "text": [
      "True\n",
      "True\n",
      "True\n",
      "False\n",
      "False\n"
     ]
    }
   ],
   "source": [
    "# isalnum – Checks if all characters are alphanumeric.\n",
    "s='hyderaBaD'\n",
    "print(s.isalnum())\n",
    "s='HYD'\n",
    "print(s.isalnum())\n",
    "s='1234'\n",
    "print(s.isalnum())\n",
    "s='2#$%^A'\n",
    "print(s.isalnum())\n",
    "s=''\n",
    "print(s.isalnum())"
   ]
  },
  {
   "cell_type": "code",
   "execution_count": 189,
   "id": "f92bb259-2575-4fe1-b38d-fe1b225c58a8",
   "metadata": {},
   "outputs": [
    {
     "name": "stdout",
     "output_type": "stream",
     "text": [
      "True\n",
      "True\n",
      "False\n",
      "False\n",
      "False\n"
     ]
    }
   ],
   "source": [
    "# isalpha – Checks if all characters are alphabetic.\n",
    "s='hyderaBaD'\n",
    "print(s.isalpha())\n",
    "s='HYD'\n",
    "print(s.isalpha())\n",
    "s='1234'\n",
    "print(s.isalpha())\n",
    "s='2#$%^A'\n",
    "print(s.isalpha())\n",
    "s=''\n",
    "print(s.isalpha())"
   ]
  },
  {
   "cell_type": "code",
   "execution_count": 193,
   "id": "46273f10-9ed0-4912-a669-1d5e2cd51693",
   "metadata": {},
   "outputs": [
    {
     "name": "stdout",
     "output_type": "stream",
     "text": [
      "True\n",
      "True\n",
      "True\n",
      "True\n",
      "True\n"
     ]
    }
   ],
   "source": [
    "# isascii – Checks if all characters are ASCII.\n",
    "s='hyderaBaD'\n",
    "print(s.isascii())\n",
    "s='HYD'\n",
    "print(s.isascii())\n",
    "s='1234'\n",
    "print(s.isascii())\n",
    "s='2#$%^A'\n",
    "print(s.isascii())\n",
    "s=''\n",
    "print(s.isascii())"
   ]
  },
  {
   "cell_type": "code",
   "execution_count": 195,
   "id": "837e1b50-9c91-497c-8010-5518dada169d",
   "metadata": {},
   "outputs": [
    {
     "name": "stdout",
     "output_type": "stream",
     "text": [
      "False\n",
      "False\n",
      "True\n",
      "False\n",
      "False\n"
     ]
    }
   ],
   "source": [
    "# isdecimal – Checks if all characters are decimal digits.\n",
    "s='hyderaBaD'\n",
    "print(s.isdecimal())\n",
    "s='HYD'\n",
    "print(s.isdecimal())\n",
    "s='1234'\n",
    "print(s.isdecimal())\n",
    "s='2#$%^A'\n",
    "print(s.isdecimal())\n",
    "s=''\n",
    "print(s.isdecimal())"
   ]
  },
  {
   "cell_type": "code",
   "execution_count": 197,
   "id": "e400381f-86bf-475b-b98b-85f7e08cc664",
   "metadata": {},
   "outputs": [
    {
     "name": "stdout",
     "output_type": "stream",
     "text": [
      "False\n",
      "False\n",
      "True\n",
      "False\n",
      "False\n"
     ]
    }
   ],
   "source": [
    "# isdigit – Checks if all characters are digits.\n",
    "s='hyderaBaD'\n",
    "print(s.isdigit())\n",
    "s='HYD'\n",
    "print(s.isdigit())\n",
    "s='1234'\n",
    "print(s.isdigit())\n",
    "s='2#$%^A'\n",
    "print(s.isdigit())\n",
    "s=''\n",
    "print(s.isdigit()) "
   ]
  },
  {
   "cell_type": "code",
   "execution_count": 199,
   "id": "50683d87-eb28-498d-b3e9-dda107bdf760",
   "metadata": {},
   "outputs": [
    {
     "name": "stdout",
     "output_type": "stream",
     "text": [
      "True\n",
      "True\n",
      "False\n",
      "False\n",
      "False\n"
     ]
    }
   ],
   "source": [
    "# isidentifier – Checks if a string is a valid identifier.\n",
    "s='hyderaBaD'\n",
    "print(s.isidentifier())\n",
    "s='HYD'\n",
    "print(s.isidentifier())\n",
    "s='1234'\n",
    "print(s.isidentifier())\n",
    "s='2#$%^A'\n",
    "print(s.isidentifier())\n",
    "s=''\n",
    "print(s.isidentifier())"
   ]
  },
  {
   "cell_type": "code",
   "execution_count": 201,
   "id": "bb370978-2ca6-4a27-a76f-9ed3f9a870db",
   "metadata": {},
   "outputs": [
    {
     "name": "stdout",
     "output_type": "stream",
     "text": [
      "False\n",
      "False\n",
      "False\n",
      "False\n",
      "False\n"
     ]
    }
   ],
   "source": [
    "# islower – Checks if all characters are lowercase.\n",
    "s='hyderaBaD'\n",
    "print(s.islower())\n",
    "s='HYD'\n",
    "print(s.islower())\n",
    "s='1234'\n",
    "print(s.islower())\n",
    "s='2#$%^A'\n",
    "print(s.islower())\n",
    "s=''\n",
    "print(s.islower())"
   ]
  },
  {
   "cell_type": "code",
   "execution_count": 203,
   "id": "d9994631-a3af-4f8e-bab4-ea68a7770424",
   "metadata": {},
   "outputs": [
    {
     "name": "stdout",
     "output_type": "stream",
     "text": [
      "False\n",
      "False\n",
      "True\n",
      "False\n",
      "False\n"
     ]
    }
   ],
   "source": [
    "# isnumeric – Checks if all characters are numeric.\n",
    "s='hyderaBaD'\n",
    "print(s.isnumeric())\n",
    "s='HYD'\n",
    "print(s.isnumeric())\n",
    "s='1234'\n",
    "print(s.isnumeric())\n",
    "s='2#$%^A'\n",
    "print(s.isnumeric())\n",
    "s=''\n",
    "print(s.isnumeric())"
   ]
  },
  {
   "cell_type": "code",
   "execution_count": 205,
   "id": "dfd4c9a9-68bd-436b-a541-57187b334b07",
   "metadata": {},
   "outputs": [
    {
     "name": "stdout",
     "output_type": "stream",
     "text": [
      "True\n",
      "True\n",
      "True\n",
      "True\n",
      "True\n"
     ]
    }
   ],
   "source": [
    "# isprintable – Checks if all characters are printable.\n",
    "s='hyderaBaD'\n",
    "print(s.isprintable())\n",
    "s='HYD'\n",
    "print(s.isprintable())\n",
    "s='1234'\n",
    "print(s.isprintable())\n",
    "s='2#$%^A'\n",
    "print(s.isprintable())\n",
    "s=''\n",
    "print(s.isprintable())"
   ]
  },
  {
   "cell_type": "code",
   "execution_count": 209,
   "id": "7ed870a1-e6b9-4f9e-ae8a-e06036866822",
   "metadata": {},
   "outputs": [
    {
     "name": "stdout",
     "output_type": "stream",
     "text": [
      "False\n",
      "False\n",
      "False\n",
      "False\n",
      "False\n"
     ]
    }
   ],
   "source": [
    "#isspace – Checks if all characters are whitespace.\n",
    "s='hyderaB aD city'\n",
    "print(s.isspace())\n",
    "s='HYD'\n",
    "print(s.isspace())\n",
    "s='1234'\n",
    "print(s.isspace())\n",
    "s='2#$%^A'\n",
    "print(s.isspace())\n",
    "s=''\n",
    "print(s.isspace())"
   ]
  },
  {
   "cell_type": "code",
   "execution_count": 211,
   "id": "e183716c-6328-468d-9723-77c93da7e8b3",
   "metadata": {},
   "outputs": [
    {
     "name": "stdout",
     "output_type": "stream",
     "text": [
      "False\n",
      "False\n",
      "False\n",
      "True\n",
      "False\n"
     ]
    }
   ],
   "source": [
    "# istitle – Checks if string is title-cased.\n",
    "s='hyderaBaD'\n",
    "print(s.istitle())\n",
    "s='HYD'\n",
    "print(s.istitle())\n",
    "s='1234'\n",
    "print(s.istitle())\n",
    "s='2#$%^A'\n",
    "print(s.istitle())\n",
    "s=''\n",
    "print(s.istitle())"
   ]
  },
  {
   "cell_type": "code",
   "execution_count": 213,
   "id": "07efea6e-bb0c-4dab-9bb0-dd21946120a3",
   "metadata": {},
   "outputs": [
    {
     "name": "stdout",
     "output_type": "stream",
     "text": [
      "False\n",
      "True\n",
      "False\n",
      "True\n",
      "False\n"
     ]
    }
   ],
   "source": [
    "# isupper – Checks if all characters are uppercase.\n",
    "s='hyderaBaD'\n",
    "print(s.isupper())\n",
    "s='HYD'\n",
    "print(s.isupper())\n",
    "s='1234'\n",
    "print(s.isupper())\n",
    "s='2#$%^A'\n",
    "print(s.isupper())\n",
    "s=''\n",
    "print(s.isupper())"
   ]
  },
  {
   "cell_type": "code",
   "execution_count": 229,
   "id": "a2119d54-2aa7-4097-806a-a0cdf8172ff1",
   "metadata": {},
   "outputs": [
    {
     "name": "stdout",
     "output_type": "stream",
     "text": [
      "hyderaBaD_wdwd\n",
      "HYD_dwdfe\n",
      "1234_890\n",
      "2#$%^A_78\n",
      "\n"
     ]
    }
   ],
   "source": [
    "# join – Joins elements of an iterable into a string which  is usage of join with a list of strings\n",
    "separator = '_'\n",
    "s=['hyderaBaD','wdwd']\n",
    "print(separator.join(s))\n",
    "s=['HYD', 'dwdfe']\n",
    "print(separator.join(s))\n",
    "s=['1234','890']\n",
    "print(separator.join(s))\n",
    "s=['2#$%^A','78']\n",
    "print(separator.join(s))\n",
    "s=''\n",
    "print(separator.join(s))"
   ]
  },
  {
   "cell_type": "code",
   "execution_count": 241,
   "id": "9bef061a-fba5-44e2-bb8a-c0a9580bc763",
   "metadata": {},
   "outputs": [
    {
     "name": "stdout",
     "output_type": "stream",
     "text": [
      "hyderaBaD city\n",
      "HYD shdiw\n",
      "1234 4566\n",
      "2#$%^A 456\n",
      "       \n"
     ]
    }
   ],
   "source": [
    "# ljust – Left-justifies the string.\n",
    "s= 'hyderaBaD city'\n",
    "print(s.ljust(5))\n",
    "s= 'HYD shdiw'\n",
    "print(s.ljust(9))\n",
    "s= '1234 4566'\n",
    "print(s.ljust(9))\n",
    "s= '2#$%^A 456'\n",
    "print(s.ljust(0))\n",
    "s= ''\n",
    "print(s.ljust(7))"
   ]
  },
  {
   "cell_type": "code",
   "execution_count": 243,
   "id": "f274f6e2-2910-4813-a7f7-a9e2dfa76dd4",
   "metadata": {},
   "outputs": [
    {
     "name": "stdout",
     "output_type": "stream",
     "text": [
      "hyderabad\n",
      "hyd\n",
      "1234\n",
      "2#$%^a\n",
      "\n"
     ]
    }
   ],
   "source": [
    "# lower – Converts string to lowercase.\n",
    "s='hyderaBaD'\n",
    "print(s.lower())\n",
    "s='HYD'\n",
    "print(s.lower())\n",
    "s='1234'\n",
    "print(s.lower())\n",
    "s='2#$%^A'\n",
    "print(s.lower())\n",
    "s=''\n",
    "print(s.lower())"
   ]
  },
  {
   "cell_type": "code",
   "execution_count": 261,
   "id": "b87abbfc-a5b0-4fa5-9804-e8d77a443ffa",
   "metadata": {},
   "outputs": [
    {
     "name": "stdout",
     "output_type": "stream",
     "text": [
      "hyderaBaD 890 807.....\n",
      "HYD....\n",
      "...1234\n",
      "...2#$%^A\n",
      "\n"
     ]
    }
   ],
   "source": [
    "# lstrip – Removes leading whitespace.\n",
    "s='.....hyderaBaD 890 807.....'\n",
    "print(s.lstrip('.'))\n",
    "s='.....HYD....'\n",
    "print(s.lstrip('.'))\n",
    "s='...1234'\n",
    "print(s.lstrip('2'))\n",
    "s='...2#$%^A'\n",
    "print(s.lstrip())\n",
    "s=''\n",
    "print(s.lstrip())"
   ]
  },
  {
   "cell_type": "code",
   "execution_count": 275,
   "id": "96e2974e-f026-4cd7-b38c-b50d9b3cce7b",
   "metadata": {},
   "outputs": [
    {
     "name": "stdout",
     "output_type": "stream",
     "text": [
      "hy4er1B1D\n",
      "HYD\n",
      "1234\n",
      "2#$%^A\n",
      "\n"
     ]
    }
   ],
   "source": [
    "# maketrans – Returns a translation table. Create a translation table where 'a' is replaced by '1', 'b' is replaced by '2', etc.\n",
    "trans = str.maketrans('abcd','1234')\n",
    "s='hyderaBaD'\n",
    "print(s.translate(trans))\n",
    "s='HYD'\n",
    "print(s.translate(trans))\n",
    "s='1234'\n",
    "print(s.translate(trans))\n",
    "s='2#$%^A'\n",
    "print(s.translate(trans))\n",
    "s=''\n",
    "print(s.translate(trans))"
   ]
  },
  {
   "cell_type": "code",
   "execution_count": 281,
   "id": "3155067a-2d95-4692-868f-4172460c71b4",
   "metadata": {},
   "outputs": [
    {
     "name": "stdout",
     "output_type": "stream",
     "text": [
      "('hyderaBaD', '', '')\n",
      "('HYD', '', '')\n",
      "('1234', '', '')\n",
      "('2#', '$', '%^A')\n",
      "('', '', '')\n"
     ]
    }
   ],
   "source": [
    "# partition – Splits string into 3 parts around a separator.\n",
    "s='hyderaBaD'\n",
    "print(s.partition('#'))\n",
    "s='HYD'\n",
    "print(s.partition('#'))\n",
    "s='1234'\n",
    "print(s.partition('$'))\n",
    "s='2#$%^A'\n",
    "print(s.partition('$'))\n",
    "s=''\n",
    "print(s.partition('$'))"
   ]
  },
  {
   "cell_type": "code",
   "execution_count": 287,
   "id": "658267e6-a9ca-4132-b5a2-19b7b20e6098",
   "metadata": {},
   "outputs": [
    {
     "name": "stdout",
     "output_type": "stream",
     "text": [
      "hyderaBaD\n",
      "HYD\n",
      "234\n",
      "#$%^A\n",
      "\n"
     ]
    }
   ],
   "source": [
    "# removeprefix – Removes prefix from string.\n",
    "s='hyderaBaD'\n",
    "print(s.removeprefix('e'))\n",
    "s='HYD'\n",
    "print(s.removeprefix('y'))\n",
    "s='1234'\n",
    "print(s.removeprefix('1'))\n",
    "s='2#$%^A'\n",
    "print(s.removeprefix('2'))\n",
    "s=''\n",
    "print(s.removeprefix('q'))"
   ]
  },
  {
   "cell_type": "code",
   "execution_count": 53,
   "id": "a32c4590-2c75-4aad-918a-5ff4505fc51c",
   "metadata": {},
   "outputs": [
    {
     "name": "stdout",
     "output_type": "stream",
     "text": [
      "hyderaBa\n",
      "HY\n",
      "1234\n",
      "2#$%^\n",
      "\n"
     ]
    }
   ],
   "source": [
    "# removesuffix – Removes suffix from string.\n",
    "s='hyderaBaD'\n",
    "print(s.removesuffix('D'))\n",
    "s='HYD'\n",
    "print(s.removesuffix('D'))\n",
    "s='1234'\n",
    "print(s.removesuffix('3'))\n",
    "s='2#$%^A'\n",
    "print(s.removesuffix('A'))\n",
    "s=''\n",
    "print(s.removesuffix('3'))"
   ]
  },
  {
   "cell_type": "code",
   "execution_count": 303,
   "id": "0f005b16-94e7-4ac3-bfde-5295312198c5",
   "metadata": {},
   "outputs": [
    {
     "name": "stdout",
     "output_type": "stream",
     "text": [
      "hydeaaBaD\n",
      "DYD\n",
      "3234\n",
      "24$%^A\n",
      "1\n"
     ]
    }
   ],
   "source": [
    "# replace – Replaces a substring with another.\n",
    "s='hyderaBaD'\n",
    "print(s.replace('r','a'))\n",
    "s='HYD'\n",
    "print(s.replace('H','D'))\n",
    "s='1234'\n",
    "print(s.replace('1','3'))\n",
    "s='2#$%^A'\n",
    "print(s.replace('#','4'))\n",
    "s=''\n",
    "print(s.replace('','1'))"
   ]
  },
  {
   "cell_type": "code",
   "execution_count": 5,
   "id": "65b0d519-15f2-4d93-99d0-9e2e77e10fda",
   "metadata": {},
   "outputs": [
    {
     "name": "stdout",
     "output_type": "stream",
     "text": [
      "8\n",
      "2\n",
      "1\n",
      "0\n",
      "-1\n"
     ]
    }
   ],
   "source": [
    "# rfind – Finds the last occurrence of a substring.\n",
    "s='hyderaBaD'\n",
    "print(s.rfind('D'))\n",
    "s='HYD'\n",
    "print(s.rfind('D'))\n",
    "s='1234'\n",
    "print(s.rfind('2'))\n",
    "s='2#$%^A'\n",
    "print(s.rfind('2'))\n",
    "s=''\n",
    "print(s.rfind('0'))"
   ]
  },
  {
   "cell_type": "code",
   "execution_count": 321,
   "id": "9d90b072-ab23-48d9-b60e-86e3bee4dae5",
   "metadata": {},
   "outputs": [
    {
     "name": "stdout",
     "output_type": "stream",
     "text": [
      "8\n",
      "2\n",
      "3\n",
      "5\n",
      "0\n"
     ]
    }
   ],
   "source": [
    "# rindex – Returns the last index of a substring.\n",
    "s='hyderaBaD'\n",
    "print(s.rindex('D'))\n",
    "s='HYD'\n",
    "print(s.rindex('D'))\n",
    "s='1234'\n",
    "print(s.rindex('4'))\n",
    "s='2#$%^A'\n",
    "print(s.rindex('A'))\n",
    "s=''\n",
    "print(s.rindex(''))"
   ]
  },
  {
   "cell_type": "code",
   "execution_count": 367,
   "id": "1b0149f9-71b5-449b-9005-175de11335d9",
   "metadata": {},
   "outputs": [
    {
     "name": "stdout",
     "output_type": "stream",
     "text": [
      "hyderaBaD\n",
      "dddddHYD\n",
      "22221234\n",
      "2#$%^A\n",
      "DDDD\n"
     ]
    }
   ],
   "source": [
    "# rjust – Right-justifies the string.\n",
    "s='hyderaBaD'\n",
    "print(s.rjust(5,'D'))\n",
    "s='HYD'\n",
    "print(s.rjust(8,'d'))\n",
    "s='1234'\n",
    "print(s.rjust(8,'2'))\n",
    "s='2#$%^A'\n",
    "print(s.rjust(2,'#'))\n",
    "s=''\n",
    "print(s.rjust(4,'D'))"
   ]
  },
  {
   "cell_type": "code",
   "execution_count": 371,
   "id": "8121139f-12ac-4d3f-9b3d-12821ab0f30e",
   "metadata": {},
   "outputs": [
    {
     "name": "stdout",
     "output_type": "stream",
     "text": [
      "('hyderaBa', 'D', '')\n",
      "('', '', 'HYD')\n",
      "('', '1', '234')\n",
      "('', '2', '#$%^A')\n",
      "('', '', '')\n"
     ]
    }
   ],
   "source": [
    "# rpartition – Splits string into 3 parts from the end.\n",
    "s='hyderaBaD'\n",
    "print(s.rpartition('D'))\n",
    "s='HYD'\n",
    "print(s.rpartition('y'))\n",
    "s='1234'\n",
    "print(s.rpartition('1'))\n",
    "s='2#$%^A'\n",
    "print(s.rpartition('2'))\n",
    "s=''\n",
    "print(s.rpartition('4'))"
   ]
  },
  {
   "cell_type": "code",
   "execution_count": 5,
   "id": "26d2be87-a3d7-402d-8c3a-4dd5821f3405",
   "metadata": {},
   "outputs": [
    {
     "name": "stdout",
     "output_type": "stream",
     "text": [
      "['hyderaBaD']\n",
      "['HYD']\n",
      "['1234']\n",
      "['2#$%^A']\n",
      "[]\n"
     ]
    }
   ],
   "source": [
    "# rsplit – Splits string from the right side.\n",
    "s='hyderaBaD'\n",
    "print(s.rsplit())\n",
    "s='HYD'\n",
    "print(s.rsplit())\n",
    "s='1234'\n",
    "print(s.rsplit())\n",
    "s='2#$%^A'\n",
    "print(s.rsplit())\n",
    "s=''\n",
    "print(s.rsplit())"
   ]
  },
  {
   "cell_type": "code",
   "execution_count": 17,
   "id": "4b09a9dd-03c5-4baa-84f5-6648cbee0ff8",
   "metadata": {},
   "outputs": [
    {
     "name": "stdout",
     "output_type": "stream",
     "text": [
      "hyderaBaD\n",
      "HYD\n",
      "....1234\n",
      "2#$%^A\n",
      "\n"
     ]
    }
   ],
   "source": [
    "# rstrip – Removes trailing whitespace.\n",
    "s='hyderaBaD--'\n",
    "print(s.rstrip('-'))\n",
    "s='HYD......'\n",
    "print(s.rstrip('.'))\n",
    "s='....1234'\n",
    "print(s.rstrip('.'))\n",
    "s='2#$%^A'\n",
    "print(s.rstrip())\n",
    "s=''\n",
    "print(s.rstrip())"
   ]
  },
  {
   "cell_type": "code",
   "execution_count": 277,
   "id": "326df11c-8270-4c3d-8f28-17cf5cd01183",
   "metadata": {},
   "outputs": [
    {
     "name": "stdout",
     "output_type": "stream",
     "text": [
      "['hyderaBaD']\n",
      "['HYD']\n",
      "['1234']\n",
      "['2#$%^A']\n",
      "[]\n"
     ]
    }
   ],
   "source": [
    "# split – Splits string by a separator.\n",
    "s='hyderaBaD--'\n",
    "print(s.split())\n",
    "s='HYD'\n",
    "print(s.split())\n",
    "s='1234'\n",
    "print(s.split())\n",
    "s='2#$%^A'\n",
    "print(s.split())\n",
    "s=''\n",
    "print(s.split())"
   ]
  },
  {
   "cell_type": "code",
   "execution_count": 11,
   "id": "1f4b1c41-a49d-477f-b31a-fc8e3d417f75",
   "metadata": {},
   "outputs": [
    {
     "name": "stdout",
     "output_type": "stream",
     "text": [
      "['hyderaBaD']\n",
      "['HYD']\n",
      "['1234']\n",
      "['2#$%^A']\n",
      "[]\n"
     ]
    }
   ],
   "source": [
    "# splitlines – Splits string at line breaks.\n",
    "s='hyderaBaD'\n",
    "print(s.splitlines())\n",
    "s='HYD'\n",
    "print(s.splitlines())\n",
    "s='1234'\n",
    "print(s.splitlines())\n",
    "s='2#$%^A'\n",
    "print(s.splitlines())\n",
    "s=''\n",
    "print(s.splitlines())"
   ]
  },
  {
   "cell_type": "code",
   "execution_count": 9,
   "id": "9e1a229c-b22c-4d48-8095-c6b2517ba226",
   "metadata": {},
   "outputs": [
    {
     "name": "stdout",
     "output_type": "stream",
     "text": [
      "True\n",
      "True\n",
      "False\n",
      "False\n",
      "True\n"
     ]
    }
   ],
   "source": [
    "# startswith – Checks if string starts with a prefix.\n",
    "s='hyderaBaD'\n",
    "print(s.startswith('h'))\n",
    "s='HYD'\n",
    "print(s.startswith('H'))\n",
    "s='1234'\n",
    "print(s.startswith('2'))\n",
    "s='2#$%^A'\n",
    "print(s.startswith('#'))\n",
    "s=''\n",
    "print(s.startswith(''))"
   ]
  },
  {
   "cell_type": "code",
   "execution_count": 19,
   "id": "e4038b87-9ffd-4431-a3bf-e59302dc5c21",
   "metadata": {},
   "outputs": [
    {
     "name": "stdout",
     "output_type": "stream",
     "text": [
      "hyderaBaD\n",
      "HYD...\n",
      "1234\n",
      "2#$%^A\n",
      "\n"
     ]
    }
   ],
   "source": [
    "# strip – Removes leading and trailing whitespace.\n",
    "s='hyderaBaD.....'\n",
    "print(s.strip('.'))\n",
    "s='HYD...'\n",
    "print(s.strip())\n",
    "s='1234'\n",
    "print(s.strip())\n",
    "s='2#$%^A'\n",
    "print(s.strip())\n",
    "s=''\n",
    "print(s.strip())"
   ]
  },
  {
   "cell_type": "code",
   "execution_count": 27,
   "id": "c9ead35c-035a-4121-a5e6-6d530a928bca",
   "metadata": {},
   "outputs": [
    {
     "name": "stdout",
     "output_type": "stream",
     "text": [
      "HYDERAbAd\n",
      "hyd\n",
      "1234\n",
      "2#$%^a\n",
      "\n"
     ]
    }
   ],
   "source": [
    "# swapcase – Swaps case of all characters.\n",
    "s='hyderaBaD'\n",
    "print(s.swapcase())\n",
    "s='HYD'\n",
    "print(s.swapcase())\n",
    "s='1234'\n",
    "print(s.swapcase())\n",
    "s='2#$%^A'\n",
    "print(s.swapcase())\n",
    "s=''\n",
    "print(s.swapcase())"
   ]
  },
  {
   "cell_type": "code",
   "execution_count": 29,
   "id": "8d4e06c9-210d-4fe0-bd8b-4a9e80a32380",
   "metadata": {},
   "outputs": [
    {
     "name": "stdout",
     "output_type": "stream",
     "text": [
      "Hyderabad\n",
      "Hyd\n",
      "1234\n",
      "2#$%^A\n",
      "\n"
     ]
    }
   ],
   "source": [
    "# title – Converts to title case.\n",
    "s='hyderaBaD'\n",
    "print(s.title())\n",
    "s='HYD'\n",
    "print(s.title())\n",
    "s='1234'\n",
    "print(s.title())\n",
    "s='2#$%^A'\n",
    "print(s.title())\n",
    "s=''\n",
    "print(s.title())"
   ]
  },
  {
   "cell_type": "code",
   "execution_count": 33,
   "id": "d8846cdc-8176-4aa9-87db-956cef6dc141",
   "metadata": {},
   "outputs": [
    {
     "name": "stdout",
     "output_type": "stream",
     "text": [
      "hy53r2B2D\n",
      "HYD\n",
      "1234\n",
      "2#$%^A\n",
      "\n"
     ]
    }
   ],
   "source": [
    "# translate – Translates using a translation table.\n",
    "trans = str.maketrans('aebd','2345')\n",
    "s='hyderaBaD'\n",
    "print(s.translate(trans))\n",
    "s='HYD'\n",
    "print(s.translate(trans))\n",
    "s='1234'\n",
    "print(s.translate(trans))\n",
    "s='2#$%^A'\n",
    "print(s.translate(trans))\n",
    "s=''\n",
    "print(s.translate(trans))"
   ]
  },
  {
   "cell_type": "code",
   "execution_count": 35,
   "id": "3dca0ffe-a17b-4aa2-a92c-28088629e037",
   "metadata": {},
   "outputs": [
    {
     "name": "stdout",
     "output_type": "stream",
     "text": [
      "HYDERABAD\n",
      "HYD\n",
      "1234\n",
      "2#$%^A\n",
      "\n"
     ]
    }
   ],
   "source": [
    "# upper – Converts string to uppercase.\n",
    "s='hyderaBaD'\n",
    "print(s.upper())\n",
    "s='HYD'\n",
    "print(s.upper())\n",
    "s='1234'\n",
    "print(s.upper())\n",
    "s='2#$%^A'\n",
    "print(s.upper())\n",
    "s=''\n",
    "print(s.capitalize())"
   ]
  },
  {
   "cell_type": "code",
   "execution_count": 51,
   "id": "3c8274bc-a24b-47e4-9b36-ab8c96738696",
   "metadata": {},
   "outputs": [
    {
     "name": "stdout",
     "output_type": "stream",
     "text": [
      "000000hyderaBaD\n",
      "HYD\n",
      "0001234\n",
      "002#$%^A\n",
      "000000000\n"
     ]
    }
   ],
   "source": [
    "# zfill – Pads the string with zeros on the left.\n",
    "s='hyderaBaD'\n",
    "print(s.zfill(15))\n",
    "s='HYD'\n",
    "print(s.zfill(3))\n",
    "s='1234'\n",
    "print(s.zfill(7))\n",
    "s='2#$%^A'\n",
    "print(s.zfill(8))\n",
    "s=''\n",
    "print(s.zfill(9))"
   ]
  },
  {
   "cell_type": "markdown",
   "id": "50299cc8-b710-4102-90b5-1532a33a7f97",
   "metadata": {},
   "source": [
    "#### LIST"
   ]
  },
  {
   "cell_type": "code",
   "execution_count": 5,
   "id": "b08c6fd1-14f2-45e8-96cb-f18b4e88a687",
   "metadata": {},
   "outputs": [
    {
     "name": "stdout",
     "output_type": "stream",
     "text": [
      "['__add__', '__class__', '__class_getitem__', '__contains__', '__delattr__', '__delitem__', '__dir__', '__doc__', '__eq__', '__format__', '__ge__', '__getattribute__', '__getitem__', '__getstate__', '__gt__', '__hash__', '__iadd__', '__imul__', '__init__', '__init_subclass__', '__iter__', '__le__', '__len__', '__lt__', '__mul__', '__ne__', '__new__', '__reduce__', '__reduce_ex__', '__repr__', '__reversed__', '__rmul__', '__setattr__', '__setitem__', '__sizeof__', '__str__', '__subclasshook__', 'append', 'clear', 'copy', 'count', 'extend', 'index', 'insert', 'pop', 'remove', 'reverse', 'sort']\n"
     ]
    }
   ],
   "source": [
    "l=[1,2,3,4]\n",
    "print(dir(l))"
   ]
  },
  {
   "cell_type": "code",
   "execution_count": null,
   "id": "3de891ce-4e76-4f14-814f-765667c716dd",
   "metadata": {},
   "outputs": [],
   "source": [
    "# append – Adds an element to the end of the list.\n"
   ]
  },
  {
   "cell_type": "code",
   "execution_count": null,
   "id": "87ed2bc0-7e4a-421a-b909-cbc096f163cb",
   "metadata": {},
   "outputs": [],
   "source": [
    "# clear – Removes all elements from the list.\n"
   ]
  },
  {
   "cell_type": "code",
   "execution_count": null,
   "id": "890f1ee3-e030-4a5c-9373-125f94fe6ab8",
   "metadata": {},
   "outputs": [],
   "source": [
    "# copy – Returns a shallow copy of the list.\n"
   ]
  },
  {
   "cell_type": "code",
   "execution_count": null,
   "id": "ef3ba144-8fdb-4352-af7e-47cc11ec77b7",
   "metadata": {},
   "outputs": [],
   "source": [
    "# count – Returns the number of occurrences of a value.\n"
   ]
  },
  {
   "cell_type": "code",
   "execution_count": null,
   "id": "f403260e-e958-4cb5-948c-be6d0da23878",
   "metadata": {},
   "outputs": [],
   "source": [
    "# extend – Extends the list by appending elements from another iterable.\n"
   ]
  },
  {
   "cell_type": "code",
   "execution_count": null,
   "id": "25832123-c185-4db5-bdd6-74a7c4b2ca8c",
   "metadata": {},
   "outputs": [],
   "source": [
    "# index – Returns the index of the first occurrence of a value.\n"
   ]
  },
  {
   "cell_type": "code",
   "execution_count": null,
   "id": "4253ef47-5b09-4d19-8581-28b78463456b",
   "metadata": {},
   "outputs": [],
   "source": [
    "# insert – Inserts an element at a specified position.\n"
   ]
  },
  {
   "cell_type": "code",
   "execution_count": null,
   "id": "7d898b7e-6c6f-4656-b6ce-8226c1aa4134",
   "metadata": {},
   "outputs": [],
   "source": [
    "# pop – Removes and returns an element at a given index (or last if not specified).\n"
   ]
  },
  {
   "cell_type": "code",
   "execution_count": null,
   "id": "c2cec16d-7b1f-402d-a130-eb82c6929027",
   "metadata": {},
   "outputs": [],
   "source": [
    "# remove – Removes the first occurrence of a value.\n"
   ]
  },
  {
   "cell_type": "code",
   "execution_count": null,
   "id": "ba3d3143-38af-4d7c-a7d5-790a452dabeb",
   "metadata": {},
   "outputs": [],
   "source": [
    "# reverse – Reverses the order of the list.\n"
   ]
  },
  {
   "cell_type": "code",
   "execution_count": null,
   "id": "2156720e-983a-47bc-980b-39bb29d42f96",
   "metadata": {},
   "outputs": [],
   "source": [
    "# sort – Sorts the list in ascending order (or custom order if specified)."
   ]
  },
  {
   "cell_type": "markdown",
   "id": "ad1088e9-8cd9-4ad1-b978-4626f6848758",
   "metadata": {},
   "source": [
    "#### TUPLE"
   ]
  },
  {
   "cell_type": "code",
   "execution_count": 7,
   "id": "27405d51-947f-4fb6-9149-ff23872a2b8f",
   "metadata": {},
   "outputs": [
    {
     "name": "stdout",
     "output_type": "stream",
     "text": [
      "['__add__', '__class__', '__class_getitem__', '__contains__', '__delattr__', '__dir__', '__doc__', '__eq__', '__format__', '__ge__', '__getattribute__', '__getitem__', '__getnewargs__', '__getstate__', '__gt__', '__hash__', '__init__', '__init_subclass__', '__iter__', '__le__', '__len__', '__lt__', '__mul__', '__ne__', '__new__', '__reduce__', '__reduce_ex__', '__repr__', '__rmul__', '__setattr__', '__sizeof__', '__str__', '__subclasshook__', 'count', 'index']\n"
     ]
    }
   ],
   "source": [
    "t=(1,2,3,4)\n",
    "print(dir(t))"
   ]
  },
  {
   "cell_type": "code",
   "execution_count": null,
   "id": "ec70d09a-3887-4cc4-9829-79c1caf110fe",
   "metadata": {},
   "outputs": [],
   "source": [
    "# count – Returns the number of occurrences of a value.\n"
   ]
  },
  {
   "cell_type": "code",
   "execution_count": null,
   "id": "6c4c72b1-3079-4ef0-b842-aec28ea65c2e",
   "metadata": {},
   "outputs": [],
   "source": [
    "# index – Returns the first index of a value."
   ]
  },
  {
   "cell_type": "markdown",
   "id": "5a1d6048-4e98-4662-80cb-9db748d25649",
   "metadata": {},
   "source": [
    "#### DICTIONARY"
   ]
  },
  {
   "cell_type": "code",
   "execution_count": 23,
   "id": "a17b726b-b1bd-4e04-b02e-18e483440a09",
   "metadata": {},
   "outputs": [
    {
     "name": "stdout",
     "output_type": "stream",
     "text": [
      "['__class__', '__class_getitem__', '__contains__', '__delattr__', '__delitem__', '__dir__', '__doc__', '__eq__', '__format__', '__ge__', '__getattribute__', '__getitem__', '__getstate__', '__gt__', '__hash__', '__init__', '__init_subclass__', '__ior__', '__iter__', '__le__', '__len__', '__lt__', '__ne__', '__new__', '__or__', '__reduce__', '__reduce_ex__', '__repr__', '__reversed__', '__ror__', '__setattr__', '__setitem__', '__sizeof__', '__str__', '__subclasshook__', 'clear', 'copy', 'fromkeys', 'get', 'items', 'keys', 'pop', 'popitem', 'setdefault', 'update', 'values']\n"
     ]
    }
   ],
   "source": [
    "d={'name':'AJA','address':'HYD'}\n",
    "print(dir(d))"
   ]
  },
  {
   "cell_type": "code",
   "execution_count": null,
   "id": "061fd1b5-2a3d-4c54-ad5a-e987ba3f86fe",
   "metadata": {},
   "outputs": [],
   "source": [
    "# clear – Removes all items from the dictionary.\n"
   ]
  },
  {
   "cell_type": "code",
   "execution_count": null,
   "id": "e4beb19d-396f-47ef-9301-f527f1f0bc29",
   "metadata": {},
   "outputs": [],
   "source": [
    "# copy – Returns a shallow copy of the dictionary.\n"
   ]
  },
  {
   "cell_type": "code",
   "execution_count": null,
   "id": "665002d8-4710-413c-bb70-5114188d7198",
   "metadata": {},
   "outputs": [],
   "source": [
    "# fromkeys – Creates a dictionary from keys with a default value.\n"
   ]
  },
  {
   "cell_type": "code",
   "execution_count": null,
   "id": "db9f17b9-0560-421e-bf1b-9d21765d25be",
   "metadata": {},
   "outputs": [],
   "source": [
    "# get – Returns the value for a key, or a default value.\n"
   ]
  },
  {
   "cell_type": "code",
   "execution_count": null,
   "id": "e658407f-0dca-4152-bf76-92e9bc8e3d75",
   "metadata": {},
   "outputs": [],
   "source": [
    "# items – Returns a view of dictionary's key-value pairs.\n"
   ]
  },
  {
   "cell_type": "code",
   "execution_count": null,
   "id": "89b754d8-38d3-4908-88d8-a128cba5fc5e",
   "metadata": {},
   "outputs": [],
   "source": [
    "# keys – Returns a view of dictionary's keys.\n"
   ]
  },
  {
   "cell_type": "code",
   "execution_count": null,
   "id": "d8e58328-a925-4400-88d7-281782228204",
   "metadata": {},
   "outputs": [],
   "source": [
    "# pop – Removes and returns the value for a key.\n"
   ]
  },
  {
   "cell_type": "code",
   "execution_count": null,
   "id": "9d7be6e5-ddc1-48e1-874e-bf032e9ea5b8",
   "metadata": {},
   "outputs": [],
   "source": [
    "# popitem – Removes and returns the last key-value pair.\n"
   ]
  },
  {
   "cell_type": "code",
   "execution_count": null,
   "id": "f83fec9c-52cd-42aa-9c18-f051648fc327",
   "metadata": {},
   "outputs": [],
   "source": [
    "# setdefault – Returns or inserts a key with a default value.\n"
   ]
  },
  {
   "cell_type": "code",
   "execution_count": null,
   "id": "0e451fe6-851a-4c36-b7af-22230e8e0656",
   "metadata": {},
   "outputs": [],
   "source": [
    "# update – Updates the dictionary with another dictionary or key-value pairs."
   ]
  },
  {
   "cell_type": "code",
   "execution_count": null,
   "id": "6117c610-8eae-4d5e-9f06-2fb800b5ef67",
   "metadata": {},
   "outputs": [],
   "source": [
    "# values – Returns a view of dictionary's values."
   ]
  },
  {
   "cell_type": "markdown",
   "id": "f81a8809-36d9-4dd3-84d9-16a5c6ee9d88",
   "metadata": {},
   "source": [
    "#### SET"
   ]
  },
  {
   "cell_type": "code",
   "execution_count": 9,
   "id": "5be91b1d-02df-4110-b08a-3f074e16764a",
   "metadata": {},
   "outputs": [
    {
     "name": "stdout",
     "output_type": "stream",
     "text": [
      "['__and__', '__class__', '__class_getitem__', '__contains__', '__delattr__', '__dir__', '__doc__', '__eq__', '__format__', '__ge__', '__getattribute__', '__getstate__', '__gt__', '__hash__', '__iand__', '__init__', '__init_subclass__', '__ior__', '__isub__', '__iter__', '__ixor__', '__le__', '__len__', '__lt__', '__ne__', '__new__', '__or__', '__rand__', '__reduce__', '__reduce_ex__', '__repr__', '__ror__', '__rsub__', '__rxor__', '__setattr__', '__sizeof__', '__str__', '__sub__', '__subclasshook__', '__xor__', 'add', 'clear', 'copy', 'difference', 'difference_update', 'discard', 'intersection', 'intersection_update', 'isdisjoint', 'issubset', 'issuperset', 'pop', 'remove', 'symmetric_difference', 'symmetric_difference_update', 'union', 'update']\n"
     ]
    }
   ],
   "source": [
    "s={1,2,3,4}\n",
    "print(dir(s))"
   ]
  },
  {
   "cell_type": "code",
   "execution_count": null,
   "id": "c12e5c88-af35-4913-a1d0-33858f5e7a1e",
   "metadata": {},
   "outputs": [],
   "source": [
    "# add – Adds an element to the set.\n"
   ]
  },
  {
   "cell_type": "code",
   "execution_count": null,
   "id": "2c65aecf-4fb6-4662-83a9-0d9cad85244a",
   "metadata": {},
   "outputs": [],
   "source": [
    "# clear – Removes all elements from the set.\n"
   ]
  },
  {
   "cell_type": "code",
   "execution_count": null,
   "id": "5f896a9d-3995-475f-af46-767db57882de",
   "metadata": {},
   "outputs": [],
   "source": [
    "# copy – Returns a shallow copy of the set.\n"
   ]
  },
  {
   "cell_type": "code",
   "execution_count": null,
   "id": "ec7ffdeb-d1f9-4a0f-ac49-6e01538f7f33",
   "metadata": {},
   "outputs": [],
   "source": [
    "# difference – Returns the difference between two sets.\n"
   ]
  },
  {
   "cell_type": "code",
   "execution_count": null,
   "id": "7ce7f843-02f3-4955-897d-a0e5f3cdfc28",
   "metadata": {},
   "outputs": [],
   "source": [
    "# difference_update – Updates the set by removing elements found in another set.\n"
   ]
  },
  {
   "cell_type": "code",
   "execution_count": null,
   "id": "048dc90a-90cc-41cb-b50e-53a3c859ec74",
   "metadata": {},
   "outputs": [],
   "source": [
    "# discard – Removes an element from the set if it exists.\n"
   ]
  },
  {
   "cell_type": "code",
   "execution_count": null,
   "id": "f6483d52-6f0f-4542-8b71-bf388288e4ba",
   "metadata": {},
   "outputs": [],
   "source": [
    "# intersection – Returns the intersection of sets.\n"
   ]
  },
  {
   "cell_type": "code",
   "execution_count": null,
   "id": "ea952aa6-d3f9-4787-b551-ca0c005e4c34",
   "metadata": {},
   "outputs": [],
   "source": [
    "# intersection_update – Updates the set with the intersection of itself and another set.\n"
   ]
  },
  {
   "cell_type": "code",
   "execution_count": null,
   "id": "ac75f45c-1697-4f03-9e8f-12553bfd2e8d",
   "metadata": {},
   "outputs": [],
   "source": [
    "# isdisjoint – Checks if two sets have no elements in common.\n"
   ]
  },
  {
   "cell_type": "code",
   "execution_count": null,
   "id": "b70ca7aa-8afe-4fed-86eb-541e02dde292",
   "metadata": {},
   "outputs": [],
   "source": [
    "# issubset – Checks if the set is a subset of another set."
   ]
  },
  {
   "cell_type": "code",
   "execution_count": null,
   "id": "e6001bc8-9b1e-4ec3-b947-b8fc57541b87",
   "metadata": {},
   "outputs": [],
   "source": [
    "# issuperset – Checks if the set is a superset of another set.\n"
   ]
  },
  {
   "cell_type": "code",
   "execution_count": null,
   "id": "c3569064-1105-4111-a81f-4c22dbfe56d4",
   "metadata": {},
   "outputs": [],
   "source": [
    "# pop – Removes and returns an arbitrary element from the set.\n"
   ]
  },
  {
   "cell_type": "code",
   "execution_count": null,
   "id": "72d9647b-f961-44e3-b930-2c33b4081cd1",
   "metadata": {},
   "outputs": [],
   "source": [
    "# remove – Removes an element from the set, raises error if not found.\n"
   ]
  },
  {
   "cell_type": "code",
   "execution_count": null,
   "id": "fcef2689-a47f-4ea0-bc97-af15ad3e00eb",
   "metadata": {},
   "outputs": [],
   "source": [
    "# symmetric_difference – Returns the symmetric difference of two sets.\n"
   ]
  },
  {
   "cell_type": "code",
   "execution_count": null,
   "id": "8361b782-acd9-4606-aeb5-b884537c3a02",
   "metadata": {},
   "outputs": [],
   "source": [
    "# symmetric_difference_update – Updates the set with the symmetric difference.\n"
   ]
  },
  {
   "cell_type": "code",
   "execution_count": null,
   "id": "59a37492-064b-4861-bb29-be32140cbb52",
   "metadata": {},
   "outputs": [],
   "source": [
    "# union – Returns the union of sets.\n"
   ]
  },
  {
   "cell_type": "code",
   "execution_count": null,
   "id": "85a127de-c77f-41ce-8016-5b349be5a86f",
   "metadata": {},
   "outputs": [],
   "source": [
    "# update – Updates the set with elements from another set."
   ]
  },
  {
   "cell_type": "markdown",
   "id": "b391b6a8-cc67-4d78-b6a7-b71b2305f26c",
   "metadata": {},
   "source": [
    "#### INTEGER"
   ]
  },
  {
   "cell_type": "code",
   "execution_count": 36,
   "id": "76ee5ee3-6bb9-451b-99d2-110898290512",
   "metadata": {},
   "outputs": [
    {
     "name": "stdout",
     "output_type": "stream",
     "text": [
      "['__abs__', '__add__', '__and__', '__bool__', '__ceil__', '__class__', '__delattr__', '__dir__', '__divmod__', '__doc__', '__eq__', '__float__', '__floor__', '__floordiv__', '__format__', '__ge__', '__getattribute__', '__getnewargs__', '__getstate__', '__gt__', '__hash__', '__index__', '__init__', '__init_subclass__', '__int__', '__invert__', '__le__', '__lshift__', '__lt__', '__mod__', '__mul__', '__ne__', '__neg__', '__new__', '__or__', '__pos__', '__pow__', '__radd__', '__rand__', '__rdivmod__', '__reduce__', '__reduce_ex__', '__repr__', '__rfloordiv__', '__rlshift__', '__rmod__', '__rmul__', '__ror__', '__round__', '__rpow__', '__rrshift__', '__rshift__', '__rsub__', '__rtruediv__', '__rxor__', '__setattr__', '__sizeof__', '__str__', '__sub__', '__subclasshook__', '__truediv__', '__trunc__', '__xor__', 'as_integer_ratio', 'bit_count', 'bit_length', 'conjugate', 'denominator', 'from_bytes', 'imag', 'is_integer', 'numerator', 'real', 'to_bytes']\n"
     ]
    }
   ],
   "source": [
    "i=123\n",
    "print(dir(i))"
   ]
  },
  {
   "cell_type": "code",
   "execution_count": null,
   "id": "9792da15-e5a4-4bdb-932b-bdb6cdb24ad4",
   "metadata": {},
   "outputs": [],
   "source": [
    "# as_integer_ratio – Returns the ratio of the integer as a fraction."
   ]
  },
  {
   "cell_type": "code",
   "execution_count": null,
   "id": "4bd6c555-0c30-419f-9b88-2b0e8b8d6da5",
   "metadata": {},
   "outputs": [],
   "source": [
    "# bit_count – Returns the number of 1-bits in the binary representation.\n"
   ]
  },
  {
   "cell_type": "code",
   "execution_count": null,
   "id": "74d8f886-c787-4328-889e-3252c1f59de7",
   "metadata": {},
   "outputs": [],
   "source": [
    "# bit_length – Returns the number of bits needed to represent the integer.\n"
   ]
  },
  {
   "cell_type": "code",
   "execution_count": null,
   "id": "9c8fa83e-604a-4651-b6d7-061e2491d1e0",
   "metadata": {},
   "outputs": [],
   "source": [
    "# conjugate – Returns the complex conjugate (for complex numbers, for integers it's the same number).\n"
   ]
  },
  {
   "cell_type": "code",
   "execution_count": null,
   "id": "e48002c7-f60c-4c88-99a4-e5303cbcfc30",
   "metadata": {},
   "outputs": [],
   "source": [
    "# denominator – Always returns 1 for integers (used for fractions).\n"
   ]
  },
  {
   "cell_type": "code",
   "execution_count": null,
   "id": "02ce0053-e504-4767-a81c-90b2c2a0ed19",
   "metadata": {},
   "outputs": [],
   "source": [
    "# from_bytes – Converts bytes to an integer.\n"
   ]
  },
  {
   "cell_type": "code",
   "execution_count": null,
   "id": "afbb0ed0-79c9-4e1e-b41b-36406674e296",
   "metadata": {},
   "outputs": [],
   "source": [
    "# imag – Always returns 0 (used for complex numbers).\n"
   ]
  },
  {
   "cell_type": "code",
   "execution_count": null,
   "id": "6db9f1a4-1078-4810-9237-2a2cd88a2f9b",
   "metadata": {},
   "outputs": [],
   "source": [
    "# is_integer – Checks if the number is an integer (applies to float types).\n"
   ]
  },
  {
   "cell_type": "code",
   "execution_count": null,
   "id": "3b17da72-aab3-4e46-a0b4-0be8e2bcbdf1",
   "metadata": {},
   "outputs": [],
   "source": [
    "# numerator – Returns the numerator (used for fractions, same as the integer for integers).\n"
   ]
  },
  {
   "cell_type": "code",
   "execution_count": null,
   "id": "81fb8e73-1ab5-4452-898a-32157029753f",
   "metadata": {},
   "outputs": [],
   "source": [
    "# real – Returns the real part of the number.\n"
   ]
  },
  {
   "cell_type": "code",
   "execution_count": null,
   "id": "c4fabbc6-c9ca-4196-9a5c-483403f1354a",
   "metadata": {},
   "outputs": [],
   "source": [
    "# to_bytes – Converts the integer to a byte representation."
   ]
  },
  {
   "cell_type": "markdown",
   "id": "21392798-32b7-4bb2-b193-7674fbabeee8",
   "metadata": {},
   "source": [
    "#### FLOAT"
   ]
  },
  {
   "cell_type": "code",
   "execution_count": 44,
   "id": "67d4d9f0-363f-4ae1-be4c-1329fe0fe1b8",
   "metadata": {},
   "outputs": [
    {
     "name": "stdout",
     "output_type": "stream",
     "text": [
      "['__abs__', '__add__', '__bool__', '__ceil__', '__class__', '__delattr__', '__dir__', '__divmod__', '__doc__', '__eq__', '__float__', '__floor__', '__floordiv__', '__format__', '__ge__', '__getattribute__', '__getformat__', '__getnewargs__', '__getstate__', '__gt__', '__hash__', '__init__', '__init_subclass__', '__int__', '__le__', '__lt__', '__mod__', '__mul__', '__ne__', '__neg__', '__new__', '__pos__', '__pow__', '__radd__', '__rdivmod__', '__reduce__', '__reduce_ex__', '__repr__', '__rfloordiv__', '__rmod__', '__rmul__', '__round__', '__rpow__', '__rsub__', '__rtruediv__', '__setattr__', '__sizeof__', '__str__', '__sub__', '__subclasshook__', '__truediv__', '__trunc__', 'as_integer_ratio', 'conjugate', 'fromhex', 'hex', 'imag', 'is_integer', 'real']\n"
     ]
    }
   ],
   "source": [
    "f=12.34\n",
    "print(dir(f))"
   ]
  },
  {
   "cell_type": "code",
   "execution_count": null,
   "id": "5a0b04fa-a1f4-4594-a946-b387cd57f210",
   "metadata": {},
   "outputs": [],
   "source": [
    "# as_integer_ratio – Returns the ratio of the float as a fraction.\n"
   ]
  },
  {
   "cell_type": "code",
   "execution_count": null,
   "id": "5383a327-d56b-44a9-bed1-af0ee42be35c",
   "metadata": {},
   "outputs": [],
   "source": [
    "# conjugate – Returns the complex conjugate (same float value).\n"
   ]
  },
  {
   "cell_type": "code",
   "execution_count": null,
   "id": "ead73b66-21a1-4ce1-b249-c14386305983",
   "metadata": {},
   "outputs": [],
   "source": [
    "# fromhex – Converts a hexadecimal string to a float.\n"
   ]
  },
  {
   "cell_type": "code",
   "execution_count": null,
   "id": "60d496e1-b91a-45bb-94ce-85727c82874f",
   "metadata": {},
   "outputs": [],
   "source": [
    "# hex – Converts the float to a hexadecimal string.\n"
   ]
  },
  {
   "cell_type": "code",
   "execution_count": null,
   "id": "97ea1d50-9a84-4008-b47c-090d18929f02",
   "metadata": {},
   "outputs": [],
   "source": [
    "# imag – Always returns 0 (used for complex numbers).\n"
   ]
  },
  {
   "cell_type": "code",
   "execution_count": null,
   "id": "f85efaa2-0ee1-42c8-8806-3ab89d67884f",
   "metadata": {},
   "outputs": [],
   "source": [
    "# is_integer – Checks if the float is an integer value.\n"
   ]
  },
  {
   "cell_type": "code",
   "execution_count": null,
   "id": "1587116f-539f-48d9-b6b0-9ff0066b14f4",
   "metadata": {},
   "outputs": [],
   "source": [
    "# real – Returns the real part of the float (the float itself)."
   ]
  },
  {
   "cell_type": "markdown",
   "id": "cd68ee79-c8f8-4bb7-bcc7-2225135ab745",
   "metadata": {},
   "source": [
    "#### BOOLEAN"
   ]
  },
  {
   "cell_type": "code",
   "execution_count": 57,
   "id": "ff845991-2920-4e2e-a081-dc58f9e5efe3",
   "metadata": {},
   "outputs": [
    {
     "name": "stdout",
     "output_type": "stream",
     "text": [
      "['__abs__', '__add__', '__and__', '__bool__', '__ceil__', '__class__', '__delattr__', '__dir__', '__divmod__', '__doc__', '__eq__', '__float__', '__floor__', '__floordiv__', '__format__', '__ge__', '__getattribute__', '__getnewargs__', '__getstate__', '__gt__', '__hash__', '__index__', '__init__', '__init_subclass__', '__int__', '__invert__', '__le__', '__lshift__', '__lt__', '__mod__', '__mul__', '__ne__', '__neg__', '__new__', '__or__', '__pos__', '__pow__', '__radd__', '__rand__', '__rdivmod__', '__reduce__', '__reduce_ex__', '__repr__', '__rfloordiv__', '__rlshift__', '__rmod__', '__rmul__', '__ror__', '__round__', '__rpow__', '__rrshift__', '__rshift__', '__rsub__', '__rtruediv__', '__rxor__', '__setattr__', '__sizeof__', '__str__', '__sub__', '__subclasshook__', '__truediv__', '__trunc__', '__xor__', 'as_integer_ratio', 'bit_count', 'bit_length', 'conjugate', 'denominator', 'from_bytes', 'imag', 'is_integer', 'numerator', 'real', 'to_bytes']\n"
     ]
    }
   ],
   "source": [
    "b=True\n",
    "print(dir(b))"
   ]
  },
  {
   "cell_type": "code",
   "execution_count": null,
   "id": "395e7aa7-3cf3-4ad2-b8e9-cf86c64730d0",
   "metadata": {},
   "outputs": [],
   "source": [
    "# as_integer_ratio – Returns the ratio of the boolean as a fraction (1/1 for True, 0/1 for False)."
   ]
  },
  {
   "cell_type": "code",
   "execution_count": null,
   "id": "fb8de9ae-43dc-4fd2-8853-dc266206e6a0",
   "metadata": {},
   "outputs": [],
   "source": [
    "# bit_count – Returns the number of 1-bits (1 for True, 0 for False).\n"
   ]
  },
  {
   "cell_type": "code",
   "execution_count": null,
   "id": "ccdf379c-c4e2-4e1c-b3c0-500b4fe10bfe",
   "metadata": {},
   "outputs": [],
   "source": [
    "# bit_length – Returns the number of bits to represent the boolean (1 for True, 0 for False).\n"
   ]
  },
  {
   "cell_type": "code",
   "execution_count": null,
   "id": "cdaff0b7-7366-4bab-abaa-e0b77ad1a24f",
   "metadata": {},
   "outputs": [],
   "source": [
    "# conjugate – Returns the same boolean value (since booleans are real numbers).\n"
   ]
  },
  {
   "cell_type": "code",
   "execution_count": null,
   "id": "58a0232f-89c5-4776-bc14-11bd851d79fd",
   "metadata": {},
   "outputs": [],
   "source": [
    "# denominator – Always returns 1 (as for any integer or boolean).\n"
   ]
  },
  {
   "cell_type": "code",
   "execution_count": null,
   "id": "8fbb1e37-8861-4ac1-9889-1781c171969a",
   "metadata": {},
   "outputs": [],
   "source": [
    "# from_bytes – Converts bytes to a boolean (0 for False, any non-zero value for True).\n"
   ]
  },
  {
   "cell_type": "code",
   "execution_count": null,
   "id": "2ff2a731-5a32-4d70-9d91-0fac30524ccf",
   "metadata": {},
   "outputs": [],
   "source": [
    "# imag – Always returns 0 (booleans are real, not complex numbers).\n"
   ]
  },
  {
   "cell_type": "code",
   "execution_count": null,
   "id": "e5b4a99f-751c-43bb-b178-565d2bbf40ca",
   "metadata": {},
   "outputs": [],
   "source": [
    "# is_integer – Always True for booleans (since they are 0 or 1).\n"
   ]
  },
  {
   "cell_type": "code",
   "execution_count": null,
   "id": "e69c8e6b-6f85-459d-a167-e24333bae0ad",
   "metadata": {},
   "outputs": [],
   "source": [
    "# numerator – Returns the boolean value itself (1 for True, 0 for False).\n",
    "\n"
   ]
  },
  {
   "cell_type": "code",
   "execution_count": null,
   "id": "3cd797e9-9d31-417c-ab44-9c35be4433e7",
   "metadata": {},
   "outputs": [],
   "source": [
    "# real – Returns the boolean value itself.\n"
   ]
  },
  {
   "cell_type": "code",
   "execution_count": null,
   "id": "0bf197ee-58aa-4030-8bf7-3d817a52cd94",
   "metadata": {},
   "outputs": [],
   "source": [
    "# to_bytes – Converts the boolean to a byte representation (1 byte for True, 0 for False)."
   ]
  },
  {
   "cell_type": "markdown",
   "id": "7c015484-2461-4ec3-81dd-ab74efcdbf4c",
   "metadata": {},
   "source": [
    "#### NONE TYPE"
   ]
  },
  {
   "cell_type": "code",
   "execution_count": 62,
   "id": "3a70aa4b-eaf5-4ea5-8fc7-793951a42dcf",
   "metadata": {},
   "outputs": [
    {
     "name": "stdout",
     "output_type": "stream",
     "text": [
      "['__bool__', '__class__', '__delattr__', '__dir__', '__doc__', '__eq__', '__format__', '__ge__', '__getattribute__', '__getstate__', '__gt__', '__hash__', '__init__', '__init_subclass__', '__le__', '__lt__', '__ne__', '__new__', '__reduce__', '__reduce_ex__', '__repr__', '__setattr__', '__sizeof__', '__str__', '__subclasshook__']\n"
     ]
    }
   ],
   "source": [
    "n=None          \n",
    "print(dir(n))"
   ]
  }
 ],
 "metadata": {
  "kernelspec": {
   "display_name": "Python 3 (ipykernel)",
   "language": "python",
   "name": "python3"
  },
  "language_info": {
   "codemirror_mode": {
    "name": "ipython",
    "version": 3
   },
   "file_extension": ".py",
   "mimetype": "text/x-python",
   "name": "python",
   "nbconvert_exporter": "python",
   "pygments_lexer": "ipython3",
   "version": "3.12.4"
  }
 },
 "nbformat": 4,
 "nbformat_minor": 5
}
