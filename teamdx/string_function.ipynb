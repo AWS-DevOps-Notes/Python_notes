{
 "cells": [
  {
   "cell_type": "code",
   "execution_count": 1,
   "id": "af968dcb-9116-4361-8caf-dc362d37d4a9",
   "metadata": {},
   "outputs": [
    {
     "name": "stdout",
     "output_type": "stream",
     "text": [
      "['__add__', '__class__', '__contains__', '__delattr__', '__dir__', '__doc__', '__eq__', '__format__', '__ge__', '__getattribute__', '__getitem__', '__getnewargs__', '__getstate__', '__gt__', '__hash__', '__init__', '__init_subclass__', '__iter__', '__le__', '__len__', '__lt__', '__mod__', '__mul__', '__ne__', '__new__', '__reduce__', '__reduce_ex__', '__repr__', '__rmod__', '__rmul__', '__setattr__', '__sizeof__', '__str__', '__subclasshook__', 'capitalize', 'casefold', 'center', 'count', 'encode', 'endswith', 'expandtabs', 'find', 'format', 'format_map', 'index', 'isalnum', 'isalpha', 'isascii', 'isdecimal', 'isdigit', 'isidentifier', 'islower', 'isnumeric', 'isprintable', 'isspace', 'istitle', 'isupper', 'join', 'ljust', 'lower', 'lstrip', 'maketrans', 'partition', 'removeprefix', 'removesuffix', 'replace', 'rfind', 'rindex', 'rjust', 'rpartition', 'rsplit', 'rstrip', 'split', 'splitlines', 'startswith', 'strip', 'swapcase', 'title', 'translate', 'upper', 'zfill']\n"
     ]
    }
   ],
   "source": [
    "s='hyd'\n",
    "print(dir(s))"
   ]
  },
  {
   "cell_type": "code",
   "execution_count": 5,
   "id": "a667c9b6-873f-417d-ba0e-121727f961be",
   "metadata": {},
   "outputs": [
    {
     "name": "stdout",
     "output_type": "stream",
     "text": [
      "Hyderabad is a clean city\n"
     ]
    }
   ],
   "source": [
    "s='hyderabad is a clean city'\n",
    "print(s.capitalize())"
   ]
  },
  {
   "cell_type": "code",
   "execution_count": 7,
   "id": "978d8c53-b601-4da0-bed5-b1e4f349736b",
   "metadata": {},
   "outputs": [
    {
     "data": {
      "text/plain": [
       "\u001b[1;31mSignature:\u001b[0m \u001b[0ms\u001b[0m\u001b[1;33m.\u001b[0m\u001b[0mcapitalize\u001b[0m\u001b[1;33m(\u001b[0m\u001b[1;33m)\u001b[0m\u001b[1;33m\u001b[0m\u001b[1;33m\u001b[0m\u001b[0m\n",
       "\u001b[1;31mDocstring:\u001b[0m\n",
       "Return a capitalized version of the string.\n",
       "\n",
       "More specifically, make the first character have upper case and the rest lower\n",
       "case.\n",
       "\u001b[1;31mType:\u001b[0m      builtin_function_or_method"
      ]
     },
     "metadata": {},
     "output_type": "display_data"
    }
   ],
   "source": [
    "s.capitalize?"
   ]
  },
  {
   "cell_type": "code",
   "execution_count": 9,
   "id": "eba77306-fdc1-42f7-ad95-8374167426d9",
   "metadata": {},
   "outputs": [
    {
     "name": "stdout",
     "output_type": "stream",
     "text": [
      "Hyderabad is a clean city\n"
     ]
    }
   ],
   "source": [
    "s='hyderabad is a clean CITY'\n",
    "print(s.capitalize())"
   ]
  },
  {
   "cell_type": "code",
   "execution_count": 11,
   "id": "c3a64b86-2149-4d96-8b1e-335079f13ca5",
   "metadata": {},
   "outputs": [
    {
     "name": "stdout",
     "output_type": "stream",
     "text": [
      "2hyderabad is a clean city\n"
     ]
    }
   ],
   "source": [
    "s='2hyderabad is a clean CITY'\n",
    "print(s.capitalize())"
   ]
  },
  {
   "cell_type": "code",
   "execution_count": 13,
   "id": "f3fc3d7c-c780-451e-ae11-f9b2f5c2dc15",
   "metadata": {},
   "outputs": [
    {
     "name": "stdout",
     "output_type": "stream",
     "text": [
      "\n"
     ]
    }
   ],
   "source": [
    "s=''\n",
    "print(s.capitalize())"
   ]
  },
  {
   "cell_type": "code",
   "execution_count": 15,
   "id": "6ec2226b-6773-4b28-8d3f-0aacaa9ac6fd",
   "metadata": {},
   "outputs": [
    {
     "name": "stdout",
     "output_type": "stream",
     "text": [
      "2#$%\n"
     ]
    }
   ],
   "source": [
    "s='2#$%'\n",
    "print(s.capitalize())"
   ]
  },
  {
   "cell_type": "code",
   "execution_count": 17,
   "id": "a9a56e7e-76f3-4b34-a0b6-58219d1a7ee2",
   "metadata": {},
   "outputs": [
    {
     "name": "stdout",
     "output_type": "stream",
     "text": [
      "2#$%^a\n"
     ]
    }
   ],
   "source": [
    "s='2#$%^A'\n",
    "print(s.capitalize())"
   ]
  },
  {
   "cell_type": "code",
   "execution_count": 19,
   "id": "78b88009-7f94-4e49-ac50-c28e0fba3b91",
   "metadata": {},
   "outputs": [
    {
     "name": "stdout",
     "output_type": "stream",
     "text": [
      "12345\n"
     ]
    }
   ],
   "source": [
    "s='12345'\n",
    "print(s.capitalize())"
   ]
  },
  {
   "cell_type": "code",
   "execution_count": 21,
   "id": "14ff72ad-e0fe-43f0-a639-507fe9461df1",
   "metadata": {},
   "outputs": [
    {
     "data": {
      "text/plain": [
       "\u001b[1;31mSignature:\u001b[0m \u001b[0madd\u001b[0m\u001b[1;33m(\u001b[0m\u001b[0mx\u001b[0m\u001b[1;33m,\u001b[0m \u001b[0my\u001b[0m\u001b[1;33m)\u001b[0m\u001b[1;33m\u001b[0m\u001b[1;33m\u001b[0m\u001b[0m\n",
       "\u001b[1;31mDocstring:\u001b[0m <no docstring>\n",
       "\u001b[1;31mFile:\u001b[0m      c:\\users\\dhanusha\\appdata\\local\\temp\\ipykernel_34480\\859063251.py\n",
       "\u001b[1;31mType:\u001b[0m      function"
      ]
     },
     "metadata": {},
     "output_type": "display_data"
    }
   ],
   "source": [
    "def add(x,y):\n",
    "    return x+y\n",
    "add?"
   ]
  },
  {
   "cell_type": "code",
   "execution_count": 23,
   "id": "799790f6-1bb8-4d70-a433-997355444b4a",
   "metadata": {},
   "outputs": [
    {
     "data": {
      "text/plain": [
       "\u001b[1;31mSignature:\u001b[0m \u001b[0madd\u001b[0m\u001b[1;33m(\u001b[0m\u001b[0mx\u001b[0m\u001b[1;33m,\u001b[0m \u001b[0my\u001b[0m\u001b[1;33m)\u001b[0m\u001b[1;33m\u001b[0m\u001b[1;33m\u001b[0m\u001b[0m\n",
       "\u001b[1;31mDocstring:\u001b[0m\n",
       "function to add two numbers\n",
       "x: int/float\n",
       "y: int/float\n",
       "\u001b[1;31mFile:\u001b[0m      c:\\users\\dhanusha\\appdata\\local\\temp\\ipykernel_34480\\972127776.py\n",
       "\u001b[1;31mType:\u001b[0m      function"
      ]
     },
     "metadata": {},
     "output_type": "display_data"
    }
   ],
   "source": [
    "def add(x,y):\n",
    "    '''\n",
    "    function to add two numbers\n",
    "    x: int/float\n",
    "    y: int/float\n",
    "    '''\n",
    "    return x+y\n",
    "add?"
   ]
  },
  {
   "cell_type": "code",
   "execution_count": 25,
   "id": "3c020733-1b13-4b82-a2e6-f7e06c6d5a8f",
   "metadata": {},
   "outputs": [
    {
     "name": "stdout",
     "output_type": "stream",
     "text": [
      "['__add__', '__class__', '__class_getitem__', '__contains__', '__delattr__', '__delitem__', '__dir__', '__doc__', '__eq__', '__format__', '__ge__', '__getattribute__', '__getitem__', '__getstate__', '__gt__', '__hash__', '__iadd__', '__imul__', '__init__', '__init_subclass__', '__iter__', '__le__', '__len__', '__lt__', '__mul__', '__ne__', '__new__', '__reduce__', '__reduce_ex__', '__repr__', '__reversed__', '__rmul__', '__setattr__', '__setitem__', '__sizeof__', '__str__', '__subclasshook__', 'append', 'clear', 'copy', 'count', 'extend', 'index', 'insert', 'pop', 'remove', 'reverse', 'sort']\n"
     ]
    }
   ],
   "source": [
    "l=[1,2,3,4]\n",
    "print(dir(l))"
   ]
  },
  {
   "cell_type": "code",
   "execution_count": 29,
   "id": "cb49ca0e-3e12-44ff-83d9-cd90f9034218",
   "metadata": {},
   "outputs": [
    {
     "name": "stdout",
     "output_type": "stream",
     "text": [
      "['__add__', '__class__', '__class_getitem__', '__contains__', '__delattr__', '__dir__', '__doc__', '__eq__', '__format__', '__ge__', '__getattribute__', '__getitem__', '__getnewargs__', '__getstate__', '__gt__', '__hash__', '__init__', '__init_subclass__', '__iter__', '__le__', '__len__', '__lt__', '__mul__', '__ne__', '__new__', '__reduce__', '__reduce_ex__', '__repr__', '__rmul__', '__setattr__', '__sizeof__', '__str__', '__subclasshook__', 'count', 'index']\n"
     ]
    }
   ],
   "source": [
    "t=(1,2,3,4)\n",
    "print(dir(t))"
   ]
  },
  {
   "cell_type": "code",
   "execution_count": 31,
   "id": "f43618c2-9379-463c-b16e-d70fef92c9a2",
   "metadata": {},
   "outputs": [
    {
     "name": "stdout",
     "output_type": "stream",
     "text": [
      "['__class__', '__class_getitem__', '__contains__', '__delattr__', '__delitem__', '__dir__', '__doc__', '__eq__', '__format__', '__ge__', '__getattribute__', '__getitem__', '__getstate__', '__gt__', '__hash__', '__init__', '__init_subclass__', '__ior__', '__iter__', '__le__', '__len__', '__lt__', '__ne__', '__new__', '__or__', '__reduce__', '__reduce_ex__', '__repr__', '__reversed__', '__ror__', '__setattr__', '__setitem__', '__sizeof__', '__str__', '__subclasshook__', 'clear', 'copy', 'fromkeys', 'get', 'items', 'keys', 'pop', 'popitem', 'setdefault', 'update', 'values']\n"
     ]
    }
   ],
   "source": [
    "d={'name':'AJA','address':'HYD'}\n",
    "print(dir(d))"
   ]
  },
  {
   "cell_type": "code",
   "execution_count": 33,
   "id": "abfacef1-3392-4f01-88b6-d5c574934259",
   "metadata": {},
   "outputs": [
    {
     "name": "stdout",
     "output_type": "stream",
     "text": [
      "['__and__', '__class__', '__class_getitem__', '__contains__', '__delattr__', '__dir__', '__doc__', '__eq__', '__format__', '__ge__', '__getattribute__', '__getstate__', '__gt__', '__hash__', '__iand__', '__init__', '__init_subclass__', '__ior__', '__isub__', '__iter__', '__ixor__', '__le__', '__len__', '__lt__', '__ne__', '__new__', '__or__', '__rand__', '__reduce__', '__reduce_ex__', '__repr__', '__ror__', '__rsub__', '__rxor__', '__setattr__', '__sizeof__', '__str__', '__sub__', '__subclasshook__', '__xor__', 'add', 'clear', 'copy', 'difference', 'difference_update', 'discard', 'intersection', 'intersection_update', 'isdisjoint', 'issubset', 'issuperset', 'pop', 'remove', 'symmetric_difference', 'symmetric_difference_update', 'union', 'update']\n"
     ]
    }
   ],
   "source": [
    "s={1,2,3,4}\n",
    "print(dir(s))"
   ]
  },
  {
   "cell_type": "code",
   "execution_count": 35,
   "id": "e9a838b0-61ba-451c-8987-ca71e147207a",
   "metadata": {},
   "outputs": [
    {
     "data": {
      "text/plain": [
       "'HYDERABAD'"
      ]
     },
     "execution_count": 35,
     "metadata": {},
     "output_type": "execute_result"
    }
   ],
   "source": [
    "s='hyderabad'\n",
    "s.upper() # turning all letters into capitals"
   ]
  },
  {
   "cell_type": "code",
   "execution_count": 39,
   "id": "d9a678db-b72f-4cfe-a3c2-24b746b1da89",
   "metadata": {},
   "outputs": [
    {
     "name": "stdout",
     "output_type": "stream",
     "text": [
      "HYDERABAD\n",
      "HYD\n",
      "1234\n",
      "#$%^&\n",
      "\n"
     ]
    }
   ],
   "source": [
    "s='hyderaBaD'\n",
    "print(s.upper())\n",
    "s='HYD'\n",
    "print(s.upper())\n",
    "s='1234'\n",
    "print(s.upper())\n",
    "s='#$%^&'\n",
    "print(s.upper())\n",
    "s=''\n",
    "print(s.upper())"
   ]
  },
  {
   "cell_type": "markdown",
   "id": "04c520cd-5953-499a-bf9c-3300f47af56e",
   "metadata": {},
   "source": [
    "## 21-09-2024"
   ]
  },
  {
   "cell_type": "code",
   "execution_count": 2,
   "id": "3c118900-ea53-449b-b366-da9ac6350065",
   "metadata": {},
   "outputs": [
    {
     "name": "stdout",
     "output_type": "stream",
     "text": [
      "HYDERABAD IS A CITY\n",
      "hyderabad is a city\n",
      "hyderabad is a city\n",
      "HYDERABAD IS A city\n"
     ]
    }
   ],
   "source": [
    "s='hyderabad is a CITY'\n",
    "print(s.upper())\n",
    "print(s.lower())\n",
    "print(s.casefold())\n",
    "print(s.swapcase())"
   ]
  },
  {
   "cell_type": "code",
   "execution_count": 4,
   "id": "bd10c2be-9731-4fe7-9066-c3a97dee7ba5",
   "metadata": {},
   "outputs": [
    {
     "name": "stdout",
     "output_type": "stream",
     "text": [
      "python 2956058279104\n",
      "PYTHON 2956173187504\n"
     ]
    }
   ],
   "source": [
    "s='python'\n",
    "s1=s.upper()\n",
    "print(s, id(s))\n",
    "print(s1, id(s1))"
   ]
  },
  {
   "cell_type": "code",
   "execution_count": 8,
   "id": "44e3ea92-8e01-41a2-a306-b241265f331a",
   "metadata": {},
   "outputs": [
    {
     "name": "stdin",
     "output_type": "stream",
     "text": [
      "enter a string:  23\n",
      "enter a string:  12\n"
     ]
    },
    {
     "name": "stdout",
     "output_type": "stream",
     "text": [
      "not equal\n"
     ]
    }
   ],
   "source": [
    "s=input('enter a string: ')\n",
    "s1=input('enter a string: ')\n",
    "if s==s1:\n",
    "    print('equal')\n",
    "else:\n",
    "    print('not equal') "
   ]
  },
  {
   "cell_type": "code",
   "execution_count": 12,
   "id": "9fcdac50-82c0-4fb2-84d6-5d068337eda9",
   "metadata": {},
   "outputs": [
    {
     "name": "stdout",
     "output_type": "stream",
     "text": [
      "0\n",
      "25\n"
     ]
    }
   ],
   "source": [
    "s='abcdabcdadsvdfbrtbrfewfewabcd'\n",
    "print(s.find('abcd'))\n",
    "print(s.rfind('abcd'))"
   ]
  },
  {
   "cell_type": "code",
   "execution_count": null,
   "id": "a403d730-441c-4619-9d42-94124f43bd97",
   "metadata": {},
   "outputs": [],
   "source": []
  },
  {
   "cell_type": "code",
   "execution_count": 32,
   "id": "271f1ef7-fae8-4c22-b9c7-e42d00835eb1",
   "metadata": {},
   "outputs": [
    {
     "name": "stdout",
     "output_type": "stream",
     "text": [
      "7\n"
     ]
    }
   ],
   "source": [
    "s='abcd123abcdadabcdsvdfbrtbrfewfewabcd'\n",
    "print(s.find('abcd',1))  # s[1:].find('abcd')\n",
    "#print(s.rfind('abcd'))"
   ]
  },
  {
   "cell_type": "code",
   "execution_count": 36,
   "id": "9f05f2e4-2398-4ea7-8bed-d82289cd123c",
   "metadata": {},
   "outputs": [
    {
     "name": "stdout",
     "output_type": "stream",
     "text": [
      "['__add__', '__class__', '__contains__', '__delattr__', '__dir__', '__doc__', '__eq__', '__format__', '__ge__', '__getattribute__', '__getitem__', '__getnewargs__', '__getstate__', '__gt__', '__hash__', '__init__', '__init_subclass__', '__iter__', '__le__', '__len__', '__lt__', '__mod__', '__mul__', '__ne__', '__new__', '__reduce__', '__reduce_ex__', '__repr__', '__rmod__', '__rmul__', '__setattr__', '__sizeof__', '__str__', '__subclasshook__', 'capitalize', 'casefold', 'center', 'count', 'encode', 'endswith', 'expandtabs', 'find', 'format', 'format_map', 'index', 'isalnum', 'isalpha', 'isascii', 'isdecimal', 'isdigit', 'isidentifier', 'islower', 'isnumeric', 'isprintable', 'isspace', 'istitle', 'isupper', 'join', 'ljust', 'lower', 'lstrip', 'maketrans', 'partition', 'removeprefix', 'removesuffix', 'replace', 'rfind', 'rindex', 'rjust', 'rpartition', 'rsplit', 'rstrip', 'split', 'splitlines', 'startswith', 'strip', 'swapcase', 'title', 'translate', 'upper', 'zfill']\n"
     ]
    }
   ],
   "source": [
    "print(dir(s))"
   ]
  },
  {
   "cell_type": "code",
   "execution_count": 34,
   "id": "5cb8d85e-13fe-4a0c-b1e2-8889b80389f1",
   "metadata": {},
   "outputs": [
    {
     "name": "stdout",
     "output_type": "stream",
     "text": [
      "dssd*&^fsdfds$#@dba\n"
     ]
    }
   ],
   "source": [
    "### reverse the string without effecting the special symbols\n",
    "\n",
    "s=\"abd@#$sdfdsf^&*dssd\"\n",
    "print(s[::-1])"
   ]
  },
  {
   "cell_type": "code",
   "execution_count": 74,
   "id": "c667eece-3b1b-49ed-bea6-af7d6e51b82f",
   "metadata": {},
   "outputs": [
    {
     "name": "stdout",
     "output_type": "stream",
     "text": [
      "abc,123,def,786,hjij,5\n"
     ]
    }
   ],
   "source": [
    "s=\"abc123def786hjij5\"\n",
    "#o/p : abc,123,def\n",
    "res=\"\"\n",
    "sub=\"\"\n",
    "for i in s: \n",
    "    if i.isdigit():\n",
    "        if sub.isdigit():\n",
    "            pass\n",
    "        else:\n",
    "            res=res+sub+\",\"\n",
    "            sub=\"\"\n",
    "    else:\n",
    "        if sub.isdigit():\n",
    "            res=res+sub+\",\"\n",
    "            sub=\"\"\n",
    "    sub=sub+i\n",
    "res=res+i\n",
    "print(res)  "
   ]
  },
  {
   "cell_type": "code",
   "execution_count": 82,
   "id": "154dc8e9-636b-464a-b3a4-8ed5c62f8517",
   "metadata": {},
   "outputs": [
    {
     "ename": "NameError",
     "evalue": "name 'isalnum' is not defined",
     "output_type": "error",
     "traceback": [
      "\u001b[1;31m---------------------------------------------------------------------------\u001b[0m",
      "\u001b[1;31mNameError\u001b[0m                                 Traceback (most recent call last)",
      "Cell \u001b[1;32mIn[82], line 5\u001b[0m\n\u001b[0;32m      3\u001b[0m sub\u001b[38;5;241m=\u001b[39m\u001b[38;5;124m\"\u001b[39m\u001b[38;5;124m\"\u001b[39m\n\u001b[0;32m      4\u001b[0m \u001b[38;5;28;01mfor\u001b[39;00m i \u001b[38;5;129;01min\u001b[39;00m s[::\u001b[38;5;241m-\u001b[39m\u001b[38;5;241m1\u001b[39m]:\n\u001b[1;32m----> 5\u001b[0m     \u001b[38;5;28;01mif\u001b[39;00m \u001b[38;5;129;01mnot\u001b[39;00m isalnum():\n\u001b[0;32m      6\u001b[0m         sub\u001b[38;5;241m=\u001b[39msub\u001b[38;5;241m+\u001b[39mi\n\u001b[0;32m      7\u001b[0m     \u001b[38;5;28;01melse\u001b[39;00m:\n",
      "\u001b[1;31mNameError\u001b[0m: name 'isalnum' is not defined"
     ]
    }
   ],
   "source": [
    "s='abcd@#defeg^&jdsfd'\n",
    "res=\"\"\n",
    "sub=\"\"\n",
    "for i in s[::-1]:\n",
    "    if not isalnum():\n",
    "        sub=sub+i\n",
    "    else:\n",
    "        if sub:\n",
    "            res=res+sub[::-1]\n",
    "            sub=\"\"\n",
    "        res=res+i\n",
    "print(res)"
   ]
  },
  {
   "cell_type": "code",
   "execution_count": 23,
   "id": "75526e9b-193e-47e3-94fd-4d3489acd562",
   "metadata": {},
   "outputs": [
    {
     "name": "stdout",
     "output_type": "stream",
     "text": [
      "['abc', 'def', 'fed']\n",
      "['abc', 'def', '', '', '', '', '', 'fed']\n",
      "['abc', 'def', 'fed']\n",
      "['abc def      fed']\n",
      "('abc', ' ', 'def      fed')\n",
      "('abc def     ', ' ', 'fed')\n"
     ]
    }
   ],
   "source": [
    "s='abc def      fed'\n",
    "print(s.split()) # space as a delimeter\n",
    "print(s.split(' '))\n",
    "print(s.rsplit())\n",
    "print(s.splitlines())\n",
    "print(s.partition(' '))\n",
    "print(s.rpartition(' '))"
   ]
  },
  {
   "cell_type": "code",
   "execution_count": 3,
   "id": "6a80aee6-2e24-4071-a1db-4b1aa00bb96c",
   "metadata": {},
   "outputs": [
    {
     "name": "stdout",
     "output_type": "stream",
     "text": [
      "['abc', 'def', 'fed', 'fdfs']\n",
      "['abc', 'def', 'fed', 'fdfs']\n"
     ]
    }
   ],
   "source": [
    "s='abc def fed fdfs'\n",
    "print(s.split())\n",
    "print(s.rsplit())"
   ]
  },
  {
   "cell_type": "code",
   "execution_count": 21,
   "id": "b11b80a6-5112-4271-8425-4724b1151202",
   "metadata": {},
   "outputs": [
    {
     "name": "stdout",
     "output_type": "stream",
     "text": [
      "['abc', 'def', 'fed', 'fdfs']\n",
      "('abc', ' ', 'def fed fdfs')\n"
     ]
    }
   ],
   "source": [
    "s='abc def fed fdfs'\n",
    "print(s.split())\n",
    "print(s.partition(' '))"
   ]
  },
  {
   "cell_type": "code",
   "execution_count": 7,
   "id": "c9d579ee-abd9-4182-b4ea-a6628bba413e",
   "metadata": {},
   "outputs": [
    {
     "name": "stdout",
     "output_type": "stream",
     "text": [
      "['abc', 'def', 'fed fdfs']\n",
      "['abc def', 'fed', 'fdfs']\n"
     ]
    }
   ],
   "source": [
    "s='abc def fed fdfs'\n",
    "print(s.split(\" \",2))\n",
    "print(s.rsplit(\" \",2))"
   ]
  },
  {
   "cell_type": "code",
   "execution_count": 11,
   "id": "5e3fff01-7ba2-4f98-bbc5-03405586a561",
   "metadata": {},
   "outputs": [
    {
     "name": "stdout",
     "output_type": "stream",
     "text": [
      "['abc', 'vef', 'fed;fdfs']\n",
      "['abc;vef', 'fed', 'fdfs']\n"
     ]
    }
   ],
   "source": [
    "s='abc;vef;fed;fdfs'\n",
    "print(s.split(\";\",2))\n",
    "print(s.rsplit(\";\",2))"
   ]
  },
  {
   "cell_type": "code",
   "execution_count": 15,
   "id": "2dd25091-7434-4bdf-be0d-c64850569700",
   "metadata": {},
   "outputs": [
    {
     "name": "stdout",
     "output_type": "stream",
     "text": [
      "acdasddeddec\n"
     ]
    }
   ],
   "source": [
    "k=['acd','asd','ded','dec']\n",
    "res=\"\"\n",
    "for i in k:\n",
    "    res=res+i\n",
    "print(res)"
   ]
  },
  {
   "cell_type": "code",
   "execution_count": 17,
   "id": "3e1fc008-05a5-45bd-b06b-afbd217c85e2",
   "metadata": {},
   "outputs": [
    {
     "name": "stdout",
     "output_type": "stream",
     "text": [
      "acd;asd;ded;dec;\n"
     ]
    }
   ],
   "source": [
    "k=['acd','asd','ded','dec']\n",
    "res=\"\"\n",
    "for i in k:\n",
    "    res=res+i+';'\n",
    "print(res)"
   ]
  },
  {
   "cell_type": "code",
   "execution_count": 25,
   "id": "a62e74c3-481a-48e0-8f89-ca0ca5bcf844",
   "metadata": {},
   "outputs": [
    {
     "name": "stdout",
     "output_type": "stream",
     "text": [
      "acd:asd:ded:dec:\n"
     ]
    }
   ],
   "source": [
    "k=['acd','asd','ded','dec']\n",
    "res=\"\"\n",
    "for i in k:\n",
    "    res=res+i+':'\n",
    "print(res)"
   ]
  },
  {
   "cell_type": "code",
   "execution_count": null,
   "id": "d617a7d2-2889-439d-9967-dc57ba572055",
   "metadata": {},
   "outputs": [],
   "source": [
    "k=['acd','asd','ded','dec']\n",
    "res=\"\"\n",
    "for i in k:\n",
    "    res=res+i+':'\n",
    "print(res)"
   ]
  },
  {
   "cell_type": "code",
   "execution_count": 27,
   "id": "94d546ee-543e-4c6f-85b6-b54b5c8c5430",
   "metadata": {},
   "outputs": [
    {
     "name": "stdout",
     "output_type": "stream",
     "text": [
      "['abc', 'def', 'fed', 'fdfs']\n",
      "abc\n",
      "def\n",
      "fed\n",
      "fdfs\n"
     ]
    }
   ],
   "source": [
    "s='abc def fed fdfs'\n",
    "k=s.split()\n",
    "print(k)\n",
    "for i in k:\n",
    "    print(i)"
   ]
  },
  {
   "cell_type": "code",
   "execution_count": 29,
   "id": "5f575224-d1ae-4577-8580-fb84c7c9ce4d",
   "metadata": {},
   "outputs": [
    {
     "name": "stdout",
     "output_type": "stream",
     "text": [
      "['acd', 'asd', 'ded', 'dec']\n",
      "acd;asd;ded;dec\n"
     ]
    }
   ],
   "source": [
    "k=['acd','asd','ded','dec']\n",
    "s=\";\".join(k)\n",
    "print(k)\n",
    "print(s)"
   ]
  },
  {
   "cell_type": "code",
   "execution_count": 39,
   "id": "3e349284-35eb-4fbc-9723-43c1575585fe",
   "metadata": {},
   "outputs": [
    {
     "name": "stdout",
     "output_type": "stream",
     "text": [
      "['acd', 'asd', 'ded', 'dec']\n",
      "acd asd ded dec\n"
     ]
    }
   ],
   "source": [
    "k=['acd','asd','ded','dec']\n",
    "s=\" \".join(k)\n",
    "print(k)\n",
    "print(s)"
   ]
  },
  {
   "cell_type": "code",
   "execution_count": 37,
   "id": "9efec4ce-b28e-45f4-bda7-2758df964a54",
   "metadata": {},
   "outputs": [
    {
     "name": "stdout",
     "output_type": "stream",
     "text": [
      "['acd', 'asd', 'ded', 'dec']\n",
      "acdasddeddec\n"
     ]
    }
   ],
   "source": [
    "k=['acd','asd','ded','dec']\n",
    "s=''.join(k)\n",
    "print(k)\n",
    "print(s)"
   ]
  },
  {
   "cell_type": "code",
   "execution_count": 41,
   "id": "09513f5c-9220-499c-86ec-8ccbd88ab26d",
   "metadata": {},
   "outputs": [
    {
     "name": "stdout",
     "output_type": "stream",
     "text": [
      "abc;vef;fed;fdfs\n",
      "abcveffedfdfs\n"
     ]
    }
   ],
   "source": [
    "s='abc;vef;fed;fdfs'\n",
    "#remove; from above string\n",
    "s1=s.replace(';','')\n",
    "print(s)\n",
    "print(s1)"
   ]
  },
  {
   "cell_type": "code",
   "execution_count": 45,
   "id": "0d9eaa29-0ed3-4f34-b695-aa82d5a4a0c2",
   "metadata": {},
   "outputs": [
    {
     "name": "stdout",
     "output_type": "stream",
     "text": [
      "abc;vef;fed;fdfs\n",
      "abcveffedfdfs\n",
      "abcveffedfdfs\n"
     ]
    }
   ],
   "source": [
    "s='abc;vef;fed;fdfs'\n",
    "#remove; from above string\n",
    "s1=s.replace(';','')\n",
    "print(s)\n",
    "print(s1)\n",
    "k=s.split(';') # it remove given delimeter\n",
    "s2=''.join(k) \n",
    "print(s2)"
   ]
  },
  {
   "cell_type": "code",
   "execution_count": 47,
   "id": "bdc40993-aed6-4570-bda6-b32ffe81bd36",
   "metadata": {},
   "outputs": [
    {
     "name": "stdout",
     "output_type": "stream",
     "text": [
      "abc$def$ghi;jkl\n"
     ]
    }
   ],
   "source": [
    "s='abc;def;ghi;jkl'  #replace only first two occurances of ';' with '$' \n",
    "#adc$def$ghi;jkl\n",
    "s1=s.replace(';','$',2)\n",
    "print(s1)\n"
   ]
  },
  {
   "cell_type": "code",
   "execution_count": 114,
   "id": "2b3144d4-20f9-4dc5-b21f-7aade43e0b6c",
   "metadata": {},
   "outputs": [
    {
     "name": "stdout",
     "output_type": "stream",
     "text": [
      "abc;def$ghi$jkl\n"
     ]
    }
   ],
   "source": [
    "s='abc;def;ghi;jkl'  #replace only last two occurances of ';' with '$' \n",
    "#adc;def$ghi$jkl\n",
    "s1=s.replace(';','$')\n",
    "s2=s1.replace('$',';',1)\n",
    "print(s2)"
   ]
  },
  {
   "cell_type": "code",
   "execution_count": 116,
   "id": "ce590dd8-60bf-404d-9e1d-e10eb53723d2",
   "metadata": {},
   "outputs": [
    {
     "name": "stdout",
     "output_type": "stream",
     "text": [
      "['abc;def', 'ghi', 'jkl']\n",
      "abc;def$ghi$jkl\n"
     ]
    }
   ],
   "source": [
    "s='abc;def;ghi;jkl'  #replace only last two occurances of ';' with '$' \n",
    "#adc;def$ghi$jkl\n",
    "k=s.rsplit(';',2)\n",
    "print(k)\n",
    "s1='$'.join(k)\n",
    "print(s1)"
   ]
  },
  {
   "cell_type": "code",
   "execution_count": 118,
   "id": "055a8114-b74d-4abc-a734-a6e0f672752b",
   "metadata": {},
   "outputs": [
    {
     "name": "stdout",
     "output_type": "stream",
     "text": [
      "['abc', 'def', 'jkonmo']\n"
     ]
    }
   ],
   "source": [
    "s='abc\\ndef\\njkonmo'\n",
    "print(s.splitlines())"
   ]
  },
  {
   "cell_type": "code",
   "execution_count": 120,
   "id": "151b4957-9069-461e-9b9c-6e498ae4b02b",
   "metadata": {},
   "outputs": [
    {
     "name": "stdout",
     "output_type": "stream",
     "text": [
      "['abc', 'def', 'jkon\\tmo']\n"
     ]
    }
   ],
   "source": [
    "s='abc\\ndef\\njkon\\tmo'  # \\t is not considering as a delimeter only \\n is considering\n",
    "print(s.splitlines())"
   ]
  },
  {
   "cell_type": "code",
   "execution_count": 122,
   "id": "e085079d-88b3-47d3-984d-0b7848b42faa",
   "metadata": {},
   "outputs": [
    {
     "name": "stdout",
     "output_type": "stream",
     "text": [
      "#$user@#$name#$\n",
      "@#$user@#$name#$\n",
      "#$user@#$name#$@\n"
     ]
    }
   ],
   "source": [
    "s='@#$user@#$name#$@'\n",
    "print(s.strip('@')) # it removews both left and right side of '@'\n",
    "print(s.rstrip('@')) # remove '@' from right side\n",
    "print(s.lstrip('@')) #remove left side '@'"
   ]
  },
  {
   "cell_type": "code",
   "execution_count": 124,
   "id": "f4280a19-0e29-4f62-9bbe-e6ed107ce53c",
   "metadata": {},
   "outputs": [
    {
     "name": "stdout",
     "output_type": "stream",
     "text": [
      "@#$user@#$name#$@\n",
      "@#$user@#$name#$@\n",
      "@#$user@#$name#$@\n"
     ]
    }
   ],
   "source": [
    "s='@#$user@#$name#$@'\n",
    "print(s.strip('#')) # it removews both left and right side of '@'\n",
    "print(s.rstrip('#')) # remove '@' from right side\n",
    "print(s.lstrip('#'))"
   ]
  },
  {
   "cell_type": "code",
   "execution_count": 130,
   "id": "7b102177-ebb7-49ae-8bd3-83fb9365792d",
   "metadata": {},
   "outputs": [
    {
     "name": "stdout",
     "output_type": "stream",
     "text": [
      "$user@#$name#$\n",
      "@#$user@#$name#$\n",
      "$user@#$name#$@\n"
     ]
    }
   ],
   "source": [
    "s='@#$user@#$name#$@'\n",
    "print(s.strip('#@')) # it search like all scenarios ##@, @#, #, @, #\n",
    "print(s.rstrip('#@'))\n",
    "print(s.lstrip('#@'))"
   ]
  },
  {
   "cell_type": "code",
   "execution_count": 134,
   "id": "ef4d36bb-a4df-4e6f-9d08-23f5ef259ec5",
   "metadata": {},
   "outputs": [
    {
     "name": "stdout",
     "output_type": "stream",
     "text": [
      "$user@#$name#$\n",
      "@#$user@#$name#$\n",
      "$user@#$name#$@\n"
     ]
    }
   ],
   "source": [
    "s='@#$user@#$name#$@'\n",
    "print(s.strip('#@')) ##@, @#, #, @,\n",
    "print(s.rstrip('#@'))\n",
    "print(s.lstrip('#@'))"
   ]
  },
  {
   "cell_type": "code",
   "execution_count": null,
   "id": "77084921-232b-4b5f-ab31-28b2c0c076c1",
   "metadata": {},
   "outputs": [],
   "source": []
  }
 ],
 "metadata": {
  "kernelspec": {
   "display_name": "Python 3 (ipykernel)",
   "language": "python",
   "name": "python3"
  },
  "language_info": {
   "codemirror_mode": {
    "name": "ipython",
    "version": 3
   },
   "file_extension": ".py",
   "mimetype": "text/x-python",
   "name": "python",
   "nbconvert_exporter": "python",
   "pygments_lexer": "ipython3",
   "version": "3.12.4"
  }
 },
 "nbformat": 4,
 "nbformat_minor": 5
}
