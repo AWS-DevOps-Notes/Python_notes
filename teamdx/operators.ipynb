{
 "cells": [
  {
   "cell_type": "code",
   "execution_count": null,
   "id": "326f1183-9287-4caa-8266-83a34ef9f1c8",
   "metadata": {},
   "outputs": [],
   "source": [
    "a=1000\n",
    "print(a, type(a))\n",
    "a=12.34\n",
    "print(a, type(a))\n",
    "a=True\n",
    "print(a, type(a))\n",
    "a=None\n",
    "print(a, type(a))\n",
    "a=\"python\"\n",
    "print(a, type(a))\n",
    "a=[1000,2000,3000]\n",
    "print(a, type(a))\n",
    "a=(1000,2000,3000)\n",
    "print(a, type(a))\n",
    "a={1234,5678,9012}\n",
    "print(a, type(a))\n",
    "a={\"name\":\"AJA\",\"address\":\"HYD\"}\n",
    "print(a, type(a))"
   ]
  },
  {
   "cell_type": "markdown",
   "id": "f2bcf56e-d77d-48fb-8be2-ebdcf56f1aab",
   "metadata": {},
   "source": [
    "# INTEGER"
   ]
  },
  {
   "cell_type": "markdown",
   "id": "9214caf8-bc1a-460b-8d8f-757e92098e7b",
   "metadata": {
    "jp-MarkdownHeadingCollapsed": true
   },
   "source": [
    "### Addition"
   ]
  },
  {
   "cell_type": "code",
   "execution_count": 24,
   "id": "4636f890-f78c-47b7-9ade-1aff65fcb19a",
   "metadata": {},
   "outputs": [
    {
     "name": "stdout",
     "output_type": "stream",
     "text": [
      "7\n"
     ]
    }
   ],
   "source": [
    "#int+int\n",
    "print(3+4)"
   ]
  },
  {
   "cell_type": "code",
   "execution_count": 22,
   "id": "d763cc1b-9733-45a2-ab22-0614b6ffc002",
   "metadata": {},
   "outputs": [
    {
     "name": "stdout",
     "output_type": "stream",
     "text": [
      "7.5\n"
     ]
    }
   ],
   "source": [
    "#int+float\n",
    "print(3+4.5)"
   ]
  },
  {
   "cell_type": "code",
   "execution_count": 30,
   "id": "bcf6b14d-0e74-4927-b59d-7fa09d14d043",
   "metadata": {},
   "outputs": [
    {
     "name": "stdout",
     "output_type": "stream",
     "text": [
      "3\n",
      "2\n"
     ]
    }
   ],
   "source": [
    "#int + boolean\n",
    "print(2+True)\n",
    "print(2+False)"
   ]
  },
  {
   "cell_type": "code",
   "execution_count": 32,
   "id": "c8a6c05a-2318-4cf3-872d-9895ccdf6299",
   "metadata": {},
   "outputs": [
    {
     "ename": "TypeError",
     "evalue": "unsupported operand type(s) for +: 'int' and 'str'",
     "output_type": "error",
     "traceback": [
      "\u001b[1;31m---------------------------------------------------------------------------\u001b[0m",
      "\u001b[1;31mTypeError\u001b[0m                                 Traceback (most recent call last)",
      "Cell \u001b[1;32mIn[32], line 2\u001b[0m\n\u001b[0;32m      1\u001b[0m \u001b[38;5;66;03m#int+string\u001b[39;00m\n\u001b[1;32m----> 2\u001b[0m \u001b[38;5;28mprint\u001b[39m(\u001b[38;5;241m3\u001b[39m \u001b[38;5;241m+\u001b[39m \u001b[38;5;124m\"\u001b[39m\u001b[38;5;124mhello\u001b[39m\u001b[38;5;124m\"\u001b[39m)\n",
      "\u001b[1;31mTypeError\u001b[0m: unsupported operand type(s) for +: 'int' and 'str'"
     ]
    }
   ],
   "source": [
    "#int+string\n",
    "print(3 + \"hello\")"
   ]
  },
  {
   "cell_type": "code",
   "execution_count": 38,
   "id": "91cc55eb-d12b-4fc9-8465-9ec61499502a",
   "metadata": {},
   "outputs": [
    {
     "ename": "TypeError",
     "evalue": "unsupported operand type(s) for +: 'int' and 'list'",
     "output_type": "error",
     "traceback": [
      "\u001b[1;31m---------------------------------------------------------------------------\u001b[0m",
      "\u001b[1;31mTypeError\u001b[0m                                 Traceback (most recent call last)",
      "Cell \u001b[1;32mIn[38], line 2\u001b[0m\n\u001b[0;32m      1\u001b[0m \u001b[38;5;66;03m#int+list # list+int\u001b[39;00m\n\u001b[1;32m----> 2\u001b[0m \u001b[38;5;28mprint\u001b[39m(\u001b[38;5;241m3\u001b[39m\u001b[38;5;241m+\u001b[39m[\u001b[38;5;241m1\u001b[39m, \u001b[38;5;241m2\u001b[39m])\n\u001b[0;32m      3\u001b[0m \u001b[38;5;28mprint\u001b[39m([\u001b[38;5;241m1\u001b[39m, \u001b[38;5;241m2\u001b[39m]\u001b[38;5;241m+\u001b[39m\u001b[38;5;241m3\u001b[39m)\n",
      "\u001b[1;31mTypeError\u001b[0m: unsupported operand type(s) for +: 'int' and 'list'"
     ]
    }
   ],
   "source": [
    "#int+list # list+int\n",
    "print(3+[1, 2])\n",
    "print([1, 2]+3)"
   ]
  },
  {
   "cell_type": "code",
   "execution_count": 40,
   "id": "7789d75a-4825-4065-b774-2cbe25731a08",
   "metadata": {},
   "outputs": [
    {
     "ename": "TypeError",
     "evalue": "unsupported operand type(s) for +: 'int' and 'set'",
     "output_type": "error",
     "traceback": [
      "\u001b[1;31m---------------------------------------------------------------------------\u001b[0m",
      "\u001b[1;31mTypeError\u001b[0m                                 Traceback (most recent call last)",
      "Cell \u001b[1;32mIn[40], line 2\u001b[0m\n\u001b[0;32m      1\u001b[0m \u001b[38;5;66;03m#int+set\u001b[39;00m\n\u001b[1;32m----> 2\u001b[0m \u001b[38;5;28mprint\u001b[39m(\u001b[38;5;241m5\u001b[39m\u001b[38;5;241m+\u001b[39m{\u001b[38;5;241m1\u001b[39m,\u001b[38;5;241m2\u001b[39m,\u001b[38;5;241m3\u001b[39m})\n",
      "\u001b[1;31mTypeError\u001b[0m: unsupported operand type(s) for +: 'int' and 'set'"
     ]
    }
   ],
   "source": [
    "#int+set\n",
    "print(5+{1,2,3})"
   ]
  },
  {
   "cell_type": "code",
   "execution_count": 42,
   "id": "5e468dc1-af1a-4c5e-99f0-823ced2d2294",
   "metadata": {},
   "outputs": [
    {
     "ename": "TypeError",
     "evalue": "unsupported operand type(s) for +: 'int' and 'dict'",
     "output_type": "error",
     "traceback": [
      "\u001b[1;31m---------------------------------------------------------------------------\u001b[0m",
      "\u001b[1;31mTypeError\u001b[0m                                 Traceback (most recent call last)",
      "Cell \u001b[1;32mIn[42], line 2\u001b[0m\n\u001b[0;32m      1\u001b[0m \u001b[38;5;66;03m#int+dictionary\u001b[39;00m\n\u001b[1;32m----> 2\u001b[0m \u001b[38;5;241m5\u001b[39m \u001b[38;5;241m+\u001b[39m {\u001b[38;5;124m'\u001b[39m\u001b[38;5;124ma\u001b[39m\u001b[38;5;124m'\u001b[39m: \u001b[38;5;241m1\u001b[39m}\n",
      "\u001b[1;31mTypeError\u001b[0m: unsupported operand type(s) for +: 'int' and 'dict'"
     ]
    }
   ],
   "source": [
    "#int+dictionary\n",
    "5 + {'a': 1}"
   ]
  },
  {
   "cell_type": "code",
   "execution_count": 46,
   "id": "b911e677-778b-44dd-b365-4f3b2e0fddc6",
   "metadata": {},
   "outputs": [
    {
     "ename": "TypeError",
     "evalue": "unsupported operand type(s) for +: 'int' and 'tuple'",
     "output_type": "error",
     "traceback": [
      "\u001b[1;31m---------------------------------------------------------------------------\u001b[0m",
      "\u001b[1;31mTypeError\u001b[0m                                 Traceback (most recent call last)",
      "Cell \u001b[1;32mIn[46], line 2\u001b[0m\n\u001b[0;32m      1\u001b[0m \u001b[38;5;66;03m#int+tuple\u001b[39;00m\n\u001b[1;32m----> 2\u001b[0m \u001b[38;5;241m5\u001b[39m \u001b[38;5;241m+\u001b[39m (\u001b[38;5;241m1\u001b[39m, \u001b[38;5;241m2\u001b[39m, \u001b[38;5;241m3\u001b[39m)\n",
      "\u001b[1;31mTypeError\u001b[0m: unsupported operand type(s) for +: 'int' and 'tuple'"
     ]
    }
   ],
   "source": [
    "#int+tuple\n",
    "5 + (1, 2, 3)"
   ]
  },
  {
   "cell_type": "code",
   "execution_count": 111,
   "id": "2f1382c8-74c2-49ca-aa72-986ebe2d461c",
   "metadata": {},
   "outputs": [
    {
     "ename": "TypeError",
     "evalue": "unsupported operand type(s) for +: 'int' and 'NoneType'",
     "output_type": "error",
     "traceback": [
      "\u001b[1;31m---------------------------------------------------------------------------\u001b[0m",
      "\u001b[1;31mTypeError\u001b[0m                                 Traceback (most recent call last)",
      "Cell \u001b[1;32mIn[111], line 2\u001b[0m\n\u001b[0;32m      1\u001b[0m \u001b[38;5;66;03m#int+None\u001b[39;00m\n\u001b[1;32m----> 2\u001b[0m \u001b[38;5;241m5\u001b[39m \u001b[38;5;241m+\u001b[39m \u001b[38;5;28;01mNone\u001b[39;00m\n",
      "\u001b[1;31mTypeError\u001b[0m: unsupported operand type(s) for +: 'int' and 'NoneType'"
     ]
    }
   ],
   "source": [
    "#int+None\n",
    "5 + None"
   ]
  },
  {
   "cell_type": "markdown",
   "id": "305e3ed6-a47e-4917-9d3c-5a45dfc91346",
   "metadata": {
    "jp-MarkdownHeadingCollapsed": true
   },
   "source": [
    "### Substraction"
   ]
  },
  {
   "cell_type": "code",
   "execution_count": 54,
   "id": "4dca1fb3-a4d2-4040-b5f7-3d61561e703e",
   "metadata": {},
   "outputs": [
    {
     "data": {
      "text/plain": [
       "2"
      ]
     },
     "execution_count": 54,
     "metadata": {},
     "output_type": "execute_result"
    }
   ],
   "source": [
    "#int - int:\n",
    "5 - 3 "
   ]
  },
  {
   "cell_type": "code",
   "execution_count": 56,
   "id": "1956c812-3376-4b03-870d-f585bbb38e1c",
   "metadata": {},
   "outputs": [
    {
     "data": {
      "text/plain": [
       "2.5"
      ]
     },
     "execution_count": 56,
     "metadata": {},
     "output_type": "execute_result"
    }
   ],
   "source": [
    "#int - float: \n",
    "5 - 2.5"
   ]
  },
  {
   "cell_type": "code",
   "execution_count": 58,
   "id": "7efd41ce-0841-4f6b-822d-5856774d0360",
   "metadata": {},
   "outputs": [
    {
     "data": {
      "text/plain": [
       "4"
      ]
     },
     "execution_count": 58,
     "metadata": {},
     "output_type": "execute_result"
    }
   ],
   "source": [
    "#int - boolean: \n",
    "5 - True"
   ]
  },
  {
   "cell_type": "code",
   "execution_count": 60,
   "id": "bc7dd869-7464-4a5e-8f94-aa6e0203c606",
   "metadata": {},
   "outputs": [
    {
     "ename": "TypeError",
     "evalue": "unsupported operand type(s) for -: 'int' and 'str'",
     "output_type": "error",
     "traceback": [
      "\u001b[1;31m---------------------------------------------------------------------------\u001b[0m",
      "\u001b[1;31mTypeError\u001b[0m                                 Traceback (most recent call last)",
      "Cell \u001b[1;32mIn[60], line 2\u001b[0m\n\u001b[0;32m      1\u001b[0m \u001b[38;5;66;03m#int - string: \u001b[39;00m\n\u001b[1;32m----> 2\u001b[0m \u001b[38;5;241m5\u001b[39m \u001b[38;5;241m-\u001b[39m \u001b[38;5;124m'\u001b[39m\u001b[38;5;124mHello\u001b[39m\u001b[38;5;124m'\u001b[39m\n",
      "\u001b[1;31mTypeError\u001b[0m: unsupported operand type(s) for -: 'int' and 'str'"
     ]
    }
   ],
   "source": [
    "#int - string: \n",
    "5 - 'Hello'"
   ]
  },
  {
   "cell_type": "code",
   "execution_count": 62,
   "id": "837a331b-7d45-4008-b1a3-dc2bba7c3a50",
   "metadata": {},
   "outputs": [
    {
     "ename": "TypeError",
     "evalue": "unsupported operand type(s) for -: 'int' and 'NoneType'",
     "output_type": "error",
     "traceback": [
      "\u001b[1;31m---------------------------------------------------------------------------\u001b[0m",
      "\u001b[1;31mTypeError\u001b[0m                                 Traceback (most recent call last)",
      "Cell \u001b[1;32mIn[62], line 2\u001b[0m\n\u001b[0;32m      1\u001b[0m \u001b[38;5;66;03m#int - NoneType: \u001b[39;00m\n\u001b[1;32m----> 2\u001b[0m \u001b[38;5;241m5\u001b[39m \u001b[38;5;241m-\u001b[39m \u001b[38;5;28;01mNone\u001b[39;00m\n",
      "\u001b[1;31mTypeError\u001b[0m: unsupported operand type(s) for -: 'int' and 'NoneType'"
     ]
    }
   ],
   "source": [
    "#int - NoneType: \n",
    "5 - None"
   ]
  },
  {
   "cell_type": "code",
   "execution_count": 64,
   "id": "3d75ce9b-5a5c-4b9d-b597-d39e7b2fd5bb",
   "metadata": {},
   "outputs": [
    {
     "ename": "TypeError",
     "evalue": "unsupported operand type(s) for -: 'int' and 'list'",
     "output_type": "error",
     "traceback": [
      "\u001b[1;31m---------------------------------------------------------------------------\u001b[0m",
      "\u001b[1;31mTypeError\u001b[0m                                 Traceback (most recent call last)",
      "Cell \u001b[1;32mIn[64], line 2\u001b[0m\n\u001b[0;32m      1\u001b[0m \u001b[38;5;66;03m#int - list: \u001b[39;00m\n\u001b[1;32m----> 2\u001b[0m \u001b[38;5;241m5\u001b[39m \u001b[38;5;241m-\u001b[39m [\u001b[38;5;241m1\u001b[39m, \u001b[38;5;241m2\u001b[39m, \u001b[38;5;241m3\u001b[39m]\n",
      "\u001b[1;31mTypeError\u001b[0m: unsupported operand type(s) for -: 'int' and 'list'"
     ]
    }
   ],
   "source": [
    "#int - list: \n",
    "5 - [1, 2, 3]"
   ]
  },
  {
   "cell_type": "code",
   "execution_count": 66,
   "id": "51169214-31e0-453f-87db-c8917fcfa662",
   "metadata": {},
   "outputs": [
    {
     "ename": "TypeError",
     "evalue": "unsupported operand type(s) for -: 'int' and 'set'",
     "output_type": "error",
     "traceback": [
      "\u001b[1;31m---------------------------------------------------------------------------\u001b[0m",
      "\u001b[1;31mTypeError\u001b[0m                                 Traceback (most recent call last)",
      "Cell \u001b[1;32mIn[66], line 2\u001b[0m\n\u001b[0;32m      1\u001b[0m \u001b[38;5;66;03m#int - set:\u001b[39;00m\n\u001b[1;32m----> 2\u001b[0m \u001b[38;5;241m5\u001b[39m \u001b[38;5;241m-\u001b[39m {\u001b[38;5;241m1\u001b[39m, \u001b[38;5;241m2\u001b[39m, \u001b[38;5;241m3\u001b[39m}\n",
      "\u001b[1;31mTypeError\u001b[0m: unsupported operand type(s) for -: 'int' and 'set'"
     ]
    }
   ],
   "source": [
    "#int - set:\n",
    "5 - {1, 2, 3}"
   ]
  },
  {
   "cell_type": "code",
   "execution_count": 70,
   "id": "46bc495d-b2af-4e88-a30f-fa82282958c1",
   "metadata": {},
   "outputs": [
    {
     "ename": "TypeError",
     "evalue": "unsupported operand type(s) for -: 'int' and 'dict'",
     "output_type": "error",
     "traceback": [
      "\u001b[1;31m---------------------------------------------------------------------------\u001b[0m",
      "\u001b[1;31mTypeError\u001b[0m                                 Traceback (most recent call last)",
      "Cell \u001b[1;32mIn[70], line 2\u001b[0m\n\u001b[0;32m      1\u001b[0m \u001b[38;5;66;03m#int - dictionary: \u001b[39;00m\n\u001b[1;32m----> 2\u001b[0m \u001b[38;5;241m5\u001b[39m \u001b[38;5;241m-\u001b[39m {\u001b[38;5;124m'\u001b[39m\u001b[38;5;124ma\u001b[39m\u001b[38;5;124m'\u001b[39m: \u001b[38;5;241m1\u001b[39m}\n",
      "\u001b[1;31mTypeError\u001b[0m: unsupported operand type(s) for -: 'int' and 'dict'"
     ]
    }
   ],
   "source": [
    "#int - dictionary: \n",
    "5 - {'a': 1}"
   ]
  },
  {
   "cell_type": "code",
   "execution_count": 74,
   "id": "7845c827-77e6-4e3f-bd08-ccc8c60b5778",
   "metadata": {},
   "outputs": [
    {
     "ename": "TypeError",
     "evalue": "unsupported operand type(s) for -: 'int' and 'tuple'",
     "output_type": "error",
     "traceback": [
      "\u001b[1;31m---------------------------------------------------------------------------\u001b[0m",
      "\u001b[1;31mTypeError\u001b[0m                                 Traceback (most recent call last)",
      "Cell \u001b[1;32mIn[74], line 2\u001b[0m\n\u001b[0;32m      1\u001b[0m \u001b[38;5;66;03m#int - tuple: \u001b[39;00m\n\u001b[1;32m----> 2\u001b[0m \u001b[38;5;241m5\u001b[39m \u001b[38;5;241m-\u001b[39m (\u001b[38;5;241m1\u001b[39m, \u001b[38;5;241m2\u001b[39m, \u001b[38;5;241m3\u001b[39m)\n",
      "\u001b[1;31mTypeError\u001b[0m: unsupported operand type(s) for -: 'int' and 'tuple'"
     ]
    }
   ],
   "source": [
    "#int - tuple: \n",
    "5 - (1, 2, 3)"
   ]
  },
  {
   "cell_type": "markdown",
   "id": "9e65329f-109d-4c59-ade4-31ec2e623004",
   "metadata": {
    "jp-MarkdownHeadingCollapsed": true
   },
   "source": [
    "### Mutiplication"
   ]
  },
  {
   "cell_type": "code",
   "execution_count": 82,
   "id": "282b65bd-b5a9-4902-9c7b-16d40e729fe3",
   "metadata": {},
   "outputs": [
    {
     "data": {
      "text/plain": [
       "15"
      ]
     },
     "execution_count": 82,
     "metadata": {},
     "output_type": "execute_result"
    }
   ],
   "source": [
    "#int * int: \n",
    "5 * 3"
   ]
  },
  {
   "cell_type": "code",
   "execution_count": 84,
   "id": "b99066c6-7328-4089-882d-1f431a4a6f02",
   "metadata": {},
   "outputs": [
    {
     "data": {
      "text/plain": [
       "12.5"
      ]
     },
     "execution_count": 84,
     "metadata": {},
     "output_type": "execute_result"
    }
   ],
   "source": [
    "#int * float: \n",
    "5 * 2.5 "
   ]
  },
  {
   "cell_type": "code",
   "execution_count": 86,
   "id": "292ef4bf-90eb-4c66-b981-647002f107a7",
   "metadata": {},
   "outputs": [
    {
     "data": {
      "text/plain": [
       "5"
      ]
     },
     "execution_count": 86,
     "metadata": {},
     "output_type": "execute_result"
    }
   ],
   "source": [
    "#int * boolean: \n",
    "5 * True "
   ]
  },
  {
   "cell_type": "code",
   "execution_count": 92,
   "id": "94d7820b-d8bf-4c52-9865-83ed858d3ac6",
   "metadata": {},
   "outputs": [
    {
     "data": {
      "text/plain": [
       "'HelloHelloHelloHelloHello'"
      ]
     },
     "execution_count": 92,
     "metadata": {},
     "output_type": "execute_result"
    }
   ],
   "source": [
    "#int * string: \n",
    "5 * 'Hello' "
   ]
  },
  {
   "cell_type": "code",
   "execution_count": 94,
   "id": "57942611-cf79-4873-af18-0268ab637013",
   "metadata": {},
   "outputs": [
    {
     "ename": "TypeError",
     "evalue": "unsupported operand type(s) for *: 'int' and 'NoneType'",
     "output_type": "error",
     "traceback": [
      "\u001b[1;31m---------------------------------------------------------------------------\u001b[0m",
      "\u001b[1;31mTypeError\u001b[0m                                 Traceback (most recent call last)",
      "Cell \u001b[1;32mIn[94], line 2\u001b[0m\n\u001b[0;32m      1\u001b[0m \u001b[38;5;66;03m#int * NoneType: \u001b[39;00m\n\u001b[1;32m----> 2\u001b[0m \u001b[38;5;241m5\u001b[39m \u001b[38;5;241m*\u001b[39m \u001b[38;5;28;01mNone\u001b[39;00m\n",
      "\u001b[1;31mTypeError\u001b[0m: unsupported operand type(s) for *: 'int' and 'NoneType'"
     ]
    }
   ],
   "source": [
    "#int * NoneType: \n",
    "5 * None"
   ]
  },
  {
   "cell_type": "code",
   "execution_count": 96,
   "id": "70bade48-7971-4333-8dc0-e219ec14e184",
   "metadata": {},
   "outputs": [
    {
     "data": {
      "text/plain": [
       "[1, 2, 3, 1, 2, 3, 1, 2, 3, 1, 2, 3, 1, 2, 3]"
      ]
     },
     "execution_count": 96,
     "metadata": {},
     "output_type": "execute_result"
    }
   ],
   "source": [
    "#int * list: \n",
    "5 * [1, 2, 3]"
   ]
  },
  {
   "cell_type": "code",
   "execution_count": 98,
   "id": "277af8fc-7b10-4228-9fb4-d9a8162aad81",
   "metadata": {},
   "outputs": [
    {
     "ename": "TypeError",
     "evalue": "unsupported operand type(s) for *: 'int' and 'set'",
     "output_type": "error",
     "traceback": [
      "\u001b[1;31m---------------------------------------------------------------------------\u001b[0m",
      "\u001b[1;31mTypeError\u001b[0m                                 Traceback (most recent call last)",
      "Cell \u001b[1;32mIn[98], line 2\u001b[0m\n\u001b[0;32m      1\u001b[0m \u001b[38;5;66;03m#int * set: \u001b[39;00m\n\u001b[1;32m----> 2\u001b[0m \u001b[38;5;241m5\u001b[39m \u001b[38;5;241m*\u001b[39m {\u001b[38;5;241m1\u001b[39m, \u001b[38;5;241m2\u001b[39m, \u001b[38;5;241m3\u001b[39m}\n",
      "\u001b[1;31mTypeError\u001b[0m: unsupported operand type(s) for *: 'int' and 'set'"
     ]
    }
   ],
   "source": [
    "#int * set: \n",
    "5 * {1, 2, 3}"
   ]
  },
  {
   "cell_type": "code",
   "execution_count": 100,
   "id": "42869b9e-4772-4c92-94df-638a03adef9c",
   "metadata": {},
   "outputs": [
    {
     "ename": "TypeError",
     "evalue": "unsupported operand type(s) for *: 'int' and 'dict'",
     "output_type": "error",
     "traceback": [
      "\u001b[1;31m---------------------------------------------------------------------------\u001b[0m",
      "\u001b[1;31mTypeError\u001b[0m                                 Traceback (most recent call last)",
      "Cell \u001b[1;32mIn[100], line 2\u001b[0m\n\u001b[0;32m      1\u001b[0m \u001b[38;5;66;03m#int * dictionary: \u001b[39;00m\n\u001b[1;32m----> 2\u001b[0m \u001b[38;5;241m5\u001b[39m \u001b[38;5;241m*\u001b[39m {\u001b[38;5;124m'\u001b[39m\u001b[38;5;124ma\u001b[39m\u001b[38;5;124m'\u001b[39m: \u001b[38;5;241m1\u001b[39m}\n",
      "\u001b[1;31mTypeError\u001b[0m: unsupported operand type(s) for *: 'int' and 'dict'"
     ]
    }
   ],
   "source": [
    "#int * dictionary: \n",
    "5 * {'a': 1}"
   ]
  },
  {
   "cell_type": "code",
   "execution_count": 102,
   "id": "9a99237a-6818-4e41-8b3e-849f01aae884",
   "metadata": {},
   "outputs": [
    {
     "data": {
      "text/plain": [
       "(1, 2, 3, 1, 2, 3, 1, 2, 3, 1, 2, 3, 1, 2, 3)"
      ]
     },
     "execution_count": 102,
     "metadata": {},
     "output_type": "execute_result"
    }
   ],
   "source": [
    "#int * tuple: \n",
    "5 * (1, 2, 3) "
   ]
  },
  {
   "cell_type": "markdown",
   "id": "a10f6db7-4f46-45d1-b96d-4b0ba1d55ea4",
   "metadata": {
    "jp-MarkdownHeadingCollapsed": true
   },
   "source": [
    "### Division"
   ]
  },
  {
   "cell_type": "code",
   "execution_count": 107,
   "id": "a44253e9-e5c9-480b-bcb1-4b5ffbc9cdab",
   "metadata": {},
   "outputs": [
    {
     "data": {
      "text/plain": [
       "1.6666666666666667"
      ]
     },
     "execution_count": 107,
     "metadata": {},
     "output_type": "execute_result"
    }
   ],
   "source": [
    "#int / int: \n",
    "5 / 3 "
   ]
  },
  {
   "cell_type": "code",
   "execution_count": 109,
   "id": "9dc2b1f0-10f3-44bb-815f-c0cb7d52d73f",
   "metadata": {},
   "outputs": [
    {
     "data": {
      "text/plain": [
       "2.0"
      ]
     },
     "execution_count": 109,
     "metadata": {},
     "output_type": "execute_result"
    }
   ],
   "source": [
    "#int / float:\n",
    "5 / 2.5"
   ]
  },
  {
   "cell_type": "code",
   "execution_count": 111,
   "id": "35034bda-bee2-496a-9564-7e08acddf822",
   "metadata": {},
   "outputs": [
    {
     "data": {
      "text/plain": [
       "5.0"
      ]
     },
     "execution_count": 111,
     "metadata": {},
     "output_type": "execute_result"
    }
   ],
   "source": [
    "#int / boolean: \n",
    "5 / True"
   ]
  },
  {
   "cell_type": "code",
   "execution_count": 113,
   "id": "87cafd92-7cb2-4c35-8743-7cbff012bf5e",
   "metadata": {},
   "outputs": [
    {
     "ename": "TypeError",
     "evalue": "unsupported operand type(s) for /: 'int' and 'str'",
     "output_type": "error",
     "traceback": [
      "\u001b[1;31m---------------------------------------------------------------------------\u001b[0m",
      "\u001b[1;31mTypeError\u001b[0m                                 Traceback (most recent call last)",
      "Cell \u001b[1;32mIn[113], line 2\u001b[0m\n\u001b[0;32m      1\u001b[0m \u001b[38;5;66;03m#int / string: \u001b[39;00m\n\u001b[1;32m----> 2\u001b[0m \u001b[38;5;241m5\u001b[39m \u001b[38;5;241m/\u001b[39m \u001b[38;5;124m'\u001b[39m\u001b[38;5;124mHello\u001b[39m\u001b[38;5;124m'\u001b[39m\n",
      "\u001b[1;31mTypeError\u001b[0m: unsupported operand type(s) for /: 'int' and 'str'"
     ]
    }
   ],
   "source": [
    "#int / string: \n",
    "5 / 'Hello'"
   ]
  },
  {
   "cell_type": "code",
   "execution_count": 115,
   "id": "9e4c99a4-4cb3-44f6-a28c-ca9198494745",
   "metadata": {},
   "outputs": [
    {
     "ename": "TypeError",
     "evalue": "unsupported operand type(s) for /: 'int' and 'NoneType'",
     "output_type": "error",
     "traceback": [
      "\u001b[1;31m---------------------------------------------------------------------------\u001b[0m",
      "\u001b[1;31mTypeError\u001b[0m                                 Traceback (most recent call last)",
      "Cell \u001b[1;32mIn[115], line 2\u001b[0m\n\u001b[0;32m      1\u001b[0m \u001b[38;5;66;03m#int / NoneType: \u001b[39;00m\n\u001b[1;32m----> 2\u001b[0m \u001b[38;5;241m5\u001b[39m \u001b[38;5;241m/\u001b[39m \u001b[38;5;28;01mNone\u001b[39;00m\n",
      "\u001b[1;31mTypeError\u001b[0m: unsupported operand type(s) for /: 'int' and 'NoneType'"
     ]
    }
   ],
   "source": [
    "#int / NoneType: \n",
    "5 / None"
   ]
  },
  {
   "cell_type": "code",
   "execution_count": 117,
   "id": "8015db29-b279-409b-b4ed-66f7f54d0931",
   "metadata": {},
   "outputs": [
    {
     "ename": "TypeError",
     "evalue": "unsupported operand type(s) for /: 'int' and 'list'",
     "output_type": "error",
     "traceback": [
      "\u001b[1;31m---------------------------------------------------------------------------\u001b[0m",
      "\u001b[1;31mTypeError\u001b[0m                                 Traceback (most recent call last)",
      "Cell \u001b[1;32mIn[117], line 2\u001b[0m\n\u001b[0;32m      1\u001b[0m \u001b[38;5;66;03m#int / list: \u001b[39;00m\n\u001b[1;32m----> 2\u001b[0m \u001b[38;5;241m5\u001b[39m \u001b[38;5;241m/\u001b[39m [\u001b[38;5;241m1\u001b[39m, \u001b[38;5;241m2\u001b[39m, \u001b[38;5;241m3\u001b[39m]\n",
      "\u001b[1;31mTypeError\u001b[0m: unsupported operand type(s) for /: 'int' and 'list'"
     ]
    }
   ],
   "source": [
    "#int / list: \n",
    "5 / [1, 2, 3]"
   ]
  },
  {
   "cell_type": "code",
   "execution_count": 119,
   "id": "fb5f1bda-c836-4023-bc30-d1b573b33ff1",
   "metadata": {},
   "outputs": [
    {
     "ename": "TypeError",
     "evalue": "unsupported operand type(s) for /: 'int' and 'set'",
     "output_type": "error",
     "traceback": [
      "\u001b[1;31m---------------------------------------------------------------------------\u001b[0m",
      "\u001b[1;31mTypeError\u001b[0m                                 Traceback (most recent call last)",
      "Cell \u001b[1;32mIn[119], line 2\u001b[0m\n\u001b[0;32m      1\u001b[0m \u001b[38;5;66;03m#int / set: \u001b[39;00m\n\u001b[1;32m----> 2\u001b[0m \u001b[38;5;241m5\u001b[39m \u001b[38;5;241m/\u001b[39m {\u001b[38;5;241m1\u001b[39m, \u001b[38;5;241m2\u001b[39m, \u001b[38;5;241m3\u001b[39m}\n",
      "\u001b[1;31mTypeError\u001b[0m: unsupported operand type(s) for /: 'int' and 'set'"
     ]
    }
   ],
   "source": [
    "#int / set: \n",
    "5 / {1, 2, 3}"
   ]
  },
  {
   "cell_type": "code",
   "execution_count": 121,
   "id": "f72fd96e-cfc2-4a81-b954-afa9728c78df",
   "metadata": {},
   "outputs": [
    {
     "ename": "TypeError",
     "evalue": "unsupported operand type(s) for /: 'int' and 'dict'",
     "output_type": "error",
     "traceback": [
      "\u001b[1;31m---------------------------------------------------------------------------\u001b[0m",
      "\u001b[1;31mTypeError\u001b[0m                                 Traceback (most recent call last)",
      "Cell \u001b[1;32mIn[121], line 2\u001b[0m\n\u001b[0;32m      1\u001b[0m \u001b[38;5;66;03m#int / dictionary: \u001b[39;00m\n\u001b[1;32m----> 2\u001b[0m \u001b[38;5;241m5\u001b[39m \u001b[38;5;241m/\u001b[39m {\u001b[38;5;124m'\u001b[39m\u001b[38;5;124ma\u001b[39m\u001b[38;5;124m'\u001b[39m: \u001b[38;5;241m1\u001b[39m}\n",
      "\u001b[1;31mTypeError\u001b[0m: unsupported operand type(s) for /: 'int' and 'dict'"
     ]
    }
   ],
   "source": [
    "#int / dictionary: \n",
    "5 / {'a': 1}"
   ]
  },
  {
   "cell_type": "code",
   "execution_count": 123,
   "id": "faffcb0f-acef-4a03-8169-941633e0d98c",
   "metadata": {},
   "outputs": [
    {
     "ename": "TypeError",
     "evalue": "unsupported operand type(s) for /: 'int' and 'tuple'",
     "output_type": "error",
     "traceback": [
      "\u001b[1;31m---------------------------------------------------------------------------\u001b[0m",
      "\u001b[1;31mTypeError\u001b[0m                                 Traceback (most recent call last)",
      "Cell \u001b[1;32mIn[123], line 2\u001b[0m\n\u001b[0;32m      1\u001b[0m \u001b[38;5;66;03m#int / tuple:\u001b[39;00m\n\u001b[1;32m----> 2\u001b[0m \u001b[38;5;241m5\u001b[39m \u001b[38;5;241m/\u001b[39m (\u001b[38;5;241m1\u001b[39m, \u001b[38;5;241m2\u001b[39m, \u001b[38;5;241m3\u001b[39m)\n",
      "\u001b[1;31mTypeError\u001b[0m: unsupported operand type(s) for /: 'int' and 'tuple'"
     ]
    }
   ],
   "source": [
    "#int / tuple:\n",
    "5 / (1, 2, 3)"
   ]
  },
  {
   "cell_type": "markdown",
   "id": "6cbacd13-45d2-4f1c-b605-bc51144926ff",
   "metadata": {
    "jp-MarkdownHeadingCollapsed": true
   },
   "source": [
    "### Floor Division"
   ]
  },
  {
   "cell_type": "code",
   "execution_count": 143,
   "id": "443641c8-21d1-4fd3-a864-458f061ab712",
   "metadata": {},
   "outputs": [
    {
     "data": {
      "text/plain": [
       "1"
      ]
     },
     "execution_count": 143,
     "metadata": {},
     "output_type": "execute_result"
    }
   ],
   "source": [
    "#int // int:\n",
    "5 // 3"
   ]
  },
  {
   "cell_type": "code",
   "execution_count": 155,
   "id": "b1eee816-d5c8-4b01-a1d1-0dc8009ba267",
   "metadata": {},
   "outputs": [
    {
     "data": {
      "text/plain": [
       "2.0"
      ]
     },
     "execution_count": 155,
     "metadata": {},
     "output_type": "execute_result"
    }
   ],
   "source": [
    "#int // float: \n",
    "5 // 2.5"
   ]
  },
  {
   "cell_type": "code",
   "execution_count": 147,
   "id": "7a666053-1297-48b0-bb7f-937ea6ddf877",
   "metadata": {},
   "outputs": [
    {
     "data": {
      "text/plain": [
       "5"
      ]
     },
     "execution_count": 147,
     "metadata": {},
     "output_type": "execute_result"
    }
   ],
   "source": [
    "#int // boolean: \n",
    "5 // True"
   ]
  },
  {
   "cell_type": "code",
   "execution_count": 149,
   "id": "912d0665-4436-4dac-be4c-f3a648617206",
   "metadata": {},
   "outputs": [
    {
     "ename": "TypeError",
     "evalue": "unsupported operand type(s) for //: 'int' and 'str'",
     "output_type": "error",
     "traceback": [
      "\u001b[1;31m---------------------------------------------------------------------------\u001b[0m",
      "\u001b[1;31mTypeError\u001b[0m                                 Traceback (most recent call last)",
      "Cell \u001b[1;32mIn[149], line 2\u001b[0m\n\u001b[0;32m      1\u001b[0m \u001b[38;5;66;03m#int // string: \u001b[39;00m\n\u001b[1;32m----> 2\u001b[0m \u001b[38;5;241m5\u001b[39m \u001b[38;5;241m/\u001b[39m\u001b[38;5;241m/\u001b[39m \u001b[38;5;124m'\u001b[39m\u001b[38;5;124mHello\u001b[39m\u001b[38;5;124m'\u001b[39m\n",
      "\u001b[1;31mTypeError\u001b[0m: unsupported operand type(s) for //: 'int' and 'str'"
     ]
    }
   ],
   "source": [
    "#int // string: \n",
    "5 // 'Hello'"
   ]
  },
  {
   "cell_type": "code",
   "execution_count": 151,
   "id": "0d2d9344-fb10-4d6b-af50-482a75146872",
   "metadata": {},
   "outputs": [
    {
     "ename": "TypeError",
     "evalue": "unsupported operand type(s) for //: 'int' and 'NoneType'",
     "output_type": "error",
     "traceback": [
      "\u001b[1;31m---------------------------------------------------------------------------\u001b[0m",
      "\u001b[1;31mTypeError\u001b[0m                                 Traceback (most recent call last)",
      "Cell \u001b[1;32mIn[151], line 2\u001b[0m\n\u001b[0;32m      1\u001b[0m \u001b[38;5;66;03m#int // NoneType: \u001b[39;00m\n\u001b[1;32m----> 2\u001b[0m \u001b[38;5;241m5\u001b[39m \u001b[38;5;241m/\u001b[39m\u001b[38;5;241m/\u001b[39m \u001b[38;5;28;01mNone\u001b[39;00m\n",
      "\u001b[1;31mTypeError\u001b[0m: unsupported operand type(s) for //: 'int' and 'NoneType'"
     ]
    }
   ],
   "source": [
    "#int // NoneType: \n",
    "5 // None"
   ]
  },
  {
   "cell_type": "code",
   "execution_count": 153,
   "id": "cfcbe9ff-e820-45e6-a73b-0140942eb0c2",
   "metadata": {},
   "outputs": [
    {
     "ename": "TypeError",
     "evalue": "unsupported operand type(s) for //: 'int' and 'list'",
     "output_type": "error",
     "traceback": [
      "\u001b[1;31m---------------------------------------------------------------------------\u001b[0m",
      "\u001b[1;31mTypeError\u001b[0m                                 Traceback (most recent call last)",
      "Cell \u001b[1;32mIn[153], line 2\u001b[0m\n\u001b[0;32m      1\u001b[0m \u001b[38;5;66;03m#int ./ list: \u001b[39;00m\n\u001b[1;32m----> 2\u001b[0m \u001b[38;5;241m5\u001b[39m \u001b[38;5;241m/\u001b[39m\u001b[38;5;241m/\u001b[39m [\u001b[38;5;241m1\u001b[39m, \u001b[38;5;241m2\u001b[39m, \u001b[38;5;241m3\u001b[39m]\n",
      "\u001b[1;31mTypeError\u001b[0m: unsupported operand type(s) for //: 'int' and 'list'"
     ]
    }
   ],
   "source": [
    "#int ./ list: \n",
    "5 // [1, 2, 3]"
   ]
  },
  {
   "cell_type": "code",
   "execution_count": 157,
   "id": "64bc5eb1-5cac-4a4a-bfda-151a9cf1830e",
   "metadata": {},
   "outputs": [
    {
     "ename": "TypeError",
     "evalue": "unsupported operand type(s) for //: 'int' and 'set'",
     "output_type": "error",
     "traceback": [
      "\u001b[1;31m---------------------------------------------------------------------------\u001b[0m",
      "\u001b[1;31mTypeError\u001b[0m                                 Traceback (most recent call last)",
      "Cell \u001b[1;32mIn[157], line 2\u001b[0m\n\u001b[0;32m      1\u001b[0m \u001b[38;5;66;03m#int // set: \u001b[39;00m\n\u001b[1;32m----> 2\u001b[0m \u001b[38;5;241m5\u001b[39m \u001b[38;5;241m/\u001b[39m\u001b[38;5;241m/\u001b[39m {\u001b[38;5;241m1\u001b[39m, \u001b[38;5;241m2\u001b[39m, \u001b[38;5;241m3\u001b[39m}\n",
      "\u001b[1;31mTypeError\u001b[0m: unsupported operand type(s) for //: 'int' and 'set'"
     ]
    }
   ],
   "source": [
    "#int // set: \n",
    "5 // {1, 2, 3}"
   ]
  },
  {
   "cell_type": "code",
   "execution_count": 159,
   "id": "6f663370-d0ef-4f64-aa59-f163ac3f0eb0",
   "metadata": {},
   "outputs": [
    {
     "ename": "TypeError",
     "evalue": "unsupported operand type(s) for //: 'int' and 'dict'",
     "output_type": "error",
     "traceback": [
      "\u001b[1;31m---------------------------------------------------------------------------\u001b[0m",
      "\u001b[1;31mTypeError\u001b[0m                                 Traceback (most recent call last)",
      "Cell \u001b[1;32mIn[159], line 2\u001b[0m\n\u001b[0;32m      1\u001b[0m \u001b[38;5;66;03m#int // dictionary: \u001b[39;00m\n\u001b[1;32m----> 2\u001b[0m \u001b[38;5;241m5\u001b[39m \u001b[38;5;241m/\u001b[39m\u001b[38;5;241m/\u001b[39m {\u001b[38;5;124m'\u001b[39m\u001b[38;5;124ma\u001b[39m\u001b[38;5;124m'\u001b[39m: \u001b[38;5;241m1\u001b[39m}\n",
      "\u001b[1;31mTypeError\u001b[0m: unsupported operand type(s) for //: 'int' and 'dict'"
     ]
    }
   ],
   "source": [
    "#int // dictionary: \n",
    "5 // {'a': 1}"
   ]
  },
  {
   "cell_type": "code",
   "execution_count": 161,
   "id": "5e8ab362-1eda-4634-b62f-1043cf110054",
   "metadata": {},
   "outputs": [
    {
     "ename": "TypeError",
     "evalue": "unsupported operand type(s) for //: 'int' and 'tuple'",
     "output_type": "error",
     "traceback": [
      "\u001b[1;31m---------------------------------------------------------------------------\u001b[0m",
      "\u001b[1;31mTypeError\u001b[0m                                 Traceback (most recent call last)",
      "Cell \u001b[1;32mIn[161], line 2\u001b[0m\n\u001b[0;32m      1\u001b[0m \u001b[38;5;66;03m#int // tuple: \u001b[39;00m\n\u001b[1;32m----> 2\u001b[0m \u001b[38;5;241m5\u001b[39m \u001b[38;5;241m/\u001b[39m\u001b[38;5;241m/\u001b[39m (\u001b[38;5;241m1\u001b[39m, \u001b[38;5;241m2\u001b[39m, \u001b[38;5;241m3\u001b[39m)\n",
      "\u001b[1;31mTypeError\u001b[0m: unsupported operand type(s) for //: 'int' and 'tuple'"
     ]
    }
   ],
   "source": [
    "#int // tuple: \n",
    "5 // (1, 2, 3)"
   ]
  },
  {
   "cell_type": "markdown",
   "id": "d1d9d724-9834-457b-889e-dbebf2c8d2c4",
   "metadata": {
    "jp-MarkdownHeadingCollapsed": true
   },
   "source": [
    "### Exponentiation"
   ]
  },
  {
   "cell_type": "code",
   "execution_count": 748,
   "id": "a3fa3442-dda5-4a74-9453-ccfa3cfed8f3",
   "metadata": {},
   "outputs": [
    {
     "data": {
      "text/plain": [
       "125"
      ]
     },
     "execution_count": 748,
     "metadata": {},
     "output_type": "execute_result"
    }
   ],
   "source": [
    "#int ** int: \n",
    "5 ** 3"
   ]
  },
  {
   "cell_type": "code",
   "execution_count": 165,
   "id": "8d4ee7be-4026-4807-964e-296329eaa9db",
   "metadata": {},
   "outputs": [
    {
     "data": {
      "text/plain": [
       "55.90169943749474"
      ]
     },
     "execution_count": 165,
     "metadata": {},
     "output_type": "execute_result"
    }
   ],
   "source": [
    "#int ** float: \n",
    "5 ** 3"
   ]
  },
  {
   "cell_type": "code",
   "execution_count": 169,
   "id": "4378273e-ee02-447e-87e2-6fe804f10fe9",
   "metadata": {},
   "outputs": [
    {
     "data": {
      "text/plain": [
       "5"
      ]
     },
     "execution_count": 169,
     "metadata": {},
     "output_type": "execute_result"
    }
   ],
   "source": [
    "#int ** boolean: \n",
    "5 ** true"
   ]
  },
  {
   "cell_type": "code",
   "execution_count": 171,
   "id": "dbdb44d8-044a-4572-8d0d-46c4366ba1e9",
   "metadata": {},
   "outputs": [
    {
     "ename": "TypeError",
     "evalue": "unsupported operand type(s) for ** or pow(): 'int' and 'str'",
     "output_type": "error",
     "traceback": [
      "\u001b[1;31m---------------------------------------------------------------------------\u001b[0m",
      "\u001b[1;31mTypeError\u001b[0m                                 Traceback (most recent call last)",
      "Cell \u001b[1;32mIn[171], line 2\u001b[0m\n\u001b[0;32m      1\u001b[0m \u001b[38;5;66;03m#int ** string: \u001b[39;00m\n\u001b[1;32m----> 2\u001b[0m \u001b[38;5;241m5\u001b[39m \u001b[38;5;241m*\u001b[39m\u001b[38;5;241m*\u001b[39m \u001b[38;5;124m'\u001b[39m\u001b[38;5;124mhello\u001b[39m\u001b[38;5;124m'\u001b[39m\n",
      "\u001b[1;31mTypeError\u001b[0m: unsupported operand type(s) for ** or pow(): 'int' and 'str'"
     ]
    }
   ],
   "source": [
    "#int ** string: \n",
    "5 ** 'hello'"
   ]
  },
  {
   "cell_type": "code",
   "execution_count": 173,
   "id": "7b5299ac-1849-43d3-ab18-ceeaca2c5214",
   "metadata": {},
   "outputs": [
    {
     "ename": "TypeError",
     "evalue": "unsupported operand type(s) for ** or pow(): 'int' and 'str'",
     "output_type": "error",
     "traceback": [
      "\u001b[1;31m---------------------------------------------------------------------------\u001b[0m",
      "\u001b[1;31mTypeError\u001b[0m                                 Traceback (most recent call last)",
      "Cell \u001b[1;32mIn[173], line 2\u001b[0m\n\u001b[0;32m      1\u001b[0m \u001b[38;5;66;03m#int ** Nonetype : \u001b[39;00m\n\u001b[1;32m----> 2\u001b[0m \u001b[38;5;241m5\u001b[39m \u001b[38;5;241m*\u001b[39m\u001b[38;5;241m*\u001b[39m \u001b[38;5;124m'\u001b[39m\u001b[38;5;124mNone \u001b[39m\u001b[38;5;124m'\u001b[39m\n",
      "\u001b[1;31mTypeError\u001b[0m: unsupported operand type(s) for ** or pow(): 'int' and 'str'"
     ]
    }
   ],
   "source": [
    "#int ** Nonetype : \n",
    "5 ** 'None '"
   ]
  },
  {
   "cell_type": "code",
   "execution_count": 175,
   "id": "119f9591-1eb0-49ea-875a-ff94a700f0a0",
   "metadata": {},
   "outputs": [
    {
     "ename": "TypeError",
     "evalue": "unsupported operand type(s) for ** or pow(): 'int' and 'list'",
     "output_type": "error",
     "traceback": [
      "\u001b[1;31m---------------------------------------------------------------------------\u001b[0m",
      "\u001b[1;31mTypeError\u001b[0m                                 Traceback (most recent call last)",
      "Cell \u001b[1;32mIn[175], line 2\u001b[0m\n\u001b[0;32m      1\u001b[0m \u001b[38;5;66;03m#int ** list : \u001b[39;00m\n\u001b[1;32m----> 2\u001b[0m \u001b[38;5;241m5\u001b[39m \u001b[38;5;241m*\u001b[39m\u001b[38;5;241m*\u001b[39m [\u001b[38;5;241m1\u001b[39m, \u001b[38;5;241m2\u001b[39m, \u001b[38;5;241m3\u001b[39m]\n",
      "\u001b[1;31mTypeError\u001b[0m: unsupported operand type(s) for ** or pow(): 'int' and 'list'"
     ]
    }
   ],
   "source": [
    "#int ** list : \n",
    "5 ** [1, 2, 3]"
   ]
  },
  {
   "cell_type": "code",
   "execution_count": 177,
   "id": "9ec0fa9c-d3fb-41c2-b191-f11ae40ffadb",
   "metadata": {},
   "outputs": [
    {
     "ename": "TypeError",
     "evalue": "unsupported operand type(s) for ** or pow(): 'int' and 'set'",
     "output_type": "error",
     "traceback": [
      "\u001b[1;31m---------------------------------------------------------------------------\u001b[0m",
      "\u001b[1;31mTypeError\u001b[0m                                 Traceback (most recent call last)",
      "Cell \u001b[1;32mIn[177], line 2\u001b[0m\n\u001b[0;32m      1\u001b[0m \u001b[38;5;66;03m#int ** set : \u001b[39;00m\n\u001b[1;32m----> 2\u001b[0m \u001b[38;5;241m5\u001b[39m \u001b[38;5;241m*\u001b[39m\u001b[38;5;241m*\u001b[39m {\u001b[38;5;241m1\u001b[39m, \u001b[38;5;241m2\u001b[39m, \u001b[38;5;241m3\u001b[39m}\n",
      "\u001b[1;31mTypeError\u001b[0m: unsupported operand type(s) for ** or pow(): 'int' and 'set'"
     ]
    }
   ],
   "source": [
    "#int ** set : \n",
    "5 ** {1, 2, 3}"
   ]
  },
  {
   "cell_type": "code",
   "execution_count": 179,
   "id": "f8917d43-8f99-49ad-a803-c8484dd6f768",
   "metadata": {},
   "outputs": [
    {
     "ename": "TypeError",
     "evalue": "unsupported operand type(s) for ** or pow(): 'int' and 'dict'",
     "output_type": "error",
     "traceback": [
      "\u001b[1;31m---------------------------------------------------------------------------\u001b[0m",
      "\u001b[1;31mTypeError\u001b[0m                                 Traceback (most recent call last)",
      "Cell \u001b[1;32mIn[179], line 1\u001b[0m\n\u001b[1;32m----> 1\u001b[0m \u001b[38;5;241m5\u001b[39m \u001b[38;5;241m*\u001b[39m\u001b[38;5;241m*\u001b[39m {\u001b[38;5;124m'\u001b[39m\u001b[38;5;124ma\u001b[39m\u001b[38;5;124m'\u001b[39m: \u001b[38;5;241m1\u001b[39m}\n",
      "\u001b[1;31mTypeError\u001b[0m: unsupported operand type(s) for ** or pow(): 'int' and 'dict'"
     ]
    }
   ],
   "source": [
    "#int ** dictionary :\n",
    "5 ** {'a': 1}"
   ]
  },
  {
   "cell_type": "code",
   "execution_count": 181,
   "id": "94959272-6935-4235-9406-5c99fc3441eb",
   "metadata": {},
   "outputs": [
    {
     "ename": "TypeError",
     "evalue": "unsupported operand type(s) for ** or pow(): 'int' and 'tuple'",
     "output_type": "error",
     "traceback": [
      "\u001b[1;31m---------------------------------------------------------------------------\u001b[0m",
      "\u001b[1;31mTypeError\u001b[0m                                 Traceback (most recent call last)",
      "Cell \u001b[1;32mIn[181], line 1\u001b[0m\n\u001b[1;32m----> 1\u001b[0m \u001b[38;5;241m5\u001b[39m \u001b[38;5;241m*\u001b[39m\u001b[38;5;241m*\u001b[39m (\u001b[38;5;241m1\u001b[39m, \u001b[38;5;241m2\u001b[39m, \u001b[38;5;241m3\u001b[39m)\n",
      "\u001b[1;31mTypeError\u001b[0m: unsupported operand type(s) for ** or pow(): 'int' and 'tuple'"
     ]
    }
   ],
   "source": [
    "#int ** tuple :\n",
    "5 ** (1, 2, 3)"
   ]
  },
  {
   "cell_type": "markdown",
   "id": "9396296a-df89-4365-b2b5-1df147abd7e2",
   "metadata": {},
   "source": [
    "# FLOAT"
   ]
  },
  {
   "cell_type": "markdown",
   "id": "06497a65-d7bf-477a-b57d-d5eabe57b80f",
   "metadata": {
    "jp-MarkdownHeadingCollapsed": true
   },
   "source": [
    "### Addition"
   ]
  },
  {
   "cell_type": "code",
   "execution_count": 183,
   "id": "a0d1005b-3645-43c8-bfae-ec35b943a3d1",
   "metadata": {},
   "outputs": [
    {
     "data": {
      "text/plain": [
       "5.5"
      ]
     },
     "execution_count": 183,
     "metadata": {},
     "output_type": "execute_result"
    }
   ],
   "source": [
    "#float + int: \n",
    "2.5 + 3"
   ]
  },
  {
   "cell_type": "code",
   "execution_count": 185,
   "id": "425a4a69-e351-4250-9c83-ffdc3d13389e",
   "metadata": {},
   "outputs": [
    {
     "data": {
      "text/plain": [
       "6.0"
      ]
     },
     "execution_count": 185,
     "metadata": {},
     "output_type": "execute_result"
    }
   ],
   "source": [
    "#float + float: \n",
    "2.5 + 3.5"
   ]
  },
  {
   "cell_type": "code",
   "execution_count": 187,
   "id": "65e39b44-d179-4b69-a424-c0856df0527b",
   "metadata": {},
   "outputs": [
    {
     "data": {
      "text/plain": [
       "3.5"
      ]
     },
     "execution_count": 187,
     "metadata": {},
     "output_type": "execute_result"
    }
   ],
   "source": [
    "#float + boolean: \n",
    "2.5 + True"
   ]
  },
  {
   "cell_type": "code",
   "execution_count": 189,
   "id": "7bb3d4ab-eaa8-48fd-a8ab-24d504e2083c",
   "metadata": {},
   "outputs": [
    {
     "ename": "TypeError",
     "evalue": "unsupported operand type(s) for +: 'float' and 'str'",
     "output_type": "error",
     "traceback": [
      "\u001b[1;31m---------------------------------------------------------------------------\u001b[0m",
      "\u001b[1;31mTypeError\u001b[0m                                 Traceback (most recent call last)",
      "Cell \u001b[1;32mIn[189], line 2\u001b[0m\n\u001b[0;32m      1\u001b[0m \u001b[38;5;66;03m#float + string: \u001b[39;00m\n\u001b[1;32m----> 2\u001b[0m \u001b[38;5;241m2.5\u001b[39m \u001b[38;5;241m+\u001b[39m \u001b[38;5;124m'\u001b[39m\u001b[38;5;124mHello\u001b[39m\u001b[38;5;124m'\u001b[39m\n",
      "\u001b[1;31mTypeError\u001b[0m: unsupported operand type(s) for +: 'float' and 'str'"
     ]
    }
   ],
   "source": [
    "#float + string: \n",
    "2.5 + 'Hello'"
   ]
  },
  {
   "cell_type": "code",
   "execution_count": 191,
   "id": "8cbdfde6-0b47-49b9-9b56-cba7200ae68c",
   "metadata": {},
   "outputs": [
    {
     "ename": "TypeError",
     "evalue": "unsupported operand type(s) for +: 'float' and 'NoneType'",
     "output_type": "error",
     "traceback": [
      "\u001b[1;31m---------------------------------------------------------------------------\u001b[0m",
      "\u001b[1;31mTypeError\u001b[0m                                 Traceback (most recent call last)",
      "Cell \u001b[1;32mIn[191], line 2\u001b[0m\n\u001b[0;32m      1\u001b[0m \u001b[38;5;66;03m#float + NoneType: \u001b[39;00m\n\u001b[1;32m----> 2\u001b[0m \u001b[38;5;241m2.5\u001b[39m \u001b[38;5;241m+\u001b[39m \u001b[38;5;28;01mNone\u001b[39;00m\n",
      "\u001b[1;31mTypeError\u001b[0m: unsupported operand type(s) for +: 'float' and 'NoneType'"
     ]
    }
   ],
   "source": [
    "#float + NoneType: \n",
    "2.5 + None"
   ]
  },
  {
   "cell_type": "code",
   "execution_count": 193,
   "id": "d035f46b-3d13-4b0a-9c1e-0f1b26c8307d",
   "metadata": {},
   "outputs": [
    {
     "ename": "TypeError",
     "evalue": "unsupported operand type(s) for +: 'float' and 'list'",
     "output_type": "error",
     "traceback": [
      "\u001b[1;31m---------------------------------------------------------------------------\u001b[0m",
      "\u001b[1;31mTypeError\u001b[0m                                 Traceback (most recent call last)",
      "Cell \u001b[1;32mIn[193], line 2\u001b[0m\n\u001b[0;32m      1\u001b[0m \u001b[38;5;66;03m#float + list: \u001b[39;00m\n\u001b[1;32m----> 2\u001b[0m \u001b[38;5;241m2.5\u001b[39m \u001b[38;5;241m+\u001b[39m [\u001b[38;5;241m1\u001b[39m, \u001b[38;5;241m2\u001b[39m, \u001b[38;5;241m3\u001b[39m]\n",
      "\u001b[1;31mTypeError\u001b[0m: unsupported operand type(s) for +: 'float' and 'list'"
     ]
    }
   ],
   "source": [
    "#float + list: \n",
    "2.5 + [1, 2, 3]"
   ]
  },
  {
   "cell_type": "code",
   "execution_count": 195,
   "id": "c2ab21b8-37f1-4746-ad5f-0c3c40b74b22",
   "metadata": {},
   "outputs": [
    {
     "ename": "TypeError",
     "evalue": "unsupported operand type(s) for +: 'float' and 'set'",
     "output_type": "error",
     "traceback": [
      "\u001b[1;31m---------------------------------------------------------------------------\u001b[0m",
      "\u001b[1;31mTypeError\u001b[0m                                 Traceback (most recent call last)",
      "Cell \u001b[1;32mIn[195], line 2\u001b[0m\n\u001b[0;32m      1\u001b[0m \u001b[38;5;66;03m#float + set: \u001b[39;00m\n\u001b[1;32m----> 2\u001b[0m \u001b[38;5;241m2.5\u001b[39m \u001b[38;5;241m+\u001b[39m {\u001b[38;5;241m1\u001b[39m, \u001b[38;5;241m2\u001b[39m, \u001b[38;5;241m3\u001b[39m}\n",
      "\u001b[1;31mTypeError\u001b[0m: unsupported operand type(s) for +: 'float' and 'set'"
     ]
    }
   ],
   "source": [
    "#float + set: \n",
    "2.5 + {1, 2, 3}"
   ]
  },
  {
   "cell_type": "code",
   "execution_count": 197,
   "id": "b557e79e-8238-4253-a95f-eff9d36115a1",
   "metadata": {},
   "outputs": [
    {
     "ename": "TypeError",
     "evalue": "unsupported operand type(s) for +: 'float' and 'dict'",
     "output_type": "error",
     "traceback": [
      "\u001b[1;31m---------------------------------------------------------------------------\u001b[0m",
      "\u001b[1;31mTypeError\u001b[0m                                 Traceback (most recent call last)",
      "Cell \u001b[1;32mIn[197], line 2\u001b[0m\n\u001b[0;32m      1\u001b[0m \u001b[38;5;66;03m#float + dictionary: \u001b[39;00m\n\u001b[1;32m----> 2\u001b[0m \u001b[38;5;241m2.5\u001b[39m \u001b[38;5;241m+\u001b[39m {\u001b[38;5;124m'\u001b[39m\u001b[38;5;124ma\u001b[39m\u001b[38;5;124m'\u001b[39m: \u001b[38;5;241m1\u001b[39m}\n",
      "\u001b[1;31mTypeError\u001b[0m: unsupported operand type(s) for +: 'float' and 'dict'"
     ]
    }
   ],
   "source": [
    "#float + dictionary: \n",
    "2.5 + {'a': 1}"
   ]
  },
  {
   "cell_type": "code",
   "execution_count": 199,
   "id": "c820a027-e062-4e36-8a8d-2959d41816f4",
   "metadata": {},
   "outputs": [
    {
     "ename": "TypeError",
     "evalue": "unsupported operand type(s) for +: 'float' and 'tuple'",
     "output_type": "error",
     "traceback": [
      "\u001b[1;31m---------------------------------------------------------------------------\u001b[0m",
      "\u001b[1;31mTypeError\u001b[0m                                 Traceback (most recent call last)",
      "Cell \u001b[1;32mIn[199], line 2\u001b[0m\n\u001b[0;32m      1\u001b[0m \u001b[38;5;66;03m#float + tuple: \u001b[39;00m\n\u001b[1;32m----> 2\u001b[0m \u001b[38;5;241m2.5\u001b[39m \u001b[38;5;241m+\u001b[39m (\u001b[38;5;241m1\u001b[39m, \u001b[38;5;241m2\u001b[39m, \u001b[38;5;241m3\u001b[39m)\n",
      "\u001b[1;31mTypeError\u001b[0m: unsupported operand type(s) for +: 'float' and 'tuple'"
     ]
    }
   ],
   "source": [
    "#float + tuple: \n",
    "2.5 + (1, 2, 3)"
   ]
  },
  {
   "cell_type": "markdown",
   "id": "3950fbd9-a5e0-4c33-9ce3-cd47c6058a12",
   "metadata": {
    "jp-MarkdownHeadingCollapsed": true
   },
   "source": [
    "### Substraction"
   ]
  },
  {
   "cell_type": "code",
   "execution_count": 759,
   "id": "5b63d892-5ed4-4783-803a-91e4d474d6f5",
   "metadata": {},
   "outputs": [
    {
     "data": {
      "text/plain": [
       "-0.5"
      ]
     },
     "execution_count": 759,
     "metadata": {},
     "output_type": "execute_result"
    }
   ],
   "source": [
    "#float - int: \n",
    "2.5 - 3"
   ]
  },
  {
   "cell_type": "code",
   "execution_count": 761,
   "id": "b82e982e-1d1f-4668-9999-56d257ad35da",
   "metadata": {},
   "outputs": [
    {
     "data": {
      "text/plain": [
       "-1.0"
      ]
     },
     "execution_count": 761,
     "metadata": {},
     "output_type": "execute_result"
    }
   ],
   "source": [
    "#float - float: \n",
    "2.5 - 3.5"
   ]
  },
  {
   "cell_type": "code",
   "execution_count": 763,
   "id": "60248e4f-af58-478e-a68d-3371ee01ef0a",
   "metadata": {},
   "outputs": [
    {
     "data": {
      "text/plain": [
       "1.5"
      ]
     },
     "execution_count": 763,
     "metadata": {},
     "output_type": "execute_result"
    }
   ],
   "source": [
    "#float - boolean:\n",
    "2.5 - True"
   ]
  },
  {
   "cell_type": "code",
   "execution_count": 765,
   "id": "a9816b7a-8629-4c91-af9e-7df5b7909437",
   "metadata": {},
   "outputs": [
    {
     "ename": "TypeError",
     "evalue": "unsupported operand type(s) for -: 'float' and 'str'",
     "output_type": "error",
     "traceback": [
      "\u001b[1;31m---------------------------------------------------------------------------\u001b[0m",
      "\u001b[1;31mTypeError\u001b[0m                                 Traceback (most recent call last)",
      "Cell \u001b[1;32mIn[765], line 2\u001b[0m\n\u001b[0;32m      1\u001b[0m \u001b[38;5;66;03m#float - string: \u001b[39;00m\n\u001b[1;32m----> 2\u001b[0m \u001b[38;5;241m2.5\u001b[39m \u001b[38;5;241m-\u001b[39m \u001b[38;5;124m'\u001b[39m\u001b[38;5;124mHello\u001b[39m\u001b[38;5;124m'\u001b[39m\n",
      "\u001b[1;31mTypeError\u001b[0m: unsupported operand type(s) for -: 'float' and 'str'"
     ]
    }
   ],
   "source": [
    "#float - string: \n",
    "2.5 - 'Hello'"
   ]
  },
  {
   "cell_type": "code",
   "execution_count": 767,
   "id": "151f7fd0-befd-4c44-b5df-e84efc8c4feb",
   "metadata": {},
   "outputs": [
    {
     "ename": "TypeError",
     "evalue": "unsupported operand type(s) for -: 'float' and 'NoneType'",
     "output_type": "error",
     "traceback": [
      "\u001b[1;31m---------------------------------------------------------------------------\u001b[0m",
      "\u001b[1;31mTypeError\u001b[0m                                 Traceback (most recent call last)",
      "Cell \u001b[1;32mIn[767], line 2\u001b[0m\n\u001b[0;32m      1\u001b[0m \u001b[38;5;66;03m#float - NoneType:\u001b[39;00m\n\u001b[1;32m----> 2\u001b[0m \u001b[38;5;241m2.5\u001b[39m \u001b[38;5;241m-\u001b[39m \u001b[38;5;28;01mNone\u001b[39;00m\n",
      "\u001b[1;31mTypeError\u001b[0m: unsupported operand type(s) for -: 'float' and 'NoneType'"
     ]
    }
   ],
   "source": [
    "#float - NoneType:\n",
    "2.5 - None"
   ]
  },
  {
   "cell_type": "code",
   "execution_count": 769,
   "id": "aab07980-9318-4413-aaa5-7b94b2235dba",
   "metadata": {},
   "outputs": [
    {
     "ename": "TypeError",
     "evalue": "unsupported operand type(s) for -: 'float' and 'list'",
     "output_type": "error",
     "traceback": [
      "\u001b[1;31m---------------------------------------------------------------------------\u001b[0m",
      "\u001b[1;31mTypeError\u001b[0m                                 Traceback (most recent call last)",
      "Cell \u001b[1;32mIn[769], line 2\u001b[0m\n\u001b[0;32m      1\u001b[0m \u001b[38;5;66;03m#float - list: \u001b[39;00m\n\u001b[1;32m----> 2\u001b[0m \u001b[38;5;241m2.5\u001b[39m \u001b[38;5;241m-\u001b[39m [\u001b[38;5;241m1\u001b[39m, \u001b[38;5;241m2\u001b[39m, \u001b[38;5;241m3\u001b[39m]\n",
      "\u001b[1;31mTypeError\u001b[0m: unsupported operand type(s) for -: 'float' and 'list'"
     ]
    }
   ],
   "source": [
    "#float - list: \n",
    "2.5 - [1, 2, 3]"
   ]
  },
  {
   "cell_type": "code",
   "execution_count": 771,
   "id": "390d4409-5ae9-4355-861c-13b0cb43f45b",
   "metadata": {},
   "outputs": [
    {
     "ename": "TypeError",
     "evalue": "unsupported operand type(s) for -: 'float' and 'set'",
     "output_type": "error",
     "traceback": [
      "\u001b[1;31m---------------------------------------------------------------------------\u001b[0m",
      "\u001b[1;31mTypeError\u001b[0m                                 Traceback (most recent call last)",
      "Cell \u001b[1;32mIn[771], line 2\u001b[0m\n\u001b[0;32m      1\u001b[0m \u001b[38;5;66;03m#float - set:\u001b[39;00m\n\u001b[1;32m----> 2\u001b[0m \u001b[38;5;241m2.5\u001b[39m \u001b[38;5;241m-\u001b[39m {\u001b[38;5;241m1\u001b[39m, \u001b[38;5;241m2\u001b[39m, \u001b[38;5;241m3\u001b[39m}\n",
      "\u001b[1;31mTypeError\u001b[0m: unsupported operand type(s) for -: 'float' and 'set'"
     ]
    }
   ],
   "source": [
    "#float - set:\n",
    "2.5 - {1, 2, 3}"
   ]
  },
  {
   "cell_type": "code",
   "execution_count": 773,
   "id": "cc7fe19d-fd7d-4389-a0ba-0ffdafbfabb1",
   "metadata": {},
   "outputs": [
    {
     "ename": "TypeError",
     "evalue": "unsupported operand type(s) for -: 'float' and 'dict'",
     "output_type": "error",
     "traceback": [
      "\u001b[1;31m---------------------------------------------------------------------------\u001b[0m",
      "\u001b[1;31mTypeError\u001b[0m                                 Traceback (most recent call last)",
      "Cell \u001b[1;32mIn[773], line 2\u001b[0m\n\u001b[0;32m      1\u001b[0m \u001b[38;5;66;03m#float - dictionary:\u001b[39;00m\n\u001b[1;32m----> 2\u001b[0m \u001b[38;5;241m2.5\u001b[39m \u001b[38;5;241m-\u001b[39m {\u001b[38;5;124m'\u001b[39m\u001b[38;5;124ma\u001b[39m\u001b[38;5;124m'\u001b[39m: \u001b[38;5;241m1\u001b[39m}\n",
      "\u001b[1;31mTypeError\u001b[0m: unsupported operand type(s) for -: 'float' and 'dict'"
     ]
    }
   ],
   "source": [
    "#float - dictionary:\n",
    "2.5 - {'a': 1}"
   ]
  },
  {
   "cell_type": "code",
   "execution_count": 775,
   "id": "29d9e812-a5e5-4f74-87ce-b0304ba4792f",
   "metadata": {},
   "outputs": [
    {
     "ename": "TypeError",
     "evalue": "unsupported operand type(s) for -: 'float' and 'tuple'",
     "output_type": "error",
     "traceback": [
      "\u001b[1;31m---------------------------------------------------------------------------\u001b[0m",
      "\u001b[1;31mTypeError\u001b[0m                                 Traceback (most recent call last)",
      "Cell \u001b[1;32mIn[775], line 2\u001b[0m\n\u001b[0;32m      1\u001b[0m \u001b[38;5;66;03m#float - tuple: \u001b[39;00m\n\u001b[1;32m----> 2\u001b[0m \u001b[38;5;241m2.5\u001b[39m \u001b[38;5;241m-\u001b[39m (\u001b[38;5;241m1\u001b[39m, \u001b[38;5;241m2\u001b[39m, \u001b[38;5;241m3\u001b[39m)\n",
      "\u001b[1;31mTypeError\u001b[0m: unsupported operand type(s) for -: 'float' and 'tuple'"
     ]
    }
   ],
   "source": [
    "#float - tuple: \n",
    "2.5 - (1, 2, 3)"
   ]
  },
  {
   "cell_type": "markdown",
   "id": "6da91f2c-6269-4d49-bb31-728cd825e95e",
   "metadata": {
    "jp-MarkdownHeadingCollapsed": true
   },
   "source": [
    "### Multiplication"
   ]
  },
  {
   "cell_type": "code",
   "execution_count": 201,
   "id": "924d99d9-88e4-462c-9b19-6680a259eff1",
   "metadata": {},
   "outputs": [
    {
     "data": {
      "text/plain": [
       "7.5"
      ]
     },
     "execution_count": 201,
     "metadata": {},
     "output_type": "execute_result"
    }
   ],
   "source": [
    "#float * int: \n",
    "2.5 * 3"
   ]
  },
  {
   "cell_type": "code",
   "execution_count": 203,
   "id": "4686d249-31e4-444d-a2c9-7a335e9f4411",
   "metadata": {},
   "outputs": [
    {
     "data": {
      "text/plain": [
       "8.75"
      ]
     },
     "execution_count": 203,
     "metadata": {},
     "output_type": "execute_result"
    }
   ],
   "source": [
    "#float * float: \n",
    "2.5 * 3.5"
   ]
  },
  {
   "cell_type": "code",
   "execution_count": 205,
   "id": "474f2982-757c-467c-aaea-412b3fa8df2b",
   "metadata": {},
   "outputs": [
    {
     "data": {
      "text/plain": [
       "2.5"
      ]
     },
     "execution_count": 205,
     "metadata": {},
     "output_type": "execute_result"
    }
   ],
   "source": [
    "#float * boolean: \n",
    "2.5 * True"
   ]
  },
  {
   "cell_type": "code",
   "execution_count": 207,
   "id": "9d783549-c173-480c-bf8a-cf88eb1b07c2",
   "metadata": {},
   "outputs": [
    {
     "ename": "TypeError",
     "evalue": "can't multiply sequence by non-int of type 'float'",
     "output_type": "error",
     "traceback": [
      "\u001b[1;31m---------------------------------------------------------------------------\u001b[0m",
      "\u001b[1;31mTypeError\u001b[0m                                 Traceback (most recent call last)",
      "Cell \u001b[1;32mIn[207], line 2\u001b[0m\n\u001b[0;32m      1\u001b[0m \u001b[38;5;66;03m#float * string: \u001b[39;00m\n\u001b[1;32m----> 2\u001b[0m \u001b[38;5;241m2.5\u001b[39m \u001b[38;5;241m*\u001b[39m \u001b[38;5;124m'\u001b[39m\u001b[38;5;124mHello\u001b[39m\u001b[38;5;124m'\u001b[39m\n",
      "\u001b[1;31mTypeError\u001b[0m: can't multiply sequence by non-int of type 'float'"
     ]
    }
   ],
   "source": [
    "#float * string: \n",
    "2.5 * 'Hello'"
   ]
  },
  {
   "cell_type": "code",
   "execution_count": 209,
   "id": "b7c0dc89-4f3b-4344-be58-dc742932d78a",
   "metadata": {},
   "outputs": [
    {
     "ename": "TypeError",
     "evalue": "unsupported operand type(s) for *: 'float' and 'NoneType'",
     "output_type": "error",
     "traceback": [
      "\u001b[1;31m---------------------------------------------------------------------------\u001b[0m",
      "\u001b[1;31mTypeError\u001b[0m                                 Traceback (most recent call last)",
      "Cell \u001b[1;32mIn[209], line 2\u001b[0m\n\u001b[0;32m      1\u001b[0m \u001b[38;5;66;03m#float * NoneType:\u001b[39;00m\n\u001b[1;32m----> 2\u001b[0m \u001b[38;5;241m2.5\u001b[39m \u001b[38;5;241m*\u001b[39m \u001b[38;5;28;01mNone\u001b[39;00m\n",
      "\u001b[1;31mTypeError\u001b[0m: unsupported operand type(s) for *: 'float' and 'NoneType'"
     ]
    }
   ],
   "source": [
    "#float * NoneType:\n",
    "2.5 * None"
   ]
  },
  {
   "cell_type": "code",
   "execution_count": 211,
   "id": "21ee547f-cfc8-4b62-ad9a-3fadd6002faa",
   "metadata": {},
   "outputs": [
    {
     "ename": "TypeError",
     "evalue": "can't multiply sequence by non-int of type 'float'",
     "output_type": "error",
     "traceback": [
      "\u001b[1;31m---------------------------------------------------------------------------\u001b[0m",
      "\u001b[1;31mTypeError\u001b[0m                                 Traceback (most recent call last)",
      "Cell \u001b[1;32mIn[211], line 2\u001b[0m\n\u001b[0;32m      1\u001b[0m \u001b[38;5;66;03m#float * list: \u001b[39;00m\n\u001b[1;32m----> 2\u001b[0m \u001b[38;5;241m2.5\u001b[39m \u001b[38;5;241m*\u001b[39m [\u001b[38;5;241m1\u001b[39m, \u001b[38;5;241m2\u001b[39m, \u001b[38;5;241m3\u001b[39m]\n",
      "\u001b[1;31mTypeError\u001b[0m: can't multiply sequence by non-int of type 'float'"
     ]
    }
   ],
   "source": [
    "#float * list: \n",
    "2.5 * [1, 2, 3]"
   ]
  },
  {
   "cell_type": "code",
   "execution_count": 213,
   "id": "ba7da014-d879-4593-a4ad-e30f4687f5fd",
   "metadata": {},
   "outputs": [
    {
     "ename": "TypeError",
     "evalue": "unsupported operand type(s) for *: 'float' and 'set'",
     "output_type": "error",
     "traceback": [
      "\u001b[1;31m---------------------------------------------------------------------------\u001b[0m",
      "\u001b[1;31mTypeError\u001b[0m                                 Traceback (most recent call last)",
      "Cell \u001b[1;32mIn[213], line 2\u001b[0m\n\u001b[0;32m      1\u001b[0m \u001b[38;5;66;03m#float * set: \u001b[39;00m\n\u001b[1;32m----> 2\u001b[0m \u001b[38;5;241m2.5\u001b[39m \u001b[38;5;241m*\u001b[39m {\u001b[38;5;241m1\u001b[39m, \u001b[38;5;241m2\u001b[39m, \u001b[38;5;241m3\u001b[39m}\n",
      "\u001b[1;31mTypeError\u001b[0m: unsupported operand type(s) for *: 'float' and 'set'"
     ]
    }
   ],
   "source": [
    "#float * set: \n",
    "2.5 * {1, 2, 3}"
   ]
  },
  {
   "cell_type": "code",
   "execution_count": 215,
   "id": "6e9e538e-8cae-406a-a385-1c314bfab3a1",
   "metadata": {},
   "outputs": [
    {
     "ename": "TypeError",
     "evalue": "unsupported operand type(s) for *: 'float' and 'dict'",
     "output_type": "error",
     "traceback": [
      "\u001b[1;31m---------------------------------------------------------------------------\u001b[0m",
      "\u001b[1;31mTypeError\u001b[0m                                 Traceback (most recent call last)",
      "Cell \u001b[1;32mIn[215], line 2\u001b[0m\n\u001b[0;32m      1\u001b[0m \u001b[38;5;66;03m#float * dictionary: \u001b[39;00m\n\u001b[1;32m----> 2\u001b[0m \u001b[38;5;241m2.5\u001b[39m \u001b[38;5;241m*\u001b[39m {\u001b[38;5;124m'\u001b[39m\u001b[38;5;124ma\u001b[39m\u001b[38;5;124m'\u001b[39m: \u001b[38;5;241m1\u001b[39m}\n",
      "\u001b[1;31mTypeError\u001b[0m: unsupported operand type(s) for *: 'float' and 'dict'"
     ]
    }
   ],
   "source": [
    "#float * dictionary: \n",
    "2.5 * {'a': 1}"
   ]
  },
  {
   "cell_type": "code",
   "execution_count": 217,
   "id": "a04ceaf1-c5e4-4a37-b521-0b07a6b1c670",
   "metadata": {},
   "outputs": [
    {
     "ename": "TypeError",
     "evalue": "can't multiply sequence by non-int of type 'float'",
     "output_type": "error",
     "traceback": [
      "\u001b[1;31m---------------------------------------------------------------------------\u001b[0m",
      "\u001b[1;31mTypeError\u001b[0m                                 Traceback (most recent call last)",
      "Cell \u001b[1;32mIn[217], line 2\u001b[0m\n\u001b[0;32m      1\u001b[0m \u001b[38;5;66;03m#float * tuple: \u001b[39;00m\n\u001b[1;32m----> 2\u001b[0m \u001b[38;5;241m2.5\u001b[39m \u001b[38;5;241m*\u001b[39m (\u001b[38;5;241m1\u001b[39m, \u001b[38;5;241m2\u001b[39m, \u001b[38;5;241m3\u001b[39m)\n",
      "\u001b[1;31mTypeError\u001b[0m: can't multiply sequence by non-int of type 'float'"
     ]
    }
   ],
   "source": [
    "#float * tuple: \n",
    "2.5 * (1, 2, 3)"
   ]
  },
  {
   "cell_type": "markdown",
   "id": "bd46d7af-e96c-4baa-81a6-f59088799931",
   "metadata": {
    "jp-MarkdownHeadingCollapsed": true
   },
   "source": [
    "### Exponentiation\r\n"
   ]
  },
  {
   "cell_type": "code",
   "execution_count": 219,
   "id": "acfd3ad2-636e-4524-a41f-3aba6ab66c10",
   "metadata": {},
   "outputs": [
    {
     "data": {
      "text/plain": [
       "15.625"
      ]
     },
     "execution_count": 219,
     "metadata": {},
     "output_type": "execute_result"
    }
   ],
   "source": [
    "#float ** int: \n",
    "2.5 ** 3"
   ]
  },
  {
   "cell_type": "code",
   "execution_count": 221,
   "id": "48036302-16cc-4883-adbb-3576b3a4ff22",
   "metadata": {},
   "outputs": [
    {
     "data": {
      "text/plain": [
       "24.705294220065465"
      ]
     },
     "execution_count": 221,
     "metadata": {},
     "output_type": "execute_result"
    }
   ],
   "source": [
    "#float ** float: \n",
    "2.5 ** 3.5"
   ]
  },
  {
   "cell_type": "code",
   "execution_count": 223,
   "id": "36f4f125-b27d-4c44-8d6e-9ad1258f3edd",
   "metadata": {},
   "outputs": [
    {
     "data": {
      "text/plain": [
       "2.5"
      ]
     },
     "execution_count": 223,
     "metadata": {},
     "output_type": "execute_result"
    }
   ],
   "source": [
    "#float ** boolean: \n",
    "2.5 ** True "
   ]
  },
  {
   "cell_type": "code",
   "execution_count": 225,
   "id": "ddecbbe9-e07e-4d1d-ae12-a56d2a74203a",
   "metadata": {},
   "outputs": [
    {
     "ename": "TypeError",
     "evalue": "unsupported operand type(s) for ** or pow(): 'float' and 'str'",
     "output_type": "error",
     "traceback": [
      "\u001b[1;31m---------------------------------------------------------------------------\u001b[0m",
      "\u001b[1;31mTypeError\u001b[0m                                 Traceback (most recent call last)",
      "Cell \u001b[1;32mIn[225], line 2\u001b[0m\n\u001b[0;32m      1\u001b[0m \u001b[38;5;66;03m#float ** string: \u001b[39;00m\n\u001b[1;32m----> 2\u001b[0m \u001b[38;5;241m2.5\u001b[39m \u001b[38;5;241m*\u001b[39m\u001b[38;5;241m*\u001b[39m \u001b[38;5;124m'\u001b[39m\u001b[38;5;124mHello\u001b[39m\u001b[38;5;124m'\u001b[39m\n",
      "\u001b[1;31mTypeError\u001b[0m: unsupported operand type(s) for ** or pow(): 'float' and 'str'"
     ]
    }
   ],
   "source": [
    "#float ** string: \n",
    "2.5 ** 'Hello'"
   ]
  },
  {
   "cell_type": "code",
   "execution_count": 227,
   "id": "ee096f07-7708-4523-a297-2aecb494d1c3",
   "metadata": {},
   "outputs": [
    {
     "ename": "TypeError",
     "evalue": "unsupported operand type(s) for ** or pow(): 'float' and 'NoneType'",
     "output_type": "error",
     "traceback": [
      "\u001b[1;31m---------------------------------------------------------------------------\u001b[0m",
      "\u001b[1;31mTypeError\u001b[0m                                 Traceback (most recent call last)",
      "Cell \u001b[1;32mIn[227], line 2\u001b[0m\n\u001b[0;32m      1\u001b[0m \u001b[38;5;66;03m#float ** NoneType: \u001b[39;00m\n\u001b[1;32m----> 2\u001b[0m \u001b[38;5;241m2.5\u001b[39m \u001b[38;5;241m*\u001b[39m\u001b[38;5;241m*\u001b[39m \u001b[38;5;28;01mNone\u001b[39;00m\n",
      "\u001b[1;31mTypeError\u001b[0m: unsupported operand type(s) for ** or pow(): 'float' and 'NoneType'"
     ]
    }
   ],
   "source": [
    "#float ** NoneType: \n",
    "2.5 ** None "
   ]
  },
  {
   "cell_type": "code",
   "execution_count": 229,
   "id": "b7309722-746f-42b2-a4ad-8e20177e3c68",
   "metadata": {},
   "outputs": [
    {
     "ename": "TypeError",
     "evalue": "unsupported operand type(s) for ** or pow(): 'float' and 'list'",
     "output_type": "error",
     "traceback": [
      "\u001b[1;31m---------------------------------------------------------------------------\u001b[0m",
      "\u001b[1;31mTypeError\u001b[0m                                 Traceback (most recent call last)",
      "Cell \u001b[1;32mIn[229], line 2\u001b[0m\n\u001b[0;32m      1\u001b[0m \u001b[38;5;66;03m#float ** list: \u001b[39;00m\n\u001b[1;32m----> 2\u001b[0m \u001b[38;5;241m2.5\u001b[39m \u001b[38;5;241m*\u001b[39m\u001b[38;5;241m*\u001b[39m [\u001b[38;5;241m1\u001b[39m, \u001b[38;5;241m2\u001b[39m, \u001b[38;5;241m3\u001b[39m]\n",
      "\u001b[1;31mTypeError\u001b[0m: unsupported operand type(s) for ** or pow(): 'float' and 'list'"
     ]
    }
   ],
   "source": [
    "#float ** list: \n",
    "2.5 ** [1, 2, 3]"
   ]
  },
  {
   "cell_type": "code",
   "execution_count": 231,
   "id": "d832377a-5af1-4758-99af-751a11a68d7e",
   "metadata": {},
   "outputs": [
    {
     "ename": "TypeError",
     "evalue": "unsupported operand type(s) for ** or pow(): 'float' and 'set'",
     "output_type": "error",
     "traceback": [
      "\u001b[1;31m---------------------------------------------------------------------------\u001b[0m",
      "\u001b[1;31mTypeError\u001b[0m                                 Traceback (most recent call last)",
      "Cell \u001b[1;32mIn[231], line 2\u001b[0m\n\u001b[0;32m      1\u001b[0m \u001b[38;5;66;03m#float ** set: \u001b[39;00m\n\u001b[1;32m----> 2\u001b[0m \u001b[38;5;241m2.5\u001b[39m \u001b[38;5;241m*\u001b[39m\u001b[38;5;241m*\u001b[39m {\u001b[38;5;241m1\u001b[39m, \u001b[38;5;241m2\u001b[39m, \u001b[38;5;241m3\u001b[39m}\n",
      "\u001b[1;31mTypeError\u001b[0m: unsupported operand type(s) for ** or pow(): 'float' and 'set'"
     ]
    }
   ],
   "source": [
    "#float ** set: \n",
    "2.5 ** {1, 2, 3}"
   ]
  },
  {
   "cell_type": "code",
   "execution_count": 233,
   "id": "0727a7d3-6d6b-490e-8284-4e5621ae2e2f",
   "metadata": {},
   "outputs": [
    {
     "ename": "TypeError",
     "evalue": "unsupported operand type(s) for ** or pow(): 'float' and 'dict'",
     "output_type": "error",
     "traceback": [
      "\u001b[1;31m---------------------------------------------------------------------------\u001b[0m",
      "\u001b[1;31mTypeError\u001b[0m                                 Traceback (most recent call last)",
      "Cell \u001b[1;32mIn[233], line 2\u001b[0m\n\u001b[0;32m      1\u001b[0m \u001b[38;5;66;03m#float ** dictionary: \u001b[39;00m\n\u001b[1;32m----> 2\u001b[0m \u001b[38;5;241m2.5\u001b[39m \u001b[38;5;241m*\u001b[39m\u001b[38;5;241m*\u001b[39m {\u001b[38;5;124m'\u001b[39m\u001b[38;5;124ma\u001b[39m\u001b[38;5;124m'\u001b[39m: \u001b[38;5;241m1\u001b[39m}\n",
      "\u001b[1;31mTypeError\u001b[0m: unsupported operand type(s) for ** or pow(): 'float' and 'dict'"
     ]
    }
   ],
   "source": [
    "#float ** dictionary: \n",
    "2.5 ** {'a': 1}"
   ]
  },
  {
   "cell_type": "code",
   "execution_count": 235,
   "id": "f8164943-50b6-4a55-94ec-16558845c1be",
   "metadata": {},
   "outputs": [
    {
     "ename": "TypeError",
     "evalue": "unsupported operand type(s) for ** or pow(): 'float' and 'tuple'",
     "output_type": "error",
     "traceback": [
      "\u001b[1;31m---------------------------------------------------------------------------\u001b[0m",
      "\u001b[1;31mTypeError\u001b[0m                                 Traceback (most recent call last)",
      "Cell \u001b[1;32mIn[235], line 2\u001b[0m\n\u001b[0;32m      1\u001b[0m \u001b[38;5;66;03m#float ** tuple: \u001b[39;00m\n\u001b[1;32m----> 2\u001b[0m \u001b[38;5;241m2.5\u001b[39m \u001b[38;5;241m*\u001b[39m\u001b[38;5;241m*\u001b[39m (\u001b[38;5;241m1\u001b[39m, \u001b[38;5;241m2\u001b[39m, \u001b[38;5;241m3\u001b[39m)\n",
      "\u001b[1;31mTypeError\u001b[0m: unsupported operand type(s) for ** or pow(): 'float' and 'tuple'"
     ]
    }
   ],
   "source": [
    "#float ** tuple: \n",
    "2.5 ** (1, 2, 3)"
   ]
  },
  {
   "cell_type": "markdown",
   "id": "3cb8a731-d590-4cb4-b35a-9b243cdb7c5a",
   "metadata": {
    "jp-MarkdownHeadingCollapsed": true
   },
   "source": [
    "### Division\r\n"
   ]
  },
  {
   "cell_type": "code",
   "execution_count": 237,
   "id": "45c745f7-8cc1-4364-832c-5bd5b078d550",
   "metadata": {},
   "outputs": [
    {
     "data": {
      "text/plain": [
       "0.8333333333333334"
      ]
     },
     "execution_count": 237,
     "metadata": {},
     "output_type": "execute_result"
    }
   ],
   "source": [
    "#float / int:\n",
    "2.5 / 3 "
   ]
  },
  {
   "cell_type": "code",
   "execution_count": 239,
   "id": "e5649bba-8f64-4432-892f-14ab0e9bbd87",
   "metadata": {},
   "outputs": [
    {
     "data": {
      "text/plain": [
       "0.7142857142857143"
      ]
     },
     "execution_count": 239,
     "metadata": {},
     "output_type": "execute_result"
    }
   ],
   "source": [
    "#float / float: \n",
    "2.5 / 3.5"
   ]
  },
  {
   "cell_type": "code",
   "execution_count": 241,
   "id": "be4f4375-006e-4462-9a4c-ce7ce6f0b0ab",
   "metadata": {},
   "outputs": [
    {
     "data": {
      "text/plain": [
       "2.5"
      ]
     },
     "execution_count": 241,
     "metadata": {},
     "output_type": "execute_result"
    }
   ],
   "source": [
    "#float / boolean: \n",
    "2.5 / True"
   ]
  },
  {
   "cell_type": "code",
   "execution_count": 243,
   "id": "1cdf0088-9fae-4ac5-aa87-8deda5b9bc05",
   "metadata": {},
   "outputs": [
    {
     "ename": "TypeError",
     "evalue": "unsupported operand type(s) for /: 'float' and 'str'",
     "output_type": "error",
     "traceback": [
      "\u001b[1;31m---------------------------------------------------------------------------\u001b[0m",
      "\u001b[1;31mTypeError\u001b[0m                                 Traceback (most recent call last)",
      "Cell \u001b[1;32mIn[243], line 2\u001b[0m\n\u001b[0;32m      1\u001b[0m \u001b[38;5;66;03m#float / string:\u001b[39;00m\n\u001b[1;32m----> 2\u001b[0m \u001b[38;5;241m2.5\u001b[39m \u001b[38;5;241m/\u001b[39m \u001b[38;5;124m'\u001b[39m\u001b[38;5;124mHello\u001b[39m\u001b[38;5;124m'\u001b[39m\n",
      "\u001b[1;31mTypeError\u001b[0m: unsupported operand type(s) for /: 'float' and 'str'"
     ]
    }
   ],
   "source": [
    "#float / string:\n",
    "2.5 / 'Hello'"
   ]
  },
  {
   "cell_type": "code",
   "execution_count": 245,
   "id": "d1be22a6-8dd5-4880-b73e-1dcf93f8c39a",
   "metadata": {},
   "outputs": [
    {
     "ename": "TypeError",
     "evalue": "unsupported operand type(s) for /: 'float' and 'NoneType'",
     "output_type": "error",
     "traceback": [
      "\u001b[1;31m---------------------------------------------------------------------------\u001b[0m",
      "\u001b[1;31mTypeError\u001b[0m                                 Traceback (most recent call last)",
      "Cell \u001b[1;32mIn[245], line 2\u001b[0m\n\u001b[0;32m      1\u001b[0m \u001b[38;5;66;03m#float / NoneType: \u001b[39;00m\n\u001b[1;32m----> 2\u001b[0m \u001b[38;5;241m2.5\u001b[39m \u001b[38;5;241m/\u001b[39m \u001b[38;5;28;01mNone\u001b[39;00m\n",
      "\u001b[1;31mTypeError\u001b[0m: unsupported operand type(s) for /: 'float' and 'NoneType'"
     ]
    }
   ],
   "source": [
    "#float / NoneType: \n",
    "2.5 / None"
   ]
  },
  {
   "cell_type": "code",
   "execution_count": 247,
   "id": "6b20349c-87f1-4aab-845d-6518701da6e4",
   "metadata": {},
   "outputs": [
    {
     "ename": "TypeError",
     "evalue": "unsupported operand type(s) for /: 'float' and 'list'",
     "output_type": "error",
     "traceback": [
      "\u001b[1;31m---------------------------------------------------------------------------\u001b[0m",
      "\u001b[1;31mTypeError\u001b[0m                                 Traceback (most recent call last)",
      "Cell \u001b[1;32mIn[247], line 2\u001b[0m\n\u001b[0;32m      1\u001b[0m \u001b[38;5;66;03m#float / list: \u001b[39;00m\n\u001b[1;32m----> 2\u001b[0m \u001b[38;5;241m2.5\u001b[39m \u001b[38;5;241m/\u001b[39m [\u001b[38;5;241m1\u001b[39m, \u001b[38;5;241m2\u001b[39m, \u001b[38;5;241m3\u001b[39m]\n",
      "\u001b[1;31mTypeError\u001b[0m: unsupported operand type(s) for /: 'float' and 'list'"
     ]
    }
   ],
   "source": [
    "#float / list: \n",
    "2.5 / [1, 2, 3]"
   ]
  },
  {
   "cell_type": "code",
   "execution_count": 249,
   "id": "6a61ef77-9730-4bdd-9dc2-2f87bead1baf",
   "metadata": {},
   "outputs": [
    {
     "ename": "TypeError",
     "evalue": "unsupported operand type(s) for /: 'float' and 'set'",
     "output_type": "error",
     "traceback": [
      "\u001b[1;31m---------------------------------------------------------------------------\u001b[0m",
      "\u001b[1;31mTypeError\u001b[0m                                 Traceback (most recent call last)",
      "Cell \u001b[1;32mIn[249], line 2\u001b[0m\n\u001b[0;32m      1\u001b[0m \u001b[38;5;66;03m#float / set: \u001b[39;00m\n\u001b[1;32m----> 2\u001b[0m \u001b[38;5;241m2.5\u001b[39m \u001b[38;5;241m/\u001b[39m {\u001b[38;5;241m1\u001b[39m, \u001b[38;5;241m2\u001b[39m, \u001b[38;5;241m3\u001b[39m}\n",
      "\u001b[1;31mTypeError\u001b[0m: unsupported operand type(s) for /: 'float' and 'set'"
     ]
    }
   ],
   "source": [
    "#float / set: \n",
    "2.5 / {1, 2, 3}"
   ]
  },
  {
   "cell_type": "code",
   "execution_count": 251,
   "id": "94262bd6-c0e8-48d0-b975-55ffcccdee77",
   "metadata": {},
   "outputs": [
    {
     "ename": "TypeError",
     "evalue": "unsupported operand type(s) for /: 'float' and 'dict'",
     "output_type": "error",
     "traceback": [
      "\u001b[1;31m---------------------------------------------------------------------------\u001b[0m",
      "\u001b[1;31mTypeError\u001b[0m                                 Traceback (most recent call last)",
      "Cell \u001b[1;32mIn[251], line 2\u001b[0m\n\u001b[0;32m      1\u001b[0m \u001b[38;5;66;03m#float / dictionary: \u001b[39;00m\n\u001b[1;32m----> 2\u001b[0m \u001b[38;5;241m2.5\u001b[39m \u001b[38;5;241m/\u001b[39m {\u001b[38;5;124m'\u001b[39m\u001b[38;5;124ma\u001b[39m\u001b[38;5;124m'\u001b[39m: \u001b[38;5;241m1\u001b[39m}\n",
      "\u001b[1;31mTypeError\u001b[0m: unsupported operand type(s) for /: 'float' and 'dict'"
     ]
    }
   ],
   "source": [
    "#float / dictionary: \n",
    "2.5 / {'a': 1}"
   ]
  },
  {
   "cell_type": "code",
   "execution_count": 253,
   "id": "1c1657c1-a86c-43fe-b634-e28281e73456",
   "metadata": {},
   "outputs": [
    {
     "ename": "TypeError",
     "evalue": "unsupported operand type(s) for /: 'float' and 'tuple'",
     "output_type": "error",
     "traceback": [
      "\u001b[1;31m---------------------------------------------------------------------------\u001b[0m",
      "\u001b[1;31mTypeError\u001b[0m                                 Traceback (most recent call last)",
      "Cell \u001b[1;32mIn[253], line 2\u001b[0m\n\u001b[0;32m      1\u001b[0m \u001b[38;5;66;03m#float / tuple: \u001b[39;00m\n\u001b[1;32m----> 2\u001b[0m \u001b[38;5;241m2.5\u001b[39m \u001b[38;5;241m/\u001b[39m (\u001b[38;5;241m1\u001b[39m, \u001b[38;5;241m2\u001b[39m, \u001b[38;5;241m3\u001b[39m)\n",
      "\u001b[1;31mTypeError\u001b[0m: unsupported operand type(s) for /: 'float' and 'tuple'"
     ]
    }
   ],
   "source": [
    "#float / tuple: \n",
    "2.5 / (1, 2, 3)"
   ]
  },
  {
   "cell_type": "markdown",
   "id": "23a0d491-a46a-4c43-9d40-7ca52a3c6d70",
   "metadata": {
    "jp-MarkdownHeadingCollapsed": true
   },
   "source": [
    "### Floor Division"
   ]
  },
  {
   "cell_type": "code",
   "execution_count": 255,
   "id": "fb7ffa7f-d792-4936-b9f5-306b54cb48f8",
   "metadata": {},
   "outputs": [
    {
     "data": {
      "text/plain": [
       "0.0"
      ]
     },
     "execution_count": 255,
     "metadata": {},
     "output_type": "execute_result"
    }
   ],
   "source": [
    "#float // int: \n",
    "2.5 // 3 "
   ]
  },
  {
   "cell_type": "code",
   "execution_count": 259,
   "id": "b4574e93-4972-401a-8a15-e679859fa885",
   "metadata": {},
   "outputs": [
    {
     "data": {
      "text/plain": [
       "2.0"
      ]
     },
     "execution_count": 259,
     "metadata": {},
     "output_type": "execute_result"
    }
   ],
   "source": [
    "#float // bool: \n",
    "2.5 // True"
   ]
  },
  {
   "cell_type": "code",
   "execution_count": 261,
   "id": "b7d252e3-3c38-4719-b957-f43b21705b00",
   "metadata": {},
   "outputs": [
    {
     "data": {
      "text/plain": [
       "0.0"
      ]
     },
     "execution_count": 261,
     "metadata": {},
     "output_type": "execute_result"
    }
   ],
   "source": [
    "#float // float: \n",
    "2.5 // 3.5"
   ]
  },
  {
   "cell_type": "code",
   "execution_count": 263,
   "id": "dda5a037-0460-4f49-a3fe-d02986778eb2",
   "metadata": {},
   "outputs": [
    {
     "ename": "TypeError",
     "evalue": "unsupported operand type(s) for //: 'float' and 'str'",
     "output_type": "error",
     "traceback": [
      "\u001b[1;31m---------------------------------------------------------------------------\u001b[0m",
      "\u001b[1;31mTypeError\u001b[0m                                 Traceback (most recent call last)",
      "Cell \u001b[1;32mIn[263], line 2\u001b[0m\n\u001b[0;32m      1\u001b[0m \u001b[38;5;66;03m#float // string: \u001b[39;00m\n\u001b[1;32m----> 2\u001b[0m \u001b[38;5;241m2.5\u001b[39m \u001b[38;5;241m/\u001b[39m\u001b[38;5;241m/\u001b[39m \u001b[38;5;124m'\u001b[39m\u001b[38;5;124mHello\u001b[39m\u001b[38;5;124m'\u001b[39m\n",
      "\u001b[1;31mTypeError\u001b[0m: unsupported operand type(s) for //: 'float' and 'str'"
     ]
    }
   ],
   "source": [
    "#float // string: \n",
    "2.5 // 'Hello'"
   ]
  },
  {
   "cell_type": "code",
   "execution_count": 265,
   "id": "597a6af9-2a41-4015-8679-2caa75d38a0a",
   "metadata": {},
   "outputs": [
    {
     "ename": "TypeError",
     "evalue": "unsupported operand type(s) for //: 'float' and 'NoneType'",
     "output_type": "error",
     "traceback": [
      "\u001b[1;31m---------------------------------------------------------------------------\u001b[0m",
      "\u001b[1;31mTypeError\u001b[0m                                 Traceback (most recent call last)",
      "Cell \u001b[1;32mIn[265], line 2\u001b[0m\n\u001b[0;32m      1\u001b[0m \u001b[38;5;66;03m#float // NoneType:\u001b[39;00m\n\u001b[1;32m----> 2\u001b[0m \u001b[38;5;241m2.5\u001b[39m \u001b[38;5;241m/\u001b[39m\u001b[38;5;241m/\u001b[39m \u001b[38;5;28;01mNone\u001b[39;00m\n",
      "\u001b[1;31mTypeError\u001b[0m: unsupported operand type(s) for //: 'float' and 'NoneType'"
     ]
    }
   ],
   "source": [
    "#float // NoneType:\n",
    "2.5 // None"
   ]
  },
  {
   "cell_type": "code",
   "execution_count": 267,
   "id": "f89dd506-354f-4af2-9c18-c394b0ff3f1e",
   "metadata": {},
   "outputs": [
    {
     "ename": "TypeError",
     "evalue": "unsupported operand type(s) for //: 'float' and 'list'",
     "output_type": "error",
     "traceback": [
      "\u001b[1;31m---------------------------------------------------------------------------\u001b[0m",
      "\u001b[1;31mTypeError\u001b[0m                                 Traceback (most recent call last)",
      "Cell \u001b[1;32mIn[267], line 2\u001b[0m\n\u001b[0;32m      1\u001b[0m \u001b[38;5;66;03m#float // list: \u001b[39;00m\n\u001b[1;32m----> 2\u001b[0m \u001b[38;5;241m2.5\u001b[39m \u001b[38;5;241m/\u001b[39m\u001b[38;5;241m/\u001b[39m [\u001b[38;5;241m1\u001b[39m, \u001b[38;5;241m2\u001b[39m, \u001b[38;5;241m3\u001b[39m]\n",
      "\u001b[1;31mTypeError\u001b[0m: unsupported operand type(s) for //: 'float' and 'list'"
     ]
    }
   ],
   "source": [
    "#float // list: \n",
    "2.5 // [1, 2, 3]"
   ]
  },
  {
   "cell_type": "code",
   "execution_count": 269,
   "id": "de36d1ed-bc7e-45d1-bf3c-f8c6cd3535f9",
   "metadata": {},
   "outputs": [
    {
     "ename": "TypeError",
     "evalue": "unsupported operand type(s) for //: 'float' and 'set'",
     "output_type": "error",
     "traceback": [
      "\u001b[1;31m---------------------------------------------------------------------------\u001b[0m",
      "\u001b[1;31mTypeError\u001b[0m                                 Traceback (most recent call last)",
      "Cell \u001b[1;32mIn[269], line 2\u001b[0m\n\u001b[0;32m      1\u001b[0m \u001b[38;5;66;03m#float // set: \u001b[39;00m\n\u001b[1;32m----> 2\u001b[0m \u001b[38;5;241m2.5\u001b[39m \u001b[38;5;241m/\u001b[39m\u001b[38;5;241m/\u001b[39m {\u001b[38;5;241m1\u001b[39m, \u001b[38;5;241m2\u001b[39m, \u001b[38;5;241m3\u001b[39m}\n",
      "\u001b[1;31mTypeError\u001b[0m: unsupported operand type(s) for //: 'float' and 'set'"
     ]
    }
   ],
   "source": [
    "#float // set: \n",
    "2.5 // {1, 2, 3}"
   ]
  },
  {
   "cell_type": "code",
   "execution_count": 271,
   "id": "f737b8bd-2f9c-4e8e-9d5f-505f4d452a68",
   "metadata": {},
   "outputs": [
    {
     "ename": "TypeError",
     "evalue": "unsupported operand type(s) for //: 'float' and 'dict'",
     "output_type": "error",
     "traceback": [
      "\u001b[1;31m---------------------------------------------------------------------------\u001b[0m",
      "\u001b[1;31mTypeError\u001b[0m                                 Traceback (most recent call last)",
      "Cell \u001b[1;32mIn[271], line 2\u001b[0m\n\u001b[0;32m      1\u001b[0m \u001b[38;5;66;03m#float // dictionary: \u001b[39;00m\n\u001b[1;32m----> 2\u001b[0m \u001b[38;5;241m2.5\u001b[39m \u001b[38;5;241m/\u001b[39m\u001b[38;5;241m/\u001b[39m {\u001b[38;5;124m'\u001b[39m\u001b[38;5;124ma\u001b[39m\u001b[38;5;124m'\u001b[39m: \u001b[38;5;241m1\u001b[39m}\n",
      "\u001b[1;31mTypeError\u001b[0m: unsupported operand type(s) for //: 'float' and 'dict'"
     ]
    }
   ],
   "source": [
    "#float // dictionary: \n",
    "2.5 // {'a': 1}"
   ]
  },
  {
   "cell_type": "code",
   "execution_count": 273,
   "id": "35d00204-7b2b-4caf-8c87-088af96d6401",
   "metadata": {},
   "outputs": [
    {
     "ename": "TypeError",
     "evalue": "unsupported operand type(s) for //: 'float' and 'tuple'",
     "output_type": "error",
     "traceback": [
      "\u001b[1;31m---------------------------------------------------------------------------\u001b[0m",
      "\u001b[1;31mTypeError\u001b[0m                                 Traceback (most recent call last)",
      "Cell \u001b[1;32mIn[273], line 2\u001b[0m\n\u001b[0;32m      1\u001b[0m \u001b[38;5;66;03m#float // tuple: \u001b[39;00m\n\u001b[1;32m----> 2\u001b[0m \u001b[38;5;241m2.5\u001b[39m \u001b[38;5;241m/\u001b[39m\u001b[38;5;241m/\u001b[39m (\u001b[38;5;241m1\u001b[39m, \u001b[38;5;241m2\u001b[39m, \u001b[38;5;241m3\u001b[39m)\n",
      "\u001b[1;31mTypeError\u001b[0m: unsupported operand type(s) for //: 'float' and 'tuple'"
     ]
    }
   ],
   "source": [
    "#float // tuple: \n",
    "2.5 // (1, 2, 3)"
   ]
  },
  {
   "cell_type": "markdown",
   "id": "c115d06c-69cd-4715-afa8-b2663abeebc7",
   "metadata": {},
   "source": [
    "# STRING"
   ]
  },
  {
   "cell_type": "markdown",
   "id": "b2753a79-a385-49f7-91d9-e1c432192687",
   "metadata": {
    "jp-MarkdownHeadingCollapsed": true
   },
   "source": [
    "### Addition"
   ]
  },
  {
   "cell_type": "code",
   "execution_count": 275,
   "id": "3d052b05-f445-4548-9e87-b50125ee4264",
   "metadata": {},
   "outputs": [
    {
     "data": {
      "text/plain": [
       "'HelloWorld'"
      ]
     },
     "execution_count": 275,
     "metadata": {},
     "output_type": "execute_result"
    }
   ],
   "source": [
    "#str + str: \n",
    "'Hello' + 'World'"
   ]
  },
  {
   "cell_type": "code",
   "execution_count": 277,
   "id": "eacc8b6a-c4cf-49de-af1f-b60f55930642",
   "metadata": {},
   "outputs": [
    {
     "ename": "TypeError",
     "evalue": "can only concatenate str (not \"int\") to str",
     "output_type": "error",
     "traceback": [
      "\u001b[1;31m---------------------------------------------------------------------------\u001b[0m",
      "\u001b[1;31mTypeError\u001b[0m                                 Traceback (most recent call last)",
      "Cell \u001b[1;32mIn[277], line 2\u001b[0m\n\u001b[0;32m      1\u001b[0m \u001b[38;5;66;03m#str + int: \u001b[39;00m\n\u001b[1;32m----> 2\u001b[0m \u001b[38;5;124m'\u001b[39m\u001b[38;5;124mHello\u001b[39m\u001b[38;5;124m'\u001b[39m \u001b[38;5;241m+\u001b[39m \u001b[38;5;241m3\u001b[39m\n",
      "\u001b[1;31mTypeError\u001b[0m: can only concatenate str (not \"int\") to str"
     ]
    }
   ],
   "source": [
    "#str + int: \n",
    "'Hello' + 3"
   ]
  },
  {
   "cell_type": "code",
   "execution_count": 279,
   "id": "f0857165-a67e-41d0-9fae-d9cc968aa3fb",
   "metadata": {},
   "outputs": [
    {
     "ename": "TypeError",
     "evalue": "can only concatenate str (not \"float\") to str",
     "output_type": "error",
     "traceback": [
      "\u001b[1;31m---------------------------------------------------------------------------\u001b[0m",
      "\u001b[1;31mTypeError\u001b[0m                                 Traceback (most recent call last)",
      "Cell \u001b[1;32mIn[279], line 2\u001b[0m\n\u001b[0;32m      1\u001b[0m \u001b[38;5;66;03m#str + float: \u001b[39;00m\n\u001b[1;32m----> 2\u001b[0m \u001b[38;5;124m'\u001b[39m\u001b[38;5;124mHello\u001b[39m\u001b[38;5;124m'\u001b[39m \u001b[38;5;241m+\u001b[39m \u001b[38;5;241m2.5\u001b[39m\n",
      "\u001b[1;31mTypeError\u001b[0m: can only concatenate str (not \"float\") to str"
     ]
    }
   ],
   "source": [
    "#str + float: \n",
    "'Hello' + 2.5"
   ]
  },
  {
   "cell_type": "code",
   "execution_count": 283,
   "id": "01888a83-48fc-4723-b937-96268369db18",
   "metadata": {},
   "outputs": [
    {
     "ename": "TypeError",
     "evalue": "can only concatenate str (not \"bool\") to str",
     "output_type": "error",
     "traceback": [
      "\u001b[1;31m---------------------------------------------------------------------------\u001b[0m",
      "\u001b[1;31mTypeError\u001b[0m                                 Traceback (most recent call last)",
      "Cell \u001b[1;32mIn[283], line 2\u001b[0m\n\u001b[0;32m      1\u001b[0m \u001b[38;5;66;03m### str + bool: \u001b[39;00m\n\u001b[1;32m----> 2\u001b[0m \u001b[38;5;124m'\u001b[39m\u001b[38;5;124mHello\u001b[39m\u001b[38;5;124m'\u001b[39m \u001b[38;5;241m+\u001b[39m \u001b[38;5;28;01mTrue\u001b[39;00m\n",
      "\u001b[1;31mTypeError\u001b[0m: can only concatenate str (not \"bool\") to str"
     ]
    }
   ],
   "source": [
    "#str + bool: \n",
    "'Hello' + True"
   ]
  },
  {
   "cell_type": "code",
   "execution_count": 285,
   "id": "35951c37-0755-4626-b0f0-b838bd94799a",
   "metadata": {},
   "outputs": [
    {
     "ename": "TypeError",
     "evalue": "can only concatenate str (not \"NoneType\") to str",
     "output_type": "error",
     "traceback": [
      "\u001b[1;31m---------------------------------------------------------------------------\u001b[0m",
      "\u001b[1;31mTypeError\u001b[0m                                 Traceback (most recent call last)",
      "Cell \u001b[1;32mIn[285], line 2\u001b[0m\n\u001b[0;32m      1\u001b[0m \u001b[38;5;66;03m#str + NoneType: \u001b[39;00m\n\u001b[1;32m----> 2\u001b[0m \u001b[38;5;124m'\u001b[39m\u001b[38;5;124mHello\u001b[39m\u001b[38;5;124m'\u001b[39m \u001b[38;5;241m+\u001b[39m \u001b[38;5;28;01mNone\u001b[39;00m\n",
      "\u001b[1;31mTypeError\u001b[0m: can only concatenate str (not \"NoneType\") to str"
     ]
    }
   ],
   "source": [
    "#str + NoneType: \n",
    "'Hello' + None"
   ]
  },
  {
   "cell_type": "code",
   "execution_count": 287,
   "id": "cbd18145-ad7c-4a1f-818d-cd92aeabc07b",
   "metadata": {},
   "outputs": [
    {
     "ename": "TypeError",
     "evalue": "can only concatenate str (not \"list\") to str",
     "output_type": "error",
     "traceback": [
      "\u001b[1;31m---------------------------------------------------------------------------\u001b[0m",
      "\u001b[1;31mTypeError\u001b[0m                                 Traceback (most recent call last)",
      "Cell \u001b[1;32mIn[287], line 2\u001b[0m\n\u001b[0;32m      1\u001b[0m \u001b[38;5;66;03m#str + list:\u001b[39;00m\n\u001b[1;32m----> 2\u001b[0m \u001b[38;5;124m'\u001b[39m\u001b[38;5;124mHello\u001b[39m\u001b[38;5;124m'\u001b[39m \u001b[38;5;241m+\u001b[39m [\u001b[38;5;241m1\u001b[39m, \u001b[38;5;241m2\u001b[39m, \u001b[38;5;241m3\u001b[39m]\n",
      "\u001b[1;31mTypeError\u001b[0m: can only concatenate str (not \"list\") to str"
     ]
    }
   ],
   "source": [
    "#str + list:\n",
    "'Hello' + [1, 2, 3]"
   ]
  },
  {
   "cell_type": "code",
   "execution_count": 289,
   "id": "f798c64b-a802-4f99-852e-bb3c540cc6a5",
   "metadata": {},
   "outputs": [
    {
     "ename": "TypeError",
     "evalue": "can only concatenate str (not \"set\") to str",
     "output_type": "error",
     "traceback": [
      "\u001b[1;31m---------------------------------------------------------------------------\u001b[0m",
      "\u001b[1;31mTypeError\u001b[0m                                 Traceback (most recent call last)",
      "Cell \u001b[1;32mIn[289], line 2\u001b[0m\n\u001b[0;32m      1\u001b[0m \u001b[38;5;66;03m#str + set:\u001b[39;00m\n\u001b[1;32m----> 2\u001b[0m \u001b[38;5;124m'\u001b[39m\u001b[38;5;124mHello\u001b[39m\u001b[38;5;124m'\u001b[39m \u001b[38;5;241m+\u001b[39m {\u001b[38;5;241m1\u001b[39m, \u001b[38;5;241m2\u001b[39m, \u001b[38;5;241m3\u001b[39m}\n",
      "\u001b[1;31mTypeError\u001b[0m: can only concatenate str (not \"set\") to str"
     ]
    }
   ],
   "source": [
    "#str + set:\n",
    "'Hello' + {1, 2, 3}"
   ]
  },
  {
   "cell_type": "code",
   "execution_count": 291,
   "id": "b7913ead-1a4b-4e13-9b3c-6c3d832d775c",
   "metadata": {},
   "outputs": [
    {
     "ename": "TypeError",
     "evalue": "can only concatenate str (not \"dict\") to str",
     "output_type": "error",
     "traceback": [
      "\u001b[1;31m---------------------------------------------------------------------------\u001b[0m",
      "\u001b[1;31mTypeError\u001b[0m                                 Traceback (most recent call last)",
      "Cell \u001b[1;32mIn[291], line 2\u001b[0m\n\u001b[0;32m      1\u001b[0m \u001b[38;5;66;03m#str + dict:\u001b[39;00m\n\u001b[1;32m----> 2\u001b[0m \u001b[38;5;124m'\u001b[39m\u001b[38;5;124mHello\u001b[39m\u001b[38;5;124m'\u001b[39m \u001b[38;5;241m+\u001b[39m {\u001b[38;5;124m'\u001b[39m\u001b[38;5;124ma\u001b[39m\u001b[38;5;124m'\u001b[39m: \u001b[38;5;241m1\u001b[39m}\n",
      "\u001b[1;31mTypeError\u001b[0m: can only concatenate str (not \"dict\") to str"
     ]
    }
   ],
   "source": [
    "#str + dict:\n",
    "'Hello' + {'a': 1}"
   ]
  },
  {
   "cell_type": "code",
   "execution_count": 293,
   "id": "20121916-998c-4313-a0b8-999fbba86bf4",
   "metadata": {},
   "outputs": [
    {
     "ename": "TypeError",
     "evalue": "can only concatenate str (not \"tuple\") to str",
     "output_type": "error",
     "traceback": [
      "\u001b[1;31m---------------------------------------------------------------------------\u001b[0m",
      "\u001b[1;31mTypeError\u001b[0m                                 Traceback (most recent call last)",
      "Cell \u001b[1;32mIn[293], line 2\u001b[0m\n\u001b[0;32m      1\u001b[0m \u001b[38;5;66;03m#str + tuple: \u001b[39;00m\n\u001b[1;32m----> 2\u001b[0m \u001b[38;5;124m'\u001b[39m\u001b[38;5;124mHello\u001b[39m\u001b[38;5;124m'\u001b[39m \u001b[38;5;241m+\u001b[39m (\u001b[38;5;241m1\u001b[39m, \u001b[38;5;241m2\u001b[39m, \u001b[38;5;241m3\u001b[39m)\n",
      "\u001b[1;31mTypeError\u001b[0m: can only concatenate str (not \"tuple\") to str"
     ]
    }
   ],
   "source": [
    "#str + tuple: \n",
    "'Hello' + (1, 2, 3)"
   ]
  },
  {
   "cell_type": "markdown",
   "id": "4858aae0-93e7-456f-b85f-019a9a752dec",
   "metadata": {
    "jp-MarkdownHeadingCollapsed": true
   },
   "source": [
    "### Substraction"
   ]
  },
  {
   "cell_type": "code",
   "execution_count": 295,
   "id": "d3dabf0c-d93d-46a1-9b90-6d41a9414a98",
   "metadata": {},
   "outputs": [
    {
     "ename": "TypeError",
     "evalue": "unsupported operand type(s) for -: 'str' and 'str'",
     "output_type": "error",
     "traceback": [
      "\u001b[1;31m---------------------------------------------------------------------------\u001b[0m",
      "\u001b[1;31mTypeError\u001b[0m                                 Traceback (most recent call last)",
      "Cell \u001b[1;32mIn[295], line 2\u001b[0m\n\u001b[0;32m      1\u001b[0m \u001b[38;5;66;03m#str - str: \u001b[39;00m\n\u001b[1;32m----> 2\u001b[0m \u001b[38;5;124m'\u001b[39m\u001b[38;5;124mHello\u001b[39m\u001b[38;5;124m'\u001b[39m \u001b[38;5;241m-\u001b[39m \u001b[38;5;124m'\u001b[39m\u001b[38;5;124mWorld\u001b[39m\u001b[38;5;124m'\u001b[39m\n",
      "\u001b[1;31mTypeError\u001b[0m: unsupported operand type(s) for -: 'str' and 'str'"
     ]
    }
   ],
   "source": [
    "#str - str: \n",
    "'Hello' - 'World'"
   ]
  },
  {
   "cell_type": "code",
   "execution_count": 297,
   "id": "3e8624f5-a39f-43f0-96df-e66ba93e0802",
   "metadata": {},
   "outputs": [
    {
     "ename": "TypeError",
     "evalue": "unsupported operand type(s) for -: 'str' and 'int'",
     "output_type": "error",
     "traceback": [
      "\u001b[1;31m---------------------------------------------------------------------------\u001b[0m",
      "\u001b[1;31mTypeError\u001b[0m                                 Traceback (most recent call last)",
      "Cell \u001b[1;32mIn[297], line 2\u001b[0m\n\u001b[0;32m      1\u001b[0m \u001b[38;5;66;03m#str - int: \u001b[39;00m\n\u001b[1;32m----> 2\u001b[0m \u001b[38;5;124m'\u001b[39m\u001b[38;5;124mHello\u001b[39m\u001b[38;5;124m'\u001b[39m \u001b[38;5;241m-\u001b[39m \u001b[38;5;241m3\u001b[39m\n",
      "\u001b[1;31mTypeError\u001b[0m: unsupported operand type(s) for -: 'str' and 'int'"
     ]
    }
   ],
   "source": [
    "#str - int: \n",
    "'Hello' - 3"
   ]
  },
  {
   "cell_type": "code",
   "execution_count": 299,
   "id": "cbab8383-caa9-4d6f-ae40-753ae7093ed4",
   "metadata": {},
   "outputs": [
    {
     "ename": "TypeError",
     "evalue": "unsupported operand type(s) for -: 'str' and 'float'",
     "output_type": "error",
     "traceback": [
      "\u001b[1;31m---------------------------------------------------------------------------\u001b[0m",
      "\u001b[1;31mTypeError\u001b[0m                                 Traceback (most recent call last)",
      "Cell \u001b[1;32mIn[299], line 2\u001b[0m\n\u001b[0;32m      1\u001b[0m \u001b[38;5;66;03m#str - float:\u001b[39;00m\n\u001b[1;32m----> 2\u001b[0m \u001b[38;5;124m'\u001b[39m\u001b[38;5;124mHello\u001b[39m\u001b[38;5;124m'\u001b[39m \u001b[38;5;241m-\u001b[39m \u001b[38;5;241m2.5\u001b[39m\n",
      "\u001b[1;31mTypeError\u001b[0m: unsupported operand type(s) for -: 'str' and 'float'"
     ]
    }
   ],
   "source": [
    "#str - float:\n",
    "'Hello' - 2.5"
   ]
  },
  {
   "cell_type": "code",
   "execution_count": 301,
   "id": "2a66a49f-3ba4-4cc0-9133-d6386b5a3127",
   "metadata": {},
   "outputs": [
    {
     "ename": "TypeError",
     "evalue": "unsupported operand type(s) for -: 'str' and 'bool'",
     "output_type": "error",
     "traceback": [
      "\u001b[1;31m---------------------------------------------------------------------------\u001b[0m",
      "\u001b[1;31mTypeError\u001b[0m                                 Traceback (most recent call last)",
      "Cell \u001b[1;32mIn[301], line 2\u001b[0m\n\u001b[0;32m      1\u001b[0m \u001b[38;5;66;03m#Str - bool: \u001b[39;00m\n\u001b[1;32m----> 2\u001b[0m \u001b[38;5;124m'\u001b[39m\u001b[38;5;124mHello\u001b[39m\u001b[38;5;124m'\u001b[39m \u001b[38;5;241m-\u001b[39m \u001b[38;5;28;01mTrue\u001b[39;00m\n",
      "\u001b[1;31mTypeError\u001b[0m: unsupported operand type(s) for -: 'str' and 'bool'"
     ]
    }
   ],
   "source": [
    "#Str - bool: \n",
    "'Hello' - True"
   ]
  },
  {
   "cell_type": "code",
   "execution_count": 303,
   "id": "5950523b-d7d1-4956-a3f4-8e210c7cf350",
   "metadata": {},
   "outputs": [
    {
     "ename": "TypeError",
     "evalue": "unsupported operand type(s) for -: 'str' and 'NoneType'",
     "output_type": "error",
     "traceback": [
      "\u001b[1;31m---------------------------------------------------------------------------\u001b[0m",
      "\u001b[1;31mTypeError\u001b[0m                                 Traceback (most recent call last)",
      "Cell \u001b[1;32mIn[303], line 2\u001b[0m\n\u001b[0;32m      1\u001b[0m \u001b[38;5;66;03m#str - NoneType: \u001b[39;00m\n\u001b[1;32m----> 2\u001b[0m \u001b[38;5;124m'\u001b[39m\u001b[38;5;124mHello\u001b[39m\u001b[38;5;124m'\u001b[39m \u001b[38;5;241m-\u001b[39m \u001b[38;5;28;01mNone\u001b[39;00m\n",
      "\u001b[1;31mTypeError\u001b[0m: unsupported operand type(s) for -: 'str' and 'NoneType'"
     ]
    }
   ],
   "source": [
    "#str - NoneType: \n",
    "'Hello' - None"
   ]
  },
  {
   "cell_type": "code",
   "execution_count": 305,
   "id": "e1daa227-3ef0-45aa-89b6-9c95a9320af2",
   "metadata": {},
   "outputs": [
    {
     "ename": "TypeError",
     "evalue": "unsupported operand type(s) for -: 'str' and 'list'",
     "output_type": "error",
     "traceback": [
      "\u001b[1;31m---------------------------------------------------------------------------\u001b[0m",
      "\u001b[1;31mTypeError\u001b[0m                                 Traceback (most recent call last)",
      "Cell \u001b[1;32mIn[305], line 2\u001b[0m\n\u001b[0;32m      1\u001b[0m \u001b[38;5;66;03m#str - list: \u001b[39;00m\n\u001b[1;32m----> 2\u001b[0m \u001b[38;5;124m'\u001b[39m\u001b[38;5;124mHello\u001b[39m\u001b[38;5;124m'\u001b[39m \u001b[38;5;241m-\u001b[39m [\u001b[38;5;241m1\u001b[39m, \u001b[38;5;241m2\u001b[39m, \u001b[38;5;241m3\u001b[39m]\n",
      "\u001b[1;31mTypeError\u001b[0m: unsupported operand type(s) for -: 'str' and 'list'"
     ]
    }
   ],
   "source": [
    "#str - list: \n",
    "'Hello' - [1, 2, 3]"
   ]
  },
  {
   "cell_type": "code",
   "execution_count": 307,
   "id": "3eb162fc-6420-441a-b062-05a19b6d504b",
   "metadata": {},
   "outputs": [
    {
     "ename": "TypeError",
     "evalue": "unsupported operand type(s) for -: 'str' and 'set'",
     "output_type": "error",
     "traceback": [
      "\u001b[1;31m---------------------------------------------------------------------------\u001b[0m",
      "\u001b[1;31mTypeError\u001b[0m                                 Traceback (most recent call last)",
      "Cell \u001b[1;32mIn[307], line 2\u001b[0m\n\u001b[0;32m      1\u001b[0m \u001b[38;5;66;03m#str - set:\u001b[39;00m\n\u001b[1;32m----> 2\u001b[0m \u001b[38;5;124m'\u001b[39m\u001b[38;5;124mHello\u001b[39m\u001b[38;5;124m'\u001b[39m \u001b[38;5;241m-\u001b[39m {\u001b[38;5;241m1\u001b[39m, \u001b[38;5;241m2\u001b[39m, \u001b[38;5;241m3\u001b[39m}\n",
      "\u001b[1;31mTypeError\u001b[0m: unsupported operand type(s) for -: 'str' and 'set'"
     ]
    }
   ],
   "source": [
    "#str - set:\n",
    "'Hello' - {1, 2, 3}"
   ]
  },
  {
   "cell_type": "code",
   "execution_count": 309,
   "id": "436a165d-25cd-4021-83c0-fca5843b3fe9",
   "metadata": {},
   "outputs": [
    {
     "ename": "TypeError",
     "evalue": "unsupported operand type(s) for -: 'str' and 'dict'",
     "output_type": "error",
     "traceback": [
      "\u001b[1;31m---------------------------------------------------------------------------\u001b[0m",
      "\u001b[1;31mTypeError\u001b[0m                                 Traceback (most recent call last)",
      "Cell \u001b[1;32mIn[309], line 2\u001b[0m\n\u001b[0;32m      1\u001b[0m \u001b[38;5;66;03m#str - dict: \u001b[39;00m\n\u001b[1;32m----> 2\u001b[0m \u001b[38;5;124m'\u001b[39m\u001b[38;5;124mHello\u001b[39m\u001b[38;5;124m'\u001b[39m \u001b[38;5;241m-\u001b[39m {\u001b[38;5;124m'\u001b[39m\u001b[38;5;124ma\u001b[39m\u001b[38;5;124m'\u001b[39m: \u001b[38;5;241m1\u001b[39m}\n",
      "\u001b[1;31mTypeError\u001b[0m: unsupported operand type(s) for -: 'str' and 'dict'"
     ]
    }
   ],
   "source": [
    "#str - dict: \n",
    "'Hello' - {'a': 1}"
   ]
  },
  {
   "cell_type": "code",
   "execution_count": 311,
   "id": "db22d093-1944-4eca-883a-5c3826a905a6",
   "metadata": {},
   "outputs": [
    {
     "ename": "TypeError",
     "evalue": "unsupported operand type(s) for -: 'str' and 'tuple'",
     "output_type": "error",
     "traceback": [
      "\u001b[1;31m---------------------------------------------------------------------------\u001b[0m",
      "\u001b[1;31mTypeError\u001b[0m                                 Traceback (most recent call last)",
      "Cell \u001b[1;32mIn[311], line 2\u001b[0m\n\u001b[0;32m      1\u001b[0m \u001b[38;5;66;03m#str - tuple:\u001b[39;00m\n\u001b[1;32m----> 2\u001b[0m \u001b[38;5;124m'\u001b[39m\u001b[38;5;124mHello\u001b[39m\u001b[38;5;124m'\u001b[39m \u001b[38;5;241m-\u001b[39m (\u001b[38;5;241m1\u001b[39m, \u001b[38;5;241m2\u001b[39m, \u001b[38;5;241m3\u001b[39m)\n",
      "\u001b[1;31mTypeError\u001b[0m: unsupported operand type(s) for -: 'str' and 'tuple'"
     ]
    }
   ],
   "source": [
    "#str - tuple:\n",
    "'Hello' - (1, 2, 3)"
   ]
  },
  {
   "cell_type": "markdown",
   "id": "3998314f-fa2f-495f-b5a0-68ffeee62d1f",
   "metadata": {
    "jp-MarkdownHeadingCollapsed": true
   },
   "source": [
    "### Exponentiation"
   ]
  },
  {
   "cell_type": "code",
   "execution_count": 313,
   "id": "13b6ae19-be08-45cf-9157-d40821247a3d",
   "metadata": {},
   "outputs": [
    {
     "ename": "TypeError",
     "evalue": "unsupported operand type(s) for ** or pow(): 'str' and 'int'",
     "output_type": "error",
     "traceback": [
      "\u001b[1;31m---------------------------------------------------------------------------\u001b[0m",
      "\u001b[1;31mTypeError\u001b[0m                                 Traceback (most recent call last)",
      "Cell \u001b[1;32mIn[313], line 2\u001b[0m\n\u001b[0;32m      1\u001b[0m \u001b[38;5;66;03m#str ** int: \u001b[39;00m\n\u001b[1;32m----> 2\u001b[0m \u001b[38;5;124m'\u001b[39m\u001b[38;5;124mHello\u001b[39m\u001b[38;5;124m'\u001b[39m \u001b[38;5;241m*\u001b[39m\u001b[38;5;241m*\u001b[39m \u001b[38;5;241m3\u001b[39m\n",
      "\u001b[1;31mTypeError\u001b[0m: unsupported operand type(s) for ** or pow(): 'str' and 'int'"
     ]
    }
   ],
   "source": [
    "#str ** int: \n",
    "'Hello' ** 3 "
   ]
  },
  {
   "cell_type": "code",
   "execution_count": 113,
   "id": "1b80b093-30c3-4a29-b1dc-6441d35b0f9e",
   "metadata": {},
   "outputs": [
    {
     "ename": "TypeError",
     "evalue": "unsupported operand type(s) for ** or pow(): 'str' and 'str'",
     "output_type": "error",
     "traceback": [
      "\u001b[1;31m---------------------------------------------------------------------------\u001b[0m",
      "\u001b[1;31mTypeError\u001b[0m                                 Traceback (most recent call last)",
      "Cell \u001b[1;32mIn[113], line 2\u001b[0m\n\u001b[0;32m      1\u001b[0m \u001b[38;5;66;03m#str ** str: \u001b[39;00m\n\u001b[1;32m----> 2\u001b[0m \u001b[38;5;124m'\u001b[39m\u001b[38;5;124mHello\u001b[39m\u001b[38;5;124m'\u001b[39m \u001b[38;5;241m*\u001b[39m\u001b[38;5;241m*\u001b[39m \u001b[38;5;124m'\u001b[39m\u001b[38;5;124mfriend\u001b[39m\u001b[38;5;124m'\u001b[39m\n",
      "\u001b[1;31mTypeError\u001b[0m: unsupported operand type(s) for ** or pow(): 'str' and 'str'"
     ]
    }
   ],
   "source": [
    "#str ** str: \n",
    "'Hello' ** 'friend' "
   ]
  },
  {
   "cell_type": "code",
   "execution_count": 317,
   "id": "97988bd0-25d3-40b7-a39d-db6f7acfdb45",
   "metadata": {},
   "outputs": [
    {
     "ename": "TypeError",
     "evalue": "unsupported operand type(s) for ** or pow(): 'str' and 'float'",
     "output_type": "error",
     "traceback": [
      "\u001b[1;31m---------------------------------------------------------------------------\u001b[0m",
      "\u001b[1;31mTypeError\u001b[0m                                 Traceback (most recent call last)",
      "Cell \u001b[1;32mIn[317], line 2\u001b[0m\n\u001b[0;32m      1\u001b[0m \u001b[38;5;66;03m#str ** float: \u001b[39;00m\n\u001b[1;32m----> 2\u001b[0m \u001b[38;5;124m'\u001b[39m\u001b[38;5;124mHello\u001b[39m\u001b[38;5;124m'\u001b[39m \u001b[38;5;241m*\u001b[39m\u001b[38;5;241m*\u001b[39m \u001b[38;5;241m2.5\u001b[39m\n",
      "\u001b[1;31mTypeError\u001b[0m: unsupported operand type(s) for ** or pow(): 'str' and 'float'"
     ]
    }
   ],
   "source": [
    "#str ** float: \n",
    "'Hello' ** 2.5"
   ]
  },
  {
   "cell_type": "code",
   "execution_count": 319,
   "id": "d69d6447-fde0-4444-a0c3-d1cd4cd2ab89",
   "metadata": {},
   "outputs": [
    {
     "ename": "TypeError",
     "evalue": "unsupported operand type(s) for ** or pow(): 'str' and 'bool'",
     "output_type": "error",
     "traceback": [
      "\u001b[1;31m---------------------------------------------------------------------------\u001b[0m",
      "\u001b[1;31mTypeError\u001b[0m                                 Traceback (most recent call last)",
      "Cell \u001b[1;32mIn[319], line 2\u001b[0m\n\u001b[0;32m      1\u001b[0m \u001b[38;5;66;03m#str ** bool: \u001b[39;00m\n\u001b[1;32m----> 2\u001b[0m \u001b[38;5;124m'\u001b[39m\u001b[38;5;124mHello\u001b[39m\u001b[38;5;124m'\u001b[39m \u001b[38;5;241m*\u001b[39m\u001b[38;5;241m*\u001b[39m \u001b[38;5;28;01mTrue\u001b[39;00m\n",
      "\u001b[1;31mTypeError\u001b[0m: unsupported operand type(s) for ** or pow(): 'str' and 'bool'"
     ]
    }
   ],
   "source": [
    "#str ** bool: \n",
    "'Hello' ** True"
   ]
  },
  {
   "cell_type": "code",
   "execution_count": 321,
   "id": "12fb0b02-11f4-4f7a-b1eb-c764ec10a15b",
   "metadata": {},
   "outputs": [
    {
     "ename": "TypeError",
     "evalue": "unsupported operand type(s) for ** or pow(): 'str' and 'NoneType'",
     "output_type": "error",
     "traceback": [
      "\u001b[1;31m---------------------------------------------------------------------------\u001b[0m",
      "\u001b[1;31mTypeError\u001b[0m                                 Traceback (most recent call last)",
      "Cell \u001b[1;32mIn[321], line 2\u001b[0m\n\u001b[0;32m      1\u001b[0m \u001b[38;5;66;03m#str ** NoneType: \u001b[39;00m\n\u001b[1;32m----> 2\u001b[0m \u001b[38;5;124m'\u001b[39m\u001b[38;5;124mHello\u001b[39m\u001b[38;5;124m'\u001b[39m \u001b[38;5;241m*\u001b[39m\u001b[38;5;241m*\u001b[39m \u001b[38;5;28;01mNone\u001b[39;00m\n",
      "\u001b[1;31mTypeError\u001b[0m: unsupported operand type(s) for ** or pow(): 'str' and 'NoneType'"
     ]
    }
   ],
   "source": [
    "#str ** NoneType: \n",
    "'Hello' ** None"
   ]
  },
  {
   "cell_type": "code",
   "execution_count": 323,
   "id": "ce0e3541-d0a0-4e1f-b341-12dbbb418ffb",
   "metadata": {},
   "outputs": [
    {
     "ename": "TypeError",
     "evalue": "unsupported operand type(s) for ** or pow(): 'str' and 'list'",
     "output_type": "error",
     "traceback": [
      "\u001b[1;31m---------------------------------------------------------------------------\u001b[0m",
      "\u001b[1;31mTypeError\u001b[0m                                 Traceback (most recent call last)",
      "Cell \u001b[1;32mIn[323], line 2\u001b[0m\n\u001b[0;32m      1\u001b[0m \u001b[38;5;66;03m#str ** list: \u001b[39;00m\n\u001b[1;32m----> 2\u001b[0m \u001b[38;5;124m'\u001b[39m\u001b[38;5;124mHello\u001b[39m\u001b[38;5;124m'\u001b[39m \u001b[38;5;241m*\u001b[39m\u001b[38;5;241m*\u001b[39m [\u001b[38;5;241m1\u001b[39m, \u001b[38;5;241m2\u001b[39m, \u001b[38;5;241m3\u001b[39m]\n",
      "\u001b[1;31mTypeError\u001b[0m: unsupported operand type(s) for ** or pow(): 'str' and 'list'"
     ]
    }
   ],
   "source": [
    "#str ** list: \n",
    "'Hello' ** [1, 2, 3]"
   ]
  },
  {
   "cell_type": "code",
   "execution_count": 327,
   "id": "a56aa18b-f145-49db-ba37-43e72983ea7e",
   "metadata": {},
   "outputs": [
    {
     "ename": "TypeError",
     "evalue": "unsupported operand type(s) for ** or pow(): 'str' and 'set'",
     "output_type": "error",
     "traceback": [
      "\u001b[1;31m---------------------------------------------------------------------------\u001b[0m",
      "\u001b[1;31mTypeError\u001b[0m                                 Traceback (most recent call last)",
      "Cell \u001b[1;32mIn[327], line 2\u001b[0m\n\u001b[0;32m      1\u001b[0m \u001b[38;5;66;03m#str ** set:\u001b[39;00m\n\u001b[1;32m----> 2\u001b[0m \u001b[38;5;124m'\u001b[39m\u001b[38;5;124mHello\u001b[39m\u001b[38;5;124m'\u001b[39m \u001b[38;5;241m*\u001b[39m\u001b[38;5;241m*\u001b[39m {\u001b[38;5;241m1\u001b[39m, \u001b[38;5;241m2\u001b[39m, \u001b[38;5;241m3\u001b[39m}\n",
      "\u001b[1;31mTypeError\u001b[0m: unsupported operand type(s) for ** or pow(): 'str' and 'set'"
     ]
    }
   ],
   "source": [
    "#str ** set:\n",
    "'Hello' ** {1, 2, 3}"
   ]
  },
  {
   "cell_type": "code",
   "execution_count": 329,
   "id": "1bb0e8bb-084f-4263-8874-b446fcaac4a0",
   "metadata": {},
   "outputs": [
    {
     "ename": "TypeError",
     "evalue": "unsupported operand type(s) for ** or pow(): 'str' and 'dict'",
     "output_type": "error",
     "traceback": [
      "\u001b[1;31m---------------------------------------------------------------------------\u001b[0m",
      "\u001b[1;31mTypeError\u001b[0m                                 Traceback (most recent call last)",
      "Cell \u001b[1;32mIn[329], line 2\u001b[0m\n\u001b[0;32m      1\u001b[0m \u001b[38;5;66;03m#str ** dict: \u001b[39;00m\n\u001b[1;32m----> 2\u001b[0m \u001b[38;5;124m'\u001b[39m\u001b[38;5;124mHello\u001b[39m\u001b[38;5;124m'\u001b[39m \u001b[38;5;241m*\u001b[39m\u001b[38;5;241m*\u001b[39m {\u001b[38;5;124m'\u001b[39m\u001b[38;5;124ma\u001b[39m\u001b[38;5;124m'\u001b[39m: \u001b[38;5;241m1\u001b[39m}\n",
      "\u001b[1;31mTypeError\u001b[0m: unsupported operand type(s) for ** or pow(): 'str' and 'dict'"
     ]
    }
   ],
   "source": [
    "#str ** dict: \n",
    "'Hello' ** {'a': 1}"
   ]
  },
  {
   "cell_type": "code",
   "execution_count": 333,
   "id": "6bf223a0-f88d-4de9-8424-607457e7f6b4",
   "metadata": {},
   "outputs": [
    {
     "ename": "TypeError",
     "evalue": "unsupported operand type(s) for ** or pow(): 'str' and 'tuple'",
     "output_type": "error",
     "traceback": [
      "\u001b[1;31m---------------------------------------------------------------------------\u001b[0m",
      "\u001b[1;31mTypeError\u001b[0m                                 Traceback (most recent call last)",
      "Cell \u001b[1;32mIn[333], line 2\u001b[0m\n\u001b[0;32m      1\u001b[0m \u001b[38;5;66;03m# str ** tuple: \u001b[39;00m\n\u001b[1;32m----> 2\u001b[0m \u001b[38;5;124m'\u001b[39m\u001b[38;5;124mHello\u001b[39m\u001b[38;5;124m'\u001b[39m \u001b[38;5;241m*\u001b[39m\u001b[38;5;241m*\u001b[39m (\u001b[38;5;241m1\u001b[39m, \u001b[38;5;241m2\u001b[39m, \u001b[38;5;241m3\u001b[39m)\n",
      "\u001b[1;31mTypeError\u001b[0m: unsupported operand type(s) for ** or pow(): 'str' and 'tuple'"
     ]
    }
   ],
   "source": [
    "# str ** tuple: \n",
    "'Hello' ** (1, 2, 3)"
   ]
  },
  {
   "cell_type": "markdown",
   "id": "2d43ed64-60d1-4f2e-8653-1fcdb00f56af",
   "metadata": {
    "jp-MarkdownHeadingCollapsed": true
   },
   "source": [
    "### Multiplication"
   ]
  },
  {
   "cell_type": "code",
   "execution_count": 349,
   "id": "99844dc5-29c6-4968-84bc-443d409230a1",
   "metadata": {},
   "outputs": [
    {
     "data": {
      "text/plain": [
       "'HelloHelloHello'"
      ]
     },
     "execution_count": 349,
     "metadata": {},
     "output_type": "execute_result"
    }
   ],
   "source": [
    "#str * int: \n",
    "'Hello' * 3"
   ]
  },
  {
   "cell_type": "code",
   "execution_count": 351,
   "id": "f01934bf-43c6-4560-bd22-a5439e6b2279",
   "metadata": {},
   "outputs": [
    {
     "ename": "TypeError",
     "evalue": "can't multiply sequence by non-int of type 'float'",
     "output_type": "error",
     "traceback": [
      "\u001b[1;31m---------------------------------------------------------------------------\u001b[0m",
      "\u001b[1;31mTypeError\u001b[0m                                 Traceback (most recent call last)",
      "Cell \u001b[1;32mIn[351], line 2\u001b[0m\n\u001b[0;32m      1\u001b[0m \u001b[38;5;66;03m#str * float: \u001b[39;00m\n\u001b[1;32m----> 2\u001b[0m \u001b[38;5;124m'\u001b[39m\u001b[38;5;124mHello\u001b[39m\u001b[38;5;124m'\u001b[39m \u001b[38;5;241m*\u001b[39m \u001b[38;5;241m2.5\u001b[39m\n",
      "\u001b[1;31mTypeError\u001b[0m: can't multiply sequence by non-int of type 'float'"
     ]
    }
   ],
   "source": [
    "#str * float: \n",
    "'Hello' * 2.5"
   ]
  },
  {
   "cell_type": "code",
   "execution_count": 353,
   "id": "ebec3290-5ba4-4370-b129-fb74e6768b94",
   "metadata": {},
   "outputs": [
    {
     "data": {
      "text/plain": [
       "'Hello'"
      ]
     },
     "execution_count": 353,
     "metadata": {},
     "output_type": "execute_result"
    }
   ],
   "source": [
    "#str * bool: \n",
    "'Hello' * True"
   ]
  },
  {
   "cell_type": "code",
   "execution_count": 355,
   "id": "f5059916-9ae5-4d48-82ee-e57252f3e650",
   "metadata": {},
   "outputs": [
    {
     "ename": "TypeError",
     "evalue": "can't multiply sequence by non-int of type 'NoneType'",
     "output_type": "error",
     "traceback": [
      "\u001b[1;31m---------------------------------------------------------------------------\u001b[0m",
      "\u001b[1;31mTypeError\u001b[0m                                 Traceback (most recent call last)",
      "Cell \u001b[1;32mIn[355], line 2\u001b[0m\n\u001b[0;32m      1\u001b[0m \u001b[38;5;66;03m#str * NoneType: \u001b[39;00m\n\u001b[1;32m----> 2\u001b[0m \u001b[38;5;124m'\u001b[39m\u001b[38;5;124mHello\u001b[39m\u001b[38;5;124m'\u001b[39m \u001b[38;5;241m*\u001b[39m \u001b[38;5;28;01mNone\u001b[39;00m\n",
      "\u001b[1;31mTypeError\u001b[0m: can't multiply sequence by non-int of type 'NoneType'"
     ]
    }
   ],
   "source": [
    "#str * NoneType: \n",
    "'Hello' * None"
   ]
  },
  {
   "cell_type": "code",
   "execution_count": 357,
   "id": "fa5c9ea4-e90e-4b53-a169-657f105a65e0",
   "metadata": {},
   "outputs": [
    {
     "ename": "TypeError",
     "evalue": "can't multiply sequence by non-int of type 'list'",
     "output_type": "error",
     "traceback": [
      "\u001b[1;31m---------------------------------------------------------------------------\u001b[0m",
      "\u001b[1;31mTypeError\u001b[0m                                 Traceback (most recent call last)",
      "Cell \u001b[1;32mIn[357], line 2\u001b[0m\n\u001b[0;32m      1\u001b[0m \u001b[38;5;66;03m#str * list:\u001b[39;00m\n\u001b[1;32m----> 2\u001b[0m \u001b[38;5;124m'\u001b[39m\u001b[38;5;124mHello\u001b[39m\u001b[38;5;124m'\u001b[39m \u001b[38;5;241m*\u001b[39m [\u001b[38;5;241m1\u001b[39m, \u001b[38;5;241m2\u001b[39m, \u001b[38;5;241m3\u001b[39m]\n",
      "\u001b[1;31mTypeError\u001b[0m: can't multiply sequence by non-int of type 'list'"
     ]
    }
   ],
   "source": [
    "#str * list:\n",
    "'Hello' * [1, 2, 3]"
   ]
  },
  {
   "cell_type": "code",
   "execution_count": 359,
   "id": "976b4dd8-ea56-4730-9ca6-5f05c46111ac",
   "metadata": {},
   "outputs": [
    {
     "ename": "TypeError",
     "evalue": "can't multiply sequence by non-int of type 'set'",
     "output_type": "error",
     "traceback": [
      "\u001b[1;31m---------------------------------------------------------------------------\u001b[0m",
      "\u001b[1;31mTypeError\u001b[0m                                 Traceback (most recent call last)",
      "Cell \u001b[1;32mIn[359], line 2\u001b[0m\n\u001b[0;32m      1\u001b[0m \u001b[38;5;66;03m#str * set: \u001b[39;00m\n\u001b[1;32m----> 2\u001b[0m \u001b[38;5;124m'\u001b[39m\u001b[38;5;124mHello\u001b[39m\u001b[38;5;124m'\u001b[39m \u001b[38;5;241m*\u001b[39m {\u001b[38;5;241m1\u001b[39m, \u001b[38;5;241m2\u001b[39m, \u001b[38;5;241m3\u001b[39m}\n",
      "\u001b[1;31mTypeError\u001b[0m: can't multiply sequence by non-int of type 'set'"
     ]
    }
   ],
   "source": [
    "#str * set: \n",
    "'Hello' * {1, 2, 3}"
   ]
  },
  {
   "cell_type": "code",
   "execution_count": 361,
   "id": "03de981d-258c-46c7-b27e-c20595dd93be",
   "metadata": {},
   "outputs": [
    {
     "ename": "TypeError",
     "evalue": "can't multiply sequence by non-int of type 'dict'",
     "output_type": "error",
     "traceback": [
      "\u001b[1;31m---------------------------------------------------------------------------\u001b[0m",
      "\u001b[1;31mTypeError\u001b[0m                                 Traceback (most recent call last)",
      "Cell \u001b[1;32mIn[361], line 2\u001b[0m\n\u001b[0;32m      1\u001b[0m \u001b[38;5;66;03m#str * dict: \u001b[39;00m\n\u001b[1;32m----> 2\u001b[0m \u001b[38;5;124m'\u001b[39m\u001b[38;5;124mHello\u001b[39m\u001b[38;5;124m'\u001b[39m \u001b[38;5;241m*\u001b[39m {\u001b[38;5;124m'\u001b[39m\u001b[38;5;124ma\u001b[39m\u001b[38;5;124m'\u001b[39m: \u001b[38;5;241m1\u001b[39m}\n",
      "\u001b[1;31mTypeError\u001b[0m: can't multiply sequence by non-int of type 'dict'"
     ]
    }
   ],
   "source": [
    "#str * dict: \n",
    "'Hello' * {'a': 1}"
   ]
  },
  {
   "cell_type": "code",
   "execution_count": 363,
   "id": "13b46efc-7b31-480a-bb6c-a9c1601c5b37",
   "metadata": {},
   "outputs": [
    {
     "ename": "TypeError",
     "evalue": "can't multiply sequence by non-int of type 'tuple'",
     "output_type": "error",
     "traceback": [
      "\u001b[1;31m---------------------------------------------------------------------------\u001b[0m",
      "\u001b[1;31mTypeError\u001b[0m                                 Traceback (most recent call last)",
      "Cell \u001b[1;32mIn[363], line 2\u001b[0m\n\u001b[0;32m      1\u001b[0m \u001b[38;5;66;03m#str * tuple: \u001b[39;00m\n\u001b[1;32m----> 2\u001b[0m \u001b[38;5;124m'\u001b[39m\u001b[38;5;124mHello\u001b[39m\u001b[38;5;124m'\u001b[39m \u001b[38;5;241m*\u001b[39m (\u001b[38;5;241m1\u001b[39m, \u001b[38;5;241m2\u001b[39m, \u001b[38;5;241m3\u001b[39m)\n",
      "\u001b[1;31mTypeError\u001b[0m: can't multiply sequence by non-int of type 'tuple'"
     ]
    }
   ],
   "source": [
    "#str * tuple: \n",
    "'Hello' * (1, 2, 3)"
   ]
  },
  {
   "cell_type": "code",
   "execution_count": 115,
   "id": "829fc0a9-5efa-44aa-a740-23bd5468e87b",
   "metadata": {},
   "outputs": [
    {
     "ename": "TypeError",
     "evalue": "can't multiply sequence by non-int of type 'str'",
     "output_type": "error",
     "traceback": [
      "\u001b[1;31m---------------------------------------------------------------------------\u001b[0m",
      "\u001b[1;31mTypeError\u001b[0m                                 Traceback (most recent call last)",
      "Cell \u001b[1;32mIn[115], line 2\u001b[0m\n\u001b[0;32m      1\u001b[0m \u001b[38;5;66;03m#str * str: \u001b[39;00m\n\u001b[1;32m----> 2\u001b[0m \u001b[38;5;124m'\u001b[39m\u001b[38;5;124mHello\u001b[39m\u001b[38;5;124m'\u001b[39m \u001b[38;5;241m*\u001b[39m \u001b[38;5;124m'\u001b[39m\u001b[38;5;124mHello\u001b[39m\u001b[38;5;124m'\u001b[39m\n",
      "\u001b[1;31mTypeError\u001b[0m: can't multiply sequence by non-int of type 'str'"
     ]
    }
   ],
   "source": [
    "#str * str: \n",
    "'Hello' * 'Hello'"
   ]
  },
  {
   "cell_type": "markdown",
   "id": "dcebd731-3c94-41ca-98a8-668a23df52f6",
   "metadata": {
    "jp-MarkdownHeadingCollapsed": true
   },
   "source": [
    "### FLoor division"
   ]
  },
  {
   "cell_type": "code",
   "execution_count": 431,
   "id": "2ef80e90-96d2-491b-b5c7-1cdda619ea05",
   "metadata": {},
   "outputs": [
    {
     "ename": "TypeError",
     "evalue": "unsupported operand type(s) for //: 'str' and 'str'",
     "output_type": "error",
     "traceback": [
      "\u001b[1;31m---------------------------------------------------------------------------\u001b[0m",
      "\u001b[1;31mTypeError\u001b[0m                                 Traceback (most recent call last)",
      "Cell \u001b[1;32mIn[431], line 2\u001b[0m\n\u001b[0;32m      1\u001b[0m \u001b[38;5;66;03m# str // str: \u001b[39;00m\n\u001b[1;32m----> 2\u001b[0m \u001b[38;5;124m'\u001b[39m\u001b[38;5;124mHello\u001b[39m\u001b[38;5;124m'\u001b[39m \u001b[38;5;241m/\u001b[39m\u001b[38;5;241m/\u001b[39m \u001b[38;5;124m'\u001b[39m\u001b[38;5;124mWorld\u001b[39m\u001b[38;5;124m'\u001b[39m\n",
      "\u001b[1;31mTypeError\u001b[0m: unsupported operand type(s) for //: 'str' and 'str'"
     ]
    }
   ],
   "source": [
    "# str // str: \n",
    "'Hello' // 'World'"
   ]
  },
  {
   "cell_type": "code",
   "execution_count": 433,
   "id": "4a6379c6-2721-40cb-be5b-8b7869387394",
   "metadata": {},
   "outputs": [
    {
     "ename": "TypeError",
     "evalue": "unsupported operand type(s) for //: 'str' and 'int'",
     "output_type": "error",
     "traceback": [
      "\u001b[1;31m---------------------------------------------------------------------------\u001b[0m",
      "\u001b[1;31mTypeError\u001b[0m                                 Traceback (most recent call last)",
      "Cell \u001b[1;32mIn[433], line 2\u001b[0m\n\u001b[0;32m      1\u001b[0m \u001b[38;5;66;03m#str // int: \u001b[39;00m\n\u001b[1;32m----> 2\u001b[0m \u001b[38;5;124m'\u001b[39m\u001b[38;5;124mHello\u001b[39m\u001b[38;5;124m'\u001b[39m \u001b[38;5;241m/\u001b[39m\u001b[38;5;241m/\u001b[39m \u001b[38;5;241m3\u001b[39m\n",
      "\u001b[1;31mTypeError\u001b[0m: unsupported operand type(s) for //: 'str' and 'int'"
     ]
    }
   ],
   "source": [
    "#str // int: \n",
    "'Hello' // 3"
   ]
  },
  {
   "cell_type": "code",
   "execution_count": 435,
   "id": "26be44aa-f8cd-4f0b-ad32-90ad633a62c7",
   "metadata": {},
   "outputs": [
    {
     "ename": "TypeError",
     "evalue": "unsupported operand type(s) for //: 'str' and 'float'",
     "output_type": "error",
     "traceback": [
      "\u001b[1;31m---------------------------------------------------------------------------\u001b[0m",
      "\u001b[1;31mTypeError\u001b[0m                                 Traceback (most recent call last)",
      "Cell \u001b[1;32mIn[435], line 2\u001b[0m\n\u001b[0;32m      1\u001b[0m \u001b[38;5;66;03m#str // float: \u001b[39;00m\n\u001b[1;32m----> 2\u001b[0m \u001b[38;5;124m'\u001b[39m\u001b[38;5;124mHello\u001b[39m\u001b[38;5;124m'\u001b[39m \u001b[38;5;241m/\u001b[39m\u001b[38;5;241m/\u001b[39m \u001b[38;5;241m2.5\u001b[39m\n",
      "\u001b[1;31mTypeError\u001b[0m: unsupported operand type(s) for //: 'str' and 'float'"
     ]
    }
   ],
   "source": [
    "#str // float: \n",
    "'Hello' // 2.5"
   ]
  },
  {
   "cell_type": "code",
   "execution_count": 437,
   "id": "a0fe7151-e0ec-4e0f-a1f3-cecff0ad80d2",
   "metadata": {},
   "outputs": [
    {
     "ename": "TypeError",
     "evalue": "unsupported operand type(s) for //: 'str' and 'bool'",
     "output_type": "error",
     "traceback": [
      "\u001b[1;31m---------------------------------------------------------------------------\u001b[0m",
      "\u001b[1;31mTypeError\u001b[0m                                 Traceback (most recent call last)",
      "Cell \u001b[1;32mIn[437], line 2\u001b[0m\n\u001b[0;32m      1\u001b[0m \u001b[38;5;66;03m#str // bool: \u001b[39;00m\n\u001b[1;32m----> 2\u001b[0m \u001b[38;5;124m'\u001b[39m\u001b[38;5;124mHello\u001b[39m\u001b[38;5;124m'\u001b[39m \u001b[38;5;241m/\u001b[39m\u001b[38;5;241m/\u001b[39m \u001b[38;5;28;01mTrue\u001b[39;00m\n",
      "\u001b[1;31mTypeError\u001b[0m: unsupported operand type(s) for //: 'str' and 'bool'"
     ]
    }
   ],
   "source": [
    "#str // bool: \n",
    "'Hello' // True"
   ]
  },
  {
   "cell_type": "code",
   "execution_count": 439,
   "id": "b35b91af-7228-4d0a-861e-fd420af24e16",
   "metadata": {},
   "outputs": [
    {
     "ename": "TypeError",
     "evalue": "unsupported operand type(s) for //: 'str' and 'NoneType'",
     "output_type": "error",
     "traceback": [
      "\u001b[1;31m---------------------------------------------------------------------------\u001b[0m",
      "\u001b[1;31mTypeError\u001b[0m                                 Traceback (most recent call last)",
      "Cell \u001b[1;32mIn[439], line 2\u001b[0m\n\u001b[0;32m      1\u001b[0m \u001b[38;5;66;03m#str // NoneType:\u001b[39;00m\n\u001b[1;32m----> 2\u001b[0m \u001b[38;5;124m'\u001b[39m\u001b[38;5;124mHello\u001b[39m\u001b[38;5;124m'\u001b[39m \u001b[38;5;241m/\u001b[39m\u001b[38;5;241m/\u001b[39m \u001b[38;5;28;01mNone\u001b[39;00m\n",
      "\u001b[1;31mTypeError\u001b[0m: unsupported operand type(s) for //: 'str' and 'NoneType'"
     ]
    }
   ],
   "source": [
    "#str // NoneType:\n",
    "'Hello' // None"
   ]
  },
  {
   "cell_type": "code",
   "execution_count": 441,
   "id": "9a33cc42-32af-4688-aca4-eeb72f7dd89f",
   "metadata": {},
   "outputs": [
    {
     "ename": "TypeError",
     "evalue": "unsupported operand type(s) for //: 'str' and 'list'",
     "output_type": "error",
     "traceback": [
      "\u001b[1;31m---------------------------------------------------------------------------\u001b[0m",
      "\u001b[1;31mTypeError\u001b[0m                                 Traceback (most recent call last)",
      "Cell \u001b[1;32mIn[441], line 2\u001b[0m\n\u001b[0;32m      1\u001b[0m \u001b[38;5;66;03m#str // list: \u001b[39;00m\n\u001b[1;32m----> 2\u001b[0m \u001b[38;5;124m'\u001b[39m\u001b[38;5;124mHello\u001b[39m\u001b[38;5;124m'\u001b[39m \u001b[38;5;241m/\u001b[39m\u001b[38;5;241m/\u001b[39m [\u001b[38;5;241m1\u001b[39m, \u001b[38;5;241m2\u001b[39m, \u001b[38;5;241m3\u001b[39m]\n",
      "\u001b[1;31mTypeError\u001b[0m: unsupported operand type(s) for //: 'str' and 'list'"
     ]
    }
   ],
   "source": [
    "#str // list: \n",
    "'Hello' // [1, 2, 3]"
   ]
  },
  {
   "cell_type": "code",
   "execution_count": 443,
   "id": "ce48b5fc-2f2c-47ba-96b8-564a81723f0a",
   "metadata": {},
   "outputs": [
    {
     "ename": "TypeError",
     "evalue": "unsupported operand type(s) for //: 'str' and 'set'",
     "output_type": "error",
     "traceback": [
      "\u001b[1;31m---------------------------------------------------------------------------\u001b[0m",
      "\u001b[1;31mTypeError\u001b[0m                                 Traceback (most recent call last)",
      "Cell \u001b[1;32mIn[443], line 2\u001b[0m\n\u001b[0;32m      1\u001b[0m \u001b[38;5;66;03m#str // set:\u001b[39;00m\n\u001b[1;32m----> 2\u001b[0m \u001b[38;5;124m'\u001b[39m\u001b[38;5;124mHello\u001b[39m\u001b[38;5;124m'\u001b[39m \u001b[38;5;241m/\u001b[39m\u001b[38;5;241m/\u001b[39m {\u001b[38;5;241m1\u001b[39m, \u001b[38;5;241m2\u001b[39m, \u001b[38;5;241m3\u001b[39m}\n",
      "\u001b[1;31mTypeError\u001b[0m: unsupported operand type(s) for //: 'str' and 'set'"
     ]
    }
   ],
   "source": [
    "#str // set:\n",
    "'Hello' // {1, 2, 3}"
   ]
  },
  {
   "cell_type": "code",
   "execution_count": 445,
   "id": "343a2595-956a-457c-bb73-f97e245a6e98",
   "metadata": {},
   "outputs": [
    {
     "ename": "TypeError",
     "evalue": "unsupported operand type(s) for //: 'str' and 'dict'",
     "output_type": "error",
     "traceback": [
      "\u001b[1;31m---------------------------------------------------------------------------\u001b[0m",
      "\u001b[1;31mTypeError\u001b[0m                                 Traceback (most recent call last)",
      "Cell \u001b[1;32mIn[445], line 2\u001b[0m\n\u001b[0;32m      1\u001b[0m \u001b[38;5;66;03m#str // dict: \u001b[39;00m\n\u001b[1;32m----> 2\u001b[0m \u001b[38;5;124m'\u001b[39m\u001b[38;5;124mHello\u001b[39m\u001b[38;5;124m'\u001b[39m \u001b[38;5;241m/\u001b[39m\u001b[38;5;241m/\u001b[39m {\u001b[38;5;124m'\u001b[39m\u001b[38;5;124ma\u001b[39m\u001b[38;5;124m'\u001b[39m: \u001b[38;5;241m1\u001b[39m}\n",
      "\u001b[1;31mTypeError\u001b[0m: unsupported operand type(s) for //: 'str' and 'dict'"
     ]
    }
   ],
   "source": [
    "#str // dict: \n",
    "'Hello' // {'a': 1}"
   ]
  },
  {
   "cell_type": "code",
   "execution_count": 447,
   "id": "bdc827f6-4142-4452-ba08-d26bd2919650",
   "metadata": {},
   "outputs": [
    {
     "ename": "TypeError",
     "evalue": "unsupported operand type(s) for //: 'str' and 'tuple'",
     "output_type": "error",
     "traceback": [
      "\u001b[1;31m---------------------------------------------------------------------------\u001b[0m",
      "\u001b[1;31mTypeError\u001b[0m                                 Traceback (most recent call last)",
      "Cell \u001b[1;32mIn[447], line 2\u001b[0m\n\u001b[0;32m      1\u001b[0m \u001b[38;5;66;03m#str // tuple: \u001b[39;00m\n\u001b[1;32m----> 2\u001b[0m \u001b[38;5;124m'\u001b[39m\u001b[38;5;124mHello\u001b[39m\u001b[38;5;124m'\u001b[39m \u001b[38;5;241m/\u001b[39m\u001b[38;5;241m/\u001b[39m (\u001b[38;5;241m1\u001b[39m, \u001b[38;5;241m2\u001b[39m, \u001b[38;5;241m3\u001b[39m)\n",
      "\u001b[1;31mTypeError\u001b[0m: unsupported operand type(s) for //: 'str' and 'tuple'"
     ]
    }
   ],
   "source": [
    "#str // tuple: \n",
    "'Hello' // (1, 2, 3)"
   ]
  },
  {
   "cell_type": "markdown",
   "id": "74fb3005-fddb-4725-bd21-1737b3f5b4fc",
   "metadata": {
    "jp-MarkdownHeadingCollapsed": true
   },
   "source": [
    "### Division"
   ]
  },
  {
   "cell_type": "code",
   "execution_count": 449,
   "id": "b93003ea-29a4-408d-9804-8be750419b04",
   "metadata": {},
   "outputs": [
    {
     "ename": "TypeError",
     "evalue": "unsupported operand type(s) for /: 'str' and 'str'",
     "output_type": "error",
     "traceback": [
      "\u001b[1;31m---------------------------------------------------------------------------\u001b[0m",
      "\u001b[1;31mTypeError\u001b[0m                                 Traceback (most recent call last)",
      "Cell \u001b[1;32mIn[449], line 2\u001b[0m\n\u001b[0;32m      1\u001b[0m \u001b[38;5;66;03m#str / str:\u001b[39;00m\n\u001b[1;32m----> 2\u001b[0m \u001b[38;5;124m'\u001b[39m\u001b[38;5;124mHello\u001b[39m\u001b[38;5;124m'\u001b[39m \u001b[38;5;241m/\u001b[39m \u001b[38;5;124m'\u001b[39m\u001b[38;5;124mWorld\u001b[39m\u001b[38;5;124m'\u001b[39m\n",
      "\u001b[1;31mTypeError\u001b[0m: unsupported operand type(s) for /: 'str' and 'str'"
     ]
    }
   ],
   "source": [
    "#str / str:\n",
    "'Hello' / 'World' "
   ]
  },
  {
   "cell_type": "code",
   "execution_count": 451,
   "id": "38fc3b50-8f47-45c6-9a23-b7d37a988b39",
   "metadata": {},
   "outputs": [
    {
     "ename": "TypeError",
     "evalue": "unsupported operand type(s) for /: 'str' and 'int'",
     "output_type": "error",
     "traceback": [
      "\u001b[1;31m---------------------------------------------------------------------------\u001b[0m",
      "\u001b[1;31mTypeError\u001b[0m                                 Traceback (most recent call last)",
      "Cell \u001b[1;32mIn[451], line 2\u001b[0m\n\u001b[0;32m      1\u001b[0m \u001b[38;5;66;03m#str / int:\u001b[39;00m\n\u001b[1;32m----> 2\u001b[0m \u001b[38;5;124m'\u001b[39m\u001b[38;5;124mHello\u001b[39m\u001b[38;5;124m'\u001b[39m \u001b[38;5;241m/\u001b[39m \u001b[38;5;241m3\u001b[39m\n",
      "\u001b[1;31mTypeError\u001b[0m: unsupported operand type(s) for /: 'str' and 'int'"
     ]
    }
   ],
   "source": [
    "#str / int:\n",
    "'Hello' / 3"
   ]
  },
  {
   "cell_type": "code",
   "execution_count": 453,
   "id": "e4ba66c7-f16a-4a9c-ab74-b4c9d177432c",
   "metadata": {},
   "outputs": [
    {
     "ename": "TypeError",
     "evalue": "unsupported operand type(s) for /: 'str' and 'float'",
     "output_type": "error",
     "traceback": [
      "\u001b[1;31m---------------------------------------------------------------------------\u001b[0m",
      "\u001b[1;31mTypeError\u001b[0m                                 Traceback (most recent call last)",
      "Cell \u001b[1;32mIn[453], line 2\u001b[0m\n\u001b[0;32m      1\u001b[0m \u001b[38;5;66;03m#str / float:\u001b[39;00m\n\u001b[1;32m----> 2\u001b[0m \u001b[38;5;124m'\u001b[39m\u001b[38;5;124mHello\u001b[39m\u001b[38;5;124m'\u001b[39m \u001b[38;5;241m/\u001b[39m \u001b[38;5;241m2.5\u001b[39m\n",
      "\u001b[1;31mTypeError\u001b[0m: unsupported operand type(s) for /: 'str' and 'float'"
     ]
    }
   ],
   "source": [
    "#str / float:\n",
    "'Hello' / 2.5"
   ]
  },
  {
   "cell_type": "code",
   "execution_count": 455,
   "id": "abe39019-e714-44d2-ab00-6711dac862ec",
   "metadata": {},
   "outputs": [
    {
     "ename": "TypeError",
     "evalue": "unsupported operand type(s) for /: 'str' and 'bool'",
     "output_type": "error",
     "traceback": [
      "\u001b[1;31m---------------------------------------------------------------------------\u001b[0m",
      "\u001b[1;31mTypeError\u001b[0m                                 Traceback (most recent call last)",
      "Cell \u001b[1;32mIn[455], line 2\u001b[0m\n\u001b[0;32m      1\u001b[0m \u001b[38;5;66;03m#str / bool: \u001b[39;00m\n\u001b[1;32m----> 2\u001b[0m \u001b[38;5;124m'\u001b[39m\u001b[38;5;124mHello\u001b[39m\u001b[38;5;124m'\u001b[39m \u001b[38;5;241m/\u001b[39m \u001b[38;5;28;01mTrue\u001b[39;00m\n",
      "\u001b[1;31mTypeError\u001b[0m: unsupported operand type(s) for /: 'str' and 'bool'"
     ]
    }
   ],
   "source": [
    "#str / bool: \n",
    "'Hello' / True"
   ]
  },
  {
   "cell_type": "code",
   "execution_count": 457,
   "id": "6fe4ff7e-af77-4394-b92f-bd17a1b174d2",
   "metadata": {},
   "outputs": [
    {
     "ename": "TypeError",
     "evalue": "unsupported operand type(s) for /: 'str' and 'NoneType'",
     "output_type": "error",
     "traceback": [
      "\u001b[1;31m---------------------------------------------------------------------------\u001b[0m",
      "\u001b[1;31mTypeError\u001b[0m                                 Traceback (most recent call last)",
      "Cell \u001b[1;32mIn[457], line 2\u001b[0m\n\u001b[0;32m      1\u001b[0m \u001b[38;5;66;03m#str / NoneType:\u001b[39;00m\n\u001b[1;32m----> 2\u001b[0m \u001b[38;5;124m'\u001b[39m\u001b[38;5;124mHello\u001b[39m\u001b[38;5;124m'\u001b[39m \u001b[38;5;241m/\u001b[39m \u001b[38;5;28;01mNone\u001b[39;00m\n",
      "\u001b[1;31mTypeError\u001b[0m: unsupported operand type(s) for /: 'str' and 'NoneType'"
     ]
    }
   ],
   "source": [
    "#str / NoneType:\n",
    "'Hello' / None"
   ]
  },
  {
   "cell_type": "code",
   "execution_count": 459,
   "id": "ba7e1aab-07d7-44de-a0aa-0726151fe0ab",
   "metadata": {},
   "outputs": [
    {
     "ename": "TypeError",
     "evalue": "unsupported operand type(s) for /: 'str' and 'list'",
     "output_type": "error",
     "traceback": [
      "\u001b[1;31m---------------------------------------------------------------------------\u001b[0m",
      "\u001b[1;31mTypeError\u001b[0m                                 Traceback (most recent call last)",
      "Cell \u001b[1;32mIn[459], line 2\u001b[0m\n\u001b[0;32m      1\u001b[0m \u001b[38;5;66;03m#str / list: \u001b[39;00m\n\u001b[1;32m----> 2\u001b[0m \u001b[38;5;124m'\u001b[39m\u001b[38;5;124mHello\u001b[39m\u001b[38;5;124m'\u001b[39m \u001b[38;5;241m/\u001b[39m [\u001b[38;5;241m1\u001b[39m, \u001b[38;5;241m2\u001b[39m, \u001b[38;5;241m3\u001b[39m]\n",
      "\u001b[1;31mTypeError\u001b[0m: unsupported operand type(s) for /: 'str' and 'list'"
     ]
    }
   ],
   "source": [
    "#str / list: \n",
    "'Hello' / [1, 2, 3]"
   ]
  },
  {
   "cell_type": "code",
   "execution_count": 461,
   "id": "ed9289c8-2db2-43fb-9e10-0276868707bb",
   "metadata": {},
   "outputs": [
    {
     "ename": "TypeError",
     "evalue": "unsupported operand type(s) for /: 'str' and 'set'",
     "output_type": "error",
     "traceback": [
      "\u001b[1;31m---------------------------------------------------------------------------\u001b[0m",
      "\u001b[1;31mTypeError\u001b[0m                                 Traceback (most recent call last)",
      "Cell \u001b[1;32mIn[461], line 2\u001b[0m\n\u001b[0;32m      1\u001b[0m \u001b[38;5;66;03m#str / set: \u001b[39;00m\n\u001b[1;32m----> 2\u001b[0m \u001b[38;5;124m'\u001b[39m\u001b[38;5;124mHello\u001b[39m\u001b[38;5;124m'\u001b[39m \u001b[38;5;241m/\u001b[39m {\u001b[38;5;241m1\u001b[39m, \u001b[38;5;241m2\u001b[39m, \u001b[38;5;241m3\u001b[39m}\n",
      "\u001b[1;31mTypeError\u001b[0m: unsupported operand type(s) for /: 'str' and 'set'"
     ]
    }
   ],
   "source": [
    "#str / set: \n",
    "'Hello' / {1, 2, 3}"
   ]
  },
  {
   "cell_type": "code",
   "execution_count": 463,
   "id": "d99bb855-3839-4b55-8819-9d87badce8c3",
   "metadata": {},
   "outputs": [
    {
     "ename": "TypeError",
     "evalue": "unsupported operand type(s) for /: 'str' and 'dict'",
     "output_type": "error",
     "traceback": [
      "\u001b[1;31m---------------------------------------------------------------------------\u001b[0m",
      "\u001b[1;31mTypeError\u001b[0m                                 Traceback (most recent call last)",
      "Cell \u001b[1;32mIn[463], line 2\u001b[0m\n\u001b[0;32m      1\u001b[0m \u001b[38;5;66;03m#str / dict: \u001b[39;00m\n\u001b[1;32m----> 2\u001b[0m \u001b[38;5;124m'\u001b[39m\u001b[38;5;124mHello\u001b[39m\u001b[38;5;124m'\u001b[39m \u001b[38;5;241m/\u001b[39m {\u001b[38;5;124m'\u001b[39m\u001b[38;5;124ma\u001b[39m\u001b[38;5;124m'\u001b[39m: \u001b[38;5;241m1\u001b[39m}\n",
      "\u001b[1;31mTypeError\u001b[0m: unsupported operand type(s) for /: 'str' and 'dict'"
     ]
    }
   ],
   "source": [
    "#str / dict: \n",
    "'Hello' / {'a': 1}"
   ]
  },
  {
   "cell_type": "code",
   "execution_count": 465,
   "id": "3c04e4aa-1452-4096-8e38-fb91e6408ce2",
   "metadata": {},
   "outputs": [
    {
     "ename": "TypeError",
     "evalue": "unsupported operand type(s) for /: 'str' and 'dict'",
     "output_type": "error",
     "traceback": [
      "\u001b[1;31m---------------------------------------------------------------------------\u001b[0m",
      "\u001b[1;31mTypeError\u001b[0m                                 Traceback (most recent call last)",
      "Cell \u001b[1;32mIn[465], line 2\u001b[0m\n\u001b[0;32m      1\u001b[0m \u001b[38;5;66;03m#str / dict: \u001b[39;00m\n\u001b[1;32m----> 2\u001b[0m \u001b[38;5;124m'\u001b[39m\u001b[38;5;124mHello\u001b[39m\u001b[38;5;124m'\u001b[39m \u001b[38;5;241m/\u001b[39m {\u001b[38;5;124m'\u001b[39m\u001b[38;5;124ma\u001b[39m\u001b[38;5;124m'\u001b[39m: \u001b[38;5;241m1\u001b[39m}\n",
      "\u001b[1;31mTypeError\u001b[0m: unsupported operand type(s) for /: 'str' and 'dict'"
     ]
    }
   ],
   "source": [
    "#str / dict: \n",
    "'Hello' / {'a': 1}"
   ]
  },
  {
   "cell_type": "markdown",
   "id": "a8e6379f-50f1-4ad9-9a15-365f18e81760",
   "metadata": {},
   "source": [
    "# BOOLEAN"
   ]
  },
  {
   "cell_type": "markdown",
   "id": "1cb63b3c-015c-4654-bc5b-3e91d4077380",
   "metadata": {
    "jp-MarkdownHeadingCollapsed": true
   },
   "source": [
    "### Addition"
   ]
  },
  {
   "cell_type": "code",
   "execution_count": 467,
   "id": "f474af5e-3f31-4d4f-8656-65862770d962",
   "metadata": {},
   "outputs": [
    {
     "data": {
      "text/plain": [
       "1"
      ]
     },
     "execution_count": 467,
     "metadata": {},
     "output_type": "execute_result"
    }
   ],
   "source": [
    "#bool + bool:\n",
    "True + False"
   ]
  },
  {
   "cell_type": "code",
   "execution_count": 469,
   "id": "c7a81c45-0933-4607-9bb8-3dda0739dd2b",
   "metadata": {},
   "outputs": [
    {
     "data": {
      "text/plain": [
       "4"
      ]
     },
     "execution_count": 469,
     "metadata": {},
     "output_type": "execute_result"
    }
   ],
   "source": [
    "#bool + int: \n",
    "True + 3"
   ]
  },
  {
   "cell_type": "code",
   "execution_count": 471,
   "id": "7e86d4dd-b988-4d36-8941-565ab0fabaa6",
   "metadata": {},
   "outputs": [
    {
     "data": {
      "text/plain": [
       "3.5"
      ]
     },
     "execution_count": 471,
     "metadata": {},
     "output_type": "execute_result"
    }
   ],
   "source": [
    "#bool + float: \n",
    "True + 2.5"
   ]
  },
  {
   "cell_type": "code",
   "execution_count": 475,
   "id": "22c56098-4b2b-4ad3-b274-55669febb4ac",
   "metadata": {},
   "outputs": [
    {
     "ename": "TypeError",
     "evalue": "unsupported operand type(s) for +: 'bool' and 'str'",
     "output_type": "error",
     "traceback": [
      "\u001b[1;31m---------------------------------------------------------------------------\u001b[0m",
      "\u001b[1;31mTypeError\u001b[0m                                 Traceback (most recent call last)",
      "Cell \u001b[1;32mIn[475], line 2\u001b[0m\n\u001b[0;32m      1\u001b[0m \u001b[38;5;66;03m#bool + string: \u001b[39;00m\n\u001b[1;32m----> 2\u001b[0m \u001b[38;5;28;01mTrue\u001b[39;00m \u001b[38;5;241m+\u001b[39m \u001b[38;5;124m'\u001b[39m\u001b[38;5;124mHello\u001b[39m\u001b[38;5;124m'\u001b[39m\n",
      "\u001b[1;31mTypeError\u001b[0m: unsupported operand type(s) for +: 'bool' and 'str'"
     ]
    }
   ],
   "source": [
    "#bool + string: \n",
    "True + 'Hello'"
   ]
  },
  {
   "cell_type": "code",
   "execution_count": 477,
   "id": "d021f502-15e1-4525-aed1-b176bcf0054d",
   "metadata": {},
   "outputs": [
    {
     "ename": "TypeError",
     "evalue": "unsupported operand type(s) for +: 'bool' and 'NoneType'",
     "output_type": "error",
     "traceback": [
      "\u001b[1;31m---------------------------------------------------------------------------\u001b[0m",
      "\u001b[1;31mTypeError\u001b[0m                                 Traceback (most recent call last)",
      "Cell \u001b[1;32mIn[477], line 2\u001b[0m\n\u001b[0;32m      1\u001b[0m \u001b[38;5;66;03m#bool + NoneType: \u001b[39;00m\n\u001b[1;32m----> 2\u001b[0m \u001b[38;5;28;01mTrue\u001b[39;00m \u001b[38;5;241m+\u001b[39m \u001b[38;5;28;01mNone\u001b[39;00m\n",
      "\u001b[1;31mTypeError\u001b[0m: unsupported operand type(s) for +: 'bool' and 'NoneType'"
     ]
    }
   ],
   "source": [
    "#bool + NoneType: \n",
    "True + None"
   ]
  },
  {
   "cell_type": "code",
   "execution_count": 479,
   "id": "fc89de8b-7d8f-4511-8c3f-67250a093775",
   "metadata": {},
   "outputs": [
    {
     "ename": "TypeError",
     "evalue": "unsupported operand type(s) for +: 'bool' and 'list'",
     "output_type": "error",
     "traceback": [
      "\u001b[1;31m---------------------------------------------------------------------------\u001b[0m",
      "\u001b[1;31mTypeError\u001b[0m                                 Traceback (most recent call last)",
      "Cell \u001b[1;32mIn[479], line 2\u001b[0m\n\u001b[0;32m      1\u001b[0m \u001b[38;5;66;03m#bool + list:\u001b[39;00m\n\u001b[1;32m----> 2\u001b[0m \u001b[38;5;28;01mTrue\u001b[39;00m \u001b[38;5;241m+\u001b[39m [\u001b[38;5;241m1\u001b[39m, \u001b[38;5;241m2\u001b[39m, \u001b[38;5;241m3\u001b[39m]\n",
      "\u001b[1;31mTypeError\u001b[0m: unsupported operand type(s) for +: 'bool' and 'list'"
     ]
    }
   ],
   "source": [
    "#bool + list:\n",
    "True + [1, 2, 3]"
   ]
  },
  {
   "cell_type": "code",
   "execution_count": 481,
   "id": "b9bbf367-bf36-469f-b4e5-00c718e16189",
   "metadata": {},
   "outputs": [
    {
     "ename": "TypeError",
     "evalue": "unsupported operand type(s) for +: 'bool' and 'set'",
     "output_type": "error",
     "traceback": [
      "\u001b[1;31m---------------------------------------------------------------------------\u001b[0m",
      "\u001b[1;31mTypeError\u001b[0m                                 Traceback (most recent call last)",
      "Cell \u001b[1;32mIn[481], line 2\u001b[0m\n\u001b[0;32m      1\u001b[0m \u001b[38;5;66;03m#bool + set: \u001b[39;00m\n\u001b[1;32m----> 2\u001b[0m \u001b[38;5;28;01mTrue\u001b[39;00m \u001b[38;5;241m+\u001b[39m {\u001b[38;5;241m1\u001b[39m, \u001b[38;5;241m2\u001b[39m, \u001b[38;5;241m3\u001b[39m}\n",
      "\u001b[1;31mTypeError\u001b[0m: unsupported operand type(s) for +: 'bool' and 'set'"
     ]
    }
   ],
   "source": [
    "#bool + set: \n",
    "True + {1, 2, 3}"
   ]
  },
  {
   "cell_type": "code",
   "execution_count": 483,
   "id": "a587adbd-ae3b-4e30-b7d9-2922e15ab8d2",
   "metadata": {},
   "outputs": [
    {
     "ename": "TypeError",
     "evalue": "unsupported operand type(s) for +: 'bool' and 'dict'",
     "output_type": "error",
     "traceback": [
      "\u001b[1;31m---------------------------------------------------------------------------\u001b[0m",
      "\u001b[1;31mTypeError\u001b[0m                                 Traceback (most recent call last)",
      "Cell \u001b[1;32mIn[483], line 2\u001b[0m\n\u001b[0;32m      1\u001b[0m \u001b[38;5;66;03m#bool + dict:\u001b[39;00m\n\u001b[1;32m----> 2\u001b[0m \u001b[38;5;28;01mTrue\u001b[39;00m \u001b[38;5;241m+\u001b[39m {\u001b[38;5;124m'\u001b[39m\u001b[38;5;124ma\u001b[39m\u001b[38;5;124m'\u001b[39m: \u001b[38;5;241m1\u001b[39m}\n",
      "\u001b[1;31mTypeError\u001b[0m: unsupported operand type(s) for +: 'bool' and 'dict'"
     ]
    }
   ],
   "source": [
    "#bool + dict:\n",
    "True + {'a': 1}"
   ]
  },
  {
   "cell_type": "code",
   "execution_count": 485,
   "id": "f4a90dea-790b-48a2-b313-e48355220397",
   "metadata": {},
   "outputs": [
    {
     "ename": "TypeError",
     "evalue": "unsupported operand type(s) for +: 'bool' and 'tuple'",
     "output_type": "error",
     "traceback": [
      "\u001b[1;31m---------------------------------------------------------------------------\u001b[0m",
      "\u001b[1;31mTypeError\u001b[0m                                 Traceback (most recent call last)",
      "Cell \u001b[1;32mIn[485], line 2\u001b[0m\n\u001b[0;32m      1\u001b[0m \u001b[38;5;66;03m#bool + tuple: \u001b[39;00m\n\u001b[1;32m----> 2\u001b[0m \u001b[38;5;28;01mTrue\u001b[39;00m \u001b[38;5;241m+\u001b[39m (\u001b[38;5;241m1\u001b[39m, \u001b[38;5;241m2\u001b[39m, \u001b[38;5;241m3\u001b[39m)\n",
      "\u001b[1;31mTypeError\u001b[0m: unsupported operand type(s) for +: 'bool' and 'tuple'"
     ]
    }
   ],
   "source": [
    "#bool + tuple: \n",
    "True + (1, 2, 3)"
   ]
  },
  {
   "cell_type": "markdown",
   "id": "0f301b39-43e4-4fe4-8b52-2f392b6a6b77",
   "metadata": {
    "jp-MarkdownHeadingCollapsed": true
   },
   "source": [
    "### Substraction"
   ]
  },
  {
   "cell_type": "code",
   "execution_count": 545,
   "id": "fe13d2ca-6f76-4a89-b8f6-711a9f17974f",
   "metadata": {},
   "outputs": [
    {
     "data": {
      "text/plain": [
       "1"
      ]
     },
     "execution_count": 545,
     "metadata": {},
     "output_type": "execute_result"
    }
   ],
   "source": [
    "#bool - bool: \n",
    "True - False "
   ]
  },
  {
   "cell_type": "code",
   "execution_count": null,
   "id": "fc9eaede-d097-4b86-8f22-086b61f3354e",
   "metadata": {},
   "outputs": [],
   "source": []
  },
  {
   "cell_type": "code",
   "execution_count": 547,
   "id": "7a34667e-ca62-4590-af87-c8c35a88712b",
   "metadata": {},
   "outputs": [
    {
     "data": {
      "text/plain": [
       "-2"
      ]
     },
     "execution_count": 547,
     "metadata": {},
     "output_type": "execute_result"
    }
   ],
   "source": [
    "#bool - int: \n",
    "True - 3"
   ]
  },
  {
   "cell_type": "code",
   "execution_count": 549,
   "id": "6900de16-c4f2-4e22-a53a-24b4ad0509af",
   "metadata": {},
   "outputs": [
    {
     "data": {
      "text/plain": [
       "-1.5"
      ]
     },
     "execution_count": 549,
     "metadata": {},
     "output_type": "execute_result"
    }
   ],
   "source": [
    "#bool - float:\n",
    "True - 2.5"
   ]
  },
  {
   "cell_type": "code",
   "execution_count": 551,
   "id": "79746538-4e7a-404e-9660-25419db7a6b2",
   "metadata": {},
   "outputs": [
    {
     "ename": "TypeError",
     "evalue": "unsupported operand type(s) for -: 'bool' and 'str'",
     "output_type": "error",
     "traceback": [
      "\u001b[1;31m---------------------------------------------------------------------------\u001b[0m",
      "\u001b[1;31mTypeError\u001b[0m                                 Traceback (most recent call last)",
      "Cell \u001b[1;32mIn[551], line 2\u001b[0m\n\u001b[0;32m      1\u001b[0m \u001b[38;5;66;03m#bool - string:\u001b[39;00m\n\u001b[1;32m----> 2\u001b[0m \u001b[38;5;28;01mTrue\u001b[39;00m \u001b[38;5;241m-\u001b[39m \u001b[38;5;124m'\u001b[39m\u001b[38;5;124mHello\u001b[39m\u001b[38;5;124m'\u001b[39m\n",
      "\u001b[1;31mTypeError\u001b[0m: unsupported operand type(s) for -: 'bool' and 'str'"
     ]
    }
   ],
   "source": [
    "#bool - string:\n",
    "True - 'Hello'"
   ]
  },
  {
   "cell_type": "code",
   "execution_count": 553,
   "id": "665db3ae-e395-4a49-a2c9-61ca8aba0b21",
   "metadata": {},
   "outputs": [
    {
     "ename": "TypeError",
     "evalue": "unsupported operand type(s) for -: 'bool' and 'NoneType'",
     "output_type": "error",
     "traceback": [
      "\u001b[1;31m---------------------------------------------------------------------------\u001b[0m",
      "\u001b[1;31mTypeError\u001b[0m                                 Traceback (most recent call last)",
      "Cell \u001b[1;32mIn[553], line 2\u001b[0m\n\u001b[0;32m      1\u001b[0m \u001b[38;5;66;03m#bool - NoneType:\u001b[39;00m\n\u001b[1;32m----> 2\u001b[0m \u001b[38;5;28;01mTrue\u001b[39;00m \u001b[38;5;241m-\u001b[39m \u001b[38;5;28;01mNone\u001b[39;00m\n",
      "\u001b[1;31mTypeError\u001b[0m: unsupported operand type(s) for -: 'bool' and 'NoneType'"
     ]
    }
   ],
   "source": [
    "#bool - NoneType:\n",
    "True - None"
   ]
  },
  {
   "cell_type": "code",
   "execution_count": 555,
   "id": "e67dccfe-ad01-4e99-859f-55d0728ea9f1",
   "metadata": {},
   "outputs": [
    {
     "ename": "TypeError",
     "evalue": "unsupported operand type(s) for -: 'bool' and 'list'",
     "output_type": "error",
     "traceback": [
      "\u001b[1;31m---------------------------------------------------------------------------\u001b[0m",
      "\u001b[1;31mTypeError\u001b[0m                                 Traceback (most recent call last)",
      "Cell \u001b[1;32mIn[555], line 2\u001b[0m\n\u001b[0;32m      1\u001b[0m \u001b[38;5;66;03m#bool - list: \u001b[39;00m\n\u001b[1;32m----> 2\u001b[0m \u001b[38;5;28;01mTrue\u001b[39;00m \u001b[38;5;241m-\u001b[39m [\u001b[38;5;241m1\u001b[39m, \u001b[38;5;241m2\u001b[39m, \u001b[38;5;241m3\u001b[39m]\n",
      "\u001b[1;31mTypeError\u001b[0m: unsupported operand type(s) for -: 'bool' and 'list'"
     ]
    }
   ],
   "source": [
    "#bool - list: \n",
    "True - [1, 2, 3]"
   ]
  },
  {
   "cell_type": "code",
   "execution_count": 557,
   "id": "2de2927d-392c-45ac-a694-00aca8510491",
   "metadata": {},
   "outputs": [
    {
     "ename": "TypeError",
     "evalue": "unsupported operand type(s) for -: 'bool' and 'set'",
     "output_type": "error",
     "traceback": [
      "\u001b[1;31m---------------------------------------------------------------------------\u001b[0m",
      "\u001b[1;31mTypeError\u001b[0m                                 Traceback (most recent call last)",
      "Cell \u001b[1;32mIn[557], line 2\u001b[0m\n\u001b[0;32m      1\u001b[0m \u001b[38;5;66;03m#bool - set: \u001b[39;00m\n\u001b[1;32m----> 2\u001b[0m \u001b[38;5;28;01mTrue\u001b[39;00m \u001b[38;5;241m-\u001b[39m {\u001b[38;5;241m1\u001b[39m, \u001b[38;5;241m2\u001b[39m, \u001b[38;5;241m3\u001b[39m}\n",
      "\u001b[1;31mTypeError\u001b[0m: unsupported operand type(s) for -: 'bool' and 'set'"
     ]
    }
   ],
   "source": [
    "#bool - set: \n",
    "True - {1, 2, 3}"
   ]
  },
  {
   "cell_type": "code",
   "execution_count": 559,
   "id": "16757260-fa11-453f-a357-3749cb594dd2",
   "metadata": {},
   "outputs": [
    {
     "ename": "TypeError",
     "evalue": "unsupported operand type(s) for -: 'bool' and 'dict'",
     "output_type": "error",
     "traceback": [
      "\u001b[1;31m---------------------------------------------------------------------------\u001b[0m",
      "\u001b[1;31mTypeError\u001b[0m                                 Traceback (most recent call last)",
      "Cell \u001b[1;32mIn[559], line 2\u001b[0m\n\u001b[0;32m      1\u001b[0m \u001b[38;5;66;03m#bool - dict: \u001b[39;00m\n\u001b[1;32m----> 2\u001b[0m \u001b[38;5;28;01mTrue\u001b[39;00m \u001b[38;5;241m-\u001b[39m {\u001b[38;5;124m'\u001b[39m\u001b[38;5;124ma\u001b[39m\u001b[38;5;124m'\u001b[39m: \u001b[38;5;241m1\u001b[39m}\n",
      "\u001b[1;31mTypeError\u001b[0m: unsupported operand type(s) for -: 'bool' and 'dict'"
     ]
    }
   ],
   "source": [
    "#bool - dict: \n",
    "True - {'a': 1}"
   ]
  },
  {
   "cell_type": "code",
   "execution_count": 561,
   "id": "69f1dc5b-bb1c-4b57-885d-2aab4d2dbfb8",
   "metadata": {},
   "outputs": [
    {
     "ename": "TypeError",
     "evalue": "unsupported operand type(s) for -: 'bool' and 'tuple'",
     "output_type": "error",
     "traceback": [
      "\u001b[1;31m---------------------------------------------------------------------------\u001b[0m",
      "\u001b[1;31mTypeError\u001b[0m                                 Traceback (most recent call last)",
      "Cell \u001b[1;32mIn[561], line 2\u001b[0m\n\u001b[0;32m      1\u001b[0m \u001b[38;5;66;03m#bool - tuple: \u001b[39;00m\n\u001b[1;32m----> 2\u001b[0m \u001b[38;5;28;01mTrue\u001b[39;00m \u001b[38;5;241m-\u001b[39m (\u001b[38;5;241m1\u001b[39m, \u001b[38;5;241m2\u001b[39m, \u001b[38;5;241m3\u001b[39m)\n",
      "\u001b[1;31mTypeError\u001b[0m: unsupported operand type(s) for -: 'bool' and 'tuple'"
     ]
    }
   ],
   "source": [
    "#bool - tuple: \n",
    "True - (1, 2, 3)"
   ]
  },
  {
   "cell_type": "markdown",
   "id": "b888b9b4-e35e-4216-809a-ab5f3e08d287",
   "metadata": {
    "jp-MarkdownHeadingCollapsed": true
   },
   "source": [
    "### Floor Division"
   ]
  },
  {
   "cell_type": "code",
   "execution_count": 705,
   "id": "5a4d0ba4-d039-4b31-b535-e64bbb5c1072",
   "metadata": {},
   "outputs": [
    {
     "ename": "ZeroDivisionError",
     "evalue": "integer division or modulo by zero",
     "output_type": "error",
     "traceback": [
      "\u001b[1;31m---------------------------------------------------------------------------\u001b[0m",
      "\u001b[1;31mZeroDivisionError\u001b[0m                         Traceback (most recent call last)",
      "Cell \u001b[1;32mIn[705], line 2\u001b[0m\n\u001b[0;32m      1\u001b[0m \u001b[38;5;66;03m#bool // bool: \u001b[39;00m\n\u001b[1;32m----> 2\u001b[0m \u001b[38;5;28;01mTrue\u001b[39;00m \u001b[38;5;241m/\u001b[39m\u001b[38;5;241m/\u001b[39m \u001b[38;5;28;01mFalse\u001b[39;00m\n",
      "\u001b[1;31mZeroDivisionError\u001b[0m: integer division or modulo by zero"
     ]
    }
   ],
   "source": [
    "#bool // bool: \n",
    "True // False"
   ]
  },
  {
   "cell_type": "code",
   "execution_count": 707,
   "id": "c4fb9212-4801-4c4e-b4c0-621f5310cb7c",
   "metadata": {},
   "outputs": [
    {
     "data": {
      "text/plain": [
       "0"
      ]
     },
     "execution_count": 707,
     "metadata": {},
     "output_type": "execute_result"
    }
   ],
   "source": [
    "#bool // int: \n",
    "True // 3 "
   ]
  },
  {
   "cell_type": "code",
   "execution_count": 709,
   "id": "06f1c834-aba1-49a7-a9f8-674b5157cab1",
   "metadata": {},
   "outputs": [
    {
     "data": {
      "text/plain": [
       "0.0"
      ]
     },
     "execution_count": 709,
     "metadata": {},
     "output_type": "execute_result"
    }
   ],
   "source": [
    "#bool // float: \n",
    "True // 2.5"
   ]
  },
  {
   "cell_type": "code",
   "execution_count": 711,
   "id": "e2d6923b-02d0-4786-8478-8f5469701801",
   "metadata": {},
   "outputs": [
    {
     "ename": "TypeError",
     "evalue": "unsupported operand type(s) for //: 'bool' and 'str'",
     "output_type": "error",
     "traceback": [
      "\u001b[1;31m---------------------------------------------------------------------------\u001b[0m",
      "\u001b[1;31mTypeError\u001b[0m                                 Traceback (most recent call last)",
      "Cell \u001b[1;32mIn[711], line 2\u001b[0m\n\u001b[0;32m      1\u001b[0m \u001b[38;5;66;03m#bool // string: \u001b[39;00m\n\u001b[1;32m----> 2\u001b[0m \u001b[38;5;28;01mTrue\u001b[39;00m \u001b[38;5;241m/\u001b[39m\u001b[38;5;241m/\u001b[39m \u001b[38;5;124m'\u001b[39m\u001b[38;5;124mHello\u001b[39m\u001b[38;5;124m'\u001b[39m\n",
      "\u001b[1;31mTypeError\u001b[0m: unsupported operand type(s) for //: 'bool' and 'str'"
     ]
    }
   ],
   "source": [
    "#bool // string: \n",
    "True // 'Hello'"
   ]
  },
  {
   "cell_type": "code",
   "execution_count": 713,
   "id": "8909a665-39f4-4538-a854-8e6b834834d8",
   "metadata": {},
   "outputs": [
    {
     "ename": "TypeError",
     "evalue": "unsupported operand type(s) for //: 'bool' and 'NoneType'",
     "output_type": "error",
     "traceback": [
      "\u001b[1;31m---------------------------------------------------------------------------\u001b[0m",
      "\u001b[1;31mTypeError\u001b[0m                                 Traceback (most recent call last)",
      "Cell \u001b[1;32mIn[713], line 2\u001b[0m\n\u001b[0;32m      1\u001b[0m \u001b[38;5;66;03m#bool // NoneType: \u001b[39;00m\n\u001b[1;32m----> 2\u001b[0m \u001b[38;5;28;01mTrue\u001b[39;00m \u001b[38;5;241m/\u001b[39m\u001b[38;5;241m/\u001b[39m \u001b[38;5;28;01mNone\u001b[39;00m\n",
      "\u001b[1;31mTypeError\u001b[0m: unsupported operand type(s) for //: 'bool' and 'NoneType'"
     ]
    }
   ],
   "source": [
    "#bool // NoneType: \n",
    "True // None"
   ]
  },
  {
   "cell_type": "code",
   "execution_count": 715,
   "id": "194aa8e5-a129-4556-9b33-6a467377f5bc",
   "metadata": {},
   "outputs": [
    {
     "ename": "TypeError",
     "evalue": "unsupported operand type(s) for //: 'bool' and 'list'",
     "output_type": "error",
     "traceback": [
      "\u001b[1;31m---------------------------------------------------------------------------\u001b[0m",
      "\u001b[1;31mTypeError\u001b[0m                                 Traceback (most recent call last)",
      "Cell \u001b[1;32mIn[715], line 2\u001b[0m\n\u001b[0;32m      1\u001b[0m \u001b[38;5;66;03m#bool // list: \u001b[39;00m\n\u001b[1;32m----> 2\u001b[0m \u001b[38;5;28;01mTrue\u001b[39;00m \u001b[38;5;241m/\u001b[39m\u001b[38;5;241m/\u001b[39m [\u001b[38;5;241m1\u001b[39m, \u001b[38;5;241m2\u001b[39m, \u001b[38;5;241m3\u001b[39m]\n",
      "\u001b[1;31mTypeError\u001b[0m: unsupported operand type(s) for //: 'bool' and 'list'"
     ]
    }
   ],
   "source": [
    "#bool // list: \n",
    "True // [1, 2, 3]"
   ]
  },
  {
   "cell_type": "code",
   "execution_count": 717,
   "id": "d0960375-19a1-4cfa-83ac-c2bde8d168bb",
   "metadata": {},
   "outputs": [
    {
     "ename": "TypeError",
     "evalue": "unsupported operand type(s) for //: 'bool' and 'set'",
     "output_type": "error",
     "traceback": [
      "\u001b[1;31m---------------------------------------------------------------------------\u001b[0m",
      "\u001b[1;31mTypeError\u001b[0m                                 Traceback (most recent call last)",
      "Cell \u001b[1;32mIn[717], line 2\u001b[0m\n\u001b[0;32m      1\u001b[0m \u001b[38;5;66;03m#bool // set: \u001b[39;00m\n\u001b[1;32m----> 2\u001b[0m \u001b[38;5;28;01mTrue\u001b[39;00m \u001b[38;5;241m/\u001b[39m\u001b[38;5;241m/\u001b[39m {\u001b[38;5;241m1\u001b[39m, \u001b[38;5;241m2\u001b[39m, \u001b[38;5;241m3\u001b[39m}\n",
      "\u001b[1;31mTypeError\u001b[0m: unsupported operand type(s) for //: 'bool' and 'set'"
     ]
    }
   ],
   "source": [
    "#bool // set: \n",
    "True // {1, 2, 3}"
   ]
  },
  {
   "cell_type": "code",
   "execution_count": 719,
   "id": "74a64a26-59f9-459b-9c53-c91d607d54aa",
   "metadata": {},
   "outputs": [
    {
     "ename": "TypeError",
     "evalue": "unsupported operand type(s) for //: 'bool' and 'dict'",
     "output_type": "error",
     "traceback": [
      "\u001b[1;31m---------------------------------------------------------------------------\u001b[0m",
      "\u001b[1;31mTypeError\u001b[0m                                 Traceback (most recent call last)",
      "Cell \u001b[1;32mIn[719], line 2\u001b[0m\n\u001b[0;32m      1\u001b[0m \u001b[38;5;66;03m#bool // dict: \u001b[39;00m\n\u001b[1;32m----> 2\u001b[0m \u001b[38;5;28;01mTrue\u001b[39;00m \u001b[38;5;241m/\u001b[39m\u001b[38;5;241m/\u001b[39m {\u001b[38;5;124m'\u001b[39m\u001b[38;5;124ma\u001b[39m\u001b[38;5;124m'\u001b[39m: \u001b[38;5;241m1\u001b[39m}\n",
      "\u001b[1;31mTypeError\u001b[0m: unsupported operand type(s) for //: 'bool' and 'dict'"
     ]
    }
   ],
   "source": [
    "#bool // dict: \n",
    "True // {'a': 1}"
   ]
  },
  {
   "cell_type": "code",
   "execution_count": 721,
   "id": "5cd663da-1314-4ba5-ac6e-18f5c81a28b5",
   "metadata": {},
   "outputs": [
    {
     "ename": "TypeError",
     "evalue": "unsupported operand type(s) for //: 'bool' and 'tuple'",
     "output_type": "error",
     "traceback": [
      "\u001b[1;31m---------------------------------------------------------------------------\u001b[0m",
      "\u001b[1;31mTypeError\u001b[0m                                 Traceback (most recent call last)",
      "Cell \u001b[1;32mIn[721], line 2\u001b[0m\n\u001b[0;32m      1\u001b[0m \u001b[38;5;66;03m#bool // tuple:\u001b[39;00m\n\u001b[1;32m----> 2\u001b[0m \u001b[38;5;28;01mTrue\u001b[39;00m \u001b[38;5;241m/\u001b[39m\u001b[38;5;241m/\u001b[39m (\u001b[38;5;241m1\u001b[39m, \u001b[38;5;241m2\u001b[39m, \u001b[38;5;241m3\u001b[39m)\n",
      "\u001b[1;31mTypeError\u001b[0m: unsupported operand type(s) for //: 'bool' and 'tuple'"
     ]
    }
   ],
   "source": [
    "#bool // tuple:\n",
    "True // (1, 2, 3)"
   ]
  },
  {
   "cell_type": "markdown",
   "id": "f3237081-961a-40e7-91f0-1758c5502477",
   "metadata": {
    "jp-MarkdownHeadingCollapsed": true
   },
   "source": [
    "### Multiplication & Exponentiation"
   ]
  },
  {
   "cell_type": "code",
   "execution_count": 563,
   "id": "d2515dbd-f57b-49d9-8ab1-1c83c03d0af8",
   "metadata": {},
   "outputs": [
    {
     "data": {
      "text/plain": [
       "0"
      ]
     },
     "execution_count": 563,
     "metadata": {},
     "output_type": "execute_result"
    }
   ],
   "source": [
    "#bool * bool: \n",
    "True * False "
   ]
  },
  {
   "cell_type": "code",
   "execution_count": 565,
   "id": "e2a94d3e-c862-4807-b386-561c2a28f90a",
   "metadata": {},
   "outputs": [
    {
     "data": {
      "text/plain": [
       "1"
      ]
     },
     "execution_count": 565,
     "metadata": {},
     "output_type": "execute_result"
    }
   ],
   "source": [
    "#bool ** bool: \n",
    "True ** False "
   ]
  },
  {
   "cell_type": "code",
   "execution_count": 567,
   "id": "7a8ce15c-ae17-47cb-b491-edcf9a587794",
   "metadata": {},
   "outputs": [
    {
     "data": {
      "text/plain": [
       "3"
      ]
     },
     "execution_count": 567,
     "metadata": {},
     "output_type": "execute_result"
    }
   ],
   "source": [
    "#bool * int: \n",
    "True * 3 "
   ]
  },
  {
   "cell_type": "code",
   "execution_count": 569,
   "id": "12b19db7-7b63-468d-9571-85de90a710c7",
   "metadata": {},
   "outputs": [
    {
     "data": {
      "text/plain": [
       "1"
      ]
     },
     "execution_count": 569,
     "metadata": {},
     "output_type": "execute_result"
    }
   ],
   "source": [
    "#bool ** int:\n",
    "True ** 3 "
   ]
  },
  {
   "cell_type": "code",
   "execution_count": 571,
   "id": "701f66fe-c9db-4460-9bfe-f68ab0f64a51",
   "metadata": {},
   "outputs": [
    {
     "data": {
      "text/plain": [
       "2.5"
      ]
     },
     "execution_count": 571,
     "metadata": {},
     "output_type": "execute_result"
    }
   ],
   "source": [
    "#bool * float: \n",
    "True * 2.5"
   ]
  },
  {
   "cell_type": "code",
   "execution_count": 573,
   "id": "332156c7-de41-42c3-852e-fb81643f2ddf",
   "metadata": {},
   "outputs": [
    {
     "data": {
      "text/plain": [
       "1.0"
      ]
     },
     "execution_count": 573,
     "metadata": {},
     "output_type": "execute_result"
    }
   ],
   "source": [
    "#bool ** float: \n",
    "True ** 2.5"
   ]
  },
  {
   "cell_type": "code",
   "execution_count": 575,
   "id": "c1744782-111f-4911-876c-936f8fad1d31",
   "metadata": {},
   "outputs": [
    {
     "data": {
      "text/plain": [
       "'Hello'"
      ]
     },
     "execution_count": 575,
     "metadata": {},
     "output_type": "execute_result"
    }
   ],
   "source": [
    "#bool * string: \n",
    "True * 'Hello'"
   ]
  },
  {
   "cell_type": "code",
   "execution_count": 577,
   "id": "0319a790-9bf3-416f-a076-67f6c6c643c6",
   "metadata": {},
   "outputs": [
    {
     "ename": "TypeError",
     "evalue": "unsupported operand type(s) for ** or pow(): 'bool' and 'str'",
     "output_type": "error",
     "traceback": [
      "\u001b[1;31m---------------------------------------------------------------------------\u001b[0m",
      "\u001b[1;31mTypeError\u001b[0m                                 Traceback (most recent call last)",
      "Cell \u001b[1;32mIn[577], line 2\u001b[0m\n\u001b[0;32m      1\u001b[0m \u001b[38;5;66;03m#bool ** string: \u001b[39;00m\n\u001b[1;32m----> 2\u001b[0m \u001b[38;5;28;01mTrue\u001b[39;00m \u001b[38;5;241m*\u001b[39m\u001b[38;5;241m*\u001b[39m \u001b[38;5;124m'\u001b[39m\u001b[38;5;124mHello\u001b[39m\u001b[38;5;124m'\u001b[39m\n",
      "\u001b[1;31mTypeError\u001b[0m: unsupported operand type(s) for ** or pow(): 'bool' and 'str'"
     ]
    }
   ],
   "source": [
    "#bool ** string: \n",
    "True ** 'Hello'"
   ]
  },
  {
   "cell_type": "code",
   "execution_count": 579,
   "id": "0a6c5c71-3884-47f5-a034-0327101c4b70",
   "metadata": {},
   "outputs": [
    {
     "ename": "TypeError",
     "evalue": "unsupported operand type(s) for *: 'bool' and 'NoneType'",
     "output_type": "error",
     "traceback": [
      "\u001b[1;31m---------------------------------------------------------------------------\u001b[0m",
      "\u001b[1;31mTypeError\u001b[0m                                 Traceback (most recent call last)",
      "Cell \u001b[1;32mIn[579], line 2\u001b[0m\n\u001b[0;32m      1\u001b[0m \u001b[38;5;66;03m#bool * NoneType: \u001b[39;00m\n\u001b[1;32m----> 2\u001b[0m \u001b[38;5;28;01mTrue\u001b[39;00m \u001b[38;5;241m*\u001b[39m \u001b[38;5;28;01mNone\u001b[39;00m\n",
      "\u001b[1;31mTypeError\u001b[0m: unsupported operand type(s) for *: 'bool' and 'NoneType'"
     ]
    }
   ],
   "source": [
    "#bool * NoneType: \n",
    "True * None"
   ]
  },
  {
   "cell_type": "code",
   "execution_count": 581,
   "id": "98c91d5f-5938-4044-81b0-2b22ea43630a",
   "metadata": {},
   "outputs": [
    {
     "ename": "TypeError",
     "evalue": "unsupported operand type(s) for ** or pow(): 'bool' and 'NoneType'",
     "output_type": "error",
     "traceback": [
      "\u001b[1;31m---------------------------------------------------------------------------\u001b[0m",
      "\u001b[1;31mTypeError\u001b[0m                                 Traceback (most recent call last)",
      "Cell \u001b[1;32mIn[581], line 2\u001b[0m\n\u001b[0;32m      1\u001b[0m \u001b[38;5;66;03m#bool ** NoneType: \u001b[39;00m\n\u001b[1;32m----> 2\u001b[0m \u001b[38;5;28;01mTrue\u001b[39;00m \u001b[38;5;241m*\u001b[39m\u001b[38;5;241m*\u001b[39m \u001b[38;5;28;01mNone\u001b[39;00m\n",
      "\u001b[1;31mTypeError\u001b[0m: unsupported operand type(s) for ** or pow(): 'bool' and 'NoneType'"
     ]
    }
   ],
   "source": [
    "#bool ** NoneType: \n",
    "True ** None"
   ]
  },
  {
   "cell_type": "code",
   "execution_count": 583,
   "id": "33099a68-12a9-4d57-9785-168b61579bcb",
   "metadata": {},
   "outputs": [
    {
     "data": {
      "text/plain": [
       "[1, 2, 3]"
      ]
     },
     "execution_count": 583,
     "metadata": {},
     "output_type": "execute_result"
    }
   ],
   "source": [
    "#bool * list: \n",
    "True * [1, 2, 3]"
   ]
  },
  {
   "cell_type": "code",
   "execution_count": 585,
   "id": "d6f75c13-46f5-4dcb-88a2-cab5e69460d1",
   "metadata": {},
   "outputs": [
    {
     "ename": "TypeError",
     "evalue": "unsupported operand type(s) for ** or pow(): 'bool' and 'list'",
     "output_type": "error",
     "traceback": [
      "\u001b[1;31m---------------------------------------------------------------------------\u001b[0m",
      "\u001b[1;31mTypeError\u001b[0m                                 Traceback (most recent call last)",
      "Cell \u001b[1;32mIn[585], line 2\u001b[0m\n\u001b[0;32m      1\u001b[0m \u001b[38;5;66;03m#bool ** list: \u001b[39;00m\n\u001b[1;32m----> 2\u001b[0m \u001b[38;5;28;01mTrue\u001b[39;00m \u001b[38;5;241m*\u001b[39m\u001b[38;5;241m*\u001b[39m [\u001b[38;5;241m1\u001b[39m, \u001b[38;5;241m2\u001b[39m, \u001b[38;5;241m3\u001b[39m]\n",
      "\u001b[1;31mTypeError\u001b[0m: unsupported operand type(s) for ** or pow(): 'bool' and 'list'"
     ]
    }
   ],
   "source": [
    "#bool ** list: \n",
    "True ** [1, 2, 3]"
   ]
  },
  {
   "cell_type": "code",
   "execution_count": 587,
   "id": "fb60dbdc-8ec7-49a0-976e-2baee3214681",
   "metadata": {},
   "outputs": [
    {
     "ename": "TypeError",
     "evalue": "unsupported operand type(s) for *: 'bool' and 'set'",
     "output_type": "error",
     "traceback": [
      "\u001b[1;31m---------------------------------------------------------------------------\u001b[0m",
      "\u001b[1;31mTypeError\u001b[0m                                 Traceback (most recent call last)",
      "Cell \u001b[1;32mIn[587], line 2\u001b[0m\n\u001b[0;32m      1\u001b[0m \u001b[38;5;66;03m#bool * set: \u001b[39;00m\n\u001b[1;32m----> 2\u001b[0m \u001b[38;5;28;01mTrue\u001b[39;00m \u001b[38;5;241m*\u001b[39m {\u001b[38;5;241m1\u001b[39m, \u001b[38;5;241m2\u001b[39m, \u001b[38;5;241m3\u001b[39m}\n",
      "\u001b[1;31mTypeError\u001b[0m: unsupported operand type(s) for *: 'bool' and 'set'"
     ]
    }
   ],
   "source": [
    "#bool * set: \n",
    "True * {1, 2, 3}"
   ]
  },
  {
   "cell_type": "code",
   "execution_count": 589,
   "id": "3de03ccb-8db3-4b0e-afad-4c73675f70cb",
   "metadata": {},
   "outputs": [
    {
     "ename": "TypeError",
     "evalue": "unsupported operand type(s) for ** or pow(): 'bool' and 'set'",
     "output_type": "error",
     "traceback": [
      "\u001b[1;31m---------------------------------------------------------------------------\u001b[0m",
      "\u001b[1;31mTypeError\u001b[0m                                 Traceback (most recent call last)",
      "Cell \u001b[1;32mIn[589], line 2\u001b[0m\n\u001b[0;32m      1\u001b[0m \u001b[38;5;66;03m#bool ** set: \u001b[39;00m\n\u001b[1;32m----> 2\u001b[0m \u001b[38;5;28;01mTrue\u001b[39;00m \u001b[38;5;241m*\u001b[39m\u001b[38;5;241m*\u001b[39m {\u001b[38;5;241m1\u001b[39m, \u001b[38;5;241m2\u001b[39m, \u001b[38;5;241m3\u001b[39m}\n",
      "\u001b[1;31mTypeError\u001b[0m: unsupported operand type(s) for ** or pow(): 'bool' and 'set'"
     ]
    }
   ],
   "source": [
    "#bool ** set: \n",
    "True ** {1, 2, 3}"
   ]
  },
  {
   "cell_type": "code",
   "execution_count": 591,
   "id": "830d1f44-76ed-4dc2-8dc9-9786a1f14d3c",
   "metadata": {},
   "outputs": [
    {
     "ename": "TypeError",
     "evalue": "unsupported operand type(s) for *: 'bool' and 'dict'",
     "output_type": "error",
     "traceback": [
      "\u001b[1;31m---------------------------------------------------------------------------\u001b[0m",
      "\u001b[1;31mTypeError\u001b[0m                                 Traceback (most recent call last)",
      "Cell \u001b[1;32mIn[591], line 2\u001b[0m\n\u001b[0;32m      1\u001b[0m \u001b[38;5;66;03m#Bool * dict: \u001b[39;00m\n\u001b[1;32m----> 2\u001b[0m \u001b[38;5;28;01mTrue\u001b[39;00m \u001b[38;5;241m*\u001b[39m {\u001b[38;5;124m'\u001b[39m\u001b[38;5;124ma\u001b[39m\u001b[38;5;124m'\u001b[39m: \u001b[38;5;241m1\u001b[39m}\n",
      "\u001b[1;31mTypeError\u001b[0m: unsupported operand type(s) for *: 'bool' and 'dict'"
     ]
    }
   ],
   "source": [
    "#Bool * dict: \n",
    "True * {'a': 1}"
   ]
  },
  {
   "cell_type": "code",
   "execution_count": 593,
   "id": "6e83b526-7ef9-420e-b615-59d1e5a0cb22",
   "metadata": {},
   "outputs": [
    {
     "ename": "TypeError",
     "evalue": "unsupported operand type(s) for ** or pow(): 'bool' and 'dict'",
     "output_type": "error",
     "traceback": [
      "\u001b[1;31m---------------------------------------------------------------------------\u001b[0m",
      "\u001b[1;31mTypeError\u001b[0m                                 Traceback (most recent call last)",
      "Cell \u001b[1;32mIn[593], line 2\u001b[0m\n\u001b[0;32m      1\u001b[0m \u001b[38;5;66;03m#Bool ** dict: \u001b[39;00m\n\u001b[1;32m----> 2\u001b[0m \u001b[38;5;28;01mTrue\u001b[39;00m \u001b[38;5;241m*\u001b[39m\u001b[38;5;241m*\u001b[39m {\u001b[38;5;124m'\u001b[39m\u001b[38;5;124ma\u001b[39m\u001b[38;5;124m'\u001b[39m: \u001b[38;5;241m1\u001b[39m}\n",
      "\u001b[1;31mTypeError\u001b[0m: unsupported operand type(s) for ** or pow(): 'bool' and 'dict'"
     ]
    }
   ],
   "source": [
    "#Bool ** dict: \n",
    "True ** {'a': 1}"
   ]
  },
  {
   "cell_type": "code",
   "execution_count": 595,
   "id": "4ab2d757-2201-48ef-993f-932f09314b16",
   "metadata": {},
   "outputs": [
    {
     "data": {
      "text/plain": [
       "(1, 2, 3)"
      ]
     },
     "execution_count": 595,
     "metadata": {},
     "output_type": "execute_result"
    }
   ],
   "source": [
    "#bool * tuple: \n",
    "True * (1, 2, 3)"
   ]
  },
  {
   "cell_type": "code",
   "execution_count": 597,
   "id": "31968a28-6a67-4000-b453-502118cac3f1",
   "metadata": {},
   "outputs": [
    {
     "ename": "TypeError",
     "evalue": "unsupported operand type(s) for ** or pow(): 'bool' and 'tuple'",
     "output_type": "error",
     "traceback": [
      "\u001b[1;31m---------------------------------------------------------------------------\u001b[0m",
      "\u001b[1;31mTypeError\u001b[0m                                 Traceback (most recent call last)",
      "Cell \u001b[1;32mIn[597], line 2\u001b[0m\n\u001b[0;32m      1\u001b[0m \u001b[38;5;66;03m#bool ** tuple: \u001b[39;00m\n\u001b[1;32m----> 2\u001b[0m \u001b[38;5;28;01mTrue\u001b[39;00m \u001b[38;5;241m*\u001b[39m\u001b[38;5;241m*\u001b[39m (\u001b[38;5;241m1\u001b[39m, \u001b[38;5;241m2\u001b[39m, \u001b[38;5;241m3\u001b[39m)\n",
      "\u001b[1;31mTypeError\u001b[0m: unsupported operand type(s) for ** or pow(): 'bool' and 'tuple'"
     ]
    }
   ],
   "source": [
    "#bool ** tuple: \n",
    "True ** (1, 2, 3)"
   ]
  },
  {
   "cell_type": "markdown",
   "id": "ce2a8e23-276a-4a50-8987-2f8bef590a98",
   "metadata": {
    "jp-MarkdownHeadingCollapsed": true
   },
   "source": [
    "### Division"
   ]
  },
  {
   "cell_type": "code",
   "execution_count": 723,
   "id": "3eaca57c-1109-496d-8b00-a93430e144a4",
   "metadata": {},
   "outputs": [
    {
     "ename": "ZeroDivisionError",
     "evalue": "division by zero",
     "output_type": "error",
     "traceback": [
      "\u001b[1;31m---------------------------------------------------------------------------\u001b[0m",
      "\u001b[1;31mZeroDivisionError\u001b[0m                         Traceback (most recent call last)",
      "Cell \u001b[1;32mIn[723], line 2\u001b[0m\n\u001b[0;32m      1\u001b[0m \u001b[38;5;66;03m#bool / bool:\u001b[39;00m\n\u001b[1;32m----> 2\u001b[0m \u001b[38;5;28;01mTrue\u001b[39;00m \u001b[38;5;241m/\u001b[39m \u001b[38;5;28;01mFalse\u001b[39;00m\n",
      "\u001b[1;31mZeroDivisionError\u001b[0m: division by zero"
     ]
    }
   ],
   "source": [
    "#bool / bool:\n",
    "True / False"
   ]
  },
  {
   "cell_type": "code",
   "execution_count": 725,
   "id": "de68231a-a0e1-44fc-b6d5-078943fa0810",
   "metadata": {},
   "outputs": [
    {
     "data": {
      "text/plain": [
       "0.3333333333333333"
      ]
     },
     "execution_count": 725,
     "metadata": {},
     "output_type": "execute_result"
    }
   ],
   "source": [
    "#bool / int: \n",
    "True / 3"
   ]
  },
  {
   "cell_type": "code",
   "execution_count": 727,
   "id": "a9966fc8-3ef5-4ffa-88a5-f520c1e60ee9",
   "metadata": {},
   "outputs": [
    {
     "data": {
      "text/plain": [
       "0.4"
      ]
     },
     "execution_count": 727,
     "metadata": {},
     "output_type": "execute_result"
    }
   ],
   "source": [
    "#bool / float: \n",
    "True / 2.5"
   ]
  },
  {
   "cell_type": "code",
   "execution_count": 729,
   "id": "e5ddfd93-1cdd-4ec8-abe6-687667e16241",
   "metadata": {},
   "outputs": [
    {
     "ename": "TypeError",
     "evalue": "unsupported operand type(s) for /: 'bool' and 'str'",
     "output_type": "error",
     "traceback": [
      "\u001b[1;31m---------------------------------------------------------------------------\u001b[0m",
      "\u001b[1;31mTypeError\u001b[0m                                 Traceback (most recent call last)",
      "Cell \u001b[1;32mIn[729], line 2\u001b[0m\n\u001b[0;32m      1\u001b[0m \u001b[38;5;66;03m# bool / string: \u001b[39;00m\n\u001b[1;32m----> 2\u001b[0m \u001b[38;5;28;01mTrue\u001b[39;00m \u001b[38;5;241m/\u001b[39m \u001b[38;5;124m'\u001b[39m\u001b[38;5;124mHello\u001b[39m\u001b[38;5;124m'\u001b[39m\n",
      "\u001b[1;31mTypeError\u001b[0m: unsupported operand type(s) for /: 'bool' and 'str'"
     ]
    }
   ],
   "source": [
    "# bool / string: \n",
    "True / 'Hello'"
   ]
  },
  {
   "cell_type": "code",
   "execution_count": 611,
   "id": "0943a8db-066f-465d-a9f1-e12aa57aadb3",
   "metadata": {},
   "outputs": [],
   "source": [
    "#bool / NoneType: True / None"
   ]
  },
  {
   "cell_type": "code",
   "execution_count": 731,
   "id": "3dd78293-6867-41cf-a3fb-9a6361e36f5f",
   "metadata": {},
   "outputs": [
    {
     "ename": "TypeError",
     "evalue": "unsupported operand type(s) for /: 'bool' and 'list'",
     "output_type": "error",
     "traceback": [
      "\u001b[1;31m---------------------------------------------------------------------------\u001b[0m",
      "\u001b[1;31mTypeError\u001b[0m                                 Traceback (most recent call last)",
      "Cell \u001b[1;32mIn[731], line 2\u001b[0m\n\u001b[0;32m      1\u001b[0m \u001b[38;5;66;03m#bool / list: \u001b[39;00m\n\u001b[1;32m----> 2\u001b[0m \u001b[38;5;28;01mTrue\u001b[39;00m \u001b[38;5;241m/\u001b[39m [\u001b[38;5;241m1\u001b[39m, \u001b[38;5;241m2\u001b[39m, \u001b[38;5;241m3\u001b[39m]\n",
      "\u001b[1;31mTypeError\u001b[0m: unsupported operand type(s) for /: 'bool' and 'list'"
     ]
    }
   ],
   "source": [
    "#bool / list: \n",
    "True / [1, 2, 3]"
   ]
  },
  {
   "cell_type": "code",
   "execution_count": 733,
   "id": "fe05edfd-b1ab-42d7-964f-a92b4f448906",
   "metadata": {},
   "outputs": [
    {
     "ename": "TypeError",
     "evalue": "unsupported operand type(s) for /: 'bool' and 'set'",
     "output_type": "error",
     "traceback": [
      "\u001b[1;31m---------------------------------------------------------------------------\u001b[0m",
      "\u001b[1;31mTypeError\u001b[0m                                 Traceback (most recent call last)",
      "Cell \u001b[1;32mIn[733], line 2\u001b[0m\n\u001b[0;32m      1\u001b[0m \u001b[38;5;66;03m#bool / set:\u001b[39;00m\n\u001b[1;32m----> 2\u001b[0m \u001b[38;5;28;01mTrue\u001b[39;00m \u001b[38;5;241m/\u001b[39m {\u001b[38;5;241m1\u001b[39m, \u001b[38;5;241m2\u001b[39m, \u001b[38;5;241m3\u001b[39m}\n",
      "\u001b[1;31mTypeError\u001b[0m: unsupported operand type(s) for /: 'bool' and 'set'"
     ]
    }
   ],
   "source": [
    "#bool / set:\n",
    "True / {1, 2, 3}"
   ]
  },
  {
   "cell_type": "code",
   "execution_count": 735,
   "id": "eb52454e-7e1b-41d8-8696-e08546a6c427",
   "metadata": {},
   "outputs": [
    {
     "ename": "TypeError",
     "evalue": "unsupported operand type(s) for /: 'bool' and 'dict'",
     "output_type": "error",
     "traceback": [
      "\u001b[1;31m---------------------------------------------------------------------------\u001b[0m",
      "\u001b[1;31mTypeError\u001b[0m                                 Traceback (most recent call last)",
      "Cell \u001b[1;32mIn[735], line 2\u001b[0m\n\u001b[0;32m      1\u001b[0m \u001b[38;5;66;03m#bool / dict: \u001b[39;00m\n\u001b[1;32m----> 2\u001b[0m \u001b[38;5;28;01mTrue\u001b[39;00m \u001b[38;5;241m/\u001b[39m {\u001b[38;5;124m'\u001b[39m\u001b[38;5;124ma\u001b[39m\u001b[38;5;124m'\u001b[39m: \u001b[38;5;241m1\u001b[39m}\n",
      "\u001b[1;31mTypeError\u001b[0m: unsupported operand type(s) for /: 'bool' and 'dict'"
     ]
    }
   ],
   "source": [
    "#bool / dict: \n",
    "True / {'a': 1}"
   ]
  },
  {
   "cell_type": "code",
   "execution_count": 737,
   "id": "132f6607-0e29-431f-b5f8-ef9d6567f5d1",
   "metadata": {},
   "outputs": [
    {
     "ename": "TypeError",
     "evalue": "unsupported operand type(s) for /: 'bool' and 'tuple'",
     "output_type": "error",
     "traceback": [
      "\u001b[1;31m---------------------------------------------------------------------------\u001b[0m",
      "\u001b[1;31mTypeError\u001b[0m                                 Traceback (most recent call last)",
      "Cell \u001b[1;32mIn[737], line 2\u001b[0m\n\u001b[0;32m      1\u001b[0m \u001b[38;5;66;03m#bool / tuple: \u001b[39;00m\n\u001b[1;32m----> 2\u001b[0m \u001b[38;5;28;01mTrue\u001b[39;00m \u001b[38;5;241m/\u001b[39m (\u001b[38;5;241m1\u001b[39m, \u001b[38;5;241m2\u001b[39m, \u001b[38;5;241m3\u001b[39m)\n",
      "\u001b[1;31mTypeError\u001b[0m: unsupported operand type(s) for /: 'bool' and 'tuple'"
     ]
    }
   ],
   "source": [
    "#bool / tuple: \n",
    "True / (1, 2, 3)"
   ]
  },
  {
   "cell_type": "markdown",
   "id": "5545cb84-ed72-462f-95ce-58526b4b79e4",
   "metadata": {},
   "source": [
    "# NONETYPE"
   ]
  },
  {
   "cell_type": "markdown",
   "id": "5dd7f20e-9ce7-41a7-a587-cef36a557e38",
   "metadata": {
    "jp-MarkdownHeadingCollapsed": true
   },
   "source": [
    "### Addition"
   ]
  },
  {
   "cell_type": "code",
   "execution_count": 813,
   "id": "23df8b8c-349a-4f6b-b212-74fb895ac2ea",
   "metadata": {},
   "outputs": [
    {
     "ename": "TypeError",
     "evalue": "unsupported operand type(s) for +: 'NoneType' and 'int'",
     "output_type": "error",
     "traceback": [
      "\u001b[1;31m---------------------------------------------------------------------------\u001b[0m",
      "\u001b[1;31mTypeError\u001b[0m                                 Traceback (most recent call last)",
      "Cell \u001b[1;32mIn[813], line 2\u001b[0m\n\u001b[0;32m      1\u001b[0m \u001b[38;5;66;03m#None + int: \u001b[39;00m\n\u001b[1;32m----> 2\u001b[0m \u001b[38;5;28;01mNone\u001b[39;00m \u001b[38;5;241m+\u001b[39m \u001b[38;5;241m3\u001b[39m\n",
      "\u001b[1;31mTypeError\u001b[0m: unsupported operand type(s) for +: 'NoneType' and 'int'"
     ]
    }
   ],
   "source": [
    "#None + int: \n",
    "None + 3"
   ]
  },
  {
   "cell_type": "code",
   "execution_count": 815,
   "id": "021d6821-4952-4111-b9cf-f61e4fcd24bd",
   "metadata": {},
   "outputs": [
    {
     "ename": "TypeError",
     "evalue": "unsupported operand type(s) for +: 'NoneType' and 'float'",
     "output_type": "error",
     "traceback": [
      "\u001b[1;31m---------------------------------------------------------------------------\u001b[0m",
      "\u001b[1;31mTypeError\u001b[0m                                 Traceback (most recent call last)",
      "Cell \u001b[1;32mIn[815], line 2\u001b[0m\n\u001b[0;32m      1\u001b[0m \u001b[38;5;66;03m#None + float:\u001b[39;00m\n\u001b[1;32m----> 2\u001b[0m \u001b[38;5;28;01mNone\u001b[39;00m \u001b[38;5;241m+\u001b[39m \u001b[38;5;241m2.5\u001b[39m\n",
      "\u001b[1;31mTypeError\u001b[0m: unsupported operand type(s) for +: 'NoneType' and 'float'"
     ]
    }
   ],
   "source": [
    "#None + float:\n",
    "None + 2.5"
   ]
  },
  {
   "cell_type": "code",
   "execution_count": 817,
   "id": "61015289-e16d-404c-a92a-ac13c78ff3c2",
   "metadata": {},
   "outputs": [
    {
     "ename": "TypeError",
     "evalue": "unsupported operand type(s) for +: 'NoneType' and 'bool'",
     "output_type": "error",
     "traceback": [
      "\u001b[1;31m---------------------------------------------------------------------------\u001b[0m",
      "\u001b[1;31mTypeError\u001b[0m                                 Traceback (most recent call last)",
      "Cell \u001b[1;32mIn[817], line 2\u001b[0m\n\u001b[0;32m      1\u001b[0m \u001b[38;5;66;03m#None + bool: \u001b[39;00m\n\u001b[1;32m----> 2\u001b[0m \u001b[38;5;28;01mNone\u001b[39;00m \u001b[38;5;241m+\u001b[39m \u001b[38;5;28;01mTrue\u001b[39;00m\n",
      "\u001b[1;31mTypeError\u001b[0m: unsupported operand type(s) for +: 'NoneType' and 'bool'"
     ]
    }
   ],
   "source": [
    "#None + bool: \n",
    "None + True"
   ]
  },
  {
   "cell_type": "code",
   "execution_count": 819,
   "id": "24d8f4a5-d422-48ac-8653-e79cefb9fd8c",
   "metadata": {},
   "outputs": [
    {
     "ename": "TypeError",
     "evalue": "unsupported operand type(s) for +: 'NoneType' and 'str'",
     "output_type": "error",
     "traceback": [
      "\u001b[1;31m---------------------------------------------------------------------------\u001b[0m",
      "\u001b[1;31mTypeError\u001b[0m                                 Traceback (most recent call last)",
      "Cell \u001b[1;32mIn[819], line 2\u001b[0m\n\u001b[0;32m      1\u001b[0m \u001b[38;5;66;03m#None + str: \u001b[39;00m\n\u001b[1;32m----> 2\u001b[0m \u001b[38;5;28;01mNone\u001b[39;00m \u001b[38;5;241m+\u001b[39m \u001b[38;5;124m'\u001b[39m\u001b[38;5;124mHello\u001b[39m\u001b[38;5;124m'\u001b[39m\n",
      "\u001b[1;31mTypeError\u001b[0m: unsupported operand type(s) for +: 'NoneType' and 'str'"
     ]
    }
   ],
   "source": [
    "#None + str: \n",
    "None + 'Hello'"
   ]
  },
  {
   "cell_type": "code",
   "execution_count": 821,
   "id": "b20f79c9-69a3-42c3-b36b-c89b41a56954",
   "metadata": {},
   "outputs": [
    {
     "ename": "TypeError",
     "evalue": "unsupported operand type(s) for +: 'NoneType' and 'list'",
     "output_type": "error",
     "traceback": [
      "\u001b[1;31m---------------------------------------------------------------------------\u001b[0m",
      "\u001b[1;31mTypeError\u001b[0m                                 Traceback (most recent call last)",
      "Cell \u001b[1;32mIn[821], line 2\u001b[0m\n\u001b[0;32m      1\u001b[0m \u001b[38;5;66;03m#None + list:\u001b[39;00m\n\u001b[1;32m----> 2\u001b[0m \u001b[38;5;28;01mNone\u001b[39;00m \u001b[38;5;241m+\u001b[39m [\u001b[38;5;241m1\u001b[39m, \u001b[38;5;241m2\u001b[39m, \u001b[38;5;241m3\u001b[39m]\n",
      "\u001b[1;31mTypeError\u001b[0m: unsupported operand type(s) for +: 'NoneType' and 'list'"
     ]
    }
   ],
   "source": [
    "#None + list:\n",
    "None + [1, 2, 3]"
   ]
  },
  {
   "cell_type": "code",
   "execution_count": 823,
   "id": "e3872b09-c26b-4912-9be5-1f6048f11608",
   "metadata": {},
   "outputs": [
    {
     "ename": "TypeError",
     "evalue": "unsupported operand type(s) for +: 'NoneType' and 'set'",
     "output_type": "error",
     "traceback": [
      "\u001b[1;31m---------------------------------------------------------------------------\u001b[0m",
      "\u001b[1;31mTypeError\u001b[0m                                 Traceback (most recent call last)",
      "Cell \u001b[1;32mIn[823], line 2\u001b[0m\n\u001b[0;32m      1\u001b[0m \u001b[38;5;66;03m#None + set: \u001b[39;00m\n\u001b[1;32m----> 2\u001b[0m \u001b[38;5;28;01mNone\u001b[39;00m \u001b[38;5;241m+\u001b[39m {\u001b[38;5;241m1\u001b[39m, \u001b[38;5;241m2\u001b[39m, \u001b[38;5;241m3\u001b[39m}\n",
      "\u001b[1;31mTypeError\u001b[0m: unsupported operand type(s) for +: 'NoneType' and 'set'"
     ]
    }
   ],
   "source": [
    "#None + set: \n",
    "None + {1, 2, 3}"
   ]
  },
  {
   "cell_type": "code",
   "execution_count": 825,
   "id": "dae593d8-6c93-4b2f-b3a1-e0e51e453ee5",
   "metadata": {},
   "outputs": [
    {
     "ename": "TypeError",
     "evalue": "unsupported operand type(s) for +: 'NoneType' and 'dict'",
     "output_type": "error",
     "traceback": [
      "\u001b[1;31m---------------------------------------------------------------------------\u001b[0m",
      "\u001b[1;31mTypeError\u001b[0m                                 Traceback (most recent call last)",
      "Cell \u001b[1;32mIn[825], line 2\u001b[0m\n\u001b[0;32m      1\u001b[0m \u001b[38;5;66;03m#None + dict:\u001b[39;00m\n\u001b[1;32m----> 2\u001b[0m \u001b[38;5;28;01mNone\u001b[39;00m \u001b[38;5;241m+\u001b[39m {\u001b[38;5;124m'\u001b[39m\u001b[38;5;124ma\u001b[39m\u001b[38;5;124m'\u001b[39m: \u001b[38;5;241m1\u001b[39m}\n",
      "\u001b[1;31mTypeError\u001b[0m: unsupported operand type(s) for +: 'NoneType' and 'dict'"
     ]
    }
   ],
   "source": [
    "#None + dict:\n",
    "None + {'a': 1}"
   ]
  },
  {
   "cell_type": "code",
   "execution_count": 827,
   "id": "277e3b96-d7c0-4f3e-b774-95a8e5b806e3",
   "metadata": {},
   "outputs": [
    {
     "ename": "TypeError",
     "evalue": "unsupported operand type(s) for +: 'NoneType' and 'tuple'",
     "output_type": "error",
     "traceback": [
      "\u001b[1;31m---------------------------------------------------------------------------\u001b[0m",
      "\u001b[1;31mTypeError\u001b[0m                                 Traceback (most recent call last)",
      "Cell \u001b[1;32mIn[827], line 2\u001b[0m\n\u001b[0;32m      1\u001b[0m \u001b[38;5;66;03m#None + tuple: \u001b[39;00m\n\u001b[1;32m----> 2\u001b[0m \u001b[38;5;28;01mNone\u001b[39;00m \u001b[38;5;241m+\u001b[39m (\u001b[38;5;241m1\u001b[39m, \u001b[38;5;241m2\u001b[39m, \u001b[38;5;241m3\u001b[39m)\n",
      "\u001b[1;31mTypeError\u001b[0m: unsupported operand type(s) for +: 'NoneType' and 'tuple'"
     ]
    }
   ],
   "source": [
    "#None + tuple: \n",
    "None + (1, 2, 3)"
   ]
  },
  {
   "cell_type": "code",
   "execution_count": 109,
   "id": "224f70f3-3270-4443-b615-fe31d820540b",
   "metadata": {},
   "outputs": [
    {
     "ename": "TypeError",
     "evalue": "unsupported operand type(s) for +: 'NoneType' and 'NoneType'",
     "output_type": "error",
     "traceback": [
      "\u001b[1;31m---------------------------------------------------------------------------\u001b[0m",
      "\u001b[1;31mTypeError\u001b[0m                                 Traceback (most recent call last)",
      "Cell \u001b[1;32mIn[109], line 2\u001b[0m\n\u001b[0;32m      1\u001b[0m \u001b[38;5;66;03m#None + None: \u001b[39;00m\n\u001b[1;32m----> 2\u001b[0m \u001b[38;5;28;01mNone\u001b[39;00m \u001b[38;5;241m+\u001b[39m \u001b[38;5;28;01mNone\u001b[39;00m\n",
      "\u001b[1;31mTypeError\u001b[0m: unsupported operand type(s) for +: 'NoneType' and 'NoneType'"
     ]
    }
   ],
   "source": [
    "#None + None: \n",
    "None + None"
   ]
  },
  {
   "cell_type": "markdown",
   "id": "539a3932-9836-465d-82f7-9f27070a3d63",
   "metadata": {
    "jp-MarkdownHeadingCollapsed": true
   },
   "source": [
    "### Substraction"
   ]
  },
  {
   "cell_type": "code",
   "execution_count": 831,
   "id": "f11cdf6e-b036-4de4-a583-556318f22b85",
   "metadata": {},
   "outputs": [
    {
     "ename": "TypeError",
     "evalue": "unsupported operand type(s) for -: 'NoneType' and 'int'",
     "output_type": "error",
     "traceback": [
      "\u001b[1;31m---------------------------------------------------------------------------\u001b[0m",
      "\u001b[1;31mTypeError\u001b[0m                                 Traceback (most recent call last)",
      "Cell \u001b[1;32mIn[831], line 2\u001b[0m\n\u001b[0;32m      1\u001b[0m \u001b[38;5;66;03m#None - int: \u001b[39;00m\n\u001b[1;32m----> 2\u001b[0m \u001b[38;5;28;01mNone\u001b[39;00m \u001b[38;5;241m-\u001b[39m \u001b[38;5;241m3\u001b[39m\n",
      "\u001b[1;31mTypeError\u001b[0m: unsupported operand type(s) for -: 'NoneType' and 'int'"
     ]
    }
   ],
   "source": [
    "#None - int: \n",
    "None - 3"
   ]
  },
  {
   "cell_type": "code",
   "execution_count": 117,
   "id": "ec071dba-9d12-43bf-91f4-128b6281f081",
   "metadata": {},
   "outputs": [
    {
     "ename": "TypeError",
     "evalue": "unsupported operand type(s) for -: 'NoneType' and 'NoneType'",
     "output_type": "error",
     "traceback": [
      "\u001b[1;31m---------------------------------------------------------------------------\u001b[0m",
      "\u001b[1;31mTypeError\u001b[0m                                 Traceback (most recent call last)",
      "Cell \u001b[1;32mIn[117], line 2\u001b[0m\n\u001b[0;32m      1\u001b[0m \u001b[38;5;66;03m#None - None: \u001b[39;00m\n\u001b[1;32m----> 2\u001b[0m \u001b[38;5;28;01mNone\u001b[39;00m \u001b[38;5;241m-\u001b[39m \u001b[38;5;28;01mNone\u001b[39;00m\n",
      "\u001b[1;31mTypeError\u001b[0m: unsupported operand type(s) for -: 'NoneType' and 'NoneType'"
     ]
    }
   ],
   "source": [
    "#None - None: \n",
    "None - None"
   ]
  },
  {
   "cell_type": "code",
   "execution_count": 833,
   "id": "efd91ff9-72f8-47ea-af4d-0983778b7304",
   "metadata": {},
   "outputs": [
    {
     "ename": "TypeError",
     "evalue": "unsupported operand type(s) for -: 'NoneType' and 'float'",
     "output_type": "error",
     "traceback": [
      "\u001b[1;31m---------------------------------------------------------------------------\u001b[0m",
      "\u001b[1;31mTypeError\u001b[0m                                 Traceback (most recent call last)",
      "Cell \u001b[1;32mIn[833], line 2\u001b[0m\n\u001b[0;32m      1\u001b[0m \u001b[38;5;66;03m#None - float: \u001b[39;00m\n\u001b[1;32m----> 2\u001b[0m \u001b[38;5;28;01mNone\u001b[39;00m \u001b[38;5;241m-\u001b[39m \u001b[38;5;241m2.5\u001b[39m\n",
      "\u001b[1;31mTypeError\u001b[0m: unsupported operand type(s) for -: 'NoneType' and 'float'"
     ]
    }
   ],
   "source": [
    "#None - float: \n",
    "None - 2.5"
   ]
  },
  {
   "cell_type": "code",
   "execution_count": 835,
   "id": "a01e3914-9b34-415e-8eab-9250c3ae6846",
   "metadata": {},
   "outputs": [
    {
     "ename": "TypeError",
     "evalue": "unsupported operand type(s) for -: 'NoneType' and 'bool'",
     "output_type": "error",
     "traceback": [
      "\u001b[1;31m---------------------------------------------------------------------------\u001b[0m",
      "\u001b[1;31mTypeError\u001b[0m                                 Traceback (most recent call last)",
      "Cell \u001b[1;32mIn[835], line 2\u001b[0m\n\u001b[0;32m      1\u001b[0m \u001b[38;5;66;03m#None - bool: \u001b[39;00m\n\u001b[1;32m----> 2\u001b[0m \u001b[38;5;28;01mNone\u001b[39;00m \u001b[38;5;241m-\u001b[39m \u001b[38;5;28;01mTrue\u001b[39;00m\n",
      "\u001b[1;31mTypeError\u001b[0m: unsupported operand type(s) for -: 'NoneType' and 'bool'"
     ]
    }
   ],
   "source": [
    "#None - bool: \n",
    "None - True"
   ]
  },
  {
   "cell_type": "code",
   "execution_count": 837,
   "id": "59a387e8-96c9-4413-b04f-a619a46aea44",
   "metadata": {},
   "outputs": [
    {
     "ename": "TypeError",
     "evalue": "unsupported operand type(s) for -: 'NoneType' and 'str'",
     "output_type": "error",
     "traceback": [
      "\u001b[1;31m---------------------------------------------------------------------------\u001b[0m",
      "\u001b[1;31mTypeError\u001b[0m                                 Traceback (most recent call last)",
      "Cell \u001b[1;32mIn[837], line 2\u001b[0m\n\u001b[0;32m      1\u001b[0m \u001b[38;5;66;03m#None - str: \u001b[39;00m\n\u001b[1;32m----> 2\u001b[0m \u001b[38;5;28;01mNone\u001b[39;00m \u001b[38;5;241m-\u001b[39m \u001b[38;5;124m'\u001b[39m\u001b[38;5;124mHello\u001b[39m\u001b[38;5;124m'\u001b[39m\n",
      "\u001b[1;31mTypeError\u001b[0m: unsupported operand type(s) for -: 'NoneType' and 'str'"
     ]
    }
   ],
   "source": [
    "#None - str: \n",
    "None - 'Hello'"
   ]
  },
  {
   "cell_type": "code",
   "execution_count": 839,
   "id": "6a9b9800-372b-4d7e-9c26-cf8092ebb91e",
   "metadata": {},
   "outputs": [
    {
     "ename": "TypeError",
     "evalue": "unsupported operand type(s) for -: 'NoneType' and 'list'",
     "output_type": "error",
     "traceback": [
      "\u001b[1;31m---------------------------------------------------------------------------\u001b[0m",
      "\u001b[1;31mTypeError\u001b[0m                                 Traceback (most recent call last)",
      "Cell \u001b[1;32mIn[839], line 2\u001b[0m\n\u001b[0;32m      1\u001b[0m \u001b[38;5;66;03m#None - list: \u001b[39;00m\n\u001b[1;32m----> 2\u001b[0m \u001b[38;5;28;01mNone\u001b[39;00m \u001b[38;5;241m-\u001b[39m [\u001b[38;5;241m1\u001b[39m, \u001b[38;5;241m2\u001b[39m, \u001b[38;5;241m3\u001b[39m]\n",
      "\u001b[1;31mTypeError\u001b[0m: unsupported operand type(s) for -: 'NoneType' and 'list'"
     ]
    }
   ],
   "source": [
    "#None - list: \n",
    "None - [1, 2, 3]"
   ]
  },
  {
   "cell_type": "code",
   "execution_count": 841,
   "id": "2bfd7b4c-9d54-49b1-a57e-a6b16491f523",
   "metadata": {},
   "outputs": [
    {
     "ename": "TypeError",
     "evalue": "unsupported operand type(s) for -: 'NoneType' and 'set'",
     "output_type": "error",
     "traceback": [
      "\u001b[1;31m---------------------------------------------------------------------------\u001b[0m",
      "\u001b[1;31mTypeError\u001b[0m                                 Traceback (most recent call last)",
      "Cell \u001b[1;32mIn[841], line 2\u001b[0m\n\u001b[0;32m      1\u001b[0m \u001b[38;5;66;03m#None - set: \u001b[39;00m\n\u001b[1;32m----> 2\u001b[0m \u001b[38;5;28;01mNone\u001b[39;00m \u001b[38;5;241m-\u001b[39m {\u001b[38;5;241m1\u001b[39m, \u001b[38;5;241m2\u001b[39m, \u001b[38;5;241m3\u001b[39m}\n",
      "\u001b[1;31mTypeError\u001b[0m: unsupported operand type(s) for -: 'NoneType' and 'set'"
     ]
    }
   ],
   "source": [
    "#None - set: \n",
    "None - {1, 2, 3}"
   ]
  },
  {
   "cell_type": "code",
   "execution_count": 843,
   "id": "fab0ff4b-589f-4171-b44c-3d9691744a70",
   "metadata": {},
   "outputs": [
    {
     "ename": "TypeError",
     "evalue": "unsupported operand type(s) for -: 'NoneType' and 'dict'",
     "output_type": "error",
     "traceback": [
      "\u001b[1;31m---------------------------------------------------------------------------\u001b[0m",
      "\u001b[1;31mTypeError\u001b[0m                                 Traceback (most recent call last)",
      "Cell \u001b[1;32mIn[843], line 2\u001b[0m\n\u001b[0;32m      1\u001b[0m \u001b[38;5;66;03m#None - dict: \u001b[39;00m\n\u001b[1;32m----> 2\u001b[0m \u001b[38;5;28;01mNone\u001b[39;00m \u001b[38;5;241m-\u001b[39m {\u001b[38;5;124m'\u001b[39m\u001b[38;5;124ma\u001b[39m\u001b[38;5;124m'\u001b[39m: \u001b[38;5;241m1\u001b[39m}\n",
      "\u001b[1;31mTypeError\u001b[0m: unsupported operand type(s) for -: 'NoneType' and 'dict'"
     ]
    }
   ],
   "source": [
    "#None - dict: \n",
    "None - {'a': 1}"
   ]
  },
  {
   "cell_type": "code",
   "execution_count": 845,
   "id": "336fea67-38ba-4a22-bbc2-93eb8400309f",
   "metadata": {},
   "outputs": [
    {
     "ename": "TypeError",
     "evalue": "unsupported operand type(s) for -: 'NoneType' and 'tuple'",
     "output_type": "error",
     "traceback": [
      "\u001b[1;31m---------------------------------------------------------------------------\u001b[0m",
      "\u001b[1;31mTypeError\u001b[0m                                 Traceback (most recent call last)",
      "Cell \u001b[1;32mIn[845], line 2\u001b[0m\n\u001b[0;32m      1\u001b[0m \u001b[38;5;66;03m#None - tuple: \u001b[39;00m\n\u001b[1;32m----> 2\u001b[0m \u001b[38;5;28;01mNone\u001b[39;00m \u001b[38;5;241m-\u001b[39m (\u001b[38;5;241m1\u001b[39m, \u001b[38;5;241m2\u001b[39m, \u001b[38;5;241m3\u001b[39m)\n",
      "\u001b[1;31mTypeError\u001b[0m: unsupported operand type(s) for -: 'NoneType' and 'tuple'"
     ]
    }
   ],
   "source": [
    "#None - tuple: \n",
    "None - (1, 2, 3)"
   ]
  },
  {
   "cell_type": "markdown",
   "id": "e82faaf4-38ef-4ca7-8dd4-39bf1dbc5a20",
   "metadata": {
    "jp-MarkdownHeadingCollapsed": true
   },
   "source": [
    "### Exponentiation"
   ]
  },
  {
   "cell_type": "code",
   "execution_count": 848,
   "id": "a19f9290-5d49-48dc-9f8a-2b3e1311be83",
   "metadata": {},
   "outputs": [
    {
     "ename": "TypeError",
     "evalue": "unsupported operand type(s) for ** or pow(): 'NoneType' and 'int'",
     "output_type": "error",
     "traceback": [
      "\u001b[1;31m---------------------------------------------------------------------------\u001b[0m",
      "\u001b[1;31mTypeError\u001b[0m                                 Traceback (most recent call last)",
      "Cell \u001b[1;32mIn[848], line 2\u001b[0m\n\u001b[0;32m      1\u001b[0m \u001b[38;5;66;03m#None ** int: \u001b[39;00m\n\u001b[1;32m----> 2\u001b[0m \u001b[38;5;28;01mNone\u001b[39;00m \u001b[38;5;241m*\u001b[39m\u001b[38;5;241m*\u001b[39m \u001b[38;5;241m3\u001b[39m\n",
      "\u001b[1;31mTypeError\u001b[0m: unsupported operand type(s) for ** or pow(): 'NoneType' and 'int'"
     ]
    }
   ],
   "source": [
    "#None ** int: \n",
    "None ** 3"
   ]
  },
  {
   "cell_type": "code",
   "execution_count": 119,
   "id": "c564a8f3-6453-40cd-9f54-8a2918a6bb0f",
   "metadata": {},
   "outputs": [
    {
     "ename": "TypeError",
     "evalue": "unsupported operand type(s) for ** or pow(): 'NoneType' and 'NoneType'",
     "output_type": "error",
     "traceback": [
      "\u001b[1;31m---------------------------------------------------------------------------\u001b[0m",
      "\u001b[1;31mTypeError\u001b[0m                                 Traceback (most recent call last)",
      "Cell \u001b[1;32mIn[119], line 2\u001b[0m\n\u001b[0;32m      1\u001b[0m \u001b[38;5;66;03m#None ** None: \u001b[39;00m\n\u001b[1;32m----> 2\u001b[0m \u001b[38;5;28;01mNone\u001b[39;00m \u001b[38;5;241m*\u001b[39m\u001b[38;5;241m*\u001b[39m \u001b[38;5;28;01mNone\u001b[39;00m\n",
      "\u001b[1;31mTypeError\u001b[0m: unsupported operand type(s) for ** or pow(): 'NoneType' and 'NoneType'"
     ]
    }
   ],
   "source": [
    "#None ** None: \n",
    "None ** None"
   ]
  },
  {
   "cell_type": "code",
   "execution_count": 850,
   "id": "b303e39e-8338-454f-b073-95f6025eeb4e",
   "metadata": {},
   "outputs": [
    {
     "ename": "TypeError",
     "evalue": "unsupported operand type(s) for ** or pow(): 'NoneType' and 'float'",
     "output_type": "error",
     "traceback": [
      "\u001b[1;31m---------------------------------------------------------------------------\u001b[0m",
      "\u001b[1;31mTypeError\u001b[0m                                 Traceback (most recent call last)",
      "Cell \u001b[1;32mIn[850], line 2\u001b[0m\n\u001b[0;32m      1\u001b[0m \u001b[38;5;66;03m#None ** float: \u001b[39;00m\n\u001b[1;32m----> 2\u001b[0m \u001b[38;5;28;01mNone\u001b[39;00m \u001b[38;5;241m*\u001b[39m\u001b[38;5;241m*\u001b[39m \u001b[38;5;241m2.5\u001b[39m\n",
      "\u001b[1;31mTypeError\u001b[0m: unsupported operand type(s) for ** or pow(): 'NoneType' and 'float'"
     ]
    }
   ],
   "source": [
    "#None ** float: \n",
    "None ** 2.5"
   ]
  },
  {
   "cell_type": "code",
   "execution_count": 852,
   "id": "9ffb6861-760b-4d3c-b53e-ee717bf118e9",
   "metadata": {},
   "outputs": [
    {
     "ename": "TypeError",
     "evalue": "unsupported operand type(s) for ** or pow(): 'NoneType' and 'bool'",
     "output_type": "error",
     "traceback": [
      "\u001b[1;31m---------------------------------------------------------------------------\u001b[0m",
      "\u001b[1;31mTypeError\u001b[0m                                 Traceback (most recent call last)",
      "Cell \u001b[1;32mIn[852], line 2\u001b[0m\n\u001b[0;32m      1\u001b[0m \u001b[38;5;66;03m#None ** bool: \u001b[39;00m\n\u001b[1;32m----> 2\u001b[0m \u001b[38;5;28;01mNone\u001b[39;00m \u001b[38;5;241m*\u001b[39m\u001b[38;5;241m*\u001b[39m \u001b[38;5;28;01mTrue\u001b[39;00m\n",
      "\u001b[1;31mTypeError\u001b[0m: unsupported operand type(s) for ** or pow(): 'NoneType' and 'bool'"
     ]
    }
   ],
   "source": [
    "#None ** bool: \n",
    "None ** True"
   ]
  },
  {
   "cell_type": "code",
   "execution_count": 854,
   "id": "1f8b52ba-d1b5-4115-a58d-13142cd64eb2",
   "metadata": {},
   "outputs": [
    {
     "ename": "TypeError",
     "evalue": "unsupported operand type(s) for ** or pow(): 'NoneType' and 'str'",
     "output_type": "error",
     "traceback": [
      "\u001b[1;31m---------------------------------------------------------------------------\u001b[0m",
      "\u001b[1;31mTypeError\u001b[0m                                 Traceback (most recent call last)",
      "Cell \u001b[1;32mIn[854], line 2\u001b[0m\n\u001b[0;32m      1\u001b[0m \u001b[38;5;66;03m#None ** str: \u001b[39;00m\n\u001b[1;32m----> 2\u001b[0m \u001b[38;5;28;01mNone\u001b[39;00m \u001b[38;5;241m*\u001b[39m\u001b[38;5;241m*\u001b[39m \u001b[38;5;124m'\u001b[39m\u001b[38;5;124mHello\u001b[39m\u001b[38;5;124m'\u001b[39m\n",
      "\u001b[1;31mTypeError\u001b[0m: unsupported operand type(s) for ** or pow(): 'NoneType' and 'str'"
     ]
    }
   ],
   "source": [
    "#None ** str: \n",
    "None ** 'Hello'"
   ]
  },
  {
   "cell_type": "code",
   "execution_count": 856,
   "id": "91d81fe5-9430-4f90-97a7-7a668fc3ccd2",
   "metadata": {},
   "outputs": [
    {
     "ename": "TypeError",
     "evalue": "unsupported operand type(s) for ** or pow(): 'NoneType' and 'list'",
     "output_type": "error",
     "traceback": [
      "\u001b[1;31m---------------------------------------------------------------------------\u001b[0m",
      "\u001b[1;31mTypeError\u001b[0m                                 Traceback (most recent call last)",
      "Cell \u001b[1;32mIn[856], line 2\u001b[0m\n\u001b[0;32m      1\u001b[0m \u001b[38;5;66;03m#None ** list: \u001b[39;00m\n\u001b[1;32m----> 2\u001b[0m \u001b[38;5;28;01mNone\u001b[39;00m \u001b[38;5;241m*\u001b[39m\u001b[38;5;241m*\u001b[39m [\u001b[38;5;241m1\u001b[39m, \u001b[38;5;241m2\u001b[39m, \u001b[38;5;241m3\u001b[39m]\n",
      "\u001b[1;31mTypeError\u001b[0m: unsupported operand type(s) for ** or pow(): 'NoneType' and 'list'"
     ]
    }
   ],
   "source": [
    "#None ** list: \n",
    "None ** [1, 2, 3]"
   ]
  },
  {
   "cell_type": "code",
   "execution_count": 858,
   "id": "c03dbd50-33b6-40c0-b9c1-c6b802280dbe",
   "metadata": {},
   "outputs": [
    {
     "ename": "TypeError",
     "evalue": "unsupported operand type(s) for ** or pow(): 'NoneType' and 'set'",
     "output_type": "error",
     "traceback": [
      "\u001b[1;31m---------------------------------------------------------------------------\u001b[0m",
      "\u001b[1;31mTypeError\u001b[0m                                 Traceback (most recent call last)",
      "Cell \u001b[1;32mIn[858], line 2\u001b[0m\n\u001b[0;32m      1\u001b[0m \u001b[38;5;66;03m#None ** set: \u001b[39;00m\n\u001b[1;32m----> 2\u001b[0m \u001b[38;5;28;01mNone\u001b[39;00m \u001b[38;5;241m*\u001b[39m\u001b[38;5;241m*\u001b[39m {\u001b[38;5;241m1\u001b[39m, \u001b[38;5;241m2\u001b[39m, \u001b[38;5;241m3\u001b[39m}\n",
      "\u001b[1;31mTypeError\u001b[0m: unsupported operand type(s) for ** or pow(): 'NoneType' and 'set'"
     ]
    }
   ],
   "source": [
    "#None ** set: \n",
    "None ** {1, 2, 3}"
   ]
  },
  {
   "cell_type": "code",
   "execution_count": 860,
   "id": "af35fbff-a537-4649-98a8-64d18feff733",
   "metadata": {},
   "outputs": [
    {
     "ename": "TypeError",
     "evalue": "unsupported operand type(s) for ** or pow(): 'NoneType' and 'dict'",
     "output_type": "error",
     "traceback": [
      "\u001b[1;31m---------------------------------------------------------------------------\u001b[0m",
      "\u001b[1;31mTypeError\u001b[0m                                 Traceback (most recent call last)",
      "Cell \u001b[1;32mIn[860], line 2\u001b[0m\n\u001b[0;32m      1\u001b[0m \u001b[38;5;66;03m#None ** dict:\u001b[39;00m\n\u001b[1;32m----> 2\u001b[0m \u001b[38;5;28;01mNone\u001b[39;00m \u001b[38;5;241m*\u001b[39m\u001b[38;5;241m*\u001b[39m {\u001b[38;5;124m'\u001b[39m\u001b[38;5;124ma\u001b[39m\u001b[38;5;124m'\u001b[39m: \u001b[38;5;241m1\u001b[39m}\n",
      "\u001b[1;31mTypeError\u001b[0m: unsupported operand type(s) for ** or pow(): 'NoneType' and 'dict'"
     ]
    }
   ],
   "source": [
    "#None ** dict:\n",
    "None ** {'a': 1} "
   ]
  },
  {
   "cell_type": "code",
   "execution_count": 862,
   "id": "06d0fd2f-d0e0-4b7a-a72c-02fca3af7646",
   "metadata": {},
   "outputs": [
    {
     "ename": "TypeError",
     "evalue": "unsupported operand type(s) for ** or pow(): 'NoneType' and 'tuple'",
     "output_type": "error",
     "traceback": [
      "\u001b[1;31m---------------------------------------------------------------------------\u001b[0m",
      "\u001b[1;31mTypeError\u001b[0m                                 Traceback (most recent call last)",
      "Cell \u001b[1;32mIn[862], line 2\u001b[0m\n\u001b[0;32m      1\u001b[0m \u001b[38;5;66;03m#None ** tuple: \u001b[39;00m\n\u001b[1;32m----> 2\u001b[0m \u001b[38;5;28;01mNone\u001b[39;00m \u001b[38;5;241m*\u001b[39m\u001b[38;5;241m*\u001b[39m (\u001b[38;5;241m1\u001b[39m, \u001b[38;5;241m2\u001b[39m, \u001b[38;5;241m3\u001b[39m)\n",
      "\u001b[1;31mTypeError\u001b[0m: unsupported operand type(s) for ** or pow(): 'NoneType' and 'tuple'"
     ]
    }
   ],
   "source": [
    "#None ** tuple: \n",
    "None ** (1, 2, 3)"
   ]
  },
  {
   "cell_type": "markdown",
   "id": "3177e5aa-e298-41fe-a394-c11f853510e1",
   "metadata": {
    "jp-MarkdownHeadingCollapsed": true
   },
   "source": [
    "### Multiplication"
   ]
  },
  {
   "cell_type": "code",
   "execution_count": 866,
   "id": "6afdbc2f-f176-4ebf-8e52-78557614e74e",
   "metadata": {},
   "outputs": [
    {
     "ename": "TypeError",
     "evalue": "unsupported operand type(s) for *: 'NoneType' and 'int'",
     "output_type": "error",
     "traceback": [
      "\u001b[1;31m---------------------------------------------------------------------------\u001b[0m",
      "\u001b[1;31mTypeError\u001b[0m                                 Traceback (most recent call last)",
      "Cell \u001b[1;32mIn[866], line 2\u001b[0m\n\u001b[0;32m      1\u001b[0m \u001b[38;5;66;03m#None * int: \u001b[39;00m\n\u001b[1;32m----> 2\u001b[0m \u001b[38;5;28;01mNone\u001b[39;00m \u001b[38;5;241m*\u001b[39m \u001b[38;5;241m3\u001b[39m\n",
      "\u001b[1;31mTypeError\u001b[0m: unsupported operand type(s) for *: 'NoneType' and 'int'"
     ]
    }
   ],
   "source": [
    "#None * int: \n",
    "None * 3"
   ]
  },
  {
   "cell_type": "code",
   "execution_count": 121,
   "id": "c857c6c0-f7c1-415a-bf0e-10864a242aca",
   "metadata": {},
   "outputs": [
    {
     "ename": "TypeError",
     "evalue": "unsupported operand type(s) for *: 'NoneType' and 'NoneType'",
     "output_type": "error",
     "traceback": [
      "\u001b[1;31m---------------------------------------------------------------------------\u001b[0m",
      "\u001b[1;31mTypeError\u001b[0m                                 Traceback (most recent call last)",
      "Cell \u001b[1;32mIn[121], line 2\u001b[0m\n\u001b[0;32m      1\u001b[0m \u001b[38;5;66;03m#None * None: \u001b[39;00m\n\u001b[1;32m----> 2\u001b[0m \u001b[38;5;28;01mNone\u001b[39;00m \u001b[38;5;241m*\u001b[39m \u001b[38;5;28;01mNone\u001b[39;00m\n",
      "\u001b[1;31mTypeError\u001b[0m: unsupported operand type(s) for *: 'NoneType' and 'NoneType'"
     ]
    }
   ],
   "source": [
    "#None * None: \n",
    "None * None"
   ]
  },
  {
   "cell_type": "code",
   "execution_count": 868,
   "id": "8c334943-fa6a-4d38-82c6-1787949e014a",
   "metadata": {},
   "outputs": [
    {
     "ename": "TypeError",
     "evalue": "unsupported operand type(s) for *: 'NoneType' and 'float'",
     "output_type": "error",
     "traceback": [
      "\u001b[1;31m---------------------------------------------------------------------------\u001b[0m",
      "\u001b[1;31mTypeError\u001b[0m                                 Traceback (most recent call last)",
      "Cell \u001b[1;32mIn[868], line 2\u001b[0m\n\u001b[0;32m      1\u001b[0m \u001b[38;5;66;03m#None * float: \u001b[39;00m\n\u001b[1;32m----> 2\u001b[0m \u001b[38;5;28;01mNone\u001b[39;00m \u001b[38;5;241m*\u001b[39m \u001b[38;5;241m2.5\u001b[39m\n",
      "\u001b[1;31mTypeError\u001b[0m: unsupported operand type(s) for *: 'NoneType' and 'float'"
     ]
    }
   ],
   "source": [
    "#None * float: \n",
    "None * 2.5"
   ]
  },
  {
   "cell_type": "code",
   "execution_count": 870,
   "id": "7b9a4fdd-23ff-443c-aed0-24acb3a03dc0",
   "metadata": {},
   "outputs": [
    {
     "ename": "TypeError",
     "evalue": "unsupported operand type(s) for *: 'NoneType' and 'bool'",
     "output_type": "error",
     "traceback": [
      "\u001b[1;31m---------------------------------------------------------------------------\u001b[0m",
      "\u001b[1;31mTypeError\u001b[0m                                 Traceback (most recent call last)",
      "Cell \u001b[1;32mIn[870], line 2\u001b[0m\n\u001b[0;32m      1\u001b[0m \u001b[38;5;66;03m#None * bool: \u001b[39;00m\n\u001b[1;32m----> 2\u001b[0m \u001b[38;5;28;01mNone\u001b[39;00m \u001b[38;5;241m*\u001b[39m \u001b[38;5;28;01mTrue\u001b[39;00m\n",
      "\u001b[1;31mTypeError\u001b[0m: unsupported operand type(s) for *: 'NoneType' and 'bool'"
     ]
    }
   ],
   "source": [
    "#None * bool: \n",
    "None * True"
   ]
  },
  {
   "cell_type": "code",
   "execution_count": 872,
   "id": "0e8ac029-a852-4045-9165-6b83572a02fc",
   "metadata": {},
   "outputs": [
    {
     "ename": "TypeError",
     "evalue": "can't multiply sequence by non-int of type 'NoneType'",
     "output_type": "error",
     "traceback": [
      "\u001b[1;31m---------------------------------------------------------------------------\u001b[0m",
      "\u001b[1;31mTypeError\u001b[0m                                 Traceback (most recent call last)",
      "Cell \u001b[1;32mIn[872], line 2\u001b[0m\n\u001b[0;32m      1\u001b[0m \u001b[38;5;66;03m#None * str:\u001b[39;00m\n\u001b[1;32m----> 2\u001b[0m \u001b[38;5;28;01mNone\u001b[39;00m \u001b[38;5;241m*\u001b[39m \u001b[38;5;124m'\u001b[39m\u001b[38;5;124mHello\u001b[39m\u001b[38;5;124m'\u001b[39m\n",
      "\u001b[1;31mTypeError\u001b[0m: can't multiply sequence by non-int of type 'NoneType'"
     ]
    }
   ],
   "source": [
    "#None * str:\n",
    "None * 'Hello' "
   ]
  },
  {
   "cell_type": "code",
   "execution_count": 874,
   "id": "162e61c0-a43e-4332-9411-57732d9b15ad",
   "metadata": {
    "scrolled": true
   },
   "outputs": [
    {
     "ename": "TypeError",
     "evalue": "can't multiply sequence by non-int of type 'NoneType'",
     "output_type": "error",
     "traceback": [
      "\u001b[1;31m---------------------------------------------------------------------------\u001b[0m",
      "\u001b[1;31mTypeError\u001b[0m                                 Traceback (most recent call last)",
      "Cell \u001b[1;32mIn[874], line 2\u001b[0m\n\u001b[0;32m      1\u001b[0m \u001b[38;5;66;03m#None * list: \u001b[39;00m\n\u001b[1;32m----> 2\u001b[0m \u001b[38;5;28;01mNone\u001b[39;00m \u001b[38;5;241m*\u001b[39m [\u001b[38;5;241m1\u001b[39m, \u001b[38;5;241m2\u001b[39m, \u001b[38;5;241m3\u001b[39m]\n",
      "\u001b[1;31mTypeError\u001b[0m: can't multiply sequence by non-int of type 'NoneType'"
     ]
    }
   ],
   "source": [
    "#None * list: \n",
    "None * [1, 2, 3]"
   ]
  },
  {
   "cell_type": "code",
   "execution_count": 876,
   "id": "9fea1dea-972c-4e3e-9a21-f6ff438a177f",
   "metadata": {},
   "outputs": [
    {
     "ename": "TypeError",
     "evalue": "unsupported operand type(s) for *: 'NoneType' and 'set'",
     "output_type": "error",
     "traceback": [
      "\u001b[1;31m---------------------------------------------------------------------------\u001b[0m",
      "\u001b[1;31mTypeError\u001b[0m                                 Traceback (most recent call last)",
      "Cell \u001b[1;32mIn[876], line 2\u001b[0m\n\u001b[0;32m      1\u001b[0m \u001b[38;5;66;03m#None * set: \u001b[39;00m\n\u001b[1;32m----> 2\u001b[0m \u001b[38;5;28;01mNone\u001b[39;00m \u001b[38;5;241m*\u001b[39m {\u001b[38;5;241m1\u001b[39m, \u001b[38;5;241m2\u001b[39m, \u001b[38;5;241m3\u001b[39m}\n",
      "\u001b[1;31mTypeError\u001b[0m: unsupported operand type(s) for *: 'NoneType' and 'set'"
     ]
    }
   ],
   "source": [
    "#None * set: \n",
    "None * {1, 2, 3}"
   ]
  },
  {
   "cell_type": "code",
   "execution_count": 878,
   "id": "ad5607e5-9211-4b1b-9b90-a5d68dcf483f",
   "metadata": {},
   "outputs": [
    {
     "ename": "TypeError",
     "evalue": "unsupported operand type(s) for *: 'NoneType' and 'dict'",
     "output_type": "error",
     "traceback": [
      "\u001b[1;31m---------------------------------------------------------------------------\u001b[0m",
      "\u001b[1;31mTypeError\u001b[0m                                 Traceback (most recent call last)",
      "Cell \u001b[1;32mIn[878], line 2\u001b[0m\n\u001b[0;32m      1\u001b[0m \u001b[38;5;66;03m#None * dict:\u001b[39;00m\n\u001b[1;32m----> 2\u001b[0m \u001b[38;5;28;01mNone\u001b[39;00m \u001b[38;5;241m*\u001b[39m {\u001b[38;5;124m'\u001b[39m\u001b[38;5;124ma\u001b[39m\u001b[38;5;124m'\u001b[39m: \u001b[38;5;241m1\u001b[39m}\n",
      "\u001b[1;31mTypeError\u001b[0m: unsupported operand type(s) for *: 'NoneType' and 'dict'"
     ]
    }
   ],
   "source": [
    "#None * dict:\n",
    "None * {'a': 1}"
   ]
  },
  {
   "cell_type": "code",
   "execution_count": 880,
   "id": "51879d87-0dcd-4116-96d6-e8ef08353386",
   "metadata": {},
   "outputs": [
    {
     "ename": "TypeError",
     "evalue": "can't multiply sequence by non-int of type 'NoneType'",
     "output_type": "error",
     "traceback": [
      "\u001b[1;31m---------------------------------------------------------------------------\u001b[0m",
      "\u001b[1;31mTypeError\u001b[0m                                 Traceback (most recent call last)",
      "Cell \u001b[1;32mIn[880], line 2\u001b[0m\n\u001b[0;32m      1\u001b[0m \u001b[38;5;66;03m#None * tuple: \u001b[39;00m\n\u001b[1;32m----> 2\u001b[0m \u001b[38;5;28;01mNone\u001b[39;00m \u001b[38;5;241m*\u001b[39m (\u001b[38;5;241m1\u001b[39m, \u001b[38;5;241m2\u001b[39m, \u001b[38;5;241m3\u001b[39m)\n",
      "\u001b[1;31mTypeError\u001b[0m: can't multiply sequence by non-int of type 'NoneType'"
     ]
    }
   ],
   "source": [
    "#None * tuple: \n",
    "None * (1, 2, 3)"
   ]
  },
  {
   "cell_type": "markdown",
   "id": "a15b5398-347a-4ea7-87bd-e296e8b46f21",
   "metadata": {
    "jp-MarkdownHeadingCollapsed": true
   },
   "source": [
    "### Floor Division"
   ]
  },
  {
   "cell_type": "code",
   "execution_count": 5,
   "id": "d5f100ff-9a80-4145-ae17-3601404221f7",
   "metadata": {},
   "outputs": [
    {
     "ename": "TypeError",
     "evalue": "unsupported operand type(s) for //: 'NoneType' and 'int'",
     "output_type": "error",
     "traceback": [
      "\u001b[1;31m---------------------------------------------------------------------------\u001b[0m",
      "\u001b[1;31mTypeError\u001b[0m                                 Traceback (most recent call last)",
      "Cell \u001b[1;32mIn[5], line 2\u001b[0m\n\u001b[0;32m      1\u001b[0m \u001b[38;5;66;03m#None // int: \u001b[39;00m\n\u001b[1;32m----> 2\u001b[0m \u001b[38;5;28;01mNone\u001b[39;00m \u001b[38;5;241m/\u001b[39m\u001b[38;5;241m/\u001b[39m \u001b[38;5;241m5\u001b[39m\n",
      "\u001b[1;31mTypeError\u001b[0m: unsupported operand type(s) for //: 'NoneType' and 'int'"
     ]
    }
   ],
   "source": [
    "#None // int: \n",
    "None // 5"
   ]
  },
  {
   "cell_type": "code",
   "execution_count": 123,
   "id": "9159e69a-cf37-421f-9831-e0f6648db668",
   "metadata": {},
   "outputs": [
    {
     "ename": "TypeError",
     "evalue": "unsupported operand type(s) for //: 'NoneType' and 'NoneType'",
     "output_type": "error",
     "traceback": [
      "\u001b[1;31m---------------------------------------------------------------------------\u001b[0m",
      "\u001b[1;31mTypeError\u001b[0m                                 Traceback (most recent call last)",
      "Cell \u001b[1;32mIn[123], line 2\u001b[0m\n\u001b[0;32m      1\u001b[0m \u001b[38;5;66;03m#None // None: \u001b[39;00m\n\u001b[1;32m----> 2\u001b[0m \u001b[38;5;28;01mNone\u001b[39;00m \u001b[38;5;241m/\u001b[39m\u001b[38;5;241m/\u001b[39m \u001b[38;5;28;01mNone\u001b[39;00m\n",
      "\u001b[1;31mTypeError\u001b[0m: unsupported operand type(s) for //: 'NoneType' and 'NoneType'"
     ]
    }
   ],
   "source": [
    "#None // None: \n",
    "None // None"
   ]
  },
  {
   "cell_type": "code",
   "execution_count": 7,
   "id": "6d4673f7-52f2-4dd6-a41e-b098be31f2ea",
   "metadata": {},
   "outputs": [
    {
     "ename": "TypeError",
     "evalue": "unsupported operand type(s) for //: 'NoneType' and 'float'",
     "output_type": "error",
     "traceback": [
      "\u001b[1;31m---------------------------------------------------------------------------\u001b[0m",
      "\u001b[1;31mTypeError\u001b[0m                                 Traceback (most recent call last)",
      "Cell \u001b[1;32mIn[7], line 2\u001b[0m\n\u001b[0;32m      1\u001b[0m \u001b[38;5;66;03m#NoneType // float: \u001b[39;00m\n\u001b[1;32m----> 2\u001b[0m \u001b[38;5;28;01mNone\u001b[39;00m \u001b[38;5;241m/\u001b[39m\u001b[38;5;241m/\u001b[39m \u001b[38;5;241m2.5\u001b[39m\n",
      "\u001b[1;31mTypeError\u001b[0m: unsupported operand type(s) for //: 'NoneType' and 'float'"
     ]
    }
   ],
   "source": [
    "#NoneType // float: \n",
    "None // 2.5"
   ]
  },
  {
   "cell_type": "code",
   "execution_count": 9,
   "id": "2f76648a-a1ea-4487-bcdc-24de484c3fbf",
   "metadata": {},
   "outputs": [
    {
     "ename": "TypeError",
     "evalue": "unsupported operand type(s) for //: 'NoneType' and 'bool'",
     "output_type": "error",
     "traceback": [
      "\u001b[1;31m---------------------------------------------------------------------------\u001b[0m",
      "\u001b[1;31mTypeError\u001b[0m                                 Traceback (most recent call last)",
      "Cell \u001b[1;32mIn[9], line 2\u001b[0m\n\u001b[0;32m      1\u001b[0m \u001b[38;5;66;03m#NoneType // bool: \u001b[39;00m\n\u001b[1;32m----> 2\u001b[0m \u001b[38;5;28;01mNone\u001b[39;00m \u001b[38;5;241m/\u001b[39m\u001b[38;5;241m/\u001b[39m \u001b[38;5;28;01mTrue\u001b[39;00m\n",
      "\u001b[1;31mTypeError\u001b[0m: unsupported operand type(s) for //: 'NoneType' and 'bool'"
     ]
    }
   ],
   "source": [
    "#NoneType // bool: \n",
    "None // True"
   ]
  },
  {
   "cell_type": "code",
   "execution_count": 11,
   "id": "90f0ce3b-c672-4701-98b3-d715f9aa0dd5",
   "metadata": {},
   "outputs": [
    {
     "ename": "TypeError",
     "evalue": "unsupported operand type(s) for //: 'NoneType' and 'str'",
     "output_type": "error",
     "traceback": [
      "\u001b[1;31m---------------------------------------------------------------------------\u001b[0m",
      "\u001b[1;31mTypeError\u001b[0m                                 Traceback (most recent call last)",
      "Cell \u001b[1;32mIn[11], line 2\u001b[0m\n\u001b[0;32m      1\u001b[0m \u001b[38;5;66;03m#NoneType // string: \u001b[39;00m\n\u001b[1;32m----> 2\u001b[0m \u001b[38;5;28;01mNone\u001b[39;00m \u001b[38;5;241m/\u001b[39m\u001b[38;5;241m/\u001b[39m \u001b[38;5;124m'\u001b[39m\u001b[38;5;124mHello\u001b[39m\u001b[38;5;124m'\u001b[39m\n",
      "\u001b[1;31mTypeError\u001b[0m: unsupported operand type(s) for //: 'NoneType' and 'str'"
     ]
    }
   ],
   "source": [
    "#NoneType // string: \n",
    "None // 'Hello'"
   ]
  },
  {
   "cell_type": "code",
   "execution_count": 13,
   "id": "f39fef80-4094-414e-90b7-5eb41b55e167",
   "metadata": {},
   "outputs": [
    {
     "ename": "TypeError",
     "evalue": "unsupported operand type(s) for //: 'NoneType' and 'list'",
     "output_type": "error",
     "traceback": [
      "\u001b[1;31m---------------------------------------------------------------------------\u001b[0m",
      "\u001b[1;31mTypeError\u001b[0m                                 Traceback (most recent call last)",
      "Cell \u001b[1;32mIn[13], line 2\u001b[0m\n\u001b[0;32m      1\u001b[0m \u001b[38;5;66;03m#NoneType // list: \u001b[39;00m\n\u001b[1;32m----> 2\u001b[0m \u001b[38;5;28;01mNone\u001b[39;00m \u001b[38;5;241m/\u001b[39m\u001b[38;5;241m/\u001b[39m [\u001b[38;5;241m1\u001b[39m, \u001b[38;5;241m2\u001b[39m, \u001b[38;5;241m3\u001b[39m]\n",
      "\u001b[1;31mTypeError\u001b[0m: unsupported operand type(s) for //: 'NoneType' and 'list'"
     ]
    }
   ],
   "source": [
    "#NoneType // list: \n",
    "None // [1, 2, 3]"
   ]
  },
  {
   "cell_type": "code",
   "execution_count": 15,
   "id": "e75e443c-95b3-4ade-83f4-de38273d5b3a",
   "metadata": {},
   "outputs": [
    {
     "ename": "TypeError",
     "evalue": "unsupported operand type(s) for //: 'NoneType' and 'set'",
     "output_type": "error",
     "traceback": [
      "\u001b[1;31m---------------------------------------------------------------------------\u001b[0m",
      "\u001b[1;31mTypeError\u001b[0m                                 Traceback (most recent call last)",
      "Cell \u001b[1;32mIn[15], line 2\u001b[0m\n\u001b[0;32m      1\u001b[0m \u001b[38;5;66;03m#NoneType // set: \u001b[39;00m\n\u001b[1;32m----> 2\u001b[0m \u001b[38;5;28;01mNone\u001b[39;00m \u001b[38;5;241m/\u001b[39m\u001b[38;5;241m/\u001b[39m {\u001b[38;5;241m1\u001b[39m, \u001b[38;5;241m2\u001b[39m, \u001b[38;5;241m3\u001b[39m}\n",
      "\u001b[1;31mTypeError\u001b[0m: unsupported operand type(s) for //: 'NoneType' and 'set'"
     ]
    }
   ],
   "source": [
    "#NoneType // set: \n",
    "None // {1, 2, 3}"
   ]
  },
  {
   "cell_type": "code",
   "execution_count": 17,
   "id": "b46e0630-a357-4626-80df-5ec600eaa55a",
   "metadata": {},
   "outputs": [
    {
     "ename": "TypeError",
     "evalue": "unsupported operand type(s) for //: 'NoneType' and 'dict'",
     "output_type": "error",
     "traceback": [
      "\u001b[1;31m---------------------------------------------------------------------------\u001b[0m",
      "\u001b[1;31mTypeError\u001b[0m                                 Traceback (most recent call last)",
      "Cell \u001b[1;32mIn[17], line 2\u001b[0m\n\u001b[0;32m      1\u001b[0m \u001b[38;5;66;03m#NoneType // dictionary: \u001b[39;00m\n\u001b[1;32m----> 2\u001b[0m \u001b[38;5;28;01mNone\u001b[39;00m \u001b[38;5;241m/\u001b[39m\u001b[38;5;241m/\u001b[39m {\u001b[38;5;124m'\u001b[39m\u001b[38;5;124ma\u001b[39m\u001b[38;5;124m'\u001b[39m: \u001b[38;5;241m1\u001b[39m}\n",
      "\u001b[1;31mTypeError\u001b[0m: unsupported operand type(s) for //: 'NoneType' and 'dict'"
     ]
    }
   ],
   "source": [
    "#NoneType // dictionary: \n",
    "None // {'a': 1}"
   ]
  },
  {
   "cell_type": "code",
   "execution_count": 19,
   "id": "1d603b43-8944-4494-b939-7575ca174c93",
   "metadata": {},
   "outputs": [
    {
     "ename": "TypeError",
     "evalue": "unsupported operand type(s) for //: 'NoneType' and 'tuple'",
     "output_type": "error",
     "traceback": [
      "\u001b[1;31m---------------------------------------------------------------------------\u001b[0m",
      "\u001b[1;31mTypeError\u001b[0m                                 Traceback (most recent call last)",
      "Cell \u001b[1;32mIn[19], line 2\u001b[0m\n\u001b[0;32m      1\u001b[0m \u001b[38;5;66;03m#NoneType // tuple: \u001b[39;00m\n\u001b[1;32m----> 2\u001b[0m \u001b[38;5;28;01mNone\u001b[39;00m \u001b[38;5;241m/\u001b[39m\u001b[38;5;241m/\u001b[39m (\u001b[38;5;241m1\u001b[39m, \u001b[38;5;241m2\u001b[39m, \u001b[38;5;241m3\u001b[39m)\n",
      "\u001b[1;31mTypeError\u001b[0m: unsupported operand type(s) for //: 'NoneType' and 'tuple'"
     ]
    }
   ],
   "source": [
    "#NoneType // tuple: \n",
    "None // (1, 2, 3)"
   ]
  },
  {
   "cell_type": "markdown",
   "id": "226ec983-c623-4911-a485-d7d50bd21112",
   "metadata": {
    "jp-MarkdownHeadingCollapsed": true
   },
   "source": [
    "### Division"
   ]
  },
  {
   "cell_type": "code",
   "execution_count": 21,
   "id": "b505269a-cb18-4b6b-94e4-ca6bfb072e47",
   "metadata": {},
   "outputs": [
    {
     "ename": "TypeError",
     "evalue": "unsupported operand type(s) for /: 'NoneType' and 'int'",
     "output_type": "error",
     "traceback": [
      "\u001b[1;31m---------------------------------------------------------------------------\u001b[0m",
      "\u001b[1;31mTypeError\u001b[0m                                 Traceback (most recent call last)",
      "Cell \u001b[1;32mIn[21], line 2\u001b[0m\n\u001b[0;32m      1\u001b[0m \u001b[38;5;66;03m#NoneType / int: \u001b[39;00m\n\u001b[1;32m----> 2\u001b[0m \u001b[38;5;28;01mNone\u001b[39;00m \u001b[38;5;241m/\u001b[39m \u001b[38;5;241m5\u001b[39m\n",
      "\u001b[1;31mTypeError\u001b[0m: unsupported operand type(s) for /: 'NoneType' and 'int'"
     ]
    }
   ],
   "source": [
    "#NoneType / int: \n",
    "None / 5"
   ]
  },
  {
   "cell_type": "code",
   "execution_count": 125,
   "id": "16e0bc42-8af2-4c10-9522-a8519ccca701",
   "metadata": {},
   "outputs": [
    {
     "ename": "TypeError",
     "evalue": "unsupported operand type(s) for /: 'NoneType' and 'NoneType'",
     "output_type": "error",
     "traceback": [
      "\u001b[1;31m---------------------------------------------------------------------------\u001b[0m",
      "\u001b[1;31mTypeError\u001b[0m                                 Traceback (most recent call last)",
      "Cell \u001b[1;32mIn[125], line 2\u001b[0m\n\u001b[0;32m      1\u001b[0m \u001b[38;5;66;03m#NoneType / None: \u001b[39;00m\n\u001b[1;32m----> 2\u001b[0m \u001b[38;5;28;01mNone\u001b[39;00m \u001b[38;5;241m/\u001b[39m \u001b[38;5;28;01mNone\u001b[39;00m\n",
      "\u001b[1;31mTypeError\u001b[0m: unsupported operand type(s) for /: 'NoneType' and 'NoneType'"
     ]
    }
   ],
   "source": [
    "#NoneType / None: \n",
    "None / None"
   ]
  },
  {
   "cell_type": "code",
   "execution_count": 23,
   "id": "93bbc7b6-ae28-4e21-bb00-97741e87cda3",
   "metadata": {},
   "outputs": [
    {
     "ename": "TypeError",
     "evalue": "unsupported operand type(s) for /: 'NoneType' and 'float'",
     "output_type": "error",
     "traceback": [
      "\u001b[1;31m---------------------------------------------------------------------------\u001b[0m",
      "\u001b[1;31mTypeError\u001b[0m                                 Traceback (most recent call last)",
      "Cell \u001b[1;32mIn[23], line 2\u001b[0m\n\u001b[0;32m      1\u001b[0m \u001b[38;5;66;03m#NoneType / float: \u001b[39;00m\n\u001b[1;32m----> 2\u001b[0m \u001b[38;5;28;01mNone\u001b[39;00m \u001b[38;5;241m/\u001b[39m \u001b[38;5;241m2.5\u001b[39m\n",
      "\u001b[1;31mTypeError\u001b[0m: unsupported operand type(s) for /: 'NoneType' and 'float'"
     ]
    }
   ],
   "source": [
    "#NoneType / float: \n",
    "None / 2.5"
   ]
  },
  {
   "cell_type": "code",
   "execution_count": 25,
   "id": "8d030aaf-1f22-4f9f-9000-5ff6cf8adb7d",
   "metadata": {},
   "outputs": [
    {
     "ename": "TypeError",
     "evalue": "unsupported operand type(s) for /: 'NoneType' and 'bool'",
     "output_type": "error",
     "traceback": [
      "\u001b[1;31m---------------------------------------------------------------------------\u001b[0m",
      "\u001b[1;31mTypeError\u001b[0m                                 Traceback (most recent call last)",
      "Cell \u001b[1;32mIn[25], line 2\u001b[0m\n\u001b[0;32m      1\u001b[0m \u001b[38;5;66;03m#NoneType / bool: \u001b[39;00m\n\u001b[1;32m----> 2\u001b[0m \u001b[38;5;28;01mNone\u001b[39;00m \u001b[38;5;241m/\u001b[39m \u001b[38;5;28;01mTrue\u001b[39;00m\n",
      "\u001b[1;31mTypeError\u001b[0m: unsupported operand type(s) for /: 'NoneType' and 'bool'"
     ]
    }
   ],
   "source": [
    "#NoneType / bool: \n",
    "None / True"
   ]
  },
  {
   "cell_type": "code",
   "execution_count": 27,
   "id": "70bdef1a-3a7c-4d7f-9cff-3760b1579551",
   "metadata": {},
   "outputs": [
    {
     "ename": "TypeError",
     "evalue": "unsupported operand type(s) for /: 'NoneType' and 'str'",
     "output_type": "error",
     "traceback": [
      "\u001b[1;31m---------------------------------------------------------------------------\u001b[0m",
      "\u001b[1;31mTypeError\u001b[0m                                 Traceback (most recent call last)",
      "Cell \u001b[1;32mIn[27], line 2\u001b[0m\n\u001b[0;32m      1\u001b[0m \u001b[38;5;66;03m#NoneType / string: \u001b[39;00m\n\u001b[1;32m----> 2\u001b[0m \u001b[38;5;28;01mNone\u001b[39;00m \u001b[38;5;241m/\u001b[39m \u001b[38;5;124m'\u001b[39m\u001b[38;5;124mHello\u001b[39m\u001b[38;5;124m'\u001b[39m\n",
      "\u001b[1;31mTypeError\u001b[0m: unsupported operand type(s) for /: 'NoneType' and 'str'"
     ]
    }
   ],
   "source": [
    "#NoneType / string: \n",
    "None / 'Hello'"
   ]
  },
  {
   "cell_type": "code",
   "execution_count": 29,
   "id": "c9e8b873-b7b0-479f-b082-49006bb7a608",
   "metadata": {},
   "outputs": [
    {
     "ename": "TypeError",
     "evalue": "unsupported operand type(s) for /: 'NoneType' and 'list'",
     "output_type": "error",
     "traceback": [
      "\u001b[1;31m---------------------------------------------------------------------------\u001b[0m",
      "\u001b[1;31mTypeError\u001b[0m                                 Traceback (most recent call last)",
      "Cell \u001b[1;32mIn[29], line 2\u001b[0m\n\u001b[0;32m      1\u001b[0m \u001b[38;5;66;03m#NoneType / list: \u001b[39;00m\n\u001b[1;32m----> 2\u001b[0m \u001b[38;5;28;01mNone\u001b[39;00m \u001b[38;5;241m/\u001b[39m [\u001b[38;5;241m1\u001b[39m, \u001b[38;5;241m2\u001b[39m, \u001b[38;5;241m3\u001b[39m]\n",
      "\u001b[1;31mTypeError\u001b[0m: unsupported operand type(s) for /: 'NoneType' and 'list'"
     ]
    }
   ],
   "source": [
    "#NoneType / list: \n",
    "None / [1, 2, 3]"
   ]
  },
  {
   "cell_type": "code",
   "execution_count": 31,
   "id": "fe5c5e74-54e0-40a4-8291-b53e1b135ac3",
   "metadata": {},
   "outputs": [
    {
     "ename": "TypeError",
     "evalue": "unsupported operand type(s) for /: 'NoneType' and 'set'",
     "output_type": "error",
     "traceback": [
      "\u001b[1;31m---------------------------------------------------------------------------\u001b[0m",
      "\u001b[1;31mTypeError\u001b[0m                                 Traceback (most recent call last)",
      "Cell \u001b[1;32mIn[31], line 2\u001b[0m\n\u001b[0;32m      1\u001b[0m \u001b[38;5;66;03m#NoneType / set: \u001b[39;00m\n\u001b[1;32m----> 2\u001b[0m \u001b[38;5;28;01mNone\u001b[39;00m \u001b[38;5;241m/\u001b[39m {\u001b[38;5;241m1\u001b[39m, \u001b[38;5;241m2\u001b[39m, \u001b[38;5;241m3\u001b[39m}\n",
      "\u001b[1;31mTypeError\u001b[0m: unsupported operand type(s) for /: 'NoneType' and 'set'"
     ]
    }
   ],
   "source": [
    "#NoneType / set: \n",
    "None / {1, 2, 3}"
   ]
  },
  {
   "cell_type": "code",
   "execution_count": 33,
   "id": "d0319932-f45e-411f-8c6e-2e1c0a9ae51d",
   "metadata": {},
   "outputs": [
    {
     "ename": "TypeError",
     "evalue": "unsupported operand type(s) for /: 'NoneType' and 'dict'",
     "output_type": "error",
     "traceback": [
      "\u001b[1;31m---------------------------------------------------------------------------\u001b[0m",
      "\u001b[1;31mTypeError\u001b[0m                                 Traceback (most recent call last)",
      "Cell \u001b[1;32mIn[33], line 2\u001b[0m\n\u001b[0;32m      1\u001b[0m \u001b[38;5;66;03m#NoneType / dictionary: \u001b[39;00m\n\u001b[1;32m----> 2\u001b[0m \u001b[38;5;28;01mNone\u001b[39;00m \u001b[38;5;241m/\u001b[39m {\u001b[38;5;124m'\u001b[39m\u001b[38;5;124ma\u001b[39m\u001b[38;5;124m'\u001b[39m: \u001b[38;5;241m1\u001b[39m}\n",
      "\u001b[1;31mTypeError\u001b[0m: unsupported operand type(s) for /: 'NoneType' and 'dict'"
     ]
    }
   ],
   "source": [
    "#NoneType / dictionary: \n",
    "None / {'a': 1}"
   ]
  },
  {
   "cell_type": "code",
   "execution_count": 35,
   "id": "a1eed126-ce47-4c19-b525-abf8796e3363",
   "metadata": {},
   "outputs": [
    {
     "ename": "TypeError",
     "evalue": "unsupported operand type(s) for /: 'NoneType' and 'tuple'",
     "output_type": "error",
     "traceback": [
      "\u001b[1;31m---------------------------------------------------------------------------\u001b[0m",
      "\u001b[1;31mTypeError\u001b[0m                                 Traceback (most recent call last)",
      "Cell \u001b[1;32mIn[35], line 2\u001b[0m\n\u001b[0;32m      1\u001b[0m \u001b[38;5;66;03m#NoneType / tuple: \u001b[39;00m\n\u001b[1;32m----> 2\u001b[0m \u001b[38;5;28;01mNone\u001b[39;00m \u001b[38;5;241m/\u001b[39m (\u001b[38;5;241m1\u001b[39m, \u001b[38;5;241m2\u001b[39m, \u001b[38;5;241m3\u001b[39m)\n",
      "\u001b[1;31mTypeError\u001b[0m: unsupported operand type(s) for /: 'NoneType' and 'tuple'"
     ]
    }
   ],
   "source": [
    "#NoneType / tuple: \n",
    "None / (1, 2, 3)"
   ]
  },
  {
   "cell_type": "markdown",
   "id": "1a4f1917-7b15-4edf-9986-a7db9714d578",
   "metadata": {},
   "source": [
    "# LIST"
   ]
  },
  {
   "cell_type": "markdown",
   "id": "5e23762a-20a7-49a0-8f9d-58f340786016",
   "metadata": {
    "jp-MarkdownHeadingCollapsed": true
   },
   "source": [
    "### Addition"
   ]
  },
  {
   "cell_type": "code",
   "execution_count": 47,
   "id": "8395d7b2-24fe-4429-bb73-1eee737f2e87",
   "metadata": {},
   "outputs": [
    {
     "ename": "TypeError",
     "evalue": "can only concatenate list (not \"int\") to list",
     "output_type": "error",
     "traceback": [
      "\u001b[1;31m---------------------------------------------------------------------------\u001b[0m",
      "\u001b[1;31mTypeError\u001b[0m                                 Traceback (most recent call last)",
      "Cell \u001b[1;32mIn[47], line 2\u001b[0m\n\u001b[0;32m      1\u001b[0m \u001b[38;5;66;03m#list + int: \u001b[39;00m\n\u001b[1;32m----> 2\u001b[0m [\u001b[38;5;241m1\u001b[39m, \u001b[38;5;241m2\u001b[39m, \u001b[38;5;241m3\u001b[39m] \u001b[38;5;241m+\u001b[39m \u001b[38;5;241m5\u001b[39m\n",
      "\u001b[1;31mTypeError\u001b[0m: can only concatenate list (not \"int\") to list"
     ]
    }
   ],
   "source": [
    "#list + int:  # concatenate error\n",
    "[1, 2, 3] + 5"
   ]
  },
  {
   "cell_type": "code",
   "execution_count": 49,
   "id": "7b832988-3b64-482c-9e23-afbc4f2b06f7",
   "metadata": {},
   "outputs": [
    {
     "ename": "TypeError",
     "evalue": "can only concatenate list (not \"float\") to list",
     "output_type": "error",
     "traceback": [
      "\u001b[1;31m---------------------------------------------------------------------------\u001b[0m",
      "\u001b[1;31mTypeError\u001b[0m                                 Traceback (most recent call last)",
      "Cell \u001b[1;32mIn[49], line 2\u001b[0m\n\u001b[0;32m      1\u001b[0m \u001b[38;5;66;03m#list + float:\u001b[39;00m\n\u001b[1;32m----> 2\u001b[0m [\u001b[38;5;241m1\u001b[39m, \u001b[38;5;241m2\u001b[39m, \u001b[38;5;241m3\u001b[39m] \u001b[38;5;241m+\u001b[39m \u001b[38;5;241m2.5\u001b[39m\n",
      "\u001b[1;31mTypeError\u001b[0m: can only concatenate list (not \"float\") to list"
     ]
    }
   ],
   "source": [
    "#list + float: # concatenate error\n",
    "[1, 2, 3] + 2.5"
   ]
  },
  {
   "cell_type": "code",
   "execution_count": 51,
   "id": "15076d69-881b-461e-86c1-bfd4a8237405",
   "metadata": {},
   "outputs": [
    {
     "ename": "TypeError",
     "evalue": "can only concatenate list (not \"bool\") to list",
     "output_type": "error",
     "traceback": [
      "\u001b[1;31m---------------------------------------------------------------------------\u001b[0m",
      "\u001b[1;31mTypeError\u001b[0m                                 Traceback (most recent call last)",
      "Cell \u001b[1;32mIn[51], line 2\u001b[0m\n\u001b[0;32m      1\u001b[0m \u001b[38;5;66;03m#list + bool: \u001b[39;00m\n\u001b[1;32m----> 2\u001b[0m [\u001b[38;5;241m1\u001b[39m, \u001b[38;5;241m2\u001b[39m, \u001b[38;5;241m3\u001b[39m] \u001b[38;5;241m+\u001b[39m \u001b[38;5;28;01mTrue\u001b[39;00m\n",
      "\u001b[1;31mTypeError\u001b[0m: can only concatenate list (not \"bool\") to list"
     ]
    }
   ],
   "source": [
    "#list + bool:  # concatenate error\n",
    "[1, 2, 3] + True"
   ]
  },
  {
   "cell_type": "code",
   "execution_count": 53,
   "id": "d9e689b7-56c3-4577-abe9-f11187adc1f9",
   "metadata": {},
   "outputs": [
    {
     "ename": "TypeError",
     "evalue": "can only concatenate list (not \"str\") to list",
     "output_type": "error",
     "traceback": [
      "\u001b[1;31m---------------------------------------------------------------------------\u001b[0m",
      "\u001b[1;31mTypeError\u001b[0m                                 Traceback (most recent call last)",
      "Cell \u001b[1;32mIn[53], line 2\u001b[0m\n\u001b[0;32m      1\u001b[0m \u001b[38;5;66;03m#list + string:\u001b[39;00m\n\u001b[1;32m----> 2\u001b[0m [\u001b[38;5;241m1\u001b[39m, \u001b[38;5;241m2\u001b[39m, \u001b[38;5;241m3\u001b[39m] \u001b[38;5;241m+\u001b[39m \u001b[38;5;124m'\u001b[39m\u001b[38;5;124mHello\u001b[39m\u001b[38;5;124m'\u001b[39m\n",
      "\u001b[1;31mTypeError\u001b[0m: can only concatenate list (not \"str\") to list"
     ]
    }
   ],
   "source": [
    "#list + string: # concatenate error\n",
    "[1, 2, 3] + 'Hello'"
   ]
  },
  {
   "cell_type": "code",
   "execution_count": 55,
   "id": "964bf539-192f-42cd-8c70-c1a290c32baa",
   "metadata": {},
   "outputs": [
    {
     "ename": "TypeError",
     "evalue": "can only concatenate list (not \"NoneType\") to list",
     "output_type": "error",
     "traceback": [
      "\u001b[1;31m---------------------------------------------------------------------------\u001b[0m",
      "\u001b[1;31mTypeError\u001b[0m                                 Traceback (most recent call last)",
      "Cell \u001b[1;32mIn[55], line 2\u001b[0m\n\u001b[0;32m      1\u001b[0m \u001b[38;5;66;03m#list + NoneType:\u001b[39;00m\n\u001b[1;32m----> 2\u001b[0m [\u001b[38;5;241m1\u001b[39m, \u001b[38;5;241m2\u001b[39m, \u001b[38;5;241m3\u001b[39m] \u001b[38;5;241m+\u001b[39m \u001b[38;5;28;01mNone\u001b[39;00m\n",
      "\u001b[1;31mTypeError\u001b[0m: can only concatenate list (not \"NoneType\") to list"
     ]
    }
   ],
   "source": [
    "#list + NoneType: # concatenate error\n",
    "[1, 2, 3] + None"
   ]
  },
  {
   "cell_type": "code",
   "execution_count": 57,
   "id": "83b5a91d-d1ed-42e4-9103-290283ecbca4",
   "metadata": {},
   "outputs": [
    {
     "data": {
      "text/plain": [
       "[1, 2, 3, 4, 5]"
      ]
     },
     "execution_count": 57,
     "metadata": {},
     "output_type": "execute_result"
    }
   ],
   "source": [
    "#list + list: \n",
    "[1, 2, 3] + [4, 5]"
   ]
  },
  {
   "cell_type": "code",
   "execution_count": 59,
   "id": "b37da6a4-3577-4de4-b297-ee99bda6e05b",
   "metadata": {},
   "outputs": [
    {
     "ename": "TypeError",
     "evalue": "can only concatenate list (not \"set\") to list",
     "output_type": "error",
     "traceback": [
      "\u001b[1;31m---------------------------------------------------------------------------\u001b[0m",
      "\u001b[1;31mTypeError\u001b[0m                                 Traceback (most recent call last)",
      "Cell \u001b[1;32mIn[59], line 2\u001b[0m\n\u001b[0;32m      1\u001b[0m \u001b[38;5;66;03m#list + set: \u001b[39;00m\n\u001b[1;32m----> 2\u001b[0m [\u001b[38;5;241m1\u001b[39m, \u001b[38;5;241m2\u001b[39m, \u001b[38;5;241m3\u001b[39m] \u001b[38;5;241m+\u001b[39m {\u001b[38;5;241m4\u001b[39m, \u001b[38;5;241m5\u001b[39m}\n",
      "\u001b[1;31mTypeError\u001b[0m: can only concatenate list (not \"set\") to list"
     ]
    }
   ],
   "source": [
    "#list + set:  # concatenate error\n",
    "[1, 2, 3] + {4, 5}"
   ]
  },
  {
   "cell_type": "code",
   "execution_count": 61,
   "id": "14273ab7-0818-4d73-96ac-2774cb7d5119",
   "metadata": {},
   "outputs": [
    {
     "ename": "TypeError",
     "evalue": "can only concatenate list (not \"dict\") to list",
     "output_type": "error",
     "traceback": [
      "\u001b[1;31m---------------------------------------------------------------------------\u001b[0m",
      "\u001b[1;31mTypeError\u001b[0m                                 Traceback (most recent call last)",
      "Cell \u001b[1;32mIn[61], line 2\u001b[0m\n\u001b[0;32m      1\u001b[0m \u001b[38;5;66;03m#list + dictionary: \u001b[39;00m\n\u001b[1;32m----> 2\u001b[0m [\u001b[38;5;241m1\u001b[39m, \u001b[38;5;241m2\u001b[39m, \u001b[38;5;241m3\u001b[39m] \u001b[38;5;241m+\u001b[39m {\u001b[38;5;124m'\u001b[39m\u001b[38;5;124ma\u001b[39m\u001b[38;5;124m'\u001b[39m: \u001b[38;5;241m1\u001b[39m}\n",
      "\u001b[1;31mTypeError\u001b[0m: can only concatenate list (not \"dict\") to list"
     ]
    }
   ],
   "source": [
    "#list + dictionary: # concatenate error\n",
    "[1, 2, 3] + {'a': 1}"
   ]
  },
  {
   "cell_type": "code",
   "execution_count": 63,
   "id": "cbf801cf-5ae9-4ba9-a8b4-62d6dfe65da9",
   "metadata": {},
   "outputs": [
    {
     "ename": "TypeError",
     "evalue": "can only concatenate list (not \"tuple\") to list",
     "output_type": "error",
     "traceback": [
      "\u001b[1;31m---------------------------------------------------------------------------\u001b[0m",
      "\u001b[1;31mTypeError\u001b[0m                                 Traceback (most recent call last)",
      "Cell \u001b[1;32mIn[63], line 2\u001b[0m\n\u001b[0;32m      1\u001b[0m \u001b[38;5;66;03m#list + tuple: \u001b[39;00m\n\u001b[1;32m----> 2\u001b[0m [\u001b[38;5;241m1\u001b[39m, \u001b[38;5;241m2\u001b[39m, \u001b[38;5;241m3\u001b[39m] \u001b[38;5;241m+\u001b[39m (\u001b[38;5;241m4\u001b[39m, \u001b[38;5;241m5\u001b[39m)\n",
      "\u001b[1;31mTypeError\u001b[0m: can only concatenate list (not \"tuple\") to list"
     ]
    }
   ],
   "source": [
    "#list + tuple:  # concatenate error\n",
    "[1, 2, 3] + (4, 5)"
   ]
  },
  {
   "cell_type": "markdown",
   "id": "a8ddae07-8282-42a8-a01b-26d98e18abd6",
   "metadata": {
    "jp-MarkdownHeadingCollapsed": true
   },
   "source": [
    "### Subtraction"
   ]
  },
  {
   "cell_type": "code",
   "execution_count": 65,
   "id": "9cb413b6-0937-4d09-9ada-2141ce6f5817",
   "metadata": {},
   "outputs": [
    {
     "ename": "TypeError",
     "evalue": "unsupported operand type(s) for -: 'list' and 'int'",
     "output_type": "error",
     "traceback": [
      "\u001b[1;31m---------------------------------------------------------------------------\u001b[0m",
      "\u001b[1;31mTypeError\u001b[0m                                 Traceback (most recent call last)",
      "Cell \u001b[1;32mIn[65], line 2\u001b[0m\n\u001b[0;32m      1\u001b[0m \u001b[38;5;66;03m#list - int: \u001b[39;00m\n\u001b[1;32m----> 2\u001b[0m [\u001b[38;5;241m1\u001b[39m, \u001b[38;5;241m2\u001b[39m, \u001b[38;5;241m3\u001b[39m] \u001b[38;5;241m-\u001b[39m \u001b[38;5;241m5\u001b[39m\n",
      "\u001b[1;31mTypeError\u001b[0m: unsupported operand type(s) for -: 'list' and 'int'"
     ]
    }
   ],
   "source": [
    "#list - int: # TypeError: unsupported operand\n",
    "[1, 2, 3] - 5"
   ]
  },
  {
   "cell_type": "code",
   "execution_count": 67,
   "id": "46896cf2-0312-4a22-8db9-77670fc05430",
   "metadata": {},
   "outputs": [
    {
     "ename": "TypeError",
     "evalue": "unsupported operand type(s) for -: 'list' and 'float'",
     "output_type": "error",
     "traceback": [
      "\u001b[1;31m---------------------------------------------------------------------------\u001b[0m",
      "\u001b[1;31mTypeError\u001b[0m                                 Traceback (most recent call last)",
      "Cell \u001b[1;32mIn[67], line 2\u001b[0m\n\u001b[0;32m      1\u001b[0m \u001b[38;5;66;03m#list - float: \u001b[39;00m\n\u001b[1;32m----> 2\u001b[0m [\u001b[38;5;241m1\u001b[39m, \u001b[38;5;241m2\u001b[39m, \u001b[38;5;241m3\u001b[39m] \u001b[38;5;241m-\u001b[39m \u001b[38;5;241m2.5\u001b[39m\n",
      "\u001b[1;31mTypeError\u001b[0m: unsupported operand type(s) for -: 'list' and 'float'"
     ]
    }
   ],
   "source": [
    "#list - float: # TypeError: unsupported operand\n",
    "[1, 2, 3] - 2.5"
   ]
  },
  {
   "cell_type": "code",
   "execution_count": 69,
   "id": "2b38bbe6-a996-4dee-8cea-d80fe61fab73",
   "metadata": {},
   "outputs": [
    {
     "ename": "TypeError",
     "evalue": "unsupported operand type(s) for -: 'list' and 'bool'",
     "output_type": "error",
     "traceback": [
      "\u001b[1;31m---------------------------------------------------------------------------\u001b[0m",
      "\u001b[1;31mTypeError\u001b[0m                                 Traceback (most recent call last)",
      "Cell \u001b[1;32mIn[69], line 2\u001b[0m\n\u001b[0;32m      1\u001b[0m \u001b[38;5;66;03m#list - bool: \u001b[39;00m\n\u001b[1;32m----> 2\u001b[0m [\u001b[38;5;241m1\u001b[39m, \u001b[38;5;241m2\u001b[39m, \u001b[38;5;241m3\u001b[39m] \u001b[38;5;241m-\u001b[39m \u001b[38;5;28;01mTrue\u001b[39;00m\n",
      "\u001b[1;31mTypeError\u001b[0m: unsupported operand type(s) for -: 'list' and 'bool'"
     ]
    }
   ],
   "source": [
    "#list - bool:  # TypeError: unsupported operand\n",
    "[1, 2, 3] - True"
   ]
  },
  {
   "cell_type": "code",
   "execution_count": 71,
   "id": "e9983ee6-5088-48d1-97e8-8912f578fc3e",
   "metadata": {},
   "outputs": [
    {
     "ename": "TypeError",
     "evalue": "unsupported operand type(s) for -: 'list' and 'str'",
     "output_type": "error",
     "traceback": [
      "\u001b[1;31m---------------------------------------------------------------------------\u001b[0m",
      "\u001b[1;31mTypeError\u001b[0m                                 Traceback (most recent call last)",
      "Cell \u001b[1;32mIn[71], line 2\u001b[0m\n\u001b[0;32m      1\u001b[0m \u001b[38;5;66;03m#list - string:\u001b[39;00m\n\u001b[1;32m----> 2\u001b[0m [\u001b[38;5;241m1\u001b[39m, \u001b[38;5;241m2\u001b[39m, \u001b[38;5;241m3\u001b[39m] \u001b[38;5;241m-\u001b[39m \u001b[38;5;124m'\u001b[39m\u001b[38;5;124mHello\u001b[39m\u001b[38;5;124m'\u001b[39m\n",
      "\u001b[1;31mTypeError\u001b[0m: unsupported operand type(s) for -: 'list' and 'str'"
     ]
    }
   ],
   "source": [
    "#list - string: # TypeError: unsupported operand\n",
    "[1, 2, 3] - 'Hello'"
   ]
  },
  {
   "cell_type": "code",
   "execution_count": 73,
   "id": "b693a96a-8811-4ade-8421-8b5a96e53bb8",
   "metadata": {},
   "outputs": [
    {
     "ename": "TypeError",
     "evalue": "unsupported operand type(s) for -: 'list' and 'NoneType'",
     "output_type": "error",
     "traceback": [
      "\u001b[1;31m---------------------------------------------------------------------------\u001b[0m",
      "\u001b[1;31mTypeError\u001b[0m                                 Traceback (most recent call last)",
      "Cell \u001b[1;32mIn[73], line 2\u001b[0m\n\u001b[0;32m      1\u001b[0m \u001b[38;5;66;03m#list - NoneType:\u001b[39;00m\n\u001b[1;32m----> 2\u001b[0m [\u001b[38;5;241m1\u001b[39m, \u001b[38;5;241m2\u001b[39m, \u001b[38;5;241m3\u001b[39m] \u001b[38;5;241m-\u001b[39m \u001b[38;5;28;01mNone\u001b[39;00m\n",
      "\u001b[1;31mTypeError\u001b[0m: unsupported operand type(s) for -: 'list' and 'NoneType'"
     ]
    }
   ],
   "source": [
    "#list - NoneType: # TypeError: unsupported operand\n",
    "[1, 2, 3] - None"
   ]
  },
  {
   "cell_type": "code",
   "execution_count": 75,
   "id": "fe3a2c4d-7acd-461f-867a-9d5b7c34d31f",
   "metadata": {},
   "outputs": [
    {
     "ename": "TypeError",
     "evalue": "unsupported operand type(s) for -: 'list' and 'list'",
     "output_type": "error",
     "traceback": [
      "\u001b[1;31m---------------------------------------------------------------------------\u001b[0m",
      "\u001b[1;31mTypeError\u001b[0m                                 Traceback (most recent call last)",
      "Cell \u001b[1;32mIn[75], line 2\u001b[0m\n\u001b[0;32m      1\u001b[0m \u001b[38;5;66;03m#list - list: \u001b[39;00m\n\u001b[1;32m----> 2\u001b[0m [\u001b[38;5;241m1\u001b[39m, \u001b[38;5;241m2\u001b[39m, \u001b[38;5;241m3\u001b[39m] \u001b[38;5;241m-\u001b[39m [\u001b[38;5;241m1\u001b[39m, \u001b[38;5;241m2\u001b[39m]\n",
      "\u001b[1;31mTypeError\u001b[0m: unsupported operand type(s) for -: 'list' and 'list'"
     ]
    }
   ],
   "source": [
    "#list - list:  # TypeError: unsupported operand\n",
    "[1, 2, 3] - [1, 2]"
   ]
  },
  {
   "cell_type": "code",
   "execution_count": 77,
   "id": "303f5cbf-1216-4693-9044-f933f676f018",
   "metadata": {},
   "outputs": [
    {
     "ename": "TypeError",
     "evalue": "unsupported operand type(s) for -: 'list' and 'set'",
     "output_type": "error",
     "traceback": [
      "\u001b[1;31m---------------------------------------------------------------------------\u001b[0m",
      "\u001b[1;31mTypeError\u001b[0m                                 Traceback (most recent call last)",
      "Cell \u001b[1;32mIn[77], line 2\u001b[0m\n\u001b[0;32m      1\u001b[0m \u001b[38;5;66;03m#list - set: \u001b[39;00m\n\u001b[1;32m----> 2\u001b[0m [\u001b[38;5;241m1\u001b[39m, \u001b[38;5;241m2\u001b[39m, \u001b[38;5;241m3\u001b[39m] \u001b[38;5;241m-\u001b[39m {\u001b[38;5;241m4\u001b[39m, \u001b[38;5;241m5\u001b[39m}\n",
      "\u001b[1;31mTypeError\u001b[0m: unsupported operand type(s) for -: 'list' and 'set'"
     ]
    }
   ],
   "source": [
    "#list - set: # TypeError: unsupported operand\n",
    "[1, 2, 3] - {4, 5}"
   ]
  },
  {
   "cell_type": "code",
   "execution_count": 79,
   "id": "a10fccdc-cc85-47a6-92d4-552689b0b1cf",
   "metadata": {},
   "outputs": [
    {
     "ename": "TypeError",
     "evalue": "unsupported operand type(s) for -: 'list' and 'dict'",
     "output_type": "error",
     "traceback": [
      "\u001b[1;31m---------------------------------------------------------------------------\u001b[0m",
      "\u001b[1;31mTypeError\u001b[0m                                 Traceback (most recent call last)",
      "Cell \u001b[1;32mIn[79], line 2\u001b[0m\n\u001b[0;32m      1\u001b[0m \u001b[38;5;66;03m#list - dictionary: \u001b[39;00m\n\u001b[1;32m----> 2\u001b[0m [\u001b[38;5;241m1\u001b[39m, \u001b[38;5;241m2\u001b[39m, \u001b[38;5;241m3\u001b[39m] \u001b[38;5;241m-\u001b[39m {\u001b[38;5;124m'\u001b[39m\u001b[38;5;124ma\u001b[39m\u001b[38;5;124m'\u001b[39m: \u001b[38;5;241m1\u001b[39m}\n",
      "\u001b[1;31mTypeError\u001b[0m: unsupported operand type(s) for -: 'list' and 'dict'"
     ]
    }
   ],
   "source": [
    "#list - dictionary: # TypeError: unsupported operand\n",
    "[1, 2, 3] - {'a': 1}"
   ]
  },
  {
   "cell_type": "code",
   "execution_count": 81,
   "id": "4fd672c4-a1e6-4b7c-8eee-b68881874a3d",
   "metadata": {},
   "outputs": [
    {
     "ename": "TypeError",
     "evalue": "unsupported operand type(s) for -: 'list' and 'tuple'",
     "output_type": "error",
     "traceback": [
      "\u001b[1;31m---------------------------------------------------------------------------\u001b[0m",
      "\u001b[1;31mTypeError\u001b[0m                                 Traceback (most recent call last)",
      "Cell \u001b[1;32mIn[81], line 2\u001b[0m\n\u001b[0;32m      1\u001b[0m \u001b[38;5;66;03m#list - tuple: \u001b[39;00m\n\u001b[1;32m----> 2\u001b[0m [\u001b[38;5;241m1\u001b[39m, \u001b[38;5;241m2\u001b[39m, \u001b[38;5;241m3\u001b[39m] \u001b[38;5;241m-\u001b[39m (\u001b[38;5;241m4\u001b[39m, \u001b[38;5;241m5\u001b[39m)\n",
      "\u001b[1;31mTypeError\u001b[0m: unsupported operand type(s) for -: 'list' and 'tuple'"
     ]
    }
   ],
   "source": [
    "#list - tuple: # TypeError: unsupported operand\n",
    "[1, 2, 3] - (4, 5)"
   ]
  },
  {
   "cell_type": "markdown",
   "id": "67d7e062-c879-4385-8d59-4d6320077275",
   "metadata": {
    "jp-MarkdownHeadingCollapsed": true
   },
   "source": [
    "### Multiplication"
   ]
  },
  {
   "cell_type": "code",
   "execution_count": 88,
   "id": "8b057f12-b269-48b9-a610-480048801067",
   "metadata": {},
   "outputs": [
    {
     "data": {
      "text/plain": [
       "[1, 2, 3, 1, 2, 3]"
      ]
     },
     "execution_count": 88,
     "metadata": {},
     "output_type": "execute_result"
    }
   ],
   "source": [
    "#list * int:  #repetition\n",
    "[1, 2, 3] * 2 "
   ]
  },
  {
   "cell_type": "code",
   "execution_count": 90,
   "id": "aaf8ba4e-68b3-4577-9fb0-ebae0315181e",
   "metadata": {},
   "outputs": [
    {
     "ename": "TypeError",
     "evalue": "can't multiply sequence by non-int of type 'float'",
     "output_type": "error",
     "traceback": [
      "\u001b[1;31m---------------------------------------------------------------------------\u001b[0m",
      "\u001b[1;31mTypeError\u001b[0m                                 Traceback (most recent call last)",
      "Cell \u001b[1;32mIn[90], line 2\u001b[0m\n\u001b[0;32m      1\u001b[0m \u001b[38;5;66;03m#list * float: \u001b[39;00m\n\u001b[1;32m----> 2\u001b[0m [\u001b[38;5;241m1\u001b[39m, \u001b[38;5;241m2\u001b[39m, \u001b[38;5;241m3\u001b[39m] \u001b[38;5;241m*\u001b[39m \u001b[38;5;241m2.5\u001b[39m\n",
      "\u001b[1;31mTypeError\u001b[0m: can't multiply sequence by non-int of type 'float'"
     ]
    }
   ],
   "source": [
    "#list * float: #TypeError: can't multiply sequence by non-int of type 'float'\n",
    "[1, 2, 3] * 2.5"
   ]
  },
  {
   "cell_type": "code",
   "execution_count": 94,
   "id": "0115b9ad-a950-43b6-957e-0c0f77347453",
   "metadata": {},
   "outputs": [
    {
     "data": {
      "text/plain": [
       "[1, 2, 3]"
      ]
     },
     "execution_count": 94,
     "metadata": {},
     "output_type": "execute_result"
    }
   ],
   "source": [
    "#list * bool: \n",
    "[1, 2, 3] * True "
   ]
  },
  {
   "cell_type": "code",
   "execution_count": 96,
   "id": "8d12062b-1f6e-46f9-86d2-4849f3c6f5ea",
   "metadata": {},
   "outputs": [
    {
     "ename": "TypeError",
     "evalue": "can't multiply sequence by non-int of type 'str'",
     "output_type": "error",
     "traceback": [
      "\u001b[1;31m---------------------------------------------------------------------------\u001b[0m",
      "\u001b[1;31mTypeError\u001b[0m                                 Traceback (most recent call last)",
      "Cell \u001b[1;32mIn[96], line 2\u001b[0m\n\u001b[0;32m      1\u001b[0m \u001b[38;5;66;03m#list * string:\u001b[39;00m\n\u001b[1;32m----> 2\u001b[0m [\u001b[38;5;241m1\u001b[39m, \u001b[38;5;241m2\u001b[39m, \u001b[38;5;241m3\u001b[39m] \u001b[38;5;241m*\u001b[39m \u001b[38;5;124m'\u001b[39m\u001b[38;5;124mHello\u001b[39m\u001b[38;5;124m'\u001b[39m\n",
      "\u001b[1;31mTypeError\u001b[0m: can't multiply sequence by non-int of type 'str'"
     ]
    }
   ],
   "source": [
    "#list * string:\n",
    "[1, 2, 3] * 'Hello'"
   ]
  },
  {
   "cell_type": "code",
   "execution_count": 98,
   "id": "d17122de-c9ef-48e0-8871-0e11c39916cf",
   "metadata": {},
   "outputs": [
    {
     "ename": "TypeError",
     "evalue": "can't multiply sequence by non-int of type 'NoneType'",
     "output_type": "error",
     "traceback": [
      "\u001b[1;31m---------------------------------------------------------------------------\u001b[0m",
      "\u001b[1;31mTypeError\u001b[0m                                 Traceback (most recent call last)",
      "Cell \u001b[1;32mIn[98], line 2\u001b[0m\n\u001b[0;32m      1\u001b[0m \u001b[38;5;66;03m#list * NoneType:\u001b[39;00m\n\u001b[1;32m----> 2\u001b[0m [\u001b[38;5;241m1\u001b[39m, \u001b[38;5;241m2\u001b[39m, \u001b[38;5;241m3\u001b[39m] \u001b[38;5;241m*\u001b[39m \u001b[38;5;28;01mNone\u001b[39;00m\n",
      "\u001b[1;31mTypeError\u001b[0m: can't multiply sequence by non-int of type 'NoneType'"
     ]
    }
   ],
   "source": [
    "#list * NoneType:\n",
    "[1, 2, 3] * None"
   ]
  },
  {
   "cell_type": "code",
   "execution_count": 100,
   "id": "b095ae62-abfa-422e-8705-28cfc0a9653c",
   "metadata": {},
   "outputs": [
    {
     "ename": "TypeError",
     "evalue": "can't multiply sequence by non-int of type 'list'",
     "output_type": "error",
     "traceback": [
      "\u001b[1;31m---------------------------------------------------------------------------\u001b[0m",
      "\u001b[1;31mTypeError\u001b[0m                                 Traceback (most recent call last)",
      "Cell \u001b[1;32mIn[100], line 2\u001b[0m\n\u001b[0;32m      1\u001b[0m \u001b[38;5;66;03m#list * list:\u001b[39;00m\n\u001b[1;32m----> 2\u001b[0m [\u001b[38;5;241m1\u001b[39m, \u001b[38;5;241m2\u001b[39m, \u001b[38;5;241m3\u001b[39m] \u001b[38;5;241m*\u001b[39m [\u001b[38;5;241m4\u001b[39m, \u001b[38;5;241m5\u001b[39m]\n",
      "\u001b[1;31mTypeError\u001b[0m: can't multiply sequence by non-int of type 'list'"
     ]
    }
   ],
   "source": [
    "#list * list:\n",
    "[1, 2, 3] * [4, 5]"
   ]
  },
  {
   "cell_type": "code",
   "execution_count": 102,
   "id": "78209ebd-e72b-4d9d-89ac-59a17cb96316",
   "metadata": {},
   "outputs": [
    {
     "ename": "TypeError",
     "evalue": "can't multiply sequence by non-int of type 'set'",
     "output_type": "error",
     "traceback": [
      "\u001b[1;31m---------------------------------------------------------------------------\u001b[0m",
      "\u001b[1;31mTypeError\u001b[0m                                 Traceback (most recent call last)",
      "Cell \u001b[1;32mIn[102], line 2\u001b[0m\n\u001b[0;32m      1\u001b[0m \u001b[38;5;66;03m#list * set: \u001b[39;00m\n\u001b[1;32m----> 2\u001b[0m [\u001b[38;5;241m1\u001b[39m, \u001b[38;5;241m2\u001b[39m, \u001b[38;5;241m3\u001b[39m] \u001b[38;5;241m*\u001b[39m {\u001b[38;5;241m4\u001b[39m, \u001b[38;5;241m5\u001b[39m}\n",
      "\u001b[1;31mTypeError\u001b[0m: can't multiply sequence by non-int of type 'set'"
     ]
    }
   ],
   "source": [
    "#list * set: \n",
    "[1, 2, 3] * {4, 5}"
   ]
  },
  {
   "cell_type": "code",
   "execution_count": 104,
   "id": "fc17dfe0-5f1a-4f93-a477-0530c92e4aa8",
   "metadata": {},
   "outputs": [
    {
     "ename": "TypeError",
     "evalue": "can't multiply sequence by non-int of type 'dict'",
     "output_type": "error",
     "traceback": [
      "\u001b[1;31m---------------------------------------------------------------------------\u001b[0m",
      "\u001b[1;31mTypeError\u001b[0m                                 Traceback (most recent call last)",
      "Cell \u001b[1;32mIn[104], line 2\u001b[0m\n\u001b[0;32m      1\u001b[0m \u001b[38;5;66;03m#list * dictionary:\u001b[39;00m\n\u001b[1;32m----> 2\u001b[0m [\u001b[38;5;241m1\u001b[39m, \u001b[38;5;241m2\u001b[39m, \u001b[38;5;241m3\u001b[39m] \u001b[38;5;241m*\u001b[39m {\u001b[38;5;124m'\u001b[39m\u001b[38;5;124ma\u001b[39m\u001b[38;5;124m'\u001b[39m: \u001b[38;5;241m1\u001b[39m}\n",
      "\u001b[1;31mTypeError\u001b[0m: can't multiply sequence by non-int of type 'dict'"
     ]
    }
   ],
   "source": [
    "#list * dictionary:\n",
    "[1, 2, 3] * {'a': 1}"
   ]
  },
  {
   "cell_type": "code",
   "execution_count": 106,
   "id": "c0f654bd-b274-4857-9264-a672dc8b3a5c",
   "metadata": {},
   "outputs": [
    {
     "ename": "TypeError",
     "evalue": "can't multiply sequence by non-int of type 'tuple'",
     "output_type": "error",
     "traceback": [
      "\u001b[1;31m---------------------------------------------------------------------------\u001b[0m",
      "\u001b[1;31mTypeError\u001b[0m                                 Traceback (most recent call last)",
      "Cell \u001b[1;32mIn[106], line 2\u001b[0m\n\u001b[0;32m      1\u001b[0m \u001b[38;5;66;03m#list * tuple: \u001b[39;00m\n\u001b[1;32m----> 2\u001b[0m [\u001b[38;5;241m1\u001b[39m, \u001b[38;5;241m2\u001b[39m, \u001b[38;5;241m3\u001b[39m] \u001b[38;5;241m*\u001b[39m (\u001b[38;5;241m4\u001b[39m, \u001b[38;5;241m5\u001b[39m)\n",
      "\u001b[1;31mTypeError\u001b[0m: can't multiply sequence by non-int of type 'tuple'"
     ]
    }
   ],
   "source": [
    "#list * tuple: \n",
    "[1, 2, 3] * (4, 5)"
   ]
  },
  {
   "cell_type": "markdown",
   "id": "f4071d75-f3b4-4abe-9568-dbfda516a10b",
   "metadata": {
    "jp-MarkdownHeadingCollapsed": true
   },
   "source": [
    "### Division"
   ]
  },
  {
   "cell_type": "code",
   "execution_count": 127,
   "id": "988b3de3-b223-444b-a568-3a1c249e4a23",
   "metadata": {},
   "outputs": [
    {
     "ename": "TypeError",
     "evalue": "unsupported operand type(s) for /: 'list' and 'int'",
     "output_type": "error",
     "traceback": [
      "\u001b[1;31m---------------------------------------------------------------------------\u001b[0m",
      "\u001b[1;31mTypeError\u001b[0m                                 Traceback (most recent call last)",
      "Cell \u001b[1;32mIn[127], line 2\u001b[0m\n\u001b[0;32m      1\u001b[0m \u001b[38;5;66;03m#list / int: \u001b[39;00m\n\u001b[1;32m----> 2\u001b[0m [\u001b[38;5;241m1\u001b[39m, \u001b[38;5;241m2\u001b[39m, \u001b[38;5;241m3\u001b[39m] \u001b[38;5;241m/\u001b[39m \u001b[38;5;241m2\u001b[39m\n",
      "\u001b[1;31mTypeError\u001b[0m: unsupported operand type(s) for /: 'list' and 'int'"
     ]
    }
   ],
   "source": [
    "#list / int: \n",
    "[1, 2, 3] / 2"
   ]
  },
  {
   "cell_type": "code",
   "execution_count": 129,
   "id": "0ab54dfd-5db6-4c50-b649-7dc59060b933",
   "metadata": {},
   "outputs": [
    {
     "ename": "TypeError",
     "evalue": "unsupported operand type(s) for /: 'list' and 'float'",
     "output_type": "error",
     "traceback": [
      "\u001b[1;31m---------------------------------------------------------------------------\u001b[0m",
      "\u001b[1;31mTypeError\u001b[0m                                 Traceback (most recent call last)",
      "Cell \u001b[1;32mIn[129], line 2\u001b[0m\n\u001b[0;32m      1\u001b[0m \u001b[38;5;66;03m#list / float:\u001b[39;00m\n\u001b[1;32m----> 2\u001b[0m [\u001b[38;5;241m1\u001b[39m, \u001b[38;5;241m2\u001b[39m, \u001b[38;5;241m3\u001b[39m] \u001b[38;5;241m/\u001b[39m \u001b[38;5;241m2.5\u001b[39m\n",
      "\u001b[1;31mTypeError\u001b[0m: unsupported operand type(s) for /: 'list' and 'float'"
     ]
    }
   ],
   "source": [
    "#list / float:\n",
    "[1, 2, 3] / 2.5"
   ]
  },
  {
   "cell_type": "code",
   "execution_count": 131,
   "id": "47c280b8-cf2f-4f0d-b8b6-faa0a5fb9332",
   "metadata": {},
   "outputs": [
    {
     "ename": "TypeError",
     "evalue": "unsupported operand type(s) for /: 'list' and 'bool'",
     "output_type": "error",
     "traceback": [
      "\u001b[1;31m---------------------------------------------------------------------------\u001b[0m",
      "\u001b[1;31mTypeError\u001b[0m                                 Traceback (most recent call last)",
      "Cell \u001b[1;32mIn[131], line 2\u001b[0m\n\u001b[0;32m      1\u001b[0m \u001b[38;5;66;03m#list / bool: \u001b[39;00m\n\u001b[1;32m----> 2\u001b[0m [\u001b[38;5;241m1\u001b[39m, \u001b[38;5;241m2\u001b[39m, \u001b[38;5;241m3\u001b[39m] \u001b[38;5;241m/\u001b[39m \u001b[38;5;28;01mTrue\u001b[39;00m\n",
      "\u001b[1;31mTypeError\u001b[0m: unsupported operand type(s) for /: 'list' and 'bool'"
     ]
    }
   ],
   "source": [
    "#list / bool: \n",
    "[1, 2, 3] / True "
   ]
  },
  {
   "cell_type": "code",
   "execution_count": 133,
   "id": "f5b8e493-181e-4cd9-9a93-465456cee924",
   "metadata": {},
   "outputs": [
    {
     "ename": "TypeError",
     "evalue": "unsupported operand type(s) for /: 'list' and 'str'",
     "output_type": "error",
     "traceback": [
      "\u001b[1;31m---------------------------------------------------------------------------\u001b[0m",
      "\u001b[1;31mTypeError\u001b[0m                                 Traceback (most recent call last)",
      "Cell \u001b[1;32mIn[133], line 2\u001b[0m\n\u001b[0;32m      1\u001b[0m \u001b[38;5;66;03m#list / string: \u001b[39;00m\n\u001b[1;32m----> 2\u001b[0m [\u001b[38;5;241m1\u001b[39m, \u001b[38;5;241m2\u001b[39m, \u001b[38;5;241m3\u001b[39m] \u001b[38;5;241m/\u001b[39m \u001b[38;5;124m'\u001b[39m\u001b[38;5;124mHello\u001b[39m\u001b[38;5;124m'\u001b[39m\n",
      "\u001b[1;31mTypeError\u001b[0m: unsupported operand type(s) for /: 'list' and 'str'"
     ]
    }
   ],
   "source": [
    "#list / string: \n",
    "[1, 2, 3] / 'Hello'"
   ]
  },
  {
   "cell_type": "code",
   "execution_count": 135,
   "id": "7c65ab84-d57c-417b-acb7-8ea292402da4",
   "metadata": {},
   "outputs": [
    {
     "ename": "TypeError",
     "evalue": "unsupported operand type(s) for /: 'list' and 'NoneType'",
     "output_type": "error",
     "traceback": [
      "\u001b[1;31m---------------------------------------------------------------------------\u001b[0m",
      "\u001b[1;31mTypeError\u001b[0m                                 Traceback (most recent call last)",
      "Cell \u001b[1;32mIn[135], line 2\u001b[0m\n\u001b[0;32m      1\u001b[0m \u001b[38;5;66;03m#list / NoneType: \u001b[39;00m\n\u001b[1;32m----> 2\u001b[0m [\u001b[38;5;241m1\u001b[39m, \u001b[38;5;241m2\u001b[39m, \u001b[38;5;241m3\u001b[39m] \u001b[38;5;241m/\u001b[39m \u001b[38;5;28;01mNone\u001b[39;00m\n",
      "\u001b[1;31mTypeError\u001b[0m: unsupported operand type(s) for /: 'list' and 'NoneType'"
     ]
    }
   ],
   "source": [
    "#list / NoneType: \n",
    "[1, 2, 3] / None"
   ]
  },
  {
   "cell_type": "code",
   "execution_count": 137,
   "id": "5465e225-fdb2-457d-b3b9-18b254a2ab92",
   "metadata": {},
   "outputs": [
    {
     "ename": "TypeError",
     "evalue": "unsupported operand type(s) for /: 'list' and 'list'",
     "output_type": "error",
     "traceback": [
      "\u001b[1;31m---------------------------------------------------------------------------\u001b[0m",
      "\u001b[1;31mTypeError\u001b[0m                                 Traceback (most recent call last)",
      "Cell \u001b[1;32mIn[137], line 2\u001b[0m\n\u001b[0;32m      1\u001b[0m \u001b[38;5;66;03m#list / list: \u001b[39;00m\n\u001b[1;32m----> 2\u001b[0m [\u001b[38;5;241m1\u001b[39m, \u001b[38;5;241m2\u001b[39m, \u001b[38;5;241m3\u001b[39m] \u001b[38;5;241m/\u001b[39m [\u001b[38;5;241m4\u001b[39m, \u001b[38;5;241m5\u001b[39m]\n",
      "\u001b[1;31mTypeError\u001b[0m: unsupported operand type(s) for /: 'list' and 'list'"
     ]
    }
   ],
   "source": [
    "#list / list: \n",
    "[1, 2, 3] / [4, 5]"
   ]
  },
  {
   "cell_type": "code",
   "execution_count": 139,
   "id": "0007af86-0401-47e5-9655-fda481775993",
   "metadata": {},
   "outputs": [
    {
     "ename": "TypeError",
     "evalue": "unsupported operand type(s) for /: 'list' and 'set'",
     "output_type": "error",
     "traceback": [
      "\u001b[1;31m---------------------------------------------------------------------------\u001b[0m",
      "\u001b[1;31mTypeError\u001b[0m                                 Traceback (most recent call last)",
      "Cell \u001b[1;32mIn[139], line 2\u001b[0m\n\u001b[0;32m      1\u001b[0m \u001b[38;5;66;03m#list / set: \u001b[39;00m\n\u001b[1;32m----> 2\u001b[0m [\u001b[38;5;241m1\u001b[39m, \u001b[38;5;241m2\u001b[39m, \u001b[38;5;241m3\u001b[39m] \u001b[38;5;241m/\u001b[39m {\u001b[38;5;241m4\u001b[39m, \u001b[38;5;241m5\u001b[39m}\n",
      "\u001b[1;31mTypeError\u001b[0m: unsupported operand type(s) for /: 'list' and 'set'"
     ]
    }
   ],
   "source": [
    "#list / set: \n",
    "[1, 2, 3] / {4, 5}"
   ]
  },
  {
   "cell_type": "code",
   "execution_count": 141,
   "id": "ee59769e-c926-4d05-889b-ef453a29104e",
   "metadata": {},
   "outputs": [
    {
     "ename": "TypeError",
     "evalue": "unsupported operand type(s) for /: 'list' and 'dict'",
     "output_type": "error",
     "traceback": [
      "\u001b[1;31m---------------------------------------------------------------------------\u001b[0m",
      "\u001b[1;31mTypeError\u001b[0m                                 Traceback (most recent call last)",
      "Cell \u001b[1;32mIn[141], line 2\u001b[0m\n\u001b[0;32m      1\u001b[0m \u001b[38;5;66;03m#list / dictionary: \u001b[39;00m\n\u001b[1;32m----> 2\u001b[0m [\u001b[38;5;241m1\u001b[39m, \u001b[38;5;241m2\u001b[39m, \u001b[38;5;241m3\u001b[39m] \u001b[38;5;241m/\u001b[39m {\u001b[38;5;124m'\u001b[39m\u001b[38;5;124ma\u001b[39m\u001b[38;5;124m'\u001b[39m: \u001b[38;5;241m1\u001b[39m}\n",
      "\u001b[1;31mTypeError\u001b[0m: unsupported operand type(s) for /: 'list' and 'dict'"
     ]
    }
   ],
   "source": [
    "#list / dictionary: \n",
    "[1, 2, 3] / {'a': 1}"
   ]
  },
  {
   "cell_type": "code",
   "execution_count": 143,
   "id": "0426c3b8-c48c-4268-b6b6-275d04f72f50",
   "metadata": {},
   "outputs": [
    {
     "ename": "TypeError",
     "evalue": "unsupported operand type(s) for /: 'list' and 'tuple'",
     "output_type": "error",
     "traceback": [
      "\u001b[1;31m---------------------------------------------------------------------------\u001b[0m",
      "\u001b[1;31mTypeError\u001b[0m                                 Traceback (most recent call last)",
      "Cell \u001b[1;32mIn[143], line 2\u001b[0m\n\u001b[0;32m      1\u001b[0m \u001b[38;5;66;03m#list / tuple:\u001b[39;00m\n\u001b[1;32m----> 2\u001b[0m [\u001b[38;5;241m1\u001b[39m, \u001b[38;5;241m2\u001b[39m, \u001b[38;5;241m3\u001b[39m] \u001b[38;5;241m/\u001b[39m (\u001b[38;5;241m4\u001b[39m, \u001b[38;5;241m5\u001b[39m)\n",
      "\u001b[1;31mTypeError\u001b[0m: unsupported operand type(s) for /: 'list' and 'tuple'"
     ]
    }
   ],
   "source": [
    "#list / tuple:\n",
    "[1, 2, 3] / (4, 5)"
   ]
  },
  {
   "cell_type": "markdown",
   "id": "6d1dc8e9-f0ef-4871-8f5a-d395beb272c3",
   "metadata": {
    "jp-MarkdownHeadingCollapsed": true
   },
   "source": [
    "### Floor Division:"
   ]
  },
  {
   "cell_type": "code",
   "execution_count": 146,
   "id": "2b374dbf-8a99-431b-aa2f-d8cc601dbaf8",
   "metadata": {},
   "outputs": [
    {
     "ename": "TypeError",
     "evalue": "unsupported operand type(s) for //: 'list' and 'int'",
     "output_type": "error",
     "traceback": [
      "\u001b[1;31m---------------------------------------------------------------------------\u001b[0m",
      "\u001b[1;31mTypeError\u001b[0m                                 Traceback (most recent call last)",
      "Cell \u001b[1;32mIn[146], line 2\u001b[0m\n\u001b[0;32m      1\u001b[0m \u001b[38;5;66;03m#list // int:\u001b[39;00m\n\u001b[1;32m----> 2\u001b[0m [\u001b[38;5;241m1\u001b[39m, \u001b[38;5;241m2\u001b[39m, \u001b[38;5;241m3\u001b[39m] \u001b[38;5;241m/\u001b[39m\u001b[38;5;241m/\u001b[39m \u001b[38;5;241m2\u001b[39m\n",
      "\u001b[1;31mTypeError\u001b[0m: unsupported operand type(s) for //: 'list' and 'int'"
     ]
    }
   ],
   "source": [
    "#list // int:\n",
    "[1, 2, 3] // 2"
   ]
  },
  {
   "cell_type": "code",
   "execution_count": 148,
   "id": "bff3bc88-3759-4ba9-a366-6a5782efad0e",
   "metadata": {},
   "outputs": [
    {
     "ename": "TypeError",
     "evalue": "unsupported operand type(s) for //: 'list' and 'float'",
     "output_type": "error",
     "traceback": [
      "\u001b[1;31m---------------------------------------------------------------------------\u001b[0m",
      "\u001b[1;31mTypeError\u001b[0m                                 Traceback (most recent call last)",
      "Cell \u001b[1;32mIn[148], line 2\u001b[0m\n\u001b[0;32m      1\u001b[0m \u001b[38;5;66;03m#list // float: \u001b[39;00m\n\u001b[1;32m----> 2\u001b[0m [\u001b[38;5;241m1\u001b[39m, \u001b[38;5;241m2\u001b[39m, \u001b[38;5;241m3\u001b[39m] \u001b[38;5;241m/\u001b[39m\u001b[38;5;241m/\u001b[39m \u001b[38;5;241m2.5\u001b[39m\n",
      "\u001b[1;31mTypeError\u001b[0m: unsupported operand type(s) for //: 'list' and 'float'"
     ]
    }
   ],
   "source": [
    "#list // float: \n",
    "[1, 2, 3] // 2.5"
   ]
  },
  {
   "cell_type": "code",
   "execution_count": 150,
   "id": "9c0894d5-4b3d-4135-8eb6-8b7bf9e7702b",
   "metadata": {},
   "outputs": [
    {
     "ename": "TypeError",
     "evalue": "unsupported operand type(s) for //: 'list' and 'bool'",
     "output_type": "error",
     "traceback": [
      "\u001b[1;31m---------------------------------------------------------------------------\u001b[0m",
      "\u001b[1;31mTypeError\u001b[0m                                 Traceback (most recent call last)",
      "Cell \u001b[1;32mIn[150], line 2\u001b[0m\n\u001b[0;32m      1\u001b[0m \u001b[38;5;66;03m#list // bool: \u001b[39;00m\n\u001b[1;32m----> 2\u001b[0m [\u001b[38;5;241m1\u001b[39m, \u001b[38;5;241m2\u001b[39m, \u001b[38;5;241m3\u001b[39m] \u001b[38;5;241m/\u001b[39m\u001b[38;5;241m/\u001b[39m \u001b[38;5;28;01mTrue\u001b[39;00m\n",
      "\u001b[1;31mTypeError\u001b[0m: unsupported operand type(s) for //: 'list' and 'bool'"
     ]
    }
   ],
   "source": [
    "#list // bool: \n",
    "[1, 2, 3] // True"
   ]
  },
  {
   "cell_type": "code",
   "execution_count": 152,
   "id": "baa933db-1e24-4f79-a5a0-4eaba223cd73",
   "metadata": {},
   "outputs": [
    {
     "ename": "TypeError",
     "evalue": "unsupported operand type(s) for //: 'list' and 'str'",
     "output_type": "error",
     "traceback": [
      "\u001b[1;31m---------------------------------------------------------------------------\u001b[0m",
      "\u001b[1;31mTypeError\u001b[0m                                 Traceback (most recent call last)",
      "Cell \u001b[1;32mIn[152], line 2\u001b[0m\n\u001b[0;32m      1\u001b[0m \u001b[38;5;66;03m#list // string: \u001b[39;00m\n\u001b[1;32m----> 2\u001b[0m [\u001b[38;5;241m1\u001b[39m, \u001b[38;5;241m2\u001b[39m, \u001b[38;5;241m3\u001b[39m] \u001b[38;5;241m/\u001b[39m\u001b[38;5;241m/\u001b[39m \u001b[38;5;124m'\u001b[39m\u001b[38;5;124mHello\u001b[39m\u001b[38;5;124m'\u001b[39m\n",
      "\u001b[1;31mTypeError\u001b[0m: unsupported operand type(s) for //: 'list' and 'str'"
     ]
    }
   ],
   "source": [
    "#list // string: \n",
    "[1, 2, 3] // 'Hello'"
   ]
  },
  {
   "cell_type": "code",
   "execution_count": 154,
   "id": "c3661c56-914c-4e59-b645-151b360191b3",
   "metadata": {},
   "outputs": [
    {
     "ename": "TypeError",
     "evalue": "unsupported operand type(s) for //: 'list' and 'NoneType'",
     "output_type": "error",
     "traceback": [
      "\u001b[1;31m---------------------------------------------------------------------------\u001b[0m",
      "\u001b[1;31mTypeError\u001b[0m                                 Traceback (most recent call last)",
      "Cell \u001b[1;32mIn[154], line 2\u001b[0m\n\u001b[0;32m      1\u001b[0m \u001b[38;5;66;03m#list // NoneType:\u001b[39;00m\n\u001b[1;32m----> 2\u001b[0m [\u001b[38;5;241m1\u001b[39m, \u001b[38;5;241m2\u001b[39m, \u001b[38;5;241m3\u001b[39m] \u001b[38;5;241m/\u001b[39m\u001b[38;5;241m/\u001b[39m \u001b[38;5;28;01mNone\u001b[39;00m\n",
      "\u001b[1;31mTypeError\u001b[0m: unsupported operand type(s) for //: 'list' and 'NoneType'"
     ]
    }
   ],
   "source": [
    "#list // NoneType:\n",
    "[1, 2, 3] // None"
   ]
  },
  {
   "cell_type": "code",
   "execution_count": 156,
   "id": "aa2c54f7-cb21-4f5b-8fc9-d11405913873",
   "metadata": {},
   "outputs": [
    {
     "ename": "TypeError",
     "evalue": "unsupported operand type(s) for //: 'list' and 'list'",
     "output_type": "error",
     "traceback": [
      "\u001b[1;31m---------------------------------------------------------------------------\u001b[0m",
      "\u001b[1;31mTypeError\u001b[0m                                 Traceback (most recent call last)",
      "Cell \u001b[1;32mIn[156], line 2\u001b[0m\n\u001b[0;32m      1\u001b[0m \u001b[38;5;66;03m#list // list:\u001b[39;00m\n\u001b[1;32m----> 2\u001b[0m [\u001b[38;5;241m1\u001b[39m, \u001b[38;5;241m2\u001b[39m, \u001b[38;5;241m3\u001b[39m] \u001b[38;5;241m/\u001b[39m\u001b[38;5;241m/\u001b[39m [\u001b[38;5;241m4\u001b[39m, \u001b[38;5;241m5\u001b[39m]\n",
      "\u001b[1;31mTypeError\u001b[0m: unsupported operand type(s) for //: 'list' and 'list'"
     ]
    }
   ],
   "source": [
    "#list // list:\n",
    "[1, 2, 3] // [4, 5] "
   ]
  },
  {
   "cell_type": "code",
   "execution_count": 158,
   "id": "4f7d65ae-d91c-4e90-9ca3-183610824d55",
   "metadata": {},
   "outputs": [
    {
     "ename": "TypeError",
     "evalue": "unsupported operand type(s) for //: 'list' and 'set'",
     "output_type": "error",
     "traceback": [
      "\u001b[1;31m---------------------------------------------------------------------------\u001b[0m",
      "\u001b[1;31mTypeError\u001b[0m                                 Traceback (most recent call last)",
      "Cell \u001b[1;32mIn[158], line 2\u001b[0m\n\u001b[0;32m      1\u001b[0m \u001b[38;5;66;03m#list // set:\u001b[39;00m\n\u001b[1;32m----> 2\u001b[0m [\u001b[38;5;241m1\u001b[39m, \u001b[38;5;241m2\u001b[39m, \u001b[38;5;241m3\u001b[39m] \u001b[38;5;241m/\u001b[39m\u001b[38;5;241m/\u001b[39m {\u001b[38;5;241m4\u001b[39m, \u001b[38;5;241m5\u001b[39m}\n",
      "\u001b[1;31mTypeError\u001b[0m: unsupported operand type(s) for //: 'list' and 'set'"
     ]
    }
   ],
   "source": [
    "#list // set:\n",
    "[1, 2, 3] // {4, 5}"
   ]
  },
  {
   "cell_type": "code",
   "execution_count": 160,
   "id": "0d610199-5282-4f9a-a20f-5af29aabc482",
   "metadata": {},
   "outputs": [
    {
     "ename": "TypeError",
     "evalue": "unsupported operand type(s) for //: 'list' and 'dict'",
     "output_type": "error",
     "traceback": [
      "\u001b[1;31m---------------------------------------------------------------------------\u001b[0m",
      "\u001b[1;31mTypeError\u001b[0m                                 Traceback (most recent call last)",
      "Cell \u001b[1;32mIn[160], line 2\u001b[0m\n\u001b[0;32m      1\u001b[0m \u001b[38;5;66;03m#list // dictionary: \u001b[39;00m\n\u001b[1;32m----> 2\u001b[0m [\u001b[38;5;241m1\u001b[39m, \u001b[38;5;241m2\u001b[39m, \u001b[38;5;241m3\u001b[39m] \u001b[38;5;241m/\u001b[39m\u001b[38;5;241m/\u001b[39m {\u001b[38;5;124m'\u001b[39m\u001b[38;5;124ma\u001b[39m\u001b[38;5;124m'\u001b[39m: \u001b[38;5;241m1\u001b[39m}\n",
      "\u001b[1;31mTypeError\u001b[0m: unsupported operand type(s) for //: 'list' and 'dict'"
     ]
    }
   ],
   "source": [
    "#list // dictionary: \n",
    "[1, 2, 3] // {'a': 1}"
   ]
  },
  {
   "cell_type": "code",
   "execution_count": 162,
   "id": "bdda5437-e1c1-425e-8160-443164f57e66",
   "metadata": {},
   "outputs": [
    {
     "ename": "TypeError",
     "evalue": "unsupported operand type(s) for //: 'list' and 'tuple'",
     "output_type": "error",
     "traceback": [
      "\u001b[1;31m---------------------------------------------------------------------------\u001b[0m",
      "\u001b[1;31mTypeError\u001b[0m                                 Traceback (most recent call last)",
      "Cell \u001b[1;32mIn[162], line 2\u001b[0m\n\u001b[0;32m      1\u001b[0m \u001b[38;5;66;03m#list // tuple:\u001b[39;00m\n\u001b[1;32m----> 2\u001b[0m [\u001b[38;5;241m1\u001b[39m, \u001b[38;5;241m2\u001b[39m, \u001b[38;5;241m3\u001b[39m] \u001b[38;5;241m/\u001b[39m\u001b[38;5;241m/\u001b[39m (\u001b[38;5;241m4\u001b[39m, \u001b[38;5;241m5\u001b[39m)\n",
      "\u001b[1;31mTypeError\u001b[0m: unsupported operand type(s) for //: 'list' and 'tuple'"
     ]
    }
   ],
   "source": [
    "#list // tuple:\n",
    "[1, 2, 3] // (4, 5)"
   ]
  },
  {
   "cell_type": "markdown",
   "id": "67a528c5-ca97-485a-8110-3055d4defa33",
   "metadata": {
    "jp-MarkdownHeadingCollapsed": true
   },
   "source": [
    "### Exponentiation"
   ]
  },
  {
   "cell_type": "code",
   "execution_count": 165,
   "id": "7d3285d0-3881-499f-bb01-b4f9936dcf74",
   "metadata": {},
   "outputs": [
    {
     "ename": "TypeError",
     "evalue": "unsupported operand type(s) for ** or pow(): 'list' and 'int'",
     "output_type": "error",
     "traceback": [
      "\u001b[1;31m---------------------------------------------------------------------------\u001b[0m",
      "\u001b[1;31mTypeError\u001b[0m                                 Traceback (most recent call last)",
      "Cell \u001b[1;32mIn[165], line 2\u001b[0m\n\u001b[0;32m      1\u001b[0m \u001b[38;5;66;03m#list ** int: \u001b[39;00m\n\u001b[1;32m----> 2\u001b[0m [\u001b[38;5;241m1\u001b[39m, \u001b[38;5;241m2\u001b[39m, \u001b[38;5;241m3\u001b[39m] \u001b[38;5;241m*\u001b[39m\u001b[38;5;241m*\u001b[39m \u001b[38;5;241m2\u001b[39m\n",
      "\u001b[1;31mTypeError\u001b[0m: unsupported operand type(s) for ** or pow(): 'list' and 'int'"
     ]
    }
   ],
   "source": [
    "#list ** int: \n",
    "[1, 2, 3] ** 2"
   ]
  },
  {
   "cell_type": "code",
   "execution_count": 167,
   "id": "80a5a8fa-6400-486d-9dc6-b514aed29058",
   "metadata": {},
   "outputs": [
    {
     "ename": "TypeError",
     "evalue": "unsupported operand type(s) for ** or pow(): 'list' and 'float'",
     "output_type": "error",
     "traceback": [
      "\u001b[1;31m---------------------------------------------------------------------------\u001b[0m",
      "\u001b[1;31mTypeError\u001b[0m                                 Traceback (most recent call last)",
      "Cell \u001b[1;32mIn[167], line 2\u001b[0m\n\u001b[0;32m      1\u001b[0m \u001b[38;5;66;03m#list ** float: \u001b[39;00m\n\u001b[1;32m----> 2\u001b[0m [\u001b[38;5;241m1\u001b[39m, \u001b[38;5;241m2\u001b[39m, \u001b[38;5;241m3\u001b[39m] \u001b[38;5;241m*\u001b[39m\u001b[38;5;241m*\u001b[39m \u001b[38;5;241m2.5\u001b[39m\n",
      "\u001b[1;31mTypeError\u001b[0m: unsupported operand type(s) for ** or pow(): 'list' and 'float'"
     ]
    }
   ],
   "source": [
    "#list ** float: \n",
    "[1, 2, 3] ** 2.5"
   ]
  },
  {
   "cell_type": "code",
   "execution_count": 169,
   "id": "8d1abf65-69d7-4e6d-b5b0-0077f2c3938c",
   "metadata": {},
   "outputs": [
    {
     "ename": "TypeError",
     "evalue": "unsupported operand type(s) for ** or pow(): 'list' and 'bool'",
     "output_type": "error",
     "traceback": [
      "\u001b[1;31m---------------------------------------------------------------------------\u001b[0m",
      "\u001b[1;31mTypeError\u001b[0m                                 Traceback (most recent call last)",
      "Cell \u001b[1;32mIn[169], line 2\u001b[0m\n\u001b[0;32m      1\u001b[0m \u001b[38;5;66;03m#list ** bool: \u001b[39;00m\n\u001b[1;32m----> 2\u001b[0m [\u001b[38;5;241m1\u001b[39m, \u001b[38;5;241m2\u001b[39m, \u001b[38;5;241m3\u001b[39m] \u001b[38;5;241m*\u001b[39m\u001b[38;5;241m*\u001b[39m \u001b[38;5;28;01mTrue\u001b[39;00m\n",
      "\u001b[1;31mTypeError\u001b[0m: unsupported operand type(s) for ** or pow(): 'list' and 'bool'"
     ]
    }
   ],
   "source": [
    "#list ** bool: \n",
    "[1, 2, 3] ** True"
   ]
  },
  {
   "cell_type": "code",
   "execution_count": 171,
   "id": "14c435bf-ebaf-4c86-bb99-cb247dc6a161",
   "metadata": {},
   "outputs": [
    {
     "ename": "TypeError",
     "evalue": "unsupported operand type(s) for ** or pow(): 'list' and 'str'",
     "output_type": "error",
     "traceback": [
      "\u001b[1;31m---------------------------------------------------------------------------\u001b[0m",
      "\u001b[1;31mTypeError\u001b[0m                                 Traceback (most recent call last)",
      "Cell \u001b[1;32mIn[171], line 2\u001b[0m\n\u001b[0;32m      1\u001b[0m \u001b[38;5;66;03m#list ** string:\u001b[39;00m\n\u001b[1;32m----> 2\u001b[0m [\u001b[38;5;241m1\u001b[39m, \u001b[38;5;241m2\u001b[39m, \u001b[38;5;241m3\u001b[39m] \u001b[38;5;241m*\u001b[39m\u001b[38;5;241m*\u001b[39m \u001b[38;5;124m'\u001b[39m\u001b[38;5;124mHello\u001b[39m\u001b[38;5;124m'\u001b[39m\n",
      "\u001b[1;31mTypeError\u001b[0m: unsupported operand type(s) for ** or pow(): 'list' and 'str'"
     ]
    }
   ],
   "source": [
    "#list ** string:\n",
    "[1, 2, 3] ** 'Hello'"
   ]
  },
  {
   "cell_type": "code",
   "execution_count": 173,
   "id": "f9ae87a9-8142-4691-b35c-34c52b3bffc0",
   "metadata": {},
   "outputs": [
    {
     "ename": "TypeError",
     "evalue": "unsupported operand type(s) for ** or pow(): 'list' and 'NoneType'",
     "output_type": "error",
     "traceback": [
      "\u001b[1;31m---------------------------------------------------------------------------\u001b[0m",
      "\u001b[1;31mTypeError\u001b[0m                                 Traceback (most recent call last)",
      "Cell \u001b[1;32mIn[173], line 2\u001b[0m\n\u001b[0;32m      1\u001b[0m \u001b[38;5;66;03m#list ** NoneType: \u001b[39;00m\n\u001b[1;32m----> 2\u001b[0m [\u001b[38;5;241m1\u001b[39m, \u001b[38;5;241m2\u001b[39m, \u001b[38;5;241m3\u001b[39m] \u001b[38;5;241m*\u001b[39m\u001b[38;5;241m*\u001b[39m \u001b[38;5;28;01mNone\u001b[39;00m\n",
      "\u001b[1;31mTypeError\u001b[0m: unsupported operand type(s) for ** or pow(): 'list' and 'NoneType'"
     ]
    }
   ],
   "source": [
    "#list ** NoneType: \n",
    "[1, 2, 3] ** None"
   ]
  },
  {
   "cell_type": "code",
   "execution_count": 175,
   "id": "325df3a5-e192-4fe1-9e66-7f8f83383f6f",
   "metadata": {},
   "outputs": [
    {
     "ename": "TypeError",
     "evalue": "unsupported operand type(s) for ** or pow(): 'list' and 'list'",
     "output_type": "error",
     "traceback": [
      "\u001b[1;31m---------------------------------------------------------------------------\u001b[0m",
      "\u001b[1;31mTypeError\u001b[0m                                 Traceback (most recent call last)",
      "Cell \u001b[1;32mIn[175], line 2\u001b[0m\n\u001b[0;32m      1\u001b[0m \u001b[38;5;66;03m#list ** list: \u001b[39;00m\n\u001b[1;32m----> 2\u001b[0m [\u001b[38;5;241m1\u001b[39m, \u001b[38;5;241m2\u001b[39m, \u001b[38;5;241m3\u001b[39m] \u001b[38;5;241m*\u001b[39m\u001b[38;5;241m*\u001b[39m [\u001b[38;5;241m4\u001b[39m, \u001b[38;5;241m5\u001b[39m]\n",
      "\u001b[1;31mTypeError\u001b[0m: unsupported operand type(s) for ** or pow(): 'list' and 'list'"
     ]
    }
   ],
   "source": [
    "#list ** list: \n",
    "[1, 2, 3] ** [4, 5]"
   ]
  },
  {
   "cell_type": "code",
   "execution_count": 177,
   "id": "484fd4aa-79ab-4c0e-bc56-0f8f849541ee",
   "metadata": {},
   "outputs": [
    {
     "ename": "TypeError",
     "evalue": "unsupported operand type(s) for ** or pow(): 'list' and 'set'",
     "output_type": "error",
     "traceback": [
      "\u001b[1;31m---------------------------------------------------------------------------\u001b[0m",
      "\u001b[1;31mTypeError\u001b[0m                                 Traceback (most recent call last)",
      "Cell \u001b[1;32mIn[177], line 2\u001b[0m\n\u001b[0;32m      1\u001b[0m \u001b[38;5;66;03m#list ** set: \u001b[39;00m\n\u001b[1;32m----> 2\u001b[0m [\u001b[38;5;241m1\u001b[39m, \u001b[38;5;241m2\u001b[39m, \u001b[38;5;241m3\u001b[39m] \u001b[38;5;241m*\u001b[39m\u001b[38;5;241m*\u001b[39m {\u001b[38;5;241m4\u001b[39m, \u001b[38;5;241m5\u001b[39m}\n",
      "\u001b[1;31mTypeError\u001b[0m: unsupported operand type(s) for ** or pow(): 'list' and 'set'"
     ]
    }
   ],
   "source": [
    "#list ** set: \n",
    "[1, 2, 3] ** {4, 5}"
   ]
  },
  {
   "cell_type": "code",
   "execution_count": 179,
   "id": "cb7af96b-2beb-40b4-8682-00e3b0d105db",
   "metadata": {},
   "outputs": [
    {
     "ename": "TypeError",
     "evalue": "unsupported operand type(s) for ** or pow(): 'list' and 'dict'",
     "output_type": "error",
     "traceback": [
      "\u001b[1;31m---------------------------------------------------------------------------\u001b[0m",
      "\u001b[1;31mTypeError\u001b[0m                                 Traceback (most recent call last)",
      "Cell \u001b[1;32mIn[179], line 2\u001b[0m\n\u001b[0;32m      1\u001b[0m \u001b[38;5;66;03m#ist ** dictionary:\u001b[39;00m\n\u001b[1;32m----> 2\u001b[0m [\u001b[38;5;241m1\u001b[39m, \u001b[38;5;241m2\u001b[39m, \u001b[38;5;241m3\u001b[39m] \u001b[38;5;241m*\u001b[39m\u001b[38;5;241m*\u001b[39m {\u001b[38;5;124m'\u001b[39m\u001b[38;5;124ma\u001b[39m\u001b[38;5;124m'\u001b[39m: \u001b[38;5;241m1\u001b[39m}\n",
      "\u001b[1;31mTypeError\u001b[0m: unsupported operand type(s) for ** or pow(): 'list' and 'dict'"
     ]
    }
   ],
   "source": [
    "#ist ** dictionary:\n",
    "[1, 2, 3] ** {'a': 1}"
   ]
  },
  {
   "cell_type": "code",
   "execution_count": 181,
   "id": "82e8535b-ab2f-431a-a1e7-e44951ab9c49",
   "metadata": {},
   "outputs": [
    {
     "ename": "TypeError",
     "evalue": "unsupported operand type(s) for ** or pow(): 'list' and 'tuple'",
     "output_type": "error",
     "traceback": [
      "\u001b[1;31m---------------------------------------------------------------------------\u001b[0m",
      "\u001b[1;31mTypeError\u001b[0m                                 Traceback (most recent call last)",
      "Cell \u001b[1;32mIn[181], line 2\u001b[0m\n\u001b[0;32m      1\u001b[0m \u001b[38;5;66;03m#list ** tuple:\u001b[39;00m\n\u001b[1;32m----> 2\u001b[0m [\u001b[38;5;241m1\u001b[39m, \u001b[38;5;241m2\u001b[39m, \u001b[38;5;241m3\u001b[39m] \u001b[38;5;241m*\u001b[39m\u001b[38;5;241m*\u001b[39m (\u001b[38;5;241m4\u001b[39m, \u001b[38;5;241m5\u001b[39m)\n",
      "\u001b[1;31mTypeError\u001b[0m: unsupported operand type(s) for ** or pow(): 'list' and 'tuple'"
     ]
    }
   ],
   "source": [
    "#list ** tuple:\n",
    "[1, 2, 3] ** (4, 5)"
   ]
  },
  {
   "cell_type": "markdown",
   "id": "81a16ff5-752c-4566-a7d4-f57b65a63584",
   "metadata": {},
   "source": [
    "# DICTIONARY"
   ]
  },
  {
   "cell_type": "markdown",
   "id": "ab77baf3-455d-4a8a-acfe-afe6739dd6e5",
   "metadata": {
    "jp-MarkdownHeadingCollapsed": true
   },
   "source": [
    "### Addition"
   ]
  },
  {
   "cell_type": "code",
   "execution_count": null,
   "id": "f036afd8-fb77-4722-a11a-4ac2cc4f83a4",
   "metadata": {},
   "outputs": [],
   "source": [
    "#dict + int: {'a': 1} + 5"
   ]
  },
  {
   "cell_type": "code",
   "execution_count": null,
   "id": "98652a14-bee2-440e-a9de-6df7007e9660",
   "metadata": {},
   "outputs": [],
   "source": [
    "#dict + float: {'a': 1} + 2.5"
   ]
  },
  {
   "cell_type": "code",
   "execution_count": null,
   "id": "d4fd045e-dd37-42e6-a90a-550c53c4c83b",
   "metadata": {},
   "outputs": [],
   "source": [
    "#dict + bool: {'a': 1} + True"
   ]
  },
  {
   "cell_type": "code",
   "execution_count": null,
   "id": "cad9dd95-907e-4384-8adb-168e2469c3b4",
   "metadata": {},
   "outputs": [],
   "source": [
    "#dict + string: {'a': 1} + 'Hello'"
   ]
  },
  {
   "cell_type": "code",
   "execution_count": null,
   "id": "69642615-b163-4826-8bbe-45234ba023c6",
   "metadata": {},
   "outputs": [],
   "source": [
    "#dict + list: {'a': 1} + [1, 2, 3]"
   ]
  },
  {
   "cell_type": "code",
   "execution_count": null,
   "id": "2b95ad1a-5a31-4fa5-a99a-20a2d550d631",
   "metadata": {},
   "outputs": [],
   "source": [
    "#dict + set: {'a': 1} + {1, 2, 3}"
   ]
  },
  {
   "cell_type": "code",
   "execution_count": null,
   "id": "26c47b93-2750-4004-82d8-55bdee4885ae",
   "metadata": {},
   "outputs": [],
   "source": [
    "#dict + dictionary: {'a': 1} + {'b': 2}"
   ]
  },
  {
   "cell_type": "code",
   "execution_count": null,
   "id": "6f5ec4d9-b9a1-47a4-8978-4170b0432121",
   "metadata": {},
   "outputs": [],
   "source": [
    "#dict + tuple: {'a': 1} + (1, 2, 3)"
   ]
  },
  {
   "cell_type": "code",
   "execution_count": null,
   "id": "9104eaef-33a1-44c1-8029-b88670fc289f",
   "metadata": {},
   "outputs": [],
   "source": [
    "#dict + nonetype: {'a': 1} + none"
   ]
  },
  {
   "cell_type": "markdown",
   "id": "eeb051c7-aa1f-4841-91b4-338d57af3803",
   "metadata": {
    "jp-MarkdownHeadingCollapsed": true
   },
   "source": [
    "### Subtraction"
   ]
  },
  {
   "cell_type": "code",
   "execution_count": null,
   "id": "309fdf9e-7c81-4729-a9c1-e2d633facd92",
   "metadata": {},
   "outputs": [],
   "source": [
    "#dict - int: {'a': 1} - 5"
   ]
  },
  {
   "cell_type": "code",
   "execution_count": null,
   "id": "60610b55-3e7d-48f2-b263-3fe7d630e78a",
   "metadata": {},
   "outputs": [],
   "source": [
    "#dict - float: {'a': 1} - 2.5"
   ]
  },
  {
   "cell_type": "code",
   "execution_count": null,
   "id": "85971d44-b3a6-4b79-9633-5f88821b5d63",
   "metadata": {},
   "outputs": [],
   "source": [
    "#dict - bool: {'a': 1} - True"
   ]
  },
  {
   "cell_type": "code",
   "execution_count": null,
   "id": "af9ccff9-006a-4c7f-a934-1f9667f7873f",
   "metadata": {},
   "outputs": [],
   "source": [
    "#dict - string: {'a': 1} - 'Hello'"
   ]
  },
  {
   "cell_type": "code",
   "execution_count": null,
   "id": "46499c28-9e90-42fa-8743-bbb766f79a3d",
   "metadata": {},
   "outputs": [],
   "source": [
    "#dict - list: {'a': 1} - [1, 2, 3]"
   ]
  },
  {
   "cell_type": "code",
   "execution_count": null,
   "id": "3afd8e52-0af2-4fd8-819c-99ebc5e2da1c",
   "metadata": {},
   "outputs": [],
   "source": [
    "#dict - set: {'a': 1} - {1, 2, 3} "
   ]
  },
  {
   "cell_type": "code",
   "execution_count": null,
   "id": "512b1ca5-69a0-42c4-a256-e3741b2efb7e",
   "metadata": {},
   "outputs": [],
   "source": [
    "#dict - dictionary: {'a': 1} - {'b': 2}"
   ]
  },
  {
   "cell_type": "code",
   "execution_count": null,
   "id": "71b92a0b-c8ca-4b3f-ba61-d13845721695",
   "metadata": {},
   "outputs": [],
   "source": [
    "#dict - tuple: {'a': 1} - (1, 2, 3)"
   ]
  },
  {
   "cell_type": "code",
   "execution_count": null,
   "id": "b16f60a9-b2aa-469e-8bcd-28b0e6e162f4",
   "metadata": {},
   "outputs": [],
   "source": [
    "#dict - nonetype: {'a': 1} - none"
   ]
  },
  {
   "cell_type": "markdown",
   "id": "59218732-63e6-4901-b45a-e034d2ada8c3",
   "metadata": {
    "jp-MarkdownHeadingCollapsed": true
   },
   "source": [
    "### Multiplication "
   ]
  },
  {
   "cell_type": "code",
   "execution_count": null,
   "id": "da4ddd6a-0cb2-4430-9135-7c3fd81d5ce9",
   "metadata": {},
   "outputs": [],
   "source": [
    "#dict * int: {'a': 1} * 2"
   ]
  },
  {
   "cell_type": "code",
   "execution_count": null,
   "id": "544fbf65-35c8-4829-8a87-08865e277a7e",
   "metadata": {},
   "outputs": [],
   "source": [
    "#dict * float: {'a': 1} * 2.5"
   ]
  },
  {
   "cell_type": "code",
   "execution_count": null,
   "id": "8dfabdfe-9101-4271-a28b-27374f5e36c1",
   "metadata": {},
   "outputs": [],
   "source": [
    "#dict * bool: {'a': 1} * True"
   ]
  },
  {
   "cell_type": "code",
   "execution_count": null,
   "id": "8c78ccb8-066d-4762-b6e7-b1de72f70d61",
   "metadata": {},
   "outputs": [],
   "source": [
    "#dict * string: {'a': 1} * 'Hello'"
   ]
  },
  {
   "cell_type": "code",
   "execution_count": null,
   "id": "30e8eacc-f391-427e-bd0f-39e2dc3f4160",
   "metadata": {},
   "outputs": [],
   "source": [
    "#dict * list: {'a': 1} * [1, 2, 3]"
   ]
  },
  {
   "cell_type": "code",
   "execution_count": null,
   "id": "404e77b3-1b7b-4581-a4d0-7051f70f39a9",
   "metadata": {},
   "outputs": [],
   "source": [
    "#dict * set: {'a': 1} * {1, 2, 3}"
   ]
  },
  {
   "cell_type": "code",
   "execution_count": null,
   "id": "c61224e3-7c68-42f3-90c4-d8d8c263f7ba",
   "metadata": {},
   "outputs": [],
   "source": [
    "#dict * dictionary: {'a': 1} * {'b': 2}"
   ]
  },
  {
   "cell_type": "code",
   "execution_count": null,
   "id": "6508edd1-9b02-4a81-85ca-ead136692fe2",
   "metadata": {},
   "outputs": [],
   "source": [
    "#dict * tuple: {'a': 1} * (1, 2, 3)"
   ]
  },
  {
   "cell_type": "code",
   "execution_count": null,
   "id": "b3201236-fe68-4288-9357-db39fccbe509",
   "metadata": {},
   "outputs": [],
   "source": [
    "#dict * nonetype: {'a': 1} * none"
   ]
  },
  {
   "cell_type": "markdown",
   "id": "e6f72881-5957-4180-aa44-eddc0ea70811",
   "metadata": {
    "jp-MarkdownHeadingCollapsed": true
   },
   "source": [
    "### Division"
   ]
  },
  {
   "cell_type": "code",
   "execution_count": null,
   "id": "8918e4ed-1087-4ab4-b4fa-ee72be65aabb",
   "metadata": {},
   "outputs": [],
   "source": [
    "#dict / int: {'a': 1} / 5"
   ]
  },
  {
   "cell_type": "code",
   "execution_count": null,
   "id": "d7eaa4a3-7431-48dc-848a-4ce5d69f2b59",
   "metadata": {},
   "outputs": [],
   "source": [
    "#dict / float: {'a': 1} / 2.5"
   ]
  },
  {
   "cell_type": "code",
   "execution_count": null,
   "id": "25b9d06f-0adc-4c75-ae41-efcbeb37f53e",
   "metadata": {},
   "outputs": [],
   "source": [
    "#dict / bool: {'a': 1} / True"
   ]
  },
  {
   "cell_type": "code",
   "execution_count": null,
   "id": "b7eddf7b-a211-445f-aa98-44de73ea7e5b",
   "metadata": {},
   "outputs": [],
   "source": [
    "#dict / string: {'a': 1} / 'Hello'"
   ]
  },
  {
   "cell_type": "code",
   "execution_count": null,
   "id": "dabb165c-2c7b-4975-a43a-dc208097262d",
   "metadata": {},
   "outputs": [],
   "source": [
    "#dict / list: {'a': 1} / [1, 2, 3]"
   ]
  },
  {
   "cell_type": "code",
   "execution_count": null,
   "id": "28185052-9a9e-4a6a-9f85-2b0503b81a72",
   "metadata": {},
   "outputs": [],
   "source": [
    "#dict / set: {'a': 1} / {1, 2, 3}"
   ]
  },
  {
   "cell_type": "code",
   "execution_count": null,
   "id": "d5dc39fe-8b1a-4aaa-9a13-d7639987bc5f",
   "metadata": {},
   "outputs": [],
   "source": [
    "#dict / dictionary: {'a': 1} / {'b': 2}"
   ]
  },
  {
   "cell_type": "code",
   "execution_count": null,
   "id": "2db670e7-ef5f-4b2f-adda-613a595b8691",
   "metadata": {},
   "outputs": [],
   "source": [
    "#dict / nonetype: {'a': 1} / none"
   ]
  },
  {
   "cell_type": "code",
   "execution_count": null,
   "id": "63c1710f-ddaa-40e9-8f5c-6a69cb1a633c",
   "metadata": {},
   "outputs": [],
   "source": [
    "#dict / tuple: {'a': 1} / (1, 2, 3)"
   ]
  },
  {
   "cell_type": "markdown",
   "id": "f3124e70-9512-44fe-961b-f37715def552",
   "metadata": {
    "jp-MarkdownHeadingCollapsed": true
   },
   "source": [
    "### Floor Division"
   ]
  },
  {
   "cell_type": "code",
   "execution_count": null,
   "id": "a7258ab1-e75b-44c2-aa0e-9c50da2345bb",
   "metadata": {},
   "outputs": [],
   "source": [
    "#dict // nonetype: {'a': 1} // none"
   ]
  },
  {
   "cell_type": "code",
   "execution_count": null,
   "id": "e3af0453-3257-4e55-9be5-8ebc2200fbb7",
   "metadata": {},
   "outputs": [],
   "source": [
    "#dict // int: {'a': 1} // 5"
   ]
  },
  {
   "cell_type": "code",
   "execution_count": null,
   "id": "c31b1860-0619-48e7-8f9f-e483c544b47d",
   "metadata": {},
   "outputs": [],
   "source": [
    "#dict // float: {'a': 1} // 2.5"
   ]
  },
  {
   "cell_type": "code",
   "execution_count": null,
   "id": "921edc43-7a5b-4781-a3d0-d7d7ae823b80",
   "metadata": {},
   "outputs": [],
   "source": [
    "#dict // bool: {'a': 1} // True"
   ]
  },
  {
   "cell_type": "code",
   "execution_count": null,
   "id": "93e72b2b-ca65-491a-904d-05d33d23767e",
   "metadata": {},
   "outputs": [],
   "source": [
    "#dict // string: {'a': 1} // 'Hello'"
   ]
  },
  {
   "cell_type": "code",
   "execution_count": null,
   "id": "3cfe700b-cf50-4d9d-bc99-f0461a19efc4",
   "metadata": {},
   "outputs": [],
   "source": [
    "#dict // list: {'a': 1} // [1, 2, 3]"
   ]
  },
  {
   "cell_type": "code",
   "execution_count": null,
   "id": "3cbedd26-e621-4822-b8f5-ca4cf30ee871",
   "metadata": {},
   "outputs": [],
   "source": [
    "#dict // set: {'a': 1} // {1, 2, 3}"
   ]
  },
  {
   "cell_type": "code",
   "execution_count": null,
   "id": "3330dea5-5f04-4c50-b033-e1f4904d49f9",
   "metadata": {},
   "outputs": [],
   "source": [
    "#dict // dictionary: {'a': 1} // {'b': 2}"
   ]
  },
  {
   "cell_type": "code",
   "execution_count": null,
   "id": "12855d18-e84d-4554-9965-5fff727253cb",
   "metadata": {},
   "outputs": [],
   "source": [
    "#dict // tuple: {'a': 1} // (1, 2, 3)"
   ]
  },
  {
   "cell_type": "markdown",
   "id": "b035a6cc-0fbb-43f0-98bd-9f46d2289045",
   "metadata": {
    "jp-MarkdownHeadingCollapsed": true
   },
   "source": [
    "### Exponentiation"
   ]
  },
  {
   "cell_type": "code",
   "execution_count": null,
   "id": "aefb438a-fb30-47f1-981c-37684963b230",
   "metadata": {},
   "outputs": [],
   "source": [
    "#dict ** nonetype: {'a': 1} ** none"
   ]
  },
  {
   "cell_type": "code",
   "execution_count": null,
   "id": "58e4b2d2-1ad5-4026-b3f3-71de9233af50",
   "metadata": {},
   "outputs": [],
   "source": [
    "#dict ** int: {'a': 1} ** 2"
   ]
  },
  {
   "cell_type": "code",
   "execution_count": null,
   "id": "6e9c6ec1-db59-4566-a866-25a74c4546db",
   "metadata": {},
   "outputs": [],
   "source": [
    "#dict ** float: {'a': 1} ** 2.5"
   ]
  },
  {
   "cell_type": "code",
   "execution_count": null,
   "id": "ca1e4158-e2ad-4b8f-80d2-c3b5a108a6c6",
   "metadata": {},
   "outputs": [],
   "source": [
    "#dict ** bool: {'a': 1} ** True"
   ]
  },
  {
   "cell_type": "code",
   "execution_count": null,
   "id": "d33c15fd-34cf-40f1-9b05-c6919cb8cb7c",
   "metadata": {},
   "outputs": [],
   "source": [
    "#dict ** string: {'a': 1} ** 'Hello'"
   ]
  },
  {
   "cell_type": "code",
   "execution_count": null,
   "id": "808b5bfb-7dc9-437e-acb8-220332e23b7a",
   "metadata": {},
   "outputs": [],
   "source": [
    "#dict ** list: {'a': 1} ** [1, 2, 3]"
   ]
  },
  {
   "cell_type": "code",
   "execution_count": null,
   "id": "732baafa-e997-46e3-82c5-3f8629b5ea0c",
   "metadata": {},
   "outputs": [],
   "source": [
    "#dict ** set: {'a': 1} ** {1, 2, 3}"
   ]
  },
  {
   "cell_type": "code",
   "execution_count": null,
   "id": "44bd3b2e-9619-497b-b442-6e88eb105a07",
   "metadata": {},
   "outputs": [],
   "source": [
    "#dict ** dictionary: {'a': 1} ** {'b': 2}"
   ]
  },
  {
   "cell_type": "code",
   "execution_count": null,
   "id": "d4e4f77c-ca5e-44f5-8312-ea1027ffa871",
   "metadata": {},
   "outputs": [],
   "source": [
    "#dict ** tuple: {'a': 1} ** (1, 2, 3)"
   ]
  },
  {
   "cell_type": "markdown",
   "id": "e7c3afe2-b06c-4815-8417-b9615cc544d3",
   "metadata": {},
   "source": [
    "# SET"
   ]
  },
  {
   "cell_type": "markdown",
   "id": "57563be3-831e-4907-91ec-cb9da2a96f81",
   "metadata": {
    "jp-MarkdownHeadingCollapsed": true
   },
   "source": [
    "### Addition"
   ]
  },
  {
   "cell_type": "code",
   "execution_count": null,
   "id": "c53e55f1-fd55-44e4-8d2e-b6dc49cd83ae",
   "metadata": {},
   "outputs": [],
   "source": [
    "#set + int: {1, 2, 3} + 5"
   ]
  },
  {
   "cell_type": "code",
   "execution_count": null,
   "id": "e5b5250a-5ef4-402d-8c4e-040390ebcc0c",
   "metadata": {},
   "outputs": [],
   "source": [
    "#set + float: {1, 2, 3} + 2.5"
   ]
  },
  {
   "cell_type": "code",
   "execution_count": null,
   "id": "4c67b8ca-3954-4519-a60f-64d8b6ef2acb",
   "metadata": {},
   "outputs": [],
   "source": [
    "#set + bool: {1, 2, 3} + True"
   ]
  },
  {
   "cell_type": "code",
   "execution_count": null,
   "id": "929e1afe-22d6-4655-bfec-823e9c249fbc",
   "metadata": {},
   "outputs": [],
   "source": [
    "#set + string: {1, 2, 3} + 'Hello'"
   ]
  },
  {
   "cell_type": "code",
   "execution_count": null,
   "id": "9c5243ce-3558-4573-90c5-2e497eda5458",
   "metadata": {},
   "outputs": [],
   "source": [
    "#set + NoneType: {1, 2, 3} + None"
   ]
  },
  {
   "cell_type": "code",
   "execution_count": null,
   "id": "6cfc9a2a-3b10-493e-b2ff-471559dd9bb6",
   "metadata": {},
   "outputs": [],
   "source": [
    "#set + list: {1, 2, 3} + [4, 5]"
   ]
  },
  {
   "cell_type": "code",
   "execution_count": null,
   "id": "0271c3d9-ce48-45fc-a75f-201a3e1b0854",
   "metadata": {},
   "outputs": [],
   "source": [
    "#set + set: {1, 2, 3} + {4, 5} "
   ]
  },
  {
   "cell_type": "code",
   "execution_count": null,
   "id": "9405b22b-6b4c-44fb-85fb-fb471a19d8df",
   "metadata": {},
   "outputs": [],
   "source": [
    "#set + dictionary: {1, 2, 3} + {'a': 1}"
   ]
  },
  {
   "cell_type": "code",
   "execution_count": null,
   "id": "b5fc53be-3b34-4dfc-a833-1898729900bd",
   "metadata": {},
   "outputs": [],
   "source": [
    "#set + tuple: {1, 2, 3} + (4, 5)"
   ]
  },
  {
   "cell_type": "markdown",
   "id": "0823df78-a284-4378-abe7-9e19bcccfce5",
   "metadata": {
    "jp-MarkdownHeadingCollapsed": true
   },
   "source": [
    "### Subtraction"
   ]
  },
  {
   "cell_type": "code",
   "execution_count": null,
   "id": "f0f5a949-6638-4350-8660-ad9a452acc1b",
   "metadata": {},
   "outputs": [],
   "source": [
    "#set - int: {1, 2, 3} - 5"
   ]
  },
  {
   "cell_type": "code",
   "execution_count": null,
   "id": "832b2765-a0eb-4579-b36f-3eacc4043ff8",
   "metadata": {},
   "outputs": [],
   "source": [
    "#set - float: {1, 2, 3} - 2.5"
   ]
  },
  {
   "cell_type": "code",
   "execution_count": null,
   "id": "4ad7b11f-7606-46c5-9522-3d8e43e59146",
   "metadata": {},
   "outputs": [],
   "source": [
    "#set - bool: {1, 2, 3} - True"
   ]
  },
  {
   "cell_type": "code",
   "execution_count": null,
   "id": "9c9b6925-14ae-4620-960b-c73eb8b48f91",
   "metadata": {},
   "outputs": [],
   "source": [
    "#set - string: {1, 2, 3} - 'Hello'"
   ]
  },
  {
   "cell_type": "code",
   "execution_count": null,
   "id": "2fa9d33b-d05c-40e9-b03a-0dd8aa8260aa",
   "metadata": {},
   "outputs": [],
   "source": [
    "#set - NoneType: {1, 2, 3} - None"
   ]
  },
  {
   "cell_type": "code",
   "execution_count": null,
   "id": "5e7a166d-31a9-40d4-9683-a4038b2f3808",
   "metadata": {},
   "outputs": [],
   "source": [
    "#set - list: {1, 2, 3} - [4, 5]"
   ]
  },
  {
   "cell_type": "code",
   "execution_count": null,
   "id": "e20f0541-9228-4cdc-a8eb-f92ba6d64fa7",
   "metadata": {},
   "outputs": [],
   "source": [
    "#set - set: {1, 2, 3} - {4, 5} = {1, 2, 3}"
   ]
  },
  {
   "cell_type": "code",
   "execution_count": null,
   "id": "19d82cc4-58e0-4c83-9e72-cfba336ce2bc",
   "metadata": {},
   "outputs": [],
   "source": [
    "#set - dictionary: {1, 2, 3} - {'a': 1}"
   ]
  },
  {
   "cell_type": "code",
   "execution_count": null,
   "id": "dd64d04c-4139-497e-97c6-92b892477b7a",
   "metadata": {},
   "outputs": [],
   "source": [
    "#set - tuple: {1, 2, 3} - (4, 5)"
   ]
  },
  {
   "cell_type": "markdown",
   "id": "9b81c37a-5b9f-42ec-a300-60d3d76e81cf",
   "metadata": {
    "jp-MarkdownHeadingCollapsed": true
   },
   "source": [
    "### Multiplication"
   ]
  },
  {
   "cell_type": "code",
   "execution_count": null,
   "id": "d8284191-42cb-4008-9e14-e9adce4b956a",
   "metadata": {},
   "outputs": [],
   "source": [
    "#set * int: {1, 2, 3} * 2"
   ]
  },
  {
   "cell_type": "code",
   "execution_count": null,
   "id": "0b0c9585-0b8a-4567-a971-7e142edff73d",
   "metadata": {},
   "outputs": [],
   "source": [
    "#set * float: {1, 2, 3} * 2.5"
   ]
  },
  {
   "cell_type": "code",
   "execution_count": null,
   "id": "b1347644-ecee-479f-9ac3-384d677c0290",
   "metadata": {},
   "outputs": [],
   "source": [
    "#set * bool: {1, 2, 3} * True"
   ]
  },
  {
   "cell_type": "code",
   "execution_count": null,
   "id": "b639c232-4d8d-49af-8d46-33b7311004e5",
   "metadata": {},
   "outputs": [],
   "source": [
    "#set * string: {1, 2, 3} * 'Hello'"
   ]
  },
  {
   "cell_type": "code",
   "execution_count": null,
   "id": "a717d4fd-16b5-4eff-b345-8d0b133bb3a8",
   "metadata": {},
   "outputs": [],
   "source": [
    "#set * list: {1, 2, 3} * [4, 5]"
   ]
  },
  {
   "cell_type": "code",
   "execution_count": null,
   "id": "5e365a70-f15f-4dbd-9022-506898f57f6a",
   "metadata": {},
   "outputs": [],
   "source": [
    "#set * set: {1, 2, 3} * {4, 5}"
   ]
  },
  {
   "cell_type": "code",
   "execution_count": null,
   "id": "c1fc4fc2-409a-4514-a7a5-e569e3642bba",
   "metadata": {},
   "outputs": [],
   "source": [
    "#set * dictionary: {1, 2, 3} * {'a': 1}"
   ]
  },
  {
   "cell_type": "code",
   "execution_count": null,
   "id": "b5952bcc-1e96-4ecc-a769-c9d839d3bc50",
   "metadata": {},
   "outputs": [],
   "source": [
    "#set * tuple: {1, 2, 3} * (4, 5)"
   ]
  },
  {
   "cell_type": "code",
   "execution_count": null,
   "id": "eaabc6e8-80cc-4703-a809-0fba546fb3dc",
   "metadata": {},
   "outputs": [],
   "source": [
    "#set * nonetype: {1, 2, 3} * none"
   ]
  },
  {
   "cell_type": "markdown",
   "id": "31d7e01c-57f1-41c8-81cc-8ac080bbecba",
   "metadata": {
    "jp-MarkdownHeadingCollapsed": true
   },
   "source": [
    "### Division"
   ]
  },
  {
   "cell_type": "code",
   "execution_count": null,
   "id": "3b900dd1-d802-47fd-bc72-dea39c64a7aa",
   "metadata": {},
   "outputs": [],
   "source": [
    "#set / int: {1, 2, 3} / 5"
   ]
  },
  {
   "cell_type": "code",
   "execution_count": null,
   "id": "ee823cb8-25fe-435e-a059-0c8f5c7ff0d5",
   "metadata": {},
   "outputs": [],
   "source": [
    "#set / float: {1, 2, 3} / 2.5"
   ]
  },
  {
   "cell_type": "code",
   "execution_count": null,
   "id": "f8202d41-d23c-4a21-b7d9-79d455f91791",
   "metadata": {},
   "outputs": [],
   "source": [
    "#set / bool: {1, 2, 3} / True"
   ]
  },
  {
   "cell_type": "code",
   "execution_count": null,
   "id": "9b538ce8-12e6-42a0-aaaa-9a9b4a5ee857",
   "metadata": {},
   "outputs": [],
   "source": [
    "#set / string: {1, 2, 3} / 'Hello'"
   ]
  },
  {
   "cell_type": "code",
   "execution_count": null,
   "id": "d1863e6a-53b6-436b-8d9b-96172ee13221",
   "metadata": {},
   "outputs": [],
   "source": [
    "#set / list: {1, 2, 3} / [4, 5]"
   ]
  },
  {
   "cell_type": "code",
   "execution_count": null,
   "id": "2f90b25b-0316-44a0-87b7-980c85512722",
   "metadata": {},
   "outputs": [],
   "source": [
    "#set / set: {1, 2, 3} / {4, 5}"
   ]
  },
  {
   "cell_type": "code",
   "execution_count": null,
   "id": "361d7e70-19f1-4559-924b-084ac44159bc",
   "metadata": {},
   "outputs": [],
   "source": [
    "#set / dictionary: {1, 2, 3} / {'a': 1}"
   ]
  },
  {
   "cell_type": "code",
   "execution_count": null,
   "id": "2f8b57c3-3e14-4370-8df5-8f75fd612a34",
   "metadata": {},
   "outputs": [],
   "source": [
    "#set / tuple: {1, 2, 3} / (4, 5)"
   ]
  },
  {
   "cell_type": "code",
   "execution_count": null,
   "id": "63ebee2c-7b7d-4d36-b456-1bb41c62d6a9",
   "metadata": {},
   "outputs": [],
   "source": [
    "#set / nonetype: {1, 2, 3} / none"
   ]
  },
  {
   "cell_type": "markdown",
   "id": "3ed78bfe-3899-4df3-9609-753f307da125",
   "metadata": {
    "jp-MarkdownHeadingCollapsed": true
   },
   "source": [
    "### Floor Division:"
   ]
  },
  {
   "cell_type": "code",
   "execution_count": null,
   "id": "a40e4bbe-febd-4905-92a4-9964a569464c",
   "metadata": {},
   "outputs": [],
   "source": [
    "#set // int: {1, 2, 3} // 5"
   ]
  },
  {
   "cell_type": "code",
   "execution_count": null,
   "id": "5ddf1263-9633-40de-a78e-e8b0552760a4",
   "metadata": {},
   "outputs": [],
   "source": [
    "#set // float: {1, 2, 3} // 2.5"
   ]
  },
  {
   "cell_type": "code",
   "execution_count": null,
   "id": "8b57c933-0537-4c39-b391-5dd83a0f4f42",
   "metadata": {},
   "outputs": [],
   "source": [
    "#set // bool: {1, 2, 3} // True"
   ]
  },
  {
   "cell_type": "code",
   "execution_count": null,
   "id": "c42ee4d5-2488-44d6-a8fd-d0c2a69e3999",
   "metadata": {},
   "outputs": [],
   "source": [
    "#set // string: {1, 2, 3} // 'Hello'"
   ]
  },
  {
   "cell_type": "code",
   "execution_count": null,
   "id": "608c0964-a520-42b3-bd80-3b37d33511cf",
   "metadata": {},
   "outputs": [],
   "source": [
    "#set // list: {1, 2, 3} // [4, 5]"
   ]
  },
  {
   "cell_type": "code",
   "execution_count": null,
   "id": "cadfdedd-8ea9-4d02-81d1-89ab16664366",
   "metadata": {},
   "outputs": [],
   "source": [
    "#set // set: {1, 2, 3} // {4, 5}"
   ]
  },
  {
   "cell_type": "code",
   "execution_count": null,
   "id": "07346bf9-de59-41ce-8a03-af0613867561",
   "metadata": {},
   "outputs": [],
   "source": [
    "#set // dictionary: {1, 2, 3} // {'a': 1}"
   ]
  },
  {
   "cell_type": "code",
   "execution_count": null,
   "id": "cae59a45-5a47-400a-980d-3c18e7f59b67",
   "metadata": {},
   "outputs": [],
   "source": [
    "#set // tuple: {1, 2, 3} // (4, 5)"
   ]
  },
  {
   "cell_type": "code",
   "execution_count": null,
   "id": "27bee826-1b70-4140-8011-bf1d59a1ccc8",
   "metadata": {},
   "outputs": [],
   "source": [
    "#set // nonetype: {1, 2, 3} // none"
   ]
  },
  {
   "cell_type": "markdown",
   "id": "2f31a2fa-2851-43fe-a247-f905c449ae8d",
   "metadata": {
    "jp-MarkdownHeadingCollapsed": true
   },
   "source": [
    "### Exponentiation"
   ]
  },
  {
   "cell_type": "code",
   "execution_count": null,
   "id": "731467c8-724b-412f-8a73-2ce2a419cf3d",
   "metadata": {},
   "outputs": [],
   "source": [
    "#set ** int: {1, 2, 3} ** 2"
   ]
  },
  {
   "cell_type": "code",
   "execution_count": null,
   "id": "a216d4a9-7ac0-4f0a-b688-8318b5822fea",
   "metadata": {},
   "outputs": [],
   "source": [
    "#set ** float: {1, 2, 3} ** 2.5"
   ]
  },
  {
   "cell_type": "code",
   "execution_count": null,
   "id": "b8077477-bda1-4859-84cb-40ffec39102b",
   "metadata": {},
   "outputs": [],
   "source": [
    "#set ** bool: {1, 2, 3} ** True"
   ]
  },
  {
   "cell_type": "code",
   "execution_count": null,
   "id": "7008719a-a93e-4bd6-9386-48ec3f61ff1f",
   "metadata": {},
   "outputs": [],
   "source": [
    "#set ** string: {1, 2, 3} ** 'Hello'"
   ]
  },
  {
   "cell_type": "code",
   "execution_count": null,
   "id": "fe601f1e-7c48-421c-94f2-bbcf70ead09b",
   "metadata": {},
   "outputs": [],
   "source": [
    "#set ** list: {1, 2, 3} ** [4, 5]"
   ]
  },
  {
   "cell_type": "code",
   "execution_count": null,
   "id": "49613354-7cf9-4686-a21a-d03e58464c72",
   "metadata": {},
   "outputs": [],
   "source": [
    "#set ** set: {1, 2, 3} ** {4, 5}"
   ]
  },
  {
   "cell_type": "code",
   "execution_count": null,
   "id": "5ccdb456-1b33-4d01-940e-90a9de5f67c2",
   "metadata": {},
   "outputs": [],
   "source": [
    "#set ** dictionary: {1, 2, 3} ** {'a': 1}"
   ]
  },
  {
   "cell_type": "code",
   "execution_count": null,
   "id": "18567801-cb97-4f96-8603-dfac75f68401",
   "metadata": {},
   "outputs": [],
   "source": [
    "#set ** tuple: {1, 2, 3} ** (4, 5)"
   ]
  },
  {
   "cell_type": "code",
   "execution_count": null,
   "id": "1f4c70d4-ce8b-47d0-9167-ed685736aa92",
   "metadata": {},
   "outputs": [],
   "source": [
    "#set ** nonetype: {1, 2, 3} ** none"
   ]
  },
  {
   "cell_type": "markdown",
   "id": "9045bc30-307b-4095-a669-27d0e9385837",
   "metadata": {},
   "source": [
    "# TUPLE "
   ]
  },
  {
   "cell_type": "markdown",
   "id": "3fdc1db6-bbc1-4780-8415-f9ec6468d82f",
   "metadata": {
    "jp-MarkdownHeadingCollapsed": true
   },
   "source": [
    "### Addition:"
   ]
  },
  {
   "cell_type": "code",
   "execution_count": null,
   "id": "39cd36bc-82cc-45dc-902b-ba6abc203bca",
   "metadata": {},
   "outputs": [],
   "source": [
    "#tuple + int: (1, 2, 3) + 5"
   ]
  },
  {
   "cell_type": "code",
   "execution_count": null,
   "id": "d27adeab-d9e0-4d4f-ad67-6dcda6ff2826",
   "metadata": {},
   "outputs": [],
   "source": [
    "#tuple + float: (1, 2, 3) + 2.5"
   ]
  },
  {
   "cell_type": "code",
   "execution_count": null,
   "id": "b2d161df-001f-4208-8570-f7b188c3ac9e",
   "metadata": {},
   "outputs": [],
   "source": [
    "#tuple + bool: (1, 2, 3) + True"
   ]
  },
  {
   "cell_type": "code",
   "execution_count": null,
   "id": "2644e2a3-e18b-447b-9376-76f9b1428b70",
   "metadata": {},
   "outputs": [],
   "source": [
    "#tuple + string: (1, 2, 3) + 'Hello'"
   ]
  },
  {
   "cell_type": "code",
   "execution_count": null,
   "id": "d23e9099-d727-46de-93c8-7562a36f66de",
   "metadata": {},
   "outputs": [],
   "source": [
    "#tuple + NoneType: (1, 2, 3) + None"
   ]
  },
  {
   "cell_type": "code",
   "execution_count": null,
   "id": "86af68be-540c-4d3e-9f5f-5e811209ce78",
   "metadata": {},
   "outputs": [],
   "source": [
    "#tuple + list: (1, 2, 3) + [4, 5]"
   ]
  },
  {
   "cell_type": "code",
   "execution_count": null,
   "id": "44cc2147-cd41-4b3b-9feb-a77fb526f1f1",
   "metadata": {},
   "outputs": [],
   "source": [
    "#tuple + set: (1, 2, 3) + {4, 5}"
   ]
  },
  {
   "cell_type": "code",
   "execution_count": null,
   "id": "455b27b1-e3ee-4456-ad12-8ea0c2f86217",
   "metadata": {},
   "outputs": [],
   "source": [
    "#tuple + dictionary: (1, 2, 3) + {'a': 1}"
   ]
  },
  {
   "cell_type": "code",
   "execution_count": null,
   "id": "5e4325fa-8147-4308-ae6f-450b98eee7b4",
   "metadata": {},
   "outputs": [],
   "source": [
    "#tuple + tuple: (1, 2, 3) + (4, 5)"
   ]
  },
  {
   "cell_type": "markdown",
   "id": "633c7a7b-d3b2-4ebd-8c2e-9c19aab6614c",
   "metadata": {
    "jp-MarkdownHeadingCollapsed": true
   },
   "source": [
    "### Subtraction"
   ]
  },
  {
   "cell_type": "code",
   "execution_count": null,
   "id": "0d9f7dd4-1e05-4293-bd89-9d4249c2c8cb",
   "metadata": {},
   "outputs": [],
   "source": [
    "#tuple - int: (1, 2, 3) - 5"
   ]
  },
  {
   "cell_type": "code",
   "execution_count": null,
   "id": "fa320719-724a-45d7-b205-024a3ca51ce7",
   "metadata": {},
   "outputs": [],
   "source": [
    "#tuple - float: (1, 2, 3) - 2.5"
   ]
  },
  {
   "cell_type": "code",
   "execution_count": null,
   "id": "f8b5cf9c-44f5-4991-8d74-8a6e3ca4110a",
   "metadata": {},
   "outputs": [],
   "source": [
    "#tuple - bool: (1, 2, 3) - True"
   ]
  },
  {
   "cell_type": "code",
   "execution_count": null,
   "id": "d187eab5-6309-493b-8a55-cc0b90367b87",
   "metadata": {},
   "outputs": [],
   "source": [
    "#tuple - string: (1, 2, 3) - 'Hello'"
   ]
  },
  {
   "cell_type": "code",
   "execution_count": null,
   "id": "4b1bb8c7-07f2-40f5-b938-5181321d27e0",
   "metadata": {},
   "outputs": [],
   "source": [
    "#tuple - NoneType: (1, 2, 3) - None"
   ]
  },
  {
   "cell_type": "code",
   "execution_count": null,
   "id": "f4d43f29-56bd-413b-9696-ea16bd70cd67",
   "metadata": {},
   "outputs": [],
   "source": [
    "#tuple - list: (1, 2, 3) - [4, 5]"
   ]
  },
  {
   "cell_type": "code",
   "execution_count": null,
   "id": "eabda250-57bd-493d-894b-8bc0f96b440e",
   "metadata": {},
   "outputs": [],
   "source": [
    "#tuple - set: (1, 2, 3) - {4, 5}"
   ]
  },
  {
   "cell_type": "code",
   "execution_count": null,
   "id": "32d02a5e-6b82-4517-879e-7b5b0299624e",
   "metadata": {},
   "outputs": [],
   "source": [
    "#tuple - dictionary: (1, 2, 3) - {'a': 1}"
   ]
  },
  {
   "cell_type": "code",
   "execution_count": null,
   "id": "5fcfca12-951a-40e2-a4af-bfa6cbb5fb12",
   "metadata": {},
   "outputs": [],
   "source": [
    "#tuple - tuple: (1, 2, 3) - (4, 5)"
   ]
  },
  {
   "cell_type": "markdown",
   "id": "ebf62911-2ca2-46ad-a6c4-024aa8706c39",
   "metadata": {
    "jp-MarkdownHeadingCollapsed": true
   },
   "source": [
    "### Multiplication"
   ]
  },
  {
   "cell_type": "code",
   "execution_count": null,
   "id": "673865a1-d10b-4b75-b396-d8f996dc182c",
   "metadata": {},
   "outputs": [],
   "source": [
    "#tuple * int: (1, 2, 3) * 2"
   ]
  },
  {
   "cell_type": "code",
   "execution_count": null,
   "id": "1d17c87c-6db3-44d5-a372-986a186b0870",
   "metadata": {},
   "outputs": [],
   "source": [
    "#tuple * float: (1, 2, 3) * 2.5"
   ]
  },
  {
   "cell_type": "code",
   "execution_count": null,
   "id": "114c902d-9dc2-4025-9a8c-1b00020e115a",
   "metadata": {},
   "outputs": [],
   "source": [
    "#tuple * bool: (1, 2, 3) * True"
   ]
  },
  {
   "cell_type": "code",
   "execution_count": null,
   "id": "8a38b195-3fd9-436c-943d-d5a77685832c",
   "metadata": {},
   "outputs": [],
   "source": [
    "#tuple * string: (1, 2, 3) * 'Hello'"
   ]
  },
  {
   "cell_type": "code",
   "execution_count": null,
   "id": "baed8f02-95e7-456f-8d57-843825eb60e3",
   "metadata": {},
   "outputs": [],
   "source": [
    "#tuple * list: (1, 2, 3) * [4, 5]"
   ]
  },
  {
   "cell_type": "code",
   "execution_count": null,
   "id": "0d9d8e91-eba6-4351-ae8a-c8c78b834ac7",
   "metadata": {},
   "outputs": [],
   "source": [
    "#tuple * set: (1, 2, 3) * {4, 5}"
   ]
  },
  {
   "cell_type": "code",
   "execution_count": null,
   "id": "e4183ce0-a3b0-49bc-8112-487d4c141bc2",
   "metadata": {},
   "outputs": [],
   "source": [
    "#tuple * dictionary: (1, 2, 3) * {'a': 1}"
   ]
  },
  {
   "cell_type": "code",
   "execution_count": null,
   "id": "0316d7df-6cba-4b70-aec4-83bbea7618e6",
   "metadata": {},
   "outputs": [],
   "source": [
    "#tuple * tuple: (1, 2, 3) * (4, 5)"
   ]
  },
  {
   "cell_type": "code",
   "execution_count": null,
   "id": "37ef2c17-880e-4c50-b6e2-b44cb6baaeef",
   "metadata": {},
   "outputs": [],
   "source": [
    "#tuple * nonetype: (1, 2, 3) * none"
   ]
  },
  {
   "cell_type": "markdown",
   "id": "6dee085b-3821-43d7-b012-40b0a1628e5c",
   "metadata": {},
   "source": [
    "### Division"
   ]
  },
  {
   "cell_type": "code",
   "execution_count": null,
   "id": "eb26e942-893e-463c-bd46-a65d9310fac8",
   "metadata": {},
   "outputs": [],
   "source": [
    "#tuple / int: (1, 2, 3) / 5"
   ]
  },
  {
   "cell_type": "code",
   "execution_count": null,
   "id": "98fb55a4-631b-491b-9a70-6c3cd6418561",
   "metadata": {},
   "outputs": [],
   "source": [
    "#tuple / float: (1, 2, 3) / 2.5"
   ]
  },
  {
   "cell_type": "code",
   "execution_count": null,
   "id": "5e4be582-e310-4da4-86cd-c26acf0dac73",
   "metadata": {},
   "outputs": [],
   "source": [
    "#tuple / bool: (1, 2, 3) / True"
   ]
  },
  {
   "cell_type": "code",
   "execution_count": null,
   "id": "602cade7-f12e-4371-94b4-c601a85f50cc",
   "metadata": {},
   "outputs": [],
   "source": [
    "#tuple / string: (1, 2, 3) / 'Hello'"
   ]
  },
  {
   "cell_type": "code",
   "execution_count": null,
   "id": "1e6f0d87-5bc1-4503-9b14-27eeb72c600a",
   "metadata": {},
   "outputs": [],
   "source": [
    "#tuple / list: (1, 2, 3) / [4, 5]"
   ]
  },
  {
   "cell_type": "code",
   "execution_count": null,
   "id": "656697ce-24d5-4dd0-9f8d-2d0c878e7458",
   "metadata": {},
   "outputs": [],
   "source": [
    "#tuple / set: (1, 2, 3) / {4, 5}"
   ]
  },
  {
   "cell_type": "code",
   "execution_count": null,
   "id": "95fc0a3a-e710-42ad-a0b5-e6b43825457f",
   "metadata": {},
   "outputs": [],
   "source": [
    "##tuple / nonetype: (1, 2, 3) / none"
   ]
  },
  {
   "cell_type": "code",
   "execution_count": null,
   "id": "e3493cce-b67c-4dd1-953e-78061b5caa56",
   "metadata": {},
   "outputs": [],
   "source": [
    "#tuple / list: (1, 2, 3) / [4, 5]"
   ]
  },
  {
   "cell_type": "code",
   "execution_count": null,
   "id": "aa99a179-3dcd-413e-ab16-bdd61af1bbfa",
   "metadata": {},
   "outputs": [],
   "source": [
    "#tuple / set: (1, 2, 3) / {4, 5}"
   ]
  },
  {
   "cell_type": "code",
   "execution_count": null,
   "id": "6119e725-7a66-4854-8e2e-a885d8f14f9d",
   "metadata": {},
   "outputs": [],
   "source": [
    "#tuple / dictionary: (1, 2, 3) / {'a': 1}"
   ]
  },
  {
   "cell_type": "code",
   "execution_count": null,
   "id": "d984b487-a598-4404-9af4-63b5701bd46a",
   "metadata": {},
   "outputs": [],
   "source": [
    "#tuple / tuple: (1, 2, 3) / (4, 5)"
   ]
  },
  {
   "cell_type": "markdown",
   "id": "168091f5-f216-4c79-9b4b-3217609fef2a",
   "metadata": {},
   "source": [
    "### Floor Division"
   ]
  },
  {
   "cell_type": "code",
   "execution_count": null,
   "id": "6144b93e-7fe4-4bbb-880a-ff8d62c2688e",
   "metadata": {},
   "outputs": [],
   "source": [
    "#tuple // int: (1, 2, 3) // 5"
   ]
  },
  {
   "cell_type": "code",
   "execution_count": null,
   "id": "47d4f42a-7f20-4994-b48d-cab264e70a2f",
   "metadata": {},
   "outputs": [],
   "source": [
    "#tuple // float: (1, 2, 3) // 2.5"
   ]
  },
  {
   "cell_type": "code",
   "execution_count": null,
   "id": "89889451-7ded-4a18-abe7-e93f4f3d3525",
   "metadata": {},
   "outputs": [],
   "source": [
    "#tuple // boolean: (1, 2, 3) // True"
   ]
  },
  {
   "cell_type": "code",
   "execution_count": null,
   "id": "04006346-72f9-4c38-815e-f997e0837f2d",
   "metadata": {},
   "outputs": [],
   "source": [
    "#tuple // string: (1, 2, 3) // 'Hello'"
   ]
  },
  {
   "cell_type": "code",
   "execution_count": null,
   "id": "ffc74d48-f85d-4292-9941-a1d437141c6b",
   "metadata": {},
   "outputs": [],
   "source": [
    "#tuple // NoneType: (1, 2, 3) // None"
   ]
  },
  {
   "cell_type": "code",
   "execution_count": null,
   "id": "7d94e5be-36d5-4837-b874-47741e21e472",
   "metadata": {},
   "outputs": [],
   "source": [
    "#tuple // list: (1, 2, 3) // [4, 5]"
   ]
  },
  {
   "cell_type": "code",
   "execution_count": null,
   "id": "110e5b95-28a9-4e3a-b20b-9727bbbb2f66",
   "metadata": {},
   "outputs": [],
   "source": [
    "#tuple // set: (1, 2, 3) // {4, 5}"
   ]
  },
  {
   "cell_type": "code",
   "execution_count": null,
   "id": "724e299f-b4cf-4bb6-8517-1c789116a580",
   "metadata": {},
   "outputs": [],
   "source": [
    "#tuple // dictionary: (1, 2, 3) // {'a': 1}"
   ]
  },
  {
   "cell_type": "code",
   "execution_count": null,
   "id": "141bc1f5-e33b-450f-8e19-5597f82ad70f",
   "metadata": {},
   "outputs": [],
   "source": [
    "#tuple // tuple: (1, 2, 3) // (4, 5)"
   ]
  },
  {
   "cell_type": "markdown",
   "id": "b7df70a0-9106-4b72-8be3-d393f116b45d",
   "metadata": {},
   "source": [
    "### Exponentiation"
   ]
  },
  {
   "cell_type": "code",
   "execution_count": null,
   "id": "5ebe76d5-3d60-40b4-aa84-6da229995ca8",
   "metadata": {},
   "outputs": [],
   "source": [
    "#tuple ** int: (1, 2, 3) ** 2"
   ]
  },
  {
   "cell_type": "code",
   "execution_count": null,
   "id": "6856ba4a-cc3f-49de-98c6-ab7ee73cea27",
   "metadata": {},
   "outputs": [],
   "source": [
    "#tuple ** float: (1, 2, 3) ** 2.5"
   ]
  },
  {
   "cell_type": "code",
   "execution_count": null,
   "id": "b4864f56-a661-40d9-9a44-aa47a270b291",
   "metadata": {},
   "outputs": [],
   "source": [
    "#tuple ** boolean: (1, 2, 3) ** True"
   ]
  },
  {
   "cell_type": "code",
   "execution_count": null,
   "id": "411a8fc3-897f-4c74-b116-5defb39fbdab",
   "metadata": {},
   "outputs": [],
   "source": [
    "#tuple ** string: (1, 2, 3) ** 'Hello'"
   ]
  },
  {
   "cell_type": "code",
   "execution_count": null,
   "id": "4a5c2d73-1395-45d9-8306-f148e818dc8a",
   "metadata": {},
   "outputs": [],
   "source": [
    "#tuple ** NoneType: (1, 2, 3) ** None"
   ]
  },
  {
   "cell_type": "code",
   "execution_count": null,
   "id": "351653cf-9d5d-4e8e-a347-39ca555404e9",
   "metadata": {},
   "outputs": [],
   "source": [
    "#tuple ** list: (1, 2, 3) ** [4, 5]"
   ]
  },
  {
   "cell_type": "code",
   "execution_count": null,
   "id": "5f5fca61-ab75-4ca7-87ee-775705804db9",
   "metadata": {},
   "outputs": [],
   "source": [
    "#tuple ** set: (1, 2, 3) ** {4, 5}"
   ]
  },
  {
   "cell_type": "code",
   "execution_count": null,
   "id": "4c4d54a0-3a20-4c0b-afb9-b4d74ab2c80f",
   "metadata": {},
   "outputs": [],
   "source": [
    "#tuple ** tuple: (1, 2, 3) ** (4, 5)"
   ]
  },
  {
   "cell_type": "markdown",
   "id": "8191a71e-aaf6-4dd3-be60-34cf439fc378",
   "metadata": {},
   "source": [
    "# END"
   ]
  },
  {
   "cell_type": "code",
   "execution_count": null,
   "id": "5eb1aa2e-4079-4df5-9038-00cc543ffcae",
   "metadata": {},
   "outputs": [],
   "source": [
    "#"
   ]
  },
  {
   "cell_type": "code",
   "execution_count": null,
   "id": "00438241-43a7-4901-b6e1-3dddcf40ff07",
   "metadata": {},
   "outputs": [],
   "source": [
    "#"
   ]
  },
  {
   "cell_type": "code",
   "execution_count": null,
   "id": "f773faa7-c271-421d-8c6d-655be1b17544",
   "metadata": {},
   "outputs": [],
   "source": [
    "#"
   ]
  },
  {
   "cell_type": "code",
   "execution_count": null,
   "id": "4e8dce68-7258-4bd2-802a-11c4d864bfa5",
   "metadata": {},
   "outputs": [],
   "source": [
    "#"
   ]
  },
  {
   "cell_type": "code",
   "execution_count": null,
   "id": "8c5ae805-f65c-4093-8763-0b6db36b8b6e",
   "metadata": {},
   "outputs": [],
   "source": [
    "#"
   ]
  },
  {
   "cell_type": "code",
   "execution_count": null,
   "id": "559c82c4-61a7-4c86-898c-c51f3abd10a4",
   "metadata": {},
   "outputs": [],
   "source": [
    "#"
   ]
  },
  {
   "cell_type": "code",
   "execution_count": null,
   "id": "8e26d4fd-5e33-4636-91af-0d35accd916a",
   "metadata": {},
   "outputs": [],
   "source": [
    "#"
   ]
  },
  {
   "cell_type": "code",
   "execution_count": null,
   "id": "5fabfde2-9037-4eea-b01a-f3a16cbbcd85",
   "metadata": {},
   "outputs": [],
   "source": []
  },
  {
   "cell_type": "code",
   "execution_count": null,
   "id": "0a5effc2-2306-4fc3-b9ec-841fbbece2be",
   "metadata": {},
   "outputs": [],
   "source": []
  },
  {
   "cell_type": "code",
   "execution_count": null,
   "id": "d8fdfdd5-e0b9-42c8-86d1-32b1c5eb7a6d",
   "metadata": {},
   "outputs": [],
   "source": []
  },
  {
   "cell_type": "code",
   "execution_count": null,
   "id": "e9060fee-c586-4fc0-8727-7be5584fa1d6",
   "metadata": {},
   "outputs": [],
   "source": []
  },
  {
   "cell_type": "code",
   "execution_count": null,
   "id": "15ec59f0-caf6-4d69-8b9b-98c380c5f489",
   "metadata": {},
   "outputs": [],
   "source": []
  },
  {
   "cell_type": "code",
   "execution_count": null,
   "id": "dbe377a3-eb3c-4091-baf6-5af0470e2e73",
   "metadata": {},
   "outputs": [],
   "source": []
  },
  {
   "cell_type": "code",
   "execution_count": null,
   "id": "764e7950-77b7-4590-bbf7-faf12af8c36c",
   "metadata": {},
   "outputs": [],
   "source": []
  },
  {
   "cell_type": "code",
   "execution_count": null,
   "id": "b0a28a55-8dc3-4cb6-9341-5f6801bc8813",
   "metadata": {},
   "outputs": [],
   "source": []
  },
  {
   "cell_type": "code",
   "execution_count": null,
   "id": "29ba072e-d245-4a11-b2e2-6e2cd2abb377",
   "metadata": {},
   "outputs": [],
   "source": []
  },
  {
   "cell_type": "code",
   "execution_count": null,
   "id": "50a5c0fe-24de-475d-87ce-f8a42105d274",
   "metadata": {},
   "outputs": [],
   "source": []
  },
  {
   "cell_type": "code",
   "execution_count": null,
   "id": "8ceca8b3-82aa-4fee-b3d6-4da13ba36932",
   "metadata": {},
   "outputs": [],
   "source": []
  },
  {
   "cell_type": "code",
   "execution_count": null,
   "id": "1f3f2d83-13d5-4375-94ce-0aa4e610ec82",
   "metadata": {},
   "outputs": [],
   "source": []
  },
  {
   "cell_type": "code",
   "execution_count": null,
   "id": "13bb8212-93e2-441c-a9a2-17550544b30b",
   "metadata": {},
   "outputs": [],
   "source": []
  },
  {
   "cell_type": "code",
   "execution_count": null,
   "id": "ca7fe506-c275-4c32-9e38-258181f5c299",
   "metadata": {},
   "outputs": [],
   "source": []
  },
  {
   "cell_type": "code",
   "execution_count": null,
   "id": "394e2fc9-6f9e-445c-9f27-715cfeeca77a",
   "metadata": {},
   "outputs": [],
   "source": []
  },
  {
   "cell_type": "code",
   "execution_count": null,
   "id": "ff3529f9-db73-45ec-9c97-358e16a18bb4",
   "metadata": {},
   "outputs": [],
   "source": []
  },
  {
   "cell_type": "code",
   "execution_count": null,
   "id": "8be7a1d5-2131-4411-8987-4e3f942e8099",
   "metadata": {},
   "outputs": [],
   "source": []
  },
  {
   "cell_type": "code",
   "execution_count": null,
   "id": "64a1e5a9-c983-432c-a9ce-452304cdd883",
   "metadata": {},
   "outputs": [],
   "source": []
  },
  {
   "cell_type": "code",
   "execution_count": null,
   "id": "bf28c2fd-6b20-4d6e-a62c-9f0f6d5772a5",
   "metadata": {},
   "outputs": [],
   "source": []
  },
  {
   "cell_type": "code",
   "execution_count": null,
   "id": "9bb93dd2-2de9-4b2e-8679-c091d3c6d700",
   "metadata": {},
   "outputs": [],
   "source": []
  },
  {
   "cell_type": "code",
   "execution_count": null,
   "id": "b8910fef-4419-4d29-936f-037ef0c2762b",
   "metadata": {},
   "outputs": [],
   "source": []
  },
  {
   "cell_type": "code",
   "execution_count": null,
   "id": "57978e3c-ecc9-4374-93ef-c6b0775a1927",
   "metadata": {},
   "outputs": [],
   "source": []
  },
  {
   "cell_type": "code",
   "execution_count": null,
   "id": "ad9c2159-3590-4b05-aee3-61a77dcb5cf8",
   "metadata": {},
   "outputs": [],
   "source": []
  },
  {
   "cell_type": "code",
   "execution_count": null,
   "id": "c4eb85f1-1171-4da6-a5e7-c734538df68a",
   "metadata": {},
   "outputs": [],
   "source": []
  },
  {
   "cell_type": "code",
   "execution_count": null,
   "id": "3cb59013-f3df-4c16-bcc1-e26f8098aa50",
   "metadata": {},
   "outputs": [],
   "source": []
  },
  {
   "cell_type": "code",
   "execution_count": null,
   "id": "65b1fd37-7d2e-4e1f-b8bd-6541524da48c",
   "metadata": {},
   "outputs": [],
   "source": []
  },
  {
   "cell_type": "code",
   "execution_count": null,
   "id": "86a65ea5-1b52-4f5d-8e0d-2b9f4213ee45",
   "metadata": {},
   "outputs": [],
   "source": []
  },
  {
   "cell_type": "code",
   "execution_count": null,
   "id": "988a0c82-6a1a-453d-b08e-d98cdfc9f206",
   "metadata": {},
   "outputs": [],
   "source": []
  },
  {
   "cell_type": "code",
   "execution_count": null,
   "id": "4e5d67d1-aa43-414c-8fcd-2d0cc32c937d",
   "metadata": {},
   "outputs": [],
   "source": []
  },
  {
   "cell_type": "code",
   "execution_count": null,
   "id": "dfaa6066-559f-434a-b29b-2ad05727208a",
   "metadata": {},
   "outputs": [],
   "source": []
  },
  {
   "cell_type": "code",
   "execution_count": null,
   "id": "d5ae6d7c-ef6b-4f6e-b4e1-976259cbb27c",
   "metadata": {},
   "outputs": [],
   "source": []
  },
  {
   "cell_type": "code",
   "execution_count": null,
   "id": "01acd705-20dc-41c3-8040-b16b96d410f9",
   "metadata": {},
   "outputs": [],
   "source": []
  },
  {
   "cell_type": "code",
   "execution_count": null,
   "id": "77ea9694-b87d-4bb4-848f-cf8b795af3a9",
   "metadata": {},
   "outputs": [],
   "source": []
  },
  {
   "cell_type": "code",
   "execution_count": null,
   "id": "82aa6136-9b36-4b84-8b26-4a61bba788a3",
   "metadata": {},
   "outputs": [],
   "source": []
  },
  {
   "cell_type": "code",
   "execution_count": null,
   "id": "a1db2cb3-71e6-4a62-96f4-3a470e3d76eb",
   "metadata": {},
   "outputs": [],
   "source": []
  },
  {
   "cell_type": "code",
   "execution_count": null,
   "id": "6af35d43-1e51-4215-8c1d-62373bfa7907",
   "metadata": {},
   "outputs": [],
   "source": []
  },
  {
   "cell_type": "code",
   "execution_count": null,
   "id": "d6c8d866-cf01-412d-8099-7d6c049febc6",
   "metadata": {},
   "outputs": [],
   "source": []
  },
  {
   "cell_type": "code",
   "execution_count": null,
   "id": "19414d02-5109-4b0f-9556-40cacda0198f",
   "metadata": {},
   "outputs": [],
   "source": []
  },
  {
   "cell_type": "code",
   "execution_count": null,
   "id": "2c96f890-6a29-41d2-83c3-b88b6ef1aad1",
   "metadata": {},
   "outputs": [],
   "source": []
  },
  {
   "cell_type": "code",
   "execution_count": null,
   "id": "2da17ff8-48ca-4b98-b9ba-074d1acfd42c",
   "metadata": {},
   "outputs": [],
   "source": []
  },
  {
   "cell_type": "code",
   "execution_count": null,
   "id": "632c4d24-8c20-4e11-a740-35f3f6754a5a",
   "metadata": {},
   "outputs": [],
   "source": []
  },
  {
   "cell_type": "code",
   "execution_count": null,
   "id": "3b663921-9099-464c-96f2-018238d3bc33",
   "metadata": {},
   "outputs": [],
   "source": []
  },
  {
   "cell_type": "code",
   "execution_count": null,
   "id": "5389295e-ebbf-4bf8-b999-ccfa9d78311b",
   "metadata": {},
   "outputs": [],
   "source": []
  },
  {
   "cell_type": "code",
   "execution_count": null,
   "id": "55644ac1-35f4-424e-ac43-3ccf2abdee49",
   "metadata": {},
   "outputs": [],
   "source": []
  },
  {
   "cell_type": "code",
   "execution_count": null,
   "id": "38eb1fc8-1d34-42b5-8381-cded82753444",
   "metadata": {},
   "outputs": [],
   "source": []
  },
  {
   "cell_type": "code",
   "execution_count": null,
   "id": "a31a49b8-f88e-4559-8428-72af23035fc7",
   "metadata": {},
   "outputs": [],
   "source": []
  },
  {
   "cell_type": "code",
   "execution_count": null,
   "id": "0c877cb4-4f04-4e08-9bc6-ebc0453ab4eb",
   "metadata": {},
   "outputs": [],
   "source": []
  },
  {
   "cell_type": "code",
   "execution_count": null,
   "id": "e7a0b2da-35ec-4761-abc5-fea149a23373",
   "metadata": {},
   "outputs": [],
   "source": []
  },
  {
   "cell_type": "code",
   "execution_count": null,
   "id": "43163a73-df5b-4f57-ab94-f9a4033bc35a",
   "metadata": {},
   "outputs": [],
   "source": []
  },
  {
   "cell_type": "code",
   "execution_count": null,
   "id": "c5242ac0-5b1e-4722-9d22-99b8e9c9cf39",
   "metadata": {},
   "outputs": [],
   "source": []
  },
  {
   "cell_type": "code",
   "execution_count": null,
   "id": "5e619d68-57df-4da1-abdb-f83471ddce88",
   "metadata": {},
   "outputs": [],
   "source": []
  },
  {
   "cell_type": "code",
   "execution_count": null,
   "id": "20748f37-9ec7-4b51-a7f3-97f4c75e1e84",
   "metadata": {},
   "outputs": [],
   "source": []
  },
  {
   "cell_type": "code",
   "execution_count": null,
   "id": "10b29fbb-ea08-421f-a676-e6de2098e1ce",
   "metadata": {},
   "outputs": [],
   "source": []
  },
  {
   "cell_type": "code",
   "execution_count": null,
   "id": "42fd5579-425a-4e8e-86dd-b825bd8c55fa",
   "metadata": {},
   "outputs": [],
   "source": []
  },
  {
   "cell_type": "code",
   "execution_count": null,
   "id": "1f12847d-db76-42fa-986b-b6e1bb18348e",
   "metadata": {},
   "outputs": [],
   "source": []
  },
  {
   "cell_type": "code",
   "execution_count": null,
   "id": "6dadf38d-5eb2-40c7-a46c-fbc09ce1a58d",
   "metadata": {},
   "outputs": [],
   "source": []
  },
  {
   "cell_type": "code",
   "execution_count": null,
   "id": "5f49ba24-2a5f-49dc-8b88-fbb72a140b41",
   "metadata": {},
   "outputs": [],
   "source": []
  },
  {
   "cell_type": "code",
   "execution_count": null,
   "id": "8477a3bf-3e5b-4f48-adc4-d62ef27346ef",
   "metadata": {},
   "outputs": [],
   "source": []
  },
  {
   "cell_type": "code",
   "execution_count": null,
   "id": "35ca6f56-6636-41cb-882f-b5d8745133a8",
   "metadata": {},
   "outputs": [],
   "source": []
  },
  {
   "cell_type": "code",
   "execution_count": null,
   "id": "e518faa1-2c4a-4e19-8cf2-6876c6a2604c",
   "metadata": {},
   "outputs": [],
   "source": []
  },
  {
   "cell_type": "code",
   "execution_count": null,
   "id": "459e4343-b4ba-4873-9a84-b0a17899f283",
   "metadata": {},
   "outputs": [],
   "source": []
  },
  {
   "cell_type": "code",
   "execution_count": null,
   "id": "456169ff-9a36-4400-9031-1e0274e3b4b8",
   "metadata": {},
   "outputs": [],
   "source": []
  },
  {
   "cell_type": "code",
   "execution_count": null,
   "id": "43a4d694-0db9-42d0-a93c-8a6abb60f6b3",
   "metadata": {},
   "outputs": [],
   "source": []
  },
  {
   "cell_type": "code",
   "execution_count": null,
   "id": "ae510e54-f0c4-4ccf-b15c-7ba6547cce92",
   "metadata": {},
   "outputs": [],
   "source": []
  }
 ],
 "metadata": {
  "kernelspec": {
   "display_name": "Python 3 (ipykernel)",
   "language": "python",
   "name": "python3"
  },
  "language_info": {
   "codemirror_mode": {
    "name": "ipython",
    "version": 3
   },
   "file_extension": ".py",
   "mimetype": "text/x-python",
   "name": "python",
   "nbconvert_exporter": "python",
   "pygments_lexer": "ipython3",
   "version": "3.12.4"
  }
 },
 "nbformat": 4,
 "nbformat_minor": 5
}
