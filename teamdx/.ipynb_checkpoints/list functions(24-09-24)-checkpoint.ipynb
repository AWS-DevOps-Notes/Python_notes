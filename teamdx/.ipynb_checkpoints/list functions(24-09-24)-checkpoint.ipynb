{
 "cells": [
  {
   "cell_type": "code",
   "execution_count": 55,
   "id": "74ee79b0-4149-44f4-902b-233f0b8f169e",
   "metadata": {},
   "outputs": [
    {
     "name": "stdout",
     "output_type": "stream",
     "text": [
      "[3000, 4000, 1000, 2000, 'python'] 2182888245040\n",
      "[3000, 5000, 1000, 2000, 'python']\n",
      "[3000, 5000, 1000, 2000, 'python']\n"
     ]
    }
   ],
   "source": [
    "a=1000\n",
    "b=2000\n",
    "s='python'\n",
    "l=[3000,4000,a,b,s]\n",
    "print(l,id(l[1]))\n",
    "k=l\n",
    "k[1]=5000\n",
    "print(l)\n",
    "print(k)"
   ]
  },
  {
   "cell_type": "code",
   "execution_count": 57,
   "id": "9c25834d-118a-41ed-9af8-e7b063edd614",
   "metadata": {},
   "outputs": [
    {
     "name": "stdout",
     "output_type": "stream",
     "text": [
      "[3000, 4000, 1000, 2000, 'python'] 2182888246832\n",
      "[3000, 5000, 1000, 2000, 'python']\n",
      "[3000, 5000, 1000, 2000, 'python']\n",
      "1000 2182831667376\n",
      "2182831667376\n",
      "2000 2182888244400\n",
      "2182888244400\n",
      "python 2182736428224\n",
      "2182736428224\n"
     ]
    }
   ],
   "source": [
    "a=1000\n",
    "b=2000\n",
    "s='python'\n",
    "l=[3000,4000,a,b,s]\n",
    "print(l,id(l[1]))\n",
    "k=l\n",
    "k[1]=5000\n",
    "print(l)\n",
    "print(k)\n",
    "print(a,id(a))\n",
    "print(id(l[2]))\n",
    "print(b,id(b))\n",
    "print(id(l[3]))\n",
    "print(s,id(s))\n",
    "print(id(l[4]))"
   ]
  },
  {
   "cell_type": "code",
   "execution_count": 59,
   "id": "57e55812-46c9-4481-903d-31ed7ae51be6",
   "metadata": {},
   "outputs": [
    {
     "name": "stdout",
     "output_type": "stream",
     "text": [
      "[3000, 4000, 1000, 2000, 'python'] 2182888244368\n",
      "[3000, 5000, 1000, 2000, 'python'] 2182888245872\n",
      "2182888245872\n"
     ]
    }
   ],
   "source": [
    "a=1000\n",
    "b=2000\n",
    "s='python'\n",
    "l=[3000,4000,a,b,s]\n",
    "print(l,id(l[1]))\n",
    "k=l\n",
    "k[1]=5000\n",
    "print(l,id(l[1]))\n",
    "print(id(k[1]))"
   ]
  },
  {
   "cell_type": "code",
   "execution_count": null,
   "id": "fe0178d6-07d5-4e9d-b3b3-d72dad6b7aa8",
   "metadata": {},
   "outputs": [],
   "source": []
  }
 ],
 "metadata": {
  "kernelspec": {
   "display_name": "Python 3 (ipykernel)",
   "language": "python",
   "name": "python3"
  },
  "language_info": {
   "codemirror_mode": {
    "name": "ipython",
    "version": 3
   },
   "file_extension": ".py",
   "mimetype": "text/x-python",
   "name": "python",
   "nbconvert_exporter": "python",
   "pygments_lexer": "ipython3",
   "version": "3.12.4"
  }
 },
 "nbformat": 4,
 "nbformat_minor": 5
}
