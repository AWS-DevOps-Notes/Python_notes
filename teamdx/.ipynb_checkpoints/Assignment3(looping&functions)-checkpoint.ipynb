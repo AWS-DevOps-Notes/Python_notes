{
 "cells": [
  {
   "cell_type": "markdown",
   "id": "3f0a0dac-7ca5-4ca4-bab7-3eaefdb2a181",
   "metadata": {},
   "source": [
    "# looping statements"
   ]
  },
  {
   "cell_type": "markdown",
   "id": "2ea697f4-ea5b-4c2d-9c4c-ffcf4084f617",
   "metadata": {},
   "source": [
    "#### 25. take a number from the user and check whether it is prime?"
   ]
  },
  {
   "cell_type": "code",
   "execution_count": 19,
   "id": "cba996fc-38b9-46c7-933f-02beb7ea1ba8",
   "metadata": {},
   "outputs": [
    {
     "name": "stdin",
     "output_type": "stream",
     "text": [
      "Enter a number:  2\n"
     ]
    },
    {
     "name": "stdout",
     "output_type": "stream",
     "text": [
      "2 is a prime number\n"
     ]
    }
   ],
   "source": [
    "num= int(input(\"Enter a number: \"))\n",
    "if num > 1:    # Negative numbers, 0 and 1 are not primes\n",
    "    for i in range(2, (num//2)+1):     # Iterate from 2 to n // 2\n",
    "        if (num % i) == 0:\n",
    "            print(num, \"is not a prime number\")\n",
    "            break\n",
    "    else:\n",
    "        print(num, \"is a prime number\")\n",
    "else:\n",
    "    print(num, \"is not a prime number\")     "
   ]
  },
  {
   "cell_type": "markdown",
   "id": "9af6225c-a883-401c-8e1e-41e0bcd18347",
   "metadata": {},
   "source": [
    "#### 26. take a string from the user and check contains only digits or not?"
   ]
  },
  {
   "cell_type": "code",
   "execution_count": null,
   "id": "c256bc42-8a4d-4898-9a3b-0ca698f2552e",
   "metadata": {},
   "outputs": [],
   "source": [
    "string = input(\"Enter a string: \")\n",
    "\n",
    "for char in string:\n",
    "    if not ('0' <= char <= '9'):\n",
    "        print(\"The string contains non-digit characters.\")\n",
    "        break\n",
    "else:\n",
    "    print(\"The string contains only digits.\")"
   ]
  },
  {
   "cell_type": "markdown",
   "id": "e94b8da1-1237-4264-bb8d-0b68a4a33586",
   "metadata": {},
   "source": [
    "#### 27. take a string from the user and check contains only alphabets or not?"
   ]
  },
  {
   "cell_type": "code",
   "execution_count": null,
   "id": "cbb68051-73e6-4c5b-90ac-04043e564c7b",
   "metadata": {},
   "outputs": [],
   "source": [
    "string = input(\"Enter a string: \")\n",
    "\n",
    "for char in string:\n",
    "    if not ('a' <= char <= 'z' or 'A' <= char <= 'Z'):\n",
    "        print(\"The string contains non-alphabetic characters.\")\n",
    "        break\n",
    "else:\n",
    "    print(\"The string contains only alphabets.\")"
   ]
  },
  {
   "cell_type": "markdown",
   "id": "941a1c30-af77-42cc-a983-9d25f692d90e",
   "metadata": {},
   "source": [
    "#### 28. take a string from the user and check contains only special chars or not?"
   ]
  },
  {
   "cell_type": "code",
   "execution_count": null,
   "id": "f956f46c-87e9-470c-823e-6f0cd8c588f2",
   "metadata": {},
   "outputs": [],
   "source": [
    "string = input(\"Enter a string: \")\n",
    "\n",
    "for char in string:\n",
    "    if ('a' <= char <= 'z') or ('A' <= char <= 'Z') or ('0' <= char <= '9'):\n",
    "        print(\"The string contains non-special characters.\")\n",
    "        break\n",
    "else:\n",
    "    print(\"The string contains only special characters.\")"
   ]
  },
  {
   "cell_type": "markdown",
   "id": "a174afce-b30f-48ba-8222-dab4d94a7834",
   "metadata": {},
   "source": [
    "#### 29.take a string from the user and check contains only capital letters or not?"
   ]
  },
  {
   "cell_type": "code",
   "execution_count": null,
   "id": "7e470780-7214-40fd-981d-6e6200f0144d",
   "metadata": {},
   "outputs": [],
   "source": [
    "string = input(\"Enter a string: \")\n",
    "\n",
    "for char in string:\n",
    "    if not ('A' <= char <= 'Z'):\n",
    "        print(\"The string contains non-capital letters.\")\n",
    "        break\n",
    "else:\n",
    "    print(\"The string contains only capital letters.\")"
   ]
  },
  {
   "cell_type": "markdown",
   "id": "d0a8a9ce-90aa-4728-9d38-63c095062d00",
   "metadata": {},
   "source": [
    "#### 30.take a string from the user and check contains only small letters or not?"
   ]
  },
  {
   "cell_type": "code",
   "execution_count": null,
   "id": "6052b3f4-0383-4b94-b030-bee2cce92063",
   "metadata": {},
   "outputs": [],
   "source": [
    "string = input(\"Enter a string: \")\n",
    "\n",
    "for char in string:\n",
    "    if not ('A' <= char <= 'Z'):\n",
    "        print(\"The string contains non-capital letters.\")\n",
    "        break\n",
    "else:\n",
    "    print(\"The string contains only capital letters.\")"
   ]
  },
  {
   "cell_type": "markdown",
   "id": "1ae39009-38c8-4556-8e58-b688b2a46bd1",
   "metadata": {},
   "source": [
    "#### 31. WAP to replace last n occurrence of give string.\n",
    "```\n",
    "For example:”apple,orange,apple,grape,orange,apple,apple,orange”\n",
    "source: “apple”\n",
    "last occurrences: 2\n",
    "replace with: APPLE\n",
    "output:”apple,orange,apple,grape,orange,APPLE,APPLE,orange”\n",
    "```"
   ]
  },
  {
   "cell_type": "code",
   "execution_count": 22,
   "id": "16f7ecea-d79f-4f76-aebb-b8805989356f",
   "metadata": {},
   "outputs": [
    {
     "name": "stdin",
     "output_type": "stream",
     "text": [
      " dhanu\n",
      " indu\n"
     ]
    },
    {
     "name": "stdout",
     "output_type": "stream",
     "text": [
      "inp_1 indu\n",
      "inp_2 dhanu\n"
     ]
    }
   ],
   "source": [
    "inp_1 = input()\n",
    "inp_2 = input()\n",
    "inp_2,inp_1= inp_1,inp_2\n",
    "\n",
    "print(\"inp_1\",inp_1)\n",
    "print(\"inp_2\",inp_2)\n"
   ]
  },
  {
   "cell_type": "markdown",
   "id": "727c32ce-bfb4-4101-8e43-4bf1be4434ef",
   "metadata": {},
   "source": [
    "#### 32. WAP to check given string contains numbers or not. it should consider float numbers also."
   ]
  },
  {
   "cell_type": "code",
   "execution_count": null,
   "id": "1c911aaf-8ef9-4c9c-83b1-e3f0f6292411",
   "metadata": {},
   "outputs": [],
   "source": [
    "ip_str = input(\"enter some str :\")\n",
    "ip_int = input(\"eneter how many u need to change from last : \")"
   ]
  },
  {
   "cell_type": "markdown",
   "id": "bb9c1d4f-a5da-4294-86b5-9583b3d4e827",
   "metadata": {},
   "source": [
    "#### 33. Convert the total string in to lower case. Without using lower() function."
   ]
  },
  {
   "cell_type": "code",
   "execution_count": null,
   "id": "8d63e045-179b-42dc-a1fd-0ed934d700b1",
   "metadata": {},
   "outputs": [],
   "source": [
    "input_string = \"The price is 9.99 dollars\"\n",
    "\n",
    "# Split the string into words\n",
    "words = input_string.split()\n",
    "print(words)\n",
    "for i in wods :\n",
    "    if "
   ]
  },
  {
   "cell_type": "markdown",
   "id": "1328834e-61ab-4c32-9588-7e3703a03afc",
   "metadata": {},
   "source": [
    "#### 34. Convert the total string in to upper case. Without using upper() function."
   ]
  },
  {
   "cell_type": "code",
   "execution_count": null,
   "id": "a54713bb-eb6c-400b-8648-9710c74dda15",
   "metadata": {},
   "outputs": [],
   "source": [
    "inp = input(\"Please entter any string in uppercase :\")\n",
    "res = ''\n",
    "for i in inp:\n",
    "    if 'A' <= i <= 'Z':\n",
    "        #print(chr(ord(i)))\n",
    "        res += chr(ord(i) + 32)\n",
    "        #print(res)\n",
    "    else:\n",
    "        res += char\n",
    "print(res)"
   ]
  },
  {
   "cell_type": "markdown",
   "id": "01454e12-ce17-4401-8823-255a9c3bc0a6",
   "metadata": {},
   "source": [
    "#### 35. Show the below menu to the user until and until user select quit and display corresponding os message\n",
    "```\n",
    "Menu:\n",
    "1. windows\n",
    "2. Linux\n",
    "3. Mac\n",
    "4. quit\n",
    "```"
   ]
  },
  {
   "cell_type": "code",
   "execution_count": null,
   "id": "500fe2d6-8d56-49f5-ace0-128064dfaa0a",
   "metadata": {},
   "outputs": [],
   "source": [
    "# Define a fixed number of iterations\n",
    "for _ in range(4):\n",
    "    print('''\n",
    "    Menu:\n",
    "    1. Windows\n",
    "    2. Linux\n",
    "    3. Mac\n",
    "    4. Quit\n",
    "    ''')\n",
    "\n",
    "    choice = input(\"Please select an option (1-4): \").strip()\n",
    "    \n",
    "    if choice == '1':\n",
    "        print(\"You selected Windows.\")\n",
    "    elif choice == '2':\n",
    "        print(\"You selected Linux.\")\n",
    "    elif choice == '3':\n",
    "        print(\"You selected Mac.\")\n",
    "    elif choice == '4':\n",
    "        print(\"Exiting the program.\")\n",
    "        print(\"thank you\")\n",
    "        break\n",
    "    else:\n",
    "        print(\"Invalid option. Please select a number between 1 and 4.\")\n"
   ]
  },
  {
   "cell_type": "markdown",
   "id": "ae7bb9be-fac9-4d67-a61b-40bef5d0729b",
   "metadata": {},
   "source": [
    "#### 36. take a string from the user and check contains at least one digit or not?"
   ]
  },
  {
   "cell_type": "code",
   "execution_count": null,
   "id": "4d44e278-96bc-44e5-ba90-0895aaf05be5",
   "metadata": {},
   "outputs": [],
   "source": [
    "# Take input from the user\n",
    "input_string = input(\"Enter a string: \")\n",
    "\n",
    "# Initialize flags for checks\n",
    "contains_digit = False\n",
    "contains_alpha = False\n",
    "contains_char = False\n",
    "contains_capital = False\n",
    "contains_small = False\n",
    "\n",
    "# Perform checks\n",
    "for char in input_string:\n",
    "    # Check if the character is a digit (ASCII range for '0'-'9' is 48-57)\n",
    "    if '0' <= char <= '9':\n",
    "        contains_digit = True\n",
    "    # Check if the character is an alphabet\n",
    "    elif 'A' <= char <= 'Z' or 'a' <= char <= 'z':\n",
    "        contains_alpha = True\n",
    "        # Check if it is a capital letter\n",
    "        if 'A' <= char <= 'Z':\n",
    "            contains_capital = True\n",
    "        # Check if it is a small letter\n",
    "        if 'a' <= char <= 'z':\n",
    "            contains_small = True\n",
    "    # Check if the character is not a space\n",
    "    elif not char.isspace():\n",
    "        contains_char = True\n",
    "\n",
    "# Display results\n",
    "if contains_digit:\n",
    "    print(\"The string contains at least one digit.\")\n",
    "elif contains_alpha:\n",
    "    print(\"The string contains at least one alphabet.\")\n",
    "elif contains_char:\n",
    "    print(\"The string contains at least one character.\")\n",
    "elif contains_capital:\n",
    "    print(\"The string contains at least one capital letter.\")\n",
    "elif contains_small:\n",
    "    print(\"The string contains at least one small letter.\")\n",
    "else:\n",
    "    print(\"The string does not meet any of the criteria.\")"
   ]
  },
  {
   "cell_type": "code",
   "execution_count": null,
   "id": "d082bdda-e8a4-42ef-970a-1056e13c4c8d",
   "metadata": {},
   "outputs": [],
   "source": [
    "string = input(\"Enter a string: \")\n",
    "\n",
    "for char in string:\n",
    "    if '0' <= char <= '9':\n",
    "        print(\"The string contains at least one digit.\")\n",
    "        break\n",
    "else:\n",
    "    print(\"The string does not contain any digits.\")"
   ]
  },
  {
   "cell_type": "markdown",
   "id": "fad4c177-b19a-463e-807b-e4fa1d3a6e85",
   "metadata": {},
   "source": [
    "#### 37. take a string from the user and check contains at least one alphabets or not?"
   ]
  },
  {
   "cell_type": "code",
   "execution_count": null,
   "id": "c8f569d5-a8bb-4903-b518-085d80636c74",
   "metadata": {},
   "outputs": [],
   "source": [
    "string = input(\"Enter a string: \")\n",
    "\n",
    "for char in string:\n",
    "    if ('a' <= char <= 'z') or ('A' <= char <= 'Z'):\n",
    "        print(\"The string contains at least one alphabet.\")\n",
    "        break\n",
    "else:\n",
    "    print(\"The string does not contain any alphabets.\")"
   ]
  },
  {
   "cell_type": "markdown",
   "id": "cfd6e80c-b441-40bd-b3fd-53065d253460",
   "metadata": {},
   "source": [
    "#### 38. take a string from the user and check contains at least one chars or not?"
   ]
  },
  {
   "cell_type": "code",
   "execution_count": null,
   "id": "77ac0fa6-cd77-482a-8256-ce8495f1eb88",
   "metadata": {},
   "outputs": [],
   "source": [
    "string = input(\"Enter a string: \")\n",
    "\n",
    "for char in string:\n",
    "    if '0' <= char <= '9':\n",
    "        print(\"The string contains at least one digit.\")\n",
    "        break\n",
    "else:\n",
    "    print(\"The string does not contain any digits.\")"
   ]
  },
  {
   "cell_type": "markdown",
   "id": "8b8a1955-dabb-4b4a-b001-4777e8b002c9",
   "metadata": {},
   "source": [
    "#### 39. take a string from the user and check contains at least one capital letter or not?"
   ]
  },
  {
   "cell_type": "code",
   "execution_count": null,
   "id": "dab06dec-795a-4ba2-8159-56d756638459",
   "metadata": {},
   "outputs": [],
   "source": []
  },
  {
   "cell_type": "markdown",
   "id": "389b943b-726d-4859-9b83-f0d7b12e500c",
   "metadata": {},
   "source": [
    "#### 40. take a string from the user and check contains at least one small letter or not?"
   ]
  },
  {
   "cell_type": "code",
   "execution_count": null,
   "id": "5258e7f2-b902-4e76-a5f1-2a13485c9825",
   "metadata": {},
   "outputs": [],
   "source": []
  },
  {
   "cell_type": "markdown",
   "id": "f0b79632-f1da-4bee-911c-5f5c21f0f7b1",
   "metadata": {},
   "source": [
    "#### 41. Print the first 100 odd numbers"
   ]
  },
  {
   "cell_type": "code",
   "execution_count": null,
   "id": "57081ffb-8204-4610-82cb-0f26228ead50",
   "metadata": {},
   "outputs": [],
   "source": []
  },
  {
   "cell_type": "markdown",
   "id": "78c2b125-0951-4a43-b1c6-7a2f1bd52570",
   "metadata": {},
   "source": [
    "#### 42. Determine the factors of a number entered by the user"
   ]
  },
  {
   "cell_type": "code",
   "execution_count": null,
   "id": "4723b11c-9280-47e6-982e-34405c4b1b24",
   "metadata": {},
   "outputs": [],
   "source": []
  },
  {
   "cell_type": "markdown",
   "id": "8b597f4c-1a4a-4a7a-9118-272df41dfeb7",
   "metadata": {},
   "source": [
    "#### 43. Play a number guessing game (User enters a guess, you print YES or Higher or Lower). This should continue until and until user gives a correct number or want to quit in the middle.\n",
    "Get a hidden number by using random.randint(1,100)"
   ]
  },
  {
   "cell_type": "code",
   "execution_count": null,
   "id": "3dc8471f-210f-4c41-913c-e52315488704",
   "metadata": {},
   "outputs": [],
   "source": []
  },
  {
   "cell_type": "markdown",
   "id": "e27338ea-d919-4b16-bfc4-ff173671f898",
   "metadata": {},
   "source": [
    "#### 44. Take two numbers from the user a,b check whether a is divisible by b or not?"
   ]
  },
  {
   "cell_type": "code",
   "execution_count": null,
   "id": "3494c83b-f355-454d-9209-83562f52e846",
   "metadata": {},
   "outputs": [],
   "source": []
  },
  {
   "cell_type": "markdown",
   "id": "7f4a3df6-171b-4240-ae7f-687fd903603c",
   "metadata": {},
   "source": [
    "#### 45. Find the sum of all the multiples of 3 or 5 below 1000"
   ]
  },
  {
   "cell_type": "code",
   "execution_count": null,
   "id": "e82b77cd-f447-4ef3-bea5-39ff57c240fa",
   "metadata": {},
   "outputs": [],
   "source": []
  },
  {
   "cell_type": "markdown",
   "id": "63ffb904-2033-4a72-99e2-bceec9d4b4bc",
   "metadata": {},
   "source": [
    "#### 46. Write a program to find out big of two numbers"
   ]
  },
  {
   "cell_type": "code",
   "execution_count": null,
   "id": "12f23032-f662-4e45-8970-ede07c1db3bb",
   "metadata": {},
   "outputs": [],
   "source": []
  },
  {
   "cell_type": "markdown",
   "id": "48a781fc-fc86-4a8e-ba66-7895cc556688",
   "metadata": {},
   "source": [
    "#### 47. Write a program to find out biggest number in the given numbers."
   ]
  },
  {
   "cell_type": "code",
   "execution_count": null,
   "id": "559bd2fd-fd0a-415f-bd90-02c763aa2b4f",
   "metadata": {},
   "outputs": [],
   "source": []
  },
  {
   "cell_type": "markdown",
   "id": "d025ba8a-1e34-4ea6-ba9e-8c1ab56ed865",
   "metadata": {},
   "source": [
    "#### 48. find out the index of third occurrence of given substring"
   ]
  },
  {
   "cell_type": "code",
   "execution_count": null,
   "id": "16c33eff-ee05-421e-ab1a-f04a92431532",
   "metadata": {},
   "outputs": [],
   "source": []
  },
  {
   "cell_type": "markdown",
   "id": "1d86cd37-7348-418a-a457-ce7082641879",
   "metadata": {},
   "source": [
    "#### 49. find out the index nth occurrence of given substring\n"
   ]
  },
  {
   "cell_type": "code",
   "execution_count": null,
   "id": "a6bdfde0-b511-4e43-83c0-ff42b8fbfcec",
   "metadata": {},
   "outputs": [],
   "source": []
  },
  {
   "cell_type": "markdown",
   "id": "4fe92046-8dc1-475b-b978-ddb531689302",
   "metadata": {},
   "source": [
    "#### 50. Take some single digit numbers from the user and findout min, maximum, sum, average "
   ]
  },
  {
   "cell_type": "code",
   "execution_count": null,
   "id": "53295e41-62b7-40fe-982c-7ccc32cd8bba",
   "metadata": {},
   "outputs": [],
   "source": []
  }
 ],
 "metadata": {
  "kernelspec": {
   "display_name": "Python 3 (ipykernel)",
   "language": "python",
   "name": "python3"
  },
  "language_info": {
   "codemirror_mode": {
    "name": "ipython",
    "version": 3
   },
   "file_extension": ".py",
   "mimetype": "text/x-python",
   "name": "python",
   "nbconvert_exporter": "python",
   "pygments_lexer": "ipython3",
   "version": "3.12.4"
  }
 },
 "nbformat": 4,
 "nbformat_minor": 5
}
