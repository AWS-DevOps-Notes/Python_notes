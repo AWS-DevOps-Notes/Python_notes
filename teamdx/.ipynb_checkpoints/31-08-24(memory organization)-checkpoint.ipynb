{
 "cells": [
  {
   "cell_type": "code",
   "execution_count": 21,
   "id": "5a9f7388-f811-46b3-afa8-d0e95b6cde57",
   "metadata": {},
   "outputs": [
    {
     "name": "stdout",
     "output_type": "stream",
     "text": [
      "p 140723983365080\n",
      "o 140723983365032\n",
      "t 140723983365272\n",
      "1858250808640\n",
      "p 140723983365080\n",
      "o 140723983365032\n",
      "t 140723983365272\n",
      "1858250808640\n",
      "p 140723983365080\n",
      "a 140723983364360\n",
      "t 140723983365272\n",
      "1858250808640\n"
     ]
    }
   ],
   "source": [
    "s = \"pot\"\n",
    "d=s\n",
    "e=\"pat\"\n",
    "print(s[0],id(s[0]))\n",
    "print(s[1],id(s[1]))\n",
    "print(s[2],id(s[2]))\n",
    "print(id(s))\n",
    "print(d[0],id(d[0]))\n",
    "print(d[1],id(d[1]))\n",
    "print(d[2],id(d[2]))\n",
    "print(id(d))\n",
    "print(e[0],id(e[0]))\n",
    "print(e[1],id(e[1]))\n",
    "print(e[2],id(e[2]))\n",
    "print(id(d))\n",
    "\n"
   ]
  },
  {
   "cell_type": "code",
   "execution_count": null,
   "id": "d2f875ff-dd20-4f96-a86e-46c14184484e",
   "metadata": {},
   "outputs": [],
   "source": []
  },
  {
   "cell_type": "code",
   "execution_count": null,
   "id": "ba836471-2d39-4363-bf33-a24da7eb02ae",
   "metadata": {},
   "outputs": [],
   "source": []
  }
 ],
 "metadata": {
  "kernelspec": {
   "display_name": "Python 3 (ipykernel)",
   "language": "python",
   "name": "python3"
  },
  "language_info": {
   "codemirror_mode": {
    "name": "ipython",
    "version": 3
   },
   "file_extension": ".py",
   "mimetype": "text/x-python",
   "name": "python",
   "nbconvert_exporter": "python",
   "pygments_lexer": "ipython3",
   "version": "3.12.4"
  }
 },
 "nbformat": 4,
 "nbformat_minor": 5
}
