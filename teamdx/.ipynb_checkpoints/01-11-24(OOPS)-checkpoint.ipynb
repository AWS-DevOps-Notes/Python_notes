{
 "cells": [
  {
   "cell_type": "code",
   "execution_count": 1,
   "id": "535af987-998c-4f08-8a67-ef418fe00ca0",
   "metadata": {},
   "outputs": [
    {
     "name": "stdout",
     "output_type": "stream",
     "text": [
      "this is class\n"
     ]
    }
   ],
   "source": [
    "def fun():\n",
    "    print('this is fun')\n",
    "class c1:\n",
    "    print('this is class')"
   ]
  },
  {
   "cell_type": "code",
   "execution_count": 3,
   "id": "dfe07573-3921-4e1e-a0ad-16bbaf50e40e",
   "metadata": {},
   "outputs": [
    {
     "name": "stdout",
     "output_type": "stream",
     "text": [
      "this is class\n",
      "1000 2000\n"
     ]
    }
   ],
   "source": [
    "def fun():\n",
    "    print('this is fun')\n",
    "    a=1000\n",
    "    b=2000\n",
    "class c1:\n",
    "    print('this is class')\n",
    "    a=1000\n",
    "    b=2000\n",
    "    print(a,b)"
   ]
  },
  {
   "cell_type": "code",
   "execution_count": 7,
   "id": "4a4cc070-366f-4c70-9899-f8937a7e715b",
   "metadata": {},
   "outputs": [
    {
     "name": "stdout",
     "output_type": "stream",
     "text": [
      "this is class\n",
      "<class '__main__.c1'>\n"
     ]
    }
   ],
   "source": [
    "def fun():\n",
    "    print('this is fun')\n",
    "    a=1000\n",
    "    b=2000\n",
    "class c1:\n",
    "    print('this is class')\n",
    "    a=1000\n",
    "    b=2000\n",
    "print(c1)"
   ]
  },
  {
   "cell_type": "code",
   "execution_count": 13,
   "id": "7db14803-77c7-450c-8696-b7bbf71447a1",
   "metadata": {},
   "outputs": [
    {
     "name": "stdout",
     "output_type": "stream",
     "text": [
      "this is class\n",
      "1000 2000\n",
      "1000\n",
      "2000\n"
     ]
    }
   ],
   "source": [
    "def fun():\n",
    "    print('this is fun')\n",
    "    a=1000\n",
    "    b=2000\n",
    "class c1:\n",
    "    print('this is class')\n",
    "    a=1000\n",
    "    b=2000\n",
    "    print(a,b)\n",
    "print(c1.a)\n",
    "print(c1.b)"
   ]
  },
  {
   "cell_type": "code",
   "execution_count": 17,
   "id": "aea83787-2bf0-4750-bdd7-476e60614399",
   "metadata": {},
   "outputs": [
    {
     "name": "stdout",
     "output_type": "stream",
     "text": [
      "this is class\n"
     ]
    }
   ],
   "source": [
    "class c1:\n",
    "    print('this is class')\n",
    "    a=1000\n",
    "    b=2000\n",
    "    def fun():\n",
    "        print('this is function inside class.')"
   ]
  },
  {
   "cell_type": "code",
   "execution_count": 19,
   "id": "f84b59ec-cbf5-444a-ba75-17fbcb671ea8",
   "metadata": {},
   "outputs": [
    {
     "name": "stdout",
     "output_type": "stream",
     "text": [
      "this is class\n",
      "1000 2000\n",
      "this is function inside class.\n"
     ]
    }
   ],
   "source": [
    "class c1:\n",
    "    print('this is class')\n",
    "    a=1000\n",
    "    b=2000\n",
    "    def fun():\n",
    "        print('this is function inside class.')\n",
    "print(c1.a, c1.b)\n",
    "c1.fun()"
   ]
  },
  {
   "cell_type": "code",
   "execution_count": 21,
   "id": "2b494c7b-fdc9-45d8-afc3-8cc3e0aaee8d",
   "metadata": {},
   "outputs": [
    {
     "name": "stdout",
     "output_type": "stream",
     "text": [
      "<class 'int'>\n"
     ]
    }
   ],
   "source": [
    "a=1000\n",
    "print(type(a))"
   ]
  },
  {
   "cell_type": "code",
   "execution_count": 23,
   "id": "2ee896f3-09d0-4e8c-a7a5-fc631abe1829",
   "metadata": {},
   "outputs": [
    {
     "name": "stdout",
     "output_type": "stream",
     "text": [
      "AJA\n"
     ]
    }
   ],
   "source": [
    "class Emp: # emp is class object\n",
    "    company='AJA'\n",
    "jay = Emp() # emp() is data object\n",
    "jay.name = 'jairam'\n",
    "jay.id=1\n",
    "vedha = Emp()\n",
    "vedha.id=2\n",
    "vedha.name = 'vedha'  \n",
    "print(Emp.company)"
   ]
  },
  {
   "cell_type": "code",
   "execution_count": 29,
   "id": "30aee89e-84d6-4a9b-a9fc-6db86c945b41",
   "metadata": {},
   "outputs": [
    {
     "name": "stdout",
     "output_type": "stream",
     "text": [
      "AJA\n",
      "AJA\n",
      "1\n",
      "jairam\n",
      "2\n",
      "vedha\n"
     ]
    }
   ],
   "source": [
    "class Emp: # emp is class object\n",
    "    company='AJA'\n",
    "jay = Emp() # emp() is data object\n",
    "jay.name = 'jairam'\n",
    "jay.id=1\n",
    "vedha = Emp()\n",
    "vedha.id=2\n",
    "vedha.name = 'vedha'  \n",
    "print(jay.company)\n",
    "print(vedha.company)\n",
    "print(jay.id)\n",
    "print(jay.name)\n",
    "print(vedha.id)\n",
    "print(vedha.name)"
   ]
  },
  {
   "cell_type": "code",
   "execution_count": null,
   "id": "98b844b9-5ed2-4f20-b857-a3bfe1ac3456",
   "metadata": {},
   "outputs": [],
   "source": [
    "class Emp: # emp is class object\n",
    "    company='AJA'\n",
    "    def get_details(obj):\n",
    "        print(obj.name,obj.id)\n",
    "jay = Emp() # emp() is data object\n",
    "jay.name = 'jairam'\n",
    "jay.id=1\n",
    "vedha = Emp()\n",
    "vedha.id=2\n",
    "vedha.name = 'vedha'  \n",
    "Emp.get_details(vedha)\n",
    "Emp.get_details(jay)"
   ]
  },
  {
   "cell_type": "code",
   "execution_count": 1,
   "id": "7eb85d8f-1920-4684-8d48-b8539f2aab7b",
   "metadata": {},
   "outputs": [
    {
     "name": "stdout",
     "output_type": "stream",
     "text": [
      "vedha 2\n",
      "jairam 1\n"
     ]
    }
   ],
   "source": [
    "class Emp: \n",
    "    company='AJA'\n",
    "    def get_details(obj):\n",
    "        print(obj.name,obj.id)\n",
    "jay = Emp() \n",
    "jay.name = 'jairam'\n",
    "jay.id=1\n",
    "vedha = Emp()\n",
    "vedha.id=2\n",
    "vedha.name = 'vedha'  \n",
    "vedha.dob='2017-09-12'\n",
    "Emp.get_details(vedha)\n",
    "Emp.get_details(jay)"
   ]
  },
  {
   "cell_type": "code",
   "execution_count": 3,
   "id": "21517fe7-003f-4251-859a-85eafd7829ad",
   "metadata": {},
   "outputs": [
    {
     "name": "stdout",
     "output_type": "stream",
     "text": [
      "vedhanvesh 2\n",
      "jairam 1\n"
     ]
    }
   ],
   "source": [
    "class Emp: \n",
    "    company='AJA'\n",
    "    def setup(obj, name, e_id):\n",
    "        obj.name=name\n",
    "        obj.id=e_id\n",
    "    def get_details(obj):\n",
    "        print(obj.name,obj.id)\n",
    "jay = Emp() \n",
    "Emp.setup(jay,'jairam',1)\n",
    "#jay.name = 'jairam'\n",
    "#jay.id=1\n",
    "vedha = Emp()\n",
    "Emp.setup(vedha,'vedhanvesh',2)\n",
    "#vedha.id=2\n",
    "#vedha.name = 'vedha'  \n",
    "#vedha.dob='2017-09-12'\n",
    "Emp.get_details(vedha)\n",
    "Emp.get_details(jay)"
   ]
  },
  {
   "cell_type": "code",
   "execution_count": 5,
   "id": "4906d7c2-f673-4d45-8429-19176950a219",
   "metadata": {},
   "outputs": [
    {
     "name": "stdout",
     "output_type": "stream",
     "text": [
      "vedhanvesh 2\n",
      "jairam 1\n"
     ]
    }
   ],
   "source": [
    "class Emp: \n",
    "    company='AJA'\n",
    "    def setup(obj, name, e_id):\n",
    "        obj.name=name\n",
    "        obj.id=e_id\n",
    "    def get_details(obj):\n",
    "        print(obj.name,obj.id)\n",
    "jay = Emp() \n",
    "Emp.setup(jay,'jairam',1)\n",
    "vedha = Emp()\n",
    "Emp.setup(vedha,'vedhanvesh',2)\n",
    "Emp.get_details(vedha)\n",
    "Emp.get_details(jay)"
   ]
  },
  {
   "cell_type": "code",
   "execution_count": 7,
   "id": "91d4668f-c740-4d22-9bdd-f10d8715f466",
   "metadata": {},
   "outputs": [
    {
     "name": "stdout",
     "output_type": "stream",
     "text": [
      "jairam 1\n"
     ]
    },
    {
     "ename": "AttributeError",
     "evalue": "'Emp' object has no attribute 'name'",
     "output_type": "error",
     "traceback": [
      "\u001b[1;31m---------------------------------------------------------------------------\u001b[0m",
      "\u001b[1;31mAttributeError\u001b[0m                            Traceback (most recent call last)",
      "Cell \u001b[1;32mIn[7], line 13\u001b[0m\n\u001b[0;32m     11\u001b[0m vedha \u001b[38;5;241m=\u001b[39m Emp()\n\u001b[0;32m     12\u001b[0m \u001b[38;5;66;03m# Emp.setup(vedha,'vedhanvesh',2)\u001b[39;00m\n\u001b[1;32m---> 13\u001b[0m Emp\u001b[38;5;241m.\u001b[39mget_details(vedha)\n",
      "Cell \u001b[1;32mIn[7], line 7\u001b[0m, in \u001b[0;36mEmp.get_details\u001b[1;34m(obj)\u001b[0m\n\u001b[0;32m      6\u001b[0m \u001b[38;5;28;01mdef\u001b[39;00m \u001b[38;5;21mget_details\u001b[39m(obj):\n\u001b[1;32m----> 7\u001b[0m     \u001b[38;5;28mprint\u001b[39m(obj\u001b[38;5;241m.\u001b[39mname,obj\u001b[38;5;241m.\u001b[39mid)\n",
      "\u001b[1;31mAttributeError\u001b[0m: 'Emp' object has no attribute 'name'"
     ]
    }
   ],
   "source": [
    "class Emp: \n",
    "    company='AJA'\n",
    "    def setup(obj, name, e_id):\n",
    "        obj.name=name\n",
    "        obj.id=e_id\n",
    "    def get_details(obj):\n",
    "        print(obj.name,obj.id)\n",
    "jay = Emp() \n",
    "Emp.setup(jay,'jairam',1)\n",
    "Emp.get_details(jay)\n",
    "vedha = Emp()\n",
    "# Emp.setup(vedha,'vedhanvesh',2)\n",
    "Emp.get_details(vedha)\n"
   ]
  },
  {
   "cell_type": "code",
   "execution_count": 9,
   "id": "f8884330-f8a4-4af4-b57a-3e69021b77dd",
   "metadata": {},
   "outputs": [
    {
     "name": "stdout",
     "output_type": "stream",
     "text": [
      "this is class\n"
     ]
    }
   ],
   "source": [
    "class Emp: \n",
    "    print('this is class')\n",
    "    def fun1(obj):\n",
    "        print('this is fun1')\n",
    "    def __init__(obj):\n",
    "        print('this is fun1')"
   ]
  },
  {
   "cell_type": "code",
   "execution_count": 13,
   "id": "c6aeff6a-3d16-4ce2-82fa-b16d094419c9",
   "metadata": {},
   "outputs": [
    {
     "name": "stdout",
     "output_type": "stream",
     "text": [
      "this is class\n",
      "this is init\n"
     ]
    }
   ],
   "source": [
    "class Emp: \n",
    "    print('this is class')\n",
    "    def fun1(obj):\n",
    "        print('this is fun1')\n",
    "    def __init__(obj):\n",
    "        print('this is init')\n",
    "jay = Emp()"
   ]
  },
  {
   "cell_type": "code",
   "execution_count": 15,
   "id": "078a31b5-e57a-40e3-a045-3a6def50742b",
   "metadata": {},
   "outputs": [
    {
     "name": "stdout",
     "output_type": "stream",
     "text": [
      "this is class\n",
      "this is init\n",
      "this is init\n",
      "this is init\n"
     ]
    }
   ],
   "source": [
    "class Emp: \n",
    "    print('this is class')\n",
    "    def fun1(obj):\n",
    "        print('this is fun1')\n",
    "    def __init__(obj):\n",
    "        print('this is init')\n",
    "jay = Emp()\n",
    "vedha = Emp()\n",
    "obj3 = Emp()"
   ]
  },
  {
   "cell_type": "code",
   "execution_count": 17,
   "id": "7cf802ec-d82f-4e53-a6cc-b92cda31278b",
   "metadata": {},
   "outputs": [
    {
     "name": "stdout",
     "output_type": "stream",
     "text": [
      "this is class\n",
      "<__main__.Emp object at 0x000001AB22632630> jairam 1\n",
      "<__main__.Emp object at 0x000001AB20DE8740> vedhansh 2\n"
     ]
    }
   ],
   "source": [
    "class Emp: \n",
    "    print('this is class')\n",
    "    def fun1(obj):\n",
    "        print('this is fun1')\n",
    "    def __init__(obj, name, e_id):\n",
    "        print(obj, name, e_id)\n",
    "jay = Emp('jairam',1)\n",
    "vedha = Emp('vedhansh',2)"
   ]
  },
  {
   "cell_type": "code",
   "execution_count": 21,
   "id": "ef9d57de-abda-47c5-a479-80ab7787f318",
   "metadata": {},
   "outputs": [
    {
     "ename": "TypeError",
     "evalue": "fun() missing 1 required positional argument: 'c'",
     "output_type": "error",
     "traceback": [
      "\u001b[1;31m---------------------------------------------------------------------------\u001b[0m",
      "\u001b[1;31mTypeError\u001b[0m                                 Traceback (most recent call last)",
      "Cell \u001b[1;32mIn[21], line 3\u001b[0m\n\u001b[0;32m      1\u001b[0m \u001b[38;5;28;01mdef\u001b[39;00m \u001b[38;5;21mfun\u001b[39m(obj,b,c):\n\u001b[0;32m      2\u001b[0m     \u001b[38;5;28;01mpass\u001b[39;00m\n\u001b[1;32m----> 3\u001b[0m fun(\u001b[38;5;241m1\u001b[39m,\u001b[38;5;241m2\u001b[39m)\n",
      "\u001b[1;31mTypeError\u001b[0m: fun() missing 1 required positional argument: 'c'"
     ]
    }
   ],
   "source": [
    "def fun(a,b,c):\n",
    "    pass\n",
    "fun(1,2)"
   ]
  },
  {
   "cell_type": "code",
   "execution_count": 27,
   "id": "23db0942-4755-4fb6-af3e-48715bf50246",
   "metadata": {},
   "outputs": [
    {
     "name": "stdout",
     "output_type": "stream",
     "text": [
      "jairam\n",
      "vedhansh\n"
     ]
    }
   ],
   "source": [
    "class Emp: \n",
    "    def __init__(obj, name, e_id):\n",
    "        obj.name=name\n",
    "        obj.id=e_id\n",
    "jay = Emp('jairam',1) # Emp.__init__(dataobject,'jairam',1)\n",
    "vedha = Emp('vedhansh',2)\n",
    "print(jay.name)\n",
    "print(vedha.name)\n"
   ]
  },
  {
   "cell_type": "code",
   "execution_count": 29,
   "id": "8bb52f0a-274c-4c14-be74-85facce2a37c",
   "metadata": {},
   "outputs": [
    {
     "name": "stdout",
     "output_type": "stream",
     "text": [
      "jairam\n",
      "vedhansh\n"
     ]
    }
   ],
   "source": [
    "class Emp: \n",
    "    def __init__(obj, name, e_id):\n",
    "        obj.name=name\n",
    "        obj.id=e_id\n",
    "    def get_details(obj):\n",
    "        print(obj.name,obj.id)\n",
    "jay = Emp('jairam',1) # Emp.__init__(dataobject,'jairam',1)\n",
    "vedha = Emp('vedhansh',2)\n",
    "print(jay.name)\n",
    "print(vedha.name)"
   ]
  },
  {
   "cell_type": "code",
   "execution_count": 35,
   "id": "64213f9b-e3b2-4b09-abf9-2859b282a3f8",
   "metadata": {},
   "outputs": [
    {
     "name": "stdout",
     "output_type": "stream",
     "text": [
      "jairam 1\n",
      "vedhansh 2\n"
     ]
    }
   ],
   "source": [
    "class Emp: \n",
    "    def __init__(obj, name, e_id):\n",
    "        obj.name=name\n",
    "        obj.id=e_id\n",
    "    def get_details(obj):\n",
    "        print(obj.name,obj.id)\n",
    "jay = Emp('jairam',1) # Emp.__init__(dataobject,'jairam',1)\n",
    "vedha = Emp('vedhansh',2)\n",
    "jay.get_details() #Emp.get_details(jay)\n",
    "Emp.get_details(vedha)"
   ]
  },
  {
   "cell_type": "code",
   "execution_count": 41,
   "id": "c5f9f0e8-a966-47ab-af98-3e68ba1d0cd9",
   "metadata": {},
   "outputs": [
    {
     "name": "stdout",
     "output_type": "stream",
     "text": [
      "jairam 1\n",
      "vedhansh 2\n"
     ]
    }
   ],
   "source": [
    "class Emp: \n",
    "    def __init__(obj, name, e_id):\n",
    "        obj.name=name\n",
    "        obj.id=e_id\n",
    "    def get_details(obj):\n",
    "        print(obj.name,obj.id)\n",
    "jay = Emp('jairam',1) # dataobject = Emp.__new__(), Emp.__init__(dataobject,'jairam',1)\n",
    "vedha = Emp('vedhansh',2)\n",
    "jay.get_details() #Emp.get_details(jay)\n",
    "Emp.get_details(vedha)"
   ]
  },
  {
   "cell_type": "code",
   "execution_count": 45,
   "id": "340867c2-d56d-4617-8947-a00a4a2a085d",
   "metadata": {},
   "outputs": [],
   "source": [
    "class c1:\n",
    "    pass\n",
    "a=c1()"
   ]
  },
  {
   "cell_type": "code",
   "execution_count": 55,
   "id": "9fb4c470-b703-4997-b93e-ab66e275c294",
   "metadata": {},
   "outputs": [
    {
     "name": "stdout",
     "output_type": "stream",
     "text": [
      "190000.0\n"
     ]
    }
   ],
   "source": [
    "class Emp: \n",
    "    def __init__(obj, e_id,name, salary, leaves):\n",
    "        obj.id=e_id\n",
    "        obj.name=name\n",
    "        obj.salary=salary\n",
    "        obj.leaves=leaves\n",
    "    def sal_cal(obj):\n",
    "        pass\n",
    "jay = Emp(1,'jairam',300000,2)\n",
    "print(jay.salary-(jay.salary/30*2)-(jay.salary*0.3))\n",
    "#print(jay.sal_cal())\n",
    "#jay.get_details() \n",
    "#Emp.get_details(vedha)"
   ]
  },
  {
   "cell_type": "code",
   "execution_count": 57,
   "id": "04bde4ac-9ecf-41e7-8ee1-2a46c8b21be4",
   "metadata": {},
   "outputs": [
    {
     "data": {
      "text/plain": [
       "90000.0"
      ]
     },
     "execution_count": 57,
     "metadata": {},
     "output_type": "execute_result"
    }
   ],
   "source": [
    "jay.salary*0.3"
   ]
  },
  {
   "cell_type": "code",
   "execution_count": 65,
   "id": "b0a84a11-344c-4818-ae8b-db3cd88534a4",
   "metadata": {},
   "outputs": [
    {
     "name": "stdout",
     "output_type": "stream",
     "text": [
      "\n",
      "190000.0\n"
     ]
    }
   ],
   "source": [
    "class Emp: \n",
    "    def __init__(obj, e_id,name, salary, leaves):\n",
    "        obj.id=e_id\n",
    "        obj.name=name\n",
    "        obj.salary=salary\n",
    "        obj.leaves=leaves\n",
    "    def sal_cal(obj):\n",
    "        return obj.salary-(obj.salary/30*2)-(obj.salary*0.3)\n",
    "jay = Emp(1,'jairam',300000,2)\n",
    "print()\n",
    "print(jay.sal_cal()) #"
   ]
  },
  {
   "cell_type": "code",
   "execution_count": 71,
   "id": "e597e0e4-ea87-474e-9f69-e71652100244",
   "metadata": {},
   "outputs": [
    {
     "name": "stdout",
     "output_type": "stream",
     "text": [
      "\n",
      "190000.0\n"
     ]
    }
   ],
   "source": [
    "class Emp: \n",
    "    def __init__(self, e_id,name, salary, leaves):\n",
    "        self.id=e_id\n",
    "        self.name=name\n",
    "        self.salary=salary\n",
    "        self.leaves=leaves\n",
    "    def sal_cal(self):\n",
    "        return self.salary-(self.salary/30*2)-(self.salary*0.3)\n",
    "jay = Emp(1,'jairam',300000,2)\n",
    "print()\n",
    "print(jay.sal_cal()) #Emp.sal_cal(jay) "
   ]
  },
  {
   "cell_type": "code",
   "execution_count": 73,
   "id": "16deb539-c01a-427e-9443-463718e2d9dd",
   "metadata": {},
   "outputs": [
    {
     "ename": "TypeError",
     "evalue": "__init__() should return None, not 'str'",
     "output_type": "error",
     "traceback": [
      "\u001b[1;31m---------------------------------------------------------------------------\u001b[0m",
      "\u001b[1;31mTypeError\u001b[0m                                 Traceback (most recent call last)",
      "Cell \u001b[1;32mIn[73], line 10\u001b[0m\n\u001b[0;32m      8\u001b[0m     \u001b[38;5;28;01mdef\u001b[39;00m \u001b[38;5;21msal_cal\u001b[39m(\u001b[38;5;28mself\u001b[39m):\n\u001b[0;32m      9\u001b[0m         \u001b[38;5;28;01mreturn\u001b[39;00m \u001b[38;5;28mself\u001b[39m\u001b[38;5;241m.\u001b[39msalary\u001b[38;5;241m-\u001b[39m(\u001b[38;5;28mself\u001b[39m\u001b[38;5;241m.\u001b[39msalary\u001b[38;5;241m/\u001b[39m\u001b[38;5;241m30\u001b[39m\u001b[38;5;241m*\u001b[39m\u001b[38;5;241m2\u001b[39m)\u001b[38;5;241m-\u001b[39m(\u001b[38;5;28mself\u001b[39m\u001b[38;5;241m.\u001b[39msalary\u001b[38;5;241m*\u001b[39m\u001b[38;5;241m0.3\u001b[39m)\n\u001b[1;32m---> 10\u001b[0m jay \u001b[38;5;241m=\u001b[39m Emp(\u001b[38;5;241m1\u001b[39m,\u001b[38;5;124m'\u001b[39m\u001b[38;5;124mjairam\u001b[39m\u001b[38;5;124m'\u001b[39m,\u001b[38;5;241m300000\u001b[39m,\u001b[38;5;241m2\u001b[39m)\n\u001b[0;32m     11\u001b[0m \u001b[38;5;28mprint\u001b[39m()\n\u001b[0;32m     12\u001b[0m \u001b[38;5;28mprint\u001b[39m(jay\u001b[38;5;241m.\u001b[39msal_cal())\n",
      "\u001b[1;31mTypeError\u001b[0m: __init__() should return None, not 'str'"
     ]
    }
   ],
   "source": [
    "class Emp: \n",
    "    def __init__(self, e_id,name, salary, leaves):\n",
    "        self.id=e_id\n",
    "        self.name=name\n",
    "        self.salary=salary\n",
    "        self.leaves=leaves\n",
    "        return 'HELLO'\n",
    "    def sal_cal(self):\n",
    "        return self.salary-(self.salary/30*2)-(self.salary*0.3)\n",
    "jay = Emp(1,'jairam',300000,2)\n",
    "print()\n",
    "print(jay.sal_cal()) #Emp.sal_cal(jay) "
   ]
  },
  {
   "cell_type": "code",
   "execution_count": 75,
   "id": "7c85212e-7286-4424-a5f2-8ea1086d9c3a",
   "metadata": {},
   "outputs": [
    {
     "name": "stdout",
     "output_type": "stream",
     "text": [
      "\n",
      "190000.0\n"
     ]
    }
   ],
   "source": [
    "class Emp: \n",
    "    def __init__(self, e_id,name, salary, leaves):\n",
    "        self.id=e_id\n",
    "        self.name=name\n",
    "        self.salary=salary\n",
    "        self.leaves=leaves\n",
    "        return None\n",
    "    def sal_cal(self):\n",
    "        return self.salary-(self.salary/30*2)-(self.salary*0.3)\n",
    "jay = Emp(1,'jairam',300000,2)\n",
    "print()\n",
    "print(jay.sal_cal()) #Emp.sal_cal(jay) "
   ]
  },
  {
   "cell_type": "code",
   "execution_count": 77,
   "id": "ac50c5bb-3504-4af1-b5d6-849069a2ae0d",
   "metadata": {},
   "outputs": [
    {
     "name": "stdout",
     "output_type": "stream",
     "text": [
      "\n",
      "190000.0\n"
     ]
    }
   ],
   "source": [
    "class Emp: \n",
    "    def __init__(self, e_id,name, salary, leaves):\n",
    "        self.id=e_id\n",
    "        self.name=name\n",
    "        self.salary=salary\n",
    "        self.leaves=leaves\n",
    "        return None\n",
    "    def sal_cal(self):\n",
    "        return self.salary-(self.salary/30*2)-(self.salary*0.3)\n",
    "jay = Emp(1,'jairam',300000,2)\n",
    "print()\n",
    "res = jay.sal_cal() \n",
    "print(res)"
   ]
  },
  {
   "cell_type": "markdown",
   "id": "7fdc6406-9d9f-4646-b6dc-0271199bb1aa",
   "metadata": {},
   "source": [
    "# 02-11-24"
   ]
  },
  {
   "cell_type": "code",
   "execution_count": 15,
   "id": "f4f31d7e-4a04-44a3-badf-bf085a3dd38f",
   "metadata": {},
   "outputs": [
    {
     "ename": "SyntaxError",
     "evalue": "invalid syntax (3074214619.py, line 15)",
     "output_type": "error",
     "traceback": [
      "\u001b[1;36m  Cell \u001b[1;32mIn[15], line 15\u001b[1;36m\u001b[0m\n\u001b[1;33m    P1 =  product(id=1,name= 'apple',cost=100, colour='red',profit=10%,discount=20%)\u001b[0m\n\u001b[1;37m                                                                      ^\u001b[0m\n\u001b[1;31mSyntaxError\u001b[0m\u001b[1;31m:\u001b[0m invalid syntax\n"
     ]
    }
   ],
   "source": [
    "class product:\n",
    "    def __init__(self, id, name, cost, colour, profit, discount):\n",
    "        self.id = id\n",
    "        self.name = name\n",
    "        self.cost = cost\n",
    "        self.colour = colour\n",
    "        self.profit = profit\n",
    "        self.discount = discount\n",
    "    def sp_cal (self):\n",
    "        discount_amount = (self.cost * self.discount) / 100\n",
    "        selling_price = self.cost + self.profit - discount_amount\n",
    "        return selling_price\n",
    "    def get_details(self):\n",
    "        \n",
    "        print(self.name,self.id,self.cost,self.colour,self.profit,self.discount)\n",
    "P1 =  product(id=1,name= 'apple',cost=100, colour='red',profit=10%,discount=20%)\n",
    "print(P1.get_details())"
   ]
  },
  {
   "cell_type": "code",
   "execution_count": 17,
   "id": "f52abf38-1e57-4468-a554-a504df893f1c",
   "metadata": {},
   "outputs": [
    {
     "name": "stdout",
     "output_type": "stream",
     "text": [
      "{'id': 1, 'name': 'p1', 'cost': 100, 'colour': 'red', 'profit': 20, 'discount': 10}\n"
     ]
    }
   ],
   "source": [
    "class product:\n",
    "    def __init__(self, id, name, cost, colour, profit, discount):\n",
    "        self.id = id\n",
    "        self.name = name\n",
    "        self.cost = cost\n",
    "        self.colour = colour\n",
    "        self.profit = profit\n",
    "        self.discount = discount\n",
    "    def get_details(self):\n",
    "        print(self.dict)\n",
    "p1 = product(1,'p1',100,'red',20,10)\n",
    "print(p1.__dict__)\n",
    "#p1.get_details()"
   ]
  },
  {
   "cell_type": "code",
   "execution_count": 25,
   "id": "c8fba791-aa93-4376-808a-192dbe7d355b",
   "metadata": {},
   "outputs": [
    {
     "name": "stdout",
     "output_type": "stream",
     "text": [
      "{'id': 1, 'name': 'p1', 'cost': 100, 'colour': 'red', 'profit': 20, 'discount': 10, 'sales_price': 133.33333333333334}\n"
     ]
    }
   ],
   "source": [
    "class product:\n",
    "    def __init__(self, id, name, cost, colour, profit, discount):\n",
    "        self.id = id\n",
    "        self.name = name\n",
    "        self.cost = cost\n",
    "        self.colour = colour\n",
    "        self.profit = profit\n",
    "        self.discount = discount\n",
    "        self.sales_price = ((self.cost+self.profit)*self.discount)/(self.discount-1)\n",
    "    def get_details(self):\n",
    "        print(self.dict)\n",
    "p1 = product(1,'p1',100,'red',20,10)\n",
    "#p1.get_details()\n",
    "print(p1.__dict__)"
   ]
  },
  {
   "cell_type": "code",
   "execution_count": 29,
   "id": "e6a07ccc-cb70-4244-be70-83929f24dbbf",
   "metadata": {},
   "outputs": [
    {
     "name": "stdout",
     "output_type": "stream",
     "text": [
      "{'id': 1, 'name': 'p1', 'cost': 200, 'colour': 'red', 'profit': 20, 'discount': 10, 'sales_price': 133.33333333333334}\n",
      "133.33333333333334\n"
     ]
    }
   ],
   "source": [
    "class product:\n",
    "    def __init__(self, id, name, cost, colour, profit, discount):\n",
    "        self.id = id\n",
    "        self.name = name\n",
    "        self.cost = cost\n",
    "        self.colour = colour\n",
    "        self.profit = profit\n",
    "        self.discount = discount\n",
    "        self.sales_price = ((self.cost+self.profit)*self.discount)/(self.discount-1)\n",
    "    def get_details(self):\n",
    "        print(self.__dict__)\n",
    "p1 = product(1,'p1',100,'red',20,10)\n",
    "p1.cost =200\n",
    "p1.get_details()\n",
    "print(p1.sales_price)"
   ]
  },
  {
   "cell_type": "code",
   "execution_count": 31,
   "id": "8f8e6f14-3014-439f-a45a-794a3a1db004",
   "metadata": {},
   "outputs": [
    {
     "name": "stdout",
     "output_type": "stream",
     "text": [
      "{'id': 1, 'name': 'p1', 'cost': 200, 'colour': 'red', 'profit': 20, 'discount': 10}\n",
      "244.44444444444446\n",
      "244.44444444444446\n"
     ]
    }
   ],
   "source": [
    "class product:\n",
    "    def __init__(self, id, name, cost, colour, profit, discount):\n",
    "        self.id = id\n",
    "        self.name = name\n",
    "        self.cost = cost\n",
    "        self.colour = colour\n",
    "        self.profit = profit\n",
    "        self.discount = discount\n",
    "    @property\n",
    "    def sales_price(self):\n",
    "        return ((self.cost+self.profit)*self.discount)/(self.discount-1)\n",
    "    def get_details(self):\n",
    "        print(self.__dict__)\n",
    "        print(self.sales_price)\n",
    "\n",
    "p1 = product(1,'p1',100,'red',20,10)\n",
    "p1.cost =200\n",
    "p1.get_details()\n",
    "print(p1.sales_price)"
   ]
  },
  {
   "cell_type": "code",
   "execution_count": 35,
   "id": "2faa4dd7-3465-49b0-974b-29ed279292dc",
   "metadata": {},
   "outputs": [
    {
     "name": "stdout",
     "output_type": "stream",
     "text": [
      "{'id': 1, 'name': 'p1', 'cost': 200, 'colour': 'red', 'profit': 20, 'discount': 10}\n",
      "244.44444444444446\n",
      "355.55555555555554\n"
     ]
    }
   ],
   "source": [
    "class product:\n",
    "    def __init__(self, id, name, cost, colour, profit, discount):\n",
    "        self.id = id\n",
    "        self.name = name\n",
    "        self.cost = cost\n",
    "        self.colour = colour\n",
    "        self.profit = profit\n",
    "        self.discount = discount\n",
    "        \n",
    "    @property   # by default methods in python\n",
    "    def sales_price(self):\n",
    "        return ((self.cost+self.profit)*self.discount)/(self.discount-1)\n",
    "        \n",
    "    def get_details(self):\n",
    "        print(self.__dict__)\n",
    "        print(self.sales_price)\n",
    "\n",
    "p1 = product(1,'p1',100,'red',20,10)\n",
    "p1.cost =200\n",
    "p1.get_details()\n",
    "p1.cost =300\n",
    "print(p1.sales_price)"
   ]
  },
  {
   "cell_type": "code",
   "execution_count": 41,
   "id": "8076a638-5f47-44e5-a679-10ed102c708c",
   "metadata": {},
   "outputs": [
    {
     "name": "stdout",
     "output_type": "stream",
     "text": [
      "this is op1 in parent\n",
      "this is op1 in child\n"
     ]
    }
   ],
   "source": [
    "class parent:\n",
    "    def op1(self):\n",
    "        print('this is op1 in parent')\n",
    "class child:\n",
    "    def op2(self):\n",
    "        print('this is op1 in child')\n",
    "p=parent()\n",
    "p.op1()\n",
    "c=child()\n",
    "c.op2()"
   ]
  },
  {
   "cell_type": "code",
   "execution_count": 43,
   "id": "23d3510a-09bb-482f-9611-860d77707ca0",
   "metadata": {},
   "outputs": [
    {
     "name": "stdout",
     "output_type": "stream",
     "text": [
      "this is op1 in parent\n"
     ]
    },
    {
     "ename": "AttributeError",
     "evalue": "'parent' object has no attribute 'op2'",
     "output_type": "error",
     "traceback": [
      "\u001b[1;31m---------------------------------------------------------------------------\u001b[0m",
      "\u001b[1;31mAttributeError\u001b[0m                            Traceback (most recent call last)",
      "Cell \u001b[1;32mIn[43], line 9\u001b[0m\n\u001b[0;32m      7\u001b[0m p\u001b[38;5;241m=\u001b[39mparent()\n\u001b[0;32m      8\u001b[0m p\u001b[38;5;241m.\u001b[39mop1()\n\u001b[1;32m----> 9\u001b[0m p\u001b[38;5;241m.\u001b[39mop2()\n",
      "\u001b[1;31mAttributeError\u001b[0m: 'parent' object has no attribute 'op2'"
     ]
    }
   ],
   "source": [
    "class parent:\n",
    "    def op1(self):\n",
    "        print('this is op1 in parent')\n",
    "class child:\n",
    "    def op2(self):\n",
    "        print('this is op1 in child')\n",
    "p=parent()\n",
    "p.op1()\n",
    "p.op2()"
   ]
  },
  {
   "cell_type": "code",
   "execution_count": 45,
   "id": "6bf1244f-33e7-4b5f-9b88-4f865d6f12f2",
   "metadata": {},
   "outputs": [
    {
     "ename": "AttributeError",
     "evalue": "'child' object has no attribute 'op1'",
     "output_type": "error",
     "traceback": [
      "\u001b[1;31m---------------------------------------------------------------------------\u001b[0m",
      "\u001b[1;31mAttributeError\u001b[0m                            Traceback (most recent call last)",
      "Cell \u001b[1;32mIn[45], line 8\u001b[0m\n\u001b[0;32m      6\u001b[0m         \u001b[38;5;28mprint\u001b[39m(\u001b[38;5;124m'\u001b[39m\u001b[38;5;124mthis is op1 in child\u001b[39m\u001b[38;5;124m'\u001b[39m)\n\u001b[0;32m      7\u001b[0m c\u001b[38;5;241m=\u001b[39mchild()\n\u001b[1;32m----> 8\u001b[0m c\u001b[38;5;241m.\u001b[39mop1()\n\u001b[0;32m      9\u001b[0m c\u001b[38;5;241m.\u001b[39mop2()\n",
      "\u001b[1;31mAttributeError\u001b[0m: 'child' object has no attribute 'op1'"
     ]
    }
   ],
   "source": [
    "class parent:\n",
    "    def op1(self):\n",
    "        print('this is op1 in parent')\n",
    "class child:\n",
    "    def op2(self):\n",
    "        print('this is op1 in child')\n",
    "c=child()\n",
    "c.op1()\n",
    "c.op2()"
   ]
  },
  {
   "cell_type": "code",
   "execution_count": 49,
   "id": "4bef141e-ac9c-4fa4-8617-d3f6e3bfee95",
   "metadata": {},
   "outputs": [
    {
     "name": "stdout",
     "output_type": "stream",
     "text": [
      "this is op1 in child\n"
     ]
    }
   ],
   "source": [
    "class parent:\n",
    "    def op1(self):\n",
    "        print('this is op1 in parent')\n",
    "class child:\n",
    "    def op2(self):\n",
    "        print('this is op1 in child')\n",
    "    def operations(self):\n",
    "        self.op2()\n",
    "c=child()\n",
    "c.operations()"
   ]
  },
  {
   "cell_type": "code",
   "execution_count": null,
   "id": "676983d3-757e-4f2f-8311-060f320b790d",
   "metadata": {},
   "outputs": [],
   "source": []
  }
 ],
 "metadata": {
  "kernelspec": {
   "display_name": "Python 3 (ipykernel)",
   "language": "python",
   "name": "python3"
  },
  "language_info": {
   "codemirror_mode": {
    "name": "ipython",
    "version": 3
   },
   "file_extension": ".py",
   "mimetype": "text/x-python",
   "name": "python",
   "nbconvert_exporter": "python",
   "pygments_lexer": "ipython3",
   "version": "3.12.4"
  }
 },
 "nbformat": 4,
 "nbformat_minor": 5
}
