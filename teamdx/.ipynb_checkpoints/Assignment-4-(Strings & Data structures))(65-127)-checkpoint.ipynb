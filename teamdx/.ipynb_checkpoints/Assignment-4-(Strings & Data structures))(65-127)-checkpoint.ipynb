{
 "cells": [
  {
   "cell_type": "markdown",
   "id": "169441ae-b061-4a46-a14e-6affcf98ee4b",
   "metadata": {},
   "source": [
    "# STRING"
   ]
  },
  {
   "cell_type": "markdown",
   "id": "fe13b6a2-3289-4b54-be9e-62b10e76a897",
   "metadata": {},
   "source": [
    "#### 65. define a function to take person details name and age are mandatory parameters \n",
    "#### and height weight are optional parameters. If the user willing to pass any other details(like adhar, cell, pan, passport etc..) \n",
    "#### regarding him then your function should access those details."
   ]
  },
  {
   "cell_type": "code",
   "execution_count": 14,
   "id": "47e313a7-762d-420d-bbe6-6fe5c6f15a9d",
   "metadata": {},
   "outputs": [
    {
     "name": "stdin",
     "output_type": "stream",
     "text": [
      "Enter The Name of the Person :  induu\n",
      "Enter an Age  of the Person :  45\n",
      "Enter height  of the Person :  5'6\n",
      "Enter weight  of the Person :  45\n",
      "Enter aadhar no.of the Person :  123456789312143\n"
     ]
    },
    {
     "name": "stdout",
     "output_type": "stream",
     "text": [
      "Invalid aadhar number. It should be exactly 12 digits.\n"
     ]
    },
    {
     "name": "stdin",
     "output_type": "stream",
     "text": [
      "Enter aadhar no.of the Person :  123456789011\n",
      "Enter mobile number of the person:  12345677890\n"
     ]
    },
    {
     "name": "stdout",
     "output_type": "stream",
     "text": [
      "Invalid mobile number. It should be exactly 10 digits.\n"
     ]
    },
    {
     "name": "stdin",
     "output_type": "stream",
     "text": [
      "Enter mobile number of the person:  1234567890\n"
     ]
    },
    {
     "name": "stdout",
     "output_type": "stream",
     "text": [
      "Name of the Person induu\n",
      "Age of the Person 45\n",
      "Weight of the Person :  45\n"
     ]
    }
   ],
   "source": [
    "\n",
    "def person_details(name, age, height = None, weight = None, **kwargs):\n",
    "    print(f\"Name of the Person {name}\")\n",
    "    print(f\"Age of the Person {age}\")\n",
    "    if height:\n",
    "        print(f\"Height of the Person :  {height}\")\n",
    "    if weight:\n",
    "        print(f\"Weight of the Person :  {weight}\")\n",
    "    if kwargs:\n",
    "        for key, value in kwargs:\n",
    "            print(f\"{key} : {value}\")\n",
    "\n",
    "name = input(\"Enter The Name of the Person : \")\n",
    "age = input(\"Enter an Age  of the Person : \")\n",
    "height =  input(\"Enter height  of the Person : \")\n",
    "weight =  input(\"Enter weight  of the Person : \")\n",
    "while True:\n",
    "    aadhar =  input(\"Enter aadhar no.of the Person : \")\n",
    "    if len(aadhar) == 12 and aadhar.isdigit():\n",
    "        break\n",
    "    else:\n",
    "        print(\"Invalid aadhar number. It should be exactly 12 digits.\")\n",
    "while True:\n",
    "    mobile_no = input(\"Enter mobile number of the person: \")\n",
    "    if len(mobile_no) == 10 and mobile_no.isdigit():\n",
    "        break\n",
    "    else:\n",
    "        print(\"Invalid mobile number. It should be exactly 10 digits.\")\n",
    "person_details(name, age, weight= weight)"
   ]
  },
  {
   "cell_type": "markdown",
   "id": "4366543a-9cb2-4ea2-80bb-e94f6c5693d2",
   "metadata": {},
   "source": [
    "#### 65a. rewrite above assignments by functions. Can use string functions to solve the string related assignments"
   ]
  },
  {
   "cell_type": "markdown",
   "id": "e472f626-d97e-412c-8a65-4d80238c1c91",
   "metadata": {},
   "source": [
    "#### 65 b. write a function to check given value is even or not"
   ]
  },
  {
   "cell_type": "code",
   "execution_count": 2,
   "id": "f184654f-d6c9-4866-a170-346b7ac81781",
   "metadata": {},
   "outputs": [
    {
     "name": "stdin",
     "output_type": "stream",
     "text": [
      "Enter number:  3\n"
     ]
    },
    {
     "name": "stdout",
     "output_type": "stream",
     "text": [
      "3 is an odd number\n"
     ]
    }
   ],
   "source": [
    "def fun():\n",
    "    num = int(input(\"Enter number: \"))\n",
    "    if num % 2 == 0:\n",
    "        print(f\"{num} is an even number\")\n",
    "    else:\n",
    "        print(f\"{num} is an odd number\")   \n",
    "fun()"
   ]
  },
  {
   "cell_type": "markdown",
   "id": "91de361e-9e02-438c-b424-f93e238e516b",
   "metadata": {},
   "source": [
    "#### 65 c. write a function to check given value is prime or not\n"
   ]
  },
  {
   "cell_type": "code",
   "execution_count": 6,
   "id": "954e1e20-c95f-48a0-b7c0-56f56c8470f2",
   "metadata": {},
   "outputs": [
    {
     "name": "stdin",
     "output_type": "stream",
     "text": [
      "Enter a Number :  2\n"
     ]
    },
    {
     "name": "stdout",
     "output_type": "stream",
     "text": [
      "2 is a Prime Number\n"
     ]
    }
   ],
   "source": [
    "\n",
    "def prime_no(check_number):\n",
    "    count = 0\n",
    "    for i in range(2, check_number+1):\n",
    "        if check_number % i == 0 :\n",
    "            count += 1\n",
    "    return count\n",
    "\n",
    "check_number = input(\"Enter a Number : \")\n",
    "check_number = int(check_number)\n",
    "\n",
    "count = prime_no(check_number)        \n",
    "if count == 1:\n",
    "    print(check_number, \"is a Prime Number\")\n",
    "else:\n",
    "    print(check_number, \"is not a Prime Number\")"
   ]
  },
  {
   "cell_type": "markdown",
   "id": "93526fe2-1b62-43ca-bf35-34722ff46669",
   "metadata": {},
   "source": [
    "#### 65 d. write a function to check given 2 values are  divisible or not\n"
   ]
  },
  {
   "cell_type": "code",
   "execution_count": 8,
   "id": "60946cde-32c4-4eb2-b186-e66f08e43a2f",
   "metadata": {},
   "outputs": [
    {
     "name": "stdin",
     "output_type": "stream",
     "text": [
      "Enter value1:  3\n",
      "Enter value2:  4\n"
     ]
    },
    {
     "name": "stdout",
     "output_type": "stream",
     "text": [
      "3 is not divisible by 4\n"
     ]
    }
   ],
   "source": [
    "def fun():\n",
    "    value1 = int(input(\"Enter value1: \"))\n",
    "    value2 = int(input(\"Enter value2: \"))\n",
    "    if value1 % value2 == 0:\n",
    "        print(f\"{value1} is divisible by {value2}\")\n",
    "    else:\n",
    "        print(f\"{value1} is not divisible by {value2}\")\n",
    "fun()"
   ]
  },
  {
   "cell_type": "markdown",
   "id": "b680a972-505f-4768-9186-0dd0025422a9",
   "metadata": {},
   "source": [
    "## SRINGS"
   ]
  },
  {
   "cell_type": "markdown",
   "id": "95c16d71-6e3b-48a1-ba4d-b4dbaa8a05b4",
   "metadata": {},
   "source": [
    "#### 67. take a string from the user and check contains only digits or not?"
   ]
  },
  {
   "cell_type": "code",
   "execution_count": 22,
   "id": "ef4d533d-2b20-441c-9963-3e4c7db32d3a",
   "metadata": {},
   "outputs": [
    {
     "name": "stdin",
     "output_type": "stream",
     "text": [
      "Enter the input:  465789\n"
     ]
    },
    {
     "name": "stdout",
     "output_type": "stream",
     "text": [
      "The string contains only digits.\n"
     ]
    }
   ],
   "source": [
    "def fun():\n",
    "    string = input('Enter the input: ')\n",
    "    if string.isdigit():\n",
    "        print(\"The string contains only digits.\")\n",
    "    else:\n",
    "        print(\"The string does not contain only digits.\") \n",
    "fun()"
   ]
  },
  {
   "cell_type": "code",
   "execution_count": 73,
   "id": "2015c9b9-2157-4ad0-9cfa-99694d4f294f",
   "metadata": {},
   "outputs": [
    {
     "name": "stdin",
     "output_type": "stream",
     "text": [
      "Enter the input:  jdehfirw2134\n"
     ]
    },
    {
     "name": "stdout",
     "output_type": "stream",
     "text": [
      "The string does not contain only digits.\n"
     ]
    }
   ],
   "source": [
    "def fun():\n",
    "    string = input('Enter the input: ')\n",
    "    if string.isdigit():\n",
    "        print(\"The string contains only digits.\")\n",
    "    else:\n",
    "        print(\"The string does not contain only digits.\") \n",
    "fun()"
   ]
  },
  {
   "cell_type": "markdown",
   "id": "114324fe-73ce-4697-9763-fe9ffb6e9c6a",
   "metadata": {},
   "source": [
    "#### 68. take a string from the user and check contains only  alphabets or not?"
   ]
  },
  {
   "cell_type": "code",
   "execution_count": 31,
   "id": "06c61362-f81a-45e7-861b-4cc68bda1b96",
   "metadata": {},
   "outputs": [
    {
     "name": "stdin",
     "output_type": "stream",
     "text": [
      "Enter the String:  sadbfhbev\n"
     ]
    },
    {
     "name": "stdout",
     "output_type": "stream",
     "text": [
      "The string contains only alphabets.\n"
     ]
    }
   ],
   "source": [
    "def fun():\n",
    "    user_input = input('Enter the String: ')\n",
    "    if user_input.isalpha():\n",
    "        print(\"The string contains only alphabets.\")\n",
    "    else:\n",
    "        print(\"The string not contains only alphabets.\")\n",
    "fun()"
   ]
  },
  {
   "cell_type": "code",
   "execution_count": 71,
   "id": "f48ec8bf-d2e4-4097-b897-2bd59e9599ca",
   "metadata": {},
   "outputs": [
    {
     "name": "stdin",
     "output_type": "stream",
     "text": [
      "Enter the String:  dhecfe08234\n"
     ]
    },
    {
     "name": "stdout",
     "output_type": "stream",
     "text": [
      "The string not contains only alphabets.\n"
     ]
    }
   ],
   "source": [
    "def fun():\n",
    "    user_input = input('Enter the String: ')\n",
    "    if user_input.isalpha():\n",
    "        print(\"The string contains only alphabets.\")\n",
    "    else:\n",
    "        print(\"The string not contains only alphabets.\")\n",
    "fun()"
   ]
  },
  {
   "cell_type": "markdown",
   "id": "3d7ae76f-3b73-4b99-a6db-76138e129663",
   "metadata": {},
   "source": [
    "#### 69. take a string from the user and check contains only  special chars or not?\n"
   ]
  },
  {
   "cell_type": "code",
   "execution_count": 59,
   "id": "6cad74bc-79e0-4ab0-b15d-8ea1b29f1362",
   "metadata": {},
   "outputs": [
    {
     "name": "stdin",
     "output_type": "stream",
     "text": [
      "Enter a string:  !@#$%~*(&()({|}<>?\"\n"
     ]
    },
    {
     "name": "stdout",
     "output_type": "stream",
     "text": [
      "The string contains only special characters.\n"
     ]
    }
   ],
   "source": [
    "import string\n",
    "def special():\n",
    "    user_input = input(\"Enter a string: \")\n",
    "    if all(char in string.punctuation for char in user_input): \n",
    "        print(\"The string contains only special characters.\")\n",
    "    else:\n",
    "        print(\"The string does not contain only special characters.\") \n",
    "special()"
   ]
  },
  {
   "cell_type": "code",
   "execution_count": 247,
   "id": "30d91f48-87d9-44db-9fa3-cbec09bf3fc0",
   "metadata": {},
   "outputs": [
    {
     "name": "stdin",
     "output_type": "stream",
     "text": [
      "Enter a string:  dsfd!@#4\n"
     ]
    },
    {
     "name": "stdout",
     "output_type": "stream",
     "text": [
      "The string does not contain only special characters.\n"
     ]
    }
   ],
   "source": [
    "import string\n",
    "def special():\n",
    "    user_input = input(\"Enter a string: \")\n",
    "    if all(char in string.punctuation for char in user_input): \n",
    "        print(\"The string contains only special characters.\")\n",
    "    else:\n",
    "        print(\"The string does not contain only special characters.\") \n",
    "special()"
   ]
  },
  {
   "cell_type": "markdown",
   "id": "74a48481-e506-41e9-ad10-c59388c612a4",
   "metadata": {},
   "source": [
    "#### 70. take a string from the user and check contains only  capital letters or not?"
   ]
  },
  {
   "cell_type": "code",
   "execution_count": 65,
   "id": "200fd7dc-684c-45b1-8beb-157b72b4c5f9",
   "metadata": {},
   "outputs": [
    {
     "name": "stdin",
     "output_type": "stream",
     "text": [
      "Enter the string:  AJHFGITFGU\n"
     ]
    },
    {
     "name": "stdout",
     "output_type": "stream",
     "text": [
      "This string contains all capital letters\n"
     ]
    }
   ],
   "source": [
    "def capital():\n",
    "    user_input = input('Enter the string: ')\n",
    "    if user_input.isupper():\n",
    "        print(\"This string contains only capital letters\")\n",
    "    else:\n",
    "        print(\"This string not contains only capital letters\")\n",
    "\n",
    "capital()"
   ]
  },
  {
   "cell_type": "code",
   "execution_count": 67,
   "id": "5b7add2b-6665-4bb9-b701-2f7b8bab8e3c",
   "metadata": {},
   "outputs": [
    {
     "name": "stdin",
     "output_type": "stream",
     "text": [
      "Enter the string:  ASHDKJDHhiohui\n"
     ]
    },
    {
     "name": "stdout",
     "output_type": "stream",
     "text": [
      "This string not contains all capital letters\n"
     ]
    }
   ],
   "source": [
    "def capital():\n",
    "    user_input = input('Enter the string: ')\n",
    "    if user_input.isupper():\n",
    "        print(\"This string contains only capital letters\")\n",
    "    else:\n",
    "        print(\"This string not contains only capital letters\")\n",
    "\n",
    "capital()"
   ]
  },
  {
   "cell_type": "markdown",
   "id": "1c86b0e0-d44f-420c-8159-7ea45fb46ccd",
   "metadata": {},
   "source": [
    "#### 71. take a string from the user and check contains only  small letters or not?\n"
   ]
  },
  {
   "cell_type": "code",
   "execution_count": 77,
   "id": "da4f569f-0031-4dcd-989f-de49a2df0d08",
   "metadata": {},
   "outputs": [
    {
     "name": "stdin",
     "output_type": "stream",
     "text": [
      "Enter the string:  kdjhsfvyh\n"
     ]
    },
    {
     "name": "stdout",
     "output_type": "stream",
     "text": [
      "This string contains only small letters\n"
     ]
    }
   ],
   "source": [
    "def fun():\n",
    "    user_input = input(\"Enter the string: \")\n",
    "    if user_input.islower():\n",
    "         print(\"This string contains only small letters\")\n",
    "    else:\n",
    "        print(\"This string not contains only small letters\")\n",
    "fun()"
   ]
  },
  {
   "cell_type": "code",
   "execution_count": 79,
   "id": "6cf4bf1e-a416-4f40-9f72-853aff4321e5",
   "metadata": {},
   "outputs": [
    {
     "name": "stdin",
     "output_type": "stream",
     "text": [
      "Enter the string:  iuhkug!@##SDD\n"
     ]
    },
    {
     "name": "stdout",
     "output_type": "stream",
     "text": [
      "This string not contains only small letters\n"
     ]
    }
   ],
   "source": [
    "def fun():\n",
    "    user_input = input(\"Enter the string: \")\n",
    "    if user_input.islower():\n",
    "         print(\"This string contains only small letters\")\n",
    "    else:\n",
    "        print(\"This string not contains only small letters\")\n",
    "fun()"
   ]
  },
  {
   "cell_type": "markdown",
   "id": "284e68e7-52e3-4076-a045-5c97f2d7d8fc",
   "metadata": {},
   "source": [
    "#### 72. WAP to replace last n occurrence."
   ]
  },
  {
   "cell_type": "code",
   "execution_count": 177,
   "id": "1a496c2b-3740-41af-9d8a-fd5dbb838834",
   "metadata": {},
   "outputs": [
    {
     "name": "stdin",
     "output_type": "stream",
     "text": [
      "Enter the string:  apple,orange,apple,grape,orange,apple,apple,orange\n",
      "Enter the word:  apple\n",
      "Enter the replace with word:  WATERMELON\n",
      "Enter the occurance:  2\n"
     ]
    },
    {
     "name": "stdout",
     "output_type": "stream",
     "text": [
      "apple,orange,apple,grape,orange,WATERMELON,WATERMELON,orange\n"
     ]
    }
   ],
   "source": [
    "# def fun(x,n):\n",
    "#     b = \"APPLE\".join(x.rsplit('apple',n))\n",
    "#     return b\n",
    "# x = \"apple,orange,apple,grape,orange,apple,apple,orange\"\n",
    "# n = int(input('Enter the occurance: ' ))\n",
    "# print(fun(x,n))\n",
    "\n",
    "def fun():\n",
    "    actual_string = input(\"Enter the string: \")\n",
    "    word_string1 = input(\"Enter the word: \")\n",
    "    replace_string2 = input(\"Enter the replace with word: \")\n",
    "    n = int(input(\"Enter the occurance: \"))\n",
    "    dest_string = replace_string2.join(actual_string.rsplit(word_string1,occurence))\n",
    "    print(dest_string)\n",
    "fun()"
   ]
  },
  {
   "cell_type": "markdown",
   "id": "6b5f5787-6251-4018-aac3-5a2928fc6f7c",
   "metadata": {},
   "source": [
    "#### 73. WAP to check given string contains numbers or not. it should consider float numbers also.\n"
   ]
  },
  {
   "cell_type": "code",
   "execution_count": 113,
   "id": "2d9d7874-e824-453e-a82d-5434b0eaf0a1",
   "metadata": {},
   "outputs": [
    {
     "name": "stdin",
     "output_type": "stream",
     "text": [
      "Enter the string:  3243rfv\n"
     ]
    },
    {
     "name": "stdout",
     "output_type": "stream",
     "text": [
      "This string not contains only numbers\n"
     ]
    }
   ],
   "source": [
    "def fun():\n",
    "    user_input = input('Enter the string: ')\n",
    "    try:\n",
    "        float(user_input) \n",
    "        print(\"This string contains only numbers\")\n",
    "    except ValueError:\n",
    "        print(\"This string not contains only numbers\")\n",
    "fun()"
   ]
  },
  {
   "cell_type": "code",
   "execution_count": 119,
   "id": "d32b5ad2-cf4e-4bad-83ae-abc9cb65a524",
   "metadata": {},
   "outputs": [
    {
     "name": "stdin",
     "output_type": "stream",
     "text": [
      "Enter the string:  12.33\n"
     ]
    },
    {
     "name": "stdout",
     "output_type": "stream",
     "text": [
      "This string contains only numbers\n"
     ]
    }
   ],
   "source": [
    "def fun():\n",
    "    user_input = input('Enter the string: ')\n",
    "    try:\n",
    "        float(user_input) \n",
    "        print(\"This string contains only numbers\")\n",
    "    except ValueError:\n",
    "        print(\"This string not contains only numbers\")\n",
    "fun()"
   ]
  },
  {
   "cell_type": "markdown",
   "id": "8aa9fc12-6f79-4662-a3b8-07cb0274f284",
   "metadata": {},
   "source": [
    "#### 74. Convert the total string in to lower case. # Convert the total string in to upper case.\n"
   ]
  },
  {
   "cell_type": "code",
   "execution_count": 189,
   "id": "7095bb53-a0bc-4d48-b54c-223a6064c843",
   "metadata": {},
   "outputs": [
    {
     "name": "stdin",
     "output_type": "stream",
     "text": [
      "Enter the input:  DHANUSHA\n"
     ]
    },
    {
     "name": "stdout",
     "output_type": "stream",
     "text": [
      "dhanusha\n"
     ]
    }
   ],
   "source": [
    "def str_upper():\n",
    "    user_input = input(\"Enter the input: \")\n",
    "    if user_input.islower():\n",
    "        print(user_input.upper())\n",
    "    else:\n",
    "        print(user_input.lower())\n",
    "str_upper()"
   ]
  },
  {
   "cell_type": "code",
   "execution_count": 191,
   "id": "88b40a67-6f35-4538-8ccd-2d61a54097be",
   "metadata": {},
   "outputs": [
    {
     "name": "stdin",
     "output_type": "stream",
     "text": [
      "Enter the input:  dhanusha\n"
     ]
    },
    {
     "name": "stdout",
     "output_type": "stream",
     "text": [
      "DHANUSHA\n"
     ]
    }
   ],
   "source": [
    "def str_upper():\n",
    "    user_input = input(\"Enter the input: \")\n",
    "    if user_input.islower():\n",
    "        print(user_input.upper())\n",
    "    else:\n",
    "        print(user_input.lower())\n",
    "str_upper()"
   ]
  },
  {
   "cell_type": "markdown",
   "id": "9e3bad3b-a0d8-45e1-bb39-116693d693be",
   "metadata": {},
   "source": [
    "#### 75. Convert every word start letter into caps. Some how title not working if it contains numbers and special symbols in the word\n"
   ]
  },
  {
   "cell_type": "code",
   "execution_count": 215,
   "id": "761c62de-35fa-4c3c-b418-911988310468",
   "metadata": {},
   "outputs": [
    {
     "name": "stdin",
     "output_type": "stream",
     "text": [
      "enter the string:  this is our country\n"
     ]
    },
    {
     "name": "stdout",
     "output_type": "stream",
     "text": [
      "This Is Our Country\n"
     ]
    }
   ],
   "source": [
    "def fun():\n",
    "    userdata = input('enter the string: ')\n",
    "    if userdata.title():\n",
    "        print(userdata.title())\n",
    "    else: \n",
    "        print(\"Invaild string\")\n",
    "fun()"
   ]
  },
  {
   "cell_type": "code",
   "execution_count": 253,
   "id": "ebbbf580-a16e-422b-bf54-f45d227e1188",
   "metadata": {},
   "outputs": [
    {
     "name": "stdin",
     "output_type": "stream",
     "text": [
      "enter the string:  123 e32e\n"
     ]
    },
    {
     "name": "stdout",
     "output_type": "stream",
     "text": [
      "Invaild string\n"
     ]
    }
   ],
   "source": [
    "import string \n",
    "def fun():\n",
    "    userdata = input('enter the string: ')\n",
    "    if userdata == userdata.title() and not userdata.isdigit() and all(char in string.punctuation for char in user_input):\n",
    "        print(userdata.title())\n",
    "    else: \n",
    "        print(\"Invaild string\")\n",
    "fun()"
   ]
  },
  {
   "cell_type": "code",
   "execution_count": 251,
   "id": "1e588357-5390-4d39-b99f-5492136cf84b",
   "metadata": {},
   "outputs": [
    {
     "name": "stdin",
     "output_type": "stream",
     "text": [
      "enter the string:  !dw @dsc\n"
     ]
    },
    {
     "name": "stdout",
     "output_type": "stream",
     "text": [
      "Invaild string\n"
     ]
    }
   ],
   "source": [
    "import string \n",
    "def fun():\n",
    "    userdata = input('enter the string: ')\n",
    "    if userdata == userdata.title() and not userdata.isdigit() and all(char in string.punctuation for char in user_input):\n",
    "        print(userdata.title())\n",
    "    else: \n",
    "        print(\"Invaild string\")\n",
    "fun()"
   ]
  },
  {
   "cell_type": "markdown",
   "id": "a41ae2ad-975c-4fb7-a0d1-6e9b47f75f7a",
   "metadata": {},
   "source": [
    "####  76.replace last two occurrences of given source string with destination string\n",
    "####  preserve the delimiter after split."
   ]
  },
  {
   "cell_type": "code",
   "execution_count": 289,
   "id": "eba275f1-74ad-4599-9cf5-1b013f8b9569",
   "metadata": {},
   "outputs": [
    {
     "name": "stdin",
     "output_type": "stream",
     "text": [
      "Enter the string:  hi hi hi hi hello hello hello\n",
      "Enter the word:  hello\n",
      "Enter the replace word:  BYE\n",
      "Enter the occurrences:  2\n",
      "Enter the delimiter for output:  -\n"
     ]
    },
    {
     "name": "stdout",
     "output_type": "stream",
     "text": [
      "Output: hi-hi-hi-hi-hello-BYE-BYE\n"
     ]
    }
   ],
   "source": [
    "\n",
    "def fun():\n",
    "    user_input = input(\"Enter the string: \")\n",
    "    source = input(\"Enter the word: \")\n",
    "    dest = input(\"Enter the replace word: \")\n",
    "    n = int(input(\"Enter the occurrences: \"))\n",
    "    delimiter = input(\"Enter the delimiter for output: \")\n",
    "    \n",
    "    word = user_input.rsplit(source, n)     # Split the string from the right side based on the source word, up to n occurrences\n",
    "    replaced_string = dest.join(word)     # Replace the source word with the destination word\n",
    "    final_string = delimiter.join(replaced_string.split())     # Join the replaced string with the delimiter\n",
    "    print(f'Output: {final_string}')\n",
    "\n",
    "fun()\n"
   ]
  },
  {
   "cell_type": "markdown",
   "id": "0c69037e-8bcb-44b2-802a-071852eb0c7b",
   "metadata": {},
   "source": [
    "#### 77. write a program to check given substring is there in actual string or not? (search should be case insensitive)\n",
    "#### example: act=\"python is a pure object oriented programing language\""
   ]
  },
  {
   "cell_type": "code",
   "execution_count": 295,
   "id": "13fe5d58-a6f5-49c7-b378-2a819bf97a75",
   "metadata": {},
   "outputs": [
    {
     "name": "stdin",
     "output_type": "stream",
     "text": [
      "Enter the string:  python is a pure object oriented programing language\n",
      "Enter the substring:  pure \n"
     ]
    },
    {
     "name": "stdout",
     "output_type": "stream",
     "text": [
      "The substring 'pure ' is present in the string.\n"
     ]
    }
   ],
   "source": [
    "\n",
    "def fun():\n",
    "    actual_string = input(\"Enter the string: \")\n",
    "    substring = input(\"Enter the substring: \")\n",
    "    if substring.casefold() in actual_string.casefold():\n",
    "        print(f\"The substring '{substring}' is present in the string.\")\n",
    "    else:\n",
    "        print(f\"The substring '{substring}' is not present in the string.\")\n",
    "fun()\n"
   ]
  },
  {
   "cell_type": "markdown",
   "id": "cb0d06eb-ef36-4195-b6af-6f12f0e28b74",
   "metadata": {},
   "source": [
    "#### 78.check whether “pure” is there in act or not.\n",
    "#### Note: Use in operator"
   ]
  },
  {
   "cell_type": "code",
   "execution_count": 35,
   "id": "b3073eb7-435b-489b-a7a1-d7f4f8d72a12",
   "metadata": {},
   "outputs": [
    {
     "name": "stdout",
     "output_type": "stream",
     "text": [
      "The substring 'pure' is present in the string.\n"
     ]
    }
   ],
   "source": [
    "\n",
    "\n",
    "def contains_substring_case_insensitive(actual_string, substring):\n",
    "    if substring.casefold() in actual_string.casefold():\n",
    "        print(f\"The substring '{substring_to_check}' is present in the string.\")\n",
    "    else:\n",
    "        print(f\"The substring '{substring_to_check}' is not present in the string.\")\n",
    "\n",
    "act = \"python is a pure object oriented programing language\"\n",
    "substring_to_check = \"pure\"\n",
    "contains_substring_case_insensitive(act, substring_to_check)\n"
   ]
  },
  {
   "cell_type": "markdown",
   "id": "1b58a22a-8919-459d-a3fd-5b8956fde618",
   "metadata": {},
   "source": [
    "# DATA STRUCTURES"
   ]
  },
  {
   "cell_type": "markdown",
   "id": "3a6539f0-7f8c-442a-943b-a6ae5f5b310f",
   "metadata": {},
   "source": [
    "#### 79. l=[10,20,30,[40,50,60],70,[80,90,20]]. Convert this list as single dimensional list\n"
   ]
  },
  {
   "cell_type": "code",
   "execution_count": 37,
   "id": "9a6d6de3-33e0-479c-8e24-ae0581e88e2e",
   "metadata": {},
   "outputs": [
    {
     "name": "stdout",
     "output_type": "stream",
     "text": [
      "[10, 20, 30, 40, 50, 60, 70, 80, 90, 20]\n"
     ]
    }
   ],
   "source": [
    "\n",
    "\n",
    "def dimensional_list(lst):\n",
    "  flat_lst = []\n",
    "  for item in lst:\n",
    "    if type(item) == list :\n",
    "      flat_lst.extend(flatten_list(item))\n",
    "    else:\n",
    "      flat_lst.append(item)\n",
    "  return flat_lst\n",
    "\n",
    "l = [10, 20, 30, [40, 50, 60], 70, [80, 90, 20]]\n",
    "flat_l = dimensional_list(l)\n",
    "print(flat_l)"
   ]
  },
  {
   "cell_type": "markdown",
   "id": "47ae8185-1efe-41fb-b665-d737b42474f1",
   "metadata": {},
   "source": [
    "#### 80. input: \"Google\" print count of each character"
   ]
  },
  {
   "cell_type": "code",
   "execution_count": 38,
   "id": "779da55a-163c-4d3f-b049-d71ca93e0297",
   "metadata": {},
   "outputs": [
    {
     "name": "stdout",
     "output_type": "stream",
     "text": [
      "{'G': 1, 'o': 2, 'g': 1, 'l': 1, 'e': 1}\n"
     ]
    }
   ],
   "source": [
    "\n",
    "\n",
    "def char_count(input_string):\n",
    "  char_counts = {}\n",
    "  for char in input_string:\n",
    "    if char in char_counts:\n",
    "      char_counts[char] += 1\n",
    "    else:\n",
    "      char_counts[char] = 1\n",
    "  return char_counts\n",
    "\n",
    "input_string = \"Google\"\n",
    "char_counts = char_count(input_string)\n",
    "print(char_counts)"
   ]
  },
  {
   "cell_type": "markdown",
   "id": "1a71a043-c003-41c6-9201-f506d83cc236",
   "metadata": {},
   "source": [
    "#### 81. Convert n dimensional list to single dimensional list."
   ]
  },
  {
   "cell_type": "code",
   "execution_count": 40,
   "id": "07a4665f-9930-47f0-86ab-eb7d8689c60e",
   "metadata": {},
   "outputs": [
    {
     "name": "stdout",
     "output_type": "stream",
     "text": [
      "[1, 2, 3, 1, 2, 3, 4, 5, 6, 7]\n"
     ]
    }
   ],
   "source": [
    "\n",
    "\n",
    "def dimensional_list(lst):\n",
    "  flat_lst = []\n",
    "  for item in lst:\n",
    "    if isinstance(item, list):\n",
    "      flat_lst.extend(dimensional_list(item))\n",
    "    else:\n",
    "      flat_lst.append(item)\n",
    "  return flat_lst\n",
    "\n",
    "\n",
    "my_list = [[1, 2, [3, [1,2,3],4]], [5, 6], 7]\n",
    "flat_list = dimensional_list(my_list)\n",
    "print(flat_list)\n"
   ]
  },
  {
   "cell_type": "markdown",
   "id": "40d2eee5-33cb-41dd-a1f3-9bf984baeba6",
   "metadata": {},
   "source": [
    "#### 82. l=[1,2,3] just make it as a string."
   ]
  },
  {
   "cell_type": "code",
   "execution_count": 45,
   "id": "9b359e79-75a0-4113-9ed6-d7ce0d7b8245",
   "metadata": {},
   "outputs": [
    {
     "name": "stdout",
     "output_type": "stream",
     "text": [
      "123\n",
      "['1', '2', '3']\n"
     ]
    }
   ],
   "source": [
    "\n",
    "\n",
    "l = [1, 2, 3]\n",
    "s = ''.join(map(str, l))\n",
    "print(s)\n",
    "print(list(s))"
   ]
  },
  {
   "cell_type": "markdown",
   "id": "f9c8b75a-da6b-484d-b869-e1db07a03a1b",
   "metadata": {},
   "source": [
    "#### 83. l=[1,2,3,[4,5,6],7,[8,9,10]] for single dimensional list"
   ]
  },
  {
   "cell_type": "code",
   "execution_count": 46,
   "id": "f58d32ae-42ba-41a8-84c7-36bcd5ea8955",
   "metadata": {},
   "outputs": [
    {
     "name": "stdout",
     "output_type": "stream",
     "text": [
      "[1, 2, 3, 4, 5, 6, 7, 8, 9, 10]\n"
     ]
    }
   ],
   "source": [
    "\n",
    "\n",
    "def dimensional_list(lst):\n",
    "  flat_lst = []\n",
    "  for item in lst:\n",
    "    if isinstance(item, list):\n",
    "      flat_lst.extend(dimensional_list(item))\n",
    "    else:\n",
    "      flat_lst.append(item)\n",
    "  return flat_lst\n",
    "\n",
    "\n",
    "my_list = [1,2,3,[4,5,6],7,[8,9,10]]\n",
    "flat_list = dimensional_list(my_list)\n",
    "print(flat_list)\n"
   ]
  },
  {
   "cell_type": "markdown",
   "id": "48845764-05bd-4106-af24-7dcb042a1d03",
   "metadata": {},
   "source": [
    "#### 84. l=['a','A','b','B','d','D','c','C'] WAP to find out case insensitive count and \n"
   ]
  },
  {
   "cell_type": "code",
   "execution_count": null,
   "id": "ec9fc86d-2455-4c2d-8e75-1f40b7fed513",
   "metadata": {},
   "outputs": [],
   "source": [
    "def ele_count():\n",
    "    a = {}\n",
    "    for i in l:\n",
    "        if i.casefold() in a:\n",
    "            a[i.casefold()] += 1\n",
    "        else:\n",
    "            a[i.casefold()] = 1\n",
    "    print(a)\n",
    "\n",
    "l=['a','A','b','B','d','D','c','C'] \n",
    "ele_count()\n"
   ]
  },
  {
   "cell_type": "markdown",
   "id": "14bcaa83-431f-4804-8e66-4d3e1c77afaf",
   "metadata": {},
   "source": [
    "#### 85. case insensitive search for an element."
   ]
  },
  {
   "cell_type": "code",
   "execution_count": 8,
   "id": "91aa1d88-f302-4d94-a093-46b2e3c35ad2",
   "metadata": {},
   "outputs": [
    {
     "name": "stdin",
     "output_type": "stream",
     "text": [
      "Enter a letter : r\n"
     ]
    },
    {
     "name": "stdout",
     "output_type": "stream",
     "text": [
      "Given element not present in list\n"
     ]
    }
   ],
   "source": [
    "\n",
    "def ele_search():\n",
    "    user_input = input(\"Enter a letter :\")\n",
    "    for i in l:\n",
    "        if user_input.casefold() == i.casefold():\n",
    "            print(\"Given element present in list\")\n",
    "            break\n",
    "    else:\n",
    "        print(\"Given element not present in list\")\n",
    "l=['a','A','b','B','d','D','c','C']\n",
    "ele_search()"
   ]
  },
  {
   "cell_type": "markdown",
   "id": "4617c5cd-ea63-45c9-8008-563b3bfa46b9",
   "metadata": {},
   "source": [
    "#### 86. l=['a','A','b','B','d','D','c','C']  sort the list properly\n"
   ]
  },
  {
   "cell_type": "code",
   "execution_count": null,
   "id": "b780a95d-3469-4c46-b00a-3400a388fb99",
   "metadata": {},
   "outputs": [],
   "source": [
    "\n",
    "l=['a','A','b','B','d','D','c','C']\n",
    "l.sort()\n",
    "print(l)\n"
   ]
  },
  {
   "cell_type": "code",
   "execution_count": 22,
   "id": "8134e8a7-3c5f-46bd-9144-74ac0671724a",
   "metadata": {},
   "outputs": [
    {
     "name": "stdout",
     "output_type": "stream",
     "text": [
      "The largest block of repeated characters starts at position 9\n"
     ]
    }
   ],
   "source": [
    "\n",
    "def find_largest_block_start(text):\n",
    "    if not text:\n",
    "        return -1\n",
    "    max_length = 0\n",
    "    start_position = -1\n",
    "    current_length = 1\n",
    "    current_start = 0\n",
    "    \n",
    "    for i in range(1, len(text)):\n",
    "        if text[i] == text[i - 1]:\n",
    "            current_length += 1\n",
    "        else:\n",
    "            if current_length > max_length:\n",
    "                max_length = current_length\n",
    "                start_position = current_start\n",
    "            current_length = 1\n",
    "            current_start = i\n",
    "    if current_length > max_length:\n",
    "        max_length = current_length\n",
    "        start_position = current_start\n",
    "    return start_position\n",
    "\n",
    "text = \"aaabbbcccdddd\"\n",
    "start = find_largest_block_start(text)\n",
    "if start != -1:\n",
    "  print(f\"The largest block of repeated characters starts at position {start}\")\n",
    "else:\n",
    "  print(\"No repeated characters found.\")\n"
   ]
  },
  {
   "cell_type": "markdown",
   "id": "71c08e51-c47f-474a-b3e7-8c7f7ed520bd",
   "metadata": {},
   "source": [
    "#### 88. WAP to find union and intersection of lists."
   ]
  },
  {
   "cell_type": "code",
   "execution_count": 24,
   "id": "14a543b7-9350-49cc-b5f9-eb7f844d84bf",
   "metadata": {},
   "outputs": [
    {
     "name": "stdout",
     "output_type": "stream",
     "text": [
      "Union: [1, 2, 3, 4, 5, 6, 7]\n",
      "Intersection: [3, 4, 5]\n"
     ]
    }
   ],
   "source": [
    "\n",
    "\n",
    "def find_union_intersection(list1, list2):\n",
    "  union = list(set(list1) | set(list2))\n",
    "  intersection = list(set(list1) & set(list2))\n",
    "  return union, intersection\n",
    "\n",
    "list1 = [1, 2, 3, 4, 5]\n",
    "list2 = [3, 4, 5, 6, 7]\n",
    "union, intersection = find_union_intersection(list1, list2)\n",
    "\n",
    "print(f\"Union: {union}\")\n",
    "print(f\"Intersection: {intersection}\")"
   ]
  },
  {
   "cell_type": "markdown",
   "id": "769c8524-c274-4b58-ad44-7b914aa5f0f0",
   "metadata": {},
   "source": [
    "#### 89. input: fun(5) output: [1,2,3,4,3,2,1]"
   ]
  },
  {
   "cell_type": "code",
   "execution_count": 29,
   "id": "70f0081a-82b1-4818-a74d-95f2f488a8db",
   "metadata": {},
   "outputs": [
    {
     "name": "stdout",
     "output_type": "stream",
     "text": [
      "[1, 2, 3, 4, 3, 2, 1]\n"
     ]
    }
   ],
   "source": [
    "\n",
    "\n",
    "def fun(n):\n",
    "  result = []\n",
    "  for i in range(1, n):\n",
    "    result.append(i)\n",
    "  for i in range(n - 2, 0, -1):\n",
    "    result.append(i)\n",
    "  print(result)\n",
    "\n",
    "fun(5)"
   ]
  },
  {
   "cell_type": "markdown",
   "id": "9191d422-1836-451d-b892-c7894b043719",
   "metadata": {},
   "source": [
    "#### 90. input fun('abc') output: [[],][a],[b],[c],[a,b],[b,c],[c,a],[a,b,c]]\n"
   ]
  },
  {
   "cell_type": "code",
   "execution_count": 30,
   "id": "b195b270-2f34-41c5-bc9b-cf1e453a599b",
   "metadata": {},
   "outputs": [
    {
     "name": "stdout",
     "output_type": "stream",
     "text": [
      "[[], ['a'], ['b'], ['c'], ['a', 'b'], ['b', 'c'], ['a', 'b', 'c']]\n"
     ]
    }
   ],
   "source": [
    "\n",
    "def fun(s):\n",
    "  result = [[]]\n",
    "  for i in range(len(s)):\n",
    "    result.append([s[i]])\n",
    "  for i in range(len(s) - 1):\n",
    "    result.append([s[i], s[i + 1]])\n",
    "  for i in range(len(s) - 2):\n",
    "    result.append([s[i], s[i + 1], s[i + 2]])\n",
    "  return result\n",
    "\n",
    "print(fun('abc'))"
   ]
  },
  {
   "cell_type": "markdown",
   "id": "3b033b56-4585-4c5a-ac53-060b2a9b4ac1",
   "metadata": {},
   "source": [
    "#### 91. Remove duplicates from the list: a=[1,2,3,2,3,4,1,,3,4]\n"
   ]
  },
  {
   "cell_type": "code",
   "execution_count": null,
   "id": "ffbdc0b0-43a4-480b-aed6-d50be82b1c44",
   "metadata": {},
   "outputs": [],
   "source": [
    "a = [1, 2, 3, 2, 3, 4, 1, 3, 4]\n",
    "new_list = []\n",
    "for i in a:\n",
    "  if i not in new_list:\n",
    "    new_list.append(i)\n",
    "print(new_list)"
   ]
  },
  {
   "cell_type": "markdown",
   "id": "d038af25-1aae-4c0c-8eeb-e481d96f9d89",
   "metadata": {},
   "source": [
    "#### 92. l=['1','2','3'] get the sum of the list"
   ]
  },
  {
   "cell_type": "code",
   "execution_count": 32,
   "id": "d379e442-8cee-43b6-91c9-acc6bdb10924",
   "metadata": {},
   "outputs": [
    {
     "name": "stdout",
     "output_type": "stream",
     "text": [
      "6\n"
     ]
    }
   ],
   "source": [
    "\n",
    "def sum_of(l):\n",
    "    sum_ = 0\n",
    "    for i in l:\n",
    "        sum_ += int(i)\n",
    "    print(sum)\n",
    "\n",
    "l = [\"1\", \"2\", \"3\"]\n",
    "sum_of(l)"
   ]
  },
  {
   "cell_type": "markdown",
   "id": "a0e3a9a0-60e5-4c14-806c-a5e5a0864ae9",
   "metadata": {},
   "source": [
    "#### 93. l1=[1,2,3,4] l2=[5,6,7,8] sum of two lists"
   ]
  },
  {
   "cell_type": "markdown",
   "id": "51201152-3504-44fe-95b6-b16da09ed5ea",
   "metadata": {},
   "source": [
    "\n",
    "\n",
    "def sum_of(l1, l2):\n",
    "    sum_ = 0\n",
    "    l1.extend(l2)\n",
    "    for i in l1:\n",
    "        sum_ += i\n",
    "    print(sum_)\n",
    "\n",
    "l1=[1,2,3,4]\n",
    "l2=[5,6,7,8]\n",
    "sum_of(l1, l2)"
   ]
  },
  {
   "cell_type": "code",
   "execution_count": 39,
   "id": "762a9610-b5f7-4b4b-80ee-ce772e100728",
   "metadata": {},
   "outputs": [],
   "source": [
    "# 94. Find third max value of element in a list with soring and without sorting a list.\n",
    "\n",
    "\n",
    "\n",
    "# def max_of(l):\n",
    "#     max_ = 0\n",
    "#     for i in range(3):\n",
    "#         a = max(l)\n",
    "#         max_ += 1\n",
    "        \n",
    "#         if max_ > 2:\n",
    "#             print(a)\n",
    "#             break\n",
    "#         l.pop(a)\n",
    "\n",
    "# l = [22, 23, 24, 25, 26, 27]\n",
    "# max_of(l)\n",
    "\n",
    "\n"
   ]
  },
  {
   "cell_type": "code",
   "execution_count": null,
   "id": "f6275c22-bac3-4566-ae0e-ebd41b36a47f",
   "metadata": {},
   "outputs": [],
   "source": [
    "# 95. Input = [\"1/1\",\"1/2\",\"1/3\",\"1/4\",\"2/5\",\"2/6\",\"2/8\"] Output = [['1/1-4'], ['2/5-6'], ['2/8']]"
   ]
  },
  {
   "cell_type": "code",
   "execution_count": 19,
   "id": "59e6c997-0cf1-40dd-ae05-878216de8d3d",
   "metadata": {},
   "outputs": [],
   "source": [
    "# 96. l=[1,2,3,5,7,8,9,10,11,12,13,20,22,23,24,25,26,27,20,21,22,4]\n",
    "# output = [[1, 2, 3], [5], [7, 8, 9, 10, 11, 12, 13], [20], [22, 23, 24, 25, 26, 27], [20, 21, 22], [4]]"
   ]
  },
  {
   "cell_type": "code",
   "execution_count": 43,
   "id": "39d8c110-996f-4b2e-865c-87babccd57e4",
   "metadata": {},
   "outputs": [
    {
     "name": "stdin",
     "output_type": "stream",
     "text": [
      "enter numbers : 1,2,3,4\n"
     ]
    },
    {
     "name": "stdout",
     "output_type": "stream",
     "text": [
      "odd,even,odd,even,"
     ]
    }
   ],
   "source": [
    "# 97. input = 1,2,3,4,5,6,8,10 output = odd,even,odd,even,odd,even,even,even\n",
    "def fun(l):\n",
    "    for i in l:\n",
    "        if i % 2 == 0:\n",
    "            print(\"even\", end=\",\")\n",
    "        else:\n",
    "            print(\"odd\", end=\",\")\n",
    "\n",
    "l =list(map(int, input(\"enter numbers :\").split(\",\")))\n",
    "fun(l)"
   ]
  },
  {
   "cell_type": "code",
   "execution_count": 47,
   "id": "8facd926-c201-48c1-a1c2-10596e080fb4",
   "metadata": {},
   "outputs": [
    {
     "name": "stdin",
     "output_type": "stream",
     "text": [
      "enter number : 5\n"
     ]
    },
    {
     "name": "stdout",
     "output_type": "stream",
     "text": [
      "111\n",
      "101\n",
      "111\n",
      "101\n",
      "111\n"
     ]
    }
   ],
   "source": [
    "# 98. input n=3\n",
    "# \t\toutput:     111\n",
    "# \t\t101\n",
    "# \t\t111\n",
    "\n",
    "\n",
    "def fun(l):\n",
    "    for i in range(1, l+1):\n",
    "        if i % 2 == 0:\n",
    "            print(\"101\")\n",
    "        else:\n",
    "            print(\"111\")\n",
    "\n",
    "l =input(\"enter number :\")\n",
    "l = int(l)\n",
    "fun(l)"
   ]
  },
  {
   "cell_type": "code",
   "execution_count": 52,
   "id": "724ba992-e535-4ed5-8481-8a69ef3096eb",
   "metadata": {},
   "outputs": [
    {
     "name": "stdin",
     "output_type": "stream",
     "text": [
      "Enter a String : Google\n"
     ]
    },
    {
     "name": "stdout",
     "output_type": "stream",
     "text": [
      "{'g': 2, 'o': 2, 'l': 1, 'e': 1}\n"
     ]
    }
   ],
   "source": [
    "# 99. input: Google\n",
    "#     output: {'g':2,'o':2,'l':1,'e':1} use dictionary comprehension\n",
    "def fun(user_input):\n",
    "    dict_a = {}\n",
    "    for i in user_input:\n",
    "        if i.casefold() in dict_a:\n",
    "            dict_a[i.casefold()] += 1\n",
    "        else:\n",
    "            dict_a[i.casefold()] = 1\n",
    "    print(dict_a)\n",
    "user_input = input(\"Enter a String :\")\n",
    "fun(user_input)"
   ]
  },
  {
   "cell_type": "code",
   "execution_count": 53,
   "id": "68afd333-e8e0-4d38-ba51-6320e6e12721",
   "metadata": {},
   "outputs": [
    {
     "name": "stdout",
     "output_type": "stream",
     "text": [
      "{'k1': 'v1', 'k2': 'v2'}\n"
     ]
    }
   ],
   "source": [
    "# 100. keys=['k1','k2'], values = ['v1','v2'] form a dictionary.\n",
    "def fun():\n",
    "    keys = ['k1', 'k2']\n",
    "    values = ['v1', 'v2']\n",
    "    my_dict = dict(zip(keys, values))\n",
    "    print(my_dict)\n",
    "\n",
    "fun()"
   ]
  },
  {
   "cell_type": "code",
   "execution_count": null,
   "id": "7917f22a-8909-4804-80a0-d368342ac80b",
   "metadata": {},
   "outputs": [],
   "source": [
    "# 101. Sort the list marks = [(\"mohan\", 80), (\"satish\", 90), (\"purnesh\", 40), (\"venkat\", 30)] according to descending order of marks\n"
   ]
  },
  {
   "cell_type": "code",
   "execution_count": null,
   "id": "9565ef72-c175-4d1f-95e5-d80eca4b8106",
   "metadata": {},
   "outputs": [],
   "source": [
    "# 102.write a function to get dynamic list for floating numbers also based on strat and end and step parameters\n"
   ]
  },
  {
   "cell_type": "code",
   "execution_count": 10,
   "id": "faa20160-60a0-432b-b7ab-51eae4337808",
   "metadata": {},
   "outputs": [
    {
     "name": "stdin",
     "output_type": "stream",
     "text": [
      "Enter a number : 1000\n"
     ]
    },
    {
     "name": "stdout",
     "output_type": "stream",
     "text": [
      "[6, 28, 496]\n"
     ]
    }
   ],
   "source": [
    "# 103. find out all perfect numbers in given range\n",
    "def perfect_no(n):\n",
    "    res = []\n",
    "    for i in range(1, n+1):\n",
    "        sum_of = 0\n",
    "        for j in range(1, i):\n",
    "            if i % j == 0:\n",
    "                sum_of += j\n",
    "        if sum_of == i:\n",
    "            res.append(i)\n",
    "    print(res)\n",
    "\n",
    "n = input(\"Enter a number :\")\n",
    "if (int(n)>0):\n",
    "    n = int(n)\n",
    "    perfect_no(n)\n",
    "else:\n",
    "    print(\"Give Positive number\")"
   ]
  },
  {
   "cell_type": "code",
   "execution_count": null,
   "id": "b70fd0ea-edaf-4054-a507-1238f79827a9",
   "metadata": {},
   "outputs": [],
   "source": [
    "# 104. WAP to do all stack operations using lists\n",
    "\n"
   ]
  },
  {
   "cell_type": "code",
   "execution_count": null,
   "id": "62b75b8f-e780-4ee9-87ed-0507b5f5b1cc",
   "metadata": {},
   "outputs": [],
   "source": [
    "# 105.WAP to do all queue operations using lists"
   ]
  },
  {
   "cell_type": "code",
   "execution_count": 11,
   "id": "cb44b985-8356-4c86-934f-2e50ec9f948e",
   "metadata": {},
   "outputs": [
    {
     "name": "stdout",
     "output_type": "stream",
     "text": [
      "AJA@ consulting@ Services, LLP\n"
     ]
    }
   ],
   "source": [
    "# 106. WAP to remove n occurrences of specified element from a list\n",
    "\n",
    "def remove_n_occurances():\n",
    "    list_a = \"AJA, consulting, Services, LLP\"\n",
    "    n = 2\n",
    "    a = list_a.replace(\",\", \"@\", n)\n",
    "    print(a)\n",
    "\n",
    "remove_n_occurances()"
   ]
  },
  {
   "cell_type": "code",
   "execution_count": null,
   "id": "ced896ed-a18c-4af7-a135-fcfb28794c9c",
   "metadata": {},
   "outputs": [],
   "source": [
    "# 107. compare two lists ignore order. i.e return True l1=[1,2,3,4],l2=[4,2,3,1], fun(l1,l2)-> True\n"
   ]
  },
  {
   "cell_type": "code",
   "execution_count": null,
   "id": "58a0c54b-d9f6-4b04-b5f8-6f363afb5a0a",
   "metadata": {},
   "outputs": [],
   "source": [
    "# 108. XOR operation in python."
   ]
  },
  {
   "cell_type": "code",
   "execution_count": 20,
   "id": "fbb5219f-4ef3-491d-a88b-3fcd53107690",
   "metadata": {},
   "outputs": [
    {
     "name": "stdout",
     "output_type": "stream",
     "text": [
      "[2, 3, 4, 5, 6, 2, 2, 3, 4, 5, 2, 9, 7]\n"
     ]
    }
   ],
   "source": [
    "# 109. how to remove all occurrences of the given element in a list\n",
    "def remove_ele():\n",
    "    \n",
    "    l = [1,2,3,4,5,6,1,2,1,2,3,4,5,1,2,1,9,7]\n",
    "    \n",
    "  \n",
    "    res = []\n",
    "    for i in l:\n",
    "        if i != 1:\n",
    "            res.append(i)\n",
    "    \n",
    "    print(res)\n",
    "remove_ele()\n",
    "\n",
    "\n",
    "\n"
   ]
  },
  {
   "cell_type": "code",
   "execution_count": 25,
   "id": "6e5f659f-076b-4fa4-b2df-0c50ede50fb1",
   "metadata": {},
   "outputs": [
    {
     "name": "stdout",
     "output_type": "stream",
     "text": [
      "[2, 3, 4, 5, 6, 2, 2, 3, 4, 5, 1, 2, 1, 9, 7]\n"
     ]
    }
   ],
   "source": [
    "# 110. how to remove first n occurrences of the given element in a list\n",
    "def remove_ele():\n",
    "    \n",
    "    l = [1,2,3,4,5,6,1,2,1,2,3,4,5,1,2,1,9,7]\n",
    "    res = l\n",
    "    n = 3\n",
    "    element = 1\n",
    "    count = 0\n",
    "    for i in l:\n",
    "        if i == element:\n",
    "            res.remove(i)\n",
    "            count += 1\n",
    "            if count == n:\n",
    "                break\n",
    "    \n",
    "    print(res)\n",
    "remove_ele()"
   ]
  },
  {
   "cell_type": "code",
   "execution_count": 26,
   "id": "0f265788-2e60-4400-af5d-a64745b4e07f",
   "metadata": {},
   "outputs": [
    {
     "name": "stdout",
     "output_type": "stream",
     "text": [
      "[1, 2, 3, 4, 5, 6, 1, 2, 2, 3, 4, 5, 2, 9, 7]\n"
     ]
    }
   ],
   "source": [
    "# 111. how to remove last n occurrences of the given element in a list\n",
    "def remove_ele():\n",
    "    \n",
    "    l = [1,2,3,4,5,6,1,2,1,2,3,4,5,1,2,1,9,7]\n",
    "    res = l[::-1]\n",
    "    n = 3\n",
    "    element = 1\n",
    "    count = 0\n",
    "    for i in l:\n",
    "        if i == element:\n",
    "            res.remove(i)\n",
    "            count += 1\n",
    "            if count == n:\n",
    "                break\n",
    "    \n",
    "    print(res[::-1])\n",
    "remove_ele()"
   ]
  },
  {
   "cell_type": "code",
   "execution_count": 30,
   "id": "92a8c13b-c91a-4f7c-bbfd-dcde8ba30557",
   "metadata": {},
   "outputs": [
    {
     "name": "stdout",
     "output_type": "stream",
     "text": [
      "[1, 2, 3, 4, 5, 6, 1, 2, 2, 3, 4, 5, 1, 2, 1, 9, 7]\n"
     ]
    }
   ],
   "source": [
    "# 112. how to remove nth occurrences of the given element in a list\n",
    "def remove_ele():\n",
    "    l = [1,2,3,4,5,6,1,2,1,2,3,4,5,1,2,1,9,7]\n",
    "    res = []\n",
    "    n = 3\n",
    "    element = 1\n",
    "    count = 0\n",
    "    for i in range(len(l)):\n",
    "        if l[i] == element:\n",
    "            count += 1\n",
    "            if count != n:\n",
    "                res.append(l[i])\n",
    "        else:res.append(l[i])\n",
    "    print(res)\n",
    "remove_ele()"
   ]
  },
  {
   "cell_type": "code",
   "execution_count": 42,
   "id": "778bff8a-a27f-46c9-aed0-df7b128068b6",
   "metadata": {},
   "outputs": [
    {
     "name": "stdout",
     "output_type": "stream",
     "text": [
      "[0, 0.1, 0.2, 0.3, 0.4, 0.5, 0.6, 0.7, 0.8, 0.9]\n"
     ]
    }
   ],
   "source": [
    "# 113. WAP to generate list of floats i.e: fun(0,1,0.1), [0,0.1,0.2,0.3,0.4,0.5,0.6,0.7,0.8,0.9]\n",
    "\n",
    "def fun(start, end, step):\n",
    "  result = []\n",
    "  current = start\n",
    "  while current < (end-0.1):\n",
    "    result.append(round(current, 1))\n",
    "    current += step\n",
    "  return result\n",
    "\n",
    "start = 0\n",
    "end = 1\n",
    "step = 0.1\n",
    "float_list = fun(start, end, step)\n",
    "print(float_list)"
   ]
  },
  {
   "cell_type": "code",
   "execution_count": 43,
   "id": "159e0587-e67b-4841-95b7-236535e6a464",
   "metadata": {},
   "outputs": [
    {
     "name": "stdout",
     "output_type": "stream",
     "text": [
      " hello  hello  hello\n"
     ]
    }
   ],
   "source": [
    "# 114. WAP to remove all occurrences of given substring from actual string\n",
    "def remove_substring():\n",
    "    a = \"hi hello hi hello hi hello\"\n",
    "    sub = \"hi\"\n",
    "    res = a.replace(sub, \"\")\n",
    "    print(res)\n",
    "remove_substring()"
   ]
  },
  {
   "cell_type": "code",
   "execution_count": 44,
   "id": "8933deeb-113d-45e1-9fe7-a6bf1483618e",
   "metadata": {},
   "outputs": [
    {
     "name": "stdout",
     "output_type": "stream",
     "text": [
      " hello  hello hi hello\n"
     ]
    }
   ],
   "source": [
    "# 115. WAP to remove first n occurrences of given substring from actual string\n",
    "\n",
    "def remove_substring():\n",
    "    a = \"hi hello hi hello hi hello\"\n",
    "    sub = \"hi\"\n",
    "    res = a.replace(sub, \"\", 2)\n",
    "    print(res)\n",
    "remove_substring()"
   ]
  },
  {
   "cell_type": "code",
   "execution_count": 53,
   "id": "9c2a5061-fc8c-41ed-953a-e04d1f9a00b9",
   "metadata": {},
   "outputs": [
    {
     "name": "stdout",
     "output_type": "stream",
     "text": [
      "hi hello hi hello  hello\n"
     ]
    }
   ],
   "source": [
    "# 116. WAP to remove last n occurrences of given substring from actual string\n",
    "\n",
    "def remove_substring():\n",
    "    a = \"hi hello hi hello hi hello\"\n",
    "    sub = \"hi\"\n",
    "    res = a[::-1].replace(sub[::-1], \"\",1)[::-1]\n",
    "    print(res)\n",
    "remove_substring()"
   ]
  },
  {
   "cell_type": "code",
   "execution_count": 55,
   "id": "af0e7231-f759-45cf-8972-cd6df44383b1",
   "metadata": {},
   "outputs": [
    {
     "name": "stdout",
     "output_type": "stream",
     "text": [
      "hi hello Hey hello Hey hello\n"
     ]
    }
   ],
   "source": [
    "# 117. WAP to replace last n occurrences of given substring with destination string in actual string\n",
    "def remove_substring():\n",
    "    a = \"hi hello hi hello hi hello\"\n",
    "    sub = \"hi\"\n",
    "    res = a[::-1].replace(sub[::-1], \"Hey\"[::-1],2)[::-1]\n",
    "    print(res)\n",
    "remove_substring()"
   ]
  },
  {
   "cell_type": "code",
   "execution_count": 58,
   "id": "3b327215-1ea5-4dc5-8d67-6ac16f513c08",
   "metadata": {},
   "outputs": [
    {
     "name": "stdout",
     "output_type": "stream",
     "text": [
      "hello hello hello hi hi hi\n"
     ]
    }
   ],
   "source": [
    "# 118. WAP to sort the string.\n",
    "def sorting_string():\n",
    "    a = \"hi hello hi hello hi hello\".split()\n",
    "    sub = sorted(a)\n",
    "    res = \" \".join(sub)\n",
    "    print(res)\n",
    "    \n",
    "sorting_string()\n"
   ]
  },
  {
   "cell_type": "code",
   "execution_count": 64,
   "id": "f7dd1977-d5bb-462f-a88c-91bbd0895f77",
   "metadata": {},
   "outputs": [
    {
     "name": "stdin",
     "output_type": "stream",
     "text": [
      "Enter a coma seperated string : 1,2,3,4,5,6,7,8,9\n"
     ]
    },
    {
     "name": "stdout",
     "output_type": "stream",
     "text": [
      "9\n"
     ]
    }
   ],
   "source": [
    "# 119. take a coma separated numbers and find out max number.\n",
    "\n",
    "def sorting_string():\n",
    "    a = list(map(int, input(\"Enter a coma seperated string :\").split(\",\")))\n",
    "    max_of = max(a)\n",
    "    \n",
    "    print(max_of)\n",
    "    \n",
    "sorting_string()"
   ]
  },
  {
   "cell_type": "markdown",
   "id": "f44ee788-f8af-498a-b596-55ca7ff790a5",
   "metadata": {},
   "source": [
    "#### 122. Take three columns disease, symptoms, advice in a file and fill the details\n",
    "#### Ask the user to enter symptoms. Based on this symptoms Suggest the user to what disease it may be and few advices.\n"
   ]
  },
  {
   "cell_type": "code",
   "execution_count": null,
   "id": "21e50133-f505-429f-b3d2-578f4add2ec5",
   "metadata": {},
   "outputs": [],
   "source": []
  },
  {
   "cell_type": "code",
   "execution_count": null,
   "id": "2b769d88-89d7-44e0-b4d4-3075f3be33e0",
   "metadata": {},
   "outputs": [],
   "source": []
  },
  {
   "cell_type": "code",
   "execution_count": null,
   "id": "acf77436-1be4-4037-bef6-24d77adb212c",
   "metadata": {},
   "outputs": [],
   "source": []
  },
  {
   "cell_type": "code",
   "execution_count": null,
   "id": "14087a8e-6182-4075-ba3a-f21da24955c2",
   "metadata": {},
   "outputs": [],
   "source": []
  }
 ],
 "metadata": {
  "kernelspec": {
   "display_name": "Python 3 (ipykernel)",
   "language": "python",
   "name": "python3"
  },
  "language_info": {
   "codemirror_mode": {
    "name": "ipython",
    "version": 3
   },
   "file_extension": ".py",
   "mimetype": "text/x-python",
   "name": "python",
   "nbconvert_exporter": "python",
   "pygments_lexer": "ipython3",
   "version": "3.12.4"
  }
 },
 "nbformat": 4,
 "nbformat_minor": 5
}
