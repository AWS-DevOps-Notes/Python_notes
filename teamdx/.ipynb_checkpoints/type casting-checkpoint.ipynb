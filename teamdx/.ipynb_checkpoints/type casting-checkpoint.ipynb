{
 "cells": [
  {
   "cell_type": "code",
   "execution_count": 1,
   "id": "98287ebf-61c3-49ec-a75f-03b33aa9d0d1",
   "metadata": {},
   "outputs": [
    {
     "name": "stdout",
     "output_type": "stream",
     "text": [
      "30\n"
     ]
    }
   ],
   "source": [
    "a =\"10\"\n",
    "b=\"20\"\n",
    "a=int(a)\n",
    "b=int(b)\n",
    "print(a+b)"
   ]
  },
  {
   "cell_type": "code",
   "execution_count": null,
   "id": "c0e14a63-5912-49da-a1ef-1b9c75c73d6e",
   "metadata": {},
   "outputs": [],
   "source": [
    "# * , / , // , %"
   ]
  },
  {
   "cell_type": "code",
   "execution_count": 3,
   "id": "5f40b09f-31a4-4581-b210-f2a37ea90e05",
   "metadata": {},
   "outputs": [
    {
     "name": "stdout",
     "output_type": "stream",
     "text": [
      "200\n"
     ]
    }
   ],
   "source": [
    "a =\"10\"\n",
    "b=\"20\"\n",
    "a=int(a)\n",
    "b=int(b)\n",
    "print(a*b)"
   ]
  },
  {
   "cell_type": "code",
   "execution_count": 11,
   "id": "484c6f4d-44b4-4e0e-8b84-da7eee29a69f",
   "metadata": {},
   "outputs": [
    {
     "name": "stdout",
     "output_type": "stream",
     "text": [
      "0.5\n"
     ]
    }
   ],
   "source": [
    "a =\"10\"\n",
    "b=\"20\"\n",
    "a=int(a)\n",
    "b=int(b)\n",
    "print(a/b)"
   ]
  },
  {
   "cell_type": "code",
   "execution_count": 13,
   "id": "ca5a2ba5-142e-40aa-b77e-4098bce31023",
   "metadata": {},
   "outputs": [
    {
     "name": "stdout",
     "output_type": "stream",
     "text": [
      "0\n"
     ]
    }
   ],
   "source": [
    "a =\"10\"\n",
    "b=\"20\"\n",
    "a=int(a)\n",
    "b=int(b)\n",
    "print(a//b)"
   ]
  },
  {
   "cell_type": "code",
   "execution_count": 15,
   "id": "003a2413-bdf4-4fb8-a467-64e27851f737",
   "metadata": {},
   "outputs": [
    {
     "name": "stdout",
     "output_type": "stream",
     "text": [
      "10\n"
     ]
    }
   ],
   "source": [
    "a =\"10\"\n",
    "b=\"20\"\n",
    "a=int(a)\n",
    "b=int(b)\n",
    "print(a%b)"
   ]
  },
  {
   "cell_type": "code",
   "execution_count": 17,
   "id": "54b0bde3-4718-4719-b0fd-94759869abe3",
   "metadata": {},
   "outputs": [
    {
     "name": "stdout",
     "output_type": "stream",
     "text": [
      "12\n"
     ]
    }
   ],
   "source": [
    "a=12.34\n",
    "print(int(a))"
   ]
  },
  {
   "cell_type": "code",
   "execution_count": 19,
   "id": "a1238c83-cf28-4c9e-8910-16e9ead3288a",
   "metadata": {},
   "outputs": [
    {
     "name": "stdout",
     "output_type": "stream",
     "text": [
      "1234 <class 'str'>\n",
      "1234 <class 'str'>\n"
     ]
    }
   ],
   "source": [
    "a=\"1234\"\n",
    "print(a,type(a))\n",
    "b=str(a)\n",
    "print(b,type(b))"
   ]
  },
  {
   "cell_type": "code",
   "execution_count": 23,
   "id": "c07ef995-6cff-4021-9314-9547ebbb9484",
   "metadata": {},
   "outputs": [
    {
     "name": "stdout",
     "output_type": "stream",
     "text": [
      "python <class 'str'>\n",
      "['p', 'y', 't', 'h', 'o', 'n'] <class 'list'>\n"
     ]
    }
   ],
   "source": [
    "s=\"python\"\n",
    "print(s, type(s))\n",
    "s1=list(s)\n",
    "print(s1, type(s1))"
   ]
  },
  {
   "cell_type": "code",
   "execution_count": 25,
   "id": "22ec2839-3a8c-4b76-9925-713c877a1358",
   "metadata": {},
   "outputs": [
    {
     "name": "stdout",
     "output_type": "stream",
     "text": [
      "python <class 'str'>\n",
      "('p', 'y', 't', 'h', 'o', 'n') <class 'tuple'>\n"
     ]
    }
   ],
   "source": [
    "s=\"python\"\n",
    "print(s, type(s))\n",
    "s1=tuple(s)\n",
    "print(s1, type(s1))"
   ]
  },
  {
   "cell_type": "code",
   "execution_count": 29,
   "id": "1605f7e2-273b-48e4-ad04-3753ad0ad011",
   "metadata": {},
   "outputs": [
    {
     "ename": "ValueError",
     "evalue": "invalid literal for int() with base 10: '12a'",
     "output_type": "error",
     "traceback": [
      "\u001b[1;31m---------------------------------------------------------------------------\u001b[0m",
      "\u001b[1;31mValueError\u001b[0m                                Traceback (most recent call last)",
      "Cell \u001b[1;32mIn[29], line 2\u001b[0m\n\u001b[0;32m      1\u001b[0m a\u001b[38;5;241m=\u001b[39m\u001b[38;5;124m\"\u001b[39m\u001b[38;5;124m12a\u001b[39m\u001b[38;5;124m\"\u001b[39m\n\u001b[1;32m----> 2\u001b[0m b\u001b[38;5;241m=\u001b[39m\u001b[38;5;28mint\u001b[39m(a)\n\u001b[0;32m      3\u001b[0m \u001b[38;5;28mprint\u001b[39m(b)\n",
      "\u001b[1;31mValueError\u001b[0m: invalid literal for int() with base 10: '12a'"
     ]
    }
   ],
   "source": [
    "a=\"12a\"\n",
    "b=int(a)\n",
    "print(b)"
   ]
  },
  {
   "cell_type": "code",
   "execution_count": 31,
   "id": "4b38bde7-95d9-498f-9883-b51164e3a8c0",
   "metadata": {},
   "outputs": [
    {
     "name": "stdout",
     "output_type": "stream",
     "text": [
      "298\n"
     ]
    }
   ],
   "source": [
    "a=\"12a\"\n",
    "b=int(a, 16)\n",
    "print(b)"
   ]
  },
  {
   "cell_type": "code",
   "execution_count": 39,
   "id": "8fd2ae93-0eb3-4674-be76-df7d99400e01",
   "metadata": {},
   "outputs": [
    {
     "name": "stdout",
     "output_type": "stream",
     "text": [
      "10\n",
      "10\n"
     ]
    }
   ],
   "source": [
    "# number system\n",
    "\"\"\"\n",
    "binary : base value -->  2 (0,1)\n",
    "octa: base value --> 8(0,1,2,3,4,5,6,7)\n",
    "decimal : base value --> 10(0,1,2,3,4,5,6,7,8,9)\n",
    "hexa decimal: base value --> 16 (0,1,2,3,4,5,6,7,8,9,a,b,c,d,e,f)\n",
    "\"\"\"\n",
    "print(int(\"12\", 8))\n",
    "print(2*8**0+1*8**1)\n",
    "        "
   ]
  },
  {
   "cell_type": "code",
   "execution_count": 41,
   "id": "e07da89b-aad6-4920-8f8f-9d391093d7d8",
   "metadata": {},
   "outputs": [
    {
     "name": "stdout",
     "output_type": "stream",
     "text": [
      "4831\n",
      "4831\n"
     ]
    }
   ],
   "source": [
    "print(int(\"12df\",16))\n",
    "print(15*16**0+13*16**1+2*16**2+1*16**3)"
   ]
  },
  {
   "cell_type": "code",
   "execution_count": 45,
   "id": "5fd27ebb-654b-4f84-8f3e-5d4fcce3e502",
   "metadata": {},
   "outputs": [
    {
     "name": "stdout",
     "output_type": "stream",
     "text": [
      "97375\n"
     ]
    }
   ],
   "source": [
    "print(int(\"12dfg\",17))"
   ]
  },
  {
   "cell_type": "code",
   "execution_count": 55,
   "id": "394a9846-e80d-4b77-aa24-508f491e18ca",
   "metadata": {},
   "outputs": [
    {
     "ename": "ValueError",
     "evalue": "int() base must be >= 2 and <= 36, or 0",
     "output_type": "error",
     "traceback": [
      "\u001b[1;31m---------------------------------------------------------------------------\u001b[0m",
      "\u001b[1;31mValueError\u001b[0m                                Traceback (most recent call last)",
      "Cell \u001b[1;32mIn[55], line 1\u001b[0m\n\u001b[1;32m----> 1\u001b[0m \u001b[38;5;28mprint\u001b[39m(\u001b[38;5;28mint\u001b[39m(\u001b[38;5;124m\"\u001b[39m\u001b[38;5;124m12DFz\u001b[39m\u001b[38;5;124m\"\u001b[39m,\u001b[38;5;241m50\u001b[39m))\n",
      "\u001b[1;31mValueError\u001b[0m: int() base must be >= 2 and <= 36, or 0"
     ]
    }
   ],
   "source": [
    "print(int(\"12DFz\",50))"
   ]
  },
  {
   "cell_type": "code",
   "execution_count": 57,
   "id": "345cf205-5883-4248-a78d-d65ce1f3472a",
   "metadata": {},
   "outputs": [
    {
     "ename": "ValueError",
     "evalue": "int() base must be >= 2 and <= 36, or 0",
     "output_type": "error",
     "traceback": [
      "\u001b[1;31m---------------------------------------------------------------------------\u001b[0m",
      "\u001b[1;31mValueError\u001b[0m                                Traceback (most recent call last)",
      "Cell \u001b[1;32mIn[57], line 1\u001b[0m\n\u001b[1;32m----> 1\u001b[0m \u001b[38;5;28mprint\u001b[39m(\u001b[38;5;28mint\u001b[39m(\u001b[38;5;124m\"\u001b[39m\u001b[38;5;124m12DFy\u001b[39m\u001b[38;5;124m\"\u001b[39m,\u001b[38;5;241m50\u001b[39m))\n",
      "\u001b[1;31mValueError\u001b[0m: int() base must be >= 2 and <= 36, or 0"
     ]
    }
   ],
   "source": [
    "print(int(\"12DFy\",50))"
   ]
  },
  {
   "cell_type": "code",
   "execution_count": 63,
   "id": "c460abf2-0366-4dcb-a733-999959d108fa",
   "metadata": {},
   "outputs": [
    {
     "ename": "ValueError",
     "evalue": "invalid literal for int() with base 10: '12.34'",
     "output_type": "error",
     "traceback": [
      "\u001b[1;31m---------------------------------------------------------------------------\u001b[0m",
      "\u001b[1;31mValueError\u001b[0m                                Traceback (most recent call last)",
      "Cell \u001b[1;32mIn[63], line 2\u001b[0m\n\u001b[0;32m      1\u001b[0m a\u001b[38;5;241m=\u001b[39m\u001b[38;5;124m\"\u001b[39m\u001b[38;5;124m12.34\u001b[39m\u001b[38;5;124m\"\u001b[39m\n\u001b[1;32m----> 2\u001b[0m \u001b[38;5;28mprint\u001b[39m(\u001b[38;5;28mint\u001b[39m(a))\n",
      "\u001b[1;31mValueError\u001b[0m: invalid literal for int() with base 10: '12.34'"
     ]
    }
   ],
   "source": [
    "a=\"12.34\"\n",
    "print(int(a))"
   ]
  },
  {
   "cell_type": "code",
   "execution_count": 65,
   "id": "3c09f0f6-9a7d-4052-b424-3bfb35c1b34c",
   "metadata": {},
   "outputs": [
    {
     "data": {
      "text/plain": [
       "\u001b[1;31mInit signature:\u001b[0m \u001b[0mint\u001b[0m\u001b[1;33m(\u001b[0m\u001b[0mself\u001b[0m\u001b[1;33m,\u001b[0m \u001b[1;33m/\u001b[0m\u001b[1;33m,\u001b[0m \u001b[1;33m*\u001b[0m\u001b[0margs\u001b[0m\u001b[1;33m,\u001b[0m \u001b[1;33m**\u001b[0m\u001b[0mkwargs\u001b[0m\u001b[1;33m)\u001b[0m\u001b[1;33m\u001b[0m\u001b[1;33m\u001b[0m\u001b[0m\n",
       "\u001b[1;31mDocstring:\u001b[0m     \n",
       "int([x]) -> integer\n",
       "int(x, base=10) -> integer\n",
       "\n",
       "Convert a number or string to an integer, or return 0 if no arguments\n",
       "are given.  If x is a number, return x.__int__().  For floating point\n",
       "numbers, this truncates towards zero.\n",
       "\n",
       "If x is not a number or if base is given, then x must be a string,\n",
       "bytes, or bytearray instance representing an integer literal in the\n",
       "given base.  The literal can be preceded by '+' or '-' and be surrounded\n",
       "by whitespace.  The base defaults to 10.  Valid bases are 0 and 2-36.\n",
       "Base 0 means to interpret the base from the string as an integer literal.\n",
       ">>> int('0b100', base=0)\n",
       "4\n",
       "\u001b[1;31mType:\u001b[0m           type\n",
       "\u001b[1;31mSubclasses:\u001b[0m     bool, IntEnum, IntFlag, _NamedIntConstant, Handle"
      ]
     },
     "metadata": {},
     "output_type": "display_data"
    }
   ],
   "source": [
    "int?"
   ]
  },
  {
   "cell_type": "code",
   "execution_count": 71,
   "id": "0bd103ea-7d2d-4e90-ad03-4ccd72c1215e",
   "metadata": {},
   "outputs": [
    {
     "ename": "SyntaxError",
     "evalue": "invalid syntax (1112877626.py, line 3)",
     "output_type": "error",
     "traceback": [
      "\u001b[1;36m  Cell \u001b[1;32mIn[71], line 3\u001b[1;36m\u001b[0m\n\u001b[1;33m    print(4*10**0+3*10**1+)\u001b[0m\n\u001b[1;37m                          ^\u001b[0m\n\u001b[1;31mSyntaxError\u001b[0m\u001b[1;31m:\u001b[0m invalid syntax\n"
     ]
    }
   ],
   "source": [
    "a=\"12.34\"\n",
    "print(int(a))\n",
    "print(4*10**0+3*10**1+)"
   ]
  },
  {
   "cell_type": "code",
   "execution_count": 73,
   "id": "108f0e17-9005-4da9-8053-37a756000557",
   "metadata": {},
   "outputs": [
    {
     "name": "stdout",
     "output_type": "stream",
     "text": [
      "12.34 <class 'float'>\n"
     ]
    }
   ],
   "source": [
    "a=\"12.34\"\n",
    "b=float(a)\n",
    "print(b,type(b))"
   ]
  },
  {
   "cell_type": "code",
   "execution_count": 75,
   "id": "64d449a3-19d9-4f5a-861b-649548a0b09a",
   "metadata": {},
   "outputs": [
    {
     "data": {
      "text/plain": [
       "\u001b[1;31mInit signature:\u001b[0m \u001b[0mfloat\u001b[0m\u001b[1;33m(\u001b[0m\u001b[0mx\u001b[0m\u001b[1;33m=\u001b[0m\u001b[1;36m0\u001b[0m\u001b[1;33m,\u001b[0m \u001b[1;33m/\u001b[0m\u001b[1;33m)\u001b[0m\u001b[1;33m\u001b[0m\u001b[1;33m\u001b[0m\u001b[0m\n",
       "\u001b[1;31mDocstring:\u001b[0m      Convert a string or number to a floating point number, if possible.\n",
       "\u001b[1;31mType:\u001b[0m           type\n",
       "\u001b[1;31mSubclasses:\u001b[0m     float64"
      ]
     },
     "metadata": {},
     "output_type": "display_data"
    }
   ],
   "source": [
    "float?"
   ]
  },
  {
   "cell_type": "code",
   "execution_count": null,
   "id": "6530632b-3f7d-47d9-b091-919005093608",
   "metadata": {},
   "outputs": [],
   "source": []
  }
 ],
 "metadata": {
  "kernelspec": {
   "display_name": "Python 3 (ipykernel)",
   "language": "python",
   "name": "python3"
  },
  "language_info": {
   "codemirror_mode": {
    "name": "ipython",
    "version": 3
   },
   "file_extension": ".py",
   "mimetype": "text/x-python",
   "name": "python",
   "nbconvert_exporter": "python",
   "pygments_lexer": "ipython3",
   "version": "3.12.4"
  }
 },
 "nbformat": 4,
 "nbformat_minor": 5
}
