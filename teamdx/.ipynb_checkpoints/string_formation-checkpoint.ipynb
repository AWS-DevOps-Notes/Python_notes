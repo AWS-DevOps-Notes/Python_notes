{
 "cells": [
  {
   "cell_type": "code",
   "execution_count": 13,
   "id": "8793c621-ea6a-4327-b78a-044924df1046",
   "metadata": {},
   "outputs": [
    {
     "name": "stdin",
     "output_type": "stream",
     "text": [
      "Enter customer name: Anil kumar\n"
     ]
    },
    {
     "name": "stdout",
     "output_type": "stream",
     "text": [
      "The Anil kumar\n"
     ]
    }
   ],
   "source": [
    "# The Anil kumar is a very good cutomer, bought 3045 sales from our portal, we got 20000 profit\n",
    "customer_name=input('Enter customer name:')\n",
    "#num_of_sales_orders= input('Enter sales orders:')\n",
    "#profit = input('Enter profit')\n",
    "s='The'\n",
    "print(s+\" \"+ customer_name)\n"
   ]
  },
  {
   "cell_type": "code",
   "execution_count": 19,
   "id": "49791939-79aa-4d0c-a974-7d9f75eb9d1c",
   "metadata": {},
   "outputs": [
    {
     "name": "stdin",
     "output_type": "stream",
     "text": [
      "Enter customer name: Anil Kumar\n",
      "Enter sales orders: 3045\n"
     ]
    },
    {
     "name": "stdout",
     "output_type": "stream",
     "text": [
      "The Anil Kumar is a very good cutomer, bought 3045\n"
     ]
    }
   ],
   "source": [
    "# The Anil kumar is a very good cutomer, bought 3045 sales from our portal, we got 20000 profit\n",
    "customer_name=input('Enter customer name:')\n",
    "num_of_sales_orders= input('Enter sales orders:')\n",
    "#profit = input('Enter profit')\n",
    "s='The '+ customer_name + ' is a very good cutomer, bought '+num_of_sales_orders\n",
    "print(s)"
   ]
  },
  {
   "cell_type": "code",
   "execution_count": 25,
   "id": "cdbe4a2f-51d1-4a7f-9629-240cc0319df3",
   "metadata": {},
   "outputs": [
    {
     "name": "stdin",
     "output_type": "stream",
     "text": [
      "Enter customer name: Anil\n",
      "Enter sales orders: 3045\n",
      "Enter profit 20000\n"
     ]
    },
    {
     "name": "stdout",
     "output_type": "stream",
     "text": [
      "The Anil is a very good cutomer, bought 3045 sales from our portal, we got \n"
     ]
    }
   ],
   "source": [
    "# The Anil kumar is a very good cutomer, bought 3045 sales from our portal, we got 20000 profit\n",
    "customer_name=input('Enter customer name:')\n",
    "num_of_sales_orders= input('Enter sales orders:')\n",
    "profit = input('Enter profit')\n",
    "s='The '+ customer_name + ' is a very good cutomer, bought '+num_of_sales_orders+' sales from our portal, we got ' \n",
    "print(s)"
   ]
  },
  {
   "cell_type": "code",
   "execution_count": 17,
   "id": "3bbcffe8-b3d3-4eae-8b37-8c4f0611dfba",
   "metadata": {},
   "outputs": [
    {
     "name": "stdin",
     "output_type": "stream",
     "text": [
      "Enter customer name: Anil\n",
      "Enter sales orders: 3045\n",
      "Enter profit 20000\n"
     ]
    },
    {
     "name": "stdout",
     "output_type": "stream",
     "text": [
      "The Anil is a very good cutomer, bought 3045 sales from our portal, we got 20000 profit \n"
     ]
    }
   ],
   "source": [
    "# The Anil kumar is a very good cutomer, bought 3045 sales from our portal, we got 20000 profit\n",
    "customer_name=input('Enter customer name:')\n",
    "num_of_sales_orders= input('Enter sales orders:')\n",
    "profit = input('Enter profit')\n",
    "s='The '+ customer_name + ' is a very good cutomer, bought '+num_of_sales_orders+' sales from our portal, we got '+profit+' profit '\n",
    "print(s)"
   ]
  },
  {
   "cell_type": "code",
   "execution_count": 27,
   "id": "9b037671-441a-4a69-a0ce-4a29c52d7659",
   "metadata": {},
   "outputs": [
    {
     "name": "stdin",
     "output_type": "stream",
     "text": [
      "Enter customer name: Allu Arjun\n",
      "Enter sales orders: 2345\n",
      "Enter profit 7890\n"
     ]
    },
    {
     "name": "stdout",
     "output_type": "stream",
     "text": [
      "The Allu Arjun is a very good cutomer, bought 2345 sales from our portal, we got 7890 profit \n"
     ]
    }
   ],
   "source": [
    "# The Anil kumar is a very good cutomer, bought 3045 sales from our portal, we got 20000 profit\n",
    "customer_name=input('Enter customer name:')\n",
    "num_of_sales_orders= input('Enter sales orders:')\n",
    "profit = input('Enter profit')\n",
    "s='The '+ customer_name + ' is a very good cutomer, bought '+num_of_sales_orders+' sales from our portal, we got '+profit+' profit '\n",
    "print(s)"
   ]
  },
  {
   "cell_type": "code",
   "execution_count": 11,
   "id": "24b3cbf5-e303-415c-a7eb-b3db1e4da036",
   "metadata": {},
   "outputs": [
    {
     "name": "stdin",
     "output_type": "stream",
     "text": [
      "Enter customer name: sadsa\n",
      "Enter sales orders: 2434\n",
      "Enter profit 234345\n"
     ]
    },
    {
     "name": "stdout",
     "output_type": "stream",
     "text": [
      "The sadsa is a very good cutomer, bought 2434 sales from our portal, we got 234345 profit \n"
     ]
    }
   ],
   "source": [
    "# The Anil kumar is a very good cutomer, bought 3045 sales from our portal, we got 20000 profit\n",
    "customer_name=input('Enter customer name:')\n",
    "num_of_sales_orders= input('Enter sales orders:')\n",
    "profit = input('Enter profit')\n",
    "s='The '+ customer_name + ' is a very good cutomer, bought '+num_of_sales_orders+ ' sales from our portal, we got '+profit+' profit '\n",
    "print(s)"
   ]
  },
  {
   "cell_type": "code",
   "execution_count": 15,
   "id": "12e95b60-2460-48d3-8347-ee0171d4a5d0",
   "metadata": {},
   "outputs": [
    {
     "name": "stdin",
     "output_type": "stream",
     "text": [
      "Enter customer name: teju\n"
     ]
    },
    {
     "name": "stdout",
     "output_type": "stream",
     "text": [
      "The teju is a very good customer\n"
     ]
    }
   ],
   "source": [
    "customer_name=input('Enter customer name:')\n",
    "print(f\"The {customer_name} is a very good customer\") ## template string f string"
   ]
  },
  {
   "cell_type": "code",
   "execution_count": 21,
   "id": "44445aff-393b-4015-8eff-4c6a95a47b08",
   "metadata": {},
   "outputs": [
    {
     "name": "stdin",
     "output_type": "stream",
     "text": [
      "Enter customer name: dhanusha\n",
      "Enter sales orders: 34564\n",
      "Enter profit 5432\n"
     ]
    },
    {
     "name": "stdout",
     "output_type": "stream",
     "text": [
      "The dhanusha is a very good customer, bought 34564\n",
      " sales from our portal, we got 5432\n"
     ]
    }
   ],
   "source": [
    "customer_name=input('Enter customer name:')\n",
    "num_of_sales_orders= input('Enter sales orders:')\n",
    "profit = input('Enter profit')\n",
    "print(f\"The {customer_name} is a very good customer, bought {num_of_sales_orders}\\n sales from our portal, we got {profit}\")"
   ]
  },
  {
   "cell_type": "code",
   "execution_count": 33,
   "id": "19a096d2-c85a-47fd-af6e-bcf6e654877c",
   "metadata": {},
   "outputs": [
    {
     "name": "stdout",
     "output_type": "stream",
     "text": [
      "the product cost: 1000\n"
     ]
    }
   ],
   "source": [
    "a=\"1000\"\n",
    "print(f\"the product cost: {a}\")"
   ]
  },
  {
   "cell_type": "code",
   "execution_count": 37,
   "id": "900b3264-c948-44c7-9883-f2e07e33d494",
   "metadata": {},
   "outputs": [
    {
     "ename": "TypeError",
     "evalue": "can only concatenate str (not \"int\") to str",
     "output_type": "error",
     "traceback": [
      "\u001b[1;31m---------------------------------------------------------------------------\u001b[0m",
      "\u001b[1;31mTypeError\u001b[0m                                 Traceback (most recent call last)",
      "Cell \u001b[1;32mIn[37], line 2\u001b[0m\n\u001b[0;32m      1\u001b[0m a\u001b[38;5;241m=\u001b[39m\u001b[38;5;241m1000\u001b[39m\n\u001b[1;32m----> 2\u001b[0m \u001b[38;5;28mprint\u001b[39m(\u001b[38;5;124mf\u001b[39m\u001b[38;5;124m\"\u001b[39m\u001b[38;5;124mthe product cost:\u001b[39m\u001b[38;5;124m\"\u001b[39m\u001b[38;5;241m+\u001b[39ma)\n",
      "\u001b[1;31mTypeError\u001b[0m: can only concatenate str (not \"int\") to str"
     ]
    }
   ],
   "source": [
    "a=1000\n",
    "print(f\"the product cost:\"+a)"
   ]
  },
  {
   "cell_type": "code",
   "execution_count": 41,
   "id": "10814225-bbec-4f48-b475-da9db0a340d8",
   "metadata": {},
   "outputs": [
    {
     "name": "stdout",
     "output_type": "stream",
     "text": [
      "the product cost:1000\n"
     ]
    }
   ],
   "source": [
    "a=1000\n",
    "print(f\"the product cost:\"+str(a))"
   ]
  },
  {
   "cell_type": "code",
   "execution_count": 43,
   "id": "73056c91-6852-489c-befc-a8fcc4871eab",
   "metadata": {},
   "outputs": [
    {
     "name": "stdout",
     "output_type": "stream",
     "text": [
      "the product cost:  1000.233450\n"
     ]
    }
   ],
   "source": [
    "cost=1000.23345\n",
    "print(f\"the product cost: {cost: f}\")"
   ]
  },
  {
   "cell_type": "code",
   "execution_count": 47,
   "id": "4648c8bc-02ae-47aa-8118-6bbbe612be13",
   "metadata": {},
   "outputs": [
    {
     "name": "stdout",
     "output_type": "stream",
     "text": [
      "the product cost: 1000\n"
     ]
    }
   ],
   "source": [
    "cost=1000.23345\n",
    "print(f\"the product cost: {int(cost)}\")"
   ]
  },
  {
   "cell_type": "code",
   "execution_count": 53,
   "id": "eb4e87d5-2710-44a9-928e-452ee23144a3",
   "metadata": {},
   "outputs": [
    {
     "name": "stdout",
     "output_type": "stream",
     "text": [
      "the product cost:  1000.233454\n"
     ]
    }
   ],
   "source": [
    "cost=1000.233454365756\n",
    "print(f\"the product cost: {cost: f}\") # it give only six digits after dot(.) in float"
   ]
  },
  {
   "cell_type": "code",
   "execution_count": 57,
   "id": "4f6690b7-700d-4f17-a770-4ae6c839da1b",
   "metadata": {},
   "outputs": [
    {
     "name": "stdout",
     "output_type": "stream",
     "text": [
      "the product cost:  1000.23\n"
     ]
    }
   ],
   "source": [
    "cost=1000.233454365756\n",
    "print(f\"the product cost: {cost: .2f}\") # .2f will use for particular digits after point"
   ]
  },
  {
   "cell_type": "code",
   "execution_count": 59,
   "id": "2354d96f-93ec-42b2-9138-b052728591e1",
   "metadata": {},
   "outputs": [
    {
     "name": "stdout",
     "output_type": "stream",
     "text": [
      "the product cost:  1000.233\n"
     ]
    }
   ],
   "source": [
    "cost=1000.233454365756\n",
    "print(f\"the product cost: {cost: .3f}\")"
   ]
  },
  {
   "cell_type": "code",
   "execution_count": null,
   "id": "03cf9b2c-9d4b-4067-81ee-66a1fc2a8546",
   "metadata": {},
   "outputs": [],
   "source": [
    "#format specifiers: %s, %d, %r, %f"
   ]
  },
  {
   "cell_type": "code",
   "execution_count": 61,
   "id": "ab5876e0-4624-4171-a5ac-3457c4e21655",
   "metadata": {},
   "outputs": [
    {
     "name": "stdout",
     "output_type": "stream",
     "text": [
      "the product cost: %s 1000.233454365756\n"
     ]
    }
   ],
   "source": [
    "cost=1000.233454365756\n",
    "print(f\"the product cost: %s\", cost) #he camera if you if you we have given a comma here instead of percentile. we got a space after percentile S because we given a comma and it is printed as it is the value the float object value."
   ]
  },
  {
   "cell_type": "code",
   "execution_count": 65,
   "id": "647f69f8-0e3c-4561-bbe4-47e33745eaf2",
   "metadata": {},
   "outputs": [
    {
     "name": "stdout",
     "output_type": "stream",
     "text": [
      "the product cost: 1000.233454365756\n"
     ]
    }
   ],
   "source": [
    "cost=1000.233454365756\n",
    "print(f\"the product cost: %s\"%cost) #instead of comma we have used a person tile to separate a hardcoded string object and they float object. Because of this percentile separation, Python will recognize the format specifier percentile S"
   ]
  },
  {
   "cell_type": "code",
   "execution_count": 67,
   "id": "c29aad4b-d6f0-4ded-81b9-71f5ded1c987",
   "metadata": {},
   "outputs": [
    {
     "ename": "SyntaxError",
     "evalue": "invalid syntax (4190487592.py, line 2)",
     "output_type": "error",
     "traceback": [
      "\u001b[1;36m  Cell \u001b[1;32mIn[67], line 2\u001b[1;36m\u001b[0m\n\u001b[1;33m    print(f\"the product cost: %s\",%cost)\u001b[0m\n\u001b[1;37m                                  ^\u001b[0m\n\u001b[1;31mSyntaxError\u001b[0m\u001b[1;31m:\u001b[0m invalid syntax\n"
     ]
    }
   ],
   "source": [
    "cost=1000.233454365756\n",
    "print(f\"the product cost: %s\",%cost)"
   ]
  },
  {
   "cell_type": "code",
   "execution_count": 69,
   "id": "b1ce80fc-fd2c-4338-a4aa-15c51a58cd08",
   "metadata": {},
   "outputs": [
    {
     "name": "stdout",
     "output_type": "stream",
     "text": [
      "the product cost: 1000.233454\n"
     ]
    }
   ],
   "source": [
    "cost=1000.233454365756\n",
    "print(f\"the product cost: %f\"%cost)"
   ]
  },
  {
   "cell_type": "code",
   "execution_count": 71,
   "id": "934f58fc-447c-405a-8938-a62a846039f8",
   "metadata": {},
   "outputs": [
    {
     "name": "stdout",
     "output_type": "stream",
     "text": [
      "the product cost: 1000\n"
     ]
    }
   ],
   "source": [
    "cost=1000.233454365756\n",
    "print(f\"the product cost: %d\"%cost)"
   ]
  },
  {
   "cell_type": "code",
   "execution_count": 73,
   "id": "808b88d5-147b-4526-903c-5ec4a731b5d8",
   "metadata": {},
   "outputs": [
    {
     "name": "stdout",
     "output_type": "stream",
     "text": [
      "saffgrtshyrhrtd \n",
      " sagsergtrh\n"
     ]
    }
   ],
   "source": [
    "# speaial symbols '\\n(next line)' '\\t(default give four spaces)'\n",
    "print(\"saffgrtshyrhrtd \\n sagsergtrh\")"
   ]
  },
  {
   "cell_type": "code",
   "execution_count": 75,
   "id": "128a80bf-d55b-4fb4-859f-02d4f5368506",
   "metadata": {},
   "outputs": [
    {
     "name": "stdout",
     "output_type": "stream",
     "text": [
      "saffgrtshyrhrtd \t sagsergtrh\n"
     ]
    }
   ],
   "source": [
    "print(\"saffgrtshyrhrtd \\t sagsergtrh\")"
   ]
  },
  {
   "cell_type": "code",
   "execution_count": 87,
   "id": "7605f1fd-ce63-42fa-9dde-1908860020df",
   "metadata": {},
   "outputs": [
    {
     "name": "stdout",
     "output_type": "stream",
     "text": [
      "saffgrtshyrhrtd \\n sagse \\t rgtrh\n"
     ]
    }
   ],
   "source": [
    "# for saying python to not consider special symbol %r (raw symbol will not consider special symbolt)\n",
    "print(r\"saffgrtshyrhrtd \\n sagse \\t rgtrh\")"
   ]
  },
  {
   "cell_type": "code",
   "execution_count": 89,
   "id": "205518aa-3138-4c31-8f9a-3b8cc14e35ee",
   "metadata": {},
   "outputs": [
    {
     "name": "stdout",
     "output_type": "stream",
     "text": [
      "the product APPLE\n"
     ]
    }
   ],
   "source": [
    "cost=123.4\n",
    "discount=34\n",
    "total=345\n",
    "name='APPLE'\n",
    "print(\"the product %s\"%name)"
   ]
  },
  {
   "cell_type": "code",
   "execution_count": 97,
   "id": "26d13ea6-5ce7-4be3-a0a5-533dc5f71555",
   "metadata": {},
   "outputs": [
    {
     "name": "stdout",
     "output_type": "stream",
     "text": [
      "the product APPLE, cost:123.4576789786, discount:34\n"
     ]
    }
   ],
   "source": [
    "cost=123.4576789786\n",
    "discount=34\n",
    "total=345\n",
    "name='APPLE'\n",
    "print(\"the product %s, cost:%s, discount:%s\"%(name, cost, discount))"
   ]
  },
  {
   "cell_type": "code",
   "execution_count": 99,
   "id": "f358ee54-63b9-432b-a760-a5c25323cda2",
   "metadata": {},
   "outputs": [
    {
     "name": "stdout",
     "output_type": "stream",
     "text": [
      "the product APPLE, cost:123.46, discount:34\n"
     ]
    }
   ],
   "source": [
    "cost=123.4576789786\n",
    "discount=34.4567890\n",
    "total=345\n",
    "name='APPLE'\n",
    "print(\"the product %s, cost:%.2f, discount:%d, total: %s\"%(name, cost, discount))"
   ]
  },
  {
   "cell_type": "code",
   "execution_count": 101,
   "id": "7ec12b21-3d6b-400f-a59f-e84e89b12539",
   "metadata": {},
   "outputs": [
    {
     "name": "stdout",
     "output_type": "stream",
     "text": [
      "1\n"
     ]
    }
   ],
   "source": [
    "print(len(\"\\n\"))"
   ]
  },
  {
   "cell_type": "code",
   "execution_count": 103,
   "id": "d87b0407-71bc-4bc3-a9f7-05ceafb7ca7f",
   "metadata": {},
   "outputs": [
    {
     "name": "stdout",
     "output_type": "stream",
     "text": [
      "1\n"
     ]
    }
   ],
   "source": [
    "print(len(\"\\t\"))"
   ]
  },
  {
   "cell_type": "code",
   "execution_count": null,
   "id": "56d7e175-ad42-4fcd-be80-6857d8ab1037",
   "metadata": {},
   "outputs": [],
   "source": []
  }
 ],
 "metadata": {
  "kernelspec": {
   "display_name": "Python 3 (ipykernel)",
   "language": "python",
   "name": "python3"
  },
  "language_info": {
   "codemirror_mode": {
    "name": "ipython",
    "version": 3
   },
   "file_extension": ".py",
   "mimetype": "text/x-python",
   "name": "python",
   "nbconvert_exporter": "python",
   "pygments_lexer": "ipython3",
   "version": "3.12.4"
  }
 },
 "nbformat": 4,
 "nbformat_minor": 5
}
