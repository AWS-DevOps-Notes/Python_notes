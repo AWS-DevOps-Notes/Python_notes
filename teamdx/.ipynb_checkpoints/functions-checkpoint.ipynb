{
 "cells": [
  {
   "cell_type": "code",
   "execution_count": 7,
   "id": "276a5ca4-5d98-4c6d-87d7-25dfd06d4b3c",
   "metadata": {},
   "outputs": [
    {
     "name": "stdout",
     "output_type": "stream",
     "text": [
      "10 10\n",
      "20\n",
      "********************\n",
      "1\n",
      "10 10\n",
      "20\n",
      "********************\n",
      "2\n",
      "10 10\n",
      "20\n",
      "********************\n"
     ]
    }
   ],
   "source": [
    "def fun():\n",
    "    a=10\n",
    "    b=10\n",
    "    print(a,b)\n",
    "    res=a+b\n",
    "    print(res)\n",
    "    print('*'*20)\n",
    "fun()\n",
    "print('1')\n",
    "fun()\n",
    "print('2')\n",
    "fun()"
   ]
  },
  {
   "cell_type": "code",
   "execution_count": 9,
   "id": "165d1a3d-a12d-45c7-acfe-37e2fe06633d",
   "metadata": {},
   "outputs": [],
   "source": [
    "def fun():\n",
    "    print('hello') \n",
    "# print hello is not called function , so it is not executed"
   ]
  },
  {
   "cell_type": "code",
   "execution_count": 13,
   "id": "35ff8044-fec9-4de2-a723-159e9c9b528d",
   "metadata": {},
   "outputs": [
    {
     "name": "stdout",
     "output_type": "stream",
     "text": [
      "hi\n",
      "hello\n"
     ]
    }
   ],
   "source": [
    "def fun():  #only function body\n",
    "    print('hello')\n",
    "print('hi')\n",
    "fun() # print hello is  called function"
   ]
  },
  {
   "cell_type": "code",
   "execution_count": 17,
   "id": "032597d9-0996-4b4b-a265-84071b5c8a8e",
   "metadata": {},
   "outputs": [
    {
     "name": "stdout",
     "output_type": "stream",
     "text": [
      "hi\n"
     ]
    }
   ],
   "source": [
    "def fun1():\n",
    "    print('hello')\n",
    "def fun():\n",
    "    print('hi')\n",
    "fun()"
   ]
  },
  {
   "cell_type": "code",
   "execution_count": 19,
   "id": "1bc171f5-5ec7-4866-b4d5-8505e71cc1b3",
   "metadata": {},
   "outputs": [
    {
     "name": "stdout",
     "output_type": "stream",
     "text": [
      "hi\n",
      "hello\n"
     ]
    }
   ],
   "source": [
    "def fun1():\n",
    "    print('HYD')\n",
    "def fun():\n",
    "    print('hello')\n",
    "print('hi')\n",
    "fun()"
   ]
  },
  {
   "cell_type": "code",
   "execution_count": 21,
   "id": "972e3598-7ffb-4fef-9b07-a0242a66bab8",
   "metadata": {},
   "outputs": [
    {
     "name": "stdout",
     "output_type": "stream",
     "text": [
      "hi\n",
      "hello\n",
      "ban\n"
     ]
    }
   ],
   "source": [
    "def fun1():\n",
    "    print('HYD')\n",
    "def fun():\n",
    "    print('hello')\n",
    "print('hi')\n",
    "fun()\n",
    "print('ban')"
   ]
  },
  {
   "cell_type": "code",
   "execution_count": 23,
   "id": "15ffeca6-17ac-473f-a3b8-4c217e0957cf",
   "metadata": {},
   "outputs": [
    {
     "name": "stdout",
     "output_type": "stream",
     "text": [
      "hi\n",
      "hello\n",
      "ban\n",
      "hello\n"
     ]
    }
   ],
   "source": [
    "def fun1():\n",
    "    print('HYD')\n",
    "def fun():\n",
    "    print('hello')\n",
    "print('hi')\n",
    "fun()\n",
    "print('ban')\n",
    "fun()"
   ]
  },
  {
   "cell_type": "code",
   "execution_count": 25,
   "id": "18e6d94a-2e26-4546-b6b6-ffc5e98aee07",
   "metadata": {},
   "outputs": [
    {
     "name": "stdout",
     "output_type": "stream",
     "text": [
      "hi\n",
      "hello\n",
      "ban\n",
      "hello\n",
      "HYD\n"
     ]
    }
   ],
   "source": [
    "def fun1():\n",
    "    print('HYD')\n",
    "def fun():\n",
    "    print('hello')\n",
    "print('hi')\n",
    "fun()\n",
    "print('ban')\n",
    "fun()\n",
    "fun1()"
   ]
  },
  {
   "cell_type": "code",
   "execution_count": 27,
   "id": "9e8e2f93-a059-4b76-810c-8399b5c195ef",
   "metadata": {},
   "outputs": [
    {
     "name": "stdout",
     "output_type": "stream",
     "text": [
      "hi\n",
      "hello\n",
      "ban\n",
      "hello\n",
      "che\n",
      "HYD\n"
     ]
    }
   ],
   "source": [
    "def fun1():\n",
    "    print('HYD')\n",
    "def fun():\n",
    "    print('hello')\n",
    "print('hi')\n",
    "fun()\n",
    "print('ban')\n",
    "fun()\n",
    "print('che')\n",
    "fun1()"
   ]
  },
  {
   "cell_type": "code",
   "execution_count": 29,
   "id": "8c832917-2f55-4ece-bc7d-4a36262e8469",
   "metadata": {},
   "outputs": [
    {
     "name": "stdout",
     "output_type": "stream",
     "text": [
      "hi\n",
      "hello\n",
      "ban\n",
      "hello\n",
      "chennai\n",
      "HYD\n"
     ]
    }
   ],
   "source": [
    "def fun1():\n",
    "    print('HYD')\n",
    "def fun():\n",
    "    print('hello')\n",
    "print('hi')\n",
    "fun()\n",
    "print('ban')\n",
    "fun()\n",
    "print('chennai')\n",
    "fun1()"
   ]
  },
  {
   "cell_type": "code",
   "execution_count": 31,
   "id": "e20188e2-fa72-4080-84c1-66c199d68cae",
   "metadata": {},
   "outputs": [
    {
     "name": "stdout",
     "output_type": "stream",
     "text": [
      "hi\n",
      "hello\n",
      "ban\n",
      "hello\n",
      "HYD\n",
      "hello\n"
     ]
    }
   ],
   "source": [
    "def fun1():\n",
    "    print('HYD')\n",
    "def fun():\n",
    "    print('hello')\n",
    "print('hi')\n",
    "fun()\n",
    "print('ban')\n",
    "fun()\n",
    "fun1()\n",
    "fun()"
   ]
  },
  {
   "cell_type": "code",
   "execution_count": null,
   "id": "9800209b-5cdd-4523-a6e1-bac19eb1f437",
   "metadata": {},
   "outputs": [],
   "source": [
    "def add(x,y):  # function keyword is 'def'\n",
    "    print(f'x={x},y={y}')\n",
    "    z=x+y\n",
    "    print('z=',z)\n",
    "print('hello')\n",
    "add(1,2)"
   ]
  },
  {
   "cell_type": "code",
   "execution_count": 33,
   "id": "35fa7850-f7ff-4d02-8d0c-7c7ca510cf6f",
   "metadata": {},
   "outputs": [
    {
     "name": "stdout",
     "output_type": "stream",
     "text": [
      "hello\n",
      "x=1,y=2\n",
      "z= 3\n"
     ]
    }
   ],
   "source": [
    "def add(x,y):  # x=1, y=2\n",
    "    print(f'x={x},y={y}')\n",
    "    z=x+y\n",
    "    print('z=',z)\n",
    "print('hello')\n",
    "add(1,2)"
   ]
  },
  {
   "cell_type": "code",
   "execution_count": 35,
   "id": "58007108-c048-49fc-9416-0cc60f6c1361",
   "metadata": {},
   "outputs": [
    {
     "name": "stdout",
     "output_type": "stream",
     "text": [
      "hello\n",
      "x=1,y=2\n",
      "z= 3\n",
      "hi\n",
      "x=10,y=20\n",
      "z= 30\n"
     ]
    }
   ],
   "source": [
    "def add(x,y):  # x=1, y=2\n",
    "    print(f'x={x},y={y}')\n",
    "    z=x+y\n",
    "    print('z=',z)\n",
    "print('hello')\n",
    "add(1,2)\n",
    "print('hi')\n",
    "add(10,20)"
   ]
  },
  {
   "cell_type": "code",
   "execution_count": 37,
   "id": "e431b37a-9331-4d3f-b381-48066dadc82f",
   "metadata": {},
   "outputs": [
    {
     "name": "stdout",
     "output_type": "stream",
     "text": [
      "hello\n",
      "x=1,y=2\n",
      "z= 3\n",
      "hi\n",
      "x=10,y=20\n",
      "z= 30\n"
     ]
    }
   ],
   "source": [
    "def add(x,y):  # x=1, y=2\n",
    "    print(f'x={x},y={y}')\n",
    "    z=x+y\n",
    "    print('z=',z)\n",
    "def sub(a,b):\n",
    "    res=a-b\n",
    "    print(res)\n",
    "print('hello')\n",
    "add(1,2)\n",
    "print('hi')\n",
    "add(10,20)"
   ]
  },
  {
   "cell_type": "code",
   "execution_count": null,
   "id": "c6251db9-2572-4c89-8d16-c248c010c60d",
   "metadata": {},
   "outputs": [],
   "source": []
  },
  {
   "cell_type": "code",
   "execution_count": null,
   "id": "2167cdd1-8b9c-4c32-a5a2-255f83eb10c5",
   "metadata": {},
   "outputs": [],
   "source": []
  },
  {
   "cell_type": "code",
   "execution_count": null,
   "id": "213a8287-b52f-4b45-ba81-fb9c733ff3b7",
   "metadata": {},
   "outputs": [],
   "source": []
  },
  {
   "cell_type": "code",
   "execution_count": 1,
   "id": "945cd650-d5d6-48fd-a685-94cf8fba9809",
   "metadata": {},
   "outputs": [
    {
     "name": "stdout",
     "output_type": "stream",
     "text": [
      "values before function definition: x=1000,y=2000,z=3000\n",
      "result 579\n",
      "values within function definition: x=4000,y=5000,z=6000\n",
      "values after function call: x=4000,y=2000,z=3000\n",
      "579\n"
     ]
    }
   ],
   "source": [
    "x=1000\n",
    "y=2000\n",
    "z=3000\n",
    "print(f\"values before function definition: x={x},y={y},z={z}\")\n",
    "def fun(a,b):\n",
    "    global x\n",
    "    x=4000\n",
    "    y=5000\n",
    "    z=6000\n",
    "    c=a+b\n",
    "    print(\"result\",c)\n",
    "    print(f\"values within function definition: x={x},y={y},z={z}\")\n",
    "    return c\n",
    "res=fun(123,456)\n",
    "print(f\"values after function call: x={x},y={y},z={z}\")\n",
    "print(res)"
   ]
  },
  {
   "cell_type": "code",
   "execution_count": 5,
   "id": "831caf9a-dfe6-4dc7-a7b9-329aa8faf4b8",
   "metadata": {},
   "outputs": [
    {
     "name": "stdout",
     "output_type": "stream",
     "text": [
      "program started\n",
      "hello\n",
      "10\n",
      "program ended\n"
     ]
    }
   ],
   "source": [
    "print('program started')\n",
    "def fun():\n",
    "    print('hello')\n",
    "    return 10\n",
    "    print('HI')\n",
    "    return 20\n",
    "    print('BYE')\n",
    "    return 30\n",
    "res=fun()\n",
    "print(res)\n",
    "print('program ended')"
   ]
  },
  {
   "cell_type": "code",
   "execution_count": 7,
   "id": "6e846a74-cd7c-47e0-b3c1-c30dda66d7e4",
   "metadata": {},
   "outputs": [
    {
     "name": "stdout",
     "output_type": "stream",
     "text": [
      "program started\n",
      "<generator object fun at 0x00000172F1EB5FC0>\n",
      "program ended\n"
     ]
    }
   ],
   "source": [
    "print('program started')\n",
    "def fun():  # function defination is not executed\n",
    "    print('hello')\n",
    "    yield 10\n",
    "    print('HI')\n",
    "    yield 20\n",
    "    print('BYE')\n",
    "    yield 30\n",
    "res=fun() # function call need to execute function defination \n",
    "print(res)\n",
    "print('program ended')"
   ]
  },
  {
   "cell_type": "code",
   "execution_count": 13,
   "id": "f0c67348-6f55-46ed-9f69-b66f72086925",
   "metadata": {},
   "outputs": [
    {
     "name": "stdout",
     "output_type": "stream",
     "text": [
      "program started\n",
      "<generator object fun at 0x00000172F1EB59C0>\n",
      "hello\n",
      "r1= 10\n",
      "program ended\n"
     ]
    }
   ],
   "source": [
    "print('program started')\n",
    "def fun():  \n",
    "    print('hello')\n",
    "    yield 10\n",
    "    print('HI')\n",
    "    yield 20\n",
    "    print('BYE')\n",
    "    yield 30\n",
    "res=fun() # it will create generate object, that object is reffered by \"res\"\n",
    "print(res) \n",
    "r1=next(res)\n",
    "print('r1=',r1)\n",
    "print('program ended')"
   ]
  },
  {
   "cell_type": "code",
   "execution_count": 15,
   "id": "3de056ca-8d28-42a6-a187-4028edddd9f0",
   "metadata": {},
   "outputs": [
    {
     "ename": "TypeError",
     "evalue": "'list' object is not an iterator",
     "output_type": "error",
     "traceback": [
      "\u001b[1;31m---------------------------------------------------------------------------\u001b[0m",
      "\u001b[1;31mTypeError\u001b[0m                                 Traceback (most recent call last)",
      "Cell \u001b[1;32mIn[15], line 2\u001b[0m\n\u001b[0;32m      1\u001b[0m l\u001b[38;5;241m=\u001b[39m[\u001b[38;5;241m1\u001b[39m,\u001b[38;5;241m2\u001b[39m,\u001b[38;5;241m3\u001b[39m,\u001b[38;5;241m4\u001b[39m]\n\u001b[1;32m----> 2\u001b[0m k\u001b[38;5;241m=\u001b[39m\u001b[38;5;28mnext\u001b[39m(l)\n\u001b[0;32m      3\u001b[0m \u001b[38;5;28mprint\u001b[39m(k)\n",
      "\u001b[1;31mTypeError\u001b[0m: 'list' object is not an iterator"
     ]
    }
   ],
   "source": [
    "l=[1,2,3,4]\n",
    "k=next(l)\n",
    "print(k)"
   ]
  },
  {
   "cell_type": "code",
   "execution_count": 19,
   "id": "4527441d-33e8-4bb0-86d6-493fd487bf21",
   "metadata": {},
   "outputs": [
    {
     "name": "stdout",
     "output_type": "stream",
     "text": [
      "program started\n",
      "<generator object fun at 0x00000172F36E6F80>\n",
      "hello\n",
      "r1= 10\n",
      "HI\n",
      "r2= 20\n",
      "BYE\n",
      "r3= 30\n",
      "program ended\n"
     ]
    }
   ],
   "source": [
    "print('program started')\n",
    "def fun():   # memory allocation \n",
    "    print('hello')\n",
    "    yield 10  # fun call generator object will create \n",
    "    print('HI')\n",
    "    yield 20\n",
    "    print('BYE')\n",
    "    yield 30\n",
    "res=fun() # it will create generate object, that object is reffered by \"res\"\n",
    "print(res) \n",
    "r1=next(res) # first yield fun will exectute\n",
    "print('r1=',r1)\n",
    "r2=next(res)\n",
    "print('r2=',r2)\n",
    "r3=next(res)\n",
    "print('r3=',r3)\n",
    "print('program ended')"
   ]
  },
  {
   "cell_type": "code",
   "execution_count": 21,
   "id": "8bd505ba-95c3-4f15-bd78-ff4a17fa94b9",
   "metadata": {},
   "outputs": [
    {
     "name": "stdout",
     "output_type": "stream",
     "text": [
      "program started\n",
      "<generator object fun at 0x00000172F1EB59C0>\n",
      "hello\n",
      "r1= 10\n",
      "HI\n",
      "r2= 20\n",
      "BYE\n",
      "r3= 30\n"
     ]
    },
    {
     "ename": "StopIteration",
     "evalue": "",
     "output_type": "error",
     "traceback": [
      "\u001b[1;31m---------------------------------------------------------------------------\u001b[0m",
      "\u001b[1;31mStopIteration\u001b[0m                             Traceback (most recent call last)",
      "Cell \u001b[1;32mIn[21], line 17\u001b[0m\n\u001b[0;32m     15\u001b[0m r3\u001b[38;5;241m=\u001b[39m\u001b[38;5;28mnext\u001b[39m(res)\n\u001b[0;32m     16\u001b[0m \u001b[38;5;28mprint\u001b[39m(\u001b[38;5;124m'\u001b[39m\u001b[38;5;124mr3=\u001b[39m\u001b[38;5;124m'\u001b[39m,r3)\n\u001b[1;32m---> 17\u001b[0m r4\u001b[38;5;241m=\u001b[39m\u001b[38;5;28mnext\u001b[39m(res)\n\u001b[0;32m     18\u001b[0m \u001b[38;5;28mprint\u001b[39m(\u001b[38;5;124m'\u001b[39m\u001b[38;5;124mr4=\u001b[39m\u001b[38;5;124m'\u001b[39m,r4)\n\u001b[0;32m     19\u001b[0m \u001b[38;5;28mprint\u001b[39m(\u001b[38;5;124m'\u001b[39m\u001b[38;5;124mprogram ended\u001b[39m\u001b[38;5;124m'\u001b[39m)\n",
      "\u001b[1;31mStopIteration\u001b[0m: "
     ]
    }
   ],
   "source": [
    "print('program started')\n",
    "def fun():   # memory allocation will be created in stack\n",
    "    print('hello')\n",
    "    yield 10  # fun call generator object will create \n",
    "    print('HI')\n",
    "    yield 20\n",
    "    print('BYE')\n",
    "    yield 30\n",
    "res=fun() # it will create generate object, that object is reffered by \"res\"\n",
    "print(res) \n",
    "r1=next(res) # first yield fun will exectute\n",
    "print('r1=',r1)\n",
    "r2=next(res)\n",
    "print('r2=',r2)\n",
    "r3=next(res)\n",
    "print('r3=',r3)\n",
    "r4=next(res)\n",
    "print('r4=',r4)\n",
    "print('program ended')"
   ]
  },
  {
   "cell_type": "code",
   "execution_count": 25,
   "id": "48527a3c-d9b4-4b58-99b8-d845eff73bb9",
   "metadata": {},
   "outputs": [
    {
     "name": "stdout",
     "output_type": "stream",
     "text": [
      "program started\n",
      "<generator object fun at 0x00000172F1EB59C0>\n",
      "hello\n",
      "k= 10\n",
      "HI\n",
      "k= 20\n",
      "BYE\n",
      "k= 30\n",
      "program ended\n"
     ]
    }
   ],
   "source": [
    "print('program started')\n",
    "def fun():   # memory allocation will be created in stack\n",
    "    print('hello')\n",
    "    yield 10  # fun call generator object will create \n",
    "    print('HI')\n",
    "    yield 20\n",
    "    print('BYE')\n",
    "    yield 30\n",
    "res=fun() # it will create generate object, that object is reffered by \"res\"\n",
    "print(res) \n",
    "for k in res:  # k = 10, k=20, k = 30, stopinteration (exception object will through automaticaly and exit automatically from function) and written next print statement  \n",
    "    print('k=',k)\n",
    "print('program ended')"
   ]
  },
  {
   "cell_type": "code",
   "execution_count": 1,
   "id": "94cc3767-8327-4523-8f38-bf7cb65bdf6f",
   "metadata": {},
   "outputs": [
    {
     "name": "stdout",
     "output_type": "stream",
     "text": [
      "result= <function fun at 0x000002902B7240E0>\n"
     ]
    }
   ],
   "source": [
    "def fun():\n",
    "    print('HELLO')\n",
    "    return 20\n",
    "res=fun\n",
    "print('result=',res)"
   ]
  },
  {
   "cell_type": "code",
   "execution_count": 19,
   "id": "5766f140-90d1-4528-b163-1923c0a18855",
   "metadata": {},
   "outputs": [
    {
     "name": "stdout",
     "output_type": "stream",
     "text": [
      "this is operation\n",
      "x=2,y=4\n",
      "result= -2\n",
      "r1= None\n",
      "this is operation\n",
      "x=4,y=5\n",
      "result= 9\n",
      "r2= None\n"
     ]
    }
   ],
   "source": [
    "def add(x,y):\n",
    "    print(f\"x={x},y={y}\")\n",
    "    return x+y\n",
    "def sub(x,y):\n",
    "    print(f\"x={x},y={y}\")\n",
    "    return x-y\n",
    "def operation(fun,a,b):\n",
    "    print('this is operation')\n",
    "    res=fun(a,b)                #sub(a,b) reference\n",
    "    print(\"result=\",res)\n",
    "r1=operation(sub,2,4)\n",
    "print('r1=',r1)\n",
    "r2=operation(add,4,5)\n",
    "print('r2=',r2)"
   ]
  },
  {
   "cell_type": "code",
   "execution_count": null,
   "id": "315a0d28-a9f9-45b1-a5e5-b42d16b70322",
   "metadata": {},
   "outputs": [],
   "source": []
  }
 ],
 "metadata": {
  "kernelspec": {
   "display_name": "Python 3 (ipykernel)",
   "language": "python",
   "name": "python3"
  },
  "language_info": {
   "codemirror_mode": {
    "name": "ipython",
    "version": 3
   },
   "file_extension": ".py",
   "mimetype": "text/x-python",
   "name": "python",
   "nbconvert_exporter": "python",
   "pygments_lexer": "ipython3",
   "version": "3.12.4"
  }
 },
 "nbformat": 4,
 "nbformat_minor": 5
}
