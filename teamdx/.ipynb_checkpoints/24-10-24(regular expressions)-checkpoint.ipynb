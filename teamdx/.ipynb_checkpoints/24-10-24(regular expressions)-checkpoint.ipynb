{
 "cells": [
  {
   "cell_type": "code",
   "execution_count": 1,
   "id": "1c67baed-d41c-4893-9a1c-49303d54cfcb",
   "metadata": {},
   "outputs": [],
   "source": [
    "import re"
   ]
  },
  {
   "cell_type": "code",
   "execution_count": 3,
   "id": "3305a706-360f-4057-ac05-f260df9a1890",
   "metadata": {},
   "outputs": [
    {
     "name": "stdout",
     "output_type": "stream",
     "text": [
      "['A', 'ASCII', 'DEBUG', 'DOTALL', 'I', 'IGNORECASE', 'L', 'LOCALE', 'M', 'MULTILINE', 'Match', 'NOFLAG', 'Pattern', 'RegexFlag', 'S', 'Scanner', 'T', 'TEMPLATE', 'U', 'UNICODE', 'VERBOSE', 'X', '_MAXCACHE', '_MAXCACHE2', '__all__', '__builtins__', '__cached__', '__doc__', '__file__', '__loader__', '__name__', '__package__', '__path__', '__spec__', '__version__', '_cache', '_cache2', '_casefix', '_compile', '_compile_template', '_compiler', '_constants', '_parser', '_pickle', '_special_chars_map', '_sre', 'compile', 'copyreg', 'enum', 'error', 'escape', 'findall', 'finditer', 'fullmatch', 'functools', 'match', 'purge', 'search', 'split', 'sub', 'subn', 'template']\n"
     ]
    }
   ],
   "source": [
    "print(dir(re))"
   ]
  },
  {
   "cell_type": "code",
   "execution_count": 7,
   "id": "10b795d2-4574-4364-96de-023bf136a7f5",
   "metadata": {},
   "outputs": [
    {
     "name": "stdout",
     "output_type": "stream",
     "text": [
      "['abc2', '1231', '24rf', 'efs3', 'e32r']\n"
     ]
    }
   ],
   "source": [
    "s='abc2,1231,24rf,efs3,e32r'\n",
    "print(s.split(\",\"))"
   ]
  },
  {
   "cell_type": "code",
   "execution_count": 15,
   "id": "ee6aebad-70ea-45b9-a676-4a57710f4b6e",
   "metadata": {},
   "outputs": [
    {
     "name": "stdout",
     "output_type": "stream",
     "text": [
      "['abc', 'eff', 'sdfr', 'frfr', 'frfr']\n"
     ]
    }
   ],
   "source": [
    "s=\"abc3eff4sdfr5frfr5frfr6\"  # without delimeter how to split wheneven number digiti occurs\n",
    "res=[]\n",
    "sub=\"\"\n",
    "for i in s:\n",
    "    if i.isdigit():\n",
    "        res.append(sub)\n",
    "        sub=''\n",
    "    else:\n",
    "        sub=sub+i\n",
    "print(res)"
   ]
  },
  {
   "cell_type": "code",
   "execution_count": 19,
   "id": "abd0637e-fa9c-4347-ad81-d4278a6b9a45",
   "metadata": {},
   "outputs": [
    {
     "name": "stdout",
     "output_type": "stream",
     "text": [
      "['abc', 'eff', 'sdfr', 'frfr', 'frfr', 'r']\n"
     ]
    }
   ],
   "source": [
    "s=\"abc3eff4sdfr5frfr5frfr6r\" \n",
    "s1=re.split('[0123456789]',s)\n",
    "print(s1)"
   ]
  },
  {
   "cell_type": "code",
   "execution_count": 25,
   "id": "99d98047-4d54-456c-ba84-b058b9ea2a39",
   "metadata": {},
   "outputs": [
    {
     "name": "stdout",
     "output_type": "stream",
     "text": [
      "['abc', '', 'eff', '', 'sdfr', '', 'frfr', '', 'frfr', 'r']\n"
     ]
    }
   ],
   "source": [
    "s=\"abc32eff43sdfr52frfr52frfr6r\" \n",
    "s1=re.split('[0123456789]',s)\n",
    "print(s1)"
   ]
  },
  {
   "cell_type": "code",
   "execution_count": 27,
   "id": "46e510a8-18be-471c-aad2-cf9ead2c703b",
   "metadata": {},
   "outputs": [
    {
     "name": "stdout",
     "output_type": "stream",
     "text": [
      "['abc', 'eff', 'sdfr', 'frfr', 'frfr', 'r']\n"
     ]
    }
   ],
   "source": [
    "s=\"abc32eff43sdfr52frfr52frfr6r\" \n",
    "s1=re.split('[0123456789]+',s) # to remove space digit\n",
    "print(s1)"
   ]
  },
  {
   "cell_type": "code",
   "execution_count": 29,
   "id": "01215310-4a73-4b95-83bb-f9fea57c9890",
   "metadata": {},
   "outputs": [
    {
     "name": "stdout",
     "output_type": "stream",
     "text": [
      "['', 'a', 'b', 'c', '', '', 'e', 'f', 'f', '', '', 's', 'd', 'f', 'r', '', '', 'f', 'r', 'f', 'r', '', '', 'f', 'r', 'f', 'r', '', 'r', '']\n"
     ]
    }
   ],
   "source": [
    "s=\"abc32eff43sdfr52frfr52frfr6r\" \n",
    "s1=re.split('[0123456789]?',s)  # ? means zero or one ? ==> (0,1)\n",
    "print(s1)"
   ]
  },
  {
   "cell_type": "code",
   "execution_count": 31,
   "id": "56f5444b-de82-41d4-b64c-9085b5a81529",
   "metadata": {},
   "outputs": [
    {
     "name": "stdout",
     "output_type": "stream",
     "text": [
      "['abc', 'eff', 'sdfr', 'frfr', 'frfr', 'r']\n"
     ]
    }
   ],
   "source": [
    "s=\"abc32eff43sdfr52frfr52frfr6r\" \n",
    "s1=re.split('[0123456789]+',s) # + ==> (1 or many)\n",
    "print(s1)"
   ]
  },
  {
   "cell_type": "code",
   "execution_count": 33,
   "id": "663b954b-c89f-4db2-9af3-cbab1d0a0ac8",
   "metadata": {},
   "outputs": [
    {
     "name": "stdout",
     "output_type": "stream",
     "text": [
      "['', 'a', 'b', 'c', '', 'e', 'f', 'f', '', 's', 'd', 'f', 'r', '', 'f', 'r', 'f', 'r', '', 'f', 'r', 'f', 'r', '', 'r', '']\n"
     ]
    }
   ],
   "source": [
    "s=\"abc32eff43sdfr52frfr52frfr6r\" \n",
    "s1=re.split('[0123456789]*',s) # * ==> (0 or many)\n",
    "print(s1)"
   ]
  },
  {
   "cell_type": "code",
   "execution_count": 37,
   "id": "6bf2faed-c1c5-4f3b-93cc-6fe26d635140",
   "metadata": {},
   "outputs": [
    {
     "name": "stdout",
     "output_type": "stream",
     "text": [
      "['abc', '', '$eff', '', 's%dfr', '', 'frf&r', '', 'frfr', 'r']\n"
     ]
    }
   ],
   "source": [
    "s=\"abc32$eff43s%dfr52frf&r52frfr6r\" \n",
    "s1=re.split('[0-9]',s)\n",
    "print(s1)"
   ]
  },
  {
   "cell_type": "code",
   "execution_count": 41,
   "id": "c9f15f1f-fbbf-48cb-a2ea-e8163e64473c",
   "metadata": {},
   "outputs": [
    {
     "name": "stdout",
     "output_type": "stream",
     "text": [
      "['', '', '', '32', '', '', '', '43', '', '', '', '', '52', '', '', '', '', '52', '', '', '', '6', '']\n"
     ]
    }
   ],
   "source": [
    "s=\"abc32$eff43s%dfr52frf&r52frfr6r\" \n",
    "s1=re.split('[^0-9]',s) # ^ symbol ==> negative symbol\n",
    "print(s1)"
   ]
  },
  {
   "cell_type": "code",
   "execution_count": 45,
   "id": "dc163929-c29b-4647-92e7-fe9a5a7e6c2f",
   "metadata": {},
   "outputs": [
    {
     "name": "stdout",
     "output_type": "stream",
     "text": [
      "['abc32', 'eff43s', 'dfr52frf', 'r52frfr6r']\n"
     ]
    }
   ],
   "source": [
    "s=\"abc32$eff43s%dfr52frf&r52frfr6r\" \n",
    "s1=re.split('[^0-9a-z]',s) # special char removed\n",
    "print(s1)"
   ]
  },
  {
   "cell_type": "code",
   "execution_count": 47,
   "id": "57731284-be9c-4c71-ae0a-c8bce0a6d388",
   "metadata": {},
   "outputs": [
    {
     "name": "stdout",
     "output_type": "stream",
     "text": [
      "['abc32', 'eff43s', 'dfr52frf', 'r52frfr6r', '', '', '', '', '']\n"
     ]
    }
   ],
   "source": [
    "s=\"abc32$eff43s%dfr52frf&r52frfr6rASSDF\" \n",
    "s1=re.split('[^0-9a-z]',s) # special char removed BUT capital not removed\n",
    "print(s1)"
   ]
  },
  {
   "cell_type": "code",
   "execution_count": 49,
   "id": "49c3a71b-7b00-4752-bf0e-e8738b39b63a",
   "metadata": {},
   "outputs": [
    {
     "name": "stdout",
     "output_type": "stream",
     "text": [
      "['abc32', 'eff43s', 'dfr52frf&r52frfr6rASSDF']\n"
     ]
    }
   ],
   "source": [
    "s=\"abc32$eff43s%dfr52frf&r52frfr6rASSDF\" \n",
    "s1=re.split('[^0-9a-z]',s,re.I) #\n",
    "print(s1)"
   ]
  },
  {
   "cell_type": "code",
   "execution_count": 51,
   "id": "33a66198-7718-44af-aede-ee5b171ed849",
   "metadata": {},
   "outputs": [
    {
     "name": "stdout",
     "output_type": "stream",
     "text": [
      "['abc32', 'eff43s', 'dfr52frf', 'r52frfr6rASSDF']\n"
     ]
    }
   ],
   "source": [
    "s=\"abc32$eff43s%dfr52frf&r52frfr6rASSDF\" \n",
    "s1=re.split('[^0-9a-z]',s,flags=re.I) # (re.I means ignore case, which means for written patter it will apply case insensitive\n",
    "print(s1)"
   ]
  },
  {
   "cell_type": "code",
   "execution_count": null,
   "id": "94e6b031-1bc9-44d1-a42f-27de50fe3d1b",
   "metadata": {},
   "outputs": [],
   "source": [
    "# for regular expression we need to learn patterns"
   ]
  },
  {
   "cell_type": "code",
   "execution_count": 53,
   "id": "41bdf3d3-65ac-4630-886f-4db5caf15d46",
   "metadata": {},
   "outputs": [
    {
     "data": {
      "text/plain": [
       "\u001b[1;31mSignature:\u001b[0m \u001b[0mre\u001b[0m\u001b[1;33m.\u001b[0m\u001b[0msplit\u001b[0m\u001b[1;33m(\u001b[0m\u001b[0mpattern\u001b[0m\u001b[1;33m,\u001b[0m \u001b[0mstring\u001b[0m\u001b[1;33m,\u001b[0m \u001b[0mmaxsplit\u001b[0m\u001b[1;33m=\u001b[0m\u001b[1;36m0\u001b[0m\u001b[1;33m,\u001b[0m \u001b[0mflags\u001b[0m\u001b[1;33m=\u001b[0m\u001b[1;36m0\u001b[0m\u001b[1;33m)\u001b[0m\u001b[1;33m\u001b[0m\u001b[1;33m\u001b[0m\u001b[0m\n",
       "\u001b[1;31mDocstring:\u001b[0m\n",
       "Split the source string by the occurrences of the pattern,\n",
       "returning a list containing the resulting substrings.  If\n",
       "capturing parentheses are used in pattern, then the text of all\n",
       "groups in the pattern are also returned as part of the resulting\n",
       "list.  If maxsplit is nonzero, at most maxsplit splits occur,\n",
       "and the remainder of the string is returned as the final element\n",
       "of the list.\n",
       "\u001b[1;31mFile:\u001b[0m      c:\\users\\dhanusha\\anaconda3\\lib\\re\\__init__.py\n",
       "\u001b[1;31mType:\u001b[0m      function"
      ]
     },
     "metadata": {},
     "output_type": "display_data"
    }
   ],
   "source": [
    "re.split?"
   ]
  },
  {
   "cell_type": "code",
   "execution_count": 57,
   "id": "d9bcf9c9-e640-48fc-9b85-512ae6deedd0",
   "metadata": {},
   "outputs": [
    {
     "name": "stdout",
     "output_type": "stream",
     "text": [
      "['abc', 'eff', 'sdfr', '32frfr', 'frfr6r']\n"
     ]
    }
   ],
   "source": [
    "s=\"abc123eff412sdfr51232frfr525frfr6r\" \n",
    "s1=re.split('[0123456789]',s) # '+' -> (1 or many), '?' -> (0 or 1), '*' -> (0 or many) \n",
    "print(s1)"
   ]
  },
  {
   "cell_type": "code",
   "execution_count": 61,
   "id": "ea3ef3a4-439c-4744-bd0f-b962e4675b45",
   "metadata": {},
   "outputs": [
    {
     "name": "stdout",
     "output_type": "stream",
     "text": [
      "['abc', 'eff', 'sdfr', '32frfr', 'frfr6r']\n"
     ]
    }
   ],
   "source": [
    "s=\"abc123eff412sdfr51232frfr525frfr6r\" \n",
    "s1=re.split('[0123456789]{3}',s) # for every 3 continuous numbers only, i want split -> {} means number of iterations\n",
    "print(s1)"
   ]
  },
  {
   "cell_type": "code",
   "execution_count": 63,
   "id": "b4148e6c-b8e3-4786-8e16-19a3f7dcddac",
   "metadata": {},
   "outputs": [
    {
     "name": "stdout",
     "output_type": "stream",
     "text": [
      "['abc', 'eff', 'sdfr', '', 'frfr', 'frfr6r']\n"
     ]
    }
   ],
   "source": [
    "s=\"abc123eff412sdfr51232frfr525frfr6r\" \n",
    "s1=re.split('[0123456789]{2,3}',s) # for every 2 or 3 continuous numbers only, i want split -> {} means number of iterations\n",
    "print(s1)"
   ]
  },
  {
   "cell_type": "code",
   "execution_count": 71,
   "id": "4a4b6169-588a-4adc-be24-b7d8266dc094",
   "metadata": {},
   "outputs": [
    {
     "name": "stdout",
     "output_type": "stream",
     "text": [
      "College Admission Prediction System, allows users to register, \n",
      "log in, and manage their data to predict the chances of getting admission \n",
      "2024 into a college based on various parameters.\n"
     ]
    }
   ],
   "source": [
    "data = \"College Admission Prediction System, allows users to register, \\nlog in, and manage their data to predict the chances of getting admission \\n2024 into a college based on various parameters.\"\n",
    "print(data)"
   ]
  },
  {
   "cell_type": "code",
   "execution_count": 77,
   "id": "5ede0035-2e54-4e44-9d96-ef5ccc855fe0",
   "metadata": {},
   "outputs": [
    {
     "name": "stdout",
     "output_type": "stream",
     "text": [
      "True\n"
     ]
    }
   ],
   "source": [
    "print(data.startswith(\"C\"))"
   ]
  },
  {
   "cell_type": "code",
   "execution_count": 79,
   "id": "c9fdf327-6799-460b-9073-4008dec82672",
   "metadata": {},
   "outputs": [
    {
     "name": "stdout",
     "output_type": "stream",
     "text": [
      "['A', 'ASCII', 'DEBUG', 'DOTALL', 'I', 'IGNORECASE', 'L', 'LOCALE', 'M', 'MULTILINE', 'Match', 'NOFLAG', 'Pattern', 'RegexFlag', 'S', 'Scanner', 'T', 'TEMPLATE', 'U', 'UNICODE', 'VERBOSE', 'X', '_MAXCACHE', '_MAXCACHE2', '__all__', '__builtins__', '__cached__', '__doc__', '__file__', '__loader__', '__name__', '__package__', '__path__', '__spec__', '__version__', '_cache', '_cache2', '_casefix', '_compile', '_compile_template', '_compiler', '_constants', '_parser', '_pickle', '_special_chars_map', '_sre', 'compile', 'copyreg', 'enum', 'error', 'escape', 'findall', 'finditer', 'fullmatch', 'functools', 'match', 'purge', 'search', 'split', 'sub', 'subn', 'template']\n"
     ]
    }
   ],
   "source": [
    "print(dir(re))"
   ]
  },
  {
   "cell_type": "code",
   "execution_count": 87,
   "id": "50e4973a-e6a2-4917-9d9a-5f627aef800d",
   "metadata": {},
   "outputs": [
    {
     "name": "stdout",
     "output_type": "stream",
     "text": [
      "College Admission Prediction System, allows users to register, \n",
      "log in, and manage their data to predict the chances of getting admission \n",
      "2024 into a college based on various parameters.\n",
      "['C']\n"
     ]
    }
   ],
   "source": [
    "data = \"College Admission Prediction System, allows users to register, \\nlog in, and manage their data to predict the chances of getting admission \\n2024 into a college based on various parameters.\"\n",
    "print(data)\n",
    "print(re.findall(\"^[a-z]\",data,re.I)) # ^ -> this symbol will search cap in begining of line"
   ]
  },
  {
   "cell_type": "code",
   "execution_count": 89,
   "id": "f032ba4c-bbbe-4e61-a865-4ef8e157c621",
   "metadata": {},
   "outputs": [
    {
     "name": "stdout",
     "output_type": "stream",
     "text": [
      "College Admission Prediction System, allows users to register, \n",
      "log in, and manage their data to predict the chances of getting admission \n",
      "2024 into a college based on various parameters.\n",
      "['C', 'l']\n"
     ]
    }
   ],
   "source": [
    "data = \"College Admission Prediction System, allows users to register, \\nlog in, and manage their data to predict the chances of getting admission \\n2024 into a college based on various parameters.\"\n",
    "print(data)\n",
    "print(re.findall(\"^[a-z]\",data,re.I|re.M)) # re.M means multiline"
   ]
  },
  {
   "cell_type": "code",
   "execution_count": 91,
   "id": "c2cd6fd7-3d1e-4df4-ba91-4269469284ed",
   "metadata": {},
   "outputs": [
    {
     "name": "stdout",
     "output_type": "stream",
     "text": [
      "College Admission Prediction System, allows users to register, \n",
      "log in, and manage their data to predict the chances of getting admission \n",
      "2024 into a college based on various parameters.\n",
      "[' ', ' ', ' ', ',', ' ', ' ', ' ', ' ', ',', ' ', '\\n', ' ', ',', ' ', ' ', ' ', ' ', ' ', ' ', ' ', ' ', ' ', ' ', ' ', ' ', '\\n', '2', '0', '2', '4', ' ', ' ', ' ', ' ', ' ', ' ', ' ', '.']\n"
     ]
    }
   ],
   "source": [
    "data = \"College Admission Prediction System, allows users to register, \\nlog in, and manage their data to predict the chances of getting admission \\n2024 into a college based on various parameters.\"\n",
    "print(data)\n",
    "print(re.findall(\"[^a-z]\",data,re.I|re.M))"
   ]
  },
  {
   "cell_type": "code",
   "execution_count": 93,
   "id": "47869605-f69a-4b38-9b28-ef3f952caad2",
   "metadata": {},
   "outputs": [
    {
     "name": "stdout",
     "output_type": "stream",
     "text": [
      "College Admission Prediction System, allows users to register, \n",
      "log in, and manage their data to predict the chances of getting admission \n",
      "2024 into a college based on various parameters.\n",
      "['C', 'o', 'l', 'l', 'e', 'g', 'e', ' ', 'A', 'd', 'm', 'i', 's', 's', 'i', 'o', 'n', ' ', 'P', 'r', 'e', 'd', 'i', 'c', 't', 'i', 'o', 'n', ' ', 'S', 'y', 's', 't', 'e', 'm', ',', ' ', 'a', 'l', 'l', 'o', 'w', 's', ' ', 'u', 's', 'e', 'r', 's', ' ', 't', 'o', ' ', 'r', 'e', 'g', 'i', 's', 't', 'e', 'r', ',', ' ', 'l', 'o', 'g', ' ', 'i', 'n', ',', ' ', 'a', 'n', 'd', ' ', 'm', 'a', 'n', 'a', 'g', 'e', ' ', 't', 'h', 'e', 'i', 'r', ' ', 'd', 'a', 't', 'a', ' ', 't', 'o', ' ', 'p', 'r', 'e', 'd', 'i', 'c', 't', ' ', 't', 'h', 'e', ' ', 'c', 'h', 'a', 'n', 'c', 'e', 's', ' ', 'o', 'f', ' ', 'g', 'e', 't', 't', 'i', 'n', 'g', ' ', 'a', 'd', 'm', 'i', 's', 's', 'i', 'o', 'n', ' ', '2', '0', '2', '4', ' ', 'i', 'n', 't', 'o', ' ', 'a', ' ', 'c', 'o', 'l', 'l', 'e', 'g', 'e', ' ', 'b', 'a', 's', 'e', 'd', ' ', 'o', 'n', ' ', 'v', 'a', 'r', 'i', 'o', 'u', 's', ' ', 'p', 'a', 'r', 'a', 'm', 'e', 't', 'e', 'r', 's', '.']\n"
     ]
    }
   ],
   "source": [
    "data = \"College Admission Prediction System, allows users to register, \\nlog in, and manage their data to predict the chances of getting admission \\n2024 into a college based on various parameters.\"\n",
    "print(data)\n",
    "print(re.findall(\".\",data))"
   ]
  },
  {
   "cell_type": "code",
   "execution_count": 95,
   "id": "8e334761-23ab-44bc-9466-39e9bb529120",
   "metadata": {},
   "outputs": [
    {
     "name": "stdout",
     "output_type": "stream",
     "text": [
      "College Admission Prediction System, allows users to register, \n",
      "log in, and manage their data to predict the chances of getting admission \n",
      "2024 into a college based on various parameters.\n",
      "['C', 'o', 'l', 'l', 'e', 'g', 'e', ' ', 'A', 'd', 'm', 'i', 's', 's', 'i', 'o', 'n', ' ', 'P', 'r', 'e', 'd', 'i', 'c', 't', 'i', 'o', 'n', ' ', 'S', 'y', 's', 't', 'e', 'm', ',', ' ', 'a', 'l', 'l', 'o', 'w', 's', ' ', 'u', 's', 'e', 'r', 's', ' ', 't', 'o', ' ', 'r', 'e', 'g', 'i', 's', 't', 'e', 'r', ',', ' ', '\\n', 'l', 'o', 'g', ' ', 'i', 'n', ',', ' ', 'a', 'n', 'd', ' ', 'm', 'a', 'n', 'a', 'g', 'e', ' ', 't', 'h', 'e', 'i', 'r', ' ', 'd', 'a', 't', 'a', ' ', 't', 'o', ' ', 'p', 'r', 'e', 'd', 'i', 'c', 't', ' ', 't', 'h', 'e', ' ', 'c', 'h', 'a', 'n', 'c', 'e', 's', ' ', 'o', 'f', ' ', 'g', 'e', 't', 't', 'i', 'n', 'g', ' ', 'a', 'd', 'm', 'i', 's', 's', 'i', 'o', 'n', ' ', '\\n', '2', '0', '2', '4', ' ', 'i', 'n', 't', 'o', ' ', 'a', ' ', 'c', 'o', 'l', 'l', 'e', 'g', 'e', ' ', 'b', 'a', 's', 'e', 'd', ' ', 'o', 'n', ' ', 'v', 'a', 'r', 'i', 'o', 'u', 's', ' ', 'p', 'a', 'r', 'a', 'm', 'e', 't', 'e', 'r', 's', '.']\n"
     ]
    }
   ],
   "source": [
    "data = \"College Admission Prediction System, allows users to register, \\nlog in, and manage their data to predict the chances of getting admission \\n2024 into a college based on various parameters.\"\n",
    "print(data)\n",
    "print(re.findall(\".\",data,re.DOTALL)) # re.DOTALL will match including \\n"
   ]
  },
  {
   "cell_type": "code",
   "execution_count": 1,
   "id": "aadf7fdd-cc8c-4513-952a-a26c5ded9aa5",
   "metadata": {},
   "outputs": [
    {
     "name": "stderr",
     "output_type": "stream",
     "text": [
      "<>:3: SyntaxWarning: invalid escape sequence '\\.'\n",
      "<>:3: SyntaxWarning: invalid escape sequence '\\.'\n",
      "C:\\Users\\Dhanusha\\AppData\\Local\\Temp\\ipykernel_25796\\3719174178.py:3: SyntaxWarning: invalid escape sequence '\\.'\n",
      "  print(re.findall(\"\\.\",data,re.DOTALL)) #\n"
     ]
    },
    {
     "name": "stdout",
     "output_type": "stream",
     "text": [
      "College Admission Prediction System, allows users to register, \n",
      "log in, and manage their data to predict the chances of getting admission \n",
      "2024 into a college based on various parameters.\n"
     ]
    },
    {
     "name": "stderr",
     "output_type": "stream",
     "text": [
      "C:\\Users\\Dhanusha\\AppData\\Local\\Temp\\ipykernel_25796\\3719174178.py:3: SyntaxWarning: invalid escape sequence '\\.'\n",
      "  print(re.findall(\"\\.\",data,re.DOTALL)) #\n"
     ]
    },
    {
     "ename": "NameError",
     "evalue": "name 're' is not defined",
     "output_type": "error",
     "traceback": [
      "\u001b[1;31m------------------------------------------------------------------------\u001b[0m",
      "\u001b[1;31mNameError\u001b[0m                              Traceback (most recent call last)",
      "Cell \u001b[1;32mIn[1], line 3\u001b[0m\n\u001b[0;32m      1\u001b[0m data \u001b[38;5;241m=\u001b[39m \u001b[38;5;124m\"\u001b[39m\u001b[38;5;124mCollege Admission Prediction System, allows users to register, \u001b[39m\u001b[38;5;130;01m\\n\u001b[39;00m\u001b[38;5;124mlog in, and manage their data to predict the chances of getting admission \u001b[39m\u001b[38;5;130;01m\\n\u001b[39;00m\u001b[38;5;124m2024 into a college based on various parameters.\u001b[39m\u001b[38;5;124m\"\u001b[39m\n\u001b[0;32m      2\u001b[0m \u001b[38;5;28mprint\u001b[39m(data)\n\u001b[1;32m----> 3\u001b[0m \u001b[38;5;28mprint\u001b[39m(re\u001b[38;5;241m.\u001b[39mfindall(\u001b[38;5;124m\"\u001b[39m\u001b[38;5;124m\\\u001b[39m\u001b[38;5;124m.\u001b[39m\u001b[38;5;124m\"\u001b[39m,data,re\u001b[38;5;241m.\u001b[39mDOTALL))\n",
      "\u001b[1;31mNameError\u001b[0m: name 're' is not defined"
     ]
    }
   ],
   "source": [
    "data = \"College Admission Prediction System, allows users to register, \\nlog in, and manage their data to predict the chances of getting admission \\n2024 into a college based on various parameters.\"\n",
    "print(data)\n",
    "print(re.findall(\"\\.\",data,re.DOTALL)) # "
   ]
  },
  {
   "cell_type": "code",
   "execution_count": null,
   "id": "20a7030e-4907-4d88-a260-d3728a18c887",
   "metadata": {},
   "outputs": [],
   "source": []
  }
 ],
 "metadata": {
  "kernelspec": {
   "display_name": "Python 3 (ipykernel)",
   "language": "python",
   "name": "python3"
  },
  "language_info": {
   "codemirror_mode": {
    "name": "ipython",
    "version": 3
   },
   "file_extension": ".py",
   "mimetype": "text/x-python",
   "name": "python",
   "nbconvert_exporter": "python",
   "pygments_lexer": "ipython3",
   "version": "3.12.4"
  }
 },
 "nbformat": 4,
 "nbformat_minor": 5
}
