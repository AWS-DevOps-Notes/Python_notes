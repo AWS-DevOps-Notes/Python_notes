{
 "cells": [
  {
   "cell_type": "code",
   "execution_count": 55,
   "id": "74ee79b0-4149-44f4-902b-233f0b8f169e",
   "metadata": {},
   "outputs": [
    {
     "name": "stdout",
     "output_type": "stream",
     "text": [
      "[3000, 4000, 1000, 2000, 'python'] 2182888245040\n",
      "[3000, 5000, 1000, 2000, 'python']\n",
      "[3000, 5000, 1000, 2000, 'python']\n"
     ]
    }
   ],
   "source": [
    "a=1000\n",
    "b=2000\n",
    "s='python'\n",
    "l=[3000,4000,a,b,s]\n",
    "print(l,id(l[1]))\n",
    "k=l\n",
    "k[1]=5000\n",
    "print(l)\n",
    "print(k)"
   ]
  },
  {
   "cell_type": "code",
   "execution_count": 57,
   "id": "9c25834d-118a-41ed-9af8-e7b063edd614",
   "metadata": {},
   "outputs": [
    {
     "name": "stdout",
     "output_type": "stream",
     "text": [
      "[3000, 4000, 1000, 2000, 'python'] 2182888246832\n",
      "[3000, 5000, 1000, 2000, 'python']\n",
      "[3000, 5000, 1000, 2000, 'python']\n",
      "1000 2182831667376\n",
      "2182831667376\n",
      "2000 2182888244400\n",
      "2182888244400\n",
      "python 2182736428224\n",
      "2182736428224\n"
     ]
    }
   ],
   "source": [
    "a=1000\n",
    "b=2000\n",
    "s='python'\n",
    "l=[3000,4000,a,b,s]\n",
    "print(l,id(l[1]))\n",
    "k=l\n",
    "k[1]=5000\n",
    "print(l)\n",
    "print(k)\n",
    "print(a,id(a))\n",
    "print(id(l[2]))\n",
    "print(b,id(b))\n",
    "print(id(l[3]))\n",
    "print(s,id(s))\n",
    "print(id(l[4]))"
   ]
  },
  {
   "cell_type": "code",
   "execution_count": 59,
   "id": "57e55812-46c9-4481-903d-31ed7ae51be6",
   "metadata": {},
   "outputs": [
    {
     "name": "stdout",
     "output_type": "stream",
     "text": [
      "[3000, 4000, 1000, 2000, 'python'] 2182888244368\n",
      "[3000, 5000, 1000, 2000, 'python'] 2182888245872\n",
      "2182888245872\n"
     ]
    }
   ],
   "source": [
    "a=1000\n",
    "b=2000\n",
    "s='python'\n",
    "l=[3000,4000,a,b,s]\n",
    "print(l,id(l[1]))\n",
    "k=l\n",
    "k[1]=5000\n",
    "print(l,id(l[1]))\n",
    "print(id(k[1]))"
   ]
  },
  {
   "cell_type": "markdown",
   "id": "02f0003b-68d4-4824-92a7-cb7b1d49ff4d",
   "metadata": {},
   "source": [
    "## 28-09-24"
   ]
  },
  {
   "cell_type": "code",
   "execution_count": 2,
   "id": "5553600a-0a3e-4b4b-8a06-6ed1d0248870",
   "metadata": {},
   "outputs": [],
   "source": [
    "s='python'\n",
    "a=1234\n",
    "l=[1000,2000,3000,4000]\n",
    "s=(10,20,30)\n",
    "l.insert(1, 5000)\n",
    "l.pop(2)\n",
    "l.append(6000)\n",
    "l.append(7000)\n",
    "l.append(8000)\n",
    "l.append(9000)"
   ]
  },
  {
   "cell_type": "code",
   "execution_count": 12,
   "id": "96b162cd-f7e3-404d-b80b-3b2a6a553e4b",
   "metadata": {},
   "outputs": [
    {
     "name": "stdout",
     "output_type": "stream",
     "text": [
      "['__add__', '__class__', '__class_getitem__', '__contains__', '__delattr__', '__delitem__', '__dir__', '__doc__', '__eq__', '__format__', '__ge__', '__getattribute__', '__getitem__', '__getstate__', '__gt__', '__hash__', '__iadd__', '__imul__', '__init__', '__init_subclass__', '__iter__', '__le__', '__len__', '__lt__', '__mul__', '__ne__', '__new__', '__reduce__', '__reduce_ex__', '__repr__', '__reversed__', '__rmul__', '__setattr__', '__setitem__', '__sizeof__', '__str__', '__subclasshook__', 'append', 'clear', 'copy', 'count', 'extend', 'index', 'insert', 'pop', 'remove', 'reverse', 'sort']\n"
     ]
    }
   ],
   "source": [
    "print(dir(l))"
   ]
  },
  {
   "cell_type": "code",
   "execution_count": 10,
   "id": "0a683adc-c4dc-45de-9dde-6e5429a0292a",
   "metadata": {},
   "outputs": [],
   "source": [
    "import collections"
   ]
  },
  {
   "cell_type": "code",
   "execution_count": 14,
   "id": "d24f3b26-38bf-4026-8bef-325a133c1354",
   "metadata": {},
   "outputs": [
    {
     "name": "stdout",
     "output_type": "stream",
     "text": [
      "['ChainMap', 'Counter', 'OrderedDict', 'UserDict', 'UserList', 'UserString', '_Link', '_OrderedDictItemsView', '_OrderedDictKeysView', '_OrderedDictValuesView', '__all__', '__builtins__', '__cached__', '__doc__', '__file__', '__loader__', '__name__', '__package__', '__path__', '__spec__', '_chain', '_collections_abc', '_count_elements', '_deque_iterator', '_eq', '_iskeyword', '_itemgetter', '_proxy', '_recursive_repr', '_repeat', '_starmap', '_sys', '_tuplegetter', 'abc', 'defaultdict', 'deque', 'namedtuple']\n"
     ]
    }
   ],
   "source": [
    "print(dir(collections))"
   ]
  },
  {
   "cell_type": "code",
   "execution_count": 16,
   "id": "9c917926-b891-4303-b387-3715dcb1e433",
   "metadata": {},
   "outputs": [],
   "source": [
    "from collections import deque"
   ]
  },
  {
   "cell_type": "code",
   "execution_count": 20,
   "id": "e2de61d8-0a74-49cd-822d-e81289576399",
   "metadata": {},
   "outputs": [
    {
     "name": "stdout",
     "output_type": "stream",
     "text": [
      "['__add__', '__class__', '__class_getitem__', '__contains__', '__copy__', '__delattr__', '__delitem__', '__dir__', '__doc__', '__eq__', '__format__', '__ge__', '__getattribute__', '__getitem__', '__getstate__', '__gt__', '__hash__', '__iadd__', '__imul__', '__init__', '__init_subclass__', '__iter__', '__le__', '__len__', '__lt__', '__module__', '__mul__', '__ne__', '__new__', '__reduce__', '__reduce_ex__', '__repr__', '__reversed__', '__rmul__', '__setattr__', '__setitem__', '__sizeof__', '__str__', '__subclasshook__', 'append', 'appendleft', 'clear', 'copy', 'count', 'extend', 'extendleft', 'index', 'insert', 'maxlen', 'pop', 'popleft', 'remove', 'reverse', 'rotate']\n"
     ]
    }
   ],
   "source": [
    "d=deque([1,2,3,4])\n",
    "print(dir(d))"
   ]
  },
  {
   "cell_type": "code",
   "execution_count": 24,
   "id": "6fd7cb94-56aa-4f57-bce1-f5ed5c565a3b",
   "metadata": {},
   "outputs": [
    {
     "name": "stdout",
     "output_type": "stream",
     "text": [
      "[8000, 1, 2, 3, 4]\n",
      "deque([8000, 1, 2, 3, 4])\n"
     ]
    }
   ],
   "source": [
    "l=[1,2,3,4]\n",
    "d=deque([1,2,3,4])\n",
    "l.insert(0,8000) #costly operation first need to adjust all indexes and element will add at first\n",
    "d.appendleft(8000) # directly add to first element\n",
    "print(l)\n",
    "print(d)"
   ]
  },
  {
   "cell_type": "code",
   "execution_count": 26,
   "id": "5dfb7d57-c156-4859-9b99-50f5fd57523e",
   "metadata": {},
   "outputs": [
    {
     "name": "stdout",
     "output_type": "stream",
     "text": [
      "3000\n",
      "[1000, 2000]\n"
     ]
    }
   ],
   "source": [
    "l=[1000,2000,3000]\n",
    "k=l.pop()\n",
    "print(k)\n",
    "print(l)"
   ]
  },
  {
   "cell_type": "code",
   "execution_count": 28,
   "id": "318a1b48-c1a8-482f-a851-1022cfc22913",
   "metadata": {},
   "outputs": [
    {
     "name": "stdout",
     "output_type": "stream",
     "text": [
      "k= None\n",
      "l= [1, 2, 3, 4, 5]\n"
     ]
    }
   ],
   "source": [
    "l=[1,2,3,4]\n",
    "k=l.append(5) #function call assigned to reference, append not retuen anything so k is none\n",
    "print('k=',k)\n",
    "print('l=',l)"
   ]
  },
  {
   "cell_type": "code",
   "execution_count": 30,
   "id": "9b8abc7f-5e69-4ff7-b589-f8b16d0ac2b7",
   "metadata": {},
   "outputs": [
    {
     "name": "stdout",
     "output_type": "stream",
     "text": [
      "s= abcd\n",
      "s1= Abcd\n"
     ]
    }
   ],
   "source": [
    "s='abcd'\n",
    "s1=s.replace('a','A')\n",
    "print('s=',s)\n",
    "print('s1=',s1)"
   ]
  },
  {
   "cell_type": "code",
   "execution_count": 34,
   "id": "b48e5f4a-0e27-4022-8d87-59595f55acf2",
   "metadata": {},
   "outputs": [
    {
     "name": "stdout",
     "output_type": "stream",
     "text": [
      "['__add__', '__class__', '__class_getitem__', '__contains__', '__delattr__', '__delitem__', '__dir__', '__doc__', '__eq__', '__format__', '__ge__', '__getattribute__', '__getitem__', '__getstate__', '__gt__', '__hash__', '__iadd__', '__imul__', '__init__', '__init_subclass__', '__iter__', '__le__', '__len__', '__lt__', '__mul__', '__ne__', '__new__', '__reduce__', '__reduce_ex__', '__repr__', '__reversed__', '__rmul__', '__setattr__', '__setitem__', '__sizeof__', '__str__', '__subclasshook__', 'append', 'clear', 'copy', 'count', 'extend', 'index', 'insert', 'pop', 'remove', 'reverse', 'sort']\n"
     ]
    }
   ],
   "source": [
    "print(dir(l))"
   ]
  },
  {
   "cell_type": "code",
   "execution_count": 36,
   "id": "0ddf3f49-dbb2-4711-88b7-42d5280d0574",
   "metadata": {},
   "outputs": [
    {
     "ename": "TypeError",
     "evalue": "'str' object cannot be interpreted as an integer",
     "output_type": "error",
     "traceback": [
      "\u001b[1;31m---------------------------------------------------------------------------\u001b[0m",
      "\u001b[1;31mTypeError\u001b[0m                                 Traceback (most recent call last)",
      "Cell \u001b[1;32mIn[36], line 2\u001b[0m\n\u001b[0;32m      1\u001b[0m l\u001b[38;5;241m=\u001b[39m[\u001b[38;5;124m'\u001b[39m\u001b[38;5;124ma\u001b[39m\u001b[38;5;124m'\u001b[39m,\u001b[38;5;124m'\u001b[39m\u001b[38;5;124mb\u001b[39m\u001b[38;5;124m'\u001b[39m,\u001b[38;5;124m'\u001b[39m\u001b[38;5;124mc\u001b[39m\u001b[38;5;124m'\u001b[39m,\u001b[38;5;124m'\u001b[39m\u001b[38;5;124md\u001b[39m\u001b[38;5;124m'\u001b[39m]\n\u001b[1;32m----> 2\u001b[0m k\u001b[38;5;241m=\u001b[39ml\u001b[38;5;241m.\u001b[39mpop(\u001b[38;5;124m'\u001b[39m\u001b[38;5;124mb\u001b[39m\u001b[38;5;124m'\u001b[39m) \n\u001b[0;32m      3\u001b[0m \u001b[38;5;28mprint\u001b[39m(\u001b[38;5;124m'\u001b[39m\u001b[38;5;124mk=\u001b[39m\u001b[38;5;124m'\u001b[39m,k)\n\u001b[0;32m      4\u001b[0m \u001b[38;5;28mprint\u001b[39m(\u001b[38;5;124m'\u001b[39m\u001b[38;5;124ml=\u001b[39m\u001b[38;5;124m'\u001b[39m,l)\n",
      "\u001b[1;31mTypeError\u001b[0m: 'str' object cannot be interpreted as an integer"
     ]
    }
   ],
   "source": [
    "l=['a','b','c','d']\n",
    "k=l.pop('b') \n",
    "print('k=',k)\n",
    "print('l=',l)"
   ]
  },
  {
   "cell_type": "code",
   "execution_count": 42,
   "id": "11e1ef04-d69b-4460-8864-cf5533d34da8",
   "metadata": {},
   "outputs": [
    {
     "name": "stdout",
     "output_type": "stream",
     "text": [
      "k= c\n",
      "l= ['a', 'b', 'd']\n"
     ]
    }
   ],
   "source": [
    "l=['a','b','c','d']\n",
    "k=l.pop(2) \n",
    "print('k=',k)\n",
    "print('l=',l)"
   ]
  },
  {
   "cell_type": "code",
   "execution_count": 46,
   "id": "15fa8186-f9d9-4d51-9387-5891064472c2",
   "metadata": {},
   "outputs": [
    {
     "name": "stdout",
     "output_type": "stream",
     "text": [
      "k= None\n",
      "l= ['a', 'c', 'd']\n"
     ]
    }
   ],
   "source": [
    "l=['a','b','c','d']\n",
    "k=l.remove('b') \n",
    "print('k=',k)\n",
    "print('l=',l)"
   ]
  },
  {
   "cell_type": "code",
   "execution_count": 48,
   "id": "7944700a-bf50-4ddd-9615-2c8a4dbe7e6f",
   "metadata": {},
   "outputs": [
    {
     "name": "stdout",
     "output_type": "stream",
     "text": [
      "l= ['a', 'b', 'c', 'd', 'pyt']\n"
     ]
    }
   ],
   "source": [
    "l=['a','b','c','d']\n",
    "l.append('pyt') \n",
    "print('l=',l)"
   ]
  },
  {
   "cell_type": "code",
   "execution_count": 50,
   "id": "87d7073f-3449-4ca6-953c-9d61edfeafa3",
   "metadata": {},
   "outputs": [
    {
     "name": "stdout",
     "output_type": "stream",
     "text": [
      "l= ['a', 'b', 'c', 'd', 'p', 'y', 't']\n"
     ]
    }
   ],
   "source": [
    "l=['a','b','c','d']\n",
    "l.extend('pyt') \n",
    "print('l=',l)"
   ]
  },
  {
   "cell_type": "code",
   "execution_count": 54,
   "id": "ff07a043-3eeb-4ee8-aa6f-829c7ae44b67",
   "metadata": {},
   "outputs": [
    {
     "name": "stdout",
     "output_type": "stream",
     "text": [
      "l= ['a', 'b', 'c', 'd', [100, 200, 300]]\n"
     ]
    }
   ],
   "source": [
    "l=['a','b','c','d']\n",
    "l.append([100,200,300]) \n",
    "print('l=',l)"
   ]
  },
  {
   "cell_type": "code",
   "execution_count": 56,
   "id": "0a86a21f-e9ad-45b5-bf8d-7a736c0e0d62",
   "metadata": {},
   "outputs": [
    {
     "name": "stdout",
     "output_type": "stream",
     "text": [
      "l= ['a', 'b', 'c', 'd', 100, 200, 300]\n"
     ]
    }
   ],
   "source": [
    "l=['a','b','c','d']\n",
    "#l.append([100,200,300]) \n",
    "for i in [100,200,300]:\n",
    "    l.append(i)\n",
    "print('l=',l)"
   ]
  },
  {
   "cell_type": "code",
   "execution_count": 62,
   "id": "c1015cb0-2170-4bce-96e1-62922c70b7ac",
   "metadata": {},
   "outputs": [
    {
     "name": "stdout",
     "output_type": "stream",
     "text": [
      "['a', 'b', 'c', 'd', 'name', 'age']\n"
     ]
    }
   ],
   "source": [
    "l=['a','b','c','d']\n",
    "l.extend({'name':'jay','age':8})\n",
    "print(l)"
   ]
  },
  {
   "cell_type": "code",
   "execution_count": 64,
   "id": "b9c6384c-9de3-4d9b-903d-3a78f9e683ea",
   "metadata": {},
   "outputs": [
    {
     "name": "stdout",
     "output_type": "stream",
     "text": [
      "name\n",
      "age\n"
     ]
    }
   ],
   "source": [
    "for i in{'name':'jay','age':8}:\n",
    "    print(i)"
   ]
  },
  {
   "cell_type": "code",
   "execution_count": 68,
   "id": "6101dc56-ed61-4e40-988f-29a888f31b92",
   "metadata": {},
   "outputs": [
    {
     "name": "stdout",
     "output_type": "stream",
     "text": [
      "['a', 'b', 'c', 'd', 10]\n",
      "['a', 'b', 'c', 'd', 10, '1', '0', '0', '0']\n"
     ]
    }
   ],
   "source": [
    "l=['a','b','c','d']\n",
    "l.append(10)\n",
    "print(l)\n",
    "l.extend('1000')\n",
    "print(l)"
   ]
  },
  {
   "cell_type": "code",
   "execution_count": 72,
   "id": "337c5a6a-44e4-488b-8f02-cf71715855a5",
   "metadata": {},
   "outputs": [
    {
     "name": "stdout",
     "output_type": "stream",
     "text": [
      "[1, 2, 3, 4, [1, 2], [3, 4], [5, 6]]\n"
     ]
    }
   ],
   "source": [
    "l=[1,2,3,4]\n",
    "l.extend([[1,2],[3,4],[5,6]])\n",
    "print(l)"
   ]
  },
  {
   "cell_type": "code",
   "execution_count": 74,
   "id": "93fa0d38-91f6-4126-9936-6a83c866a4ba",
   "metadata": {},
   "outputs": [
    {
     "name": "stdout",
     "output_type": "stream",
     "text": [
      "[1, 2, 3, 4, 40, 10, 20, 30]\n"
     ]
    }
   ],
   "source": [
    "l=[1,2,3,4]\n",
    "l.extend({10,20,30,40})\n",
    "print(l)"
   ]
  },
  {
   "cell_type": "code",
   "execution_count": 78,
   "id": "49199c20-6d3d-48b6-a5a4-0c79e0e31578",
   "metadata": {},
   "outputs": [
    {
     "name": "stdout",
     "output_type": "stream",
     "text": [
      "['1', '2', '3', '4', 'e']\n"
     ]
    }
   ],
   "source": [
    "l=['1','2','3','4']\n",
    "l.insert(30,'e')\n",
    "print(l)"
   ]
  },
  {
   "cell_type": "code",
   "execution_count": 82,
   "id": "7a287ad0-4fac-42dd-bb3f-8f5ce856d426",
   "metadata": {},
   "outputs": [
    {
     "name": "stdout",
     "output_type": "stream",
     "text": [
      "['E', '1', '2', '3', '4']\n"
     ]
    }
   ],
   "source": [
    "l=['1','2','3','4']\n",
    "l.insert(-30,'E')\n",
    "print(l)"
   ]
  },
  {
   "cell_type": "code",
   "execution_count": 90,
   "id": "491733cb-75e1-4985-acf4-e1631db99b85",
   "metadata": {},
   "outputs": [
    {
     "name": "stdout",
     "output_type": "stream",
     "text": [
      "k= d\n",
      "l= ['a', 'b', 'c']\n"
     ]
    }
   ],
   "source": [
    "l=['a','b','c','d']\n",
    "k=l.pop()\n",
    "print('k=',k)\n",
    "print('l=',l)"
   ]
  },
  {
   "cell_type": "code",
   "execution_count": 92,
   "id": "49bdb318-9b83-4568-b147-646d1d20382c",
   "metadata": {},
   "outputs": [
    {
     "name": "stdout",
     "output_type": "stream",
     "text": [
      "k= 3\n",
      "l= ['1', '2', '4']\n"
     ]
    }
   ],
   "source": [
    "l=['1','2','3','4']\n",
    "k=l.pop(-2)\n",
    "print('k=',k)\n",
    "print('l=',l)"
   ]
  },
  {
   "cell_type": "code",
   "execution_count": 94,
   "id": "7a6cc7a8-160f-428d-9958-4f551d695c25",
   "metadata": {},
   "outputs": [
    {
     "name": "stdout",
     "output_type": "stream",
     "text": [
      "k= None\n",
      "l= [1, 2, 3, 4]\n"
     ]
    }
   ],
   "source": [
    "l=[1,2,3,4]\n",
    "k=l.sort()\n",
    "print('k=',k)\n",
    "print('l=',l)"
   ]
  },
  {
   "cell_type": "code",
   "execution_count": 98,
   "id": "3ee5f7be-f0d9-4a4e-bedf-7b5fd791b25b",
   "metadata": {},
   "outputs": [
    {
     "name": "stdout",
     "output_type": "stream",
     "text": [
      "k= None\n",
      "l= ['1', '2', '3', '4']\n"
     ]
    }
   ],
   "source": [
    "\n",
    "l=['1','2','3','4']\n",
    "k=l.sort()\n",
    "print('k=',k)\n",
    "print('l=',l)\n"
   ]
  },
  {
   "cell_type": "markdown",
   "id": "65723f46-9038-4139-99d1-59f7b360ea25",
   "metadata": {},
   "source": [
    "# 30-09-2024"
   ]
  },
  {
   "cell_type": "code",
   "execution_count": 6,
   "id": "b1582c3c-b271-4821-ac09-aac5dce5cf79",
   "metadata": {},
   "outputs": [
    {
     "name": "stdout",
     "output_type": "stream",
     "text": [
      "['ABC', 'GHI', 'abc', 'def']\n"
     ]
    }
   ],
   "source": [
    "l=['abc','ABC','def','GHI']\n",
    "l.sort()\n",
    "print(l)"
   ]
  },
  {
   "cell_type": "code",
   "execution_count": 8,
   "id": "1bd8e970-5fa9-45d7-bf18-5ea717f410a8",
   "metadata": {},
   "outputs": [
    {
     "name": "stdout",
     "output_type": "stream",
     "text": [
      "['abc', 'ABC', 'def', 'GHI']\n"
     ]
    }
   ],
   "source": [
    "l=['abc','ABC','def','GHI']\n",
    "def cmp(x):\n",
    "    return x.casefold()\n",
    "l.sort(key=cmp)\n",
    "print(l)"
   ]
  },
  {
   "cell_type": "code",
   "execution_count": 12,
   "id": "f2a89b59-a3ec-48ff-bd48-e9c12d1b444e",
   "metadata": {},
   "outputs": [
    {
     "name": "stdout",
     "output_type": "stream",
     "text": [
      "4\n"
     ]
    }
   ],
   "source": [
    "l=['1','2','3','4','30','20']\n",
    "print(max(l))"
   ]
  },
  {
   "cell_type": "code",
   "execution_count": 14,
   "id": "b647a725-c800-4512-a310-cab9e7e9c137",
   "metadata": {},
   "outputs": [
    {
     "name": "stdout",
     "output_type": "stream",
     "text": [
      "4\n"
     ]
    }
   ],
   "source": [
    "l=[1,2,3,4]\n",
    "print(max(l))"
   ]
  },
  {
   "cell_type": "code",
   "execution_count": 16,
   "id": "0b4fdb5f-9e2d-4429-a4ed-0bd53abc841f",
   "metadata": {},
   "outputs": [
    {
     "name": "stdout",
     "output_type": "stream",
     "text": [
      "['1', '2', '3', '4', '30', '20']\n",
      "[1, 2, 3, 4, 30, 20]\n",
      "4\n"
     ]
    }
   ],
   "source": [
    "l=['1','2','3','4','30','20']\n",
    "res=[]\n",
    "for i in l:\n",
    "    res.append(int(i))\n",
    "print(l)\n",
    "print(res)\n",
    "print(max(l))"
   ]
  },
  {
   "cell_type": "code",
   "execution_count": 18,
   "id": "d89bf5bc-4951-475f-81bb-d2640a5517e9",
   "metadata": {},
   "outputs": [
    {
     "name": "stdout",
     "output_type": "stream",
     "text": [
      "['1', '2', '3', '4', '30', '20']\n",
      "[1, 2, 3, 4, 30, 20]\n",
      "4\n",
      "30\n"
     ]
    }
   ],
   "source": [
    "l=['1','2','3','4','30','20']\n",
    "res=[]\n",
    "for i in l:\n",
    "    res.append(int(i))\n",
    "print(l)\n",
    "print(res)\n",
    "print(max(l))\n",
    "print(max(res))"
   ]
  },
  {
   "cell_type": "code",
   "execution_count": 22,
   "id": "a03abc68-81d6-4a21-9299-270fb06b7cde",
   "metadata": {},
   "outputs": [
    {
     "name": "stdout",
     "output_type": "stream",
     "text": [
      "30\n",
      "['1', '2', '3', '4', '30', '20']\n"
     ]
    }
   ],
   "source": [
    "l=['1','2','3','4','30','20']\n",
    "def conv(x):\n",
    "    return int(x)\n",
    "print(max(l, key=conv))\n",
    "print(l)"
   ]
  },
  {
   "cell_type": "code",
   "execution_count": 24,
   "id": "880d0cb9-46dd-4493-88c9-66250e3614e2",
   "metadata": {},
   "outputs": [
    {
     "name": "stdout",
     "output_type": "stream",
     "text": [
      "1\n",
      "['1', '2', '3', '4', '30', '20']\n"
     ]
    }
   ],
   "source": [
    "l=['1','2','3','4','30','20']\n",
    "def conv(x):\n",
    "    return int(x)\n",
    "print(min(l, key=conv))\n",
    "print(l)"
   ]
  },
  {
   "cell_type": "code",
   "execution_count": 30,
   "id": "8e5467b2-bb62-4d97-9309-ae06d1b8f658",
   "metadata": {},
   "outputs": [
    {
     "name": "stdout",
     "output_type": "stream",
     "text": [
      "[(1, 'rajesh'), (2, 'ameel'), (3, 'sai'), (4, 'teju')]\n"
     ]
    }
   ],
   "source": [
    "l=[(1,'rajesh'),(2,'ameel'),(3,'sai'),(4,'teju')]\n",
    "l.sort()\n",
    "print(l)"
   ]
  },
  {
   "cell_type": "code",
   "execution_count": 40,
   "id": "4a639b3c-a6a5-445b-b1b8-d823cd3b0575",
   "metadata": {},
   "outputs": [
    {
     "name": "stdout",
     "output_type": "stream",
     "text": [
      "(4, 'teju')\n",
      "[(1, 'rajesh'), (2, 'ameel'), (3, 'sai'), (4, 'teju')]\n"
     ]
    }
   ],
   "source": [
    "l=[(1,'rajesh'),(2,'ameel'),(3,'sai'),(4,'teju')]\n",
    "def name(x):\n",
    "    return str(x)\n",
    "print(max(l, key=name))\n",
    "print(l)"
   ]
  },
  {
   "cell_type": "code",
   "execution_count": 50,
   "id": "2a817990-822b-45ef-93c5-d5f5a0760706",
   "metadata": {},
   "outputs": [
    {
     "name": "stdout",
     "output_type": "stream",
     "text": [
      "x= (1, 'rajesh')\n",
      "x= (2, 'ameel')\n",
      "x= (3, 'sai')\n",
      "x= (4, 'teju')\n",
      "[(2, 'ameel'), (1, 'rajesh'), (3, 'sai'), (4, 'teju')]\n"
     ]
    }
   ],
   "source": [
    "l=[(1,'rajesh'),(2,'ameel'),(3,'sai'),(4,'teju')]\n",
    "def conv(x):\n",
    "    print('x=',x)\n",
    "    return x[1]\n",
    "l.sort(key=conv)\n",
    "print(l)"
   ]
  },
  {
   "cell_type": "code",
   "execution_count": 46,
   "id": "1b4ecef7-82d9-4384-b23b-9aa56bf14db0",
   "metadata": {},
   "outputs": [
    {
     "name": "stdout",
     "output_type": "stream",
     "text": [
      "[(2, 'ameel'), (1, 'rajesh'), (3, 'sai'), (4, 'teju')]\n"
     ]
    }
   ],
   "source": [
    "l=[(1,'rajesh'),(2,'ameel'),(3,'sai'),(4,'teju')]\n",
    "def conv(x):\n",
    "    return x[1]\n",
    "l.sort(key=conv)\n",
    "print(l)"
   ]
  },
  {
   "cell_type": "code",
   "execution_count": 48,
   "id": "d2aec1c2-7c96-4f9a-bcdc-79068a36e0e5",
   "metadata": {},
   "outputs": [
    {
     "name": "stdout",
     "output_type": "stream",
     "text": [
      "[(4, 'teju'), (3, 'sai'), (1, 'rajesh'), (2, 'ameel')]\n"
     ]
    }
   ],
   "source": [
    "l=[(1,'rajesh'),(2,'ameel'),(3,'sai'),(4,'teju')]\n",
    "def conv(x):\n",
    "    return x[1]\n",
    "l.sort(key=conv, reverse=True)\n",
    "print(l)"
   ]
  },
  {
   "cell_type": "code",
   "execution_count": 120,
   "id": "55fa46be-f1c8-4788-89ee-ea89bfea6a16",
   "metadata": {},
   "outputs": [],
   "source": [
    "l=[1,2,3,4,5,3,4,4,5,3,2,7,8]\n",
    "#remove all 3's from list"
   ]
  },
  {
   "cell_type": "code",
   "execution_count": 82,
   "id": "0aafe34d-c154-4006-9f39-1228d670c9fa",
   "metadata": {},
   "outputs": [
    {
     "name": "stdout",
     "output_type": "stream",
     "text": [
      "3\n"
     ]
    }
   ],
   "source": [
    "l=[1,2,3,3,3,4,5,3,4,4,5,3,2,7,8]\n",
    "l.remove(3)\n",
    "print(3)"
   ]
  },
  {
   "cell_type": "code",
   "execution_count": 118,
   "id": "2bd89d96-021a-4d17-a457-ce474711616a",
   "metadata": {},
   "outputs": [
    {
     "name": "stdout",
     "output_type": "stream",
     "text": [
      "[1, 2, 4, 5, 4, 4, 5, 3, 2, 7, 8]\n"
     ]
    }
   ],
   "source": [
    "l=[1,2,3,3,3,4,5,3,4,4,5,3,2,7,8]\n",
    "for i in l:\n",
    "   if i == 3:\n",
    "       l.remove(3)   \n",
    "print(l)"
   ]
  },
  {
   "cell_type": "code",
   "execution_count": 116,
   "id": "da0b1019-8d58-44fc-ae27-16de6588302a",
   "metadata": {},
   "outputs": [
    {
     "name": "stdout",
     "output_type": "stream",
     "text": [
      "[1, 2, 4, 5, 4, 4, 5, 2, 7, 8]\n"
     ]
    }
   ],
   "source": [
    "l=[1,2,3,3,3,4,5,3,4,4,5,3,2,7,8]\n",
    "for i in l[:]:\n",
    "    if i == 3:\n",
    "       l.remove(i)\n",
    "print(l)"
   ]
  },
  {
   "cell_type": "code",
   "execution_count": 7,
   "id": "2995a1c3-80f7-4213-b3ad-4cf00abb1b39",
   "metadata": {},
   "outputs": [
    {
     "ename": "IndexError",
     "evalue": "list index out of range",
     "output_type": "error",
     "traceback": [
      "\u001b[1;31m---------------------------------------------------------------------------\u001b[0m",
      "\u001b[1;31mIndexError\u001b[0m                                Traceback (most recent call last)",
      "Cell \u001b[1;32mIn[7], line 3\u001b[0m\n\u001b[0;32m      1\u001b[0m l\u001b[38;5;241m=\u001b[39m[\u001b[38;5;241m1\u001b[39m,\u001b[38;5;241m2\u001b[39m,\u001b[38;5;241m3\u001b[39m,\u001b[38;5;241m3\u001b[39m,\u001b[38;5;241m3\u001b[39m,\u001b[38;5;241m4\u001b[39m,\u001b[38;5;241m5\u001b[39m,\u001b[38;5;241m3\u001b[39m,\u001b[38;5;241m4\u001b[39m,\u001b[38;5;241m4\u001b[39m,\u001b[38;5;241m5\u001b[39m,\u001b[38;5;241m3\u001b[39m,\u001b[38;5;241m2\u001b[39m,\u001b[38;5;241m7\u001b[39m,\u001b[38;5;241m8\u001b[39m]\n\u001b[0;32m      2\u001b[0m \u001b[38;5;28;01mfor\u001b[39;00m i \u001b[38;5;129;01min\u001b[39;00m \u001b[38;5;28mrange\u001b[39m(\u001b[38;5;28mlen\u001b[39m(l[:])):\n\u001b[1;32m----> 3\u001b[0m    \u001b[38;5;28;01mif\u001b[39;00m l[i]\u001b[38;5;241m==\u001b[39m \u001b[38;5;241m3\u001b[39m:\n\u001b[0;32m      4\u001b[0m        l\u001b[38;5;241m.\u001b[39mremove(\u001b[38;5;241m3\u001b[39m)   \n\u001b[0;32m      5\u001b[0m \u001b[38;5;28mprint\u001b[39m(l)\n",
      "\u001b[1;31mIndexError\u001b[0m: list index out of range"
     ]
    }
   ],
   "source": [
    "l=[1,2,3,3,3,4,5,3,4,4,5,3,2,7,8]\n",
    "for i in range(len(l[:])):\n",
    "   if l[i]== 3:\n",
    "       l.remove(3)   \n",
    "print(l)"
   ]
  },
  {
   "cell_type": "code",
   "execution_count": 9,
   "id": "d1a427ba-8ef2-49a8-b1f2-26fcf1ff2df3",
   "metadata": {},
   "outputs": [
    {
     "name": "stdout",
     "output_type": "stream",
     "text": [
      "[1, 2, 4, 5, 4, 4, 3, 3, 2]\n"
     ]
    }
   ],
   "source": [
    "l=[1,2,3,3,3,4,5,3,4,4,3,3,2]\n",
    "for i in l:\n",
    "    if i == 3:\n",
    "       l.remove(i)\n",
    "print(l)"
   ]
  },
  {
   "cell_type": "code",
   "execution_count": 11,
   "id": "e7908f9e-3378-4abe-a487-c2f3ff243b64",
   "metadata": {},
   "outputs": [
    {
     "name": "stdout",
     "output_type": "stream",
     "text": [
      "[1, 2, 4, 5, 4, 4, 2]\n"
     ]
    }
   ],
   "source": [
    " l=[1,2,3,3,3,4,5,3,4,4,3,3,2]\n",
    "for i in l[::-1]:\n",
    "    if i == 3:\n",
    "       l.remove(3)\n",
    "print(l)"
   ]
  },
  {
   "cell_type": "markdown",
   "id": "108ac5a4-f371-48fd-bca5-334b097f4ee1",
   "metadata": {},
   "source": [
    "## 01/20/2024"
   ]
  },
  {
   "cell_type": "code",
   "execution_count": 40,
   "id": "9d22cd12-ba20-4e06-938d-040b6259bace",
   "metadata": {},
   "outputs": [
    {
     "name": "stdout",
     "output_type": "stream",
     "text": [
      "l= [1000, 2000, 3000, [4000, 5000, 6000], 7000, 8000]\n",
      "m= [10, 2000, 3000, [4000, 5000, 6000], 7000, 8000]\n",
      "n= [1000, 2000, 3000, [4000, 5000, 6000], 7000, 8000]\n",
      "p= [1000, 2000, 3000, [4000, 5000, 6000], 7000, 8000]\n",
      "l= 1587133941760 1587188007184 1587188008272 1587188010352 1587133955008 1587188007440 1587188009072\n",
      "m= 1587187961344 140708437834456 1587188008272 1587188010352 1587133955008 1587188007440 1587188009072\n",
      "n= 1587133952128 1587188007184 1587188008272 1587188010352 1587133955008 1587188007440 1587188009072\n",
      "p= 1587133941760 1587188007184 1587188008272 1587188010352 1587133955008 1587188007440 1587188009072\n"
     ]
    }
   ],
   "source": [
    "k=[4000,5000,6000]\n",
    "l=[1000,2000,3000,k,7000,8000]\n",
    "p=l\n",
    "m=l.copy()\n",
    "n=l[::]\n",
    "m[0]=10\n",
    "print('l=', l)\n",
    "print('m=', m)\n",
    "print('n=', n)\n",
    "print('p=', p)\n",
    "print('l=', id(l),id(l[0]),id(l[1]),id(l[2]),id(l[3]),id(l[4]),id(l[5]))\n",
    "print('m=', id(m),id(m[0]),id(m[1]),id(m[2]),id(m[3]),id(m[4]),id(m[5]))\n",
    "print('n=', id(n),id(n[0]),id(n[1]),id(n[2]),id(n[3]),id(n[4]),id(n[5]))\n",
    "print('p=', id(p),id(p[0]),id(p[1]),id(p[2]),id(p[3]),id(p[4]),id(p[5]))"
   ]
  },
  {
   "cell_type": "markdown",
   "id": "f180c15f-7c90-4a0f-b6c8-58dabaa64f36",
   "metadata": {},
   "source": [
    "# 05-10-2024"
   ]
  },
  {
   "cell_type": "code",
   "execution_count": 8,
   "id": "47a61290-5ae4-42e1-8cf6-3866df915e65",
   "metadata": {},
   "outputs": [
    {
     "name": "stdout",
     "output_type": "stream",
     "text": [
      "id-l= 2864277507648\n",
      "id-m= 2864277655488\n",
      "id-n= 2864277688896\n",
      "id-p= 2864277507648\n",
      "id-q= 2864277696128\n"
     ]
    }
   ],
   "source": [
    "from copy import deepcopy\n",
    "k=[4000,5000,6000]\n",
    "l=[1000,2000,3000,k,7000,8000]\n",
    "p=l\n",
    "m=l.copy()\n",
    "n=l[::]\n",
    "q=deepcopy(l)\n",
    "m[0]=10\n",
    "print('id-l=', id(l))\n",
    "print('id-m=',id(m))\n",
    "print('id-n=', id(n))\n",
    "print('id-p=', id(p))\n",
    "print('id-q=', id(q))"
   ]
  },
  {
   "cell_type": "code",
   "execution_count": 24,
   "id": "f7b37d7a-cd46-42c7-b7ce-cd15c125c02d",
   "metadata": {},
   "outputs": [
    {
     "name": "stdout",
     "output_type": "stream",
     "text": [
      "id-l= 2864246636736\n",
      "id-m= 2864246640512\n",
      "id-n= 2864246638400\n",
      "id-p= 2864246636736\n",
      "id-q= 2864246640000\n",
      "\n",
      "\n",
      "id-l[-1]=  2864277653376\n",
      "id-m[-1]=  2864277653376\n",
      "id-n[-1]=  2864277653376\n",
      "id-q[-1]=  2864277653376\n",
      "\n",
      "\n",
      "id-l[-3]=  2864277391760\n",
      "id-m[-3]=  2864277391760\n",
      "id-n[-3]=  2864277391760\n",
      "id-q[-3]=  2864277391760\n"
     ]
    }
   ],
   "source": [
    "from copy import deepcopy\n",
    "k=[4000,5000,6000]\n",
    "l=[1000,2000,3000,k,7000,8000,'python',(100,200,300)]\n",
    "p=l\n",
    "m=l.copy()\n",
    "n=l[::]\n",
    "q=deepcopy(l)\n",
    "m[0]=10\n",
    "print('id-l=',id(l))\n",
    "print('id-m=',id(m))\n",
    "print('id-n=',id(n))\n",
    "print('id-p=',id(p))\n",
    "print('id-q=',id(q))\n",
    "print('\\n')\n",
    "print('id-l[-1]= ', id(l[-1]))\n",
    "print('id-m[-1]= ', id(m[-1]))\n",
    "print('id-n[-1]= ', id(n[-1]))\n",
    "print('id-q[-1]= ', id(q[-1]))\n",
    "print('\\n')\n",
    "print('id-l[-3]= ', id(l[-3]))\n",
    "print('id-m[-3]= ', id(m[-3]))\n",
    "print('id-n[-3]= ', id(n[-3]))\n",
    "print('id-q[-3]= ', id(q[-3]))"
   ]
  },
  {
   "cell_type": "code",
   "execution_count": 40,
   "id": "00cd3988-2cba-4c7e-97eb-20dbc6d187f8",
   "metadata": {},
   "outputs": [
    {
     "name": "stdout",
     "output_type": "stream",
     "text": [
      "2864277401488\n",
      "2864277401488\n",
      "id-l= 2864276434368 [1000, 2000, 3000, [101, 5000, 6000], 7000, 8000, 'python', (100, 200, 300)]\n",
      "id-m= 2864276428736 [10, 2000, 3000, [101, 5000, 6000], 7000, 8000, 'python', (100, 200, 300)]\n",
      "id-n= 2864233987008 [1000, 2000, 3000, [101, 5000, 6000], 7000, 8000, 'python', (100, 200, 300)]\n",
      "id-p= 2864276434368 [1000, 2000, 3000, [101, 5000, 6000], 7000, 8000, 'python', (100, 200, 300)]\n",
      "id-q= 2864277295936 [1000, 2000, 3000, [4000, 5000, 6000], 7000, 8000, 'python', (100, 200, 300)]\n"
     ]
    }
   ],
   "source": [
    "from copy import deepcopy\n",
    "k=[4000,5000,6000]\n",
    "print(id(k[0]))\n",
    "l=[1000,2000,3000,k,7000,8000,'python',(100,200,300)] # tuple (100,200,300) is immutable which can't change,' k' is mutable object will change\n",
    "p=l\n",
    "m=l.copy()# shallow copy\n",
    "n=l[::]# shallow copy\n",
    "q=deepcopy(l)\n",
    "print(id(q[3][0]))\n",
    "m[0]=10\n",
    "k[0]=101\n",
    "print('id-l=',id(l),l)\n",
    "print('id-m=',id(m),m)\n",
    "print('id-n=',id(n),n)\n",
    "print('id-p=',id(p),p)\n",
    "print('id-q=',id(q),q)\n"
   ]
  },
  {
   "cell_type": "code",
   "execution_count": null,
   "id": "ae364237-cde2-4ce5-843d-8fc95868828a",
   "metadata": {},
   "outputs": [],
   "source": [
    "print()\n"
   ]
  },
  {
   "cell_type": "code",
   "execution_count": 1,
   "id": "b92b17dd-e264-4f40-a946-492ae907f572",
   "metadata": {},
   "outputs": [
    {
     "name": "stdout",
     "output_type": "stream",
     "text": [
      "[1, 2, 4, 5, 5, 4, 6, 6, 4]\n"
     ]
    }
   ],
   "source": [
    "l=[1,2,3,3,3,4,5,5,4,6,6,4,3,3,3,3]\n",
    "while l.count(3)>0:\n",
    "    l.remove(3)\n",
    "print(l)"
   ]
  },
  {
   "cell_type": "code",
   "execution_count": 3,
   "id": "f9e757e8-01ef-4358-a61b-1c5dd8757045",
   "metadata": {},
   "outputs": [
    {
     "name": "stdout",
     "output_type": "stream",
     "text": [
      "[]\n"
     ]
    }
   ],
   "source": [
    "l=[1,2,3,3,3,4,5,5,4,6,6,4,3,3,3,3]\n",
    "k=l\n",
    "k.clear()\n",
    "print(l)"
   ]
  },
  {
   "cell_type": "code",
   "execution_count": 5,
   "id": "6665f19c-7734-4659-9fbc-50e90949ab22",
   "metadata": {},
   "outputs": [
    {
     "data": {
      "text/plain": [
       "2"
      ]
     },
     "execution_count": 5,
     "metadata": {},
     "output_type": "execute_result"
    }
   ],
   "source": [
    "l=['apple','orange','grapes','apple','grapes']\n",
    "l.index('grapes')"
   ]
  },
  {
   "cell_type": "code",
   "execution_count": 7,
   "id": "dd5c867c-eed7-4104-b19a-5847feee1e28",
   "metadata": {},
   "outputs": [
    {
     "data": {
      "text/plain": [
       "\u001b[1;31mSignature:\u001b[0m \u001b[0ml\u001b[0m\u001b[1;33m.\u001b[0m\u001b[0mindex\u001b[0m\u001b[1;33m(\u001b[0m\u001b[0mvalue\u001b[0m\u001b[1;33m,\u001b[0m \u001b[0mstart\u001b[0m\u001b[1;33m=\u001b[0m\u001b[1;36m0\u001b[0m\u001b[1;33m,\u001b[0m \u001b[0mstop\u001b[0m\u001b[1;33m=\u001b[0m\u001b[1;36m9223372036854775807\u001b[0m\u001b[1;33m,\u001b[0m \u001b[1;33m/\u001b[0m\u001b[1;33m)\u001b[0m\u001b[1;33m\u001b[0m\u001b[1;33m\u001b[0m\u001b[0m\n",
       "\u001b[1;31mDocstring:\u001b[0m\n",
       "Return first index of value.\n",
       "\n",
       "Raises ValueError if the value is not present.\n",
       "\u001b[1;31mType:\u001b[0m      builtin_function_or_method"
      ]
     },
     "metadata": {},
     "output_type": "display_data"
    }
   ],
   "source": [
    "l.index?"
   ]
  },
  {
   "cell_type": "code",
   "execution_count": 9,
   "id": "62acbabf-554e-4fa9-885a-24bc1ffa6b23",
   "metadata": {},
   "outputs": [
    {
     "data": {
      "text/plain": [
       "4"
      ]
     },
     "execution_count": 9,
     "metadata": {},
     "output_type": "execute_result"
    }
   ],
   "source": [
    "l=['apple','orange','grapes','apple','grapes']\n",
    "l.index('grapes',3)"
   ]
  },
  {
   "cell_type": "code",
   "execution_count": 15,
   "id": "f56bba36-cd24-483f-87f2-b89848b57893",
   "metadata": {},
   "outputs": [
    {
     "name": "stdout",
     "output_type": "stream",
     "text": [
      "2\n",
      "4\n",
      "5\n",
      "6\n",
      "8\n"
     ]
    }
   ],
   "source": [
    "l=['apple','orange','grapes','apple','grapes','grapes','grapes','mango','grapes']\n",
    "ind=0\n",
    "for i in l:\n",
    "    if i == 'grapes':\n",
    "        ind=l.index(i,ind)\n",
    "        print(ind)\n",
    "        ind=ind+1"
   ]
  },
  {
   "cell_type": "code",
   "execution_count": null,
   "id": "f565f515-d32f-428a-88dd-1c65d8e381d2",
   "metadata": {},
   "outputs": [],
   "source": [
    "l=['apple','orange','grapes','apple','grapes','grapes','grapes','mango','grapes']\n",
    "l.index('APPLE')"
   ]
  },
  {
   "cell_type": "code",
   "execution_count": null,
   "id": "999fde19-5a48-4ca6-827b-e2c768c7f91f",
   "metadata": {},
   "outputs": [],
   "source": [
    "l=['apple','orange','grapes','apple','grapes','grapes','grapes','mango','grapes']\n",
    "l.index('orange',4)"
   ]
  }
 ],
 "metadata": {
  "kernelspec": {
   "display_name": "Python 3 (ipykernel)",
   "language": "python",
   "name": "python3"
  },
  "language_info": {
   "codemirror_mode": {
    "name": "ipython",
    "version": 3
   },
   "file_extension": ".py",
   "mimetype": "text/x-python",
   "name": "python",
   "nbconvert_exporter": "python",
   "pygments_lexer": "ipython3",
   "version": "3.12.4"
  }
 },
 "nbformat": 4,
 "nbformat_minor": 5
}
