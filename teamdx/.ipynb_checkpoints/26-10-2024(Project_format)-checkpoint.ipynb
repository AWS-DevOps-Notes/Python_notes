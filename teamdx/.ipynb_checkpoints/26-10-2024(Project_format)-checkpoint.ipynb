{
 "cells": [
  {
   "cell_type": "markdown",
   "id": "a2b12d2d-e845-40ac-a8ee-1b4de8c79730",
   "metadata": {},
   "source": [
    "1. Problems\n",
    "2. Actors\n",
    "3. Responsibility of each actor\n",
    "4. What is the menu if an actor login\n",
    "5. How many tables required for your application\n",
    "6. SQL code to create a DB Structure\n",
    "7. DB queries for each operation done by an actor."
   ]
  },
  {
   "cell_type": "markdown",
   "id": "a00e2047-ce91-48e3-9d44-c828172235c2",
   "metadata": {},
   "source": [
    "#main.py\n",
    "from expenses import add_expense, view_expenses\n",
    "from report import generate_report\n",
    "\n",
    "def main():\n",
    "    action = input(\"Choose an action: Add/View/Report: \").strip().lower()\n",
    "\n",
    "    if action == \"add\":\n",
    "        add_expense()\n",
    "    elif action == \"view\":\n",
    "        view_expenses()\n",
    "    elif action == \"report\":\n",
    "        generate_report()\n",
    "    else:\n",
    "        print(\"Invalid action.\")\n",
    "\n",
    "if __name__ == \"__main__\":\n",
    "    main()\n"
   ]
  },
  {
   "cell_type": "markdown",
   "id": "05d44f1f-e9ef-4e62-b0b6-d1fab9fd1a16",
   "metadata": {},
   "source": [
    "# expenses.py\n",
    "# Handles adding and viewing expenses with simple database operations.\n",
    "from database import execute_query\n",
    "\n",
    "def add_expense():\n",
    "    amount = input(\"Amount: \")\n",
    "    category = input(\"Category: \")\n",
    "    description = input(\"Description: \")\n",
    "    date = input(\"Date (YYYY-MM-DD): \")\n",
    "    \n",
    "    query = \"INSERT INTO expenses (amount, category, description, date) VALUES (%s, %s, %s, %s)\"\n",
    "    execute_query(query, (amount, category, description, date))\n",
    "    print(\"Expense added!\")\n",
    "\n",
    "def view_expenses():\n",
    "    query = \"SELECT * FROM expenses\"\n",
    "    results = execute_query(query)\n",
    "    for row in results:\n",
    "        print(row)\n"
   ]
  },
  {
   "cell_type": "markdown",
   "id": "53c904ab-3f77-444c-b3ec-188f4d2e13a1",
   "metadata": {},
   "source": [
    "# report.py : Creates a basic report that lists total expenses by category.\n",
    "from database import execute_query\n",
    "\n",
    "def generate_report():\n",
    "    query = \"SELECT category, SUM(amount) FROM expenses GROUP BY category\"\n",
    "    results = execute_query(query)\n",
    "    print(\"Expense Report by Category:\")\n",
    "    for category, total in results:\n",
    "        print(f\"{category}: ${total}\")\n"
   ]
  },
  {
   "cell_type": "markdown",
   "id": "3f1af193-5a5f-460e-a3fb-5af2a910a048",
   "metadata": {},
   "source": [
    "# database.py : This file manages database connections and executing SQL queries.\n",
    "\n",
    "import psycopg2\n",
    "\n",
    "def execute_query(query, params=None):\n",
    "    conn = psycopg2.connect(\"dbname=expenses user=username password=password\")\n",
    "    with conn.cursor() as cur:\n",
    "        cur.execute(query, params)\n",
    "        if query.strip().lower().startswith(\"select\"):\n",
    "            return cur.fetchall()\n",
    "        conn.commit()"
   ]
  },
  {
   "cell_type": "code",
   "execution_count": 7,
   "id": "97242e34-39c2-42cf-889c-44c74a5953bb",
   "metadata": {},
   "outputs": [],
   "source": [
    "import psycopg2"
   ]
  },
  {
   "cell_type": "code",
   "execution_count": 11,
   "id": "70bf3bac-c370-4b09-87c4-a2b839767252",
   "metadata": {},
   "outputs": [],
   "source": [
    "con = psycopg2.connect(host='localhost',user='postgres',password='postgres',port=5432,dbname = 'myexpense')"
   ]
  },
  {
   "cell_type": "code",
   "execution_count": 13,
   "id": "0da87bbc-2213-4119-bd36-65585af4b76e",
   "metadata": {},
   "outputs": [],
   "source": [
    "cur = con.cursor()"
   ]
  },
  {
   "cell_type": "code",
   "execution_count": null,
   "id": "0f7b701e-512c-4a44-8fd4-9c12f43c1c89",
   "metadata": {},
   "outputs": [],
   "source": []
  }
 ],
 "metadata": {
  "kernelspec": {
   "display_name": "Python 3 (ipykernel)",
   "language": "python",
   "name": "python3"
  },
  "language_info": {
   "codemirror_mode": {
    "name": "ipython",
    "version": 3
   },
   "file_extension": ".py",
   "mimetype": "text/x-python",
   "name": "python",
   "nbconvert_exporter": "python",
   "pygments_lexer": "ipython3",
   "version": "3.12.4"
  }
 },
 "nbformat": 4,
 "nbformat_minor": 5
}
