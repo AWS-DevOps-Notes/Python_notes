{
 "cells": [
  {
   "cell_type": "markdown",
   "id": "54185f23-e00d-48c1-8fd2-bc87ad1a5a5b",
   "metadata": {},
   "source": [
    "# Assignments on variables expressions and statements"
   ]
  },
  {
   "cell_type": "markdown",
   "id": "0e5964ec-6bd9-41de-bdb3-1686535af751",
   "metadata": {},
   "source": [
    "### 1. Take the input from the user for(Total number of people,Number of seats for bus). Based on two inputs. Decide how many number of buses required\n"
   ]
  },
  {
   "cell_type": "code",
   "execution_count": null,
   "id": "e6edf889-b4d3-4d50-9174-0a95ceeeda03",
   "metadata": {},
   "outputs": [],
   "source": [
    "people = int(input(\"number of people:\"))\n",
    "seats = int(input(\"number of seats:\"))\n",
    "buses = ( people + seats - 1) // seats\n",
    "print(f\"Number of buses: {buses}\")"
   ]
  },
  {
   "cell_type": "code",
   "execution_count": null,
   "id": "84e60e39-366b-45ff-8649-1886c4945fbd",
   "metadata": {},
   "outputs": [],
   "source": []
  }
 ],
 "metadata": {
  "kernelspec": {
   "display_name": "Python 3 (ipykernel)",
   "language": "python",
   "name": "python3"
  },
  "language_info": {
   "codemirror_mode": {
    "name": "ipython",
    "version": 3
   },
   "file_extension": ".py",
   "mimetype": "text/x-python",
   "name": "python",
   "nbconvert_exporter": "python",
   "pygments_lexer": "ipython3",
   "version": "3.12.4"
  }
 },
 "nbformat": 4,
 "nbformat_minor": 5
}
