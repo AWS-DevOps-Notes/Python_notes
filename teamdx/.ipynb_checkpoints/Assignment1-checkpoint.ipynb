{
 "cells": [
  {
   "cell_type": "markdown",
   "id": "54185f23-e00d-48c1-8fd2-bc87ad1a5a5b",
   "metadata": {},
   "source": [
    "# Assignments on variables expressions and statements"
   ]
  },
  {
   "cell_type": "markdown",
   "id": "0e5964ec-6bd9-41de-bdb3-1686535af751",
   "metadata": {},
   "source": [
    "### 1. Take the input from the user for(Total number of people,Number of seats for bus). Based on two inputs. \n",
    "### Decide how many number of buses required"
   ]
  },
  {
   "cell_type": "code",
   "execution_count": 16,
   "id": "e6edf889-b4d3-4d50-9174-0a95ceeeda03",
   "metadata": {},
   "outputs": [
    {
     "name": "stdin",
     "output_type": "stream",
     "text": [
      "number of people: 60\n",
      "number of seats: 10\n"
     ]
    },
    {
     "name": "stdout",
     "output_type": "stream",
     "text": [
      "Number of buses: 6\n"
     ]
    }
   ],
   "source": [
    "people = int(input(\"number of people:\"))\n",
    "seats = int(input(\"number of seats:\"))\n",
    "buses = (people+seats-1)//seats\n",
    "print(f\"Number of buses: {buses}\")"
   ]
  },
  {
   "cell_type": "markdown",
   "id": "6845dc8d-b230-4925-b876-9907c62036a1",
   "metadata": {},
   "source": [
    "### 2. Take temperature from the user and convert \n",
    "### Fahrenheit -> Celsius."
   ]
  },
  {
   "cell_type": "code",
   "execution_count": 35,
   "id": "29f540fd-6f59-4ec8-a95d-e6ef27641e96",
   "metadata": {},
   "outputs": [
    {
     "name": "stdin",
     "output_type": "stream",
     "text": [
      "Enter Fahrenheit Temp:  98.7\n"
     ]
    },
    {
     "name": "stdout",
     "output_type": "stream",
     "text": [
      "Enter the Celsius temp is 37\n"
     ]
    }
   ],
   "source": [
    "Fahrenheit = float(input(\"Enter Fahrenheit Temp: \"))\n",
    "Celsius = (Fahrenheit - 32) * 5/9\n",
    "print(f\"Enter the Celsius temp is {int(Celsius)}\")\n"
   ]
  },
  {
   "cell_type": "markdown",
   "id": "5f3a9d7e-5787-4b5b-b41c-a56291866135",
   "metadata": {},
   "source": [
    "### 3. Take temperature from the user and convert\n",
    "### Celsius → Fahrenheit."
   ]
  },
  {
   "cell_type": "code",
   "execution_count": 37,
   "id": "cad259aa-f2e3-4974-94c9-0df157e9f91b",
   "metadata": {},
   "outputs": [
    {
     "name": "stdin",
     "output_type": "stream",
     "text": [
      "Enter Celsius Temp:  45\n"
     ]
    },
    {
     "name": "stdout",
     "output_type": "stream",
     "text": [
      "Enter the Fahrenheit temp is 113\n"
     ]
    }
   ],
   "source": [
    "Celsius = float(input(\"Enter Celsius Temp: \"))\n",
    "Fahrenheit = (Celsius * 9/5) + 32\n",
    "print(f\"Enter the Fahrenheit temp is {int(Fahrenheit)}\")"
   ]
  },
  {
   "cell_type": "markdown",
   "id": "1557b59f-edb5-4926-920c-fe8eb7b43028",
   "metadata": {},
   "source": [
    "### 5. Take the distance in km\n",
    "### Show that in cm, meters, in milli meters, cents, feets, yards"
   ]
  },
  {
   "cell_type": "code",
   "execution_count": 107,
   "id": "eaf4421f-d80e-49c5-bc43-43f2404b6127",
   "metadata": {},
   "outputs": [
    {
     "name": "stdin",
     "output_type": "stream",
     "text": [
      "Enter no. of Kilometers:  5\n"
     ]
    },
    {
     "name": "stdout",
     "output_type": "stream",
     "text": [
      " Kilometers:  500000.00 cm\n",
      " Kilometers:  5000.00 m\n",
      " Kilometers:  5000000.00 mm\n",
      " Kilometers:  0.664 cents\n",
      " Kilometers:  16404.20 feets\n",
      " Kilometers:  5468.05 yards\n"
     ]
    }
   ],
   "source": [
    "Kilometers = float(input(\"Enter no. of Kilometers: \"))\n",
    "centimeters = Kilometers * 100000 \n",
    "meters = Kilometers * 1000 \n",
    "millimeters = Kilometers * 1000000\n",
    "cents = Kilometers * 0.13275 \n",
    "feets = Kilometers * 3280.84\n",
    "yards = Kilometers * 1093.61\n",
    "print(f\" Kilometers: {centimeters: .2f} cm\")  \n",
    "print(f\" Kilometers: {meters: .2f} m\")  \n",
    "print(f\" Kilometers: {millimeters: .2f} mm\")  \n",
    "print(f\" Kilometers: {cents: .3f} cents\")  \n",
    "print(f\" Kilometers: {feets: .2f} feets\")  \n",
    "print(f\" Kilometers: {yards: .2f} yards\")"
   ]
  },
  {
   "cell_type": "markdown",
   "id": "2dab76b8-d47b-4c02-b0f3-f109252f74c2",
   "metadata": {},
   "source": [
    "### 6.Take the size of your hard disk in GB\n",
    "### Show that in MB, KB, TB, PB"
   ]
  },
  {
   "cell_type": "code",
   "execution_count": 87,
   "id": "83c2a847-b7bf-40c8-8f4a-0703c8aa35d9",
   "metadata": {},
   "outputs": [
    {
     "name": "stdin",
     "output_type": "stream",
     "text": [
      "Enter size of hard disk in GB:  500\n"
     ]
    },
    {
     "name": "stdout",
     "output_type": "stream",
     "text": [
      " GB is 512000mb\n",
      " GB is 524288000kb\n",
      " GB is 0.49tb\n",
      " GB is 0.00pb\n"
     ]
    }
   ],
   "source": [
    "GB = int(input(\"Enter size of hard disk in GB: \"))\n",
    "MB = GB * 1024\n",
    "KB = GB * 1048576\n",
    "TB = GB / 1024\n",
    "PB = GB / (1024*1024)\n",
    "print(f\" GB is {MB}mb\")\n",
    "print(f\" GB is {KB}kb\")\n",
    "print(f\" GB is {TB:.2f}tb\")\n",
    "print(f\" GB is {PB:.2f}pb\")"
   ]
  },
  {
   "cell_type": "markdown",
   "id": "cd61ec4f-94a8-4692-b0da-4eff5384e918",
   "metadata": {},
   "source": [
    "### 7. Take name, age, height from the user and print like below. \n",
    "### The details of the person: Name:name of the person, Age:age of the person, Height:height of the person. \n",
    "### Note: make sure that no space between : and a value and should be space after “COMA”"
   ]
  },
  {
   "cell_type": "code",
   "execution_count": 154,
   "id": "a87c44ca-ec43-40cc-aaf4-a95e6fabb1af",
   "metadata": {},
   "outputs": [
    {
     "name": "stdin",
     "output_type": "stream",
     "text": [
      " Enter name of person:  Indu\n",
      " Enter age of person:  26\n",
      " Enter height of person:  5.6\n"
     ]
    },
    {
     "name": "stdout",
     "output_type": "stream",
     "text": [
      " The details of the person: Name:Indu, Age:26, Height:5.6\n"
     ]
    }
   ],
   "source": [
    "Name = input(\" Enter name of person: \")\n",
    "Age = input(\" Enter age of person: \")\n",
    "Height = input(\" Enter height of person: \")\n",
    "print(f\" The details of the person: Name:{Name}, Age:{Age}, Height:{Height}\")"
   ]
  },
  {
   "cell_type": "markdown",
   "id": "b0df8e03-1076-40bc-99f0-5c016bf4d0b1",
   "metadata": {},
   "source": [
    "### 8. BMI calculation: take required parameters for BMI calculation from the user and calculate BMI of the person."
   ]
  },
  {
   "cell_type": "code",
   "execution_count": 140,
   "id": "dd0f70ef-898a-4dff-89ad-03f8b49f7628",
   "metadata": {},
   "outputs": [
    {
     "name": "stdin",
     "output_type": "stream",
     "text": [
      "Enter the weight:  56.80\n",
      "Enter the height:  5.6\n"
     ]
    },
    {
     "name": "stdout",
     "output_type": "stream",
     "text": [
      "your BMI is :1.81\n"
     ]
    }
   ],
   "source": [
    "Weight = float(input(\"Enter the weight: \"))\n",
    "Height = float(input(\"Enter the height: \"))\n",
    "BMI = Weight / (Height ** 2)\n",
    "print(f\"your BMI is :{BMI:.2f}\")"
   ]
  },
  {
   "cell_type": "markdown",
   "id": "9ca92c37-c0e3-45b2-ac98-8d6d8cb735cf",
   "metadata": {},
   "source": [
    "### 9. Write a program\n",
    "### name=\"Jayaram\", age=1.6, height=3.5356234, weight=10.343856783\n",
    "### By using above inputs print the output\n",
    "###   Name:Jayaram, Age:1.6, Height:3.54, Weight:10.344\n",
    "### Note: Use format specifiers(%s, %d, %f)"
   ]
  },
  {
   "cell_type": "code",
   "execution_count": 183,
   "id": "cdab9de9-3007-459a-91fa-99d28f0f3baa",
   "metadata": {},
   "outputs": [
    {
     "name": "stdout",
     "output_type": "stream",
     "text": [
      "Enter details of person: \n",
      "Name:Jayaram, Age:1.6, Height:3.54, Weight:10.344\n"
     ]
    }
   ],
   "source": [
    "Name = \"Jayaram\"\n",
    "Age =  1.6\n",
    "Height = 3.5356234\n",
    "Weight = 10.343856783\n",
    "print(f\"Enter details of person: \\nName:%s, Age:%s, Height:%.2f, Weight:%.3f\"%(Name, Age, Height, Weight))"
   ]
  },
  {
   "cell_type": "markdown",
   "id": "0200100b-995d-42e1-a552-e497bb73ca8e",
   "metadata": {},
   "source": [
    "### 10. Take three upper case letters from the user convert in to small case."
   ]
  },
  {
   "cell_type": "code",
   "execution_count": 292,
   "id": "15273118-a259-44ec-a89a-4bb3299a3301",
   "metadata": {},
   "outputs": [
    {
     "name": "stdin",
     "output_type": "stream",
     "text": [
      "Enter first upper case letter:  A\n",
      "Enter first upper case letter:  A\n",
      "Enter first upper case letter:  A\n"
     ]
    },
    {
     "name": "stdout",
     "output_type": "stream",
     "text": [
      "aaa\n"
     ]
    }
   ],
   "source": [
    "letter1 = input(\"Enter first upper case letter: \")\n",
    "letter2 = input(\"Enter first upper case letter: \")\n",
    "letter3 = input(\"Enter first upper case letter: \")\n",
    "First = chr(ord(f'{letter1}')+32)\n",
    "Second =chr(ord(f'{letter2}')+32)\n",
    "Third = chr(ord(f'{letter3}')+32)\n",
    "print(f\"{First}{Second}{Third}\")"
   ]
  },
  {
   "cell_type": "markdown",
   "id": "acfcff55-f9a3-4a32-ab9e-49a4698606a5",
   "metadata": {},
   "source": [
    "### 11. take base and exponent value from the user and print like in mathematics:\n",
    "### example: base=2, exponent=3: 23\n",
    "### Use: 2\\u00b3"
   ]
  },
  {
   "cell_type": "code",
   "execution_count": 284,
   "id": "7b35854d-aeda-411e-a275-56683350b385",
   "metadata": {},
   "outputs": [
    {
     "name": "stdin",
     "output_type": "stream",
     "text": [
      "Enter a base value:  2\n",
      " Enter a Exponent:  3\n"
     ]
    },
    {
     "name": "stdout",
     "output_type": "stream",
     "text": [
      "2³ is 8\n"
     ]
    }
   ],
   "source": [
    "Base = float(input(\"Enter a base value: \"))\n",
    "Exponent=float(input(\" Enter a Exponent: \"))\n",
    "Value = Base ** Exponent\n",
    "print(f\"{int(Base)}\\u00b3 is {int(Value)}\")\n",
    "#print(f\"{int(Base)}^{int(Exponent)} is {Value}\")"
   ]
  },
  {
   "cell_type": "markdown",
   "id": "d4ca311d-1793-45b6-9cca-4b4cc346348d",
   "metadata": {},
   "source": [
    "### 12. Take some groceries cost prices and print total cost and average cost, what is the max cost, what is the minimum cost."
   ]
  },
  {
   "cell_type": "code",
   "execution_count": 361,
   "id": "f36c582a-83e1-4cad-bdb5-96feb23ff0a7",
   "metadata": {},
   "outputs": [
    {
     "ename": "TypeError",
     "evalue": "'int' object is not callable",
     "output_type": "error",
     "traceback": [
      "\u001b[1;31m---------------------------------------------------------------------------\u001b[0m",
      "\u001b[1;31mTypeError\u001b[0m                                 Traceback (most recent call last)",
      "Cell \u001b[1;32mIn[361], line 4\u001b[0m\n\u001b[0;32m      2\u001b[0m total \u001b[38;5;241m=\u001b[39m \u001b[38;5;28msum\u001b[39m(groceries)\n\u001b[0;32m      3\u001b[0m avg_cost \u001b[38;5;241m=\u001b[39m total\u001b[38;5;241m/\u001b[39m\u001b[38;5;28mlen\u001b[39m(groceries)\n\u001b[1;32m----> 4\u001b[0m maxcost  \u001b[38;5;241m=\u001b[39m \u001b[38;5;28mmax\u001b[39m(groceries)\n\u001b[0;32m      5\u001b[0m mincost \u001b[38;5;241m=\u001b[39m \u001b[38;5;28mmin\u001b[39m(groceries)\n\u001b[0;32m      6\u001b[0m \u001b[38;5;28mprint\u001b[39m(\u001b[38;5;124mf\u001b[39m\u001b[38;5;124m\"\u001b[39m\u001b[38;5;124m Total cost for groceries: \u001b[39m\u001b[38;5;132;01m{\u001b[39;00mtotal\u001b[38;5;132;01m}\u001b[39;00m\u001b[38;5;124m\"\u001b[39m)\n",
      "\u001b[1;31mTypeError\u001b[0m: 'int' object is not callable"
     ]
    }
   ],
   "source": [
    "groceries = [35,45.3,200,45.6]\n",
    "total = sum(groceries)\n",
    "avg_cost = total/len(groceries)\n",
    "maxcost  = max(groceries)\n",
    "mincost = min(groceries)\n",
    "print(f\" Total cost for groceries: {total}\")\n",
    "print(f\" av cost for groceries: {avg_cost}\")\n",
    "print(f\" Total cost for groceries: {maxcost}\")\n",
    "print(f\" Total cost for groceries: {mincost}\")"
   ]
  },
  {
   "cell_type": "code",
   "execution_count": 359,
   "id": "ae5c99bc-e372-42cf-b503-b033e4e48d00",
   "metadata": {},
   "outputs": [
    {
     "ename": "TypeError",
     "evalue": "'int' object is not callable",
     "output_type": "error",
     "traceback": [
      "\u001b[1;31m---------------------------------------------------------------------------\u001b[0m",
      "\u001b[1;31mTypeError\u001b[0m                                 Traceback (most recent call last)",
      "Cell \u001b[1;32mIn[359], line 11\u001b[0m\n\u001b[0;32m      8\u001b[0m average_cost \u001b[38;5;241m=\u001b[39m total_cost \u001b[38;5;241m/\u001b[39m \u001b[38;5;28mlen\u001b[39m(grocery_prices)\n\u001b[0;32m     10\u001b[0m \u001b[38;5;66;03m# Find maximum cost\u001b[39;00m\n\u001b[1;32m---> 11\u001b[0m maximum_cost \u001b[38;5;241m=\u001b[39m \u001b[38;5;28mmax\u001b[39m(grocery_prices)\n\u001b[0;32m     13\u001b[0m \u001b[38;5;66;03m# Find minimum cost\u001b[39;00m\n\u001b[0;32m     14\u001b[0m minimum_cost \u001b[38;5;241m=\u001b[39m \u001b[38;5;28mmin\u001b[39m(grocery_prices)\n",
      "\u001b[1;31mTypeError\u001b[0m: 'int' object is not callable"
     ]
    }
   ],
   "source": []
  },
  {
   "cell_type": "code",
   "execution_count": null,
   "id": "ac53b488-5505-4ce3-8cc8-f7d692ad3491",
   "metadata": {},
   "outputs": [],
   "source": []
  }
 ],
 "metadata": {
  "kernelspec": {
   "display_name": "Python 3 (ipykernel)",
   "language": "python",
   "name": "python3"
  },
  "language_info": {
   "codemirror_mode": {
    "name": "ipython",
    "version": 3
   },
   "file_extension": ".py",
   "mimetype": "text/x-python",
   "name": "python",
   "nbconvert_exporter": "python",
   "pygments_lexer": "ipython3",
   "version": "3.12.4"
  }
 },
 "nbformat": 4,
 "nbformat_minor": 5
}
