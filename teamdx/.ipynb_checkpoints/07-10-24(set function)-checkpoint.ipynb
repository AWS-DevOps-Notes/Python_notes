{
 "cells": [
  {
   "cell_type": "code",
   "execution_count": 1,
   "id": "6c690e35-7ab6-46a4-ac49-a7d0de3eda4a",
   "metadata": {},
   "outputs": [],
   "source": [
    "s=(10,12,34,True,None,(1,2,3))"
   ]
  },
  {
   "cell_type": "code",
   "execution_count": null,
   "id": "9027fa9f-e49d-4163-933e-2ab071b2b86b",
   "metadata": {},
   "outputs": [],
   "source": [
    "s"
   ]
  },
  {
   "cell_type": "code",
   "execution_count": 3,
   "id": "a6da2680-f72b-4e63-ae74-686719fad113",
   "metadata": {},
   "outputs": [
    {
     "ename": "TypeError",
     "evalue": "'set' object is not subscriptable",
     "output_type": "error",
     "traceback": [
      "\u001b[1;31m------------------------------------------------------------------------\u001b[0m",
      "\u001b[1;31mTypeError\u001b[0m                              Traceback (most recent call last)",
      "Cell \u001b[1;32mIn[3], line 4\u001b[0m\n\u001b[0;32m      1\u001b[0m \u001b[38;5;66;03m# set is a unordered collection of immutable elements\u001b[39;00m\n\u001b[0;32m      2\u001b[0m \u001b[38;5;66;03m#set is mutable\u001b[39;00m\n\u001b[0;32m      3\u001b[0m s\u001b[38;5;241m=\u001b[39m{\u001b[38;5;241m10\u001b[39m,\u001b[38;5;241m2\u001b[39m,\u001b[38;5;241m3\u001b[39m,\u001b[38;5;241m4\u001b[39m}\n\u001b[1;32m----> 4\u001b[0m \u001b[38;5;28mprint\u001b[39m(s[\u001b[38;5;241m0\u001b[39m])\n",
      "\u001b[1;31mTypeError\u001b[0m: 'set' object is not subscriptable"
     ]
    }
   ],
   "source": [
    "# set is a unordered collection of immutable elements\n",
    "#set is mutable\n",
    "s={10,2,3,4}\n",
    "print(s[0])"
   ]
  },
  {
   "cell_type": "code",
   "execution_count": 5,
   "id": "3e647a15-4792-4e7d-849c-d8bba00065e5",
   "metadata": {},
   "outputs": [
    {
     "name": "stdout",
     "output_type": "stream",
     "text": [
      "2\n",
      "10\n",
      "3\n",
      "4\n"
     ]
    }
   ],
   "source": [
    "s={10,2,3,4}\n",
    "for i in s:\n",
    "    print(i)"
   ]
  },
  {
   "cell_type": "code",
   "execution_count": 11,
   "id": "11f5e208-fe85-43af-9200-7a3cd81dc824",
   "metadata": {},
   "outputs": [
    {
     "name": "stdout",
     "output_type": "stream",
     "text": [
      "s1= {100, 40, 10, 20, 30}\n",
      "s2= {100, 40, 10, 20, 30}\n",
      "s3= {40, 10, 20, 30}\n",
      "s4= {40, 10, 20, 30}\n"
     ]
    }
   ],
   "source": [
    "from copy import deepcopy\n",
    "s1={10,20,30,40}\n",
    "s2=s1\n",
    "s3=s1.copy()\n",
    "s4=deepcopy(s1)\n",
    "s1.add(100)\n",
    "print('s1=',s1)\n",
    "print('s2=',s2)\n",
    "print('s3=',s3)\n",
    "print('s4=',s4)"
   ]
  },
  {
   "cell_type": "code",
   "execution_count": 13,
   "id": "dfa9da56-2d46-4d54-ba1f-5ab27f57e51d",
   "metadata": {},
   "outputs": [
    {
     "name": "stdout",
     "output_type": "stream",
     "text": [
      "1000 2553551633872\n",
      "(1000, 2000, 3000) 2553498376384\n",
      "4567.89 2553497006128\n",
      "********************\n",
      "1000 2553551633872\n",
      "(1000, 2000, 3000) 2553498376384\n",
      "4567.89 2553497006128\n",
      "********************\n",
      "1000 2553551633872\n",
      "(1000, 2000, 3000) 2553498376384\n",
      "4567.89 2553497006128\n"
     ]
    }
   ],
   "source": [
    "s1={1000,(1000,2000,3000),4567.89}\n",
    "s2=s1.copy()\n",
    "s3=deepcopy(s1)\n",
    "for i in s1:\n",
    "    print(i,id(i))\n",
    "print('*'*20)\n",
    "for i in s2:\n",
    "    print(i,id(i))\n",
    "print('*'*20)\n",
    "for i in s3:\n",
    "    print(i,id(i))\n",
    "    "
   ]
  },
  {
   "cell_type": "code",
   "execution_count": 15,
   "id": "2ce8e1e6-6f75-4c76-b152-64c84c37c137",
   "metadata": {},
   "outputs": [
    {
     "name": "stdout",
     "output_type": "stream",
     "text": [
      "['__and__', '__class__', '__class_getitem__', '__contains__', '__delattr__', '__dir__', '__doc__', '__eq__', '__format__', '__ge__', '__getattribute__', '__getstate__', '__gt__', '__hash__', '__iand__', '__init__', '__init_subclass__', '__ior__', '__isub__', '__iter__', '__ixor__', '__le__', '__len__', '__lt__', '__ne__', '__new__', '__or__', '__rand__', '__reduce__', '__reduce_ex__', '__repr__', '__ror__', '__rsub__', '__rxor__', '__setattr__', '__sizeof__', '__str__', '__sub__', '__subclasshook__', '__xor__', 'add', 'clear', 'copy', 'difference', 'difference_update', 'discard', 'intersection', 'intersection_update', 'isdisjoint', 'issubset', 'issuperset', 'pop', 'remove', 'symmetric_difference', 'symmetric_difference_update', 'union', 'update']\n"
     ]
    }
   ],
   "source": [
    "print(dir(s1))"
   ]
  },
  {
   "cell_type": "code",
   "execution_count": null,
   "id": "0ab1a35c-72ab-4f0e-bdac-85fe1c3c40cb",
   "metadata": {},
   "outputs": [],
   "source": [
    "```\n",
    "'add', 'clear', 'copy', 'difference', 'difference_update', 'discard', 'intersection', 'intersection_update', 'isdisjoint', 'issubset', 'issuperset', 'pop', 'remove', 'symmetric_difference', 'symmetric_difference_update', 'union', 'update'\n",
    "```"
   ]
  },
  {
   "cell_type": "code",
   "execution_count": 23,
   "id": "7f67a6a8-0131-45cf-b13c-52328c5c6baa",
   "metadata": {},
   "outputs": [
    {
     "name": "stdout",
     "output_type": "stream",
     "text": [
      "{200, 'python', 100, 300} None\n"
     ]
    }
   ],
   "source": [
    "s1={100,200,300}   # add\n",
    "s2=s1.add('python')\n",
    "print(s1,s2)"
   ]
  },
  {
   "cell_type": "code",
   "execution_count": 21,
   "id": "a273bf27-4052-4e4a-b49c-4f6bc248fa4a",
   "metadata": {},
   "outputs": [
    {
     "name": "stdout",
     "output_type": "stream",
     "text": [
      "{100, 'h', 200, 'p', 'y', 300, 'o', 'n', 't'} None\n"
     ]
    }
   ],
   "source": [
    "s1={100,200,300}          #update\n",
    "s2=s1.update('python')\n",
    "print(s1,s2)"
   ]
  },
  {
   "cell_type": "code",
   "execution_count": 27,
   "id": "4cd467d1-7f7f-4ebf-9c86-4f5a4d54a4d0",
   "metadata": {},
   "outputs": [
    {
     "name": "stdout",
     "output_type": "stream",
     "text": [
      "set() None\n"
     ]
    }
   ],
   "source": [
    "s1={100,200,300} #clear\n",
    "s2=s1.clear()\n",
    "print(s1,s2)"
   ]
  },
  {
   "cell_type": "code",
   "execution_count": 31,
   "id": "f5d23c93-4c2c-4381-8346-8557c508c96b",
   "metadata": {},
   "outputs": [
    {
     "name": "stdout",
     "output_type": "stream",
     "text": [
      "set() set() None\n"
     ]
    }
   ],
   "source": [
    "s1={100,200,300}  #clear\n",
    "s2=s1\n",
    "s3=s2.clear()\n",
    "print(s1,s2,s3)"
   ]
  },
  {
   "cell_type": "code",
   "execution_count": 39,
   "id": "ab415553-323f-4646-a417-27a7b633b6e7",
   "metadata": {},
   "outputs": [
    {
     "name": "stdout",
     "output_type": "stream",
     "text": [
      "{1, 2, 3, 4}\n",
      "{3, 4, 5, 6}\n",
      "{1, 2}\n"
     ]
    }
   ],
   "source": [
    "s1={1,2,3,4}  #difference\n",
    "s2={3,4,5,6}\n",
    "s3=s1.difference(s2)\n",
    "print(s1)\n",
    "print(s2)\n",
    "print(s3)"
   ]
  },
  {
   "cell_type": "code",
   "execution_count": 43,
   "id": "7bdab2ce-b726-4c64-b379-c7003711853e",
   "metadata": {},
   "outputs": [
    {
     "name": "stdout",
     "output_type": "stream",
     "text": [
      "{1, 2, 3, 4}\n",
      "{3, 4, 5, 6}\n",
      "{5, 6}\n"
     ]
    }
   ],
   "source": [
    "s1={1,2,3,4}  #difference\n",
    "s2={3,4,5,6}\n",
    "s3=s2.difference(s1)\n",
    "print(s1)\n",
    "print(s2)\n",
    "print(s3)"
   ]
  },
  {
   "cell_type": "code",
   "execution_count": 45,
   "id": "fa6b5968-1131-4be9-ae5a-b1846456e87a",
   "metadata": {},
   "outputs": [
    {
     "name": "stdout",
     "output_type": "stream",
     "text": [
      "{1, 2, 3, 4}\n",
      "{5, 6}\n",
      "None\n"
     ]
    }
   ],
   "source": [
    "s1={1,2,3,4}  #difference_update\n",
    "s2={3,4,5,6}\n",
    "s3=s2.difference_update(s1)\n",
    "print(s1)\n",
    "print(s2)\n",
    "print(s3)"
   ]
  },
  {
   "cell_type": "code",
   "execution_count": 47,
   "id": "69e6bcee-016d-4c67-997c-492364ba9987",
   "metadata": {},
   "outputs": [
    {
     "name": "stdout",
     "output_type": "stream",
     "text": [
      "{1, 2, 3, 4}\n",
      "{3, 4, 5, 6}\n",
      "{1, 2, 5, 6}\n"
     ]
    }
   ],
   "source": [
    "s1={1,2,3,4}  #symmetric_difference s2-s1 U s1-s2\n",
    "s2={3,4,5,6}\n",
    "s3=s2.symmetric_difference(s1)\n",
    "print(s1)\n",
    "print(s2)\n",
    "print(s3)"
   ]
  },
  {
   "cell_type": "code",
   "execution_count": 49,
   "id": "65974628-e051-47de-84e6-4a3b2c046cce",
   "metadata": {},
   "outputs": [
    {
     "name": "stdout",
     "output_type": "stream",
     "text": [
      "{1, 2, 3, 4}\n",
      "{3, 4, 5, 6}\n",
      "{1, 2, 3, 4, 5, 6}\n"
     ]
    }
   ],
   "source": [
    "s1={1,2,3,4}  #union s2 U s2\n",
    "s2={3,4,5,6}\n",
    "s3=s1.union(s2)\n",
    "print(s1)\n",
    "print(s2)\n",
    "print(s3)"
   ]
  },
  {
   "cell_type": "code",
   "execution_count": 51,
   "id": "a54e5e8a-5ad7-44ac-b4bf-a469782aefd6",
   "metadata": {},
   "outputs": [
    {
     "name": "stdout",
     "output_type": "stream",
     "text": [
      "{1, 2, 3, 4}\n",
      "{3, 4, 5, 6}\n",
      "{3, 4}\n"
     ]
    }
   ],
   "source": [
    "s1={1,2,3,4}  #intersection will give comman values\n",
    "s2={3,4,5,6}\n",
    "s3=s1.intersection(s2)\n",
    "print(s1)\n",
    "print(s2)\n",
    "print(s3)"
   ]
  },
  {
   "cell_type": "code",
   "execution_count": 53,
   "id": "8aa5e498-8413-465f-90c8-8cc232fb3db7",
   "metadata": {},
   "outputs": [
    {
     "name": "stdout",
     "output_type": "stream",
     "text": [
      "{3, 4}\n",
      "{3, 4, 5, 6}\n",
      "None\n"
     ]
    }
   ],
   "source": [
    "s1={1,2,3,4}  # intersection_update\n",
    "s2={3,4,5,6}\n",
    "s3=s1.intersection_update(s2)\n",
    "print(s1)\n",
    "print(s2)\n",
    "print(s3)"
   ]
  },
  {
   "cell_type": "code",
   "execution_count": 55,
   "id": "fd619762-bacc-4914-85e6-31c38e8d3a98",
   "metadata": {},
   "outputs": [
    {
     "name": "stdout",
     "output_type": "stream",
     "text": [
      "{1, 2, 3, 4, 5, 6}\n",
      "{3, 4, 5, 6}\n",
      "None\n"
     ]
    }
   ],
   "source": [
    "s1={1,2,3,4}  # update is considered as union_update thats why specialy union update not givin\n",
    "s2={3,4,5,6}\n",
    "s3=s1.update(s2)\n",
    "print(s1)\n",
    "print(s2)\n",
    "print(s3)"
   ]
  },
  {
   "cell_type": "code",
   "execution_count": 57,
   "id": "313c160a-dc15-4006-8fb0-b6c25fc5377f",
   "metadata": {},
   "outputs": [
    {
     "name": "stdout",
     "output_type": "stream",
     "text": [
      "{1, 2, 5, 6}\n",
      "{3, 4, 5, 6}\n",
      "None\n"
     ]
    }
   ],
   "source": [
    "s1={1,2,3,4}  # symmetric_difference_update, will do diff with s1 and update with new one\n",
    "s2={3,4,5,6}\n",
    "s3=s1.symmetric_difference_update(s2)\n",
    "print(s1)\n",
    "print(s2)\n",
    "print(s3)"
   ]
  },
  {
   "cell_type": "code",
   "execution_count": 61,
   "id": "f9179404-3a0d-4d93-a40f-be2ea444b235",
   "metadata": {},
   "outputs": [
    {
     "ename": "KeyError",
     "evalue": "4000",
     "output_type": "error",
     "traceback": [
      "\u001b[1;31m------------------------------------------------------------------------\u001b[0m",
      "\u001b[1;31mKeyError\u001b[0m                               Traceback (most recent call last)",
      "Cell \u001b[1;32mIn[61], line 2\u001b[0m\n\u001b[0;32m      1\u001b[0m s1\u001b[38;5;241m=\u001b[39m{\u001b[38;5;241m1000\u001b[39m,\u001b[38;5;241m2000\u001b[39m,\u001b[38;5;241m3000\u001b[39m}\n\u001b[1;32m----> 2\u001b[0m s2\u001b[38;5;241m=\u001b[39ms1\u001b[38;5;241m.\u001b[39mremove(\u001b[38;5;241m4000\u001b[39m)\n\u001b[0;32m      3\u001b[0m \u001b[38;5;28mprint\u001b[39m(s1)\n\u001b[0;32m      4\u001b[0m \u001b[38;5;28mprint\u001b[39m(s2)\n",
      "\u001b[1;31mKeyError\u001b[0m: 4000"
     ]
    }
   ],
   "source": [
    "s1={1000,2000,3000}\n",
    "s2=s1.remove(4000)\n",
    "print(s1)\n",
    "print(s2)"
   ]
  },
  {
   "cell_type": "code",
   "execution_count": 63,
   "id": "0e231ea2-7a68-4ebb-9674-d11ef657c1dc",
   "metadata": {},
   "outputs": [
    {
     "name": "stdout",
     "output_type": "stream",
     "text": [
      "{1000, 3000, 2000}\n",
      "None\n"
     ]
    }
   ],
   "source": [
    "s1={1000,2000,3000}\n",
    "s2=s1.discard(4000)\n",
    "print(s1)\n",
    "print(s2)"
   ]
  },
  {
   "cell_type": "code",
   "execution_count": 67,
   "id": "6d2b1353-4bc0-4280-8c0d-bdaf29d8aa1d",
   "metadata": {},
   "outputs": [
    {
     "name": "stdout",
     "output_type": "stream",
     "text": [
      "{3000, 2000}\n",
      "1000\n"
     ]
    }
   ],
   "source": [
    "s1={1000,2000,3000}\n",
    "s2=s1.pop()\n",
    "print(s1)\n",
    "print(s2)"
   ]
  },
  {
   "cell_type": "code",
   "execution_count": 81,
   "id": "2847f2cc-62ff-4954-936e-811edbcfaf31",
   "metadata": {},
   "outputs": [
    {
     "name": "stdout",
     "output_type": "stream",
     "text": [
      "{1, 2, 3, 4}\n",
      "False\n"
     ]
    }
   ],
   "source": [
    "s1={1,2,3,4}\n",
    "s2={3,4,5,6}\n",
    "s2=s1.issubset(s2)\n",
    "print(s1)\n",
    "print(s2)"
   ]
  },
  {
   "cell_type": "code",
   "execution_count": 83,
   "id": "b82e4e98-4a04-4b2a-9dec-06858eb022c2",
   "metadata": {},
   "outputs": [
    {
     "name": "stdout",
     "output_type": "stream",
     "text": [
      "{1, 2, 3, 4}\n",
      "False\n"
     ]
    }
   ],
   "source": [
    "s1={1,2,3,4}\n",
    "s2={3,4,5,6}\n",
    "s2=s1.isdisjoint(s2)\n",
    "print(s1)\n",
    "print(s2)"
   ]
  },
  {
   "cell_type": "code",
   "execution_count": 85,
   "id": "0630797d-6f99-47f4-a770-7fa2df4082d7",
   "metadata": {},
   "outputs": [
    {
     "name": "stdout",
     "output_type": "stream",
     "text": [
      "{1, 2, 3, 4}\n",
      "False\n"
     ]
    }
   ],
   "source": [
    "s1={1,2,3,4}\n",
    "s2={3,4,5,6}\n",
    "s2=s1.issuperset(s2)\n",
    "print(s1)\n",
    "print(s2)"
   ]
  },
  {
   "cell_type": "code",
   "execution_count": null,
   "id": "3cc15aa5-b273-4f28-a454-4e1ecd8dc556",
   "metadata": {},
   "outputs": [],
   "source": []
  }
 ],
 "metadata": {
  "kernelspec": {
   "display_name": "Python 3 (ipykernel)",
   "language": "python",
   "name": "python3"
  },
  "language_info": {
   "codemirror_mode": {
    "name": "ipython",
    "version": 3
   },
   "file_extension": ".py",
   "mimetype": "text/x-python",
   "name": "python",
   "nbconvert_exporter": "python",
   "pygments_lexer": "ipython3",
   "version": "3.12.4"
  }
 },
 "nbformat": 4,
 "nbformat_minor": 5
}
