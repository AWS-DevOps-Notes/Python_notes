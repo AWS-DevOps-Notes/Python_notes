{
 "cells": [
  {
   "cell_type": "code",
   "execution_count": 1,
   "id": "1b941f82-0625-4f62-a358-7165cf0765f3",
   "metadata": {},
   "outputs": [],
   "source": [
    "# two phases = compilation phase and execution phase"
   ]
  },
  {
   "cell_type": "code",
   "execution_count": 3,
   "id": "309018c8-9de4-4b46-899e-34f444626970",
   "metadata": {},
   "outputs": [],
   "source": [
    "# exception handling - when exception raised need to do  control and tell to user "
   ]
  },
  {
   "cell_type": "code",
   "execution_count": 7,
   "id": "21a96eb3-d9bd-47ad-bff8-3effd770163a",
   "metadata": {},
   "outputs": [
    {
     "name": "stdout",
     "output_type": "stream",
     "text": [
      "started\n"
     ]
    },
    {
     "name": "stdin",
     "output_type": "stream",
     "text": [
      "enter number1:  1.2\n",
      "enter number1:  3.4\n"
     ]
    },
    {
     "name": "stdout",
     "output_type": "stream",
     "text": [
      "n1=1.2,n2=3.4\n"
     ]
    },
    {
     "ename": "ValueError",
     "evalue": "invalid literal for int() with base 10: '1.2'",
     "output_type": "error",
     "traceback": [
      "\u001b[1;31m---------------------------------------------------------------------------\u001b[0m",
      "\u001b[1;31mValueError\u001b[0m                                Traceback (most recent call last)",
      "Cell \u001b[1;32mIn[7], line 5\u001b[0m\n\u001b[0;32m      3\u001b[0m n2\u001b[38;5;241m=\u001b[39m\u001b[38;5;28minput\u001b[39m(\u001b[38;5;124m'\u001b[39m\u001b[38;5;124menter number1: \u001b[39m\u001b[38;5;124m'\u001b[39m)\n\u001b[0;32m      4\u001b[0m \u001b[38;5;28mprint\u001b[39m(\u001b[38;5;124mf\u001b[39m\u001b[38;5;124m'\u001b[39m\u001b[38;5;124mn1=\u001b[39m\u001b[38;5;132;01m{\u001b[39;00mn1\u001b[38;5;132;01m}\u001b[39;00m\u001b[38;5;124m,n2=\u001b[39m\u001b[38;5;132;01m{\u001b[39;00mn2\u001b[38;5;132;01m}\u001b[39;00m\u001b[38;5;124m'\u001b[39m)\n\u001b[1;32m----> 5\u001b[0m n1\u001b[38;5;241m=\u001b[39m\u001b[38;5;28mint\u001b[39m(n1)\n\u001b[0;32m      6\u001b[0m n2\u001b[38;5;241m=\u001b[39m\u001b[38;5;28mint\u001b[39m(n2)\n\u001b[0;32m      7\u001b[0m \u001b[38;5;28mprint\u001b[39m(\u001b[38;5;124mf\u001b[39m\u001b[38;5;124m'\u001b[39m\u001b[38;5;124mAFter conversion: n1=\u001b[39m\u001b[38;5;132;01m{\u001b[39;00mn2\u001b[38;5;132;01m}\u001b[39;00m\u001b[38;5;124m, n2=\u001b[39m\u001b[38;5;132;01m{\u001b[39;00mn2\u001b[38;5;132;01m}\u001b[39;00m\u001b[38;5;124m'\u001b[39m)\n",
      "\u001b[1;31mValueError\u001b[0m: invalid literal for int() with base 10: '1.2'"
     ]
    }
   ],
   "source": [
    "print('started')\n",
    "n1=input('enter number1: ')\n",
    "n2=input('enter number1: ')\n",
    "print(f'n1={n1},n2={n2}')\n",
    "n1=int(n1)\n",
    "n2=int(n2)\n",
    "print(f'AFter conversion: n1={n2}, n2={n2}')\n",
    "res=n1/n2"
   ]
  },
  {
   "cell_type": "code",
   "execution_count": 9,
   "id": "2679b654-9635-42e8-9faa-9c25448ca7b8",
   "metadata": {},
   "outputs": [
    {
     "name": "stdout",
     "output_type": "stream",
     "text": [
      "started\n"
     ]
    },
    {
     "name": "stdin",
     "output_type": "stream",
     "text": [
      "enter number1:  1.2\n",
      "enter number1:  3.4\n"
     ]
    },
    {
     "name": "stdout",
     "output_type": "stream",
     "text": [
      "n1=1.2,n2=3.4\n"
     ]
    },
    {
     "ename": "ValueError",
     "evalue": "invalid literal for int() with base 10: '1.2'",
     "output_type": "error",
     "traceback": [
      "\u001b[1;31m---------------------------------------------------------------------------\u001b[0m",
      "\u001b[1;31mValueError\u001b[0m                                Traceback (most recent call last)",
      "Cell \u001b[1;32mIn[9], line 5\u001b[0m\n\u001b[0;32m      3\u001b[0m n2\u001b[38;5;241m=\u001b[39m\u001b[38;5;28minput\u001b[39m(\u001b[38;5;124m'\u001b[39m\u001b[38;5;124menter number1: \u001b[39m\u001b[38;5;124m'\u001b[39m)\n\u001b[0;32m      4\u001b[0m \u001b[38;5;28mprint\u001b[39m(\u001b[38;5;124mf\u001b[39m\u001b[38;5;124m'\u001b[39m\u001b[38;5;124mn1=\u001b[39m\u001b[38;5;132;01m{\u001b[39;00mn1\u001b[38;5;132;01m}\u001b[39;00m\u001b[38;5;124m,n2=\u001b[39m\u001b[38;5;132;01m{\u001b[39;00mn2\u001b[38;5;132;01m}\u001b[39;00m\u001b[38;5;124m'\u001b[39m)\n\u001b[1;32m----> 5\u001b[0m n1\u001b[38;5;241m=\u001b[39m\u001b[38;5;28mint\u001b[39m(n1)\n\u001b[0;32m      6\u001b[0m n2\u001b[38;5;241m=\u001b[39m\u001b[38;5;28mint\u001b[39m(n2)\n\u001b[0;32m      7\u001b[0m \u001b[38;5;28mprint\u001b[39m(\u001b[38;5;124mf\u001b[39m\u001b[38;5;124m'\u001b[39m\u001b[38;5;124mAFter conversion: n1=\u001b[39m\u001b[38;5;132;01m{\u001b[39;00mn2\u001b[38;5;132;01m}\u001b[39;00m\u001b[38;5;124m, n2=\u001b[39m\u001b[38;5;132;01m{\u001b[39;00mn2\u001b[38;5;132;01m}\u001b[39;00m\u001b[38;5;124m'\u001b[39m)\n",
      "\u001b[1;31mValueError\u001b[0m: invalid literal for int() with base 10: '1.2'"
     ]
    }
   ],
   "source": [
    "print('started')\n",
    "n1=input('enter number1: ')\n",
    "n2=input('enter number1: ')\n",
    "print(f'n1={n1},n2={n2}')\n",
    "n1=int(n1)\n",
    "n2=int(n2)\n",
    "print(f'AFter conversion: n1={n2}, n2={n2}')\n",
    "res\n",
    "print('result=',res)\n",
    "print('DONE')"
   ]
  },
  {
   "cell_type": "code",
   "execution_count": 15,
   "id": "5511e849-44d8-4e5d-830e-f27e5d146a79",
   "metadata": {},
   "outputs": [
    {
     "name": "stdout",
     "output_type": "stream",
     "text": [
      "started\n"
     ]
    },
    {
     "name": "stdin",
     "output_type": "stream",
     "text": [
      "enter number1:  1.2\n",
      "enter number1:  2.3\n"
     ]
    },
    {
     "name": "stdout",
     "output_type": "stream",
     "text": [
      "n1=1.2,n2=2.3\n",
      "AFter conversion: n1=2.3, n2=2.3\n",
      "result= 0.5217391304347826\n",
      "DONE\n"
     ]
    }
   ],
   "source": [
    "print('started')\n",
    "n1=input('enter number1: ')\n",
    "n2=input('enter number1: ')\n",
    "print(f'n1={n1},n2={n2}')\n",
    "n1=float(n1)\n",
    "n2=float(n2)\n",
    "print(f'AFter conversion: n1={n2}, n2={n2}')\n",
    "res=n1/n2\n",
    "print('result=',res)\n",
    "print('DONE')"
   ]
  },
  {
   "cell_type": "code",
   "execution_count": 17,
   "id": "03b2a237-d479-412d-8366-808e879d6bf1",
   "metadata": {},
   "outputs": [
    {
     "name": "stdout",
     "output_type": "stream",
     "text": [
      "started\n"
     ]
    },
    {
     "name": "stdin",
     "output_type": "stream",
     "text": [
      "enter number1:  2.3\n",
      "enter number1:  3.4\n"
     ]
    },
    {
     "name": "stdout",
     "output_type": "stream",
     "text": [
      "n1=2.3,n2=3.4\n",
      "AFter conversion: n1=3.4, n2=3.4\n",
      "result= 0.676470588235294\n",
      "DONE\n"
     ]
    }
   ],
   "source": [
    "try:\n",
    "    print('started')\n",
    "    n1=input('enter number1: ')\n",
    "    n2=input('enter number1: ')\n",
    "    print(f'n1={n1},n2={n2}')\n",
    "    n1=float(n1)\n",
    "    n2=float(n2)\n",
    "    print(f'AFter conversion: n1={n2}, n2={n2}')\n",
    "    res=n1/n2\n",
    "    print('result=',res)\n",
    "    print('DONE')\n",
    "except:\n",
    "    print('error')"
   ]
  },
  {
   "cell_type": "code",
   "execution_count": null,
   "id": "1cec0d11-d983-4221-b494-f5c5ec2fdbe5",
   "metadata": {},
   "outputs": [],
   "source": []
  }
 ],
 "metadata": {
  "kernelspec": {
   "display_name": "Python 3 (ipykernel)",
   "language": "python",
   "name": "python3"
  },
  "language_info": {
   "codemirror_mode": {
    "name": "ipython",
    "version": 3
   },
   "file_extension": ".py",
   "mimetype": "text/x-python",
   "name": "python",
   "nbconvert_exporter": "python",
   "pygments_lexer": "ipython3",
   "version": "3.12.4"
  }
 },
 "nbformat": 4,
 "nbformat_minor": 5
}
