{
 "cells": [
  {
   "cell_type": "code",
   "execution_count": 1,
   "id": "af968dcb-9116-4361-8caf-dc362d37d4a9",
   "metadata": {},
   "outputs": [
    {
     "name": "stdout",
     "output_type": "stream",
     "text": [
      "['__add__', '__class__', '__contains__', '__delattr__', '__dir__', '__doc__', '__eq__', '__format__', '__ge__', '__getattribute__', '__getitem__', '__getnewargs__', '__getstate__', '__gt__', '__hash__', '__init__', '__init_subclass__', '__iter__', '__le__', '__len__', '__lt__', '__mod__', '__mul__', '__ne__', '__new__', '__reduce__', '__reduce_ex__', '__repr__', '__rmod__', '__rmul__', '__setattr__', '__sizeof__', '__str__', '__subclasshook__', 'capitalize', 'casefold', 'center', 'count', 'encode', 'endswith', 'expandtabs', 'find', 'format', 'format_map', 'index', 'isalnum', 'isalpha', 'isascii', 'isdecimal', 'isdigit', 'isidentifier', 'islower', 'isnumeric', 'isprintable', 'isspace', 'istitle', 'isupper', 'join', 'ljust', 'lower', 'lstrip', 'maketrans', 'partition', 'removeprefix', 'removesuffix', 'replace', 'rfind', 'rindex', 'rjust', 'rpartition', 'rsplit', 'rstrip', 'split', 'splitlines', 'startswith', 'strip', 'swapcase', 'title', 'translate', 'upper', 'zfill']\n"
     ]
    }
   ],
   "source": [
    "s='hyd'\n",
    "print(dir(s))"
   ]
  },
  {
   "cell_type": "code",
   "execution_count": 5,
   "id": "a667c9b6-873f-417d-ba0e-121727f961be",
   "metadata": {},
   "outputs": [
    {
     "name": "stdout",
     "output_type": "stream",
     "text": [
      "Hyderabad is a clean city\n"
     ]
    }
   ],
   "source": [
    "s='hyderabad is a clean city'\n",
    "print(s.capitalize())"
   ]
  },
  {
   "cell_type": "code",
   "execution_count": 7,
   "id": "978d8c53-b601-4da0-bed5-b1e4f349736b",
   "metadata": {},
   "outputs": [
    {
     "data": {
      "text/plain": [
       "\u001b[1;31mSignature:\u001b[0m \u001b[0ms\u001b[0m\u001b[1;33m.\u001b[0m\u001b[0mcapitalize\u001b[0m\u001b[1;33m(\u001b[0m\u001b[1;33m)\u001b[0m\u001b[1;33m\u001b[0m\u001b[1;33m\u001b[0m\u001b[0m\n",
       "\u001b[1;31mDocstring:\u001b[0m\n",
       "Return a capitalized version of the string.\n",
       "\n",
       "More specifically, make the first character have upper case and the rest lower\n",
       "case.\n",
       "\u001b[1;31mType:\u001b[0m      builtin_function_or_method"
      ]
     },
     "metadata": {},
     "output_type": "display_data"
    }
   ],
   "source": [
    "s.capitalize?"
   ]
  },
  {
   "cell_type": "code",
   "execution_count": 9,
   "id": "eba77306-fdc1-42f7-ad95-8374167426d9",
   "metadata": {},
   "outputs": [
    {
     "name": "stdout",
     "output_type": "stream",
     "text": [
      "Hyderabad is a clean city\n"
     ]
    }
   ],
   "source": [
    "s='hyderabad is a clean CITY'\n",
    "print(s.capitalize())"
   ]
  },
  {
   "cell_type": "code",
   "execution_count": 11,
   "id": "c3a64b86-2149-4d96-8b1e-335079f13ca5",
   "metadata": {},
   "outputs": [
    {
     "name": "stdout",
     "output_type": "stream",
     "text": [
      "2hyderabad is a clean city\n"
     ]
    }
   ],
   "source": [
    "s='2hyderabad is a clean CITY'\n",
    "print(s.capitalize())"
   ]
  },
  {
   "cell_type": "code",
   "execution_count": 13,
   "id": "f3fc3d7c-c780-451e-ae11-f9b2f5c2dc15",
   "metadata": {},
   "outputs": [
    {
     "name": "stdout",
     "output_type": "stream",
     "text": [
      "\n"
     ]
    }
   ],
   "source": [
    "s=''\n",
    "print(s.capitalize())"
   ]
  },
  {
   "cell_type": "code",
   "execution_count": 15,
   "id": "6ec2226b-6773-4b28-8d3f-0aacaa9ac6fd",
   "metadata": {},
   "outputs": [
    {
     "name": "stdout",
     "output_type": "stream",
     "text": [
      "2#$%\n"
     ]
    }
   ],
   "source": [
    "s='2#$%'\n",
    "print(s.capitalize())"
   ]
  },
  {
   "cell_type": "code",
   "execution_count": 17,
   "id": "a9a56e7e-76f3-4b34-a0b6-58219d1a7ee2",
   "metadata": {},
   "outputs": [
    {
     "name": "stdout",
     "output_type": "stream",
     "text": [
      "2#$%^a\n"
     ]
    }
   ],
   "source": [
    "s='2#$%^A'\n",
    "print(s.capitalize())"
   ]
  },
  {
   "cell_type": "code",
   "execution_count": 19,
   "id": "78b88009-7f94-4e49-ac50-c28e0fba3b91",
   "metadata": {},
   "outputs": [
    {
     "name": "stdout",
     "output_type": "stream",
     "text": [
      "12345\n"
     ]
    }
   ],
   "source": [
    "s='12345'\n",
    "print(s.capitalize())"
   ]
  },
  {
   "cell_type": "code",
   "execution_count": 21,
   "id": "14ff72ad-e0fe-43f0-a639-507fe9461df1",
   "metadata": {},
   "outputs": [
    {
     "data": {
      "text/plain": [
       "\u001b[1;31mSignature:\u001b[0m \u001b[0madd\u001b[0m\u001b[1;33m(\u001b[0m\u001b[0mx\u001b[0m\u001b[1;33m,\u001b[0m \u001b[0my\u001b[0m\u001b[1;33m)\u001b[0m\u001b[1;33m\u001b[0m\u001b[1;33m\u001b[0m\u001b[0m\n",
       "\u001b[1;31mDocstring:\u001b[0m <no docstring>\n",
       "\u001b[1;31mFile:\u001b[0m      c:\\users\\dhanusha\\appdata\\local\\temp\\ipykernel_34480\\859063251.py\n",
       "\u001b[1;31mType:\u001b[0m      function"
      ]
     },
     "metadata": {},
     "output_type": "display_data"
    }
   ],
   "source": [
    "def add(x,y):\n",
    "    return x+y\n",
    "add?"
   ]
  },
  {
   "cell_type": "code",
   "execution_count": 23,
   "id": "799790f6-1bb8-4d70-a433-997355444b4a",
   "metadata": {},
   "outputs": [
    {
     "data": {
      "text/plain": [
       "\u001b[1;31mSignature:\u001b[0m \u001b[0madd\u001b[0m\u001b[1;33m(\u001b[0m\u001b[0mx\u001b[0m\u001b[1;33m,\u001b[0m \u001b[0my\u001b[0m\u001b[1;33m)\u001b[0m\u001b[1;33m\u001b[0m\u001b[1;33m\u001b[0m\u001b[0m\n",
       "\u001b[1;31mDocstring:\u001b[0m\n",
       "function to add two numbers\n",
       "x: int/float\n",
       "y: int/float\n",
       "\u001b[1;31mFile:\u001b[0m      c:\\users\\dhanusha\\appdata\\local\\temp\\ipykernel_34480\\972127776.py\n",
       "\u001b[1;31mType:\u001b[0m      function"
      ]
     },
     "metadata": {},
     "output_type": "display_data"
    }
   ],
   "source": [
    "def add(x,y):\n",
    "    '''\n",
    "    function to add two numbers\n",
    "    x: int/float\n",
    "    y: int/float\n",
    "    '''\n",
    "    return x+y\n",
    "add?"
   ]
  },
  {
   "cell_type": "code",
   "execution_count": 25,
   "id": "3c020733-1b13-4b82-a2e6-f7e06c6d5a8f",
   "metadata": {},
   "outputs": [
    {
     "name": "stdout",
     "output_type": "stream",
     "text": [
      "['__add__', '__class__', '__class_getitem__', '__contains__', '__delattr__', '__delitem__', '__dir__', '__doc__', '__eq__', '__format__', '__ge__', '__getattribute__', '__getitem__', '__getstate__', '__gt__', '__hash__', '__iadd__', '__imul__', '__init__', '__init_subclass__', '__iter__', '__le__', '__len__', '__lt__', '__mul__', '__ne__', '__new__', '__reduce__', '__reduce_ex__', '__repr__', '__reversed__', '__rmul__', '__setattr__', '__setitem__', '__sizeof__', '__str__', '__subclasshook__', 'append', 'clear', 'copy', 'count', 'extend', 'index', 'insert', 'pop', 'remove', 'reverse', 'sort']\n"
     ]
    }
   ],
   "source": [
    "l=[1,2,3,4]\n",
    "print(dir(l))"
   ]
  },
  {
   "cell_type": "code",
   "execution_count": 29,
   "id": "cb49ca0e-3e12-44ff-83d9-cd90f9034218",
   "metadata": {},
   "outputs": [
    {
     "name": "stdout",
     "output_type": "stream",
     "text": [
      "['__add__', '__class__', '__class_getitem__', '__contains__', '__delattr__', '__dir__', '__doc__', '__eq__', '__format__', '__ge__', '__getattribute__', '__getitem__', '__getnewargs__', '__getstate__', '__gt__', '__hash__', '__init__', '__init_subclass__', '__iter__', '__le__', '__len__', '__lt__', '__mul__', '__ne__', '__new__', '__reduce__', '__reduce_ex__', '__repr__', '__rmul__', '__setattr__', '__sizeof__', '__str__', '__subclasshook__', 'count', 'index']\n"
     ]
    }
   ],
   "source": [
    "t=(1,2,3,4)\n",
    "print(dir(t))"
   ]
  },
  {
   "cell_type": "code",
   "execution_count": 31,
   "id": "f43618c2-9379-463c-b16e-d70fef92c9a2",
   "metadata": {},
   "outputs": [
    {
     "name": "stdout",
     "output_type": "stream",
     "text": [
      "['__class__', '__class_getitem__', '__contains__', '__delattr__', '__delitem__', '__dir__', '__doc__', '__eq__', '__format__', '__ge__', '__getattribute__', '__getitem__', '__getstate__', '__gt__', '__hash__', '__init__', '__init_subclass__', '__ior__', '__iter__', '__le__', '__len__', '__lt__', '__ne__', '__new__', '__or__', '__reduce__', '__reduce_ex__', '__repr__', '__reversed__', '__ror__', '__setattr__', '__setitem__', '__sizeof__', '__str__', '__subclasshook__', 'clear', 'copy', 'fromkeys', 'get', 'items', 'keys', 'pop', 'popitem', 'setdefault', 'update', 'values']\n"
     ]
    }
   ],
   "source": [
    "d={'name':'AJA','address':'HYD'}\n",
    "print(dir(d))"
   ]
  },
  {
   "cell_type": "code",
   "execution_count": 33,
   "id": "abfacef1-3392-4f01-88b6-d5c574934259",
   "metadata": {},
   "outputs": [
    {
     "name": "stdout",
     "output_type": "stream",
     "text": [
      "['__and__', '__class__', '__class_getitem__', '__contains__', '__delattr__', '__dir__', '__doc__', '__eq__', '__format__', '__ge__', '__getattribute__', '__getstate__', '__gt__', '__hash__', '__iand__', '__init__', '__init_subclass__', '__ior__', '__isub__', '__iter__', '__ixor__', '__le__', '__len__', '__lt__', '__ne__', '__new__', '__or__', '__rand__', '__reduce__', '__reduce_ex__', '__repr__', '__ror__', '__rsub__', '__rxor__', '__setattr__', '__sizeof__', '__str__', '__sub__', '__subclasshook__', '__xor__', 'add', 'clear', 'copy', 'difference', 'difference_update', 'discard', 'intersection', 'intersection_update', 'isdisjoint', 'issubset', 'issuperset', 'pop', 'remove', 'symmetric_difference', 'symmetric_difference_update', 'union', 'update']\n"
     ]
    }
   ],
   "source": [
    "s={1,2,3,4}\n",
    "print(dir(s))"
   ]
  },
  {
   "cell_type": "code",
   "execution_count": 35,
   "id": "e9a838b0-61ba-451c-8987-ca71e147207a",
   "metadata": {},
   "outputs": [
    {
     "data": {
      "text/plain": [
       "'HYDERABAD'"
      ]
     },
     "execution_count": 35,
     "metadata": {},
     "output_type": "execute_result"
    }
   ],
   "source": [
    "s='hyderabad'\n",
    "s.upper() # turning all letters into capitals"
   ]
  },
  {
   "cell_type": "code",
   "execution_count": 39,
   "id": "d9a678db-b72f-4cfe-a3c2-24b746b1da89",
   "metadata": {},
   "outputs": [
    {
     "name": "stdout",
     "output_type": "stream",
     "text": [
      "HYDERABAD\n",
      "HYD\n",
      "1234\n",
      "#$%^&\n",
      "\n"
     ]
    }
   ],
   "source": [
    "s='hyderaBaD'\n",
    "print(s.upper())\n",
    "s='HYD'\n",
    "print(s.upper())\n",
    "s='1234'\n",
    "print(s.upper())\n",
    "s='#$%^&'\n",
    "print(s.upper())\n",
    "s=''\n",
    "print(s.upper())"
   ]
  },
  {
   "cell_type": "markdown",
   "id": "04c520cd-5953-499a-bf9c-3300f47af56e",
   "metadata": {},
   "source": [
    "## 21-09-2024"
   ]
  },
  {
   "cell_type": "code",
   "execution_count": 2,
   "id": "3c118900-ea53-449b-b366-da9ac6350065",
   "metadata": {},
   "outputs": [
    {
     "name": "stdout",
     "output_type": "stream",
     "text": [
      "HYDERABAD IS A CITY\n",
      "hyderabad is a city\n",
      "hyderabad is a city\n",
      "HYDERABAD IS A city\n"
     ]
    }
   ],
   "source": [
    "s='hyderabad is a CITY'\n",
    "print(s.upper())\n",
    "print(s.lower())\n",
    "print(s.casefold())\n",
    "print(s.swapcase())"
   ]
  },
  {
   "cell_type": "code",
   "execution_count": 4,
   "id": "bd10c2be-9731-4fe7-9066-c3a97dee7ba5",
   "metadata": {},
   "outputs": [
    {
     "name": "stdout",
     "output_type": "stream",
     "text": [
      "python 2956058279104\n",
      "PYTHON 2956173187504\n"
     ]
    }
   ],
   "source": [
    "s='python'\n",
    "s1=s.upper()\n",
    "print(s, id(s))\n",
    "print(s1, id(s1))"
   ]
  },
  {
   "cell_type": "code",
   "execution_count": 8,
   "id": "44e3ea92-8e01-41a2-a306-b241265f331a",
   "metadata": {},
   "outputs": [
    {
     "name": "stdin",
     "output_type": "stream",
     "text": [
      "enter a string:  23\n",
      "enter a string:  12\n"
     ]
    },
    {
     "name": "stdout",
     "output_type": "stream",
     "text": [
      "not equal\n"
     ]
    }
   ],
   "source": [
    "s=input('enter a string: ')\n",
    "s1=input('enter a string: ')\n",
    "if s==s1:\n",
    "    print('equal')\n",
    "else:\n",
    "    print('not equal') "
   ]
  },
  {
   "cell_type": "code",
   "execution_count": 12,
   "id": "9fcdac50-82c0-4fb2-84d6-5d068337eda9",
   "metadata": {},
   "outputs": [
    {
     "name": "stdout",
     "output_type": "stream",
     "text": [
      "0\n",
      "25\n"
     ]
    }
   ],
   "source": [
    "s='abcdabcdadsvdfbrtbrfewfewabcd'\n",
    "print(s.find('abcd'))\n",
    "print(s.rfind('abcd'))"
   ]
  },
  {
   "cell_type": "code",
   "execution_count": null,
   "id": "a403d730-441c-4619-9d42-94124f43bd97",
   "metadata": {},
   "outputs": [],
   "source": []
  },
  {
   "cell_type": "code",
   "execution_count": 32,
   "id": "271f1ef7-fae8-4c22-b9c7-e42d00835eb1",
   "metadata": {},
   "outputs": [
    {
     "name": "stdout",
     "output_type": "stream",
     "text": [
      "7\n"
     ]
    }
   ],
   "source": [
    "s='abcd123abcdadabcdsvdfbrtbrfewfewabcd'\n",
    "print(s.find('abcd',1))  # s[1:].find('abcd')\n",
    "#print(s.rfind('abcd'))"
   ]
  },
  {
   "cell_type": "code",
   "execution_count": 36,
   "id": "9f05f2e4-2398-4ea7-8bed-d82289cd123c",
   "metadata": {},
   "outputs": [
    {
     "name": "stdout",
     "output_type": "stream",
     "text": [
      "['__add__', '__class__', '__contains__', '__delattr__', '__dir__', '__doc__', '__eq__', '__format__', '__ge__', '__getattribute__', '__getitem__', '__getnewargs__', '__getstate__', '__gt__', '__hash__', '__init__', '__init_subclass__', '__iter__', '__le__', '__len__', '__lt__', '__mod__', '__mul__', '__ne__', '__new__', '__reduce__', '__reduce_ex__', '__repr__', '__rmod__', '__rmul__', '__setattr__', '__sizeof__', '__str__', '__subclasshook__', 'capitalize', 'casefold', 'center', 'count', 'encode', 'endswith', 'expandtabs', 'find', 'format', 'format_map', 'index', 'isalnum', 'isalpha', 'isascii', 'isdecimal', 'isdigit', 'isidentifier', 'islower', 'isnumeric', 'isprintable', 'isspace', 'istitle', 'isupper', 'join', 'ljust', 'lower', 'lstrip', 'maketrans', 'partition', 'removeprefix', 'removesuffix', 'replace', 'rfind', 'rindex', 'rjust', 'rpartition', 'rsplit', 'rstrip', 'split', 'splitlines', 'startswith', 'strip', 'swapcase', 'title', 'translate', 'upper', 'zfill']\n"
     ]
    }
   ],
   "source": [
    "print(dir(s))"
   ]
  },
  {
   "cell_type": "code",
   "execution_count": 34,
   "id": "5cb8d85e-13fe-4a0c-b1e2-8889b80389f1",
   "metadata": {},
   "outputs": [
    {
     "name": "stdout",
     "output_type": "stream",
     "text": [
      "dssd*&^fsdfds$#@dba\n"
     ]
    }
   ],
   "source": [
    "### reverse the string without effecting the special symbols\n",
    "\n",
    "s=\"abd@#$sdfdsf^&*dssd\"\n",
    "print(s[::-1])"
   ]
  },
  {
   "cell_type": "code",
   "execution_count": 74,
   "id": "c667eece-3b1b-49ed-bea6-af7d6e51b82f",
   "metadata": {},
   "outputs": [
    {
     "name": "stdout",
     "output_type": "stream",
     "text": [
      "abc,123,def,786,hjij,5\n"
     ]
    }
   ],
   "source": [
    "s=\"abc123def786hjij5\"\n",
    "#o/p : abc,123,def\n",
    "res=\"\"\n",
    "sub=\"\"\n",
    "for i in s: \n",
    "    if i.isdigit():\n",
    "        if sub.isdigit():\n",
    "            pass\n",
    "        else:\n",
    "            res=res+sub+\",\"\n",
    "            sub=\"\"\n",
    "    else:\n",
    "        if sub.isdigit():\n",
    "            res=res+sub+\",\"\n",
    "            sub=\"\"\n",
    "    sub=sub+i\n",
    "res=res+i\n",
    "print(res)  "
   ]
  },
  {
   "cell_type": "code",
   "execution_count": 82,
   "id": "154dc8e9-636b-464a-b3a4-8ed5c62f8517",
   "metadata": {},
   "outputs": [
    {
     "ename": "NameError",
     "evalue": "name 'isalnum' is not defined",
     "output_type": "error",
     "traceback": [
      "\u001b[1;31m---------------------------------------------------------------------------\u001b[0m",
      "\u001b[1;31mNameError\u001b[0m                                 Traceback (most recent call last)",
      "Cell \u001b[1;32mIn[82], line 5\u001b[0m\n\u001b[0;32m      3\u001b[0m sub\u001b[38;5;241m=\u001b[39m\u001b[38;5;124m\"\u001b[39m\u001b[38;5;124m\"\u001b[39m\n\u001b[0;32m      4\u001b[0m \u001b[38;5;28;01mfor\u001b[39;00m i \u001b[38;5;129;01min\u001b[39;00m s[::\u001b[38;5;241m-\u001b[39m\u001b[38;5;241m1\u001b[39m]:\n\u001b[1;32m----> 5\u001b[0m     \u001b[38;5;28;01mif\u001b[39;00m \u001b[38;5;129;01mnot\u001b[39;00m isalnum():\n\u001b[0;32m      6\u001b[0m         sub\u001b[38;5;241m=\u001b[39msub\u001b[38;5;241m+\u001b[39mi\n\u001b[0;32m      7\u001b[0m     \u001b[38;5;28;01melse\u001b[39;00m:\n",
      "\u001b[1;31mNameError\u001b[0m: name 'isalnum' is not defined"
     ]
    }
   ],
   "source": [
    "s='abcd@#defeg^&jdsfd'\n",
    "res=\"\"\n",
    "sub=\"\"\n",
    "for i in s[::-1]:\n",
    "    if not isalnum():\n",
    "        sub=sub+i\n",
    "    else:\n",
    "        if sub:\n",
    "            res=res+sub[::-1]\n",
    "            sub=\"\"\n",
    "        res=res+i\n",
    "print(res)"
   ]
  },
  {
   "cell_type": "code",
   "execution_count": 1,
   "id": "75526e9b-193e-47e3-94fd-4d3489acd562",
   "metadata": {},
   "outputs": [
    {
     "name": "stdout",
     "output_type": "stream",
     "text": [
      "['abc', 'def', 'fed']\n",
      "['abc', 'def', '', '', '', '', '', 'fed']\n",
      "['abc', 'def', 'fed']\n",
      "['abc def      fed']\n"
     ]
    },
    {
     "ename": "TypeError",
     "evalue": "str.partition() takes exactly one argument (0 given)",
     "output_type": "error",
     "traceback": [
      "\u001b[1;31m---------------------------------------------------------------------------\u001b[0m",
      "\u001b[1;31mTypeError\u001b[0m                                 Traceback (most recent call last)",
      "Cell \u001b[1;32mIn[1], line 6\u001b[0m\n\u001b[0;32m      4\u001b[0m \u001b[38;5;28mprint\u001b[39m(s\u001b[38;5;241m.\u001b[39mrsplit())\n\u001b[0;32m      5\u001b[0m \u001b[38;5;28mprint\u001b[39m(s\u001b[38;5;241m.\u001b[39msplitlines())\n\u001b[1;32m----> 6\u001b[0m \u001b[38;5;28mprint\u001b[39m(s\u001b[38;5;241m.\u001b[39mpartition())\n\u001b[0;32m      7\u001b[0m \u001b[38;5;28mprint\u001b[39m(s\u001b[38;5;241m.\u001b[39mrpartition())\n",
      "\u001b[1;31mTypeError\u001b[0m: str.partition() takes exactly one argument (0 given)"
     ]
    }
   ],
   "source": [
    "s='abc def      fed'\n",
    "print(s.split()) # space as a delimeter\n",
    "print(s.split(' '))\n",
    "print(s.rsplit())\n",
    "print(s.splitlines())\n",
    "print(s.partition())\n",
    "print(s.rpartition())"
   ]
  },
  {
   "cell_type": "code",
   "execution_count": 3,
   "id": "6a80aee6-2e24-4071-a1db-4b1aa00bb96c",
   "metadata": {},
   "outputs": [
    {
     "name": "stdout",
     "output_type": "stream",
     "text": [
      "['abc', 'def', 'fed', 'fdfs']\n",
      "['abc', 'def', 'fed', 'fdfs']\n"
     ]
    }
   ],
   "source": [
    "s='abc def fed fdfs'\n",
    "print(s.split())\n",
    "print(s.rsplit())"
   ]
  },
  {
   "cell_type": "code",
   "execution_count": 5,
   "id": "b11b80a6-5112-4271-8425-4724b1151202",
   "metadata": {},
   "outputs": [
    {
     "name": "stdout",
     "output_type": "stream",
     "text": [
      "['abc', 'def', 'fed', 'fdfs']\n"
     ]
    },
    {
     "ename": "TypeError",
     "evalue": "str.partition() takes exactly one argument (0 given)",
     "output_type": "error",
     "traceback": [
      "\u001b[1;31m---------------------------------------------------------------------------\u001b[0m",
      "\u001b[1;31mTypeError\u001b[0m                                 Traceback (most recent call last)",
      "Cell \u001b[1;32mIn[5], line 3\u001b[0m\n\u001b[0;32m      1\u001b[0m s\u001b[38;5;241m=\u001b[39m\u001b[38;5;124m'\u001b[39m\u001b[38;5;124mabc def fed fdfs\u001b[39m\u001b[38;5;124m'\u001b[39m\n\u001b[0;32m      2\u001b[0m \u001b[38;5;28mprint\u001b[39m(s\u001b[38;5;241m.\u001b[39msplit())\n\u001b[1;32m----> 3\u001b[0m \u001b[38;5;28mprint\u001b[39m(s\u001b[38;5;241m.\u001b[39mpartition())\n",
      "\u001b[1;31mTypeError\u001b[0m: str.partition() takes exactly one argument (0 given)"
     ]
    }
   ],
   "source": [
    "s='abc def fed fdfs'\n",
    "print(s.split())\n",
    "print(s.partition())"
   ]
  },
  {
   "cell_type": "code",
   "execution_count": null,
   "id": "c9d579ee-abd9-4182-b4ea-a6628bba413e",
   "metadata": {},
   "outputs": [],
   "source": []
  }
 ],
 "metadata": {
  "kernelspec": {
   "display_name": "Python 3 (ipykernel)",
   "language": "python",
   "name": "python3"
  },
  "language_info": {
   "codemirror_mode": {
    "name": "ipython",
    "version": 3
   },
   "file_extension": ".py",
   "mimetype": "text/x-python",
   "name": "python",
   "nbconvert_exporter": "python",
   "pygments_lexer": "ipython3",
   "version": "3.12.4"
  }
 },
 "nbformat": 4,
 "nbformat_minor": 5
}
