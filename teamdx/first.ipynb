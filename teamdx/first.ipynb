{
 "cells": [
  {
   "cell_type": "code",
   "execution_count": 1,
   "id": "c68fb18e-3c9a-4825-8dca-7a3be4c196eb",
   "metadata": {},
   "outputs": [
    {
     "name": "stdout",
     "output_type": "stream",
     "text": [
      "3000\n",
      "1000 1640891452880 <class 'int'>\n",
      "2000 1640891452688 <class 'int'>\n",
      "3000 1640890102448 <class 'int'>\n"
     ]
    }
   ],
   "source": [
    "a = 1000\n",
    "b = 2000\n",
    "c = a + b\n",
    "print(c)\n",
    "print(a,id(a),type(a))\n",
    "print(b,id(b),type(b))\n",
    "print(c,id(c),type(c))"
   ]
  },
  {
   "cell_type": "code",
   "execution_count": null,
   "id": "5f8948a4-57f5-42ff-a276-39cc1c8c4267",
   "metadata": {},
   "outputs": [],
   "source": []
  }
 ],
 "metadata": {
  "kernelspec": {
   "display_name": "Python 3 (ipykernel)",
   "language": "python",
   "name": "python3"
  },
  "language_info": {
   "codemirror_mode": {
    "name": "ipython",
    "version": 3
   },
   "file_extension": ".py",
   "mimetype": "text/x-python",
   "name": "python",
   "nbconvert_exporter": "python",
   "pygments_lexer": "ipython3",
   "version": "3.12.4"
  }
 },
 "nbformat": 4,
 "nbformat_minor": 5
}
