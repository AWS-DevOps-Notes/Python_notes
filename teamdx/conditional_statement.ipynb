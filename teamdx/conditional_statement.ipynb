{
 "cells": [
  {
   "cell_type": "code",
   "execution_count": 1,
   "id": "72625300-b42c-475d-a321-a264f809b6a4",
   "metadata": {},
   "outputs": [
    {
     "name": "stdout",
     "output_type": "stream",
     "text": [
      "started\n",
      "a is big\n",
      "b is big\n",
      "ended\n"
     ]
    }
   ],
   "source": [
    "print(\"started\")\n",
    "a=1000\n",
    "b=2000\n",
    "print(\"a is big\")\n",
    "print(\"b is big\")\n",
    "print(\"ended\")"
   ]
  },
  {
   "cell_type": "code",
   "execution_count": 3,
   "id": "3b67ccfe-7d03-4cd9-ab42-5bc362bfd56b",
   "metadata": {},
   "outputs": [
    {
     "name": "stdout",
     "output_type": "stream",
     "text": [
      "started\n",
      "a is big\n",
      "ended\n"
     ]
    }
   ],
   "source": [
    "print(\"started\")\n",
    "a=1000\n",
    "b=2000\n",
    "if True:                   # if \"if\" is true then it will not goto esle statement\n",
    "    print(\"a is big\")\n",
    "else:\n",
    "    print(\"b is big\")\n",
    "print(\"ended\")"
   ]
  },
  {
   "cell_type": "code",
   "execution_count": 5,
   "id": "4e0e5fa9-384a-4e3a-aa0f-21542280d9a7",
   "metadata": {},
   "outputs": [
    {
     "name": "stdout",
     "output_type": "stream",
     "text": [
      "started\n",
      "b is big\n",
      "ended\n"
     ]
    }
   ],
   "source": [
    "print(\"started\")\n",
    "a=1000\n",
    "b=2000\n",
    "if False:          # if \"if\" is false, so condition falied then it will goto esle statement\n",
    "    print(\"a is big\")\n",
    "else:\n",
    "    print(\"b is big\") \n",
    "print(\"ended\")"
   ]
  },
  {
   "cell_type": "code",
   "execution_count": 9,
   "id": "a6b98cdd-7fcb-46d8-9b3c-514aa31d67b5",
   "metadata": {},
   "outputs": [
    {
     "name": "stdout",
     "output_type": "stream",
     "text": [
      "started\n",
      "HELLO\n",
      "a is big\n",
      "ended\n"
     ]
    }
   ],
   "source": [
    "print(\"started\")\n",
    "a=1000\n",
    "b=2000\n",
    "if True: \n",
    "    print(\"HELLO\") \n",
    "    print(\"a is big\")\n",
    "else:\n",
    "    print(\"HI\")\n",
    "    print(\"b is big\") \n",
    "print(\"ended\")"
   ]
  },
  {
   "cell_type": "code",
   "execution_count": 11,
   "id": "8b8f7fcc-f032-41e9-b1b9-71200a36571d",
   "metadata": {},
   "outputs": [
    {
     "name": "stdout",
     "output_type": "stream",
     "text": [
      "started\n",
      "HELLO\n",
      "a is big\n",
      "ended\n"
     ]
    }
   ],
   "source": [
    "print(\"started\")\n",
    "a=1000\n",
    "b=2000\n",
    "if bool(\"python\"): \n",
    "    print(\"HELLO\") \n",
    "    print(\"a is big\")\n",
    "else:\n",
    "    print(\"HI\")\n",
    "    print(\"b is big\") \n",
    "print(\"ended\")"
   ]
  },
  {
   "cell_type": "code",
   "execution_count": 13,
   "id": "d4b75d3e-564a-4d68-aadf-a87121277c58",
   "metadata": {},
   "outputs": [
    {
     "name": "stdout",
     "output_type": "stream",
     "text": [
      "started\n",
      "HELLO\n",
      "a is big\n",
      "ended\n"
     ]
    }
   ],
   "source": [
    "print(\"started\")\n",
    "a=1234   # any value is true except 0 bcz zero is false\n",
    "if bool(a): \n",
    "    print(\"HELLO\") \n",
    "    print(\"a is big\")\n",
    "else:\n",
    "    print(\"HI\")\n",
    "    print(\"b is big\") \n",
    "print(\"ended\")"
   ]
  },
  {
   "cell_type": "code",
   "execution_count": 15,
   "id": "c2a4504a-6bd4-41fc-b1db-33fb0e4c0e65",
   "metadata": {},
   "outputs": [
    {
     "name": "stdout",
     "output_type": "stream",
     "text": [
      "started\n",
      "HI\n",
      "b is big\n",
      "ended\n"
     ]
    }
   ],
   "source": [
    "print(\"started\")\n",
    "a=0   # '0' flase\n",
    "if bool(a): \n",
    "    print(\"HELLO\") \n",
    "    print(\"a is big\")\n",
    "else:\n",
    "    print(\"HI\")\n",
    "    print(\"b is big\") \n",
    "print(\"ended\")"
   ]
  },
  {
   "cell_type": "code",
   "execution_count": 21,
   "id": "35e32b98-750b-416d-923e-ee0bd27ba95c",
   "metadata": {},
   "outputs": [
    {
     "name": "stdout",
     "output_type": "stream",
     "text": [
      "started\n",
      "HELLO\n",
      "a is big\n",
      "ended\n"
     ]
    }
   ],
   "source": [
    "print(\"started\")\n",
    "a=1 \n",
    "if bool(a): \n",
    "    print(\"HELLO\") \n",
    "    print(\"a is big\")\n",
    "else:\n",
    "    print(\"HI\")\n",
    "    print(\"b is big\") \n",
    "print(\"ended\")"
   ]
  },
  {
   "cell_type": "code",
   "execution_count": 19,
   "id": "92deaf05-8287-4692-94f3-c5c034c54946",
   "metadata": {},
   "outputs": [
    {
     "name": "stdout",
     "output_type": "stream",
     "text": [
      "a is big\n",
      "b is big\n"
     ]
    }
   ],
   "source": [
    "a=1000\n",
    "b=2000\n",
    "print(\"a is big\")\n",
    "print(\"b is big\")"
   ]
  },
  {
   "cell_type": "code",
   "execution_count": 23,
   "id": "505b2ea5-0b2d-4659-ad67-1a5f0eda5946",
   "metadata": {},
   "outputs": [
    {
     "name": "stdout",
     "output_type": "stream",
     "text": [
      "started\n",
      "b is big\n",
      "ended\n"
     ]
    }
   ],
   "source": [
    "print(\"started\")\n",
    "a=1000\n",
    "b=2000\n",
    "if a > b: \n",
    "    print(\"a is big\")\n",
    "else:\n",
    "    print(\"b is big\") \n",
    "print(\"ended\")"
   ]
  },
  {
   "cell_type": "code",
   "execution_count": 25,
   "id": "ce3294d7-d7e5-486b-bffe-87f7a67c215e",
   "metadata": {},
   "outputs": [
    {
     "name": "stdout",
     "output_type": "stream",
     "text": [
      "started\n",
      "b is big\n",
      "ended\n"
     ]
    }
   ],
   "source": [
    "print(\"started\")\n",
    "a=0\n",
    "if a: #bool(a)  zero is false by default\n",
    "    print(\"a is big\")\n",
    "else:\n",
    "    print(\"b is big\") \n",
    "print(\"ended\")"
   ]
  },
  {
   "cell_type": "code",
   "execution_count": 29,
   "id": "252c7792-bc1c-45e8-807f-8fa048f00652",
   "metadata": {},
   "outputs": [
    {
     "name": "stdout",
     "output_type": "stream",
     "text": [
      "hello\n",
      "hi\n"
     ]
    }
   ],
   "source": [
    "if 19:   #bool(19) true\n",
    "    print(\"hello\")\n",
    "print(\"hi\")"
   ]
  },
  {
   "cell_type": "code",
   "execution_count": 31,
   "id": "271210ca-68ba-44a4-a134-d09e5d70ad6e",
   "metadata": {},
   "outputs": [
    {
     "name": "stdout",
     "output_type": "stream",
     "text": [
      "hello\n"
     ]
    }
   ],
   "source": [
    "if 19:   #bool(19) true\n",
    "    print(\"hello\")\n",
    "else:\n",
    "    print(\"hi\")"
   ]
  },
  {
   "cell_type": "code",
   "execution_count": 33,
   "id": "a7beb3d0-5c08-46e7-91d9-723e95203941",
   "metadata": {},
   "outputs": [
    {
     "name": "stdout",
     "output_type": "stream",
     "text": [
      "hi\n"
     ]
    }
   ],
   "source": [
    "if 0:   #bool(0) true\n",
    "    print(\"hello\")\n",
    "else:\n",
    "    print(\"hi\")"
   ]
  },
  {
   "cell_type": "code",
   "execution_count": 39,
   "id": "f6af6ae4-d7b7-4e3f-be2d-7e464e3c3937",
   "metadata": {},
   "outputs": [
    {
     "name": "stdin",
     "output_type": "stream",
     "text": [
      "enter a value:  \n"
     ]
    },
    {
     "name": "stdout",
     "output_type": "stream",
     "text": [
      "0\n"
     ]
    }
   ],
   "source": [
    "value = input(\"enter a value: \")\n",
    "print(len(value))"
   ]
  },
  {
   "cell_type": "code",
   "execution_count": 41,
   "id": "ded76392-c996-4c4d-98d5-fd427a137fbc",
   "metadata": {},
   "outputs": [
    {
     "name": "stdin",
     "output_type": "stream",
     "text": [
      "enter a value:  hydera\n"
     ]
    },
    {
     "name": "stdout",
     "output_type": "stream",
     "text": [
      "6\n"
     ]
    }
   ],
   "source": [
    "value = input(\"enter a value: \")\n",
    "print(len(value))"
   ]
  },
  {
   "cell_type": "code",
   "execution_count": 43,
   "id": "a48f81c3-d2b7-4265-be8c-78c08a13e231",
   "metadata": {},
   "outputs": [
    {
     "name": "stdout",
     "output_type": "stream",
     "text": [
      "0\n"
     ]
    }
   ],
   "source": [
    "value = \"\"\n",
    "print(len(value))"
   ]
  },
  {
   "cell_type": "code",
   "execution_count": 45,
   "id": "6055b6da-7d9d-41f6-9a7c-b18be7fe47cf",
   "metadata": {},
   "outputs": [
    {
     "name": "stdin",
     "output_type": "stream",
     "text": [
      "enter a value:  hyd\n"
     ]
    },
    {
     "name": "stdout",
     "output_type": "stream",
     "text": [
      "<class 'str'>\n"
     ]
    }
   ],
   "source": [
    "value = input(\"enter a value: \")\n",
    "print(type(value))"
   ]
  },
  {
   "cell_type": "code",
   "execution_count": 47,
   "id": "9451ace5-b023-4c25-bfc5-e39d52376b32",
   "metadata": {},
   "outputs": [
    {
     "name": "stdin",
     "output_type": "stream",
     "text": [
      "enter a value:  \n"
     ]
    },
    {
     "name": "stdout",
     "output_type": "stream",
     "text": [
      "<class 'str'>\n"
     ]
    }
   ],
   "source": [
    "value = input(\"enter a value: \")\n",
    "print(type(value))"
   ]
  },
  {
   "cell_type": "code",
   "execution_count": 49,
   "id": "4ca66a81-50a5-4dd5-894b-7c1f3f6d0e93",
   "metadata": {},
   "outputs": [
    {
     "ename": "ValueError",
     "evalue": "could not convert string to float: 'enter a value: '",
     "output_type": "error",
     "traceback": [
      "\u001b[1;31m---------------------------------------------------------------------------\u001b[0m",
      "\u001b[1;31mValueError\u001b[0m                                Traceback (most recent call last)",
      "Cell \u001b[1;32mIn[49], line 1\u001b[0m\n\u001b[1;32m----> 1\u001b[0m value \u001b[38;5;241m=\u001b[39m \u001b[38;5;28mfloat\u001b[39m(\u001b[38;5;124m\"\u001b[39m\u001b[38;5;124menter a value: \u001b[39m\u001b[38;5;124m\"\u001b[39m)\n\u001b[0;32m      2\u001b[0m \u001b[38;5;28mprint\u001b[39m(\u001b[38;5;28mtype\u001b[39m(value))\n",
      "\u001b[1;31mValueError\u001b[0m: could not convert string to float: 'enter a value: '"
     ]
    }
   ],
   "source": [
    "value = float(\"enter a value: \")\n",
    "print(type(value))"
   ]
  },
  {
   "cell_type": "code",
   "execution_count": 57,
   "id": "3c395eb3-2768-45f3-b4c1-f4046965d9eb",
   "metadata": {},
   "outputs": [
    {
     "name": "stdin",
     "output_type": "stream",
     "text": [
      "enter a value1:  67\n",
      "enter a value2:  \n"
     ]
    },
    {
     "name": "stdout",
     "output_type": "stream",
     "text": [
      "67\n"
     ]
    }
   ],
   "source": [
    "# value1, value2: value1+value2.\n",
    "value1 = input(\"enter a value1: \")\n",
    "value2 = input(\"enter a value2: \")\n",
    "value = value1+value2\n",
    "print(value)"
   ]
  },
  {
   "cell_type": "code",
   "execution_count": 61,
   "id": "2d9da085-700a-40da-996c-12190d852d69",
   "metadata": {},
   "outputs": [
    {
     "name": "stdin",
     "output_type": "stream",
     "text": [
      "enter a value1:  12\n",
      "enter a value2:  33\n"
     ]
    },
    {
     "name": "stdout",
     "output_type": "stream",
     "text": [
      "45\n"
     ]
    }
   ],
   "source": [
    "# value1, value2: value1+value2.\n",
    "value1 = input(\"enter a value1: \")\n",
    "value2 = input(\"enter a value2: \")\n",
    "value =int(value1)+int(value2)\n",
    "print(value)"
   ]
  },
  {
   "cell_type": "code",
   "execution_count": 85,
   "id": "fe0b05b5-1cfc-412f-938f-7b6c678e2e90",
   "metadata": {},
   "outputs": [
    {
     "name": "stdin",
     "output_type": "stream",
     "text": [
      "enter value1:  \n",
      "enter value2:  3\n"
     ]
    },
    {
     "name": "stdout",
     "output_type": "stream",
     "text": [
      "3\n"
     ]
    }
   ],
   "source": [
    "# value1, value2: value1+value2.\n",
    "value1 = input(\"enter value1: \")\n",
    "value2 = input(\"enter value2: \")\n",
    "if value1==\"\": # True '==' # if true when value is not given n consider value '0'\n",
    "    value1=0\n",
    "else:\n",
    "    value1 = float(vlaue1)\n",
    "if value2==\"\": # '3' == \"false\"\n",
    "    value=0\n",
    "else:\n",
    "    value2=float(value2)\n",
    "value =int(value1)+int(value2)\n",
    "print(value)"
   ]
  },
  {
   "cell_type": "code",
   "execution_count": 87,
   "id": "08e6e692-bee3-496e-bf88-7afa230a3262",
   "metadata": {},
   "outputs": [
    {
     "data": {
      "text/plain": [
       "False"
      ]
     },
     "execution_count": 87,
     "metadata": {},
     "output_type": "execute_result"
    }
   ],
   "source": [
    "bool('')"
   ]
  },
  {
   "cell_type": "code",
   "execution_count": 89,
   "id": "882b04cc-f96f-4387-aea9-5af32dbefea2",
   "metadata": {},
   "outputs": [
    {
     "data": {
      "text/plain": [
       "True"
      ]
     },
     "execution_count": 89,
     "metadata": {},
     "output_type": "execute_result"
    }
   ],
   "source": [
    "bool('123')"
   ]
  },
  {
   "cell_type": "code",
   "execution_count": 99,
   "id": "aced2ae4-71e4-405a-be8f-3699bc394a07",
   "metadata": {},
   "outputs": [
    {
     "name": "stdin",
     "output_type": "stream",
     "text": [
      "enter value1:  12.3\n",
      "enter value2:  23\n"
     ]
    },
    {
     "name": "stdout",
     "output_type": "stream",
     "text": [
      "35\n"
     ]
    }
   ],
   "source": [
    "# value1, value2: value1+value2.\n",
    "value1 = input(\"enter value1: \")\n",
    "value2 = input(\"enter value2: \")\n",
    "if value1:           #bool(value1)  \n",
    "    value1= float(value1)\n",
    "else:\n",
    "    value1 = 0\n",
    "if value2:   \n",
    "    value2=float(value2)\n",
    "else:\n",
    "    value2=0\n",
    "value =int(value1)+int(value2)\n",
    "print(value)"
   ]
  },
  {
   "cell_type": "markdown",
   "id": "087c923a-86e3-4943-a09b-aace6f58bd5f",
   "metadata": {},
   "source": []
  },
  {
   "cell_type": "markdown",
   "id": "e1488c68-ecf8-421c-a194-b3c4e0206a6d",
   "metadata": {},
   "source": []
  },
  {
   "cell_type": "markdown",
   "id": "2dee5e17-ccae-4c85-9453-30854c651730",
   "metadata": {},
   "source": []
  },
  {
   "cell_type": "markdown",
   "id": "9591f57d-651a-4e4f-9f73-aa8c6c96bf59",
   "metadata": {},
   "source": []
  },
  {
   "cell_type": "code",
   "execution_count": null,
   "id": "3523b61e-b0b8-4a71-b1c2-db9b1571041a",
   "metadata": {},
   "outputs": [],
   "source": []
  }
 ],
 "metadata": {
  "kernelspec": {
   "display_name": "Python 3 (ipykernel)",
   "language": "python",
   "name": "python3"
  },
  "language_info": {
   "codemirror_mode": {
    "name": "ipython",
    "version": 3
   },
   "file_extension": ".py",
   "mimetype": "text/x-python",
   "name": "python",
   "nbconvert_exporter": "python",
   "pygments_lexer": "ipython3",
   "version": "3.12.4"
  }
 },
 "nbformat": 4,
 "nbformat_minor": 5
}
