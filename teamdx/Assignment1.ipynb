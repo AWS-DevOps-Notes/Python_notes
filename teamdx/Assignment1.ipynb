{
 "cells": [
  {
   "cell_type": "markdown",
   "id": "54185f23-e00d-48c1-8fd2-bc87ad1a5a5b",
   "metadata": {},
   "source": [
    "# Assignments on variables expressions and statements"
   ]
  },
  {
   "cell_type": "markdown",
   "id": "0e5964ec-6bd9-41de-bdb3-1686535af751",
   "metadata": {},
   "source": [
    "### 1. Take the input from the user for(Total number of people,Number of seats for bus). Based on two inputs. Decide how many number of buses required\n"
   ]
  },
  {
   "cell_type": "code",
   "execution_count": 16,
   "id": "e6edf889-b4d3-4d50-9174-0a95ceeeda03",
   "metadata": {},
   "outputs": [
    {
     "name": "stdin",
     "output_type": "stream",
     "text": [
      "number of people: 60\n",
      "number of seats: 10\n"
     ]
    },
    {
     "name": "stdout",
     "output_type": "stream",
     "text": [
      "Number of buses: 6\n"
     ]
    }
   ],
   "source": [
    "people = int(input(\"number of people:\"))\n",
    "seats = int(input(\"number of seats:\"))\n",
    "buses = (people+seats-1)//seats\n",
    "print(f\"Number of buses: {buses}\")"
   ]
  },
  {
   "cell_type": "markdown",
   "id": "6845dc8d-b230-4925-b876-9907c62036a1",
   "metadata": {},
   "source": [
    "### 2. Take temperature from the user and convert foreign heat -> Celsius."
   ]
  },
  {
   "cell_type": "code",
   "execution_count": 35,
   "id": "29f540fd-6f59-4ec8-a95d-e6ef27641e96",
   "metadata": {},
   "outputs": [
    {
     "name": "stdin",
     "output_type": "stream",
     "text": [
      "Enter Fahrenheit Temp:  98.7\n"
     ]
    },
    {
     "name": "stdout",
     "output_type": "stream",
     "text": [
      "Enter the Celsius temp is 37\n"
     ]
    }
   ],
   "source": [
    "Fahrenheit = float(input(\"Enter Fahrenheit Temp: \"))\n",
    "Celsius = (Fahrenheit - 32) * 5/9\n",
    "print(f\"Enter the Celsius temp is {int(Celsius)}\")\n"
   ]
  },
  {
   "cell_type": "markdown",
   "id": "5f3a9d7e-5787-4b5b-b41c-a56291866135",
   "metadata": {},
   "source": [
    "### 3. Take temperature from the user and convert Celsius → foreign heat."
   ]
  },
  {
   "cell_type": "code",
   "execution_count": 37,
   "id": "cad259aa-f2e3-4974-94c9-0df157e9f91b",
   "metadata": {},
   "outputs": [
    {
     "name": "stdin",
     "output_type": "stream",
     "text": [
      "Enter Celsius Temp:  45\n"
     ]
    },
    {
     "name": "stdout",
     "output_type": "stream",
     "text": [
      "Enter the Fahrenheit temp is 113\n"
     ]
    }
   ],
   "source": [
    "Celsius = float(input(\"Enter Celsius Temp: \"))\n",
    "Fahrenheit = (Celsius * 9/5) + 32\n",
    "print(f\"Enter the Fahrenheit temp is {int(Fahrenheit)}\")"
   ]
  },
  {
   "cell_type": "markdown",
   "id": "1557b59f-edb5-4926-920c-fe8eb7b43028",
   "metadata": {},
   "source": [
    "### 5. Take the distance in km --> Show that in cm, meters, in milli meters, cents, feets, yards"
   ]
  },
  {
   "cell_type": "code",
   "execution_count": null,
   "id": "eaf4421f-d80e-49c5-bc43-43f2404b6127",
   "metadata": {},
   "outputs": [],
   "source": [
    "Kilometers = input(\"Enter no. of Kilometers: \")\n",
    "centimeters = Kilometers * 100000 \n",
    "meters = Kilometers * 1000 \n",
    "millimeters = Kilometers * 1000000\n",
    "cents = Kilometers * 39370.1\n",
    "feets = Kilometers * 3280.84\n",
    "yards = Kilometers * 1093.61\n",
    "print(f\" Kilometers: {centimeters}\")  \n",
    "print(f\" Kilometers: {meters}\")  \n",
    "print(f\" Kilometers: {millimeters}\")  \n",
    "print(f\" Kilometers: {cents}\")  \n",
    "print(f\" Kilometers: {feets}\")  \n",
    "print(f\" Kilometers: {yards}\") "
   ]
  },
  {
   "cell_type": "code",
   "execution_count": null,
   "id": "9f556735-b6ae-42ed-b5ca-0ad60a2b77ce",
   "metadata": {},
   "outputs": [],
   "source": []
  }
 ],
 "metadata": {
  "kernelspec": {
   "display_name": "Python 3 (ipykernel)",
   "language": "python",
   "name": "python3"
  },
  "language_info": {
   "codemirror_mode": {
    "name": "ipython",
    "version": 3
   },
   "file_extension": ".py",
   "mimetype": "text/x-python",
   "name": "python",
   "nbconvert_exporter": "python",
   "pygments_lexer": "ipython3",
   "version": "3.12.4"
  }
 },
 "nbformat": 4,
 "nbformat_minor": 5
}
