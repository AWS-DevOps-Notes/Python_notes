{
 "cells": [
  {
   "cell_type": "code",
   "execution_count": 1,
   "id": "280d9fb2-16aa-4ad7-baa4-aa6e4f390d5c",
   "metadata": {},
   "outputs": [
    {
     "name": "stdout",
     "output_type": "stream",
     "text": [
      "EVEN\n"
     ]
    }
   ],
   "source": [
    "number=12\n",
    "if number%2==0:\n",
    "    print(\"EVEN\")\n",
    "else:\n",
    "    print(\"ODD\")"
   ]
  },
  {
   "cell_type": "code",
   "execution_count": 3,
   "id": "a8443903-02af-446e-ba7f-daa53ca8d343",
   "metadata": {},
   "outputs": [
    {
     "name": "stdout",
     "output_type": "stream",
     "text": [
      "EVEN\n",
      "ODD\n"
     ]
    }
   ],
   "source": [
    "number=[12,23,35,46,38,90]\n",
    "if number[0]%2==0: # 10%2=0, 0==0: True\n",
    "    print(\"EVEN\")\n",
    "else:\n",
    "    print(\"ODD\")\n",
    "if number[1]%2==0: # 23%2=1, 1==0: Flase\n",
    "    print(\"EVEN\")\n",
    "else:\n",
    "    print(\"ODD\")"
   ]
  },
  {
   "cell_type": "markdown",
   "id": "37272d1a-b7cf-46c8-96c6-dcdb80b46d0c",
   "metadata": {},
   "source": [
    "### for loop which datatypes are working"
   ]
  },
  {
   "cell_type": "code",
   "execution_count": 7,
   "id": "26de2a56-2ae1-4e3f-8a1f-0e2db116d721",
   "metadata": {},
   "outputs": [
    {
     "name": "stdout",
     "output_type": "stream",
     "text": [
      "HELLO\n",
      "12\n",
      "HELLO\n",
      "23\n",
      "HELLO\n",
      "35\n",
      "HELLO\n",
      "46\n",
      "HI\n"
     ]
    }
   ],
   "source": [
    "#list\n",
    "\n",
    "numbers=[12,23,35,46]\n",
    "for num in numbers: # num=10,  num=23, num=35, num=46\n",
    "    print(\"HELLO\")\n",
    "    print(num)\n",
    "print(\"HI\")"
   ]
  },
  {
   "cell_type": "code",
   "execution_count": 3,
   "id": "e7453cf5-5f36-4b21-aeb4-75b0bffddbd9",
   "metadata": {},
   "outputs": [
    {
     "name": "stdout",
     "output_type": "stream",
     "text": [
      "HELLO\n",
      "12\n",
      "HELLO\n",
      "23\n",
      "HELLO\n",
      "35\n",
      "HELLO\n",
      "46\n",
      "HI\n"
     ]
    }
   ],
   "source": [
    "#tuple\n",
    "\n",
    "numbers=(12,23,35,46)\n",
    "for num in numbers: # num=10,  num=23, num=35, num=46\n",
    "    print(\"HELLO\")\n",
    "    print(num)\n",
    "print(\"HI\")"
   ]
  },
  {
   "cell_type": "code",
   "execution_count": 11,
   "id": "02d810ce-c251-4744-82c9-0f44e1fe50a2",
   "metadata": {},
   "outputs": [
    {
     "name": "stdout",
     "output_type": "stream",
     "text": [
      "HELLO\n",
      "x\n",
      "HELLO\n",
      "y\n",
      "HELLO\n",
      "z\n",
      "HELLO\n",
      "s\n",
      "Exit\n"
     ]
    }
   ],
   "source": [
    "#Dictionary\n",
    "\n",
    "numbers={'x':1,'y':20,'z':3,'s':4}\n",
    "for num in numbers: \n",
    "    print(\"HELLO\")\n",
    "    print(num)\n",
    "print(\"Exit\")"
   ]
  },
  {
   "cell_type": "code",
   "execution_count": 13,
   "id": "9b14a015-5472-4566-ae5c-bbc8a1cdd199",
   "metadata": {},
   "outputs": [
    {
     "name": "stdout",
     "output_type": "stream",
     "text": [
      "HELLO\n",
      "35\n",
      "HELLO\n",
      "12\n",
      "HELLO\n",
      "46\n",
      "HELLO\n",
      "23\n",
      "exit\n"
     ]
    }
   ],
   "source": [
    "#set\n",
    "\n",
    "numbers={12,23,35,46}\n",
    "for num in numbers: \n",
    "    print(\"HELLO\")\n",
    "    print(num)\n",
    "print(\"exit\")"
   ]
  },
  {
   "cell_type": "code",
   "execution_count": 19,
   "id": "5ba41d1e-c3f7-4987-a5db-826eddb0c1bb",
   "metadata": {},
   "outputs": [
    {
     "name": "stdout",
     "output_type": "stream",
     "text": [
      "1\n",
      "hi\n",
      "0\n",
      "hi\n",
      "0\n",
      "hi\n",
      "0\n",
      "hi\n"
     ]
    }
   ],
   "source": [
    "# string for number\n",
    "for num in \"1000\":\n",
    "    print(num)\n",
    "    print(\"hi\")"
   ]
  },
  {
   "cell_type": "code",
   "execution_count": 17,
   "id": "ec84b9e9-85fc-41a5-87cf-89adb013296a",
   "metadata": {},
   "outputs": [
    {
     "name": "stdout",
     "output_type": "stream",
     "text": [
      "p\n",
      "hi\n",
      "o\n",
      "hi\n",
      "t\n",
      "hi\n",
      "hello\n"
     ]
    }
   ],
   "source": [
    "# string for word\n",
    "\n",
    "for num in \"pot\":\n",
    "    print(num)\n",
    "    print(\"hi\") # for loop block\n",
    "print('hello') # main block"
   ]
  },
  {
   "cell_type": "code",
   "execution_count": 23,
   "id": "25f46a05-36ce-4c94-9cab-ea995f284cea",
   "metadata": {},
   "outputs": [
    {
     "ename": "TypeError",
     "evalue": "'bool' object is not iterable",
     "output_type": "error",
     "traceback": [
      "\u001b[1;31m---------------------------------------------------------------------------\u001b[0m",
      "\u001b[1;31mTypeError\u001b[0m                                 Traceback (most recent call last)",
      "Cell \u001b[1;32mIn[23], line 1\u001b[0m\n\u001b[1;32m----> 1\u001b[0m \u001b[38;5;28;01mfor\u001b[39;00m num \u001b[38;5;129;01min\u001b[39;00m \u001b[38;5;28;01mFalse\u001b[39;00m:\n\u001b[0;32m      2\u001b[0m     \u001b[38;5;28mprint\u001b[39m(num)\n",
      "\u001b[1;31mTypeError\u001b[0m: 'bool' object is not iterable"
     ]
    }
   ],
   "source": [
    "#boolean\n",
    "for num in False:\n",
    "    print(num)"
   ]
  },
  {
   "cell_type": "code",
   "execution_count": 25,
   "id": "26b5d58e-d67f-4801-af52-00e531e677e5",
   "metadata": {},
   "outputs": [
    {
     "ename": "TypeError",
     "evalue": "'float' object is not iterable",
     "output_type": "error",
     "traceback": [
      "\u001b[1;31m---------------------------------------------------------------------------\u001b[0m",
      "\u001b[1;31mTypeError\u001b[0m                                 Traceback (most recent call last)",
      "Cell \u001b[1;32mIn[25], line 1\u001b[0m\n\u001b[1;32m----> 1\u001b[0m \u001b[38;5;28;01mfor\u001b[39;00m num \u001b[38;5;129;01min\u001b[39;00m \u001b[38;5;241m12.34\u001b[39m:\n\u001b[0;32m      2\u001b[0m     \u001b[38;5;28mprint\u001b[39m(num)\n",
      "\u001b[1;31mTypeError\u001b[0m: 'float' object is not iterable"
     ]
    }
   ],
   "source": [
    "# float\n",
    "for num in 12.34:\n",
    "    print(num)"
   ]
  },
  {
   "cell_type": "code",
   "execution_count": 27,
   "id": "ec765aea-ac61-4930-8d86-83776abad7af",
   "metadata": {},
   "outputs": [
    {
     "ename": "TypeError",
     "evalue": "'int' object is not iterable",
     "output_type": "error",
     "traceback": [
      "\u001b[1;31m---------------------------------------------------------------------------\u001b[0m",
      "\u001b[1;31mTypeError\u001b[0m                                 Traceback (most recent call last)",
      "Cell \u001b[1;32mIn[27], line 2\u001b[0m\n\u001b[0;32m      1\u001b[0m \u001b[38;5;66;03m# int\u001b[39;00m\n\u001b[1;32m----> 2\u001b[0m \u001b[38;5;28;01mfor\u001b[39;00m num \u001b[38;5;129;01min\u001b[39;00m \u001b[38;5;241m12\u001b[39m:\n\u001b[0;32m      3\u001b[0m     \u001b[38;5;28mprint\u001b[39m(num)\n",
      "\u001b[1;31mTypeError\u001b[0m: 'int' object is not iterable"
     ]
    }
   ],
   "source": [
    "# int\n",
    "for num in 12:\n",
    "    print(num)"
   ]
  },
  {
   "cell_type": "code",
   "execution_count": 29,
   "id": "e13000dc-86d3-43e2-bf84-b130af2bdd00",
   "metadata": {},
   "outputs": [
    {
     "name": "stdout",
     "output_type": "stream",
     "text": [
      "aja\n",
      "addr\n"
     ]
    }
   ],
   "source": [
    "data ={'aja':'name','addr':'hyd'}\n",
    "for num in data: \n",
    "    print(num)"
   ]
  },
  {
   "cell_type": "code",
   "execution_count": 33,
   "id": "cdc460f8-ad72-41f3-90ba-330be5495d17",
   "metadata": {},
   "outputs": [
    {
     "name": "stdout",
     "output_type": "stream",
     "text": [
      "hello\n"
     ]
    }
   ],
   "source": [
    "for i in []:\n",
    "    print(i)\n",
    "    print('hi')\n",
    "print('hello')"
   ]
  },
  {
   "cell_type": "code",
   "execution_count": 35,
   "id": "d5f7519c-8e2d-4759-9720-3c589a0cbf7e",
   "metadata": {},
   "outputs": [
    {
     "name": "stdout",
     "output_type": "stream",
     "text": [
      "+ve\n"
     ]
    }
   ],
   "source": [
    "num = 10\n",
    "if num > 0:\n",
    "    print('+ve')\n",
    "else:\n",
    "    print('-ve')"
   ]
  },
  {
   "cell_type": "code",
   "execution_count": 63,
   "id": "b84a6635-a79b-4ff2-a409-3391681f45a1",
   "metadata": {},
   "outputs": [
    {
     "name": "stdout",
     "output_type": "stream",
     "text": [
      "+ve numbers are: 10\n",
      "-2 -ve\n",
      "+ve numbers are: 14\n",
      "-1 -ve\n",
      "done\n"
     ]
    }
   ],
   "source": [
    "numbers = [10,-2,14,-1]\n",
    "for num in numbers:\n",
    "    if num>=0:\n",
    "        #print(num,'+ve')\n",
    "        print(f\"+ve numbers are: {num}\")\n",
    "    else:\n",
    "        print(num,'-ve')\n",
    "print('done')"
   ]
  },
  {
   "cell_type": "code",
   "execution_count": 78,
   "id": "084354f4-1fc4-4e5c-a2db-eb1c010bbf4c",
   "metadata": {},
   "outputs": [
    {
     "name": "stdout",
     "output_type": "stream",
     "text": [
      "3\n",
      "4\n"
     ]
    }
   ],
   "source": [
    "numbers = [10,-2,14,-1,4,-6,-8]\n",
    "pos_num = 0\n",
    "neg_num = 0\n",
    "for num in numbers:\n",
    "    if num>=0:\n",
    "        pos_num = pos_num +1\n",
    "    else:\n",
    "        neg_num = neg_num +1\n",
    "print(pos_num)\n",
    "print(neg_num)"
   ]
  },
  {
   "cell_type": "code",
   "execution_count": 82,
   "id": "25a9220d-1253-4b54-94ef-d06dc0daf916",
   "metadata": {},
   "outputs": [
    {
     "name": "stdout",
     "output_type": "stream",
     "text": [
      "1\n",
      "0\n"
     ]
    }
   ],
   "source": [
    "# for loop break\n",
    "numbers = [10,-2,14]\n",
    "pos_num = 0\n",
    "neg_num = 0\n",
    "for num in numbers:\n",
    "    if num>=0:\n",
    "        pos_num = pos_num +1\n",
    "        break\n",
    "    else:\n",
    "        neg_num = neg_num +1\n",
    "print(pos_num)\n",
    "print(neg_num)"
   ]
  },
  {
   "cell_type": "code",
   "execution_count": null,
   "id": "8aeb5be1-c893-4657-90e5-277a380d232a",
   "metadata": {},
   "outputs": [],
   "source": []
  }
 ],
 "metadata": {
  "kernelspec": {
   "display_name": "Python 3 (ipykernel)",
   "language": "python",
   "name": "python3"
  },
  "language_info": {
   "codemirror_mode": {
    "name": "ipython",
    "version": 3
   },
   "file_extension": ".py",
   "mimetype": "text/x-python",
   "name": "python",
   "nbconvert_exporter": "python",
   "pygments_lexer": "ipython3",
   "version": "3.12.4"
  }
 },
 "nbformat": 4,
 "nbformat_minor": 5
}
