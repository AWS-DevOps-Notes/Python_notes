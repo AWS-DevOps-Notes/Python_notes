{
 "cells": [
  {
   "cell_type": "code",
   "execution_count": 1,
   "id": "674a4601-0234-4528-a2b0-545e4f383df6",
   "metadata": {},
   "outputs": [
    {
     "ename": "TypeError",
     "evalue": "sequence item 0: expected str instance, int found",
     "output_type": "error",
     "traceback": [
      "\u001b[1;31m---------------------------------------------------------------------------\u001b[0m",
      "\u001b[1;31mTypeError\u001b[0m                                 Traceback (most recent call last)",
      "Cell \u001b[1;32mIn[1], line 2\u001b[0m\n\u001b[0;32m      1\u001b[0m res \u001b[38;5;241m=\u001b[39m [\u001b[38;5;241m1\u001b[39m,\u001b[38;5;241m2\u001b[39m,\u001b[38;5;241m3\u001b[39m,\u001b[38;5;241m4\u001b[39m,\u001b[38;5;241m5\u001b[39m]\n\u001b[1;32m----> 2\u001b[0m r1 \u001b[38;5;241m=\u001b[39m \u001b[38;5;124m\"\u001b[39m\u001b[38;5;124m,\u001b[39m\u001b[38;5;124m\"\u001b[39m\u001b[38;5;241m.\u001b[39mjoin(res)\n\u001b[0;32m      3\u001b[0m \u001b[38;5;28mprint\u001b[39m(r1)\n",
      "\u001b[1;31mTypeError\u001b[0m: sequence item 0: expected str instance, int found"
     ]
    }
   ],
   "source": [
    "res = [1,2,3,4,5]\n",
    "r1 = \",\".join(res)\n",
    "print(r1)"
   ]
  },
  {
   "cell_type": "code",
   "execution_count": 3,
   "id": "9caeb8f6-27b9-4266-8e84-aaa0b4b55ae0",
   "metadata": {},
   "outputs": [
    {
     "name": "stdout",
     "output_type": "stream",
     "text": [
      "[1, 2, 3, 4, 5]\n",
      "['1', '2', '3', '4', '5']\n",
      "1,2,3,4,5\n"
     ]
    }
   ],
   "source": [
    "res = [1,2,3,4,5]\n",
    "res1 = []\n",
    "for i in res:\n",
    "    res1.append(str(i))\n",
    "print(res)\n",
    "print(res1)\n",
    "r1 = \",\".join(res1)\n",
    "print(r1)"
   ]
  },
  {
   "cell_type": "code",
   "execution_count": 7,
   "id": "2acb641d-6a9b-430b-882a-133b6e37f5ff",
   "metadata": {},
   "outputs": [
    {
     "name": "stdout",
     "output_type": "stream",
     "text": [
      "[1, 2, 3, 4, 5]\n",
      "['1', '2', '3', '4', '5']\n",
      "1,2,3,4,5\n"
     ]
    }
   ],
   "source": [
    "res = [1,2,3,4,5]\n",
    "res1 = [str(i) for i in res] #list comprehension\n",
    "#for i in res:\n",
    "#    res1.append(str(i))\n",
    "print(res)\n",
    "print(res1)\n",
    "r1 = \",\".join(res1)\n",
    "print(r1)"
   ]
  },
  {
   "cell_type": "code",
   "execution_count": 9,
   "id": "8506b78f-b1bd-4fb6-993b-2cfec137bfd7",
   "metadata": {},
   "outputs": [
    {
     "name": "stdout",
     "output_type": "stream",
     "text": [
      "[1, 2, 3, 4, 5]\n",
      "['1', '2', '3', '4', '5']\n",
      "1,2,3,4,5\n"
     ]
    }
   ],
   "source": [
    "res = [1,2,3,4,5]\n",
    "res1 = [str(i) for i in res] #list comprehension\n",
    "print(res)\n",
    "print(res1)\n",
    "r1 = \",\".join(res1)\n",
    "print(r1)"
   ]
  },
  {
   "cell_type": "code",
   "execution_count": 13,
   "id": "7b2a7948-3ece-41cf-b7d1-ef69b8d1818c",
   "metadata": {},
   "outputs": [
    {
     "name": "stdout",
     "output_type": "stream",
     "text": [
      "[1, 2, 3, 4, 5]\n",
      "[False, True, False, True, False]\n"
     ]
    }
   ],
   "source": [
    "def check_even(x):\n",
    "    return x%2==0\n",
    "res = [1,2,3,4,5]\n",
    "res1 = [check_even(i) for i in res] #list comprehension\n",
    "print(res)\n",
    "print(res1)"
   ]
  },
  {
   "cell_type": "code",
   "execution_count": 15,
   "id": "289f1d7f-5169-4e4a-b2cd-58ab578444fe",
   "metadata": {},
   "outputs": [
    {
     "name": "stdout",
     "output_type": "stream",
     "text": [
      "1\n",
      "3\n",
      "4\n",
      "[1, '2', 3, 4, '5']\n",
      "[False, None, False, True, None]\n"
     ]
    }
   ],
   "source": [
    "def check_even(x):\n",
    "    print(x)\n",
    "    return x%2==0\n",
    "res = [1,\"2\",3,4,\"5\"] # o/p: [False, None, False, True, None]\n",
    "res1 = [check_even(i) if isinstance(i, int) else None for i in res] #list comprehension\n",
    "print(res)\n",
    "print(res1)"
   ]
  },
  {
   "cell_type": "code",
   "execution_count": 17,
   "id": "8c19516b-e19c-4947-bb87-5f81d6253fe2",
   "metadata": {},
   "outputs": [
    {
     "name": "stdout",
     "output_type": "stream",
     "text": [
      "1\n",
      "3\n",
      "4\n",
      "[1, '2', 3, 4, '5']\n",
      "[False, False, True]\n"
     ]
    }
   ],
   "source": [
    "def check_even(x):\n",
    "    print(x)\n",
    "    return x%2==0\n",
    "res = [1,\"2\",3,4,\"5\"] # o/p: [False, None, False, True, None]\n",
    "res1 = [check_even(i) for i in res if isinstance(i, int)] #list comprehension\n",
    "print(res)\n",
    "print(res1)"
   ]
  },
  {
   "cell_type": "code",
   "execution_count": 19,
   "id": "d0c97c51-d789-48ff-a09d-56829f50d376",
   "metadata": {},
   "outputs": [
    {
     "ename": "SyntaxError",
     "evalue": "invalid syntax (644774272.py, line 5)",
     "output_type": "error",
     "traceback": [
      "\u001b[1;36m  Cell \u001b[1;32mIn[19], line 5\u001b[1;36m\u001b[0m\n\u001b[1;33m    res1 = [check_even(i) for i in res if isinstance(i, int) else none] #list comprehension\u001b[0m\n\u001b[1;37m                                                             ^\u001b[0m\n\u001b[1;31mSyntaxError\u001b[0m\u001b[1;31m:\u001b[0m invalid syntax\n"
     ]
    }
   ],
   "source": [
    "def check_even(x):\n",
    "    print(x)\n",
    "    return x%2==0\n",
    "res = [1,\"2\",3,4,\"5\"] # o/p: [False, None, False, True, None]\n",
    "res1 = [check_even(i) for i in res if isinstance(i, int) else none] #list comprehension\n",
    "print(res)\n",
    "print(res1)"
   ]
  },
  {
   "cell_type": "code",
   "execution_count": 23,
   "id": "2516a0a0-b3a1-49c9-819c-be52de991ca2",
   "metadata": {},
   "outputs": [
    {
     "name": "stdout",
     "output_type": "stream",
     "text": [
      "['1', '2', '3', '4', '5']\n",
      "[]\n"
     ]
    }
   ],
   "source": [
    "def check_even(x):\n",
    "    print(x)\n",
    "    return x%2==0\n",
    "res = [\"1\",\"2\",\"3\",\"4\",\"5\"] # o/p: [False, None, False, True, None]\n",
    "res1 = [check_even(i) for i in res if isinstance(i, int)] #list comprehension\n",
    "print(res)\n",
    "print(res1)"
   ]
  },
  {
   "cell_type": "code",
   "execution_count": 33,
   "id": "11a420f6-c26a-4c7e-b83b-6dfc20fdd72f",
   "metadata": {},
   "outputs": [
    {
     "name": "stdout",
     "output_type": "stream",
     "text": [
      "[1, '2', 3, '4', '5']\n",
      "<generator object <genexpr> at 0x000001B7B5BC7BC0>\n"
     ]
    }
   ],
   "source": [
    "def check_even(x):\n",
    "    print(x)\n",
    "    return x%2==0\n",
    "res = [1,\"2\",3,\"4\",\"5\"] # o/p: [False, None, False, True, None]\n",
    "res1 = (check_even(i) for i in res if isinstance(i, int)) #tuple comprehension\n",
    "print(res)\n",
    "print(res1)"
   ]
  },
  {
   "cell_type": "code",
   "execution_count": null,
   "id": "87dcdf5d-0a39-4e2c-8e8e-a8defa95fdf5",
   "metadata": {},
   "outputs": [],
   "source": [
    "res=[] #list\n",
    "res=() #tuple"
   ]
  },
  {
   "cell_type": "code",
   "execution_count": 35,
   "id": "952c5956-86fb-43c3-a285-e5159249e771",
   "metadata": {},
   "outputs": [
    {
     "name": "stdout",
     "output_type": "stream",
     "text": [
      "[1, '2', 3, '4', '5']\n",
      "False\n",
      "False\n"
     ]
    }
   ],
   "source": [
    "def check_even(x):\n",
    "    return x%2==0\n",
    "res = [1,\"2\",3,\"4\",\"5\"] # o/p: [False, None, False, True, None]\n",
    "res1 = (check_even(i) for i in res if isinstance(i, int)) #tuple comprehension\n",
    "print(res)\n",
    "for i in res1:\n",
    "    print(i)"
   ]
  },
  {
   "cell_type": "code",
   "execution_count": 37,
   "id": "9bb6661c-e833-40ef-931b-94a4e7a7b57f",
   "metadata": {},
   "outputs": [
    {
     "name": "stdout",
     "output_type": "stream",
     "text": [
      "[1, '2', 3, '4', '5']\n",
      "<generator object <genexpr> at 0x000001B7B5BC7E60>\n"
     ]
    }
   ],
   "source": [
    "def check_even(x):\n",
    "    print(x)\n",
    "    return x%2==0\n",
    "res = [1,\"2\",3,\"4\",\"5\"] # o/p: [False, None, False, True, None]\n",
    "res1 = (check_even(i) for i in res if isinstance(i, int)) #tuple comprehension\n",
    "print(res)\n",
    "print(res1)"
   ]
  },
  {
   "cell_type": "code",
   "execution_count": 41,
   "id": "69427e3c-9209-4f56-8438-f6fbe05dc23a",
   "metadata": {},
   "outputs": [
    {
     "name": "stdout",
     "output_type": "stream",
     "text": [
      "1\n",
      "i= False\n"
     ]
    }
   ],
   "source": [
    "def check_even(x):\n",
    "    print(x)\n",
    "    return x%2==0\n",
    "res = [1,\"2\",3,\"4\",\"5\"] # o/p: [False, None, False, True, None]\n",
    "res1 = (check_even(i) for i in res if isinstance(i, int)) #tuple comprehension\n",
    "for i in res1: \n",
    "    print(\"i=\",i)\n",
    "    break"
   ]
  },
  {
   "cell_type": "code",
   "execution_count": 45,
   "id": "4fbdaeee-21d0-46be-97b1-f55abd48d84f",
   "metadata": {},
   "outputs": [
    {
     "name": "stdout",
     "output_type": "stream",
     "text": [
      "{1: '+VE', 2: '+VE', -3: '-VE', 4: '+VE', 5: '+VE', -6: '-VE'}\n"
     ]
    }
   ],
   "source": [
    "l = [1,2,-3,4,5,-6]\n",
    "res={}\n",
    "for i in l:\n",
    "    res.update({i:\"+VE\" if i>0 else \"-VE\"})\n",
    "print(res)"
   ]
  },
  {
   "cell_type": "code",
   "execution_count": 47,
   "id": "98cd6672-b350-4293-9591-70456a87e671",
   "metadata": {},
   "outputs": [
    {
     "name": "stdout",
     "output_type": "stream",
     "text": [
      "{1: '+VE', 2: '+VE', -3: '-VE', 4: '+VE', 5: '+VE', -6: '-VE'}\n"
     ]
    }
   ],
   "source": [
    "l = [1,2,-3,4,5,-6]\n",
    "res={i:\"+VE\" if i>0 else \"-VE\" for i in l}\n",
    "#for i in l:\n",
    " #   res.update({i:\"+VE\" if i>0 else \"-VE\"})\n",
    "print(res)"
   ]
  },
  {
   "cell_type": "code",
   "execution_count": 1,
   "id": "dc4f40db-7fb2-4df9-bc88-d9006729a9fd",
   "metadata": {},
   "outputs": [
    {
     "ename": "TypeError",
     "evalue": "'>' not supported between instances of 'str' and 'int'",
     "output_type": "error",
     "traceback": [
      "\u001b[1;31m---------------------------------------------------------------------------\u001b[0m",
      "\u001b[1;31mTypeError\u001b[0m                                 Traceback (most recent call last)",
      "Cell \u001b[1;32mIn[1], line 2\u001b[0m\n\u001b[0;32m      1\u001b[0m l \u001b[38;5;241m=\u001b[39m [\u001b[38;5;241m1\u001b[39m,\u001b[38;5;241m2\u001b[39m,\u001b[38;5;241m-\u001b[39m\u001b[38;5;241m3\u001b[39m,\u001b[38;5;241m4\u001b[39m,\u001b[38;5;241m5\u001b[39m,\u001b[38;5;241m-\u001b[39m\u001b[38;5;241m6\u001b[39m,\u001b[38;5;124m\"\u001b[39m\u001b[38;5;124mdhanu\u001b[39m\u001b[38;5;124m\"\u001b[39m]\n\u001b[1;32m----> 2\u001b[0m res\u001b[38;5;241m=\u001b[39m{i:\u001b[38;5;124m\"\u001b[39m\u001b[38;5;124m+VE\u001b[39m\u001b[38;5;124m\"\u001b[39m \u001b[38;5;28;01mif\u001b[39;00m i\u001b[38;5;241m>\u001b[39m\u001b[38;5;241m0\u001b[39m \u001b[38;5;28;01melse\u001b[39;00m \u001b[38;5;124m\"\u001b[39m\u001b[38;5;124m-VE\u001b[39m\u001b[38;5;124m\"\u001b[39m \u001b[38;5;28;01mfor\u001b[39;00m i \u001b[38;5;129;01min\u001b[39;00m l}\n\u001b[0;32m      3\u001b[0m \u001b[38;5;28mprint\u001b[39m(res)\n",
      "\u001b[1;31mTypeError\u001b[0m: '>' not supported between instances of 'str' and 'int'"
     ]
    }
   ],
   "source": [
    "l = [1,2,-3,4,5,-6,\"dhanu\"]\n",
    "res={i:\"+VE\" if i>0 else \"-VE\" for i in l}\n",
    "print(res)"
   ]
  },
  {
   "cell_type": "code",
   "execution_count": 3,
   "id": "ff1e63fd-47ae-480e-a403-44fa88b75914",
   "metadata": {},
   "outputs": [
    {
     "ename": "TypeError",
     "evalue": "'>' not supported between instances of 'str' and 'int'",
     "output_type": "error",
     "traceback": [
      "\u001b[1;31m---------------------------------------------------------------------------\u001b[0m",
      "\u001b[1;31mTypeError\u001b[0m                                 Traceback (most recent call last)",
      "Cell \u001b[1;32mIn[3], line 1\u001b[0m\n\u001b[1;32m----> 1\u001b[0m \u001b[38;5;124m\"\u001b[39m\u001b[38;5;124mdsdsf\u001b[39m\u001b[38;5;124m\"\u001b[39m \u001b[38;5;241m>\u001b[39m \u001b[38;5;241m0\u001b[39m\n",
      "\u001b[1;31mTypeError\u001b[0m: '>' not supported between instances of 'str' and 'int'"
     ]
    }
   ],
   "source": [
    "\"dsdsf\" > 0"
   ]
  },
  {
   "cell_type": "code",
   "execution_count": 9,
   "id": "ef2b286c-37de-476b-bea9-9d23ed4dc952",
   "metadata": {},
   "outputs": [
    {
     "name": "stdout",
     "output_type": "stream",
     "text": [
      "['+VE', '+VE', '-VE', '+VE', '+VE', '-VE', '+VE', '+VE']\n"
     ]
    }
   ],
   "source": [
    "def check_positive(x):\n",
    "    return \"+VE\" if x>0 else \"-VE\"\n",
    "data = [1,2,-3, 4,5,-6, 7,8,]\n",
    "print([check_positive(i) for i in data])"
   ]
  },
  {
   "cell_type": "code",
   "execution_count": 11,
   "id": "bead40b8-576c-4138-b3e9-7caac6a560e8",
   "metadata": {},
   "outputs": [
    {
     "name": "stdout",
     "output_type": "stream",
     "text": [
      "['+VE', '+VE', '-VE', '+VE', '+VE', '-VE', '+VE', '+VE']\n",
      "<map object at 0x00000291AD34E0E0>\n"
     ]
    }
   ],
   "source": [
    "def check_positive(x):\n",
    "    return \"+VE\" if x>0 else \"-VE\"\n",
    "data = [1,2,-3, 4,5,-6, 7,8,]\n",
    "print([check_positive(i) for i in data])\n",
    "print(map(check_positive, data))"
   ]
  },
  {
   "cell_type": "code",
   "execution_count": 13,
   "id": "75cae235-a47d-4d71-a34e-97960086e44b",
   "metadata": {},
   "outputs": [
    {
     "name": "stdout",
     "output_type": "stream",
     "text": [
      "['+VE', '+VE', '-VE', '+VE', '+VE', '-VE', '+VE', '+VE']\n",
      "['+VE', '+VE', '-VE', '+VE', '+VE', '-VE', '+VE', '+VE']\n"
     ]
    }
   ],
   "source": [
    "def check_positive(x):\n",
    "    return \"+VE\" if x>0 else \"-VE\"\n",
    "data = [1,2,-3, 4,5,-6, 7,8,]\n",
    "print([check_positive(i) for i in data])\n",
    "print(list(map(check_positive, data)))"
   ]
  },
  {
   "cell_type": "code",
   "execution_count": 15,
   "id": "33145bce-0103-4fb2-8feb-1a607253acbe",
   "metadata": {},
   "outputs": [
    {
     "ename": "TypeError",
     "evalue": "check_positive() missing 1 required positional argument: 'y'",
     "output_type": "error",
     "traceback": [
      "\u001b[1;31m---------------------------------------------------------------------------\u001b[0m",
      "\u001b[1;31mTypeError\u001b[0m                                 Traceback (most recent call last)",
      "Cell \u001b[1;32mIn[15], line 5\u001b[0m\n\u001b[0;32m      3\u001b[0m data \u001b[38;5;241m=\u001b[39m [\u001b[38;5;241m1\u001b[39m,\u001b[38;5;241m2\u001b[39m,\u001b[38;5;241m-\u001b[39m\u001b[38;5;241m3\u001b[39m, \u001b[38;5;241m4\u001b[39m,\u001b[38;5;241m5\u001b[39m,\u001b[38;5;241m-\u001b[39m\u001b[38;5;241m6\u001b[39m, \u001b[38;5;241m7\u001b[39m,\u001b[38;5;241m8\u001b[39m,]\n\u001b[0;32m      4\u001b[0m data1 \u001b[38;5;241m=\u001b[39m [\u001b[38;5;241m5\u001b[39m,\u001b[38;5;241m10\u001b[39m,\u001b[38;5;241m15\u001b[39m,\u001b[38;5;241m20\u001b[39m,\u001b[38;5;241m24\u001b[39m,\u001b[38;5;241m56\u001b[39m,\u001b[38;5;241m67\u001b[39m,\u001b[38;5;241m45\u001b[39m]\n\u001b[1;32m----> 5\u001b[0m \u001b[38;5;28mprint\u001b[39m([check_positive(i) \u001b[38;5;28;01mfor\u001b[39;00m i \u001b[38;5;129;01min\u001b[39;00m data])\n\u001b[0;32m      6\u001b[0m \u001b[38;5;28mprint\u001b[39m(\u001b[38;5;28mlist\u001b[39m(\u001b[38;5;28mmap\u001b[39m(check_positive, data)))\n",
      "\u001b[1;31mTypeError\u001b[0m: check_positive() missing 1 required positional argument: 'y'"
     ]
    }
   ],
   "source": [
    "def check_positive(x,y):\n",
    "    return x+y\n",
    "data = [1,2,-3, 4,5,-6, 7,8,]\n",
    "data1 = [5,10,15,20,24,56,67,45]\n",
    "print([check_positive(i) for i in data])\n",
    "print(list(map(check_positive, data)))"
   ]
  },
  {
   "cell_type": "code",
   "execution_count": 17,
   "id": "9b269833-afbf-4dc8-ab40-1e94b8fa1774",
   "metadata": {},
   "outputs": [
    {
     "ename": "TypeError",
     "evalue": "check_positive() missing 1 required positional argument: 'y'",
     "output_type": "error",
     "traceback": [
      "\u001b[1;31m---------------------------------------------------------------------------\u001b[0m",
      "\u001b[1;31mTypeError\u001b[0m                                 Traceback (most recent call last)",
      "Cell \u001b[1;32mIn[17], line 5\u001b[0m\n\u001b[0;32m      3\u001b[0m data \u001b[38;5;241m=\u001b[39m [\u001b[38;5;241m1\u001b[39m,\u001b[38;5;241m2\u001b[39m,\u001b[38;5;241m-\u001b[39m\u001b[38;5;241m3\u001b[39m, \u001b[38;5;241m4\u001b[39m,\u001b[38;5;241m5\u001b[39m,\u001b[38;5;241m-\u001b[39m\u001b[38;5;241m6\u001b[39m, \u001b[38;5;241m7\u001b[39m,\u001b[38;5;241m8\u001b[39m,]\n\u001b[0;32m      4\u001b[0m data1 \u001b[38;5;241m=\u001b[39m [\u001b[38;5;241m5\u001b[39m,\u001b[38;5;241m10\u001b[39m,\u001b[38;5;241m15\u001b[39m,\u001b[38;5;241m20\u001b[39m,\u001b[38;5;241m24\u001b[39m,\u001b[38;5;241m56\u001b[39m,\u001b[38;5;241m67\u001b[39m,\u001b[38;5;241m45\u001b[39m]\n\u001b[1;32m----> 5\u001b[0m \u001b[38;5;28mprint\u001b[39m([check_positive(i) \u001b[38;5;28;01mfor\u001b[39;00m i \u001b[38;5;129;01min\u001b[39;00m data])\n\u001b[0;32m      6\u001b[0m \u001b[38;5;28mprint\u001b[39m(\u001b[38;5;28mlist\u001b[39m(\u001b[38;5;28mmap\u001b[39m(check_positive, \u001b[38;5;28mzip\u001b[39m(data, data1))))\n",
      "\u001b[1;31mTypeError\u001b[0m: check_positive() missing 1 required positional argument: 'y'"
     ]
    }
   ],
   "source": [
    "def check_positive(x,y):\n",
    "    return x+y\n",
    "data = [1,2,-3, 4,5,-6, 7,8,]\n",
    "data1 = [5,10,15,20,24,56,67,45]\n",
    "print([check_positive(i) for i in data])\n",
    "print(list(map(check_positive, zip(data, data1))))"
   ]
  },
  {
   "cell_type": "code",
   "execution_count": 21,
   "id": "331ca9de-f193-4118-bd8a-bbb2825ffa83",
   "metadata": {},
   "outputs": [
    {
     "name": "stdout",
     "output_type": "stream",
     "text": [
      "[6, 12, 12, 24, 29, 50, 74, 53]\n"
     ]
    }
   ],
   "source": [
    "def check_positive(x,y):\n",
    "    return x+y\n",
    "data = [1,2,-3, 4,5,-6, 7,8,]\n",
    "data1 = [5,10,15,20,24,56,67,45]\n",
    "print(list(map(check_positive,data, data1)))\n",
    "\n",
    "'''\n",
    "check_positive(1,5): 6\n",
    "check_positive(2,10): 12\n",
    "check_positive(-3,15): 12\n",
    "check_positive(4,20): 24\n",
    "check_positive(5,24): 29\n",
    "check_positive(-6,56): 50\n",
    "check_positive(7,67): 74\n",
    "check_positive(8,80): 88\n",
    "'''"
   ]
  },
  {
   "cell_type": "code",
   "execution_count": 23,
   "id": "51a54f74-4eaa-4fee-a379-c0033f2fdf12",
   "metadata": {},
   "outputs": [
    {
     "name": "stdout",
     "output_type": "stream",
     "text": [
      "[6, 12, 12, 24, 29, 50, 52]\n"
     ]
    }
   ],
   "source": [
    "def check_positive(x,y):\n",
    "    return x+y\n",
    "data = [1,2,-3, 4,5,-6, 7,8,]\n",
    "data1 = [5,10,15,20,24,56,45]\n",
    "print(list(map(check_positive,data, data1)))"
   ]
  },
  {
   "cell_type": "code",
   "execution_count": 25,
   "id": "c6b8b35d-cc4d-4ee5-b74a-bd4dfbde4e45",
   "metadata": {},
   "outputs": [
    {
     "ename": "TypeError",
     "evalue": "can only concatenate str (not \"int\") to str",
     "output_type": "error",
     "traceback": [
      "\u001b[1;31m---------------------------------------------------------------------------\u001b[0m",
      "\u001b[1;31mTypeError\u001b[0m                                 Traceback (most recent call last)",
      "Cell \u001b[1;32mIn[25], line 5\u001b[0m\n\u001b[0;32m      3\u001b[0m data \u001b[38;5;241m=\u001b[39m [\u001b[38;5;241m1\u001b[39m,\u001b[38;5;241m2\u001b[39m,\u001b[38;5;241m-\u001b[39m\u001b[38;5;241m3\u001b[39m, \u001b[38;5;124m\"\u001b[39m\u001b[38;5;124m \u001b[39m\u001b[38;5;124m\"\u001b[39m,\u001b[38;5;241m5\u001b[39m,\u001b[38;5;241m-\u001b[39m\u001b[38;5;241m6\u001b[39m, \u001b[38;5;241m7\u001b[39m,\u001b[38;5;241m8\u001b[39m,] \n\u001b[0;32m      4\u001b[0m data1 \u001b[38;5;241m=\u001b[39m [\u001b[38;5;241m5\u001b[39m,\u001b[38;5;241m10\u001b[39m,\u001b[38;5;241m15\u001b[39m,\u001b[38;5;241m20\u001b[39m,\u001b[38;5;241m24\u001b[39m,\u001b[38;5;241m56\u001b[39m,\u001b[38;5;241m45\u001b[39m] \u001b[38;5;66;03m# check_positive(\" \",20)\u001b[39;00m\n\u001b[1;32m----> 5\u001b[0m \u001b[38;5;28mprint\u001b[39m(\u001b[38;5;28mlist\u001b[39m(\u001b[38;5;28mmap\u001b[39m(check_positive,data, data1)))\n",
      "Cell \u001b[1;32mIn[25], line 2\u001b[0m, in \u001b[0;36mcheck_positive\u001b[1;34m(x, y)\u001b[0m\n\u001b[0;32m      1\u001b[0m \u001b[38;5;28;01mdef\u001b[39;00m \u001b[38;5;21mcheck_positive\u001b[39m(x,y):\n\u001b[1;32m----> 2\u001b[0m     \u001b[38;5;28;01mreturn\u001b[39;00m x\u001b[38;5;241m+\u001b[39my\n",
      "\u001b[1;31mTypeError\u001b[0m: can only concatenate str (not \"int\") to str"
     ]
    }
   ],
   "source": [
    "def check_positive(x,y):\n",
    "    return x+y\n",
    "data = [1,2,-3, \" \",5,-6, 7,8,] \n",
    "data1 = [5,10,15,20,24,56,45] # check_positive(\" \",20)\n",
    "print(list(map(check_positive,data, data1)))"
   ]
  },
  {
   "cell_type": "code",
   "execution_count": 27,
   "id": "6d8e3bf2-18e4-4820-b333-970308970d68",
   "metadata": {},
   "outputs": [
    {
     "ename": "TypeError",
     "evalue": "can only concatenate str (not \"int\") to str",
     "output_type": "error",
     "traceback": [
      "\u001b[1;31m---------------------------------------------------------------------------\u001b[0m",
      "\u001b[1;31mTypeError\u001b[0m                                 Traceback (most recent call last)",
      "Cell \u001b[1;32mIn[27], line 1\u001b[0m\n\u001b[1;32m----> 1\u001b[0m \u001b[38;5;124m\"\u001b[39m\u001b[38;5;124m \u001b[39m\u001b[38;5;124m\"\u001b[39m\u001b[38;5;241m+\u001b[39m \u001b[38;5;241m20\u001b[39m\n",
      "\u001b[1;31mTypeError\u001b[0m: can only concatenate str (not \"int\") to str"
     ]
    }
   ],
   "source": [
    "\" \"+ 20"
   ]
  },
  {
   "cell_type": "code",
   "execution_count": 29,
   "id": "dd88cdab-47c7-4a59-b537-dc541e157fa5",
   "metadata": {},
   "outputs": [
    {
     "ename": "TypeError",
     "evalue": "unsupported operand type(s) for +: 'int' and 'str'",
     "output_type": "error",
     "traceback": [
      "\u001b[1;31m---------------------------------------------------------------------------\u001b[0m",
      "\u001b[1;31mTypeError\u001b[0m                                 Traceback (most recent call last)",
      "Cell \u001b[1;32mIn[29], line 1\u001b[0m\n\u001b[1;32m----> 1\u001b[0m \u001b[38;5;241m2\u001b[39m\u001b[38;5;241m+\u001b[39m\u001b[38;5;124m\"\u001b[39m\u001b[38;5;124m \u001b[39m\u001b[38;5;124m\"\u001b[39m\n",
      "\u001b[1;31mTypeError\u001b[0m: unsupported operand type(s) for +: 'int' and 'str'"
     ]
    }
   ],
   "source": [
    "2+\" \""
   ]
  },
  {
   "cell_type": "code",
   "execution_count": 31,
   "id": "1398f2f6-4c95-427a-af33-29037d797779",
   "metadata": {},
   "outputs": [
    {
     "name": "stdout",
     "output_type": "stream",
     "text": [
      "[None, None, None, None, None, None]\n"
     ]
    }
   ],
   "source": [
    "def check_positive(x,y):\n",
    "    if x>10:\n",
    "        return x+y\n",
    "data = [1,2,-3, 4,5,-6, 7,8,]  \n",
    "data1 = [5,10,15,20,24,56]\n",
    "print(list(map(check_positive,data, data1)))\n",
    "\n",
    "'''\n",
    "check_positive(1,5) = 1 > 5 = false =None\n",
    "check_positive(2,10) = 2 >10 = false =None\n",
    "check_positive(-3,15) = -3 > 15 = false =None\n",
    "check_positive(4,20) = 4 > 20 = false =None\n",
    "'''"
   ]
  },
  {
   "cell_type": "code",
   "execution_count": null,
   "id": "2ad97fd9-be88-403a-ad4b-4c508ee3c39b",
   "metadata": {},
   "outputs": [],
   "source": []
  },
  {
   "cell_type": "code",
   "execution_count": null,
   "id": "8b63b15b-aa3e-4cdd-9f6c-6b204dfb9ace",
   "metadata": {},
   "outputs": [],
   "source": []
  },
  {
   "cell_type": "code",
   "execution_count": null,
   "id": "9e82e37c-2a5b-4379-80bb-89d3f2e45a00",
   "metadata": {},
   "outputs": [],
   "source": []
  },
  {
   "cell_type": "code",
   "execution_count": null,
   "id": "99fb1495-7d63-4dda-bd96-fb760c2f75bb",
   "metadata": {},
   "outputs": [],
   "source": []
  },
  {
   "cell_type": "code",
   "execution_count": null,
   "id": "8a6d3705-8641-46b5-808c-1982ab6c9399",
   "metadata": {},
   "outputs": [],
   "source": []
  },
  {
   "cell_type": "code",
   "execution_count": 33,
   "id": "3aa21f97-90e6-4de6-a7de-5516e2bebb44",
   "metadata": {},
   "outputs": [
    {
     "name": "stdout",
     "output_type": "stream",
     "text": [
      "[6, 8, 10, 12, 14]\n"
     ]
    }
   ],
   "source": [
    "a=[1,2,3,4,5]\n",
    "b=[5,6,7,8,9,10]\n",
    "print(list(map(lambda x,y=0:x+y,a,b)))"
   ]
  },
  {
   "cell_type": "code",
   "execution_count": 35,
   "id": "0afaa33a-9f15-4d02-863c-60440dd60827",
   "metadata": {},
   "outputs": [
    {
     "name": "stdout",
     "output_type": "stream",
     "text": [
      "(1, 2, 3, 4) <class 'tuple'> 4\n",
      "(1, 2, 3, 4) <class 'tuple'> 4\n",
      "([1, 2, 3, 4],) <class 'tuple'> 1\n"
     ]
    }
   ],
   "source": [
    "def fun(*y):\n",
    "    print(y, type(y),len(y))\n",
    "x=[1,2,3,4]\n",
    "fun(1,2,3,4)\n",
    "fun(*x)\n",
    "fun(x)"
   ]
  },
  {
   "cell_type": "code",
   "execution_count": 39,
   "id": "a03517d2-0051-461d-9d63-eff9ff40b15f",
   "metadata": {},
   "outputs": [
    {
     "ename": "TypeError",
     "evalue": "reg() missing 2 required positional arguments: 'password' and 'email'",
     "output_type": "error",
     "traceback": [
      "\u001b[1;31m---------------------------------------------------------------------------\u001b[0m",
      "\u001b[1;31mTypeError\u001b[0m                                 Traceback (most recent call last)",
      "Cell \u001b[1;32mIn[39], line 4\u001b[0m\n\u001b[0;32m      2\u001b[0m     \u001b[38;5;28mprint\u001b[39m(\u001b[38;5;124mf\u001b[39m\u001b[38;5;124m\"\u001b[39m\u001b[38;5;124musername=\u001b[39m\u001b[38;5;132;01m{\u001b[39;00musername\u001b[38;5;132;01m}\u001b[39;00m\u001b[38;5;124m, password=\u001b[39m\u001b[38;5;132;01m{\u001b[39;00mpassword\u001b[38;5;132;01m}\u001b[39;00m\u001b[38;5;124m, email=\u001b[39m\u001b[38;5;132;01m{\u001b[39;00memail\u001b[38;5;132;01m}\u001b[39;00m\u001b[38;5;124m\"\u001b[39m)\n\u001b[0;32m      3\u001b[0m data \u001b[38;5;241m=\u001b[39m {\u001b[38;5;124m\"\u001b[39m\u001b[38;5;124musername\u001b[39m\u001b[38;5;124m\"\u001b[39m:\u001b[38;5;124m\"\u001b[39m\u001b[38;5;124muser1\u001b[39m\u001b[38;5;124m\"\u001b[39m,\u001b[38;5;124m\"\u001b[39m\u001b[38;5;124mpassword\u001b[39m\u001b[38;5;124m\"\u001b[39m:\u001b[38;5;124m\"\u001b[39m\u001b[38;5;124mpwd\u001b[39m\u001b[38;5;124m\"\u001b[39m,\u001b[38;5;124m\"\u001b[39m\u001b[38;5;124memail\u001b[39m\u001b[38;5;124m\"\u001b[39m:\u001b[38;5;124m\"\u001b[39m\u001b[38;5;124me1@gamil.com\u001b[39m\u001b[38;5;124m\"\u001b[39m}\n\u001b[1;32m----> 4\u001b[0m reg(data)\n",
      "\u001b[1;31mTypeError\u001b[0m: reg() missing 2 required positional arguments: 'password' and 'email'"
     ]
    }
   ],
   "source": [
    "def reg(username,password,email):\n",
    "    print(f\"username={username}, password={password}, email={email}\")\n",
    "data = {\"username\":\"user1\",\"password\":\"pwd\",\"email\":\"e1@gamil.com\"}\n",
    "reg(data)"
   ]
  },
  {
   "cell_type": "code",
   "execution_count": 41,
   "id": "2d2fc1ff-eb16-4b5c-883e-b1f6666f3721",
   "metadata": {},
   "outputs": [
    {
     "name": "stdout",
     "output_type": "stream",
     "text": [
      "username=user1, password=pwd, email=e1@gamil.com\n"
     ]
    },
    {
     "ename": "TypeError",
     "evalue": "reg() missing 2 required positional arguments: 'password' and 'email'",
     "output_type": "error",
     "traceback": [
      "\u001b[1;31m---------------------------------------------------------------------------\u001b[0m",
      "\u001b[1;31mTypeError\u001b[0m                                 Traceback (most recent call last)",
      "Cell \u001b[1;32mIn[41], line 5\u001b[0m\n\u001b[0;32m      3\u001b[0m data \u001b[38;5;241m=\u001b[39m {\u001b[38;5;124m\"\u001b[39m\u001b[38;5;124musername\u001b[39m\u001b[38;5;124m\"\u001b[39m:\u001b[38;5;124m\"\u001b[39m\u001b[38;5;124muser1\u001b[39m\u001b[38;5;124m\"\u001b[39m,\u001b[38;5;124m\"\u001b[39m\u001b[38;5;124mpassword\u001b[39m\u001b[38;5;124m\"\u001b[39m:\u001b[38;5;124m\"\u001b[39m\u001b[38;5;124mpwd\u001b[39m\u001b[38;5;124m\"\u001b[39m,\u001b[38;5;124m\"\u001b[39m\u001b[38;5;124memail\u001b[39m\u001b[38;5;124m\"\u001b[39m:\u001b[38;5;124m\"\u001b[39m\u001b[38;5;124me1@gamil.com\u001b[39m\u001b[38;5;124m\"\u001b[39m}\n\u001b[0;32m      4\u001b[0m reg(\u001b[38;5;241m*\u001b[39m\u001b[38;5;241m*\u001b[39mdata)\n\u001b[1;32m----> 5\u001b[0m reg(data)\n",
      "\u001b[1;31mTypeError\u001b[0m: reg() missing 2 required positional arguments: 'password' and 'email'"
     ]
    }
   ],
   "source": [
    "def reg(username,password,email):\n",
    "    print(f\"username={username}, password={password}, email={email}\")\n",
    "data = {\"username\":\"user1\",\"password\":\"pwd\",\"email\":\"e1@gamil.com\"}\n",
    "reg(**data)\n",
    "reg(data)"
   ]
  },
  {
   "cell_type": "code",
   "execution_count": 45,
   "id": "99f0edc7-69a1-43df-be1a-1245987ec8bf",
   "metadata": {},
   "outputs": [
    {
     "name": "stdout",
     "output_type": "stream",
     "text": [
      "['1', '2', '3', '4']\n"
     ]
    }
   ],
   "source": [
    "data=[1,2,3,4]\n",
    "print([str(i) for i in data])"
   ]
  },
  {
   "cell_type": "code",
   "execution_count": 47,
   "id": "27304098-6214-4aad-a4e3-38508f079f08",
   "metadata": {},
   "outputs": [
    {
     "name": "stdout",
     "output_type": "stream",
     "text": [
      "['1', '2', '3', '4']\n",
      "['1', '2', '3', '4']\n"
     ]
    }
   ],
   "source": [
    "data=[1,2,3,4]\n",
    "print([str(i) for i in data])\n",
    "print(list(map(lambda x:str(x), data)))"
   ]
  },
  {
   "cell_type": "code",
   "execution_count": 49,
   "id": "2582c5bd-ee66-4b30-9517-d6b19aea119b",
   "metadata": {},
   "outputs": [
    {
     "name": "stdout",
     "output_type": "stream",
     "text": [
      "['1', '2', '3', '4']\n",
      "['1', '2', '3', '4']\n",
      "['1', '2', '3', '4']\n"
     ]
    }
   ],
   "source": [
    "data=[1,2,3,4]\n",
    "print([str(i) for i in data])\n",
    "print(list(map(lambda x:str(x), data)))\n",
    "print(list(map(str,data)))"
   ]
  },
  {
   "cell_type": "code",
   "execution_count": 53,
   "id": "012e08ef-95ba-4b9b-8504-7becc9a05927",
   "metadata": {},
   "outputs": [
    {
     "name": "stdout",
     "output_type": "stream",
     "text": [
      "[1, 2, 4, 5, 8, 9]\n",
      "[1, 2, 4, 5, 8, 9]\n",
      "[True, True, False, True, True, False, True, True]\n"
     ]
    }
   ],
   "source": [
    "data=[1,2,-3,4,5,-6,8,9]\n",
    "#get the list of only positive numbers\n",
    "print([i  for i in data if i>0])\n",
    "def is_positive(x):\n",
    "    return x>0\n",
    "print(list(filter(is_positive, data))) #[1,2,4,5,8,9]\n",
    "# the functions which you are using in filter should return either True or False\n",
    "\n",
    "print(list(map(is_positive,data))) #[True, True, False, True, True, False, True, True]"
   ]
  },
  {
   "cell_type": "code",
   "execution_count": 55,
   "id": "e7a8b63a-039d-423f-9b9c-7eada5c5d431",
   "metadata": {},
   "outputs": [
    {
     "name": "stdout",
     "output_type": "stream",
     "text": [
      "[1, 2, 4, 5, 8, 9]\n",
      "[1, 2, -1, -3, 4, 5, -6, 8, 9]\n"
     ]
    }
   ],
   "source": [
    "data=[1,2,-1,-3,4,5,-6,8,9]\n",
    "#get the list of only positive numbers\n",
    "print([i  for i in data if i>0])\n",
    "def is_positive(x):\n",
    "    return x+2\n",
    "print(list(filter(is_positive, data))) #[1,2,-1,-3,4,5,-6,8,9]\n"
   ]
  },
  {
   "cell_type": "code",
   "execution_count": 57,
   "id": "ba3f72a9-d88c-46a7-b346-b869dc0d65f5",
   "metadata": {},
   "outputs": [
    {
     "name": "stdout",
     "output_type": "stream",
     "text": [
      "[1, 2, 4, 5, 8, 9]\n"
     ]
    }
   ],
   "source": [
    "data = [1, 2, -1, -3, 4, 5, -6, 8, 9]\n",
    "print(list(filter(lambda x:x>0, data))) "
   ]
  },
  {
   "cell_type": "code",
   "execution_count": null,
   "id": "dc325675-857c-48e7-9d72-0f1d4b805785",
   "metadata": {},
   "outputs": [],
   "source": []
  }
 ],
 "metadata": {
  "kernelspec": {
   "display_name": "Python 3 (ipykernel)",
   "language": "python",
   "name": "python3"
  },
  "language_info": {
   "codemirror_mode": {
    "name": "ipython",
    "version": 3
   },
   "file_extension": ".py",
   "mimetype": "text/x-python",
   "name": "python",
   "nbconvert_exporter": "python",
   "pygments_lexer": "ipython3",
   "version": "3.12.4"
  }
 },
 "nbformat": 4,
 "nbformat_minor": 5
}
