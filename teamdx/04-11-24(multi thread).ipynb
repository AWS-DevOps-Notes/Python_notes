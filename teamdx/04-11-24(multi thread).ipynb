{
 "cells": [
  {
   "cell_type": "code",
   "execution_count": 5,
   "id": "b8745baf-386f-47a5-97b7-656bd6c1793c",
   "metadata": {},
   "outputs": [
    {
     "name": "stdout",
     "output_type": "stream",
     "text": [
      "x=100,y=20\n",
      "result =  None\n"
     ]
    }
   ],
   "source": [
    "def fun(x,y):\n",
    "    print(f'x={x},y={y}')\n",
    "    res=x/y\n",
    "\n",
    "res=fun(100,20)\n",
    "print(\"result = \",res)"
   ]
  },
  {
   "cell_type": "code",
   "execution_count": null,
   "id": "bc04b9af-32d9-4c24-871f-177d9f839d4f",
   "metadata": {},
   "outputs": [],
   "source": []
  }
 ],
 "metadata": {
  "kernelspec": {
   "display_name": "Python 3 (ipykernel)",
   "language": "python",
   "name": "python3"
  },
  "language_info": {
   "codemirror_mode": {
    "name": "ipython",
    "version": 3
   },
   "file_extension": ".py",
   "mimetype": "text/x-python",
   "name": "python",
   "nbconvert_exporter": "python",
   "pygments_lexer": "ipython3",
   "version": "3.12.4"
  }
 },
 "nbformat": 4,
 "nbformat_minor": 5
}
