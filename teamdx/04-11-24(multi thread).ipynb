{
 "cells": [
  {
   "cell_type": "code",
   "execution_count": 5,
   "id": "b8745baf-386f-47a5-97b7-656bd6c1793c",
   "metadata": {},
   "outputs": [
    {
     "name": "stdout",
     "output_type": "stream",
     "text": [
      "x=100,y=20\n",
      "result =  None\n"
     ]
    }
   ],
   "source": [
    "def fun(x,y):\n",
    "    print(f'x={x},y={y}')\n",
    "    res=x/y\n",
    "\n",
    "res=fun(100,20)\n",
    "print(\"result = \",res)"
   ]
  },
  {
   "cell_type": "code",
   "execution_count": 9,
   "id": "bc04b9af-32d9-4c24-871f-177d9f839d4f",
   "metadata": {},
   "outputs": [
    {
     "name": "stdout",
     "output_type": "stream",
     "text": [
      "22660\n",
      "22660\n",
      "x=100,y=20\n",
      "result =  None\n"
     ]
    }
   ],
   "source": [
    "import os\n",
    "def fun(x,y):\n",
    "    print(os.getpid())\n",
    "    print(f'x={x},y={y}')\n",
    "    res=x/y\n",
    "\n",
    "print(os.getpid())\n",
    "res=fun(100,20)\n",
    "print(\"result = \",res)"
   ]
  },
  {
   "cell_type": "code",
   "execution_count": 17,
   "id": "845532f6-de9d-488f-a7f2-4f0a47eb1dd5",
   "metadata": {},
   "outputs": [
    {
     "name": "stdout",
     "output_type": "stream",
     "text": [
      "9\n",
      "<_MainThread(MainThread, started 13256)>\n",
      "22660\n",
      "********functions***************\n",
      "9\n",
      "<_MainThread(MainThread, started 13256)>\n",
      "22660\n",
      "x=100,y=20\n",
      "********functions***************\n",
      "result =  None\n"
     ]
    }
   ],
   "source": [
    "import os\n",
    "import threading\n",
    "def fun(x,y):\n",
    "    print('********functions***************')\n",
    "    print(threading.active_count())\n",
    "    print(threading.current_thread())\n",
    "    print(os.getpid())\n",
    "    print(f'x={x},y={y}')\n",
    "    res=x/y\n",
    "    print('********functions***************')\n",
    "    \n",
    "print(threading.active_count())\n",
    "print(threading.current_thread())\n",
    "print(os.getpid())\n",
    "res=fun(100,20)\n",
    "print(\"result = \",res)"
   ]
  },
  {
   "cell_type": "code",
   "execution_count": 19,
   "id": "f14d3c49-aef9-4fa9-8215-cf0dc0a8ed28",
   "metadata": {},
   "outputs": [
    {
     "name": "stdout",
     "output_type": "stream",
     "text": [
      "9\n",
      "<_MainThread(MainThread, started 13256)>\n",
      "22660\n",
      "********functions***************\n",
      "9\n",
      "<_MainThread(MainThread, started 13256)>\n",
      "22660\n",
      "x=100,y=20\n",
      "********functions***************\n",
      "result =  None\n"
     ]
    }
   ],
   "source": [
    "# multi_thr.py\n",
    "\n",
    "'''\n",
    "get the max(salary) of employee table.... RAM, CPU....[[[CPU BOUND JOB]]]...\n",
    "\n",
    "multi processing...\n",
    "\n",
    "we are sending request to RDS instance to get 20 records from department table....\n",
    "ex:\n",
    "india... us-east.2...... network [[[(Memory/Network/Outside/data/storage)..BOUNDED JOB]]]\n",
    "\n",
    "Task: remote server: / department(2 sec).. /employee_salary(3).. /emp_address(4)..\n",
    "\n",
    "Process.. thr1,thr2, thr3....\n",
    "thr1(/department(2 sec)..)... while thr1 working for sdepartments will raise one more request\n",
    "thr2(/employee_salary(3))\n",
    "thr3(/emp_address(4))\n",
    ".... time taken to  complote this job : 4 seconds\n",
    "\n",
    "'''\n",
    "\n",
    "import os\n",
    "import threading\n",
    "def fun(x,y):\n",
    "    print('********functions***************')\n",
    "    print(threading.active_count())\n",
    "    print(threading.current_thread())\n",
    "    print(os.getpid())\n",
    "    print(f'x={x},y={y}')\n",
    "    res=x/y\n",
    "    print('********functions***************')\n",
    "    \n",
    "print(threading.active_count())\n",
    "print(threading.current_thread())\n",
    "print(os.getpid())\n",
    "res=fun(100,20)\n",
    "print(\"result = \",res)"
   ]
  },
  {
   "cell_type": "code",
   "execution_count": 3,
   "id": "a3d4f10d-6e7f-43e2-b7f2-ce6988a9491f",
   "metadata": {},
   "outputs": [
    {
     "name": "stdout",
     "output_type": "stream",
     "text": [
      "********fun1 started***************\n",
      "working on fun1\n",
      "working on fun1\n",
      "working on fun1\n",
      "working on fun1\n",
      "working on fun1\n",
      "********fun1 completed***************\n",
      "********fun2 stared***************\n",
      "working on fun2\n",
      "working on fun2\n",
      "working on fun2\n",
      "working on fun2\n",
      "working on fun2\n",
      "********fun2 completed***************\n",
      "Time taken to complete this job: 30.005804777145386\n"
     ]
    }
   ],
   "source": [
    "# multi_thr2.py\n",
    "\n",
    "import time\n",
    "def fun1():\n",
    "    print('********fun1 started***************')\n",
    "    for i in range(5):\n",
    "        time.sleep(5)\n",
    "        print('working on fun1')\n",
    "    print('********fun1 completed***************')\n",
    "    \n",
    "def fun2():\n",
    "    print('********fun2 stared***************')\n",
    "    for i in range(5):\n",
    "        time.sleep(1)\n",
    "        print('working on fun2')\n",
    "    print('********fun2 completed***************')\n",
    "t1=time.time()\n",
    "fun1()\n",
    "fun2()\n",
    "t2=time.time()\n",
    "print(\"Time taken to complete this job:\",t2-t1)"
   ]
  },
  {
   "cell_type": "code",
   "execution_count": 17,
   "id": "91e85633-47e4-486f-a552-747a6264a0fd",
   "metadata": {},
   "outputs": [
    {
     "name": "stdout",
     "output_type": "stream",
     "text": [
      "Program started with\n",
      "Program started with 9\n",
      "********fun1 started***************\n",
      "18416\n",
      "thread1\n",
      "********fun2 stared***************\n",
      "18416\n",
      "thread2\n",
      "11\n",
      "18416\n",
      "<_MainThread(MainThread, started 28124)>\n",
      "Time taken to complete this job: 0.0022940635681152344\n"
     ]
    }
   ],
   "source": [
    "# multi_thr2.py\n",
    "\n",
    "print(\"Program started with\")\n",
    "import time\n",
    "import os\n",
    "import threading\n",
    "print(\"Program started with\",threading.active_count())\n",
    "def fun1():\n",
    "    print('********fun1 started***************')\n",
    "    print(os.getpid())\n",
    "    print(threading.current_thread().name)\n",
    "    for i in range(5):\n",
    "        time.sleep(5)\n",
    "        print('working on fun1')\n",
    "    print('********fun1 completed***************')\n",
    "def fun2():\n",
    "    print('********fun2 stared***************')\n",
    "    print(os.getpid())\n",
    "    print(threading.current_thread().name)\n",
    "    for i in range(5):\n",
    "        time.sleep(1)\n",
    "        print('working on fun2')\n",
    "    print('********fun2 completed***************')\n",
    "\n",
    "t1=time.time()\n",
    "thr1 = threading.Thread(target=fun1, name=\"thread1\")\n",
    "thr2 = threading.Thread(target=fun2, name=\"thread2\")\n",
    "thr1.start()\n",
    "thr2.start()\n",
    "# thread state\n",
    "print(threading.active_count())\n",
    "print(os.getpid())\n",
    "print(threading.current_thread())\n",
    "t2=time.time()\n",
    "print(\"Time taken to complete this job:\",t2-t1)"
   ]
  },
  {
   "cell_type": "code",
   "execution_count": null,
   "id": "50b7732b-f581-488a-9f23-62ff50709e43",
   "metadata": {},
   "outputs": [],
   "source": []
  }
 ],
 "metadata": {
  "kernelspec": {
   "display_name": "Python 3 (ipykernel)",
   "language": "python",
   "name": "python3"
  },
  "language_info": {
   "codemirror_mode": {
    "name": "ipython",
    "version": 3
   },
   "file_extension": ".py",
   "mimetype": "text/x-python",
   "name": "python",
   "nbconvert_exporter": "python",
   "pygments_lexer": "ipython3",
   "version": "3.12.4"
  }
 },
 "nbformat": 4,
 "nbformat_minor": 5
}
