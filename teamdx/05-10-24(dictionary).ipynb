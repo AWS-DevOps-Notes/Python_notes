{
 "cells": [
  {
   "cell_type": "code",
   "execution_count": 7,
   "id": "6f5d8137-d1cc-407a-ad49-4d94ef168f0a",
   "metadata": {},
   "outputs": [
    {
     "ename": "KeyError",
     "evalue": "0",
     "output_type": "error",
     "traceback": [
      "\u001b[1;31m---------------------------------------------------------------------------\u001b[0m",
      "\u001b[1;31mKeyError\u001b[0m                                  Traceback (most recent call last)",
      "Cell \u001b[1;32mIn[7], line 2\u001b[0m\n\u001b[0;32m      1\u001b[0m data \u001b[38;5;241m=\u001b[39m{\u001b[38;5;124m'\u001b[39m\u001b[38;5;124mname\u001b[39m\u001b[38;5;124m'\u001b[39m:\u001b[38;5;124m'\u001b[39m\u001b[38;5;124mjay\u001b[39m\u001b[38;5;124m'\u001b[39m,\u001b[38;5;124m'\u001b[39m\u001b[38;5;124mage\u001b[39m\u001b[38;5;124m'\u001b[39m:\u001b[38;5;241m8\u001b[39m,\u001b[38;5;124m'\u001b[39m\u001b[38;5;124mclass\u001b[39m\u001b[38;5;124m'\u001b[39m:\u001b[38;5;241m2\u001b[39m}\n\u001b[1;32m----> 2\u001b[0m \u001b[38;5;28mprint\u001b[39m(data[\u001b[38;5;241m0\u001b[39m])\n",
      "\u001b[1;31mKeyError\u001b[0m: 0"
     ]
    }
   ],
   "source": [
    "data ={'name':'jay','age':8,'class':2}\n",
    "print(data[0])"
   ]
  },
  {
   "cell_type": "code",
   "execution_count": 9,
   "id": "06de7e26-e22f-46b0-bd69-3751ec36b49e",
   "metadata": {},
   "outputs": [
    {
     "name": "stdout",
     "output_type": "stream",
     "text": [
      "jay\n"
     ]
    }
   ],
   "source": [
    "data ={'name':'jay','age':8,'class':2}\n",
    "print(data['name'])"
   ]
  },
  {
   "cell_type": "code",
   "execution_count": 11,
   "id": "329a6a37-d0fd-48cc-a66e-077cc338a63f",
   "metadata": {},
   "outputs": [
    {
     "name": "stdout",
     "output_type": "stream",
     "text": [
      "{19, 405, 30}\n"
     ]
    }
   ],
   "source": [
    "s={19,30,405}\n",
    "print(s)"
   ]
  },
  {
   "cell_type": "code",
   "execution_count": 15,
   "id": "80eab85e-0880-44fb-a8ad-f7d69e476e95",
   "metadata": {},
   "outputs": [
    {
     "name": "stdout",
     "output_type": "stream",
     "text": [
      "jay\n",
      "{'name': 'jay', 'age': 8, 'class': 2}\n",
      "name\n",
      "age\n",
      "class\n"
     ]
    }
   ],
   "source": [
    "data ={'name':'jay','age':8,'class':2}\n",
    "print(data['name'])\n",
    "print(data)\n",
    "for i in data:\n",
    "    print(i)"
   ]
  },
  {
   "cell_type": "code",
   "execution_count": 17,
   "id": "67dec78a-ef87-47ab-88ef-8d2a93a6f729",
   "metadata": {},
   "outputs": [
    {
     "name": "stdout",
     "output_type": "stream",
     "text": [
      "['__class__', '__class_getitem__', '__contains__', '__delattr__', '__delitem__', '__dir__', '__doc__', '__eq__', '__format__', '__ge__', '__getattribute__', '__getitem__', '__getstate__', '__gt__', '__hash__', '__init__', '__init_subclass__', '__ior__', '__iter__', '__le__', '__len__', '__lt__', '__ne__', '__new__', '__or__', '__reduce__', '__reduce_ex__', '__repr__', '__reversed__', '__ror__', '__setattr__', '__setitem__', '__sizeof__', '__str__', '__subclasshook__', 'clear', 'copy', 'fromkeys', 'get', 'items', 'keys', 'pop', 'popitem', 'setdefault', 'update', 'values']\n"
     ]
    }
   ],
   "source": [
    "print(dir(data))"
   ]
  },
  {
   "cell_type": "code",
   "execution_count": 19,
   "id": "0a44f34b-a7ea-4da3-bcef-cb3157251e61",
   "metadata": {},
   "outputs": [
    {
     "name": "stdout",
     "output_type": "stream",
     "text": [
      "{'name': 'jay', 'age': 9, 'class': 2, 'email': 'jay@gmail.com'}\n",
      "{'name': 'jay', 'age': 9, 'class': 2, 'email': 'jay@gmail.com'}\n",
      "None\n"
     ]
    }
   ],
   "source": [
    "data={'name': 'jay', 'age': 8, 'class': 2}\n",
    "data1=data\n",
    "data2=data1.update({'age':9,'email':'jay@gmail.com'})\n",
    "print(data)\n",
    "print(data1)\n",
    "print(data2)"
   ]
  },
  {
   "cell_type": "code",
   "execution_count": 25,
   "id": "34093e49-186d-478c-a3ee-6fa1767d0cc7",
   "metadata": {},
   "outputs": [
    {
     "name": "stdout",
     "output_type": "stream",
     "text": [
      "[{'name': 'jay', 'age': 8, 'email': 'e1@gmail.com'}, {'name': 'indu', 'age': 12, 'email': 'e1@gmail.com'}, {'name': 'ameel', 'age': 12, 'email': 'e1@gmail.com'}]\n"
     ]
    }
   ],
   "source": [
    "l=[{'name': 'jay', 'age': 8},{'name': 'indu', 'age': 12},{'name': 'ameel', 'age': 12}]\n",
    "for i in l:\n",
    "    i.update({'email':'e1@gmail.com'})\n",
    "print(l)"
   ]
  },
  {
   "cell_type": "code",
   "execution_count": 27,
   "id": "93bf1877-a770-4075-921c-e7be9f4e1851",
   "metadata": {},
   "outputs": [
    {
     "name": "stdout",
     "output_type": "stream",
     "text": [
      "4\n",
      "d= {'name': 'jay', 'ids': [1, 2, 3], 'emails': ('e1', 'e2')}\n",
      "e= {'name': 'jay', 'ids': [1, 2, 3], 'emails': ('e1', 'e2')}\n",
      "f= {'name': 'jay', 'ids': [1, 2, 3], 'emails': ('e1', 'e2')}\n",
      "g= {'name': 'jay', 'ids': [1, 2, 3, 4], 'emails': ('e1', 'e2')}\n"
     ]
    }
   ],
   "source": [
    "from copy import deepcopy\n",
    "d={'name': 'jay', 'ids': [1,2,3,4],'emails':('e1','e2')}\n",
    "e=d\n",
    "f=d.copy()\n",
    "g=deepcopy(d)\n",
    "removed_id=e['ids'].pop()\n",
    "print(removed_id)\n",
    "print('d=',d)\n",
    "print('e=',e)\n",
    "print('f=',f)\n",
    "print('g=',g) # only in mutable object place new object will create"
   ]
  },
  {
   "cell_type": "code",
   "execution_count": 33,
   "id": "30624c42-e255-4c25-8120-41b9df29cddb",
   "metadata": {},
   "outputs": [
    {
     "name": "stdout",
     "output_type": "stream",
     "text": [
      "name\n",
      "age\n"
     ]
    }
   ],
   "source": [
    "data ={'name': 'jay', 'age': 8}\n",
    "for i in data.keys():\n",
    "    print(i)"
   ]
  },
  {
   "cell_type": "code",
   "execution_count": 31,
   "id": "1398ee04-efa5-4ad6-8207-f101e46306d4",
   "metadata": {},
   "outputs": [
    {
     "name": "stdout",
     "output_type": "stream",
     "text": [
      "('name', 'jay')\n",
      "('age', 8)\n"
     ]
    }
   ],
   "source": [
    "data ={'name': 'jay', 'age': 8}\n",
    "for i in data.items():\n",
    "    print(i)"
   ]
  },
  {
   "cell_type": "code",
   "execution_count": null,
   "id": "b8857a31-698b-46c7-868c-1f300dce852b",
   "metadata": {},
   "outputs": [],
   "source": [
    "data.update({'age':7})\n",
    "print(data)"
   ]
  },
  {
   "cell_type": "code",
   "execution_count": null,
   "id": "7ea8160f-1258-4fb9-a7c5-720e894dcb9f",
   "metadata": {},
   "outputs": [],
   "source": [
    "data.setdefault({'age':7})\n",
    "print(data)"
   ]
  },
  {
   "cell_type": "code",
   "execution_count": 35,
   "id": "7eb964cd-d301-4982-8665-a751c44de274",
   "metadata": {},
   "outputs": [
    {
     "name": "stdout",
     "output_type": "stream",
     "text": [
      "{'name': 'vedha', 'age': 8}\n"
     ]
    }
   ],
   "source": [
    "data ={'name': 'jay', 'age': 8, 'name':'vedha'}\n",
    "print(data)"
   ]
  },
  {
   "cell_type": "code",
   "execution_count": 39,
   "id": "9fa84dc2-2ca8-42e7-9381-41d72b8d5cb2",
   "metadata": {},
   "outputs": [
    {
     "data": {
      "text/plain": [
       "\u001b[1;31mSignature:\u001b[0m \u001b[0mdata\u001b[0m\u001b[1;33m.\u001b[0m\u001b[0mfromkeys\u001b[0m\u001b[1;33m(\u001b[0m\u001b[0miterable\u001b[0m\u001b[1;33m,\u001b[0m \u001b[0mvalue\u001b[0m\u001b[1;33m=\u001b[0m\u001b[1;32mNone\u001b[0m\u001b[1;33m,\u001b[0m \u001b[1;33m/\u001b[0m\u001b[1;33m)\u001b[0m\u001b[1;33m\u001b[0m\u001b[1;33m\u001b[0m\u001b[0m\n",
       "\u001b[1;31mDocstring:\u001b[0m Create a new dictionary with keys from iterable and values set to value.\n",
       "\u001b[1;31mType:\u001b[0m      builtin_function_or_method"
      ]
     },
     "metadata": {},
     "output_type": "display_data"
    }
   ],
   "source": [
    "data1= data.fromkeys?"
   ]
  },
  {
   "cell_type": "code",
   "execution_count": 41,
   "id": "eba3abcc-4e95-4624-ae9c-8ecdc450413a",
   "metadata": {},
   "outputs": [
    {
     "name": "stdout",
     "output_type": "stream",
     "text": [
      "{10: 'int', 20: 'int', 30: 'int'}\n"
     ]
    }
   ],
   "source": [
    "data1= data.fromkeys([10,20,20,30],'int')\n",
    "print(data1)"
   ]
  },
  {
   "cell_type": "code",
   "execution_count": null,
   "id": "66901db6-7143-464d-ba00-52af85fee021",
   "metadata": {},
   "outputs": [],
   "source": [
    "l=[{'rohit':70,'kohli'=70,'jadeja'=40,'krahul'=40}]\n",
    "#res={40:['jadeja','krahu;'],70:['rohit','kohli']}"
   ]
  },
  {
   "cell_type": "code",
   "execution_count": 43,
   "id": "0f1a2a16-2698-42f6-a7a9-7b6bf32eb95a",
   "metadata": {},
   "outputs": [
    {
     "name": "stdout",
     "output_type": "stream",
     "text": [
      "['__class__', '__class_getitem__', '__contains__', '__delattr__', '__delitem__', '__dir__', '__doc__', '__eq__', '__format__', '__ge__', '__getattribute__', '__getitem__', '__getstate__', '__gt__', '__hash__', '__init__', '__init_subclass__', '__ior__', '__iter__', '__le__', '__len__', '__lt__', '__ne__', '__new__', '__or__', '__reduce__', '__reduce_ex__', '__repr__', '__reversed__', '__ror__', '__setattr__', '__setitem__', '__sizeof__', '__str__', '__subclasshook__', 'clear', 'copy', 'fromkeys', 'get', 'items', 'keys', 'pop', 'popitem', 'setdefault', 'update', 'values']\n"
     ]
    }
   ],
   "source": [
    "print(dir({'name':\"jay\"}))"
   ]
  },
  {
   "cell_type": "code",
   "execution_count": 59,
   "id": "d59bb1d8-7335-4e0e-b139-dc4f939d1dd1",
   "metadata": {},
   "outputs": [
    {
     "name": "stdout",
     "output_type": "stream",
     "text": [
      "dict_values([70, 70, 40, 40])\n"
     ]
    }
   ],
   "source": [
    "l={'rohit':70,'kohli':70,'jadeja':40,'krahul':40}\n",
    "print(l.values())"
   ]
  },
  {
   "cell_type": "code",
   "execution_count": 63,
   "id": "1334ac48-dfaf-45c4-8dfd-2bc0184a245a",
   "metadata": {},
   "outputs": [
    {
     "name": "stdout",
     "output_type": "stream",
     "text": [
      "{70: [], 40: []}\n"
     ]
    }
   ],
   "source": [
    "l={'rohit':70,'kohli':70,'jadeja':40,'krahul':40}\n",
    "res=l.fromkeys(l.values(),[])\n",
    "print(res)"
   ]
  },
  {
   "cell_type": "code",
   "execution_count": 65,
   "id": "f3402cc9-2363-4cd8-8608-3d8d117a0938",
   "metadata": {},
   "outputs": [
    {
     "name": "stdout",
     "output_type": "stream",
     "text": [
      "rohit 70\n",
      "kohli 70\n",
      "jadeja 40\n",
      "krahul 40\n"
     ]
    }
   ],
   "source": [
    "l={'rohit':70,'kohli':70,'jadeja':40,'krahul':40}\n",
    "res={}\n",
    "for key,value in l.items():\n",
    "    print(key,value)\n"
   ]
  },
  {
   "cell_type": "code",
   "execution_count": 67,
   "id": "cd17f824-51ab-4475-b724-f1d3e0f1c2c0",
   "metadata": {},
   "outputs": [
    {
     "ename": "KeyError",
     "evalue": "70",
     "output_type": "error",
     "traceback": [
      "\u001b[1;31m---------------------------------------------------------------------------\u001b[0m",
      "\u001b[1;31mKeyError\u001b[0m                                  Traceback (most recent call last)",
      "Cell \u001b[1;32mIn[67], line 4\u001b[0m\n\u001b[0;32m      2\u001b[0m res\u001b[38;5;241m=\u001b[39m{}\n\u001b[0;32m      3\u001b[0m \u001b[38;5;28;01mfor\u001b[39;00m key,value \u001b[38;5;129;01min\u001b[39;00m l\u001b[38;5;241m.\u001b[39mitems(): \n\u001b[1;32m----> 4\u001b[0m     res[value]\u001b[38;5;241m.\u001b[39mappend(key)\n\u001b[0;32m      5\u001b[0m     \u001b[38;5;28mprint\u001b[39m(key,value)\n",
      "\u001b[1;31mKeyError\u001b[0m: 70"
     ]
    }
   ],
   "source": [
    "l={'rohit':70,'kohli':70,'jadeja':40,'krahul':40}\n",
    "res={}\n",
    "print(res[70])\n",
    "for key,value in l.items():  \n",
    "    res[value].append(key)\n",
    "    print(key,value)"
   ]
  },
  {
   "cell_type": "code",
   "execution_count": 69,
   "id": "a8c68188-e92f-48e5-9c71-3f9cf3fe7c5f",
   "metadata": {},
   "outputs": [
    {
     "name": "stdout",
     "output_type": "stream",
     "text": [
      "{}\n",
      "{}\n",
      "{}\n",
      "{}\n"
     ]
    }
   ],
   "source": [
    "l={'rohit':70,'kohli':70,'jadeja':40,'krahul':40}\n",
    "res={}\n",
    "for key,value in l.items():  \n",
    "    res.get(value,[]).append(key)\n",
    "    print(res)"
   ]
  },
  {
   "cell_type": "code",
   "execution_count": 75,
   "id": "0d0fb8ad-0e56-4449-b63f-103d1b231156",
   "metadata": {},
   "outputs": [
    {
     "name": "stdout",
     "output_type": "stream",
     "text": [
      "{70: ['rohit', 'kohli'], 40: ['jadeja', 'krahul']}\n"
     ]
    }
   ],
   "source": [
    "l={'rohit':70,'kohli':70,'jadeja':40,'krahul':40}\n",
    "res={}\n",
    "for key,value in l.items(): \n",
    "    if value in res:\n",
    "        res[value].append(key)\n",
    "    else:\n",
    "        res.update({value: [key]})\n",
    "print(res)"
   ]
  },
  {
   "cell_type": "code",
   "execution_count": 87,
   "id": "7a59d60a-01d7-41fa-b971-ef4f96fb2cb1",
   "metadata": {},
   "outputs": [
    {
     "ename": "NameError",
     "evalue": "name 'defaultdict' is not defined",
     "output_type": "error",
     "traceback": [
      "\u001b[1;31m---------------------------------------------------------------------------\u001b[0m",
      "\u001b[1;31mNameError\u001b[0m                                 Traceback (most recent call last)",
      "Cell \u001b[1;32mIn[87], line 2\u001b[0m\n\u001b[0;32m      1\u001b[0m l\u001b[38;5;241m=\u001b[39m{\u001b[38;5;124m'\u001b[39m\u001b[38;5;124mrohit\u001b[39m\u001b[38;5;124m'\u001b[39m:\u001b[38;5;241m70\u001b[39m,\u001b[38;5;124m'\u001b[39m\u001b[38;5;124mkohli\u001b[39m\u001b[38;5;124m'\u001b[39m:\u001b[38;5;241m70\u001b[39m,\u001b[38;5;124m'\u001b[39m\u001b[38;5;124mjadeja\u001b[39m\u001b[38;5;124m'\u001b[39m:\u001b[38;5;241m40\u001b[39m,\u001b[38;5;124m'\u001b[39m\u001b[38;5;124mkrahul\u001b[39m\u001b[38;5;124m'\u001b[39m:\u001b[38;5;241m40\u001b[39m}\n\u001b[1;32m----> 2\u001b[0m res\u001b[38;5;241m=\u001b[39mdefaultdict(l)\n\u001b[0;32m      3\u001b[0m \u001b[38;5;28;01mfor\u001b[39;00m key,value \u001b[38;5;129;01min\u001b[39;00m l\u001b[38;5;241m.\u001b[39mitems(): \n\u001b[0;32m      4\u001b[0m         res[value]\u001b[38;5;241m.\u001b[39mappend(key)\n",
      "\u001b[1;31mNameError\u001b[0m: name 'defaultdict' is not defined"
     ]
    }
   ],
   "source": [
    "l={'rohit':70,'kohli':70,'jadeja':40,'krahul':40}\n",
    "res=defaultdict(l)\n",
    "for key,value in l.items(): \n",
    "        res[value].append(key)\n",
    "print(res)"
   ]
  },
  {
   "cell_type": "code",
   "execution_count": null,
   "id": "d0a81728-41f8-4155-9b30-59afc3eafff3",
   "metadata": {},
   "outputs": [],
   "source": []
  }
 ],
 "metadata": {
  "kernelspec": {
   "display_name": "Python 3 (ipykernel)",
   "language": "python",
   "name": "python3"
  },
  "language_info": {
   "codemirror_mode": {
    "name": "ipython",
    "version": 3
   },
   "file_extension": ".py",
   "mimetype": "text/x-python",
   "name": "python",
   "nbconvert_exporter": "python",
   "pygments_lexer": "ipython3",
   "version": "3.12.4"
  }
 },
 "nbformat": 4,
 "nbformat_minor": 5
}
