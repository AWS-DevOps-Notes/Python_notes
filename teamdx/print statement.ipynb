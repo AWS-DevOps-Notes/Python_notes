{
 "cells": [
  {
   "cell_type": "code",
   "execution_count": 1,
   "id": "d9875b0b-9266-41da-88fa-5caf22a74940",
   "metadata": {},
   "outputs": [
    {
     "name": "stdout",
     "output_type": "stream",
     "text": [
      "1000 python [1, 2, 3, 4] (1, 2, 3, 4) {1, 2, 3, 4}\n"
     ]
    }
   ],
   "source": [
    "a=1000\n",
    "b='python'\n",
    "c=[1,2,3,4]\n",
    "d=(1,2,3,4)\n",
    "e={1,2,3,4}\n",
    "print(a,b,c,d,e)"
   ]
  },
  {
   "cell_type": "code",
   "execution_count": 13,
   "id": "3abe581e-7414-49ab-a1c3-5544f7f095a0",
   "metadata": {},
   "outputs": [
    {
     "name": "stdout",
     "output_type": "stream",
     "text": [
      "1000#python#[1, 2, 3, 4]#(1, 2, 3, 4)#{1, 2, 3, 4}\n"
     ]
    }
   ],
   "source": [
    "a=1000\n",
    "b='python'\n",
    "c=[1,2,3,4]\n",
    "d=(1,2,3,4)\n",
    "e={1,2,3,4}\n",
    "print(a,b,c,d,e,sep='#')"
   ]
  },
  {
   "cell_type": "code",
   "execution_count": 9,
   "id": "1bbb6ecc-33ba-4883-a1f0-c16c44884adb",
   "metadata": {},
   "outputs": [
    {
     "name": "stdout",
     "output_type": "stream",
     "text": [
      "1000\n",
      "python\n",
      "[1, 2, 3, 4]\n",
      "(1, 2, 3, 4)\n",
      "{1, 2, 3, 4}\n"
     ]
    }
   ],
   "source": [
    "print(a,b,c,d,e,sep='\\n')"
   ]
  },
  {
   "cell_type": "code",
   "execution_count": 11,
   "id": "3b793f2d-3cd2-40b2-bb23-9f8b58449286",
   "metadata": {},
   "outputs": [
    {
     "name": "stdout",
     "output_type": "stream",
     "text": [
      "1000#$python#$[1, 2, 3, 4]#$(1, 2, 3, 4)#${1, 2, 3, 4}\n"
     ]
    }
   ],
   "source": [
    "print(a,b,c,d,e,sep='#$')"
   ]
  },
  {
   "cell_type": "code",
   "execution_count": 15,
   "id": "7d19925a-d89f-4f60-9d96-18740236a4f6",
   "metadata": {},
   "outputs": [
    {
     "name": "stdout",
     "output_type": "stream",
     "text": [
      "5\n"
     ]
    }
   ],
   "source": [
    "s='hello'\n",
    "print(len(s))"
   ]
  },
  {
   "cell_type": "code",
   "execution_count": 17,
   "id": "293b0589-1d0a-4873-820a-2eed3507f1aa",
   "metadata": {},
   "outputs": [
    {
     "name": "stdout",
     "output_type": "stream",
     "text": [
      "1\n"
     ]
    }
   ],
   "source": [
    "s='\\n'\n",
    "print(len(s))"
   ]
  },
  {
   "cell_type": "code",
   "execution_count": 19,
   "id": "3e849330-5e58-4896-9bb3-7327c2ecd1a3",
   "metadata": {},
   "outputs": [
    {
     "name": "stdout",
     "output_type": "stream",
     "text": [
      "1000\n",
      "python\n",
      "[1, 2, 3, 4]\n",
      "(1, 2, 3, 4)\n",
      "{1, 2, 3, 4}\n",
      "1000 python [1, 2, 3, 4] (1, 2, 3, 4) {1, 2, 3, 4}\n"
     ]
    }
   ],
   "source": [
    "a=1000\n",
    "b='python'\n",
    "c=[1,2,3,4]\n",
    "d=(1,2,3,4)\n",
    "e={1,2,3,4}\n",
    "print(a,b,c,d,e,sep='\\n')\n",
    "print(a,b,c,d,e)"
   ]
  },
  {
   "cell_type": "code",
   "execution_count": 23,
   "id": "5ef9c40a-e213-499f-a957-35ff7063e4e9",
   "metadata": {},
   "outputs": [
    {
     "name": "stdout",
     "output_type": "stream",
     "text": [
      "1000\n",
      "python\n",
      "[1, 2, 3, 4]\n",
      "(1, 2, 3, 4)\n",
      "{1, 2, 3, 4}\n"
     ]
    }
   ],
   "source": [
    "a=1000\n",
    "b='python'\n",
    "c=[1,2,3,4]\n",
    "d=(1,2,3,4)\n",
    "e={1,2,3,4}\n",
    "print(a)\n",
    "print(b)\n",
    "print(c)\n",
    "print(d)\n",
    "print(e)"
   ]
  },
  {
   "cell_type": "code",
   "execution_count": 27,
   "id": "85ea02ae-b945-4269-be3b-f919709bc5a5",
   "metadata": {},
   "outputs": [
    {
     "name": "stdout",
     "output_type": "stream",
     "text": [
      "1000,python\n",
      "[1, 2, 3, 4]\n",
      "(1, 2, 3, 4)\n",
      "{1, 2, 3, 4}\n"
     ]
    }
   ],
   "source": [
    "a=1000\n",
    "b='python'\n",
    "c=[1,2,3,4]\n",
    "d=(1,2,3,4)\n",
    "e={1,2,3,4}\n",
    "print(a, end=',')\n",
    "print(b)\n",
    "print(c)\n",
    "print(d)\n",
    "print(e)"
   ]
  },
  {
   "cell_type": "code",
   "execution_count": 39,
   "id": "581a1d82-60bb-4a12-ac26-66d2dc360352",
   "metadata": {},
   "outputs": [
    {
     "name": "stdout",
     "output_type": "stream",
     "text": [
      "1000,python#[1, 2, 3, 4]$(10, 20, 30, 40)\n",
      "{56, 34, 12, 78}\n"
     ]
    }
   ],
   "source": [
    "a=1000\n",
    "b='python'\n",
    "c=[1,2,3,4]\n",
    "d=(10,20,30,40)\n",
    "e={12,34,56,78}\n",
    "print(a,end=',')\n",
    "print(b,end='#')\n",
    "print(c,end='$')\n",
    "print(d)\n",
    "print(e)"
   ]
  },
  {
   "cell_type": "code",
   "execution_count": null,
   "id": "37cbae02-002e-4003-9bb1-ccf04f551965",
   "metadata": {},
   "outputs": [],
   "source": []
  }
 ],
 "metadata": {
  "kernelspec": {
   "display_name": "Python 3 (ipykernel)",
   "language": "python",
   "name": "python3"
  },
  "language_info": {
   "codemirror_mode": {
    "name": "ipython",
    "version": 3
   },
   "file_extension": ".py",
   "mimetype": "text/x-python",
   "name": "python",
   "nbconvert_exporter": "python",
   "pygments_lexer": "ipython3",
   "version": "3.12.4"
  }
 },
 "nbformat": 4,
 "nbformat_minor": 5
}
