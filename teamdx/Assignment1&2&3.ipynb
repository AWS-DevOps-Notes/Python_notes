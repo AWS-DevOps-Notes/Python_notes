{
 "cells": [
  {
   "cell_type": "markdown",
   "id": "54185f23-e00d-48c1-8fd2-bc87ad1a5a5b",
   "metadata": {},
   "source": [
    "# Assignments on variables expressions and statements"
   ]
  },
  {
   "cell_type": "markdown",
   "id": "0e5964ec-6bd9-41de-bdb3-1686535af751",
   "metadata": {},
   "source": [
    "#### 1. Take the input from the user for(Total number of people,Number of seats for bus). Based on two inputs. \n",
    "#### Decide how many number of buses required"
   ]
  },
  {
   "cell_type": "code",
   "execution_count": 193,
   "id": "e6edf889-b4d3-4d50-9174-0a95ceeeda03",
   "metadata": {},
   "outputs": [
    {
     "name": "stdin",
     "output_type": "stream",
     "text": [
      "number of people: 2342\n",
      "number of seats: 21\n"
     ]
    },
    {
     "name": "stdout",
     "output_type": "stream",
     "text": [
      "Number of buses: 112\n"
     ]
    }
   ],
   "source": [
    "people = int(input(\"number of people:\"))\n",
    "seats = int(input(\"number of seats:\"))\n",
    "buses = (people+seats-1)//seats\n",
    "print(f\"Number of buses: {buses}\")"
   ]
  },
  {
   "cell_type": "markdown",
   "id": "6845dc8d-b230-4925-b876-9907c62036a1",
   "metadata": {},
   "source": [
    "#### 2. Take temperature from the user and convert \n",
    "#### Fahrenheit -> Celsius."
   ]
  },
  {
   "cell_type": "code",
   "execution_count": 197,
   "id": "29f540fd-6f59-4ec8-a95d-e6ef27641e96",
   "metadata": {},
   "outputs": [
    {
     "name": "stdin",
     "output_type": "stream",
     "text": [
      "Enter Fahrenheit Temp:  2432\n"
     ]
    },
    {
     "name": "stdout",
     "output_type": "stream",
     "text": [
      "Enter the Celsius temp is 1333.3333333333333\n"
     ]
    }
   ],
   "source": [
    "Fahrenheit = float(input(\"Enter Fahrenheit Temp: \"))\n",
    "Celsius = (Fahrenheit - 32) * 5/9\n",
    "print(f\"Enter the Celsius temp is {(Celsius)}\")"
   ]
  },
  {
   "cell_type": "markdown",
   "id": "5f3a9d7e-5787-4b5b-b41c-a56291866135",
   "metadata": {},
   "source": [
    "#### 3. Take temperature from the user and convert\n",
    "#### Celsius → Fahrenheit."
   ]
  },
  {
   "cell_type": "code",
   "execution_count": 199,
   "id": "cad259aa-f2e3-4974-94c9-0df157e9f91b",
   "metadata": {},
   "outputs": [
    {
     "name": "stdin",
     "output_type": "stream",
     "text": [
      "Enter Celsius Temp:  234\n"
     ]
    },
    {
     "name": "stdout",
     "output_type": "stream",
     "text": [
      "Enter the Fahrenheit temp is 453.2\n"
     ]
    }
   ],
   "source": [
    "Celsius = float(input(\"Enter Celsius Temp: \"))\n",
    "Fahrenheit = (Celsius * 9/5) + 32\n",
    "print(f\"Enter the Fahrenheit temp is {(Fahrenheit)}\")"
   ]
  },
  {
   "cell_type": "markdown",
   "id": "6836de41-6af8-4272-ada0-d5c66e1d7132",
   "metadata": {},
   "source": [
    "#### 4. take four number from the user (variables name it as x1,x2,x3,x4)\n",
    "```\n",
    " Do the below operations\n",
    " (x1+x2)**2, (x3+x4)**3\n",
    "    variance\n",
    "    standard deviation: sqrt(variance):  User math module. Math.sqrt(variance)\n",
    "    Regression\n",
    "\ty=mx+b\n",
    "    m=1.23\n",
    "    b=0.045\n",
    "    find out y\n",
    "    y=m*(x1+x2+x3+x4)+b\n",
    "Find the average of four numbers\n",
    "Find the sum of four numbers\n",
    "```"
   ]
  },
  {
   "cell_type": "code",
   "execution_count": 47,
   "id": "75fccd31-04b2-4248-9019-f5fdfe6e2472",
   "metadata": {},
   "outputs": [
    {
     "name": "stdin",
     "output_type": "stream",
     "text": [
      " 1\n",
      " 3\n",
      " 4\n",
      " 5\n"
     ]
    },
    {
     "name": "stdout",
     "output_type": "stream",
     "text": [
      "16\n",
      "729\n",
      "2.1875\n",
      "1.479019945774904\n",
      "16.035\n",
      "3.25\n",
      "13\n"
     ]
    }
   ],
   "source": [
    "#import math\n",
    "x1 = int(input())\n",
    "x2 = int(input())\n",
    "x3 = int(input())\n",
    "x4 = int(input())\n",
    "res1 = (x1+x2)**2\n",
    "res2 = (x3+x4)**3\n",
    "mean = (x1+x2+x3+x4)/4\n",
    "varience = ((x1-mean)**2 + (x2-mean)**2 + (x3-mean)**2 + (x4-mean)**2)/4\n",
    "std_dev = math.sqrt(varience)\n",
    "y = 1.23*(x1+x2+x3+x4)+0.045\n",
    "avg = mean\n",
    "sum_of_four = x1+x2+x3+x4\n",
    "print(res1)\n",
    "print(res2)\n",
    "print(varience)\n",
    "print(std_dev)\n",
    "print(y)\n",
    "print(avg)\n",
    "print(sum_of_four)"
   ]
  },
  {
   "cell_type": "markdown",
   "id": "1557b59f-edb5-4926-920c-fe8eb7b43028",
   "metadata": {},
   "source": [
    "#### 5. Take the distance in km\n",
    "#### Show that in cm, meters, in milli meters, cents, feets, yards"
   ]
  },
  {
   "cell_type": "code",
   "execution_count": 9,
   "id": "eaf4421f-d80e-49c5-bc43-43f2404b6127",
   "metadata": {},
   "outputs": [
    {
     "name": "stdin",
     "output_type": "stream",
     "text": [
      "Enter no. of Kilometers:  242\n"
     ]
    },
    {
     "name": "stdout",
     "output_type": "stream",
     "text": [
      " Kilometers:  24200000.00 cm\n",
      " Kilometers:  242000.00 m\n",
      " Kilometers:  242000000.00 mm\n",
      " Kilometers:  32.126 cents\n",
      " Kilometers:  793963.28 feets\n",
      " Kilometers:  264653.62 yards\n"
     ]
    }
   ],
   "source": [
    "Kilometers = float(input(\"Enter no. of Kilometers: \"))\n",
    "centimeters = Kilometers * 100000 \n",
    "meters = Kilometers * 1000 \n",
    "millimeters = Kilometers * 1000000\n",
    "cents = Kilometers * 0.13275 \n",
    "feets = Kilometers * 3280.84\n",
    "yards = Kilometers * 1093.61\n",
    "print(f\" Kilometers: {centimeters: .2f} cm\")  \n",
    "print(f\" Kilometers: {meters: .2f} m\")  \n",
    "print(f\" Kilometers: {millimeters: .2f} mm\")  \n",
    "print(f\" Kilometers: {cents: .3f} cents\")  \n",
    "print(f\" Kilometers: {feets: .2f} feets\")  \n",
    "print(f\" Kilometers: {yards: .2f} yards\")"
   ]
  },
  {
   "cell_type": "markdown",
   "id": "2dab76b8-d47b-4c02-b0f3-f109252f74c2",
   "metadata": {},
   "source": [
    "#### 6.Take the size of your hard disk in GB\n",
    "#### Show that in MB, KB, TB, PB"
   ]
  },
  {
   "cell_type": "code",
   "execution_count": 11,
   "id": "83c2a847-b7bf-40c8-8f4a-0703c8aa35d9",
   "metadata": {},
   "outputs": [
    {
     "name": "stdin",
     "output_type": "stream",
     "text": [
      "Enter size of hard disk in GB:  23\n"
     ]
    },
    {
     "name": "stdout",
     "output_type": "stream",
     "text": [
      " GB is 23552mb\n",
      " GB is 24117248kb\n",
      " GB is 0.02tb\n",
      " GB is 0.00pb\n"
     ]
    }
   ],
   "source": [
    "GB = int(input(\"Enter size of hard disk in GB: \"))\n",
    "MB = GB * 1024\n",
    "KB = GB * 1048576\n",
    "TB = GB / 1024\n",
    "PB = GB / (1024*1024)\n",
    "print(f\" GB is {MB}mb\")\n",
    "print(f\" GB is {KB}kb\")\n",
    "print(f\" GB is {TB:.2f}tb\")\n",
    "print(f\" GB is {PB:.2f}pb\")"
   ]
  },
  {
   "cell_type": "markdown",
   "id": "cd61ec4f-94a8-4692-b0da-4eff5384e918",
   "metadata": {},
   "source": [
    "#### 7. Take name, age, height from the user and print like below. \n",
    "#### The details of the person: Name:name of the person, Age:age of the person, Height:height of the person. \n",
    "#### Note: make sure that no space between : and a value and should be space after “COMA”"
   ]
  },
  {
   "cell_type": "code",
   "execution_count": 13,
   "id": "a87c44ca-ec43-40cc-aaf4-a95e6fabb1af",
   "metadata": {},
   "outputs": [
    {
     "name": "stdin",
     "output_type": "stream",
     "text": [
      " Enter name of person:  23\n",
      " Enter age of person:  432\n",
      " Enter height of person:  432\n"
     ]
    },
    {
     "name": "stdout",
     "output_type": "stream",
     "text": [
      " The details of the person: Name:23, Age:432, Height:432\n"
     ]
    }
   ],
   "source": [
    "Name = input(\" Enter name of person: \")\n",
    "Age = input(\" Enter age of person: \")\n",
    "Height = input(\" Enter height of person: \")\n",
    "print(f\" The details of the person: Name:{Name}, Age:{Age}, Height:{Height}\")"
   ]
  },
  {
   "cell_type": "markdown",
   "id": "b0df8e03-1076-40bc-99f0-5c016bf4d0b1",
   "metadata": {},
   "source": [
    "#### 8. BMI calculation: take required parameters for BMI calculation from the user and calculate BMI of the person."
   ]
  },
  {
   "cell_type": "code",
   "execution_count": 15,
   "id": "dd0f70ef-898a-4dff-89ad-03f8b49f7628",
   "metadata": {},
   "outputs": [
    {
     "name": "stdin",
     "output_type": "stream",
     "text": [
      "Enter the weight:  23\n",
      "Enter the height:  43\n"
     ]
    },
    {
     "name": "stdout",
     "output_type": "stream",
     "text": [
      "your BMI is :0.01\n"
     ]
    }
   ],
   "source": [
    "Weight = float(input(\"Enter the weight: \"))\n",
    "Height = float(input(\"Enter the height: \"))\n",
    "BMI = Weight / (Height ** 2)\n",
    "print(f\"your BMI is :{BMI:.2f}\")"
   ]
  },
  {
   "cell_type": "markdown",
   "id": "9ca92c37-c0e3-45b2-ac98-8d6d8cb735cf",
   "metadata": {},
   "source": [
    "#### 9. Write a program\n",
    "```\n",
    "name=\"Jayaram\", age=1.6, height=3.5356234, weight=10.343856783\n",
    "By using above inputs print the output\n",
    "Name:Jayaram, Age:1.6, Height:3.54, Weight:10.344\n",
    "Note: Use format specifiers(%s, %d, %f)\n",
    "```"
   ]
  },
  {
   "cell_type": "code",
   "execution_count": 17,
   "id": "cdab9de9-3007-459a-91fa-99d28f0f3baa",
   "metadata": {},
   "outputs": [
    {
     "name": "stdout",
     "output_type": "stream",
     "text": [
      "Enter details of person: \n",
      "Name:Jayaram, Age:1.6, Height:3.54, Weight:10.344\n"
     ]
    }
   ],
   "source": [
    "Name = \"Jayaram\"\n",
    "Age =  1.6\n",
    "Height = 3.5356234\n",
    "Weight = 10.343856783\n",
    "print(f\"Enter details of person: \\nName:%s, Age:%s, Height:%.2f, Weight:%.3f\"%(Name, Age, Height, Weight))"
   ]
  },
  {
   "cell_type": "markdown",
   "id": "0200100b-995d-42e1-a552-e497bb73ca8e",
   "metadata": {},
   "source": [
    "#### 10. Take three upper case letters from the user convert in to small case."
   ]
  },
  {
   "cell_type": "code",
   "execution_count": 1,
   "id": "15273118-a259-44ec-a89a-4bb3299a3301",
   "metadata": {},
   "outputs": [
    {
     "name": "stdin",
     "output_type": "stream",
     "text": [
      "Enter first upper case letter:  A\n",
      "Enter first upper case letter:  S\n",
      "Enter first upper case letter:  Q\n"
     ]
    },
    {
     "name": "stdout",
     "output_type": "stream",
     "text": [
      "asq\n"
     ]
    }
   ],
   "source": [
    "letter1 = input(\"Enter first upper case letter: \")\n",
    "letter2 = input(\"Enter first upper case letter: \")\n",
    "letter3 = input(\"Enter first upper case letter: \")\n",
    "First = chr(ord(f'{letter1}')+32)\n",
    "Second =chr(ord(f'{letter2}')+32)\n",
    "Third = chr(ord(f'{letter3}')+32)\n",
    "print(f\"{First}{Second}{Third}\")"
   ]
  },
  {
   "cell_type": "markdown",
   "id": "acfcff55-f9a3-4a32-ab9e-49a4698606a5",
   "metadata": {},
   "source": [
    "#### 11. take base and exponent value from the user and print like in mathematics:\n",
    "#### example: base=2, exponent=3: 23\n",
    "#### Use: 2\\u00b3"
   ]
  },
  {
   "cell_type": "code",
   "execution_count": 28,
   "id": "7b35854d-aeda-411e-a275-56683350b385",
   "metadata": {},
   "outputs": [
    {
     "name": "stdin",
     "output_type": "stream",
     "text": [
      "Enter a base value:  2\n",
      " Enter a Exponent:  3\n"
     ]
    },
    {
     "name": "stdout",
     "output_type": "stream",
     "text": [
      "2³ is 8\n"
     ]
    }
   ],
   "source": [
    "Base = int(input(\"Enter a base value: \"))\n",
    "Exponent=int(input(\" Enter a Exponent: \"))\n",
    "Value = Base ** Exponent\n",
    "print(f\"{int(Base)}\\u00b3 is {int(Value)}\")\n",
    "#print(f\"{int(Base)}^{int(Exponent)} is {Value}\")"
   ]
  },
  {
   "cell_type": "markdown",
   "id": "d4ca311d-1793-45b6-9cca-4b4cc346348d",
   "metadata": {},
   "source": [
    "#### 12. Take some groceries cost prices and print total cost and average cost, what is the max cost, what is the minimum cost."
   ]
  },
  {
   "cell_type": "code",
   "execution_count": 27,
   "id": "5bb72909-afeb-4f46-ad3c-dffc856752b2",
   "metadata": {},
   "outputs": [
    {
     "name": "stdout",
     "output_type": "stream",
     "text": [
      " Total cost for groceries: 325.90\n",
      " Average cost for groceries: 81.48\n",
      " Maximum cost for groceries: 200\n",
      " Minimum cost for groceries: 35\n"
     ]
    }
   ],
   "source": [
    "groceries = [35,45.3,200,45.6]\n",
    "total = sum(groceries)\n",
    "avg_cost = total/len(groceries)\n",
    "max_cost = max(groceries)\n",
    "min_cost = min(groceries)\n",
    "print(f\" Total cost for groceries: {total:.2f}\")\n",
    "print(f\" Average cost for groceries: {avg_cost:.2f}\")\n",
    "print(f\" Maximum cost for groceries: {max_cost}\")\n",
    "print(f\" Minimum cost for groceries: {min_cost}\")"
   ]
  },
  {
   "cell_type": "markdown",
   "id": "d804e110-2370-46d9-9560-66d50a506858",
   "metadata": {},
   "source": [
    "## Conditional Assignment"
   ]
  },
  {
   "cell_type": "markdown",
   "id": "88e23d56-bbe4-4195-b1e9-7a337fe02641",
   "metadata": {},
   "source": [
    "#### 13. Take the input from the user for(Total number of people, total number of buses, Number of seats for bus, adjust factor). Based on four inputs\n",
    "#### Decide whether there is sufficient buses or not and give solution for how many extra buses required."
   ]
  },
  {
   "cell_type": "code",
   "execution_count": null,
   "id": "09b3775a-8962-4616-8c54-43b71b491926",
   "metadata": {},
   "outputs": [],
   "source": []
  },
  {
   "cell_type": "code",
   "execution_count": 207,
   "id": "560267b1-7c03-4577-b59c-d6d12b82adb2",
   "metadata": {},
   "outputs": [
    {
     "name": "stdin",
     "output_type": "stream",
     "text": [
      "Total no. of people: 100\n",
      "Total no. of buses:  10\n",
      "Total no. of seats: 8\n",
      "Enter adjust_factor:  0.9\n"
     ]
    },
    {
     "name": "stdout",
     "output_type": "stream",
     "text": [
      "Number of buses required: 4\n"
     ]
    }
   ],
   "source": [
    "people = int(input(\"Total no. of people:\"))\n",
    "buses = int(input(\"Total no. of buses: \"))\n",
    "seats = int(input(\"Total no. of seats:\"))\n",
    "adjust_factor = float(input(\"Enter adjust_factor: \"))\n",
    "\n",
    "Total_seating = buses * seats * adjust_factor\n",
    "\n",
    "if Total_seating > people:\n",
    "    print(f\"No buses is required. current number of buses: {buses}\")\n",
    "else:\n",
    "    Buses_required = (people-Total_seating)/(seats*adjust_factor)\n",
    "    Buses_required = float(Buses_required) + 1\n",
    "    print(f\"Number of buses required: {int(Buses_required)}\")"
   ]
  },
  {
   "cell_type": "markdown",
   "id": "00b7ddb3-104b-4f19-9951-38c3d1306df7",
   "metadata": {},
   "source": [
    "#### 14.Take number from the user decide whether it is even or odd."
   ]
  },
  {
   "cell_type": "code",
   "execution_count": 136,
   "id": "5e401dd4-b41d-4921-815f-9ee942c7d378",
   "metadata": {},
   "outputs": [
    {
     "name": "stdin",
     "output_type": "stream",
     "text": [
      "Enter a number:  9\n"
     ]
    },
    {
     "name": "stdout",
     "output_type": "stream",
     "text": [
      "9 value is odd\n"
     ]
    }
   ],
   "source": [
    "number = int(input(\"Enter a number: \"))\n",
    "value = number%2\n",
    "if value == 0:\n",
    "    print(f\"{number} value is Even\")\n",
    "else:\n",
    "    print(f\"{number} value is odd\")"
   ]
  },
  {
   "cell_type": "code",
   "execution_count": 138,
   "id": "7a8a7a57-27d5-47ac-bc39-20cc2b560a66",
   "metadata": {},
   "outputs": [
    {
     "name": "stdin",
     "output_type": "stream",
     "text": [
      "Enter a number:  4\n"
     ]
    },
    {
     "name": "stdout",
     "output_type": "stream",
     "text": [
      "4 value is Even\n"
     ]
    }
   ],
   "source": [
    "number = int(input(\"Enter a number: \"))\n",
    "value = number%2\n",
    "if value == 0:\n",
    "    print(f\"{number} value is Even\")\n",
    "else:\n",
    "    print(f\"{number} value is odd\")"
   ]
  },
  {
   "cell_type": "markdown",
   "id": "8ea0a140-8caa-448d-b6aa-6e9fadb41965",
   "metadata": {},
   "source": [
    "#### 15. Take number from the user decide whether it is positive number or negative number"
   ]
  },
  {
   "cell_type": "code",
   "execution_count": 140,
   "id": "4f3f3e75-9d67-4f98-ac83-2f5ed0c5255a",
   "metadata": {},
   "outputs": [
    {
     "name": "stdin",
     "output_type": "stream",
     "text": [
      "Enter a number:  -1\n"
     ]
    },
    {
     "name": "stdout",
     "output_type": "stream",
     "text": [
      "-1 value is Negative\n"
     ]
    }
   ],
   "source": [
    "number = int(input(\"Enter a number: \"))\n",
    "if number > 0:\n",
    "    print(f\"{number} value is Positive\")\n",
    "else:\n",
    "    print(f\"{number} value is Negative\")"
   ]
  },
  {
   "cell_type": "code",
   "execution_count": 142,
   "id": "c3a01b2d-58bb-421f-a516-8b882bb39c6a",
   "metadata": {},
   "outputs": [
    {
     "name": "stdin",
     "output_type": "stream",
     "text": [
      "Enter a number:  1\n"
     ]
    },
    {
     "name": "stdout",
     "output_type": "stream",
     "text": [
      "1 value is Positive\n"
     ]
    }
   ],
   "source": [
    "number = int(input(\"Enter a number: \"))\n",
    "if number > 0:\n",
    "    print(f\"{number} value is Positive\")\n",
    "else:\n",
    "    print(f\"{number} value is Negative\")"
   ]
  },
  {
   "cell_type": "markdown",
   "id": "70d01e90-c02d-4433-8bcc-98c94e61a91c",
   "metadata": {},
   "source": [
    "#### 16. Take a string from the user print the length. if the user not given anything then show an error message"
   ]
  },
  {
   "cell_type": "code",
   "execution_count": 182,
   "id": "e46f817a-22e5-4f9e-b896-1d5d1e364a40",
   "metadata": {},
   "outputs": [
    {
     "name": "stdin",
     "output_type": "stream",
     "text": [
      "Enter word:  hyderabad\n"
     ]
    },
    {
     "name": "stdout",
     "output_type": "stream",
     "text": [
      "hyderabad is 9\n"
     ]
    }
   ],
   "source": [
    "Word_length = input(\"Enter word: \")\n",
    "print(f\"{Word_length} is {len(Word_length)}\") "
   ]
  },
  {
   "cell_type": "code",
   "execution_count": 191,
   "id": "1c4d95ad-5fc7-42bb-96ed-32a1ee7ca614",
   "metadata": {},
   "outputs": [
    {
     "name": "stdin",
     "output_type": "stream",
     "text": [
      "Enter word:  \n"
     ]
    },
    {
     "name": "stdout",
     "output_type": "stream",
     "text": [
      "Error: value is not entered\n"
     ]
    }
   ],
   "source": [
    "word_len = input(\"Enter word: \")\n",
    "if len(word_len) == 0:\n",
    "    print(\"Error: value is not entered\")\n",
    "else:\n",
    "    print(f\"The length of entered word is {len(word_len)}\")    "
   ]
  },
  {
   "cell_type": "markdown",
   "id": "9edb1154-fd0b-453e-9a84-ed3b80ad8471",
   "metadata": {},
   "source": [
    "## 13-09-2024"
   ]
  },
  {
   "cell_type": "markdown",
   "id": "ca92f9f1-635d-44ab-99d4-db8952403425",
   "metadata": {},
   "source": [
    "#### 17. code to perform mathematical operations. take two numbers from the user and show the below menu\n",
    "```\n",
    "1.add\n",
    "2.sub\t\n",
    "3.mul\n",
    "4.div \n",
    "5.quit\n",
    "Enter an option: based on the option need to perform an operation\n",
    "```"
   ]
  },
  {
   "cell_type": "code",
   "execution_count": 39,
   "id": "e8dc68c5-74aa-4e1d-910a-75bfe0e689a6",
   "metadata": {},
   "outputs": [
    {
     "name": "stdin",
     "output_type": "stream",
     "text": [
      "Enter 'a' value:  100\n",
      "Enter 'b' value:  50\n"
     ]
    },
    {
     "name": "stdout",
     "output_type": "stream",
     "text": [
      "1.add\n",
      "2.sub\n",
      "3.mul\n",
      "4.division\n",
      "5.quit\n"
     ]
    },
    {
     "name": "stdin",
     "output_type": "stream",
     "text": [
      "Enter an option: 1\n"
     ]
    },
    {
     "name": "stdout",
     "output_type": "stream",
     "text": [
      "150\n",
      "Thank you\n"
     ]
    }
   ],
   "source": [
    "a = int(input(\"Enter 'a' value: \"))\n",
    "b = int(input(\"Enter 'b' value: \"))\n",
    "print( \"1.add\\n2.sub\\n3.mul\\n4.division\\n5.quit\")\n",
    "opt = input(\"Enter an option:\")\n",
    "if opt==\"1\": \n",
    "    print(a+b)\n",
    "elif opt==\"2\":  \n",
    "    print(a-b)\n",
    "elif opt==\"3\": \n",
    "    print(a*b)\n",
    "elif opt==\"4\":  \n",
    "    print(a/b)\n",
    "elif opt==\"5\":  \n",
    "    print(\"quit\")\n",
    "else:\n",
    "    print(\"enter valid option\")\n",
    "print(\"Thank you\")"
   ]
  },
  {
   "cell_type": "code",
   "execution_count": 41,
   "id": "8c63ac62-b7eb-4193-b12d-e7a23007ccbd",
   "metadata": {},
   "outputs": [
    {
     "name": "stdin",
     "output_type": "stream",
     "text": [
      "Enter 'a' value:  200\n",
      "Enter 'b' value:  100\n"
     ]
    },
    {
     "name": "stdout",
     "output_type": "stream",
     "text": [
      "1.add\n",
      "2.sub\n",
      "3.mul\n",
      "4.division\n",
      "5.quit\n"
     ]
    },
    {
     "name": "stdin",
     "output_type": "stream",
     "text": [
      "Enter an option: 2\n"
     ]
    },
    {
     "name": "stdout",
     "output_type": "stream",
     "text": [
      "100\n",
      "Thank you\n"
     ]
    }
   ],
   "source": [
    "a = int(input(\"Enter 'a' value: \"))\n",
    "b = int(input(\"Enter 'b' value: \"))\n",
    "print( \"1.add\\n2.sub\\n3.mul\\n4.division\\n5.quit\")\n",
    "opt = input(\"Enter an option:\")\n",
    "if opt==\"1\": \n",
    "    print(a+b)\n",
    "elif opt==\"2\":  \n",
    "    print(a-b)\n",
    "elif opt==\"3\": \n",
    "    print(a*b)\n",
    "elif opt==\"4\":  \n",
    "    print(a/b)\n",
    "elif opt==\"5\":  \n",
    "    print(\"quit\")\n",
    "else:\n",
    "    print(\"enter valid option\")\n",
    "print(\"Thank you\")"
   ]
  },
  {
   "cell_type": "code",
   "execution_count": 43,
   "id": "9fc5c81b-50a5-42a2-8edd-d93d133700b5",
   "metadata": {},
   "outputs": [
    {
     "name": "stdin",
     "output_type": "stream",
     "text": [
      "Enter 'a' value:  100\n",
      "Enter 'b' value:  20\n"
     ]
    },
    {
     "name": "stdout",
     "output_type": "stream",
     "text": [
      "1.add\n",
      "2.sub\n",
      "3.mul\n",
      "4.division\n",
      "5.quit\n"
     ]
    },
    {
     "name": "stdin",
     "output_type": "stream",
     "text": [
      "Enter an option: 3\n"
     ]
    },
    {
     "name": "stdout",
     "output_type": "stream",
     "text": [
      "2000\n",
      "Thank you\n"
     ]
    }
   ],
   "source": [
    "a = int(input(\"Enter 'a' value: \"))\n",
    "b = int(input(\"Enter 'b' value: \"))\n",
    "print( \"1.add\\n2.sub\\n3.mul\\n4.division\\n5.quit\")\n",
    "opt = input(\"Enter an option:\")\n",
    "if opt==\"1\": \n",
    "    print(a+b)\n",
    "elif opt==\"2\":  \n",
    "    print(a-b)\n",
    "elif opt==\"3\": \n",
    "    print(a*b)\n",
    "elif opt==\"4\":  \n",
    "    print(a/b)\n",
    "elif opt==\"5\":  \n",
    "    print(\"quit\")\n",
    "else:\n",
    "    print(\"enter valid option\")\n",
    "print(\"Thank you\")"
   ]
  },
  {
   "cell_type": "code",
   "execution_count": 45,
   "id": "e37c5543-d20a-4d46-9b41-5caf13b9af50",
   "metadata": {},
   "outputs": [
    {
     "name": "stdin",
     "output_type": "stream",
     "text": [
      "Enter 'a' value:  200\n",
      "Enter 'b' value:  10\n"
     ]
    },
    {
     "name": "stdout",
     "output_type": "stream",
     "text": [
      "1.add\n",
      "2.sub\n",
      "3.mul\n",
      "4.division\n",
      "5.quit\n"
     ]
    },
    {
     "name": "stdin",
     "output_type": "stream",
     "text": [
      "Enter an option: 4\n"
     ]
    },
    {
     "name": "stdout",
     "output_type": "stream",
     "text": [
      "20.0\n",
      "Thank you\n"
     ]
    }
   ],
   "source": [
    "a = int(input(\"Enter 'a' value: \"))\n",
    "b = int(input(\"Enter 'b' value: \"))\n",
    "print( \"1.add\\n2.sub\\n3.mul\\n4.division\\n5.quit\")\n",
    "opt = input(\"Enter an option:\")\n",
    "if opt==\"1\": \n",
    "    print(a+b)\n",
    "elif opt==\"2\":  \n",
    "    print(a-b)\n",
    "elif opt==\"3\": \n",
    "    print(a*b)\n",
    "elif opt==\"4\":  \n",
    "    print(a/b)\n",
    "elif opt==\"5\":  \n",
    "    print(\"quit\")\n",
    "else:\n",
    "    print(\"enter valid option\")\n",
    "print(\"Thank you\")"
   ]
  },
  {
   "cell_type": "code",
   "execution_count": 53,
   "id": "21a41be6-14e2-4875-be1f-e3a4823712bb",
   "metadata": {},
   "outputs": [
    {
     "name": "stdin",
     "output_type": "stream",
     "text": [
      "Enter 'a' value:  40\n",
      "Enter 'b' value:  6\n"
     ]
    },
    {
     "name": "stdout",
     "output_type": "stream",
     "text": [
      "1.add\n",
      "2.sub\n",
      "3.mul\n",
      "4.division\n",
      "5.quit\n"
     ]
    },
    {
     "name": "stdin",
     "output_type": "stream",
     "text": [
      "Enter an option: 5\n"
     ]
    },
    {
     "name": "stdout",
     "output_type": "stream",
     "text": [
      "quit\n",
      "Thank you\n"
     ]
    }
   ],
   "source": [
    "a = int(input(\"Enter 'a' value: \"))\n",
    "b = int(input(\"Enter 'b' value: \"))\n",
    "print( \"1.add\\n2.sub\\n3.mul\\n4.division\\n5.quit\")\n",
    "opt = input(\"Enter an option:\")\n",
    "if opt==\"1\": \n",
    "    print(a+b)\n",
    "elif opt==\"2\":  \n",
    "    print(a-b)\n",
    "elif opt==\"3\": \n",
    "    print(a*b)\n",
    "elif opt==\"4\":  \n",
    "    print(a/b)\n",
    "elif opt==\"5\":  \n",
    "    print(\"quit\")\n",
    "else:\n",
    "    print(\"enter valid option\")\n",
    "print(\"Thank you\")"
   ]
  },
  {
   "cell_type": "markdown",
   "id": "0202e74d-3334-43c5-bc44-b4acda3f5c9d",
   "metadata": {},
   "source": [
    "### 18. show the menu:\n",
    "```\n",
    "1. kids\n",
    "2. Men's\n",
    "3. Women's\n",
    "Show the corresponding message based on the selection.\n",
    "Option:1: you are a kid\n",
    "       2: you are a gentlemen\n",
    "       3: you are a good women\n",
    " Mention error message if the option value >3.\n",
    "```"
   ]
  },
  {
   "cell_type": "code",
   "execution_count": 69,
   "id": "2f42cefb-c2f6-44d1-a974-36946135931e",
   "metadata": {},
   "outputs": [
    {
     "name": "stdout",
     "output_type": "stream",
     "text": [
      "Menu:\n",
      "1. Kids\n",
      "2. Men's\n",
      "3. Women's\n"
     ]
    },
    {
     "name": "stdin",
     "output_type": "stream",
     "text": [
      "Select an option (1, 2, or 3):  1\n"
     ]
    },
    {
     "name": "stdout",
     "output_type": "stream",
     "text": [
      "You are a kid.\n",
      "Thank you for shopping\n"
     ]
    }
   ],
   "source": [
    "print(\"Menu:\\n1. Kids\\n2. Men's\\n3. Women's\")\n",
    "option = int(input(\"Select an option (1, 2, or 3): \"))\n",
    "if option == 1:\n",
    "    print(\"You are a kid.\")\n",
    "elif option == 2:\n",
    "    print(\"You are a gentleman.\")\n",
    "elif option == 3:\n",
    "    print(\"You are a good woman.\")\n",
    "else:\n",
    "    print(\"Invalid option. Please select 1, 2, or 3.\")\n",
    "print(\"Thank you for shopping\")"
   ]
  },
  {
   "cell_type": "code",
   "execution_count": 71,
   "id": "211255d3-1c8d-4c55-9cf3-16271e45ce4c",
   "metadata": {},
   "outputs": [
    {
     "name": "stdout",
     "output_type": "stream",
     "text": [
      "Menu:\n",
      "1. Kids\n",
      "2. Men's\n",
      "3. Women's\n"
     ]
    },
    {
     "name": "stdin",
     "output_type": "stream",
     "text": [
      "Select an option (1, 2, or 3):  4\n"
     ]
    },
    {
     "name": "stdout",
     "output_type": "stream",
     "text": [
      "Invalid option. Please select 1, 2, or 3.\n",
      "Thank you for shopping\n"
     ]
    }
   ],
   "source": [
    "print(\"Menu:\\n1. Kids\\n2. Men's\\n3. Women's\")\n",
    "option = int(input(\"Select an option (1, 2, or 3): \"))\n",
    "if option == 1:\n",
    "    print(\"You are a kid.\")\n",
    "elif option == 2:\n",
    "    print(\"You are a gentleman.\")\n",
    "elif option == 3:\n",
    "    print(\"You are a good woman.\")\n",
    "else:\n",
    "    print(\"Invalid option. Please select 1, 2, or 3.\")\n",
    "print(\"Thank you for shopping\")"
   ]
  },
  {
   "cell_type": "markdown",
   "id": "91087043-6a3b-4edc-9e91-8f86c9228c6e",
   "metadata": {},
   "source": [
    "#### 19. write a program to chcek given substring is there in actual string or not?\n",
    "    example: act=\"python is a pure object oriented programing language\"\n",
    "    check whether “pure” is there in act or not.\n",
    "    Note: Use in operator"
   ]
  },
  {
   "cell_type": "code",
   "execution_count": 73,
   "id": "0fcb2b72-e73b-4c89-bcbf-1dce264e502e",
   "metadata": {},
   "outputs": [
    {
     "name": "stdin",
     "output_type": "stream",
     "text": [
      "Enter a sentence: hi hello\n",
      "Enter the word to search in sentence: hi\n"
     ]
    },
    {
     "name": "stdout",
     "output_type": "stream",
     "text": [
      "yes\n"
     ]
    }
   ],
   "source": [
    "act = input(\"Enter a sentence:\")\n",
    "word = input(\"Enter the word to search in sentence:\")\n",
    "if word in act:#print yes if the word is present in sentence\n",
    "    print(\"yes\")\n",
    "else:\n",
    "    print(\"no\")"
   ]
  },
  {
   "cell_type": "markdown",
   "id": "5dd70723-229a-4d23-b00e-82f5c3be6d87",
   "metadata": {},
   "source": [
    "#### 20. Take three numbers from the user and decide which is big"
   ]
  },
  {
   "cell_type": "code",
   "execution_count": 77,
   "id": "c30cbe10-58db-451d-91c3-8078251817b2",
   "metadata": {},
   "outputs": [
    {
     "name": "stdin",
     "output_type": "stream",
     "text": [
      "Enter the first number: 6\n",
      "Enter the second number: 7\n",
      "Enter the third number: 8\n"
     ]
    },
    {
     "name": "stdout",
     "output_type": "stream",
     "text": [
      "8 is bigger\n"
     ]
    }
   ],
   "source": [
    "num1 = input(\"Enter the first number:\")\n",
    "num2 = input(\"Enter the second number:\")\n",
    "num3 = input(\"Enter the third number:\")\n",
    "if float(num1)>float(num2) and float(num1)>float(num3):\n",
    "    print(f\"{num1} is bigger\")\n",
    "elif float(num2)>float(num1) and float(num2)>float(num3):\n",
    "    print(f\"{num2} is bigger\")\n",
    "else:\n",
    "    print(f\"{num3} is bigger\")"
   ]
  },
  {
   "cell_type": "markdown",
   "id": "e133737c-2256-4c9c-a6b0-fcf40fe34c62",
   "metadata": {},
   "source": [
    "####  21. Take age and gender from the user and decide whether he is eligible for \tmarriage in India or not.\n",
    "        Age criteria: men age>24, women>21"
   ]
  },
  {
   "cell_type": "code",
   "execution_count": null,
   "id": "b666ccfc-86a1-4836-bbd4-d3b583dcc73b",
   "metadata": {},
   "outputs": [],
   "source": [
    "age = input(\"Enter the age:\")\n",
    "gender = input(\"Enter the gender(male/female):\")\n",
    "# Check eligibility for marriage based on gender and age\n",
    "if gender == 'male':\n",
    "    if int(age)>24:\n",
    "      print(\"you are eligible for marriage in India\")\n",
    "    else:\n",
    "      print(\"You are not eligible for marriage in India\")\n",
    "elif gender == 'female':\n",
    "    if int(age)>21:\n",
    "        print(\"you are eligible for marriage in India\")\n",
    "    else:\n",
    "        print(\"You are not eligible for marriage in India\")\n",
    "else:\n",
    "    print(\"Invalid gender. Please enter male or female\")"
   ]
  },
  {
   "cell_type": "markdown",
   "id": "71ac62df-f117-4a70-b641-51370ebe4b2c",
   "metadata": {},
   "source": [
    "#### 22. Take an age  and gender from the user: and mention that what he/she can \tdo in india.\n",
    "```\n",
    "conditions\n",
    "\n",
    "1. Theatre: 5 for men 7 for women\n",
    "    \t2. Voting system: 18 for men and women\n",
    "    \t3. Marriage in india: 23 for men and for women >21\n",
    "    \t4. For govt jobs: (min:18, max:32)  for men and (min:18, max:34) for \twomen\n",
    "   \t \t5. For driving licence: (min:18, max:60) for men and women\n",
    "\tEligibility:\n",
    "   \t\t1. theatre\n",
    "\t\t\t2.  Voting system\n",
    "\t\t\t3.  Marriage in india\n",
    "\t\t\t4.  For govt obs\n",
    "\t\t\t5. For driving licence:\n",
    "\tEnter an option:\n",
    "\t\tGender:\n",
    "\t\t\t1. men\n",
    "\t\t\t2. women\n",
    "\tEnter an option:\n",
    "\t\tEnter an age of person:\n",
    "```"
   ]
  },
  {
   "cell_type": "code",
   "execution_count": 100,
   "id": "90f67822-d723-4005-b0e7-c75d53453275",
   "metadata": {},
   "outputs": [
    {
     "name": "stdout",
     "output_type": "stream",
     "text": [
      "1.Men\n",
      "2.Women\n"
     ]
    },
    {
     "name": "stdin",
     "output_type": "stream",
     "text": [
      "Enter gender 1\n",
      "enter an age: 44\n"
     ]
    },
    {
     "name": "stdout",
     "output_type": "stream",
     "text": [
      "can apply for voting\n",
      "can apply for driving licence\n",
      "can got to movie\n",
      "can get married\n"
     ]
    }
   ],
   "source": [
    "print(\"1.Men\\n2.Women\")\n",
    "gender = input(\"Enter gender\")\n",
    "age = input(\"enter an age:\")\n",
    "age = float(age)\n",
    "if age>=18:\n",
    "         print(\"can apply for voting\")\n",
    "if age>=18 and age<=60:\n",
    "        print(\"can apply for driving licence\")\n",
    "if gender==\"1\":\n",
    "     if age>=5:\n",
    "         print(\"can got to movie\")\n",
    "     if age>=23:\n",
    "        print(\"can get married\")\n",
    "     if age>=18 and age<=32:\n",
    "        print(\"can apply for govt gobs\")\n",
    "else:\n",
    "     if age>=7:\n",
    "         print(\"can go to movie\")\n",
    "     if age>=18:\n",
    "         print(\"can apply for voting\")\n",
    "     if age>=21:\n",
    "        print(\"can get married\")\n",
    "     if age>=18 and age<=34:\n",
    "        print(\"can apply for govt gobs\")"
   ]
  },
  {
   "cell_type": "markdown",
   "id": "f2e5047c-d8d1-4d5c-9c57-46595c668caa",
   "metadata": {},
   "source": [
    "### 23. operating systems:\n",
    "```\n",
    "\t1.windows\n",
    "\t2.android\n",
    "\t3.mac\n",
    "Enter an option:\n",
    "\n",
    "If the user enters 1 then show \"Goto first floor and buy windows laptop or mobile\"\n",
    "If the user enters 2 then show \"Goto second floor and buy adroid mobiles\"\n",
    "If the user enters 3 then show \"Goto third floor and buy mac laptop or iphones\"\n",
    "If the user enters other than 1 or 2 or 3 then show \"There is only three floors, please select 1 or 2 or 3\"\n",
    "```"
   ]
  },
  {
   "cell_type": "code",
   "execution_count": 88,
   "id": "ffe534d7-2ece-490f-86f0-26de1b6b0009",
   "metadata": {},
   "outputs": [
    {
     "name": "stdout",
     "output_type": "stream",
     "text": [
      "Operating Systems:\n",
      "\t1.Windows\n",
      "\t2.Android\n",
      "\t3.MAC\n"
     ]
    },
    {
     "name": "stdin",
     "output_type": "stream",
     "text": [
      "Enter the option(1-3): 1\n"
     ]
    },
    {
     "name": "stdout",
     "output_type": "stream",
     "text": [
      "Go to first floor and buy windows laptop or mobile\n"
     ]
    }
   ],
   "source": [
    "print(\"Operating Systems:\\n\\t1.Windows\\n\\t2.Android\\n\\t3.MAC\")\n",
    " \n",
    "option = input(\"Enter the option(1-3):\")\n",
    "# Checks if option is 1\n",
    "if option == '1':\n",
    "    print(\"Go to first floor and buy windows laptop or mobile\")\n",
    "# Checks if option is 2 \n",
    "elif option == '2':\n",
    "    print(\"Go to second floor and buy android mobiles\")\n",
    "# Checks if option is 3\n",
    "elif option == '3':\n",
    "    print(\"Go to third floor and buy mac laptop or iphones\")\n",
    "else:\n",
    "    print(\"There is only three floors, please select 1 or 2 or 3\")"
   ]
  },
  {
   "cell_type": "markdown",
   "id": "75e9cebc-46d0-4414-9889-fb69d4b94ddb",
   "metadata": {},
   "source": [
    "#### 24.Given an age, figure out whether someone's a baby, toddler, child, teenager, adult or old codger."
   ]
  },
  {
   "cell_type": "code",
   "execution_count": 86,
   "id": "257b4006-5a68-4829-a988-94b0d7d0a89f",
   "metadata": {},
   "outputs": [
    {
     "name": "stdin",
     "output_type": "stream",
     "text": [
      "Enter the age:  7\n"
     ]
    },
    {
     "name": "stdout",
     "output_type": "stream",
     "text": [
      "Child\n"
     ]
    }
   ],
   "source": [
    "age = int(input(\"Enter the age: \"))\n",
    " \n",
    "# Determine the category based on age\n",
    "if age < 2:\n",
    "    print(\"Baby\")\n",
    "elif 2 <= age < 4:\n",
    "    print(\"Toddler\")\n",
    "elif 4 <= age < 13:\n",
    "    print(\"Child\")\n",
    "elif 13 <= age < 20:\n",
    "    print(\"Teenager\")\n",
    "elif 20 <= age < 65:\n",
    "    print(\"Adult\")\n",
    "else:\n",
    "    print(\"Old Codger\")"
   ]
  },
  {
   "cell_type": "markdown",
   "id": "3a398bdc-8759-46ac-968a-e337e13ff57a",
   "metadata": {},
   "source": [
    "#### 25.Take two number a,b from the user and check whether a is divisible by b or not"
   ]
  },
  {
   "cell_type": "code",
   "execution_count": 96,
   "id": "effdd050-1d5a-4724-99a9-bb300d1903e8",
   "metadata": {},
   "outputs": [
    {
     "name": "stdin",
     "output_type": "stream",
     "text": [
      "Enter number a: 23.\n",
      "Enter number b: 23.4\n"
     ]
    },
    {
     "name": "stdout",
     "output_type": "stream",
     "text": [
      "23.0 is not divisible by 23.4\n"
     ]
    }
   ],
   "source": [
    "a = input(\"Enter number a:\")\n",
    "b= input(\"Enter number b:\")\n",
    "a = float(a)\n",
    "b = float(b)\n",
    "if a%b == 0:\n",
    "    print(f\"{a} is divisible by {b}\")\n",
    "else:\n",
    "    print(f\"{a} is not divisible by {b}\")"
   ]
  },
  {
   "cell_type": "markdown",
   "id": "401581d4-a250-47eb-b2e3-95d6ab6de8ea",
   "metadata": {},
   "source": [
    "#### 26. Take a letter from the user and print that letter belongs to which category I.e is it a small letter or capital letter or number or special symbol"
   ]
  },
  {
   "cell_type": "code",
   "execution_count": 98,
   "id": "68757d1c-ca7a-4afa-a40e-d2962f94f5b8",
   "metadata": {},
   "outputs": [
    {
     "name": "stdin",
     "output_type": "stream",
     "text": [
      "Enter a character:  a\n"
     ]
    },
    {
     "name": "stdout",
     "output_type": "stream",
     "text": [
      "The given character is a small letter\n"
     ]
    }
   ],
   "source": [
    "character = input(\"Enter a character: \")\n",
    " \n",
    "# Get the ASCII value of the character\n",
    "ascii_value = ord(character)\n",
    " \n",
    "# Check if the character is a special symbol\n",
    "if (32 <= ascii_value <= 47) or (58 <= ascii_value <= 64) or (91 <= ascii_value <= 96) or (123 <= ascii_value <= 126):\n",
    "    print(\"The given character is a special symbol\")\n",
    "# Check if the character is a number\n",
    "elif 48 <= ascii_value <= 57:\n",
    "    print(\"The given character is a number\")\n",
    "# Check if the character is a capital letter\n",
    "elif 65 <= ascii_value <= 90:\n",
    "    print(\"The given character is a capital letter\")\n",
    "# Check if the character is a small letter\n",
    "elif 97 <= ascii_value <= 122:\n",
    "    print(\"The given character is a small letter\")\n",
    "else:\n",
    "    print(\"Invalid input\")"
   ]
  },
  {
   "cell_type": "code",
   "execution_count": null,
   "id": "1c5c36b1-bc33-4887-bce9-54926dcadd7a",
   "metadata": {},
   "outputs": [],
   "source": []
  }
 ],
 "metadata": {
  "kernelspec": {
   "display_name": "Python 3 (ipykernel)",
   "language": "python",
   "name": "python3"
  },
  "language_info": {
   "codemirror_mode": {
    "name": "ipython",
    "version": 3
   },
   "file_extension": ".py",
   "mimetype": "text/x-python",
   "name": "python",
   "nbconvert_exporter": "python",
   "pygments_lexer": "ipython3",
   "version": "3.12.4"
  }
 },
 "nbformat": 4,
 "nbformat_minor": 5
}
